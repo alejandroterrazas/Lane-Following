{
 "cells": [
  {
   "cell_type": "markdown",
   "metadata": {},
   "source": [
    "## Line Detection Pipeline: \n",
    "# This part of the pipeline is for extracting lines from videos.    \n",
    "\n",
    "As usual, edge detection is always a challenge.  A variety of edge types and color spaces\n",
    "were used to create edges.  The code also includes the perspective transformation that\n",
    "change the view to bird's eye view.  \n",
    "\n",
    "All edge functions are in the file edge_utils,py.  Hence, import edge_utils as eu\n",
    "\n",
    "As in the previous lesson, moviepy is used to read and write mpg files.\n",
    "MoviePy utilizes an iterator method called process_image.  The color edge detection\n",
    "occurs in this method.\n",
    "\n",
    "Both versions operate on images in a source directory (src_dir) store the results in a an output directory (out_dir), as below.\n",
    "\n",
    "First we can run some tests to see which colorspaces and colorchannels give the best contrast for edge detection.\n",
    "\n",
    "Run the cell below to output the images\n"
   ]
  },
  {
   "cell_type": "code",
   "execution_count": null,
   "metadata": {},
   "outputs": [
    {
     "name": "stdout",
     "output_type": "stream",
     "text": [
      "./calibrated_test_images/harder_challenge_video.mp4\n",
      "max at end of edge summation 2\n",
      "max at end of edge summation 1\n",
      "max at end of edge summation 1\n",
      "summer max 4\n",
      "level 0; %pix 0.5330946180555556\n",
      "level 1; %pix 0.2516872829861111\n",
      "level 2; %pix 0.01573025173611111\n",
      "threshold 2\n",
      "percent activated pixels 0.01573025173611111\n",
      "max of morphed is 1\n",
      "1\n",
      "[MoviePy] >>>> Building video ./birdseye_edge_test_images/harder_challenge_video.mp4\n",
      "[MoviePy] Writing video ./birdseye_edge_test_images/harder_challenge_video.mp4\n"
     ]
    },
    {
     "name": "stderr",
     "output_type": "stream",
     "text": [
      "\n",
      "\n",
      "\n",
      "\n",
      "\r",
      "  0%|          | 0/1200 [00:00<?, ?it/s]"
     ]
    },
    {
     "name": "stdout",
     "output_type": "stream",
     "text": [
      "max at end of edge summation 2\n"
     ]
    },
    {
     "name": "stderr",
     "output_type": "stream",
     "text": [
      "\u001b[A\u001b[A\u001b[A\u001b[A"
     ]
    },
    {
     "name": "stdout",
     "output_type": "stream",
     "text": [
      "max at end of edge summation 1\n"
     ]
    },
    {
     "name": "stderr",
     "output_type": "stream",
     "text": [
      "\n",
      "\n",
      "\n",
      "\n",
      "\r",
      "  0%|          | 1/1200 [00:00<08:45,  2.28it/s]"
     ]
    },
    {
     "name": "stdout",
     "output_type": "stream",
     "text": [
      "max at end of edge summation 1\n",
      "summer max 4\n",
      "level 0; %pix 0.5330946180555556\n",
      "level 1; %pix 0.2516872829861111\n",
      "level 2; %pix 0.01573025173611111\n",
      "threshold 2\n",
      "percent activated pixels 0.01573025173611111\n",
      "max of morphed is 1\n",
      "1\n"
     ]
    },
    {
     "name": "stderr",
     "output_type": "stream",
     "text": [
      "\u001b[A\u001b[A\u001b[A\u001b[A"
     ]
    },
    {
     "name": "stdout",
     "output_type": "stream",
     "text": [
      "max at end of edge summation 2\n",
      "max at end of edge summation 1\n"
     ]
    },
    {
     "name": "stderr",
     "output_type": "stream",
     "text": [
      "\n",
      "\n",
      "\n",
      "\n",
      "\r",
      "  0%|          | 2/1200 [00:00<09:04,  2.20it/s]"
     ]
    },
    {
     "name": "stdout",
     "output_type": "stream",
     "text": [
      "max at end of edge summation 1\n",
      "summer max 4\n",
      "level 0; %pix 0.5658550347222222\n",
      "level 1; %pix 0.25856011284722225\n",
      "level 2; %pix 0.016258680555555554\n",
      "threshold 2\n",
      "percent activated pixels 0.016258680555555554\n",
      "max of morphed is 1\n",
      "1\n"
     ]
    },
    {
     "name": "stderr",
     "output_type": "stream",
     "text": [
      "\u001b[A\u001b[A\u001b[A\u001b[A"
     ]
    },
    {
     "name": "stdout",
     "output_type": "stream",
     "text": [
      "max at end of edge summation 2\n",
      "max at end of edge summation 1\n"
     ]
    },
    {
     "name": "stderr",
     "output_type": "stream",
     "text": [
      "\n",
      "\n",
      "\n",
      "\n",
      "\r",
      "  0%|          | 3/1200 [00:01<09:05,  2.19it/s]"
     ]
    },
    {
     "name": "stdout",
     "output_type": "stream",
     "text": [
      "max at end of edge summation 1\n",
      "summer max 4\n",
      "level 0; %pix 0.5600835503472222\n",
      "level 1; %pix 0.2580099826388889\n",
      "level 2; %pix 0.01611328125\n",
      "threshold 2\n",
      "percent activated pixels 0.01611328125\n",
      "max of morphed is 1\n",
      "1\n"
     ]
    },
    {
     "name": "stderr",
     "output_type": "stream",
     "text": [
      "\u001b[A\u001b[A\u001b[A\u001b[A"
     ]
    },
    {
     "name": "stdout",
     "output_type": "stream",
     "text": [
      "max at end of edge summation 2\n",
      "max at end of edge summation 2\n"
     ]
    },
    {
     "name": "stderr",
     "output_type": "stream",
     "text": [
      "\n",
      "\n",
      "\n",
      "\n",
      "\r",
      "  0%|          | 4/1200 [00:01<09:08,  2.18it/s]"
     ]
    },
    {
     "name": "stdout",
     "output_type": "stream",
     "text": [
      "max at end of edge summation 1\n",
      "summer max 4\n",
      "level 0; %pix 0.5693272569444444\n",
      "level 1; %pix 0.2601638454861111\n",
      "level 2; %pix 0.015633680555555557\n",
      "threshold 2\n",
      "percent activated pixels 0.015633680555555557\n",
      "max of morphed is 1\n",
      "1\n"
     ]
    },
    {
     "name": "stderr",
     "output_type": "stream",
     "text": [
      "\u001b[A\u001b[A\u001b[A\u001b[A"
     ]
    },
    {
     "name": "stdout",
     "output_type": "stream",
     "text": [
      "max at end of edge summation 2\n",
      "max at end of edge summation 2\n"
     ]
    },
    {
     "name": "stderr",
     "output_type": "stream",
     "text": [
      "\n",
      "\n",
      "\n",
      "\n",
      "\r",
      "  0%|          | 5/1200 [00:02<09:03,  2.20it/s]"
     ]
    },
    {
     "name": "stdout",
     "output_type": "stream",
     "text": [
      "max at end of edge summation 2\n",
      "summer max 4\n",
      "level 0; %pix 0.5758062065972223\n",
      "level 1; %pix 0.26117296006944446\n",
      "level 2; %pix 0.01489040798611111\n",
      "threshold 2\n",
      "percent activated pixels 0.01489040798611111\n",
      "max of morphed is 1\n",
      "1\n"
     ]
    },
    {
     "name": "stderr",
     "output_type": "stream",
     "text": [
      "\u001b[A\u001b[A\u001b[A\u001b[A"
     ]
    },
    {
     "name": "stdout",
     "output_type": "stream",
     "text": [
      "max at end of edge summation 2\n",
      "max at end of edge summation 2\n"
     ]
    },
    {
     "name": "stderr",
     "output_type": "stream",
     "text": [
      "\n",
      "\n",
      "\n",
      "\n",
      "\r",
      "  0%|          | 6/1200 [00:02<09:11,  2.17it/s]"
     ]
    },
    {
     "name": "stdout",
     "output_type": "stream",
     "text": [
      "max at end of edge summation 1\n",
      "summer max 4\n",
      "level 0; %pix 0.5685633680555555\n",
      "level 1; %pix 0.2586176215277778\n",
      "level 2; %pix 0.014351128472222223\n",
      "threshold 2\n",
      "percent activated pixels 0.014351128472222223\n",
      "max of morphed is 1\n",
      "1\n"
     ]
    },
    {
     "name": "stderr",
     "output_type": "stream",
     "text": [
      "\u001b[A\u001b[A\u001b[A\u001b[A"
     ]
    },
    {
     "name": "stdout",
     "output_type": "stream",
     "text": [
      "max at end of edge summation 2\n",
      "max at end of edge summation 2\n"
     ]
    },
    {
     "name": "stderr",
     "output_type": "stream",
     "text": [
      "\n",
      "\n",
      "\n",
      "\n",
      "\r",
      "  1%|          | 7/1200 [00:03<09:17,  2.14it/s]"
     ]
    },
    {
     "name": "stdout",
     "output_type": "stream",
     "text": [
      "max at end of edge summation 1\n",
      "summer max 4\n",
      "level 0; %pix 0.575634765625\n",
      "level 1; %pix 0.25789713541666665\n",
      "level 2; %pix 0.014363064236111112\n",
      "threshold 2\n",
      "percent activated pixels 0.014363064236111112\n",
      "max of morphed is 1\n",
      "1\n"
     ]
    },
    {
     "name": "stderr",
     "output_type": "stream",
     "text": [
      "\u001b[A\u001b[A\u001b[A\u001b[A"
     ]
    },
    {
     "name": "stdout",
     "output_type": "stream",
     "text": [
      "max at end of edge summation 2\n",
      "max at end of edge summation 2\n"
     ]
    },
    {
     "name": "stderr",
     "output_type": "stream",
     "text": [
      "\n",
      "\n",
      "\n",
      "\n",
      "\r",
      "  1%|          | 8/1200 [00:03<09:17,  2.14it/s]"
     ]
    },
    {
     "name": "stdout",
     "output_type": "stream",
     "text": [
      "max at end of edge summation 2\n",
      "summer max 4\n",
      "level 0; %pix 0.5675737847222222\n",
      "level 1; %pix 0.25625\n",
      "level 2; %pix 0.014315321180555556\n",
      "threshold 2\n",
      "percent activated pixels 0.014315321180555556\n",
      "max of morphed is 1\n",
      "1\n",
      "max at end of edge summation 2\n"
     ]
    },
    {
     "name": "stderr",
     "output_type": "stream",
     "text": [
      "\u001b[A\u001b[A\u001b[A\u001b[A\n",
      "\n",
      "\n",
      "\n",
      "  1%|          | 9/1200 [00:04<09:12,  2.16it/s]"
     ]
    },
    {
     "name": "stdout",
     "output_type": "stream",
     "text": [
      "max at end of edge summation 2\n",
      "max at end of edge summation 1\n",
      "summer max 5\n",
      "level 0; %pix 0.5759494357638889\n",
      "level 1; %pix 0.2550607638888889\n",
      "level 2; %pix 0.014666883680555555\n",
      "threshold 2\n",
      "percent activated pixels 0.014666883680555555\n",
      "max of morphed is 1\n",
      "1\n"
     ]
    },
    {
     "name": "stderr",
     "output_type": "stream",
     "text": [
      "\u001b[A\u001b[A\u001b[A\u001b[A"
     ]
    },
    {
     "name": "stdout",
     "output_type": "stream",
     "text": [
      "max at end of edge summation 2\n",
      "max at end of edge summation 2\n"
     ]
    },
    {
     "name": "stderr",
     "output_type": "stream",
     "text": [
      "\n",
      "\n",
      "\n",
      "\n",
      "\r",
      "  1%|          | 10/1200 [00:04<09:09,  2.17it/s]"
     ]
    },
    {
     "name": "stdout",
     "output_type": "stream",
     "text": [
      "max at end of edge summation 2\n",
      "summer max 4\n",
      "level 0; %pix 0.5636273871527778\n",
      "level 1; %pix 0.25380425347222224\n",
      "level 2; %pix 0.01455078125\n",
      "threshold 2\n",
      "percent activated pixels 0.01455078125\n",
      "max of morphed is 1\n",
      "1\n",
      "max at end of edge summation 2\n"
     ]
    },
    {
     "name": "stderr",
     "output_type": "stream",
     "text": [
      "\u001b[A\u001b[A\u001b[A\u001b[A\n",
      "\n",
      "\n",
      "\n",
      "  1%|          | 11/1200 [00:05<08:58,  2.21it/s]"
     ]
    },
    {
     "name": "stdout",
     "output_type": "stream",
     "text": [
      "max at end of edge summation 1\n",
      "max at end of edge summation 1\n",
      "summer max 4\n",
      "level 0; %pix 0.5748187934027778\n",
      "level 1; %pix 0.25314561631944443\n",
      "level 2; %pix 0.014466145833333333\n",
      "threshold 2\n",
      "percent activated pixels 0.014466145833333333\n",
      "max of morphed is 1\n",
      "1\n"
     ]
    },
    {
     "name": "stderr",
     "output_type": "stream",
     "text": [
      "\u001b[A\u001b[A\u001b[A\u001b[A"
     ]
    },
    {
     "name": "stdout",
     "output_type": "stream",
     "text": [
      "max at end of edge summation 2\n",
      "max at end of edge summation 2\n"
     ]
    },
    {
     "name": "stderr",
     "output_type": "stream",
     "text": [
      "\n",
      "\n",
      "\n",
      "\n",
      "\r",
      "  1%|          | 12/1200 [00:05<09:03,  2.19it/s]"
     ]
    },
    {
     "name": "stdout",
     "output_type": "stream",
     "text": [
      "max at end of edge summation 1\n",
      "summer max 4\n",
      "level 0; %pix 0.5639496527777778\n",
      "level 1; %pix 0.2506228298611111\n",
      "level 2; %pix 0.015603298611111111\n",
      "threshold 2\n",
      "percent activated pixels 0.015603298611111111\n",
      "max of morphed is 1\n",
      "1\n",
      "max at end of edge summation 2\n"
     ]
    },
    {
     "name": "stderr",
     "output_type": "stream",
     "text": [
      "\u001b[A\u001b[A\u001b[A\u001b[A\n",
      "\n",
      "\n",
      "\n",
      "  1%|          | 13/1200 [00:05<09:03,  2.18it/s]"
     ]
    },
    {
     "name": "stdout",
     "output_type": "stream",
     "text": [
      "max at end of edge summation 2\n",
      "max at end of edge summation 1\n",
      "summer max 4\n",
      "level 0; %pix 0.5789181857638889\n",
      "level 1; %pix 0.25321723090277776\n",
      "level 2; %pix 0.017196180555555555\n",
      "threshold 2\n",
      "percent activated pixels 0.017196180555555555\n",
      "max of morphed is 1\n",
      "1\n"
     ]
    },
    {
     "name": "stderr",
     "output_type": "stream",
     "text": [
      "\u001b[A\u001b[A\u001b[A\u001b[A"
     ]
    },
    {
     "name": "stdout",
     "output_type": "stream",
     "text": [
      "max at end of edge summation 2\n",
      "max at end of edge summation 2\n"
     ]
    },
    {
     "name": "stderr",
     "output_type": "stream",
     "text": [
      "\n",
      "\n",
      "\n",
      "\n",
      "\r",
      "  1%|          | 14/1200 [00:06<09:03,  2.18it/s]"
     ]
    },
    {
     "name": "stdout",
     "output_type": "stream",
     "text": [
      "max at end of edge summation 1\n",
      "summer max 4\n",
      "level 0; %pix 0.5746809895833334\n",
      "level 1; %pix 0.25307725694444444\n",
      "level 2; %pix 0.018983289930555557\n",
      "threshold 2\n",
      "percent activated pixels 0.018983289930555557\n",
      "max of morphed is 1\n",
      "1\n"
     ]
    },
    {
     "name": "stderr",
     "output_type": "stream",
     "text": [
      "\u001b[A\u001b[A\u001b[A\u001b[A"
     ]
    },
    {
     "name": "stdout",
     "output_type": "stream",
     "text": [
      "max at end of edge summation 2\n",
      "max at end of edge summation 2\n"
     ]
    },
    {
     "name": "stderr",
     "output_type": "stream",
     "text": [
      "\n",
      "\n",
      "\n",
      "\n",
      "\r",
      "  1%|▏         | 15/1200 [00:06<09:06,  2.17it/s]"
     ]
    },
    {
     "name": "stdout",
     "output_type": "stream",
     "text": [
      "max at end of edge summation 2\n",
      "summer max 4\n",
      "level 0; %pix 0.5858387586805556\n",
      "level 1; %pix 0.25522569444444443\n",
      "level 2; %pix 0.019644097222222223\n",
      "threshold 2\n",
      "percent activated pixels 0.019644097222222223\n",
      "max of morphed is 1\n",
      "1\n"
     ]
    },
    {
     "name": "stderr",
     "output_type": "stream",
     "text": [
      "\u001b[A\u001b[A\u001b[A\u001b[A"
     ]
    },
    {
     "name": "stdout",
     "output_type": "stream",
     "text": [
      "max at end of edge summation 2\n",
      "max at end of edge summation 2\n"
     ]
    },
    {
     "name": "stderr",
     "output_type": "stream",
     "text": [
      "\n",
      "\n",
      "\n",
      "\n",
      "\r",
      "  1%|▏         | 16/1200 [00:07<09:07,  2.16it/s]"
     ]
    },
    {
     "name": "stdout",
     "output_type": "stream",
     "text": [
      "max at end of edge summation 1\n",
      "summer max 4\n",
      "level 0; %pix 0.5731825086805555\n",
      "level 1; %pix 0.2536089409722222\n",
      "level 2; %pix 0.02045138888888889\n",
      "threshold 2\n",
      "percent activated pixels 0.02045138888888889\n",
      "max of morphed is 1\n",
      "1\n"
     ]
    },
    {
     "name": "stderr",
     "output_type": "stream",
     "text": [
      "\u001b[A\u001b[A\u001b[A\u001b[A"
     ]
    },
    {
     "name": "stdout",
     "output_type": "stream",
     "text": [
      "max at end of edge summation 2\n",
      "max at end of edge summation 2\n"
     ]
    },
    {
     "name": "stderr",
     "output_type": "stream",
     "text": [
      "\n",
      "\n",
      "\n",
      "\n",
      "\r",
      "  1%|▏         | 17/1200 [00:07<09:03,  2.18it/s]"
     ]
    },
    {
     "name": "stdout",
     "output_type": "stream",
     "text": [
      "max at end of edge summation 1\n",
      "summer max 4\n",
      "level 0; %pix 0.5793283420138889\n",
      "level 1; %pix 0.255517578125\n",
      "level 2; %pix 0.020598958333333334\n",
      "threshold 2\n",
      "percent activated pixels 0.020598958333333334\n",
      "max of morphed is 1\n",
      "1\n"
     ]
    },
    {
     "name": "stderr",
     "output_type": "stream",
     "text": [
      "\u001b[A\u001b[A\u001b[A\u001b[A"
     ]
    },
    {
     "name": "stdout",
     "output_type": "stream",
     "text": [
      "max at end of edge summation 2\n",
      "max at end of edge summation 2\n"
     ]
    },
    {
     "name": "stderr",
     "output_type": "stream",
     "text": [
      "\n",
      "\n",
      "\n",
      "\n",
      "\r",
      "  2%|▏         | 18/1200 [00:08<09:05,  2.17it/s]"
     ]
    },
    {
     "name": "stdout",
     "output_type": "stream",
     "text": [
      "max at end of edge summation 1\n",
      "summer max 4\n",
      "level 0; %pix 0.5820844184027778\n",
      "level 1; %pix 0.25745008680555553\n",
      "level 2; %pix 0.020850694444444446\n",
      "threshold 2\n",
      "percent activated pixels 0.020850694444444446\n",
      "max of morphed is 1\n",
      "1\n"
     ]
    },
    {
     "name": "stderr",
     "output_type": "stream",
     "text": [
      "\u001b[A\u001b[A\u001b[A\u001b[A"
     ]
    },
    {
     "name": "stdout",
     "output_type": "stream",
     "text": [
      "max at end of edge summation 2\n",
      "max at end of edge summation 2\n"
     ]
    },
    {
     "name": "stderr",
     "output_type": "stream",
     "text": [
      "\n",
      "\n",
      "\n",
      "\n",
      "\r",
      "  2%|▏         | 19/1200 [00:08<09:09,  2.15it/s]"
     ]
    },
    {
     "name": "stdout",
     "output_type": "stream",
     "text": [
      "max at end of edge summation 2\n",
      "summer max 4\n",
      "level 0; %pix 0.5842567274305556\n",
      "level 1; %pix 0.25852973090277775\n",
      "level 2; %pix 0.021843532986111112\n",
      "threshold 2\n",
      "percent activated pixels 0.021843532986111112\n",
      "max of morphed is 1\n",
      "1\n"
     ]
    },
    {
     "name": "stderr",
     "output_type": "stream",
     "text": [
      "\u001b[A\u001b[A\u001b[A\u001b[A"
     ]
    },
    {
     "name": "stdout",
     "output_type": "stream",
     "text": [
      "max at end of edge summation 2\n",
      "max at end of edge summation 2\n"
     ]
    },
    {
     "name": "stderr",
     "output_type": "stream",
     "text": [
      "\n",
      "\n",
      "\n",
      "\n",
      "\r",
      "  2%|▏         | 20/1200 [00:09<09:09,  2.15it/s]"
     ]
    },
    {
     "name": "stdout",
     "output_type": "stream",
     "text": [
      "max at end of edge summation 2\n",
      "summer max 4\n",
      "level 0; %pix 0.5870909288194445\n",
      "level 1; %pix 0.2606423611111111\n",
      "level 2; %pix 0.02240776909722222\n",
      "threshold 2\n",
      "percent activated pixels 0.02240776909722222\n",
      "max of morphed is 1\n",
      "1\n"
     ]
    },
    {
     "name": "stderr",
     "output_type": "stream",
     "text": [
      "\u001b[A\u001b[A\u001b[A\u001b[A"
     ]
    },
    {
     "name": "stdout",
     "output_type": "stream",
     "text": [
      "max at end of edge summation 2\n",
      "max at end of edge summation 2\n"
     ]
    },
    {
     "name": "stderr",
     "output_type": "stream",
     "text": [
      "\n",
      "\n",
      "\n",
      "\n",
      "\r",
      "  2%|▏         | 21/1200 [00:09<09:08,  2.15it/s]"
     ]
    },
    {
     "name": "stdout",
     "output_type": "stream",
     "text": [
      "max at end of edge summation 1\n",
      "summer max 4\n",
      "level 0; %pix 0.5910926649305556\n",
      "level 1; %pix 0.26203342013888886\n",
      "level 2; %pix 0.022669270833333335\n",
      "threshold 2\n",
      "percent activated pixels 0.022669270833333335\n",
      "max of morphed is 1\n",
      "1\n",
      "max at end of edge summation 2\n"
     ]
    },
    {
     "name": "stderr",
     "output_type": "stream",
     "text": [
      "\u001b[A\u001b[A\u001b[A\u001b[A\n",
      "\n",
      "\n",
      "\n",
      "  2%|▏         | 22/1200 [00:10<09:03,  2.17it/s]"
     ]
    },
    {
     "name": "stdout",
     "output_type": "stream",
     "text": [
      "max at end of edge summation 1\n",
      "max at end of edge summation 1\n",
      "summer max 4\n",
      "level 0; %pix 0.5962510850694445\n",
      "level 1; %pix 0.26461588541666664\n",
      "level 2; %pix 0.022671440972222224\n",
      "threshold 2\n",
      "percent activated pixels 0.022671440972222224\n",
      "max of morphed is 1\n",
      "1\n"
     ]
    },
    {
     "name": "stderr",
     "output_type": "stream",
     "text": [
      "\u001b[A\u001b[A\u001b[A\u001b[A"
     ]
    },
    {
     "name": "stdout",
     "output_type": "stream",
     "text": [
      "max at end of edge summation 2\n",
      "max at end of edge summation 2\n"
     ]
    },
    {
     "name": "stderr",
     "output_type": "stream",
     "text": [
      "\n",
      "\n",
      "\n",
      "\n",
      "\r",
      "  2%|▏         | 23/1200 [00:10<08:53,  2.20it/s]"
     ]
    },
    {
     "name": "stdout",
     "output_type": "stream",
     "text": [
      "max at end of edge summation 1\n",
      "summer max 5\n",
      "level 0; %pix 0.59755859375\n",
      "level 1; %pix 0.2665603298611111\n",
      "level 2; %pix 0.022508680555555556\n",
      "threshold 2\n",
      "percent activated pixels 0.022508680555555556\n",
      "max of morphed is 1\n",
      "1\n"
     ]
    },
    {
     "name": "stderr",
     "output_type": "stream",
     "text": [
      "\u001b[A\u001b[A\u001b[A\u001b[A"
     ]
    },
    {
     "name": "stdout",
     "output_type": "stream",
     "text": [
      "max at end of edge summation 2\n",
      "max at end of edge summation 2\n"
     ]
    },
    {
     "name": "stderr",
     "output_type": "stream",
     "text": [
      "\n",
      "\n",
      "\n",
      "\n",
      "\r",
      "  2%|▏         | 24/1200 [00:11<08:57,  2.19it/s]"
     ]
    },
    {
     "name": "stdout",
     "output_type": "stream",
     "text": [
      "max at end of edge summation 1\n",
      "summer max 4\n",
      "level 0; %pix 0.6023687065972222\n",
      "level 1; %pix 0.26641384548611113\n",
      "level 2; %pix 0.02174370659722222\n",
      "threshold 2\n",
      "percent activated pixels 0.02174370659722222\n",
      "max of morphed is 1\n",
      "1\n"
     ]
    },
    {
     "name": "stderr",
     "output_type": "stream",
     "text": [
      "\u001b[A\u001b[A\u001b[A\u001b[A"
     ]
    },
    {
     "name": "stdout",
     "output_type": "stream",
     "text": [
      "max at end of edge summation 2\n",
      "max at end of edge summation 2\n"
     ]
    },
    {
     "name": "stderr",
     "output_type": "stream",
     "text": [
      "\n",
      "\n",
      "\n",
      "\n",
      "\r",
      "  2%|▏         | 25/1200 [00:11<08:59,  2.18it/s]"
     ]
    },
    {
     "name": "stdout",
     "output_type": "stream",
     "text": [
      "max at end of edge summation 2\n",
      "summer max 4\n",
      "level 0; %pix 0.5937738715277778\n",
      "level 1; %pix 0.2662912326388889\n",
      "level 2; %pix 0.021170789930555555\n",
      "threshold 2\n",
      "percent activated pixels 0.021170789930555555\n",
      "max of morphed is 1\n",
      "1\n",
      "max at end of edge summation 2\n"
     ]
    },
    {
     "name": "stderr",
     "output_type": "stream",
     "text": [
      "\u001b[A\u001b[A\u001b[A\u001b[A\n",
      "\n",
      "\n",
      "\n",
      "  2%|▏         | 26/1200 [00:11<08:57,  2.18it/s]"
     ]
    },
    {
     "name": "stdout",
     "output_type": "stream",
     "text": [
      "max at end of edge summation 2\n",
      "max at end of edge summation 2\n",
      "summer max 4\n",
      "level 0; %pix 0.596435546875\n",
      "level 1; %pix 0.26659939236111113\n",
      "level 2; %pix 0.021059027777777777\n",
      "threshold 2\n",
      "percent activated pixels 0.021059027777777777\n",
      "max of morphed is 1\n",
      "1\n"
     ]
    },
    {
     "name": "stderr",
     "output_type": "stream",
     "text": [
      "\u001b[A\u001b[A\u001b[A\u001b[A"
     ]
    },
    {
     "name": "stdout",
     "output_type": "stream",
     "text": [
      "max at end of edge summation 2\n",
      "max at end of edge summation 1\n"
     ]
    },
    {
     "name": "stderr",
     "output_type": "stream",
     "text": [
      "\n",
      "\n",
      "\n",
      "\n",
      "\r",
      "  2%|▏         | 27/1200 [00:12<09:02,  2.16it/s]"
     ]
    },
    {
     "name": "stdout",
     "output_type": "stream",
     "text": [
      "max at end of edge summation 2\n",
      "summer max 4\n",
      "level 0; %pix 0.5970855034722222\n",
      "level 1; %pix 0.2670941840277778\n",
      "level 2; %pix 0.019912109375\n",
      "threshold 2\n",
      "percent activated pixels 0.019912109375\n",
      "max of morphed is 1\n",
      "1\n"
     ]
    },
    {
     "name": "stderr",
     "output_type": "stream",
     "text": [
      "\u001b[A\u001b[A\u001b[A\u001b[A"
     ]
    },
    {
     "name": "stdout",
     "output_type": "stream",
     "text": [
      "max at end of edge summation 2\n",
      "max at end of edge summation 2\n"
     ]
    },
    {
     "name": "stderr",
     "output_type": "stream",
     "text": [
      "\n",
      "\n",
      "\n",
      "\n",
      "\r",
      "  2%|▏         | 28/1200 [00:12<09:03,  2.16it/s]"
     ]
    },
    {
     "name": "stdout",
     "output_type": "stream",
     "text": [
      "max at end of edge summation 1\n",
      "summer max 4\n",
      "level 0; %pix 0.5975119357638888\n",
      "level 1; %pix 0.26521050347222225\n",
      "level 2; %pix 0.017654079861111113\n",
      "threshold 2\n",
      "percent activated pixels 0.017654079861111113\n",
      "max of morphed is 1\n",
      "1\n",
      "max at end of edge summation 2\n"
     ]
    },
    {
     "name": "stderr",
     "output_type": "stream",
     "text": [
      "\u001b[A\u001b[A\u001b[A\u001b[A\n",
      "\n",
      "\n",
      "\n",
      "  2%|▏         | 29/1200 [00:13<08:52,  2.20it/s]"
     ]
    },
    {
     "name": "stdout",
     "output_type": "stream",
     "text": [
      "max at end of edge summation 2\n",
      "max at end of edge summation 1\n",
      "summer max 4\n",
      "level 0; %pix 0.5867426215277778\n",
      "level 1; %pix 0.26370008680555557\n",
      "level 2; %pix 0.016002604166666667\n",
      "threshold 2\n",
      "percent activated pixels 0.016002604166666667\n",
      "max of morphed is 1\n",
      "1\n"
     ]
    },
    {
     "name": "stderr",
     "output_type": "stream",
     "text": [
      "\u001b[A\u001b[A\u001b[A\u001b[A"
     ]
    },
    {
     "name": "stdout",
     "output_type": "stream",
     "text": [
      "max at end of edge summation 2\n",
      "max at end of edge summation 1\n"
     ]
    },
    {
     "name": "stderr",
     "output_type": "stream",
     "text": [
      "\n",
      "\n",
      "\n",
      "\n",
      "\r",
      "  2%|▎         | 30/1200 [00:13<08:56,  2.18it/s]"
     ]
    },
    {
     "name": "stdout",
     "output_type": "stream",
     "text": [
      "max at end of edge summation 1\n",
      "summer max 4\n",
      "level 0; %pix 0.5897189670138889\n",
      "level 1; %pix 0.26300889756944446\n",
      "level 2; %pix 0.014881727430555556\n",
      "threshold 2\n",
      "percent activated pixels 0.014881727430555556\n",
      "max of morphed is 1\n",
      "1\n"
     ]
    },
    {
     "name": "stderr",
     "output_type": "stream",
     "text": [
      "\u001b[A\u001b[A\u001b[A\u001b[A"
     ]
    },
    {
     "name": "stdout",
     "output_type": "stream",
     "text": [
      "max at end of edge summation 2\n",
      "max at end of edge summation 2\n"
     ]
    },
    {
     "name": "stderr",
     "output_type": "stream",
     "text": [
      "\n",
      "\n",
      "\n",
      "\n",
      "\r",
      "  3%|▎         | 31/1200 [00:14<08:57,  2.17it/s]"
     ]
    },
    {
     "name": "stdout",
     "output_type": "stream",
     "text": [
      "max at end of edge summation 2\n",
      "summer max 4\n",
      "level 0; %pix 0.5880902777777778\n",
      "level 1; %pix 0.2601291232638889\n",
      "level 2; %pix 0.016414930555555554\n",
      "threshold 2\n",
      "percent activated pixels 0.016414930555555554\n",
      "max of morphed is 1\n",
      "1\n"
     ]
    },
    {
     "name": "stderr",
     "output_type": "stream",
     "text": [
      "\u001b[A\u001b[A\u001b[A\u001b[A"
     ]
    },
    {
     "name": "stdout",
     "output_type": "stream",
     "text": [
      "max at end of edge summation 2\n",
      "max at end of edge summation 1\n"
     ]
    },
    {
     "name": "stderr",
     "output_type": "stream",
     "text": [
      "\n",
      "\n",
      "\n",
      "\n",
      "\r",
      "  3%|▎         | 32/1200 [00:14<09:00,  2.16it/s]"
     ]
    },
    {
     "name": "stdout",
     "output_type": "stream",
     "text": [
      "max at end of edge summation 2\n",
      "summer max 4\n",
      "level 0; %pix 0.5822298177083334\n",
      "level 1; %pix 0.2582150607638889\n",
      "level 2; %pix 0.01714301215277778\n",
      "threshold 2\n",
      "percent activated pixels 0.01714301215277778\n",
      "max of morphed is 1\n",
      "1\n"
     ]
    },
    {
     "name": "stderr",
     "output_type": "stream",
     "text": [
      "\u001b[A\u001b[A\u001b[A\u001b[A"
     ]
    },
    {
     "name": "stdout",
     "output_type": "stream",
     "text": [
      "max at end of edge summation 2\n",
      "max at end of edge summation 2\n"
     ]
    },
    {
     "name": "stderr",
     "output_type": "stream",
     "text": [
      "\n",
      "\n",
      "\n",
      "\n",
      "\r",
      "  3%|▎         | 33/1200 [00:15<09:01,  2.15it/s]"
     ]
    },
    {
     "name": "stdout",
     "output_type": "stream",
     "text": [
      "max at end of edge summation 2\n",
      "summer max 4\n",
      "level 0; %pix 0.5937803819444445\n",
      "level 1; %pix 0.26087565104166666\n",
      "level 2; %pix 0.017157118055555556\n",
      "threshold 2\n",
      "percent activated pixels 0.017157118055555556\n",
      "max of morphed is 1\n",
      "1\n",
      "max at end of edge summation 2\n"
     ]
    },
    {
     "name": "stderr",
     "output_type": "stream",
     "text": [
      "\u001b[A\u001b[A\u001b[A\u001b[A\n",
      "\n",
      "\n",
      "\n",
      "  3%|▎         | 34/1200 [00:15<08:58,  2.17it/s]"
     ]
    },
    {
     "name": "stdout",
     "output_type": "stream",
     "text": [
      "max at end of edge summation 1\n",
      "max at end of edge summation 2\n",
      "summer max 4\n",
      "level 0; %pix 0.5892426215277777\n",
      "level 1; %pix 0.2599283854166667\n",
      "level 2; %pix 0.01743381076388889\n",
      "threshold 2\n",
      "percent activated pixels 0.01743381076388889\n",
      "max of morphed is 1\n",
      "1\n"
     ]
    },
    {
     "name": "stderr",
     "output_type": "stream",
     "text": [
      "\u001b[A\u001b[A\u001b[A\u001b[A"
     ]
    },
    {
     "name": "stdout",
     "output_type": "stream",
     "text": [
      "max at end of edge summation 2\n",
      "max at end of edge summation 1\n"
     ]
    },
    {
     "name": "stderr",
     "output_type": "stream",
     "text": [
      "\n",
      "\n",
      "\n",
      "\n",
      "\r",
      "  3%|▎         | 35/1200 [00:16<08:50,  2.20it/s]"
     ]
    },
    {
     "name": "stdout",
     "output_type": "stream",
     "text": [
      "max at end of edge summation 1\n",
      "summer max 4\n",
      "level 0; %pix 0.5958018663194444\n",
      "level 1; %pix 0.26064127604166665\n",
      "level 2; %pix 0.01621636284722222\n",
      "threshold 2\n",
      "percent activated pixels 0.01621636284722222\n",
      "max of morphed is 1\n",
      "1\n"
     ]
    },
    {
     "name": "stderr",
     "output_type": "stream",
     "text": [
      "\u001b[A\u001b[A\u001b[A\u001b[A"
     ]
    },
    {
     "name": "stdout",
     "output_type": "stream",
     "text": [
      "max at end of edge summation 2\n",
      "max at end of edge summation 2\n"
     ]
    },
    {
     "name": "stderr",
     "output_type": "stream",
     "text": [
      "\n",
      "\n",
      "\n",
      "\n",
      "\r",
      "  3%|▎         | 36/1200 [00:16<08:51,  2.19it/s]"
     ]
    },
    {
     "name": "stdout",
     "output_type": "stream",
     "text": [
      "max at end of edge summation 1\n",
      "summer max 4\n",
      "level 0; %pix 0.5879839409722222\n",
      "level 1; %pix 0.25773328993055555\n",
      "level 2; %pix 0.01583767361111111\n",
      "threshold 2\n",
      "percent activated pixels 0.01583767361111111\n",
      "max of morphed is 1\n",
      "1\n",
      "max at end of edge summation 2\n"
     ]
    },
    {
     "name": "stderr",
     "output_type": "stream",
     "text": [
      "\u001b[A\u001b[A\u001b[A\u001b[A\n",
      "\n",
      "\n",
      "\n",
      "  3%|▎         | 37/1200 [00:17<08:50,  2.19it/s]"
     ]
    },
    {
     "name": "stdout",
     "output_type": "stream",
     "text": [
      "max at end of edge summation 1\n",
      "max at end of edge summation 1\n",
      "summer max 4\n",
      "level 0; %pix 0.5970355902777778\n",
      "level 1; %pix 0.2577853732638889\n",
      "level 2; %pix 0.015073784722222223\n",
      "threshold 2\n",
      "percent activated pixels 0.015073784722222223\n",
      "max of morphed is 1\n",
      "1\n"
     ]
    },
    {
     "name": "stderr",
     "output_type": "stream",
     "text": [
      "\u001b[A\u001b[A\u001b[A\u001b[A"
     ]
    },
    {
     "name": "stdout",
     "output_type": "stream",
     "text": [
      "max at end of edge summation 2\n",
      "max at end of edge summation 1\n"
     ]
    },
    {
     "name": "stderr",
     "output_type": "stream",
     "text": [
      "\n",
      "\n",
      "\n",
      "\n",
      "\r",
      "  3%|▎         | 38/1200 [00:17<08:51,  2.19it/s]"
     ]
    },
    {
     "name": "stdout",
     "output_type": "stream",
     "text": [
      "max at end of edge summation 2\n",
      "summer max 4\n",
      "level 0; %pix 0.5900998263888889\n",
      "level 1; %pix 0.2586675347222222\n",
      "level 2; %pix 0.015121527777777777\n",
      "threshold 2\n",
      "percent activated pixels 0.015121527777777777\n",
      "max of morphed is 1\n",
      "1\n",
      "max at end of edge summation 2"
     ]
    },
    {
     "name": "stderr",
     "output_type": "stream",
     "text": [
      "\u001b[A\u001b[A\u001b[A\u001b[A"
     ]
    },
    {
     "name": "stdout",
     "output_type": "stream",
     "text": [
      "\n",
      "max at end of edge summation 2\n"
     ]
    },
    {
     "name": "stderr",
     "output_type": "stream",
     "text": [
      "\n",
      "\n",
      "\n",
      "\n",
      "\r",
      "  3%|▎         | 39/1200 [00:17<08:55,  2.17it/s]"
     ]
    },
    {
     "name": "stdout",
     "output_type": "stream",
     "text": [
      "max at end of edge summation 2\n",
      "summer max 4\n",
      "level 0; %pix 0.5974761284722222\n",
      "level 1; %pix 0.25783311631944444\n",
      "level 2; %pix 0.015577256944444444\n",
      "threshold 2\n",
      "percent activated pixels 0.015577256944444444\n",
      "max of morphed is 1\n",
      "1\n"
     ]
    },
    {
     "name": "stderr",
     "output_type": "stream",
     "text": [
      "\u001b[A\u001b[A\u001b[A\u001b[A"
     ]
    },
    {
     "name": "stdout",
     "output_type": "stream",
     "text": [
      "max at end of edge summation 2\n",
      "max at end of edge summation 1\n"
     ]
    },
    {
     "name": "stderr",
     "output_type": "stream",
     "text": [
      "\n",
      "\n",
      "\n",
      "\n",
      "\r",
      "  3%|▎         | 40/1200 [00:18<08:55,  2.17it/s]"
     ]
    },
    {
     "name": "stdout",
     "output_type": "stream",
     "text": [
      "max at end of edge summation 2\n",
      "summer max 4\n",
      "level 0; %pix 0.5921213107638889\n",
      "level 1; %pix 0.25835286458333334\n",
      "level 2; %pix 0.015971137152777776\n",
      "threshold 2\n",
      "percent activated pixels 0.015971137152777776\n",
      "max of morphed is 1\n",
      "1\n"
     ]
    },
    {
     "name": "stderr",
     "output_type": "stream",
     "text": [
      "\u001b[A\u001b[A\u001b[A\u001b[A"
     ]
    },
    {
     "name": "stdout",
     "output_type": "stream",
     "text": [
      "max at end of edge summation 2\n",
      "max at end of edge summation 1\n"
     ]
    },
    {
     "name": "stderr",
     "output_type": "stream",
     "text": [
      "\n",
      "\n",
      "\n",
      "\n",
      "\r",
      "  3%|▎         | 41/1200 [00:18<08:51,  2.18it/s]"
     ]
    },
    {
     "name": "stdout",
     "output_type": "stream",
     "text": [
      "max at end of edge summation 1\n",
      "summer max 4\n",
      "level 0; %pix 0.6007530381944445\n",
      "level 1; %pix 0.25902669270833334\n",
      "level 2; %pix 0.016217447916666666\n",
      "threshold 2\n",
      "percent activated pixels 0.016217447916666666\n",
      "max of morphed is 1\n",
      "1\n"
     ]
    },
    {
     "name": "stderr",
     "output_type": "stream",
     "text": [
      "\u001b[A\u001b[A\u001b[A\u001b[A"
     ]
    },
    {
     "name": "stdout",
     "output_type": "stream",
     "text": [
      "max at end of edge summation 2\n",
      "max at end of edge summation 2\n"
     ]
    },
    {
     "name": "stderr",
     "output_type": "stream",
     "text": [
      "\n",
      "\n",
      "\n",
      "\n",
      "\r",
      "  4%|▎         | 42/1200 [00:19<08:54,  2.17it/s]"
     ]
    },
    {
     "name": "stdout",
     "output_type": "stream",
     "text": [
      "max at end of edge summation 2\n",
      "summer max 4\n",
      "level 0; %pix 0.5928428819444445\n",
      "level 1; %pix 0.2572970920138889\n",
      "level 2; %pix 0.01642578125\n",
      "threshold 2\n",
      "percent activated pixels 0.01642578125\n",
      "max of morphed is 1\n",
      "1\n"
     ]
    },
    {
     "name": "stderr",
     "output_type": "stream",
     "text": [
      "\u001b[A\u001b[A\u001b[A\u001b[A"
     ]
    },
    {
     "name": "stdout",
     "output_type": "stream",
     "text": [
      "max at end of edge summation 2\n"
     ]
    },
    {
     "name": "stderr",
     "output_type": "stream",
     "text": [
      "\n",
      "\n",
      "\n",
      "\n",
      "\r",
      "  4%|▎         | 43/1200 [00:20<10:02,  1.92it/s]"
     ]
    },
    {
     "name": "stdout",
     "output_type": "stream",
     "text": [
      "max at end of edge summation 2\n",
      "max at end of edge summation 1\n",
      "summer max 4\n",
      "level 0; %pix 0.6031879340277778\n",
      "level 1; %pix 0.2588118489583333\n",
      "level 2; %pix 0.01649197048611111\n",
      "threshold 2\n",
      "percent activated pixels 0.01649197048611111\n",
      "max of morphed is 1\n",
      "1\n"
     ]
    },
    {
     "name": "stderr",
     "output_type": "stream",
     "text": [
      "\u001b[A\u001b[A\u001b[A\u001b[A"
     ]
    },
    {
     "name": "stdout",
     "output_type": "stream",
     "text": [
      "max at end of edge summation 2\n",
      "max at end of edge summation 2\n"
     ]
    },
    {
     "name": "stderr",
     "output_type": "stream",
     "text": [
      "\n",
      "\n",
      "\n",
      "\n",
      "\r",
      "  4%|▎         | 44/1200 [00:20<09:53,  1.95it/s]"
     ]
    },
    {
     "name": "stdout",
     "output_type": "stream",
     "text": [
      "max at end of edge summation 1\n",
      "summer max 4\n",
      "level 0; %pix 0.5969954427083334\n",
      "level 1; %pix 0.25844618055555557\n",
      "level 2; %pix 0.016776258680555555\n",
      "threshold 2\n",
      "percent activated pixels 0.016776258680555555\n",
      "max of morphed is 1\n",
      "1\n"
     ]
    },
    {
     "name": "stderr",
     "output_type": "stream",
     "text": [
      "\u001b[A\u001b[A\u001b[A\u001b[A"
     ]
    },
    {
     "name": "stdout",
     "output_type": "stream",
     "text": [
      "max at end of edge summation 2\n",
      "max at end of edge summation 2\n"
     ]
    },
    {
     "name": "stderr",
     "output_type": "stream",
     "text": [
      "\n",
      "\n",
      "\n",
      "\n",
      "\r",
      "  4%|▍         | 45/1200 [00:21<10:04,  1.91it/s]"
     ]
    },
    {
     "name": "stdout",
     "output_type": "stream",
     "text": [
      "max at end of edge summation 2\n",
      "summer max 4\n",
      "level 0; %pix 0.6018619791666666\n",
      "level 1; %pix 0.25968641493055555\n",
      "level 2; %pix 0.01724392361111111\n",
      "threshold 2\n",
      "percent activated pixels 0.01724392361111111\n",
      "max of morphed is 1\n",
      "1\n"
     ]
    },
    {
     "name": "stderr",
     "output_type": "stream",
     "text": [
      "\u001b[A\u001b[A\u001b[A\u001b[A"
     ]
    },
    {
     "name": "stdout",
     "output_type": "stream",
     "text": [
      "max at end of edge summation 2\n",
      "max at end of edge summation 1\n"
     ]
    },
    {
     "name": "stderr",
     "output_type": "stream",
     "text": [
      "\n",
      "\n",
      "\n",
      "\n",
      "\r",
      "  4%|▍         | 46/1200 [00:21<09:57,  1.93it/s]"
     ]
    },
    {
     "name": "stdout",
     "output_type": "stream",
     "text": [
      "max at end of edge summation 1\n",
      "summer max 4\n",
      "level 0; %pix 0.6057736545138889\n",
      "level 1; %pix 0.26055013020833334\n",
      "level 2; %pix 0.017438151041666666\n",
      "threshold 2\n",
      "percent activated pixels 0.017438151041666666\n",
      "max of morphed is 1\n",
      "1\n"
     ]
    },
    {
     "name": "stderr",
     "output_type": "stream",
     "text": [
      "\u001b[A\u001b[A\u001b[A\u001b[A"
     ]
    },
    {
     "name": "stdout",
     "output_type": "stream",
     "text": [
      "max at end of edge summation 2\n",
      "max at end of edge summation 2\n"
     ]
    },
    {
     "name": "stderr",
     "output_type": "stream",
     "text": [
      "\n",
      "\n",
      "\n",
      "\n",
      "\r",
      "  4%|▍         | 47/1200 [00:22<09:43,  1.97it/s]"
     ]
    },
    {
     "name": "stdout",
     "output_type": "stream",
     "text": [
      "max at end of edge summation 1\n",
      "summer max 4\n",
      "level 0; %pix 0.6124034288194444\n",
      "level 1; %pix 0.262998046875\n",
      "level 2; %pix 0.017415364583333332\n",
      "threshold 2\n",
      "percent activated pixels 0.017415364583333332\n",
      "max of morphed is 1\n",
      "1\n"
     ]
    },
    {
     "name": "stderr",
     "output_type": "stream",
     "text": [
      "\u001b[A\u001b[A\u001b[A\u001b[A"
     ]
    },
    {
     "name": "stdout",
     "output_type": "stream",
     "text": [
      "max at end of edge summation 2\n",
      "max at end of edge summation 1\n"
     ]
    },
    {
     "name": "stderr",
     "output_type": "stream",
     "text": [
      "\n",
      "\n",
      "\n",
      "\n",
      "\r",
      "  4%|▍         | 48/1200 [00:22<09:39,  1.99it/s]"
     ]
    },
    {
     "name": "stdout",
     "output_type": "stream",
     "text": [
      "max at end of edge summation 1\n",
      "summer max 4\n",
      "level 0; %pix 0.6069357638888889\n",
      "level 1; %pix 0.2641200086805556\n",
      "level 2; %pix 0.018021918402777778\n",
      "threshold 2\n",
      "percent activated pixels 0.018021918402777778\n",
      "max of morphed is 1\n",
      "1\n"
     ]
    },
    {
     "name": "stderr",
     "output_type": "stream",
     "text": [
      "\u001b[A\u001b[A\u001b[A\u001b[A"
     ]
    },
    {
     "name": "stdout",
     "output_type": "stream",
     "text": [
      "max at end of edge summation 2\n",
      "max at end of edge summation 1\n"
     ]
    },
    {
     "name": "stderr",
     "output_type": "stream",
     "text": [
      "\n",
      "\n",
      "\n",
      "\n",
      "\r",
      "  4%|▍         | 49/1200 [00:23<09:38,  1.99it/s]"
     ]
    },
    {
     "name": "stdout",
     "output_type": "stream",
     "text": [
      "max at end of edge summation 1\n",
      "summer max 4\n",
      "level 0; %pix 0.6149717881944444\n",
      "level 1; %pix 0.26424370659722224\n",
      "level 2; %pix 0.017386067708333335\n",
      "threshold 2\n",
      "percent activated pixels 0.017386067708333335\n",
      "max of morphed is 1\n",
      "1\n"
     ]
    },
    {
     "name": "stderr",
     "output_type": "stream",
     "text": [
      "\u001b[A\u001b[A\u001b[A\u001b[A"
     ]
    },
    {
     "name": "stdout",
     "output_type": "stream",
     "text": [
      "max at end of edge summation 2\n",
      "max at end of edge summation 2\n"
     ]
    },
    {
     "name": "stderr",
     "output_type": "stream",
     "text": [
      "\n",
      "\n",
      "\n",
      "\n",
      "\r",
      "  4%|▍         | 50/1200 [00:23<09:41,  1.98it/s]"
     ]
    },
    {
     "name": "stdout",
     "output_type": "stream",
     "text": [
      "max at end of edge summation 1\n",
      "summer max 4\n",
      "level 0; %pix 0.6098524305555556\n",
      "level 1; %pix 0.2645236545138889\n",
      "level 2; %pix 0.018077256944444446\n",
      "threshold 2\n",
      "percent activated pixels 0.018077256944444446\n",
      "max of morphed is 1\n",
      "1\n"
     ]
    },
    {
     "name": "stderr",
     "output_type": "stream",
     "text": [
      "\u001b[A\u001b[A\u001b[A\u001b[A"
     ]
    },
    {
     "name": "stdout",
     "output_type": "stream",
     "text": [
      "max at end of edge summation 2\n",
      "max at end of edge summation 2\n"
     ]
    },
    {
     "name": "stderr",
     "output_type": "stream",
     "text": [
      "\n",
      "\n",
      "\n",
      "\n",
      "\r",
      "  4%|▍         | 51/1200 [00:24<09:40,  1.98it/s]"
     ]
    },
    {
     "name": "stdout",
     "output_type": "stream",
     "text": [
      "max at end of edge summation 1\n",
      "summer max 4\n",
      "level 0; %pix 0.6109678819444444\n",
      "level 1; %pix 0.26374240451388886\n",
      "level 2; %pix 0.018071831597222223\n",
      "threshold 2\n",
      "percent activated pixels 0.018071831597222223\n",
      "max of morphed is 1\n",
      "1\n"
     ]
    },
    {
     "name": "stderr",
     "output_type": "stream",
     "text": [
      "\u001b[A\u001b[A\u001b[A\u001b[A"
     ]
    },
    {
     "name": "stdout",
     "output_type": "stream",
     "text": [
      "max at end of edge summation 2\n",
      "max at end of edge summation 2\n"
     ]
    },
    {
     "name": "stderr",
     "output_type": "stream",
     "text": [
      "\n",
      "\n",
      "\n",
      "\n",
      "\r",
      "  4%|▍         | 52/1200 [00:24<09:39,  1.98it/s]"
     ]
    },
    {
     "name": "stdout",
     "output_type": "stream",
     "text": [
      "max at end of edge summation 1\n",
      "summer max 4\n",
      "level 0; %pix 0.6138075086805556\n",
      "level 1; %pix 0.26467339409722224\n",
      "level 2; %pix 0.018694661458333334\n",
      "threshold 2\n",
      "percent activated pixels 0.018694661458333334\n",
      "max of morphed is 1\n",
      "1\n"
     ]
    },
    {
     "name": "stderr",
     "output_type": "stream",
     "text": [
      "\u001b[A\u001b[A\u001b[A\u001b[A"
     ]
    },
    {
     "name": "stdout",
     "output_type": "stream",
     "text": [
      "max at end of edge summation 2\n",
      "max at end of edge summation 2\n"
     ]
    },
    {
     "name": "stderr",
     "output_type": "stream",
     "text": [
      "\n",
      "\n",
      "\n",
      "\n",
      "\r",
      "  4%|▍         | 53/1200 [00:25<09:33,  2.00it/s]"
     ]
    },
    {
     "name": "stdout",
     "output_type": "stream",
     "text": [
      "max at end of edge summation 1\n",
      "summer max 4\n",
      "level 0; %pix 0.6173980034722222\n",
      "level 1; %pix 0.26622938368055554\n",
      "level 2; %pix 0.019279513888888888\n",
      "threshold 2\n",
      "percent activated pixels 0.019279513888888888\n",
      "max of morphed is 1\n",
      "1\n"
     ]
    },
    {
     "name": "stderr",
     "output_type": "stream",
     "text": [
      "\u001b[A\u001b[A\u001b[A\u001b[A"
     ]
    },
    {
     "name": "stdout",
     "output_type": "stream",
     "text": [
      "max at end of edge summation 2\n",
      "max at end of edge summation 1\n"
     ]
    },
    {
     "name": "stderr",
     "output_type": "stream",
     "text": [
      "\n",
      "\n",
      "\n",
      "\n",
      "\r",
      "  4%|▍         | 54/1200 [00:25<09:31,  2.01it/s]"
     ]
    },
    {
     "name": "stdout",
     "output_type": "stream",
     "text": [
      "max at end of edge summation 1\n",
      "summer max 4\n",
      "level 0; %pix 0.61142578125\n",
      "level 1; %pix 0.26589518229166664\n",
      "level 2; %pix 0.020069444444444445\n",
      "threshold 2\n",
      "percent activated pixels 0.020069444444444445\n",
      "max of morphed is 1\n",
      "1\n"
     ]
    },
    {
     "name": "stderr",
     "output_type": "stream",
     "text": [
      "\u001b[A\u001b[A\u001b[A\u001b[A"
     ]
    },
    {
     "name": "stdout",
     "output_type": "stream",
     "text": [
      "max at end of edge summation 2\n",
      "max at end of edge summation 1\n"
     ]
    },
    {
     "name": "stderr",
     "output_type": "stream",
     "text": [
      "\n",
      "\n",
      "\n",
      "\n",
      "\r",
      "  5%|▍         | 55/1200 [00:26<09:32,  2.00it/s]"
     ]
    },
    {
     "name": "stdout",
     "output_type": "stream",
     "text": [
      "max at end of edge summation 1\n",
      "summer max 4\n",
      "level 0; %pix 0.6149381510416667\n",
      "level 1; %pix 0.2684548611111111\n",
      "level 2; %pix 0.020152994791666667\n",
      "threshold 2\n",
      "percent activated pixels 0.020152994791666667\n",
      "max of morphed is 1\n",
      "1\n"
     ]
    },
    {
     "name": "stderr",
     "output_type": "stream",
     "text": [
      "\u001b[A\u001b[A\u001b[A\u001b[A"
     ]
    },
    {
     "name": "stdout",
     "output_type": "stream",
     "text": [
      "max at end of edge summation 2\n",
      "max at end of edge summation 2\n"
     ]
    },
    {
     "name": "stderr",
     "output_type": "stream",
     "text": [
      "\n",
      "\n",
      "\n",
      "\n",
      "\r",
      "  5%|▍         | 56/1200 [00:26<09:28,  2.01it/s]"
     ]
    },
    {
     "name": "stdout",
     "output_type": "stream",
     "text": [
      "max at end of edge summation 1\n",
      "summer max 4\n",
      "level 0; %pix 0.6161545138888889\n",
      "level 1; %pix 0.26678927951388887\n",
      "level 2; %pix 0.01968967013888889\n",
      "threshold 2\n",
      "percent activated pixels 0.01968967013888889\n",
      "max of morphed is 1\n",
      "1\n"
     ]
    },
    {
     "name": "stderr",
     "output_type": "stream",
     "text": [
      "\u001b[A\u001b[A\u001b[A\u001b[A"
     ]
    },
    {
     "name": "stdout",
     "output_type": "stream",
     "text": [
      "max at end of edge summation 2\n",
      "max at end of edge summation 2\n"
     ]
    },
    {
     "name": "stderr",
     "output_type": "stream",
     "text": [
      "\n",
      "\n",
      "\n",
      "\n",
      "\r",
      "  5%|▍         | 57/1200 [00:27<09:27,  2.01it/s]"
     ]
    },
    {
     "name": "stdout",
     "output_type": "stream",
     "text": [
      "max at end of edge summation 1\n",
      "summer max 4\n",
      "level 0; %pix 0.6097808159722222\n",
      "level 1; %pix 0.2672243923611111\n",
      "level 2; %pix 0.01949435763888889\n",
      "threshold 2\n",
      "percent activated pixels 0.01949435763888889\n",
      "max of morphed is 1\n",
      "1\n"
     ]
    },
    {
     "name": "stderr",
     "output_type": "stream",
     "text": [
      "\u001b[A\u001b[A\u001b[A\u001b[A"
     ]
    },
    {
     "name": "stdout",
     "output_type": "stream",
     "text": [
      "max at end of edge summation 2\n",
      "max at end of edge summation 2\n"
     ]
    },
    {
     "name": "stderr",
     "output_type": "stream",
     "text": [
      "\n",
      "\n",
      "\n",
      "\n",
      "\r",
      "  5%|▍         | 58/1200 [00:27<09:23,  2.02it/s]"
     ]
    },
    {
     "name": "stdout",
     "output_type": "stream",
     "text": [
      "max at end of edge summation 1\n",
      "summer max 4\n",
      "level 0; %pix 0.6112619357638889\n",
      "level 1; %pix 0.2673741319444444\n",
      "level 2; %pix 0.018927951388888888\n",
      "threshold 2\n",
      "percent activated pixels 0.018927951388888888\n",
      "max of morphed is 1\n",
      "1\n"
     ]
    },
    {
     "name": "stderr",
     "output_type": "stream",
     "text": [
      "\u001b[A\u001b[A\u001b[A\u001b[A"
     ]
    },
    {
     "name": "stdout",
     "output_type": "stream",
     "text": [
      "max at end of edge summation 2\n",
      "max at end of edge summation 2\n"
     ]
    },
    {
     "name": "stderr",
     "output_type": "stream",
     "text": [
      "\n",
      "\n",
      "\n",
      "\n",
      "\r",
      "  5%|▍         | 59/1200 [00:27<09:11,  2.07it/s]"
     ]
    },
    {
     "name": "stdout",
     "output_type": "stream",
     "text": [
      "max at end of edge summation 2\n",
      "summer max 4\n",
      "level 0; %pix 0.6147124565972222\n",
      "level 1; %pix 0.265732421875\n",
      "level 2; %pix 0.017508680555555555\n",
      "threshold 2\n",
      "percent activated pixels 0.017508680555555555\n",
      "max of morphed is 1\n",
      "1\n"
     ]
    },
    {
     "name": "stderr",
     "output_type": "stream",
     "text": [
      "\u001b[A\u001b[A\u001b[A\u001b[A"
     ]
    },
    {
     "name": "stdout",
     "output_type": "stream",
     "text": [
      "max at end of edge summation 2\n",
      "max at end of edge summation 1\n"
     ]
    },
    {
     "name": "stderr",
     "output_type": "stream",
     "text": [
      "\n",
      "\n",
      "\n",
      "\n",
      "\r",
      "  5%|▌         | 60/1200 [00:28<09:13,  2.06it/s]"
     ]
    },
    {
     "name": "stdout",
     "output_type": "stream",
     "text": [
      "max at end of edge summation 1\n",
      "summer max 4\n",
      "level 0; %pix 0.6078851996527778\n",
      "level 1; %pix 0.26421657986111113\n",
      "level 2; %pix 0.016744791666666668\n",
      "threshold 2\n",
      "percent activated pixels 0.016744791666666668\n",
      "max of morphed is 1\n",
      "1\n"
     ]
    },
    {
     "name": "stderr",
     "output_type": "stream",
     "text": [
      "\u001b[A\u001b[A\u001b[A\u001b[A"
     ]
    },
    {
     "name": "stdout",
     "output_type": "stream",
     "text": [
      "max at end of edge summation 2\n",
      "max at end of edge summation 2\n"
     ]
    },
    {
     "name": "stderr",
     "output_type": "stream",
     "text": [
      "\n",
      "\n",
      "\n",
      "\n",
      "\r",
      "  5%|▌         | 61/1200 [00:28<09:15,  2.05it/s]"
     ]
    },
    {
     "name": "stdout",
     "output_type": "stream",
     "text": [
      "max at end of edge summation 1\n",
      "summer max 4\n",
      "level 0; %pix 0.6029644097222222\n",
      "level 1; %pix 0.25764756944444445\n",
      "level 2; %pix 0.016666666666666666\n",
      "threshold 2\n",
      "percent activated pixels 0.016666666666666666\n",
      "max of morphed is 1\n",
      "1\n"
     ]
    },
    {
     "name": "stderr",
     "output_type": "stream",
     "text": [
      "\u001b[A\u001b[A\u001b[A\u001b[A"
     ]
    },
    {
     "name": "stdout",
     "output_type": "stream",
     "text": [
      "max at end of edge summation 2\n",
      "max at end of edge summation 2\n"
     ]
    },
    {
     "name": "stderr",
     "output_type": "stream",
     "text": [
      "\n",
      "\n",
      "\n",
      "\n",
      "\r",
      "  5%|▌         | 62/1200 [00:29<09:18,  2.04it/s]"
     ]
    },
    {
     "name": "stdout",
     "output_type": "stream",
     "text": [
      "max at end of edge summation 1\n",
      "summer max 4\n",
      "level 0; %pix 0.5958550347222222\n",
      "level 1; %pix 0.25687391493055556\n",
      "level 2; %pix 0.01651801215277778\n",
      "threshold 2\n",
      "percent activated pixels 0.01651801215277778\n",
      "max of morphed is 1\n",
      "1\n"
     ]
    },
    {
     "name": "stderr",
     "output_type": "stream",
     "text": [
      "\u001b[A\u001b[A\u001b[A\u001b[A"
     ]
    },
    {
     "name": "stdout",
     "output_type": "stream",
     "text": [
      "max at end of edge summation 2\n",
      "max at end of edge summation 2\n"
     ]
    },
    {
     "name": "stderr",
     "output_type": "stream",
     "text": [
      "\n",
      "\n",
      "\n",
      "\n",
      "\r",
      "  5%|▌         | 63/1200 [00:29<09:19,  2.03it/s]"
     ]
    },
    {
     "name": "stdout",
     "output_type": "stream",
     "text": [
      "max at end of edge summation 1\n",
      "summer max 4\n",
      "level 0; %pix 0.6056618923611111\n",
      "level 1; %pix 0.2581814236111111\n",
      "level 2; %pix 0.016283637152777777\n",
      "threshold 2\n",
      "percent activated pixels 0.016283637152777777\n",
      "max of morphed is 1\n",
      "1\n"
     ]
    },
    {
     "name": "stderr",
     "output_type": "stream",
     "text": [
      "\u001b[A\u001b[A\u001b[A\u001b[A"
     ]
    },
    {
     "name": "stdout",
     "output_type": "stream",
     "text": [
      "max at end of edge summation 2\n",
      "max at end of edge summation 2\n"
     ]
    },
    {
     "name": "stderr",
     "output_type": "stream",
     "text": [
      "\n",
      "\n",
      "\n",
      "\n",
      "\r",
      "  5%|▌         | 64/1200 [00:30<09:20,  2.03it/s]"
     ]
    },
    {
     "name": "stdout",
     "output_type": "stream",
     "text": [
      "max at end of edge summation 1\n",
      "summer max 4\n",
      "level 0; %pix 0.6009309895833334\n",
      "level 1; %pix 0.2587261284722222\n",
      "level 2; %pix 0.016107855902777777\n",
      "threshold 2\n",
      "percent activated pixels 0.016107855902777777\n",
      "max of morphed is 1\n",
      "1\n"
     ]
    },
    {
     "name": "stderr",
     "output_type": "stream",
     "text": [
      "\u001b[A\u001b[A\u001b[A\u001b[A"
     ]
    },
    {
     "name": "stdout",
     "output_type": "stream",
     "text": [
      "max at end of edge summation 2\n",
      "max at end of edge summation 2\n"
     ]
    },
    {
     "name": "stderr",
     "output_type": "stream",
     "text": [
      "\n",
      "\n",
      "\n",
      "\n",
      "\r",
      "  5%|▌         | 65/1200 [00:30<09:11,  2.06it/s]"
     ]
    },
    {
     "name": "stdout",
     "output_type": "stream",
     "text": [
      "max at end of edge summation 1\n",
      "summer max 4\n",
      "level 0; %pix 0.609130859375\n",
      "level 1; %pix 0.25979166666666664\n",
      "level 2; %pix 0.015552300347222223\n",
      "threshold 2\n",
      "percent activated pixels 0.015552300347222223\n",
      "max of morphed is 1\n",
      "1\n"
     ]
    },
    {
     "name": "stderr",
     "output_type": "stream",
     "text": [
      "\u001b[A\u001b[A\u001b[A\u001b[A"
     ]
    },
    {
     "name": "stdout",
     "output_type": "stream",
     "text": [
      "max at end of edge summation 2\n",
      "max at end of edge summation 1\n"
     ]
    },
    {
     "name": "stderr",
     "output_type": "stream",
     "text": [
      "\n",
      "\n",
      "\n",
      "\n",
      "\r",
      "  6%|▌         | 66/1200 [00:31<09:14,  2.05it/s]"
     ]
    },
    {
     "name": "stdout",
     "output_type": "stream",
     "text": [
      "max at end of edge summation 1\n",
      "summer max 4\n",
      "level 0; %pix 0.6036187065972223\n",
      "level 1; %pix 0.25913953993055555\n",
      "level 2; %pix 0.015368923611111111\n",
      "threshold 2\n",
      "percent activated pixels 0.015368923611111111\n",
      "max of morphed is 1\n",
      "1\n"
     ]
    },
    {
     "name": "stderr",
     "output_type": "stream",
     "text": [
      "\u001b[A\u001b[A\u001b[A\u001b[A"
     ]
    },
    {
     "name": "stdout",
     "output_type": "stream",
     "text": [
      "max at end of edge summation 2\n",
      "max at end of edge summation 2\n"
     ]
    },
    {
     "name": "stderr",
     "output_type": "stream",
     "text": [
      "\n",
      "\n",
      "\n",
      "\n",
      "\r",
      "  6%|▌         | 67/1200 [00:31<09:16,  2.04it/s]"
     ]
    },
    {
     "name": "stdout",
     "output_type": "stream",
     "text": [
      "max at end of edge summation 1\n",
      "summer max 4\n",
      "level 0; %pix 0.6098665364583333\n",
      "level 1; %pix 0.26058159722222224\n",
      "level 2; %pix 0.015264756944444444\n",
      "threshold 2\n",
      "percent activated pixels 0.015264756944444444\n",
      "max of morphed is 1\n",
      "1\n"
     ]
    },
    {
     "name": "stderr",
     "output_type": "stream",
     "text": [
      "\u001b[A\u001b[A\u001b[A\u001b[A"
     ]
    },
    {
     "name": "stdout",
     "output_type": "stream",
     "text": [
      "max at end of edge summation 2\n",
      "max at end of edge summation 2\n"
     ]
    },
    {
     "name": "stderr",
     "output_type": "stream",
     "text": [
      "\n",
      "\n",
      "\n",
      "\n",
      "\r",
      "  6%|▌         | 68/1200 [00:32<09:13,  2.04it/s]"
     ]
    },
    {
     "name": "stdout",
     "output_type": "stream",
     "text": [
      "max at end of edge summation 1\n",
      "summer max 4\n",
      "level 0; %pix 0.6043413628472222\n",
      "level 1; %pix 0.2597265625\n",
      "level 2; %pix 0.015152994791666667\n",
      "threshold 2\n",
      "percent activated pixels 0.015152994791666667\n",
      "max of morphed is 1\n",
      "1\n"
     ]
    },
    {
     "name": "stderr",
     "output_type": "stream",
     "text": [
      "\u001b[A\u001b[A\u001b[A\u001b[A"
     ]
    },
    {
     "name": "stdout",
     "output_type": "stream",
     "text": [
      "max at end of edge summation 2\n",
      "max at end of edge summation 2\n"
     ]
    },
    {
     "name": "stderr",
     "output_type": "stream",
     "text": [
      "\n",
      "\n",
      "\n",
      "\n",
      "\r",
      "  6%|▌         | 69/1200 [00:32<09:15,  2.04it/s]"
     ]
    },
    {
     "name": "stdout",
     "output_type": "stream",
     "text": [
      "max at end of edge summation 1\n",
      "summer max 4\n",
      "level 0; %pix 0.6090896267361111\n",
      "level 1; %pix 0.2605327690972222\n",
      "level 2; %pix 0.015397135416666667\n",
      "threshold 2\n",
      "percent activated pixels 0.015397135416666667\n",
      "max of morphed is 1\n",
      "1\n"
     ]
    },
    {
     "name": "stderr",
     "output_type": "stream",
     "text": [
      "\u001b[A\u001b[A\u001b[A\u001b[A"
     ]
    },
    {
     "name": "stdout",
     "output_type": "stream",
     "text": [
      "max at end of edge summation 2\n",
      "max at end of edge summation 1\n"
     ]
    },
    {
     "name": "stderr",
     "output_type": "stream",
     "text": [
      "\n",
      "\n",
      "\n",
      "\n",
      "\r",
      "  6%|▌         | 70/1200 [00:33<09:17,  2.03it/s]"
     ]
    },
    {
     "name": "stdout",
     "output_type": "stream",
     "text": [
      "max at end of edge summation 1\n",
      "summer max 4\n",
      "level 0; %pix 0.613193359375\n",
      "level 1; %pix 0.26135091145833333\n",
      "level 2; %pix 0.014767795138888888\n",
      "threshold 2\n",
      "percent activated pixels 0.014767795138888888\n",
      "max of morphed is 1\n",
      "1\n"
     ]
    },
    {
     "name": "stderr",
     "output_type": "stream",
     "text": [
      "\u001b[A\u001b[A\u001b[A\u001b[A"
     ]
    },
    {
     "name": "stdout",
     "output_type": "stream",
     "text": [
      "max at end of edge summation 2\n",
      "max at end of edge summation 1\n"
     ]
    },
    {
     "name": "stderr",
     "output_type": "stream",
     "text": [
      "\n",
      "\n",
      "\n",
      "\n",
      "\r",
      "  6%|▌         | 71/1200 [00:33<09:10,  2.05it/s]"
     ]
    },
    {
     "name": "stdout",
     "output_type": "stream",
     "text": [
      "max at end of edge summation 1\n",
      "summer max 4\n",
      "level 0; %pix 0.6058745659722222\n",
      "level 1; %pix 0.261826171875\n",
      "level 2; %pix 0.014455295138888888\n",
      "threshold 2\n",
      "percent activated pixels 0.014455295138888888\n",
      "max of morphed is 1\n",
      "1\n"
     ]
    },
    {
     "name": "stderr",
     "output_type": "stream",
     "text": [
      "\u001b[A\u001b[A\u001b[A\u001b[A"
     ]
    },
    {
     "name": "stdout",
     "output_type": "stream",
     "text": [
      "max at end of edge summation 2\n",
      "max at end of edge summation 1\n"
     ]
    },
    {
     "name": "stderr",
     "output_type": "stream",
     "text": [
      "\n",
      "\n",
      "\n",
      "\n",
      "\r",
      "  6%|▌         | 72/1200 [00:34<09:13,  2.04it/s]"
     ]
    },
    {
     "name": "stdout",
     "output_type": "stream",
     "text": [
      "max at end of edge summation 1\n",
      "summer max 4\n",
      "level 0; %pix 0.6134244791666666\n",
      "level 1; %pix 0.26358289930555556\n",
      "level 2; %pix 0.01465603298611111\n",
      "threshold 2\n",
      "percent activated pixels 0.01465603298611111\n",
      "max of morphed is 1\n",
      "1\n"
     ]
    },
    {
     "name": "stderr",
     "output_type": "stream",
     "text": [
      "\u001b[A\u001b[A\u001b[A\u001b[A"
     ]
    },
    {
     "name": "stdout",
     "output_type": "stream",
     "text": [
      "max at end of edge summation 2\n",
      "max at end of edge summation 2\n"
     ]
    },
    {
     "name": "stderr",
     "output_type": "stream",
     "text": [
      "\n",
      "\n",
      "\n",
      "\n",
      "\r",
      "  6%|▌         | 73/1200 [00:34<09:16,  2.03it/s]"
     ]
    },
    {
     "name": "stdout",
     "output_type": "stream",
     "text": [
      "max at end of edge summation 1\n",
      "summer max 4\n",
      "level 0; %pix 0.6059787326388889\n",
      "level 1; %pix 0.2635047743055556\n",
      "level 2; %pix 0.014735243055555555\n",
      "threshold 2\n",
      "percent activated pixels 0.014735243055555555\n",
      "max of morphed is 1\n",
      "1\n"
     ]
    },
    {
     "name": "stderr",
     "output_type": "stream",
     "text": [
      "\u001b[A\u001b[A\u001b[A\u001b[A"
     ]
    },
    {
     "name": "stdout",
     "output_type": "stream",
     "text": [
      "max at end of edge summation 2\n",
      "max at end of edge summation 1\n"
     ]
    },
    {
     "name": "stderr",
     "output_type": "stream",
     "text": [
      "\n",
      "\n",
      "\n",
      "\n",
      "\r",
      "  6%|▌         | 74/1200 [00:35<09:16,  2.02it/s]"
     ]
    },
    {
     "name": "stdout",
     "output_type": "stream",
     "text": [
      "max at end of edge summation 1\n",
      "summer max 4\n",
      "level 0; %pix 0.6129318576388889\n",
      "level 1; %pix 0.26205512152777777\n",
      "level 2; %pix 0.014755859375\n",
      "threshold 2\n",
      "percent activated pixels 0.014755859375\n",
      "max of morphed is 1\n",
      "1\n"
     ]
    },
    {
     "name": "stderr",
     "output_type": "stream",
     "text": [
      "\u001b[A\u001b[A\u001b[A\u001b[A"
     ]
    },
    {
     "name": "stdout",
     "output_type": "stream",
     "text": [
      "max at end of edge summation 2\n",
      "max at end of edge summation 1\n"
     ]
    },
    {
     "name": "stderr",
     "output_type": "stream",
     "text": [
      "\n",
      "\n",
      "\n",
      "\n",
      "\r",
      "  6%|▋         | 75/1200 [00:35<09:14,  2.03it/s]"
     ]
    },
    {
     "name": "stdout",
     "output_type": "stream",
     "text": [
      "max at end of edge summation 2\n",
      "summer max 4\n",
      "level 0; %pix 0.6056032986111111\n",
      "level 1; %pix 0.2605523003472222\n",
      "level 2; %pix 0.014104817708333333\n",
      "threshold 2\n",
      "percent activated pixels 0.014104817708333333\n",
      "max of morphed is 1\n",
      "1\n"
     ]
    },
    {
     "name": "stderr",
     "output_type": "stream",
     "text": [
      "\u001b[A\u001b[A\u001b[A\u001b[A"
     ]
    },
    {
     "name": "stdout",
     "output_type": "stream",
     "text": [
      "max at end of edge summation 2\n",
      "max at end of edge summation 1\n"
     ]
    },
    {
     "name": "stderr",
     "output_type": "stream",
     "text": [
      "\n",
      "\n",
      "\n",
      "\n",
      "\r",
      "  6%|▋         | 76/1200 [00:36<09:14,  2.03it/s]"
     ]
    },
    {
     "name": "stdout",
     "output_type": "stream",
     "text": [
      "max at end of edge summation 1\n",
      "summer max 4\n",
      "level 0; %pix 0.6075965711805555\n",
      "level 1; %pix 0.2588791232638889\n",
      "level 2; %pix 0.014717881944444445\n",
      "threshold 2\n",
      "percent activated pixels 0.014717881944444445\n",
      "max of morphed is 1\n",
      "1\n"
     ]
    },
    {
     "name": "stderr",
     "output_type": "stream",
     "text": [
      "\u001b[A\u001b[A\u001b[A\u001b[A"
     ]
    },
    {
     "name": "stdout",
     "output_type": "stream",
     "text": [
      "max at end of edge summation 2\n",
      "max at end of edge summation 2\n"
     ]
    },
    {
     "name": "stderr",
     "output_type": "stream",
     "text": [
      "\n",
      "\n",
      "\n",
      "\n",
      "\r",
      "  6%|▋         | 77/1200 [00:36<09:04,  2.06it/s]"
     ]
    },
    {
     "name": "stdout",
     "output_type": "stream",
     "text": [
      "max at end of edge summation 1\n",
      "summer max 4\n",
      "level 0; %pix 0.6148589409722223\n",
      "level 1; %pix 0.25947265625\n",
      "level 2; %pix 0.0146484375\n",
      "threshold 2\n",
      "percent activated pixels 0.0146484375\n",
      "max of morphed is 1\n",
      "1\n"
     ]
    },
    {
     "name": "stderr",
     "output_type": "stream",
     "text": [
      "\u001b[A\u001b[A\u001b[A\u001b[A"
     ]
    },
    {
     "name": "stdout",
     "output_type": "stream",
     "text": [
      "max at end of edge summation 2\n",
      "max at end of edge summation 1\n"
     ]
    },
    {
     "name": "stderr",
     "output_type": "stream",
     "text": [
      "\n",
      "\n",
      "\n",
      "\n",
      "\r",
      "  6%|▋         | 78/1200 [00:37<09:10,  2.04it/s]"
     ]
    },
    {
     "name": "stdout",
     "output_type": "stream",
     "text": [
      "max at end of edge summation 1\n",
      "summer max 4\n",
      "level 0; %pix 0.6091644965277778\n",
      "level 1; %pix 0.25880533854166665\n",
      "level 2; %pix 0.015084635416666667\n",
      "threshold 2\n",
      "percent activated pixels 0.015084635416666667\n",
      "max of morphed is 1\n",
      "1\n"
     ]
    },
    {
     "name": "stderr",
     "output_type": "stream",
     "text": [
      "\u001b[A\u001b[A\u001b[A\u001b[A"
     ]
    },
    {
     "name": "stdout",
     "output_type": "stream",
     "text": [
      "max at end of edge summation 2\n",
      "max at end of edge summation 1\n"
     ]
    },
    {
     "name": "stderr",
     "output_type": "stream",
     "text": [
      "\n",
      "\n",
      "\n",
      "\n",
      "\r",
      "  7%|▋         | 79/1200 [00:37<09:09,  2.04it/s]"
     ]
    },
    {
     "name": "stdout",
     "output_type": "stream",
     "text": [
      "max at end of edge summation 1\n",
      "summer max 4\n",
      "level 0; %pix 0.61689453125\n",
      "level 1; %pix 0.25873263888888887\n",
      "level 2; %pix 0.015447048611111111\n",
      "threshold 2\n",
      "percent activated pixels 0.015447048611111111\n",
      "max of morphed is 1\n",
      "1\n"
     ]
    },
    {
     "name": "stderr",
     "output_type": "stream",
     "text": [
      "\u001b[A\u001b[A\u001b[A\u001b[A"
     ]
    },
    {
     "name": "stdout",
     "output_type": "stream",
     "text": [
      "max at end of edge summation 2\n",
      "max at end of edge summation 1\n"
     ]
    },
    {
     "name": "stderr",
     "output_type": "stream",
     "text": [
      "\n",
      "\n",
      "\n",
      "\n",
      "\r",
      "  7%|▋         | 80/1200 [00:38<09:11,  2.03it/s]"
     ]
    },
    {
     "name": "stdout",
     "output_type": "stream",
     "text": [
      "max at end of edge summation 1\n",
      "summer max 4\n",
      "level 0; %pix 0.6099522569444444\n",
      "level 1; %pix 0.25697808159722224\n",
      "level 2; %pix 0.01606662326388889\n",
      "threshold 2\n",
      "percent activated pixels 0.01606662326388889\n",
      "max of morphed is 1\n",
      "1\n"
     ]
    },
    {
     "name": "stderr",
     "output_type": "stream",
     "text": [
      "\u001b[A\u001b[A\u001b[A\u001b[A"
     ]
    },
    {
     "name": "stdout",
     "output_type": "stream",
     "text": [
      "max at end of edge summation 2\n",
      "max at end of edge summation 2\n"
     ]
    },
    {
     "name": "stderr",
     "output_type": "stream",
     "text": [
      "\n",
      "\n",
      "\n",
      "\n",
      "\r",
      "  7%|▋         | 81/1200 [00:38<09:11,  2.03it/s]"
     ]
    },
    {
     "name": "stdout",
     "output_type": "stream",
     "text": [
      "max at end of edge summation 1\n",
      "summer max 4\n",
      "level 0; %pix 0.6109461805555556\n",
      "level 1; %pix 0.2566449652777778\n",
      "level 2; %pix 0.015965711805555557\n",
      "threshold 2\n",
      "percent activated pixels 0.015965711805555557\n",
      "max of morphed is 1\n",
      "1\n"
     ]
    },
    {
     "name": "stderr",
     "output_type": "stream",
     "text": [
      "\u001b[A\u001b[A\u001b[A\u001b[A"
     ]
    },
    {
     "name": "stdout",
     "output_type": "stream",
     "text": [
      "max at end of edge summation 2\n",
      "max at end of edge summation 1\n"
     ]
    },
    {
     "name": "stderr",
     "output_type": "stream",
     "text": [
      "\n",
      "\n",
      "\n",
      "\n",
      "\r",
      "  7%|▋         | 82/1200 [00:39<09:16,  2.01it/s]"
     ]
    },
    {
     "name": "stdout",
     "output_type": "stream",
     "text": [
      "max at end of edge summation 1\n",
      "summer max 4\n",
      "level 0; %pix 0.6123307291666666\n",
      "level 1; %pix 0.2564572482638889\n",
      "level 2; %pix 0.015893012152777778\n",
      "threshold 2\n",
      "percent activated pixels 0.015893012152777778\n",
      "max of morphed is 1\n",
      "1\n"
     ]
    },
    {
     "name": "stderr",
     "output_type": "stream",
     "text": [
      "\u001b[A\u001b[A\u001b[A\u001b[A"
     ]
    },
    {
     "name": "stdout",
     "output_type": "stream",
     "text": [
      "max at end of edge summation 2\n",
      "max at end of edge summation 1\n"
     ]
    },
    {
     "name": "stderr",
     "output_type": "stream",
     "text": [
      "\n",
      "\n",
      "\n",
      "\n",
      "\r",
      "  7%|▋         | 83/1200 [00:39<09:11,  2.03it/s]"
     ]
    },
    {
     "name": "stdout",
     "output_type": "stream",
     "text": [
      "max at end of edge summation 1\n",
      "summer max 4\n",
      "level 0; %pix 0.6107573784722222\n",
      "level 1; %pix 0.2544845920138889\n",
      "level 2; %pix 0.014898003472222223\n",
      "threshold 2\n",
      "percent activated pixels 0.014898003472222223\n",
      "max of morphed is 1\n",
      "1\n"
     ]
    },
    {
     "name": "stderr",
     "output_type": "stream",
     "text": [
      "\u001b[A\u001b[A\u001b[A\u001b[A"
     ]
    },
    {
     "name": "stdout",
     "output_type": "stream",
     "text": [
      "max at end of edge summation 2\n",
      "max at end of edge summation 2\n"
     ]
    },
    {
     "name": "stderr",
     "output_type": "stream",
     "text": [
      "\n",
      "\n",
      "\n",
      "\n",
      "\r",
      "  7%|▋         | 84/1200 [00:40<09:18,  2.00it/s]"
     ]
    },
    {
     "name": "stdout",
     "output_type": "stream",
     "text": [
      "max at end of edge summation 1\n",
      "summer max 4\n",
      "level 0; %pix 0.6153233506944444\n",
      "level 1; %pix 0.2558224826388889\n",
      "level 2; %pix 0.015143229166666666\n",
      "threshold 2\n",
      "percent activated pixels 0.015143229166666666\n",
      "max of morphed is 1\n",
      "1\n"
     ]
    },
    {
     "name": "stderr",
     "output_type": "stream",
     "text": [
      "\u001b[A\u001b[A\u001b[A\u001b[A"
     ]
    },
    {
     "name": "stdout",
     "output_type": "stream",
     "text": [
      "max at end of edge summation 2\n",
      "max at end of edge summation 1\n"
     ]
    },
    {
     "name": "stderr",
     "output_type": "stream",
     "text": [
      "\n",
      "\n",
      "\n",
      "\n",
      "\r",
      "  7%|▋         | 85/1200 [00:40<09:19,  1.99it/s]"
     ]
    },
    {
     "name": "stdout",
     "output_type": "stream",
     "text": [
      "max at end of edge summation 1\n",
      "summer max 4\n",
      "level 0; %pix 0.6072840711805556\n",
      "level 1; %pix 0.25680338541666664\n",
      "level 2; %pix 0.014625651041666667\n",
      "threshold 2\n",
      "percent activated pixels 0.014625651041666667\n",
      "max of morphed is 1\n",
      "1\n"
     ]
    },
    {
     "name": "stderr",
     "output_type": "stream",
     "text": [
      "\u001b[A\u001b[A\u001b[A\u001b[A"
     ]
    },
    {
     "name": "stdout",
     "output_type": "stream",
     "text": [
      "max at end of edge summation 2\n",
      "max at end of edge summation 1\n"
     ]
    },
    {
     "name": "stderr",
     "output_type": "stream",
     "text": [
      "\n",
      "\n",
      "\n",
      "\n",
      "\r",
      "  7%|▋         | 86/1200 [00:41<09:14,  2.01it/s]"
     ]
    },
    {
     "name": "stdout",
     "output_type": "stream",
     "text": [
      "max at end of edge summation 1\n",
      "summer max 4\n",
      "level 0; %pix 0.6137293836805555\n",
      "level 1; %pix 0.25735243055555557\n",
      "level 2; %pix 0.014669053819444444\n",
      "threshold 2\n",
      "percent activated pixels 0.014669053819444444\n",
      "max of morphed is 1\n",
      "1\n"
     ]
    },
    {
     "name": "stderr",
     "output_type": "stream",
     "text": [
      "\u001b[A\u001b[A\u001b[A\u001b[A"
     ]
    },
    {
     "name": "stdout",
     "output_type": "stream",
     "text": [
      "max at end of edge summation 2\n",
      "max at end of edge summation 1\n"
     ]
    },
    {
     "name": "stderr",
     "output_type": "stream",
     "text": [
      "\n",
      "\n",
      "\n",
      "\n",
      "\r",
      "  7%|▋         | 87/1200 [00:41<09:10,  2.02it/s]"
     ]
    },
    {
     "name": "stdout",
     "output_type": "stream",
     "text": [
      "max at end of edge summation 1\n",
      "summer max 4\n",
      "level 0; %pix 0.6082432725694444\n",
      "level 1; %pix 0.2574435763888889\n",
      "level 2; %pix 0.015457899305555555\n",
      "threshold 2\n",
      "percent activated pixels 0.015457899305555555\n",
      "max of morphed is 1\n",
      "1\n"
     ]
    },
    {
     "name": "stderr",
     "output_type": "stream",
     "text": [
      "\u001b[A\u001b[A\u001b[A\u001b[A"
     ]
    },
    {
     "name": "stdout",
     "output_type": "stream",
     "text": [
      "max at end of edge summation 2\n",
      "max at end of edge summation 1\n"
     ]
    },
    {
     "name": "stderr",
     "output_type": "stream",
     "text": [
      "\n",
      "\n",
      "\n",
      "\n",
      "\r",
      "  7%|▋         | 88/1200 [00:42<09:09,  2.02it/s]"
     ]
    },
    {
     "name": "stdout",
     "output_type": "stream",
     "text": [
      "max at end of edge summation 1\n",
      "summer max 4\n",
      "level 0; %pix 0.616044921875\n",
      "level 1; %pix 0.25690972222222225\n",
      "level 2; %pix 0.015313585069444444\n",
      "threshold 2\n",
      "percent activated pixels 0.015313585069444444\n",
      "max of morphed is 1\n",
      "1\n"
     ]
    },
    {
     "name": "stderr",
     "output_type": "stream",
     "text": [
      "\u001b[A\u001b[A\u001b[A\u001b[A"
     ]
    },
    {
     "name": "stdout",
     "output_type": "stream",
     "text": [
      "max at end of edge summation 2\n",
      "max at end of edge summation 1\n"
     ]
    },
    {
     "name": "stderr",
     "output_type": "stream",
     "text": [
      "\n",
      "\n",
      "\n",
      "\n",
      "\r",
      "  7%|▋         | 89/1200 [00:42<09:01,  2.05it/s]"
     ]
    },
    {
     "name": "stdout",
     "output_type": "stream",
     "text": [
      "max at end of edge summation 1\n",
      "summer max 4\n",
      "level 0; %pix 0.6127506510416667\n",
      "level 1; %pix 0.25779730902777775\n",
      "level 2; %pix 0.015824652777777778\n",
      "threshold 2\n",
      "percent activated pixels 0.015824652777777778\n",
      "max of morphed is 1\n",
      "1\n"
     ]
    },
    {
     "name": "stderr",
     "output_type": "stream",
     "text": [
      "\u001b[A\u001b[A\u001b[A\u001b[A"
     ]
    },
    {
     "name": "stdout",
     "output_type": "stream",
     "text": [
      "max at end of edge summation 2\n",
      "max at end of edge summation 1\n"
     ]
    },
    {
     "name": "stderr",
     "output_type": "stream",
     "text": [
      "\n",
      "\n",
      "\n",
      "\n",
      "\r",
      "  8%|▊         | 90/1200 [00:43<09:05,  2.04it/s]"
     ]
    },
    {
     "name": "stdout",
     "output_type": "stream",
     "text": [
      "max at end of edge summation 1\n",
      "summer max 4\n",
      "level 0; %pix 0.6171603732638888\n",
      "level 1; %pix 0.25864366319444443\n",
      "level 2; %pix 0.016370442708333332\n",
      "threshold 2\n",
      "percent activated pixels 0.016370442708333332\n",
      "max of morphed is 1\n",
      "1\n"
     ]
    },
    {
     "name": "stderr",
     "output_type": "stream",
     "text": [
      "\u001b[A\u001b[A\u001b[A\u001b[A"
     ]
    },
    {
     "name": "stdout",
     "output_type": "stream",
     "text": [
      "max at end of edge summation 2\n",
      "max at end of edge summation 1\n"
     ]
    },
    {
     "name": "stderr",
     "output_type": "stream",
     "text": [
      "\n",
      "\n",
      "\n",
      "\n",
      "\r",
      "  8%|▊         | 91/1200 [00:43<09:04,  2.04it/s]"
     ]
    },
    {
     "name": "stdout",
     "output_type": "stream",
     "text": [
      "max at end of edge summation 1\n",
      "summer max 4\n",
      "level 0; %pix 0.610673828125\n",
      "level 1; %pix 0.2551497395833333\n",
      "level 2; %pix 0.01751953125\n",
      "threshold 2\n",
      "percent activated pixels 0.01751953125\n",
      "max of morphed is 1\n",
      "1\n"
     ]
    },
    {
     "name": "stderr",
     "output_type": "stream",
     "text": [
      "\u001b[A\u001b[A\u001b[A\u001b[A"
     ]
    },
    {
     "name": "stdout",
     "output_type": "stream",
     "text": [
      "max at end of edge summation 2\n",
      "max at end of edge summation 1\n"
     ]
    },
    {
     "name": "stderr",
     "output_type": "stream",
     "text": [
      "\n",
      "\n",
      "\n",
      "\n",
      "\r",
      "  8%|▊         | 92/1200 [00:44<09:08,  2.02it/s]"
     ]
    },
    {
     "name": "stdout",
     "output_type": "stream",
     "text": [
      "max at end of edge summation 2\n",
      "summer max 4\n",
      "level 0; %pix 0.6170941840277778\n",
      "level 1; %pix 0.25378797743055553\n",
      "level 2; %pix 0.01742404513888889\n",
      "threshold 2\n",
      "percent activated pixels 0.01742404513888889\n",
      "max of morphed is 1\n",
      "1\n"
     ]
    },
    {
     "name": "stderr",
     "output_type": "stream",
     "text": [
      "\u001b[A\u001b[A\u001b[A\u001b[A"
     ]
    },
    {
     "name": "stdout",
     "output_type": "stream",
     "text": [
      "max at end of edge summation 2\n",
      "max at end of edge summation 1\n"
     ]
    },
    {
     "name": "stderr",
     "output_type": "stream",
     "text": [
      "\n",
      "\n",
      "\n",
      "\n",
      "\r",
      "  8%|▊         | 93/1200 [00:44<09:11,  2.01it/s]"
     ]
    },
    {
     "name": "stdout",
     "output_type": "stream",
     "text": [
      "max at end of edge summation 1\n",
      "summer max 4\n",
      "level 0; %pix 0.6196940104166667\n",
      "level 1; %pix 0.2556195746527778\n",
      "level 2; %pix 0.017911241319444444\n",
      "threshold 2\n",
      "percent activated pixels 0.017911241319444444\n",
      "max of morphed is 1\n",
      "1\n"
     ]
    },
    {
     "name": "stderr",
     "output_type": "stream",
     "text": [
      "\u001b[A\u001b[A\u001b[A\u001b[A"
     ]
    },
    {
     "name": "stdout",
     "output_type": "stream",
     "text": [
      "max at end of edge summation 2\n",
      "max at end of edge summation 1\n"
     ]
    },
    {
     "name": "stderr",
     "output_type": "stream",
     "text": [
      "\n",
      "\n",
      "\n",
      "\n",
      "\r",
      "  8%|▊         | 94/1200 [00:45<09:11,  2.01it/s]"
     ]
    },
    {
     "name": "stdout",
     "output_type": "stream",
     "text": [
      "max at end of edge summation 1\n",
      "summer max 4\n",
      "level 0; %pix 0.6213541666666667\n",
      "level 1; %pix 0.25564778645833336\n",
      "level 2; %pix 0.018194444444444444\n",
      "threshold 2\n",
      "percent activated pixels 0.018194444444444444\n",
      "max of morphed is 1\n",
      "1\n"
     ]
    },
    {
     "name": "stderr",
     "output_type": "stream",
     "text": [
      "\u001b[A\u001b[A\u001b[A\u001b[A"
     ]
    },
    {
     "name": "stdout",
     "output_type": "stream",
     "text": [
      "max at end of edge summation 2\n",
      "max at end of edge summation 1\n"
     ]
    },
    {
     "name": "stderr",
     "output_type": "stream",
     "text": [
      "\n",
      "\n",
      "\n",
      "\n",
      "\r",
      "  8%|▊         | 95/1200 [00:45<09:00,  2.04it/s]"
     ]
    },
    {
     "name": "stdout",
     "output_type": "stream",
     "text": [
      "max at end of edge summation 1\n",
      "summer max 4\n",
      "level 0; %pix 0.6241373697916667\n",
      "level 1; %pix 0.25581163194444445\n",
      "level 2; %pix 0.018247612847222223\n",
      "threshold 2\n",
      "percent activated pixels 0.018247612847222223\n",
      "max of morphed is 1\n",
      "1\n"
     ]
    },
    {
     "name": "stderr",
     "output_type": "stream",
     "text": [
      "\u001b[A\u001b[A\u001b[A\u001b[A"
     ]
    },
    {
     "name": "stdout",
     "output_type": "stream",
     "text": [
      "max at end of edge summation 2\n",
      "max at end of edge summation 1\n"
     ]
    },
    {
     "name": "stderr",
     "output_type": "stream",
     "text": [
      "\n",
      "\n",
      "\n",
      "\n",
      "\r",
      "  8%|▊         | 96/1200 [00:46<09:03,  2.03it/s]"
     ]
    },
    {
     "name": "stdout",
     "output_type": "stream",
     "text": [
      "max at end of edge summation 2\n",
      "summer max 4\n",
      "level 0; %pix 0.6243760850694444\n",
      "level 1; %pix 0.2557866753472222\n",
      "level 2; %pix 0.018256293402777776\n",
      "threshold 2\n",
      "percent activated pixels 0.018256293402777776\n",
      "max of morphed is 1\n",
      "1\n"
     ]
    },
    {
     "name": "stderr",
     "output_type": "stream",
     "text": [
      "\u001b[A\u001b[A\u001b[A\u001b[A"
     ]
    },
    {
     "name": "stdout",
     "output_type": "stream",
     "text": [
      "max at end of edge summation 2\n",
      "max at end of edge summation 1\n"
     ]
    },
    {
     "name": "stderr",
     "output_type": "stream",
     "text": [
      "\n",
      "\n",
      "\n",
      "\n",
      "\r",
      "  8%|▊         | 97/1200 [00:46<09:04,  2.03it/s]"
     ]
    },
    {
     "name": "stdout",
     "output_type": "stream",
     "text": [
      "max at end of edge summation 1\n",
      "summer max 4\n",
      "level 0; %pix 0.6264811197916667\n",
      "level 1; %pix 0.25398980034722224\n",
      "level 2; %pix 0.01853515625\n",
      "threshold 2\n",
      "percent activated pixels 0.01853515625\n",
      "max of morphed is 1\n",
      "1\n"
     ]
    },
    {
     "name": "stderr",
     "output_type": "stream",
     "text": [
      "\u001b[A\u001b[A\u001b[A\u001b[A"
     ]
    },
    {
     "name": "stdout",
     "output_type": "stream",
     "text": [
      "max at end of edge summation 2\n",
      "max at end of edge summation 1\n"
     ]
    },
    {
     "name": "stderr",
     "output_type": "stream",
     "text": [
      "\n",
      "\n",
      "\n",
      "\n",
      "\r",
      "  8%|▊         | 98/1200 [00:47<09:03,  2.03it/s]"
     ]
    },
    {
     "name": "stdout",
     "output_type": "stream",
     "text": [
      "max at end of edge summation 1\n",
      "summer max 4\n",
      "level 0; %pix 0.621552734375\n",
      "level 1; %pix 0.2539724392361111\n",
      "level 2; %pix 0.01890842013888889\n",
      "threshold 2\n",
      "percent activated pixels 0.01890842013888889\n",
      "max of morphed is 1\n",
      "1\n"
     ]
    },
    {
     "name": "stderr",
     "output_type": "stream",
     "text": [
      "\u001b[A\u001b[A\u001b[A\u001b[A"
     ]
    },
    {
     "name": "stdout",
     "output_type": "stream",
     "text": [
      "max at end of edge summation 2\n",
      "max at end of edge summation 1\n"
     ]
    },
    {
     "name": "stderr",
     "output_type": "stream",
     "text": [
      "\n",
      "\n",
      "\n",
      "\n",
      "\r",
      "  8%|▊         | 99/1200 [00:47<09:02,  2.03it/s]"
     ]
    },
    {
     "name": "stdout",
     "output_type": "stream",
     "text": [
      "max at end of edge summation 2\n",
      "summer max 4\n",
      "level 0; %pix 0.6254991319444444\n",
      "level 1; %pix 0.2536675347222222\n",
      "level 2; %pix 0.018850911458333335\n",
      "threshold 2\n",
      "percent activated pixels 0.018850911458333335\n",
      "max of morphed is 1\n",
      "1\n"
     ]
    },
    {
     "name": "stderr",
     "output_type": "stream",
     "text": [
      "\u001b[A\u001b[A\u001b[A\u001b[A"
     ]
    },
    {
     "name": "stdout",
     "output_type": "stream",
     "text": [
      "max at end of edge summation 2\n",
      "max at end of edge summation 2\n"
     ]
    },
    {
     "name": "stderr",
     "output_type": "stream",
     "text": [
      "\n",
      "\n",
      "\n",
      "\n",
      "\r",
      "  8%|▊         | 100/1200 [00:48<09:03,  2.03it/s]"
     ]
    },
    {
     "name": "stdout",
     "output_type": "stream",
     "text": [
      "max at end of edge summation 1\n",
      "summer max 4\n",
      "level 0; %pix 0.6209092881944445\n",
      "level 1; %pix 0.2528537326388889\n",
      "level 2; %pix 0.019994574652777777\n",
      "threshold 2\n",
      "percent activated pixels 0.019994574652777777\n",
      "max of morphed is 1\n",
      "1\n"
     ]
    },
    {
     "name": "stderr",
     "output_type": "stream",
     "text": [
      "\u001b[A\u001b[A\u001b[A\u001b[A"
     ]
    },
    {
     "name": "stdout",
     "output_type": "stream",
     "text": [
      "max at end of edge summation 2\n",
      "max at end of edge summation 2\n"
     ]
    },
    {
     "name": "stderr",
     "output_type": "stream",
     "text": [
      "\n",
      "\n",
      "\n",
      "\n",
      "\r",
      "  8%|▊         | 101/1200 [00:48<08:52,  2.06it/s]"
     ]
    },
    {
     "name": "stdout",
     "output_type": "stream",
     "text": [
      "max at end of edge summation 2\n",
      "summer max 4\n",
      "level 0; %pix 0.6262532552083333\n",
      "level 1; %pix 0.254521484375\n",
      "level 2; %pix 0.02134006076388889\n",
      "threshold 2\n",
      "percent activated pixels 0.02134006076388889\n",
      "max of morphed is 1\n",
      "1\n"
     ]
    },
    {
     "name": "stderr",
     "output_type": "stream",
     "text": [
      "\u001b[A\u001b[A\u001b[A\u001b[A"
     ]
    },
    {
     "name": "stdout",
     "output_type": "stream",
     "text": [
      "max at end of edge summation 2\n",
      "max at end of edge summation 2\n"
     ]
    },
    {
     "name": "stderr",
     "output_type": "stream",
     "text": [
      "\n",
      "\n",
      "\n",
      "\n",
      "\r",
      "  8%|▊         | 102/1200 [00:49<08:58,  2.04it/s]"
     ]
    },
    {
     "name": "stdout",
     "output_type": "stream",
     "text": [
      "max at end of edge summation 1\n",
      "summer max 4\n",
      "level 0; %pix 0.6292990451388889\n",
      "level 1; %pix 0.254580078125\n",
      "level 2; %pix 0.02120876736111111\n",
      "threshold 2\n",
      "percent activated pixels 0.02120876736111111\n",
      "max of morphed is 1\n",
      "1\n"
     ]
    },
    {
     "name": "stderr",
     "output_type": "stream",
     "text": [
      "\u001b[A\u001b[A\u001b[A\u001b[A"
     ]
    },
    {
     "name": "stdout",
     "output_type": "stream",
     "text": [
      "max at end of edge summation 2\n",
      "max at end of edge summation 1\n"
     ]
    },
    {
     "name": "stderr",
     "output_type": "stream",
     "text": [
      "\n",
      "\n",
      "\n",
      "\n",
      "\r",
      "  9%|▊         | 103/1200 [00:49<08:57,  2.04it/s]"
     ]
    },
    {
     "name": "stdout",
     "output_type": "stream",
     "text": [
      "max at end of edge summation 1\n",
      "summer max 4\n",
      "level 0; %pix 0.6231304253472222\n",
      "level 1; %pix 0.2522439236111111\n",
      "level 2; %pix 0.020379774305555556\n",
      "threshold 2\n",
      "percent activated pixels 0.020379774305555556\n",
      "max of morphed is 1\n",
      "1\n"
     ]
    },
    {
     "name": "stderr",
     "output_type": "stream",
     "text": [
      "\u001b[A\u001b[A\u001b[A\u001b[A"
     ]
    },
    {
     "name": "stdout",
     "output_type": "stream",
     "text": [
      "max at end of edge summation 2\n",
      "max at end of edge summation 1\n"
     ]
    },
    {
     "name": "stderr",
     "output_type": "stream",
     "text": [
      "\n",
      "\n",
      "\n",
      "\n",
      "\r",
      "  9%|▊         | 104/1200 [00:50<08:56,  2.04it/s]"
     ]
    },
    {
     "name": "stdout",
     "output_type": "stream",
     "text": [
      "max at end of edge summation 1\n",
      "summer max 4\n",
      "level 0; %pix 0.62720703125\n",
      "level 1; %pix 0.25390516493055554\n",
      "level 2; %pix 0.02000217013888889\n",
      "threshold 2\n",
      "percent activated pixels 0.02000217013888889\n",
      "max of morphed is 1\n",
      "1\n"
     ]
    },
    {
     "name": "stderr",
     "output_type": "stream",
     "text": [
      "\u001b[A\u001b[A\u001b[A\u001b[A"
     ]
    },
    {
     "name": "stdout",
     "output_type": "stream",
     "text": [
      "max at end of edge summation 2\n",
      "max at end of edge summation 1\n"
     ]
    },
    {
     "name": "stderr",
     "output_type": "stream",
     "text": [
      "\n",
      "\n",
      "\n",
      "\n",
      "\r",
      "  9%|▉         | 105/1200 [00:50<09:00,  2.03it/s]"
     ]
    },
    {
     "name": "stdout",
     "output_type": "stream",
     "text": [
      "max at end of edge summation 1\n",
      "summer max 4\n",
      "level 0; %pix 0.6303537326388889\n",
      "level 1; %pix 0.2523969184027778\n",
      "level 2; %pix 0.018982204861111112\n",
      "threshold 2\n",
      "percent activated pixels 0.018982204861111112\n",
      "max of morphed is 1\n",
      "1\n"
     ]
    },
    {
     "name": "stderr",
     "output_type": "stream",
     "text": [
      "\u001b[A\u001b[A\u001b[A\u001b[A"
     ]
    },
    {
     "name": "stdout",
     "output_type": "stream",
     "text": [
      "max at end of edge summation 2\n",
      "max at end of edge summation 1\n"
     ]
    },
    {
     "name": "stderr",
     "output_type": "stream",
     "text": [
      "\n",
      "\n",
      "\n",
      "\n",
      "\r",
      "  9%|▉         | 106/1200 [00:51<09:03,  2.01it/s]"
     ]
    },
    {
     "name": "stdout",
     "output_type": "stream",
     "text": [
      "max at end of edge summation 1\n",
      "summer max 4\n",
      "level 0; %pix 0.6268207465277778\n",
      "level 1; %pix 0.25317599826388887\n",
      "level 2; %pix 0.01953342013888889\n",
      "threshold 2\n",
      "percent activated pixels 0.01953342013888889\n",
      "max of morphed is 1\n",
      "1\n"
     ]
    },
    {
     "name": "stderr",
     "output_type": "stream",
     "text": [
      "\u001b[A\u001b[A\u001b[A\u001b[A"
     ]
    },
    {
     "name": "stdout",
     "output_type": "stream",
     "text": [
      "max at end of edge summation 2\n",
      "max at end of edge summation 1\n"
     ]
    },
    {
     "name": "stderr",
     "output_type": "stream",
     "text": [
      "\n",
      "\n",
      "\n",
      "\n",
      "\r",
      "  9%|▉         | 107/1200 [00:51<08:54,  2.04it/s]"
     ]
    },
    {
     "name": "stdout",
     "output_type": "stream",
     "text": [
      "max at end of edge summation 1\n",
      "summer max 4\n",
      "level 0; %pix 0.6282269965277778\n",
      "level 1; %pix 0.25194444444444447\n",
      "level 2; %pix 0.01962131076388889\n",
      "threshold 2\n",
      "percent activated pixels 0.01962131076388889\n",
      "max of morphed is 1\n",
      "1\n"
     ]
    },
    {
     "name": "stderr",
     "output_type": "stream",
     "text": [
      "\u001b[A\u001b[A\u001b[A\u001b[A"
     ]
    },
    {
     "name": "stdout",
     "output_type": "stream",
     "text": [
      "max at end of edge summation 2\n",
      "max at end of edge summation 1\n"
     ]
    },
    {
     "name": "stderr",
     "output_type": "stream",
     "text": [
      "\n",
      "\n",
      "\n",
      "\n",
      "\r",
      "  9%|▉         | 108/1200 [00:52<08:57,  2.03it/s]"
     ]
    },
    {
     "name": "stdout",
     "output_type": "stream",
     "text": [
      "max at end of edge summation 1\n",
      "summer max 4\n",
      "level 0; %pix 0.6296462673611111\n",
      "level 1; %pix 0.2504340277777778\n",
      "level 2; %pix 0.01960394965277778\n",
      "threshold 2\n",
      "percent activated pixels 0.01960394965277778\n",
      "max of morphed is 1\n",
      "1\n"
     ]
    },
    {
     "name": "stderr",
     "output_type": "stream",
     "text": [
      "\u001b[A\u001b[A\u001b[A\u001b[A"
     ]
    },
    {
     "name": "stdout",
     "output_type": "stream",
     "text": [
      "max at end of edge summation 2\n",
      "max at end of edge summation 1\n"
     ]
    },
    {
     "name": "stderr",
     "output_type": "stream",
     "text": [
      "\n",
      "\n",
      "\n",
      "\n",
      "\r",
      "  9%|▉         | 109/1200 [00:52<08:58,  2.03it/s]"
     ]
    },
    {
     "name": "stdout",
     "output_type": "stream",
     "text": [
      "max at end of edge summation 1\n",
      "summer max 4\n",
      "level 0; %pix 0.6201616753472222\n",
      "level 1; %pix 0.24674696180555555\n",
      "level 2; %pix 0.019436848958333332\n",
      "threshold 2\n",
      "percent activated pixels 0.019436848958333332\n",
      "max of morphed is 1\n",
      "1\n"
     ]
    },
    {
     "name": "stderr",
     "output_type": "stream",
     "text": [
      "\u001b[A\u001b[A\u001b[A\u001b[A"
     ]
    },
    {
     "name": "stdout",
     "output_type": "stream",
     "text": [
      "max at end of edge summation 2\n",
      "max at end of edge summation 1\n"
     ]
    },
    {
     "name": "stderr",
     "output_type": "stream",
     "text": [
      "\n",
      "\n",
      "\n",
      "\n",
      "\r",
      "  9%|▉         | 110/1200 [00:53<09:01,  2.01it/s]"
     ]
    },
    {
     "name": "stdout",
     "output_type": "stream",
     "text": [
      "max at end of edge summation 1\n",
      "summer max 4\n",
      "level 0; %pix 0.6226703559027778\n",
      "level 1; %pix 0.24625325520833333\n",
      "level 2; %pix 0.01861002604166667\n",
      "threshold 2\n",
      "percent activated pixels 0.01861002604166667\n",
      "max of morphed is 1\n",
      "1\n"
     ]
    },
    {
     "name": "stderr",
     "output_type": "stream",
     "text": [
      "\u001b[A\u001b[A\u001b[A\u001b[A"
     ]
    },
    {
     "name": "stdout",
     "output_type": "stream",
     "text": [
      "max at end of edge summation 2\n",
      "max at end of edge summation 1\n"
     ]
    },
    {
     "name": "stderr",
     "output_type": "stream",
     "text": [
      "\n",
      "\n",
      "\n",
      "\n",
      "\r",
      "  9%|▉         | 111/1200 [00:53<09:01,  2.01it/s]"
     ]
    },
    {
     "name": "stdout",
     "output_type": "stream",
     "text": [
      "max at end of edge summation 2\n",
      "summer max 4\n",
      "level 0; %pix 0.6290017361111111\n",
      "level 1; %pix 0.24621961805555556\n",
      "level 2; %pix 0.017723524305555554\n",
      "threshold 2\n",
      "percent activated pixels 0.017723524305555554\n",
      "max of morphed is 1\n",
      "1\n"
     ]
    },
    {
     "name": "stderr",
     "output_type": "stream",
     "text": [
      "\u001b[A\u001b[A\u001b[A\u001b[A"
     ]
    },
    {
     "name": "stdout",
     "output_type": "stream",
     "text": [
      "max at end of edge summation 2\n",
      "max at end of edge summation 1\n"
     ]
    },
    {
     "name": "stderr",
     "output_type": "stream",
     "text": [
      "\n",
      "\n",
      "\n",
      "\n",
      "\r",
      "  9%|▉         | 112/1200 [00:54<09:03,  2.00it/s]"
     ]
    },
    {
     "name": "stdout",
     "output_type": "stream",
     "text": [
      "max at end of edge summation 1\n",
      "summer max 4\n",
      "level 0; %pix 0.6168977864583334\n",
      "level 1; %pix 0.24274956597222222\n",
      "level 2; %pix 0.016610243055555557\n",
      "threshold 2\n",
      "percent activated pixels 0.016610243055555557\n",
      "max of morphed is 1\n",
      "1\n"
     ]
    },
    {
     "name": "stderr",
     "output_type": "stream",
     "text": [
      "\u001b[A\u001b[A\u001b[A\u001b[A"
     ]
    },
    {
     "name": "stdout",
     "output_type": "stream",
     "text": [
      "max at end of edge summation 2\n",
      "max at end of edge summation 1\n"
     ]
    },
    {
     "name": "stderr",
     "output_type": "stream",
     "text": [
      "\n",
      "\n",
      "\n",
      "\n",
      "\r",
      "  9%|▉         | 113/1200 [00:54<08:54,  2.04it/s]"
     ]
    },
    {
     "name": "stdout",
     "output_type": "stream",
     "text": [
      "max at end of edge summation 1\n",
      "summer max 4\n",
      "level 0; %pix 0.6247471788194444\n",
      "level 1; %pix 0.24391276041666668\n",
      "level 2; %pix 0.016061197916666665\n",
      "threshold 2\n",
      "percent activated pixels 0.016061197916666665\n",
      "max of morphed is 1\n",
      "1\n"
     ]
    },
    {
     "name": "stderr",
     "output_type": "stream",
     "text": [
      "\u001b[A\u001b[A\u001b[A\u001b[A"
     ]
    },
    {
     "name": "stdout",
     "output_type": "stream",
     "text": [
      "max at end of edge summation 2\n",
      "max at end of edge summation 2\n"
     ]
    },
    {
     "name": "stderr",
     "output_type": "stream",
     "text": [
      "\n",
      "\n",
      "\n",
      "\n",
      "\r",
      " 10%|▉         | 114/1200 [00:55<09:01,  2.01it/s]"
     ]
    },
    {
     "name": "stdout",
     "output_type": "stream",
     "text": [
      "max at end of edge summation 1\n",
      "summer max 4\n",
      "level 0; %pix 0.6163671875\n",
      "level 1; %pix 0.24141493055555555\n",
      "level 2; %pix 0.016107855902777777\n",
      "threshold 2\n",
      "percent activated pixels 0.016107855902777777\n",
      "max of morphed is 1\n",
      "1\n"
     ]
    },
    {
     "name": "stderr",
     "output_type": "stream",
     "text": [
      "\u001b[A\u001b[A\u001b[A\u001b[A"
     ]
    },
    {
     "name": "stdout",
     "output_type": "stream",
     "text": [
      "max at end of edge summation 2\n",
      "max at end of edge summation 2\n"
     ]
    },
    {
     "name": "stderr",
     "output_type": "stream",
     "text": [
      "\n",
      "\n",
      "\n",
      "\n",
      "\r",
      " 10%|▉         | 115/1200 [00:55<09:02,  2.00it/s]"
     ]
    },
    {
     "name": "stdout",
     "output_type": "stream",
     "text": [
      "max at end of edge summation 1\n",
      "summer max 4\n",
      "level 0; %pix 0.625859375\n",
      "level 1; %pix 0.2435036892361111\n",
      "level 2; %pix 0.016471354166666667\n",
      "threshold 2\n",
      "percent activated pixels 0.016471354166666667\n",
      "max of morphed is 1\n",
      "1\n"
     ]
    },
    {
     "name": "stderr",
     "output_type": "stream",
     "text": [
      "\u001b[A\u001b[A\u001b[A\u001b[A"
     ]
    },
    {
     "name": "stdout",
     "output_type": "stream",
     "text": [
      "max at end of edge summation 2\n",
      "max at end of edge summation 2\n"
     ]
    },
    {
     "name": "stderr",
     "output_type": "stream",
     "text": [
      "\n",
      "\n",
      "\n",
      "\n",
      "\r",
      " 10%|▉         | 116/1200 [00:56<09:04,  1.99it/s]"
     ]
    },
    {
     "name": "stdout",
     "output_type": "stream",
     "text": [
      "max at end of edge summation 1\n",
      "summer max 4\n",
      "level 0; %pix 0.6184548611111111\n",
      "level 1; %pix 0.23985460069444445\n",
      "level 2; %pix 0.016314019097222222\n",
      "threshold 2\n",
      "percent activated pixels 0.016314019097222222\n",
      "max of morphed is 1\n",
      "1\n"
     ]
    },
    {
     "name": "stderr",
     "output_type": "stream",
     "text": [
      "\u001b[A\u001b[A\u001b[A\u001b[A"
     ]
    },
    {
     "name": "stdout",
     "output_type": "stream",
     "text": [
      "max at end of edge summation 2\n",
      "max at end of edge summation 2\n"
     ]
    },
    {
     "name": "stderr",
     "output_type": "stream",
     "text": [
      "\n",
      "\n",
      "\n",
      "\n",
      "\r",
      " 10%|▉         | 117/1200 [00:56<09:06,  1.98it/s]"
     ]
    },
    {
     "name": "stdout",
     "output_type": "stream",
     "text": [
      "max at end of edge summation 1\n",
      "summer max 4\n",
      "level 0; %pix 0.6294032118055556\n",
      "level 1; %pix 0.24280164930555556\n",
      "level 2; %pix 0.01607204861111111\n",
      "threshold 2\n",
      "percent activated pixels 0.01607204861111111\n",
      "max of morphed is 1\n",
      "1\n"
     ]
    },
    {
     "name": "stderr",
     "output_type": "stream",
     "text": [
      "\u001b[A\u001b[A\u001b[A\u001b[A"
     ]
    },
    {
     "name": "stdout",
     "output_type": "stream",
     "text": [
      "max at end of edge summation 2\n",
      "max at end of edge summation 2\n"
     ]
    },
    {
     "name": "stderr",
     "output_type": "stream",
     "text": [
      "\n",
      "\n",
      "\n",
      "\n",
      "\r",
      " 10%|▉         | 118/1200 [00:57<09:05,  1.98it/s]"
     ]
    },
    {
     "name": "stdout",
     "output_type": "stream",
     "text": [
      "max at end of edge summation 1\n",
      "summer max 4\n",
      "level 0; %pix 0.6221299913194445\n",
      "level 1; %pix 0.239521484375\n",
      "level 2; %pix 0.015902777777777776\n",
      "threshold 2\n",
      "percent activated pixels 0.015902777777777776\n",
      "max of morphed is 1\n",
      "1\n"
     ]
    },
    {
     "name": "stderr",
     "output_type": "stream",
     "text": [
      "\u001b[A\u001b[A\u001b[A\u001b[A"
     ]
    },
    {
     "name": "stdout",
     "output_type": "stream",
     "text": [
      "max at end of edge summation 2\n",
      "max at end of edge summation 2\n"
     ]
    },
    {
     "name": "stderr",
     "output_type": "stream",
     "text": [
      "\n",
      "\n",
      "\n",
      "\n",
      "\r",
      " 10%|▉         | 119/1200 [00:57<08:57,  2.01it/s]"
     ]
    },
    {
     "name": "stdout",
     "output_type": "stream",
     "text": [
      "max at end of edge summation 2\n",
      "summer max 4\n",
      "level 0; %pix 0.6314474826388888\n",
      "level 1; %pix 0.24254340277777778\n",
      "level 2; %pix 0.01607421875\n",
      "threshold 2\n",
      "percent activated pixels 0.01607421875\n",
      "max of morphed is 1\n",
      "1\n"
     ]
    },
    {
     "name": "stderr",
     "output_type": "stream",
     "text": [
      "\u001b[A\u001b[A\u001b[A\u001b[A"
     ]
    },
    {
     "name": "stdout",
     "output_type": "stream",
     "text": [
      "max at end of edge summation 2\n",
      "max at end of edge summation 2\n"
     ]
    },
    {
     "name": "stderr",
     "output_type": "stream",
     "text": [
      "\n",
      "\n",
      "\n",
      "\n",
      "\r",
      " 10%|█         | 120/1200 [00:58<08:58,  2.00it/s]"
     ]
    },
    {
     "name": "stdout",
     "output_type": "stream",
     "text": [
      "max at end of edge summation 1\n",
      "summer max 4\n",
      "level 0; %pix 0.6234016927083333\n",
      "level 1; %pix 0.24043077256944445\n",
      "level 2; %pix 0.014945746527777777\n",
      "threshold 2\n",
      "percent activated pixels 0.014945746527777777\n",
      "max of morphed is 1\n",
      "1\n"
     ]
    },
    {
     "name": "stderr",
     "output_type": "stream",
     "text": [
      "\u001b[A\u001b[A\u001b[A\u001b[A"
     ]
    },
    {
     "name": "stdout",
     "output_type": "stream",
     "text": [
      "max at end of edge summation 2\n",
      "max at end of edge summation 2\n"
     ]
    },
    {
     "name": "stderr",
     "output_type": "stream",
     "text": [
      "\n",
      "\n",
      "\n",
      "\n",
      "\r",
      " 10%|█         | 121/1200 [00:58<09:00,  2.00it/s]"
     ]
    },
    {
     "name": "stdout",
     "output_type": "stream",
     "text": [
      "max at end of edge summation 1\n",
      "summer max 4\n",
      "level 0; %pix 0.62234375\n",
      "level 1; %pix 0.23787326388888888\n",
      "level 2; %pix 0.015045572916666666\n",
      "threshold 2\n",
      "percent activated pixels 0.015045572916666666\n",
      "max of morphed is 1\n",
      "1\n"
     ]
    },
    {
     "name": "stderr",
     "output_type": "stream",
     "text": [
      "\u001b[A\u001b[A\u001b[A\u001b[A"
     ]
    },
    {
     "name": "stdout",
     "output_type": "stream",
     "text": [
      "max at end of edge summation 2\n",
      "max at end of edge summation 1\n"
     ]
    },
    {
     "name": "stderr",
     "output_type": "stream",
     "text": [
      "\n",
      "\n",
      "\n",
      "\n",
      "\r",
      " 10%|█         | 122/1200 [00:59<09:00,  1.99it/s]"
     ]
    },
    {
     "name": "stdout",
     "output_type": "stream",
     "text": [
      "max at end of edge summation 1\n",
      "summer max 4\n",
      "level 0; %pix 0.6133702256944444\n",
      "level 1; %pix 0.23552842881944444\n",
      "level 2; %pix 0.014228515625\n",
      "threshold 2\n",
      "percent activated pixels 0.014228515625\n",
      "max of morphed is 1\n",
      "1\n"
     ]
    },
    {
     "name": "stderr",
     "output_type": "stream",
     "text": [
      "\u001b[A\u001b[A\u001b[A\u001b[A"
     ]
    },
    {
     "name": "stdout",
     "output_type": "stream",
     "text": [
      "max at end of edge summation 2\n",
      "max at end of edge summation 2\n"
     ]
    },
    {
     "name": "stderr",
     "output_type": "stream",
     "text": [
      "\n",
      "\n",
      "\n",
      "\n",
      "\r",
      " 10%|█         | 123/1200 [00:59<09:02,  1.99it/s]"
     ]
    },
    {
     "name": "stdout",
     "output_type": "stream",
     "text": [
      "max at end of edge summation 1\n",
      "summer max 4\n",
      "level 0; %pix 0.6228765190972222\n",
      "level 1; %pix 0.23755316840277776\n",
      "level 2; %pix 0.013352864583333334\n",
      "threshold 2\n",
      "percent activated pixels 0.013352864583333334\n",
      "max of morphed is 1\n",
      "1\n"
     ]
    },
    {
     "name": "stderr",
     "output_type": "stream",
     "text": [
      "\u001b[A\u001b[A\u001b[A\u001b[A"
     ]
    },
    {
     "name": "stdout",
     "output_type": "stream",
     "text": [
      "max at end of edge summation 2\n",
      "max at end of edge summation 2\n"
     ]
    },
    {
     "name": "stderr",
     "output_type": "stream",
     "text": [
      "\n",
      "\n",
      "\n",
      "\n",
      "\r",
      " 10%|█         | 124/1200 [01:00<09:09,  1.96it/s]"
     ]
    },
    {
     "name": "stdout",
     "output_type": "stream",
     "text": [
      "max at end of edge summation 1\n",
      "summer max 4\n",
      "level 0; %pix 0.6177571614583334\n",
      "level 1; %pix 0.23536458333333332\n",
      "level 2; %pix 0.013012152777777777\n",
      "threshold 2\n",
      "percent activated pixels 0.013012152777777777\n",
      "max of morphed is 1\n",
      "1\n"
     ]
    },
    {
     "name": "stderr",
     "output_type": "stream",
     "text": [
      "\u001b[A\u001b[A\u001b[A\u001b[A"
     ]
    },
    {
     "name": "stdout",
     "output_type": "stream",
     "text": [
      "max at end of edge summation 2\n",
      "max at end of edge summation 2\n"
     ]
    },
    {
     "name": "stderr",
     "output_type": "stream",
     "text": [
      "\n",
      "\n",
      "\n",
      "\n",
      "\r",
      " 10%|█         | 125/1200 [01:00<08:59,  1.99it/s]"
     ]
    },
    {
     "name": "stdout",
     "output_type": "stream",
     "text": [
      "max at end of edge summation 1\n",
      "summer max 4\n",
      "level 0; %pix 0.6277853732638888\n",
      "level 1; %pix 0.23799696180555555\n",
      "level 2; %pix 0.012567274305555556\n",
      "threshold 2\n",
      "percent activated pixels 0.012567274305555556\n",
      "max of morphed is 1\n",
      "1\n"
     ]
    },
    {
     "name": "stderr",
     "output_type": "stream",
     "text": [
      "\u001b[A\u001b[A\u001b[A\u001b[A"
     ]
    },
    {
     "name": "stdout",
     "output_type": "stream",
     "text": [
      "max at end of edge summation 2\n",
      "max at end of edge summation 2\n"
     ]
    },
    {
     "name": "stderr",
     "output_type": "stream",
     "text": [
      "\n",
      "\n",
      "\n",
      "\n",
      "\r",
      " 10%|█         | 126/1200 [01:01<09:02,  1.98it/s]"
     ]
    },
    {
     "name": "stdout",
     "output_type": "stream",
     "text": [
      "max at end of edge summation 1\n",
      "summer max 4\n",
      "level 0; %pix 0.6216525607638889\n",
      "level 1; %pix 0.234384765625\n",
      "level 2; %pix 0.012452256944444445\n",
      "threshold 2\n",
      "percent activated pixels 0.012452256944444445\n",
      "max of morphed is 1\n",
      "1\n"
     ]
    },
    {
     "name": "stderr",
     "output_type": "stream",
     "text": [
      "\u001b[A\u001b[A\u001b[A\u001b[A"
     ]
    },
    {
     "name": "stdout",
     "output_type": "stream",
     "text": [
      "max at end of edge summation 2\n",
      "max at end of edge summation 2\n"
     ]
    },
    {
     "name": "stderr",
     "output_type": "stream",
     "text": [
      "\n",
      "\n",
      "\n",
      "\n",
      "\r",
      " 11%|█         | 127/1200 [01:01<09:01,  1.98it/s]"
     ]
    },
    {
     "name": "stdout",
     "output_type": "stream",
     "text": [
      "max at end of edge summation 1\n",
      "summer max 4\n",
      "level 0; %pix 0.6292317708333334\n",
      "level 1; %pix 0.23633138020833333\n",
      "level 2; %pix 0.011927083333333333\n",
      "threshold 2\n",
      "percent activated pixels 0.011927083333333333\n",
      "max of morphed is 1\n",
      "1\n"
     ]
    },
    {
     "name": "stderr",
     "output_type": "stream",
     "text": [
      "\u001b[A\u001b[A\u001b[A\u001b[A"
     ]
    },
    {
     "name": "stdout",
     "output_type": "stream",
     "text": [
      "max at end of edge summation 2\n",
      "max at end of edge summation 2\n"
     ]
    },
    {
     "name": "stderr",
     "output_type": "stream",
     "text": [
      "\n",
      "\n",
      "\n",
      "\n",
      "\r",
      " 11%|█         | 128/1200 [01:02<09:03,  1.97it/s]"
     ]
    },
    {
     "name": "stdout",
     "output_type": "stream",
     "text": [
      "max at end of edge summation 2\n",
      "summer max 4\n",
      "level 0; %pix 0.6233626302083334\n",
      "level 1; %pix 0.23386610243055556\n",
      "level 2; %pix 0.012022569444444445\n",
      "threshold 2\n",
      "percent activated pixels 0.012022569444444445\n",
      "max of morphed is 1\n",
      "1\n"
     ]
    },
    {
     "name": "stderr",
     "output_type": "stream",
     "text": [
      "\u001b[A\u001b[A\u001b[A\u001b[A"
     ]
    },
    {
     "name": "stdout",
     "output_type": "stream",
     "text": [
      "max at end of edge summation 2\n",
      "max at end of edge summation 2\n"
     ]
    },
    {
     "name": "stderr",
     "output_type": "stream",
     "text": [
      "\n",
      "\n",
      "\n",
      "\n",
      "\r",
      " 11%|█         | 129/1200 [01:02<09:04,  1.97it/s]"
     ]
    },
    {
     "name": "stdout",
     "output_type": "stream",
     "text": [
      "max at end of edge summation 1\n",
      "summer max 4\n",
      "level 0; %pix 0.6309353298611111\n",
      "level 1; %pix 0.23492838541666666\n",
      "level 2; %pix 0.011761067708333333\n",
      "threshold 2\n",
      "percent activated pixels 0.011761067708333333\n",
      "max of morphed is 1\n",
      "1\n"
     ]
    },
    {
     "name": "stderr",
     "output_type": "stream",
     "text": [
      "\u001b[A\u001b[A\u001b[A\u001b[A"
     ]
    },
    {
     "name": "stdout",
     "output_type": "stream",
     "text": [
      "max at end of edge summation 2\n",
      "max at end of edge summation 2\n"
     ]
    },
    {
     "name": "stderr",
     "output_type": "stream",
     "text": [
      "\n",
      "\n",
      "\n",
      "\n",
      "\r",
      " 11%|█         | 130/1200 [01:03<09:06,  1.96it/s]"
     ]
    },
    {
     "name": "stdout",
     "output_type": "stream",
     "text": [
      "max at end of edge summation 2\n",
      "summer max 4\n",
      "level 0; %pix 0.6252387152777777\n",
      "level 1; %pix 0.23303168402777777\n",
      "level 2; %pix 0.011959635416666666\n",
      "threshold 2\n",
      "percent activated pixels 0.011959635416666666\n",
      "max of morphed is 1\n",
      "1\n"
     ]
    },
    {
     "name": "stderr",
     "output_type": "stream",
     "text": [
      "\u001b[A\u001b[A\u001b[A\u001b[A"
     ]
    },
    {
     "name": "stdout",
     "output_type": "stream",
     "text": [
      "max at end of edge summation 2\n",
      "max at end of edge summation 2\n"
     ]
    },
    {
     "name": "stderr",
     "output_type": "stream",
     "text": [
      "\n",
      "\n",
      "\n",
      "\n",
      "\r",
      " 11%|█         | 131/1200 [01:03<08:58,  1.98it/s]"
     ]
    },
    {
     "name": "stdout",
     "output_type": "stream",
     "text": [
      "max at end of edge summation 2\n",
      "summer max 4\n",
      "level 0; %pix 0.6311306423611112\n",
      "level 1; %pix 0.23490125868055556\n",
      "level 2; %pix 0.012150607638888889\n",
      "threshold 2\n",
      "percent activated pixels 0.012150607638888889\n",
      "max of morphed is 1\n",
      "1\n"
     ]
    },
    {
     "name": "stderr",
     "output_type": "stream",
     "text": [
      "\u001b[A\u001b[A\u001b[A\u001b[A"
     ]
    },
    {
     "name": "stdout",
     "output_type": "stream",
     "text": [
      "max at end of edge summation 2\n",
      "max at end of edge summation 2\n"
     ]
    },
    {
     "name": "stderr",
     "output_type": "stream",
     "text": [
      "\n",
      "\n",
      "\n",
      "\n",
      "\r",
      " 11%|█         | 132/1200 [01:04<09:02,  1.97it/s]"
     ]
    },
    {
     "name": "stdout",
     "output_type": "stream",
     "text": [
      "max at end of edge summation 2\n",
      "summer max 4\n",
      "level 0; %pix 0.6285275607638889\n",
      "level 1; %pix 0.23383680555555555\n",
      "level 2; %pix 0.012522786458333334\n",
      "threshold 2\n",
      "percent activated pixels 0.012522786458333334\n",
      "max of morphed is 1\n",
      "1\n"
     ]
    },
    {
     "name": "stderr",
     "output_type": "stream",
     "text": [
      "\u001b[A\u001b[A\u001b[A\u001b[A"
     ]
    },
    {
     "name": "stdout",
     "output_type": "stream",
     "text": [
      "max at end of edge summation 2\n",
      "max at end of edge summation 2\n"
     ]
    },
    {
     "name": "stderr",
     "output_type": "stream",
     "text": [
      "\n",
      "\n",
      "\n",
      "\n",
      "\r",
      " 11%|█         | 133/1200 [01:04<09:01,  1.97it/s]"
     ]
    },
    {
     "name": "stdout",
     "output_type": "stream",
     "text": [
      "max at end of edge summation 2\n",
      "summer max 5\n",
      "level 0; %pix 0.6324978298611111\n",
      "level 1; %pix 0.2351953125\n",
      "level 2; %pix 0.012409939236111112\n",
      "threshold 2\n",
      "percent activated pixels 0.012409939236111112\n",
      "max of morphed is 1\n",
      "1\n"
     ]
    },
    {
     "name": "stderr",
     "output_type": "stream",
     "text": [
      "\u001b[A\u001b[A\u001b[A\u001b[A"
     ]
    },
    {
     "name": "stdout",
     "output_type": "stream",
     "text": [
      "max at end of edge summation 2\n",
      "max at end of edge summation 2\n"
     ]
    },
    {
     "name": "stderr",
     "output_type": "stream",
     "text": [
      "\n",
      "\n",
      "\n",
      "\n",
      "\r",
      " 11%|█         | 134/1200 [01:05<09:03,  1.96it/s]"
     ]
    },
    {
     "name": "stdout",
     "output_type": "stream",
     "text": [
      "max at end of edge summation 1\n",
      "summer max 4\n",
      "level 0; %pix 0.6278255208333333\n",
      "level 1; %pix 0.23237738715277778\n",
      "level 2; %pix 0.012476128472222223\n",
      "threshold 2\n",
      "percent activated pixels 0.012476128472222223\n",
      "max of morphed is 1\n",
      "1\n"
     ]
    },
    {
     "name": "stderr",
     "output_type": "stream",
     "text": [
      "\u001b[A\u001b[A\u001b[A\u001b[A"
     ]
    },
    {
     "name": "stdout",
     "output_type": "stream",
     "text": [
      "max at end of edge summation 2\n",
      "max at end of edge summation 2\n"
     ]
    },
    {
     "name": "stderr",
     "output_type": "stream",
     "text": [
      "\n",
      "\n",
      "\n",
      "\n",
      "\r",
      " 11%|█▏        | 135/1200 [01:05<09:03,  1.96it/s]"
     ]
    },
    {
     "name": "stdout",
     "output_type": "stream",
     "text": [
      "max at end of edge summation 1\n",
      "summer max 4\n",
      "level 0; %pix 0.6320735677083333\n",
      "level 1; %pix 0.23237847222222222\n",
      "level 2; %pix 0.012394748263888889\n",
      "threshold 2\n",
      "percent activated pixels 0.012394748263888889\n",
      "max of morphed is 1\n",
      "1\n"
     ]
    },
    {
     "name": "stderr",
     "output_type": "stream",
     "text": [
      "\u001b[A\u001b[A\u001b[A\u001b[A"
     ]
    },
    {
     "name": "stdout",
     "output_type": "stream",
     "text": [
      "max at end of edge summation 2\n",
      "max at end of edge summation 2\n"
     ]
    },
    {
     "name": "stderr",
     "output_type": "stream",
     "text": [
      "\n",
      "\n",
      "\n",
      "\n",
      "\r",
      " 11%|█▏        | 136/1200 [01:06<09:10,  1.93it/s]"
     ]
    },
    {
     "name": "stdout",
     "output_type": "stream",
     "text": [
      "max at end of edge summation 1\n",
      "summer max 4\n",
      "level 0; %pix 0.6272395833333333\n",
      "level 1; %pix 0.23239366319444443\n",
      "level 2; %pix 0.012836371527777777\n",
      "threshold 2\n",
      "percent activated pixels 0.012836371527777777\n",
      "max of morphed is 1\n",
      "1\n"
     ]
    },
    {
     "name": "stderr",
     "output_type": "stream",
     "text": [
      "\u001b[A\u001b[A\u001b[A\u001b[A"
     ]
    },
    {
     "name": "stdout",
     "output_type": "stream",
     "text": [
      "max at end of edge summation 2\n",
      "max at end of edge summation 2\n"
     ]
    },
    {
     "name": "stderr",
     "output_type": "stream",
     "text": [
      "\n",
      "\n",
      "\n",
      "\n",
      "\r",
      " 11%|█▏        | 137/1200 [01:06<08:59,  1.97it/s]"
     ]
    },
    {
     "name": "stdout",
     "output_type": "stream",
     "text": [
      "max at end of edge summation 1\n",
      "summer max 4\n",
      "level 0; %pix 0.6300705295138889\n",
      "level 1; %pix 0.23292534722222222\n",
      "level 2; %pix 0.012752821180555556\n",
      "threshold 2\n",
      "percent activated pixels 0.012752821180555556\n",
      "max of morphed is 1\n",
      "1\n"
     ]
    },
    {
     "name": "stderr",
     "output_type": "stream",
     "text": [
      "\u001b[A\u001b[A\u001b[A\u001b[A"
     ]
    },
    {
     "name": "stdout",
     "output_type": "stream",
     "text": [
      "max at end of edge summation 2\n",
      "max at end of edge summation 2\n"
     ]
    },
    {
     "name": "stderr",
     "output_type": "stream",
     "text": [
      "\n",
      "\n",
      "\n",
      "\n",
      "\r",
      " 12%|█▏        | 138/1200 [01:07<09:00,  1.97it/s]"
     ]
    },
    {
     "name": "stdout",
     "output_type": "stream",
     "text": [
      "max at end of edge summation 1\n",
      "summer max 4\n",
      "level 0; %pix 0.6269650607638889\n",
      "level 1; %pix 0.23133680555555555\n",
      "level 2; %pix 0.012955729166666667\n",
      "threshold 2\n",
      "percent activated pixels 0.012955729166666667\n",
      "max of morphed is 1\n",
      "1\n"
     ]
    },
    {
     "name": "stderr",
     "output_type": "stream",
     "text": [
      "\u001b[A\u001b[A\u001b[A\u001b[A"
     ]
    },
    {
     "name": "stdout",
     "output_type": "stream",
     "text": [
      "max at end of edge summation 2\n",
      "max at end of edge summation 2\n"
     ]
    },
    {
     "name": "stderr",
     "output_type": "stream",
     "text": [
      "\n",
      "\n",
      "\n",
      "\n",
      "\r",
      " 12%|█▏        | 139/1200 [01:07<08:58,  1.97it/s]"
     ]
    },
    {
     "name": "stdout",
     "output_type": "stream",
     "text": [
      "max at end of edge summation 1\n",
      "summer max 4\n",
      "level 0; %pix 0.6289507378472222\n",
      "level 1; %pix 0.23308268229166668\n",
      "level 2; %pix 0.013230251736111111\n",
      "threshold 2\n",
      "percent activated pixels 0.013230251736111111\n",
      "max of morphed is 1\n",
      "1\n"
     ]
    },
    {
     "name": "stderr",
     "output_type": "stream",
     "text": [
      "\u001b[A\u001b[A\u001b[A\u001b[A"
     ]
    },
    {
     "name": "stdout",
     "output_type": "stream",
     "text": [
      "max at end of edge summation 2\n",
      "max at end of edge summation 2\n"
     ]
    },
    {
     "name": "stderr",
     "output_type": "stream",
     "text": [
      "\n",
      "\n",
      "\n",
      "\n",
      "\r",
      " 12%|█▏        | 140/1200 [01:08<08:59,  1.97it/s]"
     ]
    },
    {
     "name": "stdout",
     "output_type": "stream",
     "text": [
      "max at end of edge summation 1\n",
      "summer max 4\n",
      "level 0; %pix 0.6209038628472222\n",
      "level 1; %pix 0.22969943576388888\n",
      "level 2; %pix 0.013295355902777778\n",
      "threshold 2\n",
      "percent activated pixels 0.013295355902777778\n",
      "max of morphed is 1\n",
      "1\n"
     ]
    },
    {
     "name": "stderr",
     "output_type": "stream",
     "text": [
      "\u001b[A\u001b[A\u001b[A\u001b[A"
     ]
    },
    {
     "name": "stdout",
     "output_type": "stream",
     "text": [
      "max at end of edge summation 2\n",
      "max at end of edge summation 2\n"
     ]
    },
    {
     "name": "stderr",
     "output_type": "stream",
     "text": [
      "\n",
      "\n",
      "\n",
      "\n",
      "\r",
      " 12%|█▏        | 141/1200 [01:08<08:57,  1.97it/s]"
     ]
    },
    {
     "name": "stdout",
     "output_type": "stream",
     "text": [
      "max at end of edge summation 1\n",
      "summer max 4\n",
      "level 0; %pix 0.6218142361111111\n",
      "level 1; %pix 0.23005750868055555\n",
      "level 2; %pix 0.013924696180555555\n",
      "threshold 2\n",
      "percent activated pixels 0.013924696180555555\n",
      "max of morphed is 1\n",
      "1\n"
     ]
    },
    {
     "name": "stderr",
     "output_type": "stream",
     "text": [
      "\u001b[A\u001b[A\u001b[A\u001b[A"
     ]
    },
    {
     "name": "stdout",
     "output_type": "stream",
     "text": [
      "max at end of edge summation 2\n",
      "max at end of edge summation 2\n"
     ]
    },
    {
     "name": "stderr",
     "output_type": "stream",
     "text": [
      "\n",
      "\n",
      "\n",
      "\n",
      "\r",
      " 12%|█▏        | 142/1200 [01:09<08:56,  1.97it/s]"
     ]
    },
    {
     "name": "stdout",
     "output_type": "stream",
     "text": [
      "max at end of edge summation 1\n",
      "summer max 4\n",
      "level 0; %pix 0.6221082899305556\n",
      "level 1; %pix 0.23046006944444444\n",
      "level 2; %pix 0.013823784722222222\n",
      "threshold 2\n",
      "percent activated pixels 0.013823784722222222\n",
      "max of morphed is 1\n",
      "1\n"
     ]
    },
    {
     "name": "stderr",
     "output_type": "stream",
     "text": [
      "\u001b[A\u001b[A\u001b[A\u001b[A"
     ]
    },
    {
     "name": "stdout",
     "output_type": "stream",
     "text": [
      "max at end of edge summation 2\n",
      "max at end of edge summation 2\n"
     ]
    },
    {
     "name": "stderr",
     "output_type": "stream",
     "text": [
      "\n",
      "\n",
      "\n",
      "\n",
      "\r",
      " 12%|█▏        | 143/1200 [01:09<08:48,  2.00it/s]"
     ]
    },
    {
     "name": "stdout",
     "output_type": "stream",
     "text": [
      "max at end of edge summation 1\n",
      "summer max 4\n",
      "level 0; %pix 0.6261067708333333\n",
      "level 1; %pix 0.231904296875\n",
      "level 2; %pix 0.0139453125\n",
      "threshold 2\n",
      "percent activated pixels 0.0139453125\n",
      "max of morphed is 1\n",
      "1\n"
     ]
    },
    {
     "name": "stderr",
     "output_type": "stream",
     "text": [
      "\u001b[A\u001b[A\u001b[A\u001b[A"
     ]
    },
    {
     "name": "stdout",
     "output_type": "stream",
     "text": [
      "max at end of edge summation 2\n",
      "max at end of edge summation 2\n"
     ]
    },
    {
     "name": "stderr",
     "output_type": "stream",
     "text": [
      "\n",
      "\n",
      "\n",
      "\n",
      "\r",
      " 12%|█▏        | 144/1200 [01:10<08:52,  1.98it/s]"
     ]
    },
    {
     "name": "stdout",
     "output_type": "stream",
     "text": [
      "max at end of edge summation 1\n",
      "summer max 4\n",
      "level 0; %pix 0.6210047743055556\n",
      "level 1; %pix 0.22993381076388889\n",
      "level 2; %pix 0.014036458333333333\n",
      "threshold 2\n",
      "percent activated pixels 0.014036458333333333\n",
      "max of morphed is 1\n",
      "1\n"
     ]
    },
    {
     "name": "stderr",
     "output_type": "stream",
     "text": [
      "\u001b[A\u001b[A\u001b[A\u001b[A"
     ]
    },
    {
     "name": "stdout",
     "output_type": "stream",
     "text": [
      "max at end of edge summation 2\n",
      "max at end of edge summation 2\n"
     ]
    },
    {
     "name": "stderr",
     "output_type": "stream",
     "text": [
      "\n",
      "\n",
      "\n",
      "\n",
      "\r",
      " 12%|█▏        | 145/1200 [01:10<08:54,  1.97it/s]"
     ]
    },
    {
     "name": "stdout",
     "output_type": "stream",
     "text": [
      "max at end of edge summation 1\n",
      "summer max 4\n",
      "level 0; %pix 0.6233669704861111\n",
      "level 1; %pix 0.23101453993055557\n",
      "level 2; %pix 0.01375\n",
      "threshold 2\n",
      "percent activated pixels 0.01375\n",
      "max of morphed is 1\n",
      "1\n"
     ]
    },
    {
     "name": "stderr",
     "output_type": "stream",
     "text": [
      "\u001b[A\u001b[A\u001b[A\u001b[A"
     ]
    },
    {
     "name": "stdout",
     "output_type": "stream",
     "text": [
      "max at end of edge summation 2\n",
      "max at end of edge summation 2\n"
     ]
    },
    {
     "name": "stderr",
     "output_type": "stream",
     "text": [
      "\n",
      "\n",
      "\n",
      "\n",
      "\r",
      " 12%|█▏        | 146/1200 [01:11<08:53,  1.97it/s]"
     ]
    },
    {
     "name": "stdout",
     "output_type": "stream",
     "text": [
      "max at end of edge summation 1\n",
      "summer max 4\n",
      "level 0; %pix 0.6154481336805555\n",
      "level 1; %pix 0.22855143229166666\n",
      "level 2; %pix 0.013844401041666666\n",
      "threshold 2\n",
      "percent activated pixels 0.013844401041666666\n",
      "max of morphed is 1\n",
      "1\n"
     ]
    },
    {
     "name": "stderr",
     "output_type": "stream",
     "text": [
      "\u001b[A\u001b[A\u001b[A\u001b[A"
     ]
    },
    {
     "name": "stdout",
     "output_type": "stream",
     "text": [
      "max at end of edge summation 2\n",
      "max at end of edge summation 2\n"
     ]
    },
    {
     "name": "stderr",
     "output_type": "stream",
     "text": [
      "\n",
      "\n",
      "\n",
      "\n",
      "\r",
      " 12%|█▏        | 147/1200 [01:11<08:55,  1.97it/s]"
     ]
    },
    {
     "name": "stdout",
     "output_type": "stream",
     "text": [
      "max at end of edge summation 2\n",
      "summer max 4\n",
      "level 0; %pix 0.618291015625\n",
      "level 1; %pix 0.23028428819444444\n",
      "level 2; %pix 0.013949652777777778\n",
      "threshold 2\n",
      "percent activated pixels 0.013949652777777778\n",
      "max of morphed is 1\n",
      "1\n"
     ]
    },
    {
     "name": "stderr",
     "output_type": "stream",
     "text": [
      "\u001b[A\u001b[A\u001b[A\u001b[A"
     ]
    },
    {
     "name": "stdout",
     "output_type": "stream",
     "text": [
      "max at end of edge summation 2\n",
      "max at end of edge summation 2\n"
     ]
    },
    {
     "name": "stderr",
     "output_type": "stream",
     "text": [
      "\n",
      "\n",
      "\n",
      "\n",
      "\r",
      " 12%|█▏        | 148/1200 [01:12<08:56,  1.96it/s]"
     ]
    },
    {
     "name": "stdout",
     "output_type": "stream",
     "text": [
      "max at end of edge summation 2\n",
      "summer max 4\n",
      "level 0; %pix 0.621005859375\n",
      "level 1; %pix 0.23050347222222223\n",
      "level 2; %pix 0.013773871527777778\n",
      "threshold 2\n",
      "percent activated pixels 0.013773871527777778\n",
      "max of morphed is 1\n",
      "1\n"
     ]
    },
    {
     "name": "stderr",
     "output_type": "stream",
     "text": [
      "\u001b[A\u001b[A\u001b[A\u001b[A"
     ]
    },
    {
     "name": "stdout",
     "output_type": "stream",
     "text": [
      "max at end of edge summation 2\n",
      "max at end of edge summation 2\n"
     ]
    },
    {
     "name": "stderr",
     "output_type": "stream",
     "text": [
      "\n",
      "\n",
      "\n",
      "\n",
      "\r",
      " 12%|█▏        | 149/1200 [01:12<08:43,  2.01it/s]"
     ]
    },
    {
     "name": "stdout",
     "output_type": "stream",
     "text": [
      "max at end of edge summation 2\n",
      "summer max 4\n",
      "level 0; %pix 0.6133474392361111\n",
      "level 1; %pix 0.2276681857638889\n",
      "level 2; %pix 0.01384765625\n",
      "threshold 2\n",
      "percent activated pixels 0.01384765625\n",
      "max of morphed is 1\n",
      "1\n"
     ]
    },
    {
     "name": "stderr",
     "output_type": "stream",
     "text": [
      "\u001b[A\u001b[A\u001b[A\u001b[A"
     ]
    },
    {
     "name": "stdout",
     "output_type": "stream",
     "text": [
      "max at end of edge summation 2\n",
      "max at end of edge summation 2\n"
     ]
    },
    {
     "name": "stderr",
     "output_type": "stream",
     "text": [
      "\n",
      "\n",
      "\n",
      "\n",
      "\r",
      " 12%|█▎        | 150/1200 [01:13<08:44,  2.00it/s]"
     ]
    },
    {
     "name": "stdout",
     "output_type": "stream",
     "text": [
      "max at end of edge summation 2\n",
      "summer max 4\n",
      "level 0; %pix 0.6129047309027778\n",
      "level 1; %pix 0.2278732638888889\n",
      "level 2; %pix 0.014059244791666667\n",
      "threshold 2\n",
      "percent activated pixels 0.014059244791666667\n",
      "max of morphed is 1\n",
      "1\n"
     ]
    },
    {
     "name": "stderr",
     "output_type": "stream",
     "text": [
      "\u001b[A\u001b[A\u001b[A\u001b[A"
     ]
    },
    {
     "name": "stdout",
     "output_type": "stream",
     "text": [
      "max at end of edge summation 2\n",
      "max at end of edge summation 1\n"
     ]
    },
    {
     "name": "stderr",
     "output_type": "stream",
     "text": [
      "\n",
      "\n",
      "\n",
      "\n",
      "\r",
      " 13%|█▎        | 151/1200 [01:13<08:42,  2.01it/s]"
     ]
    },
    {
     "name": "stdout",
     "output_type": "stream",
     "text": [
      "max at end of edge summation 2\n",
      "summer max 5\n",
      "level 0; %pix 0.6082758246527777\n",
      "level 1; %pix 0.22369574652777777\n",
      "level 2; %pix 0.01396484375\n",
      "threshold 2\n",
      "percent activated pixels 0.01396484375\n",
      "max of morphed is 1\n",
      "1\n"
     ]
    },
    {
     "name": "stderr",
     "output_type": "stream",
     "text": [
      "\u001b[A\u001b[A\u001b[A\u001b[A"
     ]
    },
    {
     "name": "stdout",
     "output_type": "stream",
     "text": [
      "max at end of edge summation 2\n",
      "max at end of edge summation 2\n"
     ]
    },
    {
     "name": "stderr",
     "output_type": "stream",
     "text": [
      "\n",
      "\n",
      "\n",
      "\n",
      "\r",
      " 13%|█▎        | 152/1200 [01:14<08:43,  2.00it/s]"
     ]
    },
    {
     "name": "stdout",
     "output_type": "stream",
     "text": [
      "max at end of edge summation 2\n",
      "summer max 5\n",
      "level 0; %pix 0.5987109375\n",
      "level 1; %pix 0.21995008680555556\n",
      "level 2; %pix 0.013464626736111112\n",
      "threshold 2\n",
      "percent activated pixels 0.013464626736111112\n",
      "max of morphed is 1\n",
      "1\n"
     ]
    },
    {
     "name": "stderr",
     "output_type": "stream",
     "text": [
      "\u001b[A\u001b[A\u001b[A\u001b[A"
     ]
    },
    {
     "name": "stdout",
     "output_type": "stream",
     "text": [
      "max at end of edge summation 2\n",
      "max at end of edge summation 1\n"
     ]
    },
    {
     "name": "stderr",
     "output_type": "stream",
     "text": [
      "\n",
      "\n",
      "\n",
      "\n",
      "\r",
      " 13%|█▎        | 153/1200 [01:14<08:41,  2.01it/s]"
     ]
    },
    {
     "name": "stdout",
     "output_type": "stream",
     "text": [
      "max at end of edge summation 2\n",
      "summer max 4\n",
      "level 0; %pix 0.607333984375\n",
      "level 1; %pix 0.22307942708333334\n",
      "level 2; %pix 0.012885199652777778\n",
      "threshold 2\n",
      "percent activated pixels 0.012885199652777778\n",
      "max of morphed is 1\n",
      "1\n"
     ]
    },
    {
     "name": "stderr",
     "output_type": "stream",
     "text": [
      "\u001b[A\u001b[A\u001b[A\u001b[A"
     ]
    },
    {
     "name": "stdout",
     "output_type": "stream",
     "text": [
      "max at end of edge summation 2\n",
      "max at end of edge summation 2\n"
     ]
    },
    {
     "name": "stderr",
     "output_type": "stream",
     "text": [
      "\n",
      "\n",
      "\n",
      "\n",
      "\r",
      " 13%|█▎        | 154/1200 [01:15<08:40,  2.01it/s]"
     ]
    },
    {
     "name": "stdout",
     "output_type": "stream",
     "text": [
      "max at end of edge summation 2\n",
      "summer max 4\n",
      "level 0; %pix 0.5978016493055556\n",
      "level 1; %pix 0.2206640625\n",
      "level 2; %pix 0.013158637152777777\n",
      "threshold 2\n",
      "percent activated pixels 0.013158637152777777\n",
      "max of morphed is 1\n",
      "1\n"
     ]
    },
    {
     "name": "stderr",
     "output_type": "stream",
     "text": [
      "\u001b[A\u001b[A\u001b[A\u001b[A"
     ]
    },
    {
     "name": "stdout",
     "output_type": "stream",
     "text": [
      "max at end of edge summation 2\n",
      "max at end of edge summation 2\n"
     ]
    },
    {
     "name": "stderr",
     "output_type": "stream",
     "text": [
      "\n",
      "\n",
      "\n",
      "\n",
      "\r",
      " 13%|█▎        | 155/1200 [01:15<08:34,  2.03it/s]"
     ]
    },
    {
     "name": "stdout",
     "output_type": "stream",
     "text": [
      "max at end of edge summation 2\n",
      "summer max 4\n",
      "level 0; %pix 0.5994118923611111\n",
      "level 1; %pix 0.22063151041666668\n",
      "level 2; %pix 0.012556423611111112\n",
      "threshold 2\n",
      "percent activated pixels 0.012556423611111112\n",
      "max of morphed is 1\n",
      "1\n"
     ]
    },
    {
     "name": "stderr",
     "output_type": "stream",
     "text": [
      "\u001b[A\u001b[A\u001b[A\u001b[A"
     ]
    },
    {
     "name": "stdout",
     "output_type": "stream",
     "text": [
      "max at end of edge summation 2\n",
      "max at end of edge summation 1\n"
     ]
    },
    {
     "name": "stderr",
     "output_type": "stream",
     "text": [
      "\n",
      "\n",
      "\n",
      "\n",
      "\r",
      " 13%|█▎        | 156/1200 [01:16<08:35,  2.03it/s]"
     ]
    },
    {
     "name": "stdout",
     "output_type": "stream",
     "text": [
      "max at end of edge summation 2\n",
      "summer max 4\n",
      "level 0; %pix 0.6059418402777778\n",
      "level 1; %pix 0.22356119791666668\n",
      "level 2; %pix 0.01187717013888889\n",
      "threshold 2\n",
      "percent activated pixels 0.01187717013888889\n",
      "max of morphed is 1\n",
      "1\n"
     ]
    },
    {
     "name": "stderr",
     "output_type": "stream",
     "text": [
      "\u001b[A\u001b[A\u001b[A\u001b[A"
     ]
    },
    {
     "name": "stdout",
     "output_type": "stream",
     "text": [
      "max at end of edge summation 2\n",
      "max at end of edge summation 2\n"
     ]
    },
    {
     "name": "stderr",
     "output_type": "stream",
     "text": [
      "\n",
      "\n",
      "\n",
      "\n",
      "\r",
      " 13%|█▎        | 157/1200 [01:16<08:32,  2.03it/s]"
     ]
    },
    {
     "name": "stdout",
     "output_type": "stream",
     "text": [
      "max at end of edge summation 1\n",
      "summer max 4\n",
      "level 0; %pix 0.5943619791666667\n",
      "level 1; %pix 0.22120442708333332\n",
      "level 2; %pix 0.012211371527777778\n",
      "threshold 2\n",
      "percent activated pixels 0.012211371527777778\n",
      "max of morphed is 1\n",
      "1\n"
     ]
    },
    {
     "name": "stderr",
     "output_type": "stream",
     "text": [
      "\u001b[A\u001b[A\u001b[A\u001b[A"
     ]
    },
    {
     "name": "stdout",
     "output_type": "stream",
     "text": [
      "max at end of edge summation 2\n",
      "max at end of edge summation 2\n"
     ]
    },
    {
     "name": "stderr",
     "output_type": "stream",
     "text": [
      "\n",
      "\n",
      "\n",
      "\n",
      "\r",
      " 13%|█▎        | 158/1200 [01:17<08:31,  2.04it/s]"
     ]
    },
    {
     "name": "stdout",
     "output_type": "stream",
     "text": [
      "max at end of edge summation 1\n",
      "summer max 4\n",
      "level 0; %pix 0.6029155815972222\n",
      "level 1; %pix 0.22364040798611112\n",
      "level 2; %pix 0.011340060763888889\n",
      "threshold 2\n",
      "percent activated pixels 0.011340060763888889\n",
      "max of morphed is 1\n",
      "1\n"
     ]
    },
    {
     "name": "stderr",
     "output_type": "stream",
     "text": [
      "\u001b[A\u001b[A\u001b[A\u001b[A"
     ]
    },
    {
     "name": "stdout",
     "output_type": "stream",
     "text": [
      "max at end of edge summation 2\n",
      "max at end of edge summation 2\n"
     ]
    },
    {
     "name": "stderr",
     "output_type": "stream",
     "text": [
      "\n",
      "\n",
      "\n",
      "\n",
      "\r",
      " 13%|█▎        | 159/1200 [01:17<08:29,  2.04it/s]"
     ]
    },
    {
     "name": "stdout",
     "output_type": "stream",
     "text": [
      "max at end of edge summation 2\n",
      "summer max 5\n",
      "level 0; %pix 0.5915581597222223\n",
      "level 1; %pix 0.21947591145833334\n",
      "level 2; %pix 0.011666666666666667\n",
      "threshold 2\n",
      "percent activated pixels 0.011666666666666667\n",
      "max of morphed is 1\n",
      "1\n"
     ]
    },
    {
     "name": "stderr",
     "output_type": "stream",
     "text": [
      "\u001b[A\u001b[A\u001b[A\u001b[A"
     ]
    },
    {
     "name": "stdout",
     "output_type": "stream",
     "text": [
      "max at end of edge summation 2\n",
      "max at end of edge summation 2\n"
     ]
    },
    {
     "name": "stderr",
     "output_type": "stream",
     "text": [
      "\n",
      "\n",
      "\n",
      "\n",
      "\r",
      " 13%|█▎        | 160/1200 [01:18<08:30,  2.04it/s]"
     ]
    },
    {
     "name": "stdout",
     "output_type": "stream",
     "text": [
      "max at end of edge summation 1\n",
      "summer max 4\n",
      "level 0; %pix 0.6010134548611111\n",
      "level 1; %pix 0.22420138888888888\n",
      "level 2; %pix 0.01139865451388889\n",
      "threshold 2\n",
      "percent activated pixels 0.01139865451388889\n",
      "max of morphed is 1\n",
      "1\n"
     ]
    },
    {
     "name": "stderr",
     "output_type": "stream",
     "text": [
      "\u001b[A\u001b[A\u001b[A\u001b[A"
     ]
    },
    {
     "name": "stdout",
     "output_type": "stream",
     "text": [
      "max at end of edge summation 2\n",
      "max at end of edge summation 1\n"
     ]
    },
    {
     "name": "stderr",
     "output_type": "stream",
     "text": [
      "\n",
      "\n",
      "\n",
      "\n",
      "\r",
      " 13%|█▎        | 161/1200 [01:18<08:22,  2.07it/s]"
     ]
    },
    {
     "name": "stdout",
     "output_type": "stream",
     "text": [
      "max at end of edge summation 1\n",
      "summer max 4\n",
      "level 0; %pix 0.588583984375\n",
      "level 1; %pix 0.219443359375\n",
      "level 2; %pix 0.011848958333333333\n",
      "threshold 2\n",
      "percent activated pixels 0.011848958333333333\n",
      "max of morphed is 1\n",
      "1\n"
     ]
    },
    {
     "name": "stderr",
     "output_type": "stream",
     "text": [
      "\u001b[A\u001b[A\u001b[A\u001b[A"
     ]
    },
    {
     "name": "stdout",
     "output_type": "stream",
     "text": [
      "max at end of edge summation 2\n",
      "max at end of edge summation 1\n"
     ]
    },
    {
     "name": "stderr",
     "output_type": "stream",
     "text": [
      "\n",
      "\n",
      "\n",
      "\n",
      "\r",
      " 14%|█▎        | 162/1200 [01:19<08:25,  2.05it/s]"
     ]
    },
    {
     "name": "stdout",
     "output_type": "stream",
     "text": [
      "max at end of edge summation 2\n",
      "summer max 4\n",
      "level 0; %pix 0.6002593315972222\n",
      "level 1; %pix 0.22372721354166666\n",
      "level 2; %pix 0.011334635416666667\n",
      "threshold 2\n",
      "percent activated pixels 0.011334635416666667\n",
      "max of morphed is 1\n",
      "1\n"
     ]
    },
    {
     "name": "stderr",
     "output_type": "stream",
     "text": [
      "\u001b[A\u001b[A\u001b[A\u001b[A"
     ]
    },
    {
     "name": "stdout",
     "output_type": "stream",
     "text": [
      "max at end of edge summation 2\n",
      "max at end of edge summation 1\n"
     ]
    },
    {
     "name": "stderr",
     "output_type": "stream",
     "text": [
      "\n",
      "\n",
      "\n",
      "\n",
      "\r",
      " 14%|█▎        | 163/1200 [01:19<08:26,  2.05it/s]"
     ]
    },
    {
     "name": "stdout",
     "output_type": "stream",
     "text": [
      "max at end of edge summation 1\n",
      "summer max 4\n",
      "level 0; %pix 0.5830230034722222\n",
      "level 1; %pix 0.217255859375\n",
      "level 2; %pix 0.0117578125\n",
      "threshold 2\n",
      "percent activated pixels 0.0117578125\n",
      "max of morphed is 1\n",
      "1\n"
     ]
    },
    {
     "name": "stderr",
     "output_type": "stream",
     "text": [
      "\u001b[A\u001b[A\u001b[A\u001b[A"
     ]
    },
    {
     "name": "stdout",
     "output_type": "stream",
     "text": [
      "max at end of edge summation 2\n",
      "max at end of edge summation 2\n"
     ]
    },
    {
     "name": "stderr",
     "output_type": "stream",
     "text": [
      "\n",
      "\n",
      "\n",
      "\n",
      "\r",
      " 14%|█▎        | 164/1200 [01:20<08:26,  2.05it/s]"
     ]
    },
    {
     "name": "stdout",
     "output_type": "stream",
     "text": [
      "max at end of edge summation 2\n",
      "summer max 4\n",
      "level 0; %pix 0.5920323350694444\n",
      "level 1; %pix 0.22117621527777778\n",
      "level 2; %pix 0.01146701388888889\n",
      "threshold 2\n",
      "percent activated pixels 0.01146701388888889\n",
      "max of morphed is 1\n",
      "1\n"
     ]
    },
    {
     "name": "stderr",
     "output_type": "stream",
     "text": [
      "\u001b[A\u001b[A\u001b[A\u001b[A"
     ]
    },
    {
     "name": "stdout",
     "output_type": "stream",
     "text": [
      "max at end of edge summation 2\n",
      "max at end of edge summation 2\n"
     ]
    },
    {
     "name": "stderr",
     "output_type": "stream",
     "text": [
      "\n",
      "\n",
      "\n",
      "\n",
      "\r",
      " 14%|█▍        | 165/1200 [01:20<08:24,  2.05it/s]"
     ]
    },
    {
     "name": "stdout",
     "output_type": "stream",
     "text": [
      "max at end of edge summation 2\n",
      "summer max 4\n",
      "level 0; %pix 0.5760904947916666\n",
      "level 1; %pix 0.21534071180555556\n",
      "level 2; %pix 0.011259765625\n",
      "threshold 2\n",
      "percent activated pixels 0.011259765625\n",
      "max of morphed is 1\n",
      "1\n"
     ]
    },
    {
     "name": "stderr",
     "output_type": "stream",
     "text": [
      "\u001b[A\u001b[A\u001b[A\u001b[A"
     ]
    },
    {
     "name": "stdout",
     "output_type": "stream",
     "text": [
      "max at end of edge summation 2\n",
      "max at end of edge summation 1\n"
     ]
    },
    {
     "name": "stderr",
     "output_type": "stream",
     "text": [
      "\n",
      "\n",
      "\n",
      "\n",
      "\r",
      " 14%|█▍        | 166/1200 [01:21<08:25,  2.05it/s]"
     ]
    },
    {
     "name": "stdout",
     "output_type": "stream",
     "text": [
      "max at end of edge summation 1\n",
      "summer max 4\n",
      "level 0; %pix 0.5877983940972222\n",
      "level 1; %pix 0.2196072048611111\n",
      "level 2; %pix 0.010766059027777778\n",
      "threshold 2\n",
      "percent activated pixels 0.010766059027777778\n",
      "max of morphed is 1\n",
      "1\n"
     ]
    },
    {
     "name": "stderr",
     "output_type": "stream",
     "text": [
      "\u001b[A\u001b[A\u001b[A\u001b[A"
     ]
    },
    {
     "name": "stdout",
     "output_type": "stream",
     "text": [
      "max at end of edge summation 2\n",
      "max at end of edge summation 2\n"
     ]
    },
    {
     "name": "stderr",
     "output_type": "stream",
     "text": [
      "\n",
      "\n",
      "\n",
      "\n",
      "\r",
      " 14%|█▍        | 167/1200 [01:21<08:17,  2.08it/s]"
     ]
    },
    {
     "name": "stdout",
     "output_type": "stream",
     "text": [
      "max at end of edge summation 1\n",
      "summer max 4\n",
      "level 0; %pix 0.5721549479166667\n",
      "level 1; %pix 0.2151736111111111\n",
      "level 2; %pix 0.0111328125\n",
      "threshold 2\n",
      "percent activated pixels 0.0111328125\n",
      "max of morphed is 1\n",
      "1\n"
     ]
    },
    {
     "name": "stderr",
     "output_type": "stream",
     "text": [
      "\u001b[A\u001b[A\u001b[A\u001b[A"
     ]
    },
    {
     "name": "stdout",
     "output_type": "stream",
     "text": [
      "max at end of edge summation 2\n",
      "max at end of edge summation 2\n"
     ]
    },
    {
     "name": "stderr",
     "output_type": "stream",
     "text": [
      "\n",
      "\n",
      "\n",
      "\n",
      "\r",
      " 14%|█▍        | 168/1200 [01:22<08:22,  2.05it/s]"
     ]
    },
    {
     "name": "stdout",
     "output_type": "stream",
     "text": [
      "max at end of edge summation 1\n",
      "summer max 4\n",
      "level 0; %pix 0.5867024739583333\n",
      "level 1; %pix 0.21982096354166666\n",
      "level 2; %pix 0.010247395833333334\n",
      "threshold 2\n",
      "percent activated pixels 0.010247395833333334\n",
      "max of morphed is 1\n",
      "1\n"
     ]
    },
    {
     "name": "stderr",
     "output_type": "stream",
     "text": [
      "\u001b[A\u001b[A\u001b[A\u001b[A"
     ]
    },
    {
     "name": "stdout",
     "output_type": "stream",
     "text": [
      "max at end of edge summation 2\n",
      "max at end of edge summation 1\n"
     ]
    },
    {
     "name": "stderr",
     "output_type": "stream",
     "text": [
      "\n",
      "\n",
      "\n",
      "\n",
      "\r",
      " 14%|█▍        | 169/1200 [01:22<08:22,  2.05it/s]"
     ]
    },
    {
     "name": "stdout",
     "output_type": "stream",
     "text": [
      "max at end of edge summation 2\n",
      "summer max 4\n",
      "level 0; %pix 0.5656293402777778\n",
      "level 1; %pix 0.21246527777777777\n",
      "level 2; %pix 0.009837239583333334\n",
      "threshold 2\n",
      "percent activated pixels 0.009837239583333334\n",
      "max of morphed is 1\n",
      "1\n"
     ]
    },
    {
     "name": "stderr",
     "output_type": "stream",
     "text": [
      "\u001b[A\u001b[A\u001b[A\u001b[A"
     ]
    },
    {
     "name": "stdout",
     "output_type": "stream",
     "text": [
      "max at end of edge summation 2\n",
      "max at end of edge summation 2\n"
     ]
    },
    {
     "name": "stderr",
     "output_type": "stream",
     "text": [
      "\n",
      "\n",
      "\n",
      "\n",
      "\r",
      " 14%|█▍        | 170/1200 [01:23<08:20,  2.06it/s]"
     ]
    },
    {
     "name": "stdout",
     "output_type": "stream",
     "text": [
      "max at end of edge summation 1\n",
      "summer max 4\n",
      "level 0; %pix 0.5721473524305556\n",
      "level 1; %pix 0.21459201388888888\n",
      "level 2; %pix 0.009745008680555556\n",
      "threshold 2\n",
      "percent activated pixels 0.009745008680555556\n",
      "max of morphed is 1\n",
      "1\n"
     ]
    },
    {
     "name": "stderr",
     "output_type": "stream",
     "text": [
      "\u001b[A\u001b[A\u001b[A\u001b[A"
     ]
    },
    {
     "name": "stdout",
     "output_type": "stream",
     "text": [
      "max at end of edge summation 2\n",
      "max at end of edge summation 2\n"
     ]
    },
    {
     "name": "stderr",
     "output_type": "stream",
     "text": [
      "\n",
      "\n",
      "\n",
      "\n",
      "\r",
      " 14%|█▍        | 171/1200 [01:23<08:18,  2.06it/s]"
     ]
    },
    {
     "name": "stdout",
     "output_type": "stream",
     "text": [
      "max at end of edge summation 1\n",
      "summer max 4\n",
      "level 0; %pix 0.5720638020833333\n",
      "level 1; %pix 0.21422526041666667\n",
      "level 2; %pix 0.009283854166666666\n",
      "threshold 2\n",
      "percent activated pixels 0.009283854166666666\n",
      "max of morphed is 1\n",
      "1\n"
     ]
    },
    {
     "name": "stderr",
     "output_type": "stream",
     "text": [
      "\u001b[A\u001b[A\u001b[A\u001b[A"
     ]
    },
    {
     "name": "stdout",
     "output_type": "stream",
     "text": [
      "max at end of edge summation 2\n",
      "max at end of edge summation 2\n"
     ]
    },
    {
     "name": "stderr",
     "output_type": "stream",
     "text": [
      "\n",
      "\n",
      "\n",
      "\n",
      "\r",
      " 14%|█▍        | 172/1200 [01:24<08:19,  2.06it/s]"
     ]
    },
    {
     "name": "stdout",
     "output_type": "stream",
     "text": [
      "max at end of edge summation 2\n",
      "summer max 4\n",
      "level 0; %pix 0.5692892795138889\n",
      "level 1; %pix 0.21479926215277778\n",
      "level 2; %pix 0.009419487847222222\n",
      "threshold 2\n",
      "percent activated pixels 0.009419487847222222\n",
      "max of morphed is 1\n",
      "1\n"
     ]
    },
    {
     "name": "stderr",
     "output_type": "stream",
     "text": [
      "\u001b[A\u001b[A\u001b[A\u001b[A"
     ]
    },
    {
     "name": "stdout",
     "output_type": "stream",
     "text": [
      "max at end of edge summation 2\n",
      "max at end of edge summation 2\n"
     ]
    },
    {
     "name": "stderr",
     "output_type": "stream",
     "text": [
      "\n",
      "\n",
      "\n",
      "\n",
      "\r",
      " 14%|█▍        | 173/1200 [01:24<08:12,  2.09it/s]"
     ]
    },
    {
     "name": "stdout",
     "output_type": "stream",
     "text": [
      "max at end of edge summation 1\n",
      "summer max 4\n",
      "level 0; %pix 0.5744997829861112\n",
      "level 1; %pix 0.21659830729166665\n",
      "level 2; %pix 0.008971354166666667\n",
      "threshold 2\n",
      "percent activated pixels 0.008971354166666667\n",
      "max of morphed is 1\n",
      "1\n"
     ]
    },
    {
     "name": "stderr",
     "output_type": "stream",
     "text": [
      "\u001b[A\u001b[A\u001b[A\u001b[A"
     ]
    },
    {
     "name": "stdout",
     "output_type": "stream",
     "text": [
      "max at end of edge summation 2\n",
      "max at end of edge summation 2\n"
     ]
    },
    {
     "name": "stderr",
     "output_type": "stream",
     "text": [
      "\n",
      "\n",
      "\n",
      "\n",
      "\r",
      " 14%|█▍        | 174/1200 [01:24<08:13,  2.08it/s]"
     ]
    },
    {
     "name": "stdout",
     "output_type": "stream",
     "text": [
      "max at end of edge summation 1\n",
      "summer max 4\n",
      "level 0; %pix 0.5544921875\n",
      "level 1; %pix 0.21242838541666667\n",
      "level 2; %pix 0.009214409722222223\n",
      "threshold 2\n",
      "percent activated pixels 0.009214409722222223\n",
      "max of morphed is 1\n",
      "1\n"
     ]
    },
    {
     "name": "stderr",
     "output_type": "stream",
     "text": [
      "\u001b[A\u001b[A\u001b[A\u001b[A"
     ]
    },
    {
     "name": "stdout",
     "output_type": "stream",
     "text": [
      "max at end of edge summation 2\n",
      "max at end of edge summation 2\n"
     ]
    },
    {
     "name": "stderr",
     "output_type": "stream",
     "text": [
      "\n",
      "\n",
      "\n",
      "\n",
      "\r",
      " 15%|█▍        | 175/1200 [01:25<08:14,  2.07it/s]"
     ]
    },
    {
     "name": "stdout",
     "output_type": "stream",
     "text": [
      "max at end of edge summation 1\n",
      "summer max 4\n",
      "level 0; %pix 0.5696343315972222\n",
      "level 1; %pix 0.21829427083333333\n",
      "level 2; %pix 0.009055989583333333\n",
      "threshold 2\n",
      "percent activated pixels 0.009055989583333333\n",
      "max of morphed is 1\n",
      "1\n"
     ]
    },
    {
     "name": "stderr",
     "output_type": "stream",
     "text": [
      "\u001b[A\u001b[A\u001b[A\u001b[A"
     ]
    },
    {
     "name": "stdout",
     "output_type": "stream",
     "text": [
      "max at end of edge summation 2\n",
      "max at end of edge summation 2\n"
     ]
    },
    {
     "name": "stderr",
     "output_type": "stream",
     "text": [
      "\n",
      "\n",
      "\n",
      "\n",
      "\r",
      " 15%|█▍        | 176/1200 [01:25<08:17,  2.06it/s]"
     ]
    },
    {
     "name": "stdout",
     "output_type": "stream",
     "text": [
      "max at end of edge summation 1\n",
      "summer max 4\n",
      "level 0; %pix 0.5507367621527778\n",
      "level 1; %pix 0.21408203125\n",
      "level 2; %pix 0.009072265625\n",
      "threshold 2\n",
      "percent activated pixels 0.009072265625\n",
      "max of morphed is 1\n",
      "1\n"
     ]
    },
    {
     "name": "stderr",
     "output_type": "stream",
     "text": [
      "\u001b[A\u001b[A\u001b[A\u001b[A"
     ]
    },
    {
     "name": "stdout",
     "output_type": "stream",
     "text": [
      "max at end of edge summation 2\n",
      "max at end of edge summation 2\n"
     ]
    },
    {
     "name": "stderr",
     "output_type": "stream",
     "text": [
      "\n",
      "\n",
      "\n",
      "\n",
      "\r",
      " 15%|█▍        | 177/1200 [01:26<08:17,  2.06it/s]"
     ]
    },
    {
     "name": "stdout",
     "output_type": "stream",
     "text": [
      "max at end of edge summation 2\n",
      "summer max 4\n",
      "level 0; %pix 0.5690744357638889\n",
      "level 1; %pix 0.218740234375\n",
      "level 2; %pix 0.009415147569444445\n",
      "threshold 2\n",
      "percent activated pixels 0.009415147569444445\n",
      "max of morphed is 1\n",
      "1\n"
     ]
    },
    {
     "name": "stderr",
     "output_type": "stream",
     "text": [
      "\u001b[A\u001b[A\u001b[A\u001b[A"
     ]
    },
    {
     "name": "stdout",
     "output_type": "stream",
     "text": [
      "max at end of edge summation 2\n",
      "max at end of edge summation 2\n"
     ]
    },
    {
     "name": "stderr",
     "output_type": "stream",
     "text": [
      "\n",
      "\n",
      "\n",
      "\n",
      "\r",
      " 15%|█▍        | 178/1200 [01:26<08:19,  2.04it/s]"
     ]
    },
    {
     "name": "stdout",
     "output_type": "stream",
     "text": [
      "max at end of edge summation 2\n",
      "summer max 4\n",
      "level 0; %pix 0.5584754774305556\n",
      "level 1; %pix 0.2167697482638889\n",
      "level 2; %pix 0.009380425347222223\n",
      "threshold 2\n",
      "percent activated pixels 0.009380425347222223\n",
      "max of morphed is 1\n",
      "1\n"
     ]
    },
    {
     "name": "stderr",
     "output_type": "stream",
     "text": [
      "\u001b[A\u001b[A\u001b[A\u001b[A"
     ]
    },
    {
     "name": "stdout",
     "output_type": "stream",
     "text": [
      "max at end of edge summation 2\n",
      "max at end of edge summation 2\n"
     ]
    },
    {
     "name": "stderr",
     "output_type": "stream",
     "text": [
      "\n",
      "\n",
      "\n",
      "\n",
      "\r",
      " 15%|█▍        | 179/1200 [01:27<08:11,  2.08it/s]"
     ]
    },
    {
     "name": "stdout",
     "output_type": "stream",
     "text": [
      "max at end of edge summation 1\n",
      "summer max 4\n",
      "level 0; %pix 0.5759939236111111\n",
      "level 1; %pix 0.22266710069444445\n",
      "level 2; %pix 0.009264322916666666\n",
      "threshold 2\n",
      "percent activated pixels 0.009264322916666666\n",
      "max of morphed is 1\n",
      "1\n"
     ]
    },
    {
     "name": "stderr",
     "output_type": "stream",
     "text": [
      "\u001b[A\u001b[A\u001b[A\u001b[A"
     ]
    },
    {
     "name": "stdout",
     "output_type": "stream",
     "text": [
      "max at end of edge summation 2\n",
      "max at end of edge summation 1\n"
     ]
    },
    {
     "name": "stderr",
     "output_type": "stream",
     "text": [
      "\n",
      "\n",
      "\n",
      "\n",
      "\r",
      " 15%|█▌        | 180/1200 [01:27<08:15,  2.06it/s]"
     ]
    },
    {
     "name": "stdout",
     "output_type": "stream",
     "text": [
      "max at end of edge summation 1\n",
      "summer max 4\n",
      "level 0; %pix 0.5584114583333334\n",
      "level 1; %pix 0.22029622395833334\n",
      "level 2; %pix 0.009476996527777778\n",
      "threshold 2\n",
      "percent activated pixels 0.009476996527777778\n",
      "max of morphed is 1\n",
      "1\n"
     ]
    },
    {
     "name": "stderr",
     "output_type": "stream",
     "text": [
      "\u001b[A\u001b[A\u001b[A\u001b[A"
     ]
    },
    {
     "name": "stdout",
     "output_type": "stream",
     "text": [
      "max at end of edge summation 2\n",
      "max at end of edge summation 1\n"
     ]
    },
    {
     "name": "stderr",
     "output_type": "stream",
     "text": [
      "\n",
      "\n",
      "\n",
      "\n",
      "\r",
      " 15%|█▌        | 181/1200 [01:28<08:15,  2.06it/s]"
     ]
    },
    {
     "name": "stdout",
     "output_type": "stream",
     "text": [
      "max at end of edge summation 1\n",
      "summer max 4\n",
      "level 0; %pix 0.58080078125\n",
      "level 1; %pix 0.230029296875\n",
      "level 2; %pix 0.010274522569444444\n",
      "threshold 2\n",
      "percent activated pixels 0.010274522569444444\n",
      "max of morphed is 1\n",
      "1\n"
     ]
    },
    {
     "name": "stderr",
     "output_type": "stream",
     "text": [
      "\u001b[A\u001b[A\u001b[A\u001b[A"
     ]
    },
    {
     "name": "stdout",
     "output_type": "stream",
     "text": [
      "max at end of edge summation 2\n",
      "max at end of edge summation 1\n"
     ]
    },
    {
     "name": "stderr",
     "output_type": "stream",
     "text": [
      "\n",
      "\n",
      "\n",
      "\n",
      "\r",
      " 15%|█▌        | 182/1200 [01:28<08:19,  2.04it/s]"
     ]
    },
    {
     "name": "stdout",
     "output_type": "stream",
     "text": [
      "max at end of edge summation 1\n",
      "summer max 4\n",
      "level 0; %pix 0.5579014756944445\n",
      "level 1; %pix 0.224326171875\n",
      "level 2; %pix 0.010284288194444444\n",
      "threshold 2\n",
      "percent activated pixels 0.010284288194444444\n",
      "max of morphed is 1\n",
      "1\n"
     ]
    },
    {
     "name": "stderr",
     "output_type": "stream",
     "text": [
      "\u001b[A\u001b[A\u001b[A\u001b[A"
     ]
    },
    {
     "name": "stdout",
     "output_type": "stream",
     "text": [
      "max at end of edge summation 2\n",
      "max at end of edge summation 1\n"
     ]
    },
    {
     "name": "stderr",
     "output_type": "stream",
     "text": [
      "\n",
      "\n",
      "\n",
      "\n",
      "\r",
      " 15%|█▌        | 183/1200 [01:29<08:18,  2.04it/s]"
     ]
    },
    {
     "name": "stdout",
     "output_type": "stream",
     "text": [
      "max at end of edge summation 1\n",
      "summer max 4\n",
      "level 0; %pix 0.5827083333333334\n",
      "level 1; %pix 0.23264539930555556\n",
      "level 2; %pix 0.009906684027777777\n",
      "threshold 2\n",
      "percent activated pixels 0.009906684027777777\n",
      "max of morphed is 1\n",
      "1\n"
     ]
    },
    {
     "name": "stderr",
     "output_type": "stream",
     "text": [
      "\u001b[A\u001b[A\u001b[A\u001b[A"
     ]
    },
    {
     "name": "stdout",
     "output_type": "stream",
     "text": [
      "max at end of edge summation 2\n",
      "max at end of edge summation 1\n"
     ]
    },
    {
     "name": "stderr",
     "output_type": "stream",
     "text": [
      "\n",
      "\n",
      "\n",
      "\n",
      "\r",
      " 15%|█▌        | 184/1200 [01:29<08:15,  2.05it/s]"
     ]
    },
    {
     "name": "stdout",
     "output_type": "stream",
     "text": [
      "max at end of edge summation 1\n",
      "summer max 4\n",
      "level 0; %pix 0.56736328125\n",
      "level 1; %pix 0.230771484375\n",
      "level 2; %pix 0.00951171875\n",
      "threshold 2\n",
      "percent activated pixels 0.00951171875\n",
      "max of morphed is 1\n",
      "1\n"
     ]
    },
    {
     "name": "stderr",
     "output_type": "stream",
     "text": [
      "\u001b[A\u001b[A\u001b[A\u001b[A"
     ]
    },
    {
     "name": "stdout",
     "output_type": "stream",
     "text": [
      "max at end of edge summation 2\n",
      "max at end of edge summation 1\n"
     ]
    },
    {
     "name": "stderr",
     "output_type": "stream",
     "text": [
      "\n",
      "\n",
      "\n",
      "\n",
      "\r",
      " 15%|█▌        | 185/1200 [01:30<08:05,  2.09it/s]"
     ]
    },
    {
     "name": "stdout",
     "output_type": "stream",
     "text": [
      "max at end of edge summation 2\n",
      "summer max 4\n",
      "level 0; %pix 0.5905013020833333\n",
      "level 1; %pix 0.23939561631944445\n",
      "level 2; %pix 0.009236111111111112\n",
      "threshold 2\n",
      "percent activated pixels 0.009236111111111112\n",
      "max of morphed is 1\n",
      "1\n"
     ]
    },
    {
     "name": "stderr",
     "output_type": "stream",
     "text": [
      "\u001b[A\u001b[A\u001b[A\u001b[A"
     ]
    },
    {
     "name": "stdout",
     "output_type": "stream",
     "text": [
      "max at end of edge summation 2\n",
      "max at end of edge summation 1\n"
     ]
    },
    {
     "name": "stderr",
     "output_type": "stream",
     "text": [
      "\n",
      "\n",
      "\n",
      "\n",
      "\r",
      " 16%|█▌        | 186/1200 [01:30<08:07,  2.08it/s]"
     ]
    },
    {
     "name": "stdout",
     "output_type": "stream",
     "text": [
      "max at end of edge summation 1\n",
      "summer max 4\n",
      "level 0; %pix 0.5733723958333333\n",
      "level 1; %pix 0.23705186631944444\n",
      "level 2; %pix 0.009564887152777778\n",
      "threshold 2\n",
      "percent activated pixels 0.009564887152777778\n",
      "max of morphed is 1\n",
      "1\n"
     ]
    },
    {
     "name": "stderr",
     "output_type": "stream",
     "text": [
      "\u001b[A\u001b[A\u001b[A\u001b[A"
     ]
    },
    {
     "name": "stdout",
     "output_type": "stream",
     "text": [
      "max at end of edge summation 2\n",
      "max at end of edge summation 2\n"
     ]
    },
    {
     "name": "stderr",
     "output_type": "stream",
     "text": [
      "\n",
      "\n",
      "\n",
      "\n",
      "\r",
      " 16%|█▌        | 187/1200 [01:31<08:09,  2.07it/s]"
     ]
    },
    {
     "name": "stdout",
     "output_type": "stream",
     "text": [
      "max at end of edge summation 2\n",
      "summer max 4\n",
      "level 0; %pix 0.5937489149305556\n",
      "level 1; %pix 0.244423828125\n",
      "level 2; %pix 0.009490017361111111\n",
      "threshold 2\n",
      "percent activated pixels 0.009490017361111111\n",
      "max of morphed is 1\n",
      "1\n"
     ]
    },
    {
     "name": "stderr",
     "output_type": "stream",
     "text": [
      "\u001b[A\u001b[A\u001b[A\u001b[A"
     ]
    },
    {
     "name": "stdout",
     "output_type": "stream",
     "text": [
      "max at end of edge summation 2\n",
      "max at end of edge summation 1\n"
     ]
    },
    {
     "name": "stderr",
     "output_type": "stream",
     "text": [
      "\n",
      "\n",
      "\n",
      "\n",
      "\r",
      " 16%|█▌        | 188/1200 [01:31<08:14,  2.05it/s]"
     ]
    },
    {
     "name": "stdout",
     "output_type": "stream",
     "text": [
      "max at end of edge summation 1\n",
      "summer max 4\n",
      "level 0; %pix 0.5816829427083333\n",
      "level 1; %pix 0.2443305121527778\n",
      "level 2; %pix 0.010295138888888888\n",
      "threshold 2\n",
      "percent activated pixels 0.010295138888888888\n",
      "max of morphed is 1\n",
      "1\n"
     ]
    },
    {
     "name": "stderr",
     "output_type": "stream",
     "text": [
      "\u001b[A\u001b[A\u001b[A\u001b[A"
     ]
    },
    {
     "name": "stdout",
     "output_type": "stream",
     "text": [
      "max at end of edge summation 2\n",
      "max at end of edge summation 2\n"
     ]
    },
    {
     "name": "stderr",
     "output_type": "stream",
     "text": [
      "\n",
      "\n",
      "\n",
      "\n",
      "\r",
      " 16%|█▌        | 189/1200 [01:32<08:13,  2.05it/s]"
     ]
    },
    {
     "name": "stdout",
     "output_type": "stream",
     "text": [
      "max at end of edge summation 1\n",
      "summer max 4\n",
      "level 0; %pix 0.5979991319444444\n",
      "level 1; %pix 0.247685546875\n",
      "level 2; %pix 0.010098741319444444\n",
      "threshold 2\n",
      "percent activated pixels 0.010098741319444444\n",
      "max of morphed is 1\n",
      "1\n"
     ]
    },
    {
     "name": "stderr",
     "output_type": "stream",
     "text": [
      "\u001b[A\u001b[A\u001b[A\u001b[A"
     ]
    },
    {
     "name": "stdout",
     "output_type": "stream",
     "text": [
      "max at end of edge summation 2\n",
      "max at end of edge summation 2\n"
     ]
    },
    {
     "name": "stderr",
     "output_type": "stream",
     "text": [
      "\n",
      "\n",
      "\n",
      "\n",
      "\r",
      " 16%|█▌        | 190/1200 [01:32<08:11,  2.05it/s]"
     ]
    },
    {
     "name": "stdout",
     "output_type": "stream",
     "text": [
      "max at end of edge summation 2\n",
      "summer max 4\n",
      "level 0; %pix 0.5785416666666666\n",
      "level 1; %pix 0.2410232204861111\n",
      "level 2; %pix 0.010652126736111111\n",
      "threshold 2\n",
      "percent activated pixels 0.010652126736111111\n",
      "max of morphed is 1\n",
      "1\n"
     ]
    },
    {
     "name": "stderr",
     "output_type": "stream",
     "text": [
      "\u001b[A\u001b[A\u001b[A\u001b[A"
     ]
    },
    {
     "name": "stdout",
     "output_type": "stream",
     "text": [
      "max at end of edge summation 2\n",
      "max at end of edge summation 1\n"
     ]
    },
    {
     "name": "stderr",
     "output_type": "stream",
     "text": [
      "\n",
      "\n",
      "\n",
      "\n",
      "\r",
      " 16%|█▌        | 191/1200 [01:33<08:01,  2.09it/s]"
     ]
    },
    {
     "name": "stdout",
     "output_type": "stream",
     "text": [
      "max at end of edge summation 1\n",
      "summer max 4\n",
      "level 0; %pix 0.5973046875\n",
      "level 1; %pix 0.24631944444444445\n",
      "level 2; %pix 0.010669487847222223\n",
      "threshold 2\n",
      "percent activated pixels 0.010669487847222223\n",
      "max of morphed is 1\n",
      "1\n"
     ]
    },
    {
     "name": "stderr",
     "output_type": "stream",
     "text": [
      "\u001b[A\u001b[A\u001b[A\u001b[A"
     ]
    },
    {
     "name": "stdout",
     "output_type": "stream",
     "text": [
      "max at end of edge summation 2\n",
      "max at end of edge summation 2\n"
     ]
    },
    {
     "name": "stderr",
     "output_type": "stream",
     "text": [
      "\n",
      "\n",
      "\n",
      "\n",
      "\r",
      " 16%|█▌        | 192/1200 [01:33<08:03,  2.09it/s]"
     ]
    },
    {
     "name": "stdout",
     "output_type": "stream",
     "text": [
      "max at end of edge summation 1\n",
      "summer max 4\n",
      "level 0; %pix 0.5873057725694445\n",
      "level 1; %pix 0.24436848958333332\n",
      "level 2; %pix 0.011203342013888888\n",
      "threshold 2\n",
      "percent activated pixels 0.011203342013888888\n",
      "max of morphed is 1\n",
      "1\n"
     ]
    },
    {
     "name": "stderr",
     "output_type": "stream",
     "text": [
      "\u001b[A\u001b[A\u001b[A\u001b[A"
     ]
    },
    {
     "name": "stdout",
     "output_type": "stream",
     "text": [
      "max at end of edge summation 2\n",
      "max at end of edge summation 2\n"
     ]
    },
    {
     "name": "stderr",
     "output_type": "stream",
     "text": [
      "\n",
      "\n",
      "\n",
      "\n",
      "\r",
      " 16%|█▌        | 193/1200 [01:34<08:03,  2.08it/s]"
     ]
    },
    {
     "name": "stdout",
     "output_type": "stream",
     "text": [
      "max at end of edge summation 2\n",
      "summer max 5\n",
      "level 0; %pix 0.60138671875\n",
      "level 1; %pix 0.24931966145833334\n",
      "level 2; %pix 0.011268446180555556\n",
      "threshold 2\n",
      "percent activated pixels 0.011268446180555556\n",
      "max of morphed is 1\n",
      "1\n"
     ]
    },
    {
     "name": "stderr",
     "output_type": "stream",
     "text": [
      "\u001b[A\u001b[A\u001b[A\u001b[A"
     ]
    },
    {
     "name": "stdout",
     "output_type": "stream",
     "text": [
      "max at end of edge summation 2\n",
      "max at end of edge summation 2\n"
     ]
    },
    {
     "name": "stderr",
     "output_type": "stream",
     "text": [
      "\n",
      "\n",
      "\n",
      "\n",
      "\r",
      " 16%|█▌        | 194/1200 [01:34<08:03,  2.08it/s]"
     ]
    },
    {
     "name": "stdout",
     "output_type": "stream",
     "text": [
      "max at end of edge summation 2\n",
      "summer max 5\n",
      "level 0; %pix 0.5920572916666667\n",
      "level 1; %pix 0.24852973090277777\n",
      "level 2; %pix 0.011973741319444444\n",
      "threshold 2\n",
      "percent activated pixels 0.011973741319444444\n",
      "max of morphed is 1\n",
      "1\n"
     ]
    },
    {
     "name": "stderr",
     "output_type": "stream",
     "text": [
      "\u001b[A\u001b[A\u001b[A\u001b[A"
     ]
    },
    {
     "name": "stdout",
     "output_type": "stream",
     "text": [
      "max at end of edge summation 2\n",
      "max at end of edge summation 1\n"
     ]
    },
    {
     "name": "stderr",
     "output_type": "stream",
     "text": [
      "\n",
      "\n",
      "\n",
      "\n",
      "\r",
      " 16%|█▋        | 195/1200 [01:35<08:06,  2.06it/s]"
     ]
    },
    {
     "name": "stdout",
     "output_type": "stream",
     "text": [
      "max at end of edge summation 2\n",
      "summer max 4\n",
      "level 0; %pix 0.6049381510416667\n",
      "level 1; %pix 0.2547211371527778\n",
      "level 2; %pix 0.01302734375\n",
      "threshold 2\n",
      "percent activated pixels 0.01302734375\n",
      "max of morphed is 1\n",
      "1\n"
     ]
    },
    {
     "name": "stderr",
     "output_type": "stream",
     "text": [
      "\u001b[A\u001b[A\u001b[A\u001b[A"
     ]
    },
    {
     "name": "stdout",
     "output_type": "stream",
     "text": [
      "max at end of edge summation 2\n",
      "max at end of edge summation 1\n"
     ]
    },
    {
     "name": "stderr",
     "output_type": "stream",
     "text": [
      "\n",
      "\n",
      "\n",
      "\n",
      "\r",
      " 16%|█▋        | 196/1200 [01:35<08:08,  2.06it/s]"
     ]
    },
    {
     "name": "stdout",
     "output_type": "stream",
     "text": [
      "max at end of edge summation 2\n",
      "summer max 5\n",
      "level 0; %pix 0.6034787326388888\n",
      "level 1; %pix 0.2526356336805556\n",
      "level 2; %pix 0.013468967013888888\n",
      "threshold 2\n",
      "percent activated pixels 0.013468967013888888\n",
      "max of morphed is 1\n",
      "1\n"
     ]
    },
    {
     "name": "stderr",
     "output_type": "stream",
     "text": [
      "\u001b[A\u001b[A\u001b[A\u001b[A"
     ]
    },
    {
     "name": "stdout",
     "output_type": "stream",
     "text": [
      "max at end of edge summation 2\n",
      "max at end of edge summation 1\n"
     ]
    },
    {
     "name": "stderr",
     "output_type": "stream",
     "text": [
      "\n",
      "\n",
      "\n",
      "\n",
      "\r",
      " 16%|█▋        | 197/1200 [01:36<08:00,  2.09it/s]"
     ]
    },
    {
     "name": "stdout",
     "output_type": "stream",
     "text": [
      "max at end of edge summation 1\n",
      "summer max 4\n",
      "level 0; %pix 0.5653776041666667\n",
      "level 1; %pix 0.23982638888888888\n",
      "level 2; %pix 0.014674479166666667\n",
      "threshold 2\n",
      "percent activated pixels 0.014674479166666667\n",
      "max of morphed is 1\n",
      "1\n"
     ]
    },
    {
     "name": "stderr",
     "output_type": "stream",
     "text": [
      "\u001b[A\u001b[A\u001b[A\u001b[A"
     ]
    },
    {
     "name": "stdout",
     "output_type": "stream",
     "text": [
      "max at end of edge summation 2\n",
      "max at end of edge summation 1\n"
     ]
    },
    {
     "name": "stderr",
     "output_type": "stream",
     "text": [
      "\n",
      "\n",
      "\n",
      "\n",
      "\r",
      " 16%|█▋        | 198/1200 [01:36<08:03,  2.07it/s]"
     ]
    },
    {
     "name": "stdout",
     "output_type": "stream",
     "text": [
      "max at end of edge summation 1\n",
      "summer max 4\n",
      "level 0; %pix 0.5272200520833333\n",
      "level 1; %pix 0.25139431423611114\n",
      "level 2; %pix 0.019380425347222223\n",
      "threshold 2\n",
      "percent activated pixels 0.019380425347222223\n",
      "max of morphed is 1\n",
      "1\n"
     ]
    },
    {
     "name": "stderr",
     "output_type": "stream",
     "text": [
      "\u001b[A\u001b[A\u001b[A\u001b[A"
     ]
    },
    {
     "name": "stdout",
     "output_type": "stream",
     "text": [
      "max at end of edge summation 2\n",
      "max at end of edge summation 2\n"
     ]
    },
    {
     "name": "stderr",
     "output_type": "stream",
     "text": [
      "\n",
      "\n",
      "\n",
      "\n",
      "\r",
      " 17%|█▋        | 199/1200 [01:37<08:09,  2.04it/s]"
     ]
    },
    {
     "name": "stdout",
     "output_type": "stream",
     "text": [
      "max at end of edge summation 1\n",
      "summer max 4\n",
      "level 0; %pix 0.5496527777777778\n",
      "level 1; %pix 0.2663715277777778\n",
      "level 2; %pix 0.021104600694444444\n",
      "threshold 2\n",
      "percent activated pixels 0.021104600694444444\n",
      "max of morphed is 1\n",
      "1\n"
     ]
    },
    {
     "name": "stderr",
     "output_type": "stream",
     "text": [
      "\u001b[A\u001b[A\u001b[A\u001b[A"
     ]
    },
    {
     "name": "stdout",
     "output_type": "stream",
     "text": [
      "max at end of edge summation 2\n",
      "max at end of edge summation 2\n"
     ]
    },
    {
     "name": "stderr",
     "output_type": "stream",
     "text": [
      "\n",
      "\n",
      "\n",
      "\n",
      "\r",
      " 17%|█▋        | 200/1200 [01:37<08:12,  2.03it/s]"
     ]
    },
    {
     "name": "stdout",
     "output_type": "stream",
     "text": [
      "max at end of edge summation 2\n",
      "summer max 4\n",
      "level 0; %pix 0.5590896267361111\n",
      "level 1; %pix 0.2729839409722222\n",
      "level 2; %pix 0.022378472222222223\n",
      "threshold 2\n",
      "percent activated pixels 0.022378472222222223\n",
      "max of morphed is 1\n",
      "1\n"
     ]
    },
    {
     "name": "stderr",
     "output_type": "stream",
     "text": [
      "\u001b[A\u001b[A\u001b[A\u001b[A"
     ]
    },
    {
     "name": "stdout",
     "output_type": "stream",
     "text": [
      "max at end of edge summation 2\n",
      "max at end of edge summation 2\n"
     ]
    },
    {
     "name": "stderr",
     "output_type": "stream",
     "text": [
      "\n",
      "\n",
      "\n",
      "\n",
      "\r",
      " 17%|█▋        | 201/1200 [01:38<08:14,  2.02it/s]"
     ]
    },
    {
     "name": "stdout",
     "output_type": "stream",
     "text": [
      "max at end of edge summation 1\n",
      "summer max 4\n",
      "level 0; %pix 0.576552734375\n",
      "level 1; %pix 0.2822092013888889\n",
      "level 2; %pix 0.02383572048611111\n",
      "threshold 2\n",
      "percent activated pixels 0.02383572048611111\n",
      "max of morphed is 1\n",
      "1\n"
     ]
    },
    {
     "name": "stderr",
     "output_type": "stream",
     "text": [
      "\u001b[A\u001b[A\u001b[A\u001b[A"
     ]
    },
    {
     "name": "stdout",
     "output_type": "stream",
     "text": [
      "max at end of edge summation 2\n",
      "max at end of edge summation 1\n"
     ]
    },
    {
     "name": "stderr",
     "output_type": "stream",
     "text": [
      "\n",
      "\n",
      "\n",
      "\n",
      "\r",
      " 17%|█▋        | 202/1200 [01:38<08:16,  2.01it/s]"
     ]
    },
    {
     "name": "stdout",
     "output_type": "stream",
     "text": [
      "max at end of edge summation 2\n",
      "summer max 4\n",
      "level 0; %pix 0.5890559895833334\n",
      "level 1; %pix 0.2879503038194444\n",
      "level 2; %pix 0.024803602430555554\n",
      "threshold 2\n",
      "percent activated pixels 0.024803602430555554\n",
      "max of morphed is 1\n",
      "1\n"
     ]
    },
    {
     "name": "stderr",
     "output_type": "stream",
     "text": [
      "\u001b[A\u001b[A\u001b[A\u001b[A"
     ]
    },
    {
     "name": "stdout",
     "output_type": "stream",
     "text": [
      "max at end of edge summation 2\n",
      "max at end of edge summation 2\n"
     ]
    },
    {
     "name": "stderr",
     "output_type": "stream",
     "text": [
      "\n",
      "\n",
      "\n",
      "\n",
      "\r",
      " 17%|█▋        | 203/1200 [01:39<08:07,  2.05it/s]"
     ]
    },
    {
     "name": "stdout",
     "output_type": "stream",
     "text": [
      "max at end of edge summation 2\n",
      "summer max 4\n",
      "level 0; %pix 0.5994542100694444\n",
      "level 1; %pix 0.2930642361111111\n",
      "level 2; %pix 0.025785590277777777\n",
      "threshold 2\n",
      "percent activated pixels 0.025785590277777777\n",
      "max of morphed is 1\n",
      "1\n"
     ]
    },
    {
     "name": "stderr",
     "output_type": "stream",
     "text": [
      "\u001b[A\u001b[A\u001b[A\u001b[A"
     ]
    },
    {
     "name": "stdout",
     "output_type": "stream",
     "text": [
      "max at end of edge summation 2\n",
      "max at end of edge summation 2\n"
     ]
    },
    {
     "name": "stderr",
     "output_type": "stream",
     "text": [
      "\n",
      "\n",
      "\n",
      "\n",
      "\r",
      " 17%|█▋        | 204/1200 [01:39<08:11,  2.03it/s]"
     ]
    },
    {
     "name": "stdout",
     "output_type": "stream",
     "text": [
      "max at end of edge summation 2\n",
      "summer max 4\n",
      "level 0; %pix 0.6063736979166666\n",
      "level 1; %pix 0.29506727430555557\n",
      "level 2; %pix 0.027055121527777778\n",
      "threshold 2\n",
      "percent activated pixels 0.027055121527777778\n",
      "max of morphed is 1\n",
      "1\n"
     ]
    },
    {
     "name": "stderr",
     "output_type": "stream",
     "text": [
      "\u001b[A\u001b[A\u001b[A\u001b[A"
     ]
    },
    {
     "name": "stdout",
     "output_type": "stream",
     "text": [
      "max at end of edge summation 2\n",
      "max at end of edge summation 2\n"
     ]
    },
    {
     "name": "stderr",
     "output_type": "stream",
     "text": [
      "\n",
      "\n",
      "\n",
      "\n",
      "\r",
      " 17%|█▋        | 205/1200 [01:40<08:10,  2.03it/s]"
     ]
    },
    {
     "name": "stdout",
     "output_type": "stream",
     "text": [
      "max at end of edge summation 2\n",
      "summer max 4\n",
      "level 0; %pix 0.6114485677083333\n",
      "level 1; %pix 0.2975260416666667\n",
      "level 2; %pix 0.027587890625\n",
      "threshold 2\n",
      "percent activated pixels 0.027587890625\n",
      "max of morphed is 1\n",
      "1\n"
     ]
    },
    {
     "name": "stderr",
     "output_type": "stream",
     "text": [
      "\u001b[A\u001b[A\u001b[A\u001b[A"
     ]
    },
    {
     "name": "stdout",
     "output_type": "stream",
     "text": [
      "max at end of edge summation 2\n",
      "max at end of edge summation 1\n"
     ]
    },
    {
     "name": "stderr",
     "output_type": "stream",
     "text": [
      "\n",
      "\n",
      "\n",
      "\n",
      "\r",
      " 17%|█▋        | 206/1200 [01:40<08:12,  2.02it/s]"
     ]
    },
    {
     "name": "stdout",
     "output_type": "stream",
     "text": [
      "max at end of edge summation 2\n",
      "summer max 4\n",
      "level 0; %pix 0.6035807291666667\n",
      "level 1; %pix 0.2908962673611111\n",
      "level 2; %pix 0.02709526909722222\n",
      "threshold 2\n",
      "percent activated pixels 0.02709526909722222\n",
      "max of morphed is 1\n",
      "1\n"
     ]
    },
    {
     "name": "stderr",
     "output_type": "stream",
     "text": [
      "\u001b[A\u001b[A\u001b[A\u001b[A"
     ]
    },
    {
     "name": "stdout",
     "output_type": "stream",
     "text": [
      "max at end of edge summation 2\n",
      "max at end of edge summation 2\n"
     ]
    },
    {
     "name": "stderr",
     "output_type": "stream",
     "text": [
      "\n",
      "\n",
      "\n",
      "\n",
      "\r",
      " 17%|█▋        | 207/1200 [01:41<08:11,  2.02it/s]"
     ]
    },
    {
     "name": "stdout",
     "output_type": "stream",
     "text": [
      "max at end of edge summation 1\n",
      "summer max 4\n",
      "level 0; %pix 0.6110373263888889\n",
      "level 1; %pix 0.29431640625\n",
      "level 2; %pix 0.02719943576388889\n",
      "threshold 2\n",
      "percent activated pixels 0.02719943576388889\n",
      "max of morphed is 1\n",
      "1\n"
     ]
    },
    {
     "name": "stderr",
     "output_type": "stream",
     "text": [
      "\u001b[A\u001b[A\u001b[A\u001b[A"
     ]
    },
    {
     "name": "stdout",
     "output_type": "stream",
     "text": [
      "max at end of edge summation 2\n",
      "max at end of edge summation 2\n"
     ]
    },
    {
     "name": "stderr",
     "output_type": "stream",
     "text": [
      "\n",
      "\n",
      "\n",
      "\n",
      "\r",
      " 17%|█▋        | 208/1200 [01:41<08:13,  2.01it/s]"
     ]
    },
    {
     "name": "stdout",
     "output_type": "stream",
     "text": [
      "max at end of edge summation 1\n",
      "summer max 4\n",
      "level 0; %pix 0.6124782986111111\n",
      "level 1; %pix 0.29209309895833335\n",
      "level 2; %pix 0.026749131944444445\n",
      "threshold 2\n",
      "percent activated pixels 0.026749131944444445\n",
      "max of morphed is 1\n",
      "1\n"
     ]
    },
    {
     "name": "stderr",
     "output_type": "stream",
     "text": [
      "\u001b[A\u001b[A\u001b[A\u001b[A"
     ]
    },
    {
     "name": "stdout",
     "output_type": "stream",
     "text": [
      "max at end of edge summation 2\n",
      "max at end of edge summation 1\n"
     ]
    },
    {
     "name": "stderr",
     "output_type": "stream",
     "text": [
      "\n",
      "\n",
      "\n",
      "\n",
      "\r",
      " 17%|█▋        | 209/1200 [01:42<08:09,  2.03it/s]"
     ]
    },
    {
     "name": "stdout",
     "output_type": "stream",
     "text": [
      "max at end of edge summation 1\n",
      "summer max 4\n",
      "level 0; %pix 0.6165896267361111\n",
      "level 1; %pix 0.2955588107638889\n",
      "level 2; %pix 0.02715060763888889\n",
      "threshold 2\n",
      "percent activated pixels 0.02715060763888889\n",
      "max of morphed is 1\n",
      "1\n"
     ]
    },
    {
     "name": "stderr",
     "output_type": "stream",
     "text": [
      "\u001b[A\u001b[A\u001b[A\u001b[A"
     ]
    },
    {
     "name": "stdout",
     "output_type": "stream",
     "text": [
      "max at end of edge summation 2\n",
      "max at end of edge summation 1\n"
     ]
    },
    {
     "name": "stderr",
     "output_type": "stream",
     "text": [
      "\n",
      "\n",
      "\n",
      "\n",
      "\r",
      " 18%|█▊        | 210/1200 [01:42<08:12,  2.01it/s]"
     ]
    },
    {
     "name": "stdout",
     "output_type": "stream",
     "text": [
      "max at end of edge summation 1\n",
      "summer max 4\n",
      "level 0; %pix 0.6110091145833333\n",
      "level 1; %pix 0.29816297743055553\n",
      "level 2; %pix 0.02748263888888889\n",
      "threshold 2\n",
      "percent activated pixels 0.02748263888888889\n",
      "max of morphed is 1\n",
      "1\n"
     ]
    },
    {
     "name": "stderr",
     "output_type": "stream",
     "text": [
      "\u001b[A\u001b[A\u001b[A\u001b[A"
     ]
    },
    {
     "name": "stdout",
     "output_type": "stream",
     "text": [
      "max at end of edge summation 2\n",
      "max at end of edge summation 1\n"
     ]
    },
    {
     "name": "stderr",
     "output_type": "stream",
     "text": [
      "\n",
      "\n",
      "\n",
      "\n",
      "\r",
      " 18%|█▊        | 211/1200 [01:43<08:14,  2.00it/s]"
     ]
    },
    {
     "name": "stdout",
     "output_type": "stream",
     "text": [
      "max at end of edge summation 1\n",
      "summer max 4\n",
      "level 0; %pix 0.6197222222222222\n",
      "level 1; %pix 0.301943359375\n",
      "level 2; %pix 0.027880859375\n",
      "threshold 2\n",
      "percent activated pixels 0.027880859375\n",
      "max of morphed is 1\n",
      "1\n"
     ]
    },
    {
     "name": "stderr",
     "output_type": "stream",
     "text": [
      "\u001b[A\u001b[A\u001b[A\u001b[A"
     ]
    },
    {
     "name": "stdout",
     "output_type": "stream",
     "text": [
      "max at end of edge summation 2\n",
      "max at end of edge summation 2\n"
     ]
    },
    {
     "name": "stderr",
     "output_type": "stream",
     "text": [
      "\n",
      "\n",
      "\n",
      "\n",
      "\r",
      " 18%|█▊        | 212/1200 [01:43<08:16,  1.99it/s]"
     ]
    },
    {
     "name": "stdout",
     "output_type": "stream",
     "text": [
      "max at end of edge summation 1\n",
      "summer max 4\n",
      "level 0; %pix 0.6122352430555555\n",
      "level 1; %pix 0.30273328993055554\n",
      "level 2; %pix 0.02684027777777778\n",
      "threshold 2\n",
      "percent activated pixels 0.02684027777777778\n",
      "max of morphed is 1\n",
      "1\n"
     ]
    },
    {
     "name": "stderr",
     "output_type": "stream",
     "text": [
      "\u001b[A\u001b[A\u001b[A\u001b[A"
     ]
    },
    {
     "name": "stdout",
     "output_type": "stream",
     "text": [
      "max at end of edge summation 2\n",
      "max at end of edge summation 1\n"
     ]
    },
    {
     "name": "stderr",
     "output_type": "stream",
     "text": [
      "\n",
      "\n",
      "\n",
      "\n",
      "\r",
      " 18%|█▊        | 213/1200 [01:44<08:15,  1.99it/s]"
     ]
    },
    {
     "name": "stdout",
     "output_type": "stream",
     "text": [
      "max at end of edge summation 2\n",
      "summer max 4\n",
      "level 0; %pix 0.6178667534722222\n",
      "level 1; %pix 0.30474283854166667\n",
      "level 2; %pix 0.02629448784722222\n",
      "threshold 2\n",
      "percent activated pixels 0.02629448784722222\n",
      "max of morphed is 1\n",
      "1\n"
     ]
    },
    {
     "name": "stderr",
     "output_type": "stream",
     "text": [
      "\u001b[A\u001b[A\u001b[A\u001b[A"
     ]
    },
    {
     "name": "stdout",
     "output_type": "stream",
     "text": [
      "max at end of edge summation 2\n",
      "max at end of edge summation 2\n"
     ]
    },
    {
     "name": "stderr",
     "output_type": "stream",
     "text": [
      "\n",
      "\n",
      "\n",
      "\n",
      "\r",
      " 18%|█▊        | 214/1200 [01:44<08:14,  1.99it/s]"
     ]
    },
    {
     "name": "stdout",
     "output_type": "stream",
     "text": [
      "max at end of edge summation 1\n",
      "summer max 4\n",
      "level 0; %pix 0.6195844184027778\n",
      "level 1; %pix 0.3076302083333333\n",
      "level 2; %pix 0.025914713541666665\n",
      "threshold 2\n",
      "percent activated pixels 0.025914713541666665\n",
      "max of morphed is 1\n",
      "1\n"
     ]
    },
    {
     "name": "stderr",
     "output_type": "stream",
     "text": [
      "\u001b[A\u001b[A\u001b[A\u001b[A"
     ]
    },
    {
     "name": "stdout",
     "output_type": "stream",
     "text": [
      "max at end of edge summation 2\n",
      "max at end of edge summation 1\n"
     ]
    },
    {
     "name": "stderr",
     "output_type": "stream",
     "text": [
      "\n",
      "\n",
      "\n",
      "\n",
      "\r",
      " 18%|█▊        | 215/1200 [01:45<08:03,  2.04it/s]"
     ]
    },
    {
     "name": "stdout",
     "output_type": "stream",
     "text": [
      "max at end of edge summation 1\n",
      "summer max 4\n",
      "level 0; %pix 0.6232497829861111\n",
      "level 1; %pix 0.30996527777777777\n",
      "level 2; %pix 0.02547634548611111\n",
      "threshold 2\n",
      "percent activated pixels 0.02547634548611111\n",
      "max of morphed is 1\n",
      "1\n"
     ]
    },
    {
     "name": "stderr",
     "output_type": "stream",
     "text": [
      "\u001b[A\u001b[A\u001b[A\u001b[A"
     ]
    },
    {
     "name": "stdout",
     "output_type": "stream",
     "text": [
      "max at end of edge summation 2\n",
      "max at end of edge summation 2\n"
     ]
    },
    {
     "name": "stderr",
     "output_type": "stream",
     "text": [
      "\n",
      "\n",
      "\n",
      "\n",
      "\r",
      " 18%|█▊        | 216/1200 [01:45<08:04,  2.03it/s]"
     ]
    },
    {
     "name": "stdout",
     "output_type": "stream",
     "text": [
      "max at end of edge summation 1\n",
      "summer max 4\n",
      "level 0; %pix 0.6137760416666667\n",
      "level 1; %pix 0.3096462673611111\n",
      "level 2; %pix 0.025992838541666667\n",
      "threshold 2\n",
      "percent activated pixels 0.025992838541666667\n",
      "max of morphed is 1\n",
      "1\n"
     ]
    },
    {
     "name": "stderr",
     "output_type": "stream",
     "text": [
      "\u001b[A\u001b[A\u001b[A\u001b[A"
     ]
    },
    {
     "name": "stdout",
     "output_type": "stream",
     "text": [
      "max at end of edge summation 2\n",
      "max at end of edge summation 2\n"
     ]
    },
    {
     "name": "stderr",
     "output_type": "stream",
     "text": [
      "\n",
      "\n",
      "\n",
      "\n",
      "\r",
      " 18%|█▊        | 217/1200 [01:46<08:07,  2.02it/s]"
     ]
    },
    {
     "name": "stdout",
     "output_type": "stream",
     "text": [
      "max at end of edge summation 1\n",
      "summer max 4\n",
      "level 0; %pix 0.6172178819444445\n",
      "level 1; %pix 0.31179578993055557\n",
      "level 2; %pix 0.024998914930555557\n",
      "threshold 2\n",
      "percent activated pixels 0.024998914930555557\n",
      "max of morphed is 1\n",
      "1\n"
     ]
    },
    {
     "name": "stderr",
     "output_type": "stream",
     "text": [
      "\u001b[A\u001b[A\u001b[A\u001b[A"
     ]
    },
    {
     "name": "stdout",
     "output_type": "stream",
     "text": [
      "max at end of edge summation 2\n",
      "max at end of edge summation 2\n"
     ]
    },
    {
     "name": "stderr",
     "output_type": "stream",
     "text": [
      "\n",
      "\n",
      "\n",
      "\n",
      "\r",
      " 18%|█▊        | 218/1200 [01:46<08:05,  2.02it/s]"
     ]
    },
    {
     "name": "stdout",
     "output_type": "stream",
     "text": [
      "max at end of edge summation 1\n",
      "summer max 4\n",
      "level 0; %pix 0.6176378038194444\n",
      "level 1; %pix 0.3104611545138889\n",
      "level 2; %pix 0.023929036458333334\n",
      "threshold 2\n",
      "percent activated pixels 0.023929036458333334\n",
      "max of morphed is 1\n",
      "1\n"
     ]
    },
    {
     "name": "stderr",
     "output_type": "stream",
     "text": [
      "\u001b[A\u001b[A\u001b[A\u001b[A"
     ]
    },
    {
     "name": "stdout",
     "output_type": "stream",
     "text": [
      "max at end of edge summation 2\n",
      "max at end of edge summation 1\n"
     ]
    },
    {
     "name": "stderr",
     "output_type": "stream",
     "text": [
      "\n",
      "\n",
      "\n",
      "\n",
      "\r",
      " 18%|█▊        | 219/1200 [01:47<08:02,  2.03it/s]"
     ]
    },
    {
     "name": "stdout",
     "output_type": "stream",
     "text": [
      "max at end of edge summation 1\n",
      "summer max 4\n",
      "level 0; %pix 0.6134299045138889\n",
      "level 1; %pix 0.31355034722222225\n",
      "level 2; %pix 0.024534505208333335\n",
      "threshold 2\n",
      "percent activated pixels 0.024534505208333335\n",
      "max of morphed is 1\n",
      "1\n"
     ]
    },
    {
     "name": "stderr",
     "output_type": "stream",
     "text": [
      "\u001b[A\u001b[A\u001b[A\u001b[A"
     ]
    },
    {
     "name": "stdout",
     "output_type": "stream",
     "text": [
      "max at end of edge summation 2\n",
      "max at end of edge summation 1\n"
     ]
    },
    {
     "name": "stderr",
     "output_type": "stream",
     "text": [
      "\n",
      "\n",
      "\n",
      "\n",
      "\r",
      " 18%|█▊        | 220/1200 [01:47<08:04,  2.02it/s]"
     ]
    },
    {
     "name": "stdout",
     "output_type": "stream",
     "text": [
      "max at end of edge summation 1\n",
      "summer max 4\n",
      "level 0; %pix 0.6117296006944445\n",
      "level 1; %pix 0.31425130208333335\n",
      "level 2; %pix 0.024683159722222223\n",
      "threshold 2\n",
      "percent activated pixels 0.024683159722222223\n",
      "max of morphed is 1\n",
      "1\n"
     ]
    },
    {
     "name": "stderr",
     "output_type": "stream",
     "text": [
      "\u001b[A\u001b[A\u001b[A\u001b[A"
     ]
    },
    {
     "name": "stdout",
     "output_type": "stream",
     "text": [
      "max at end of edge summation 2\n",
      "max at end of edge summation 2\n"
     ]
    },
    {
     "name": "stderr",
     "output_type": "stream",
     "text": [
      "\n",
      "\n",
      "\n",
      "\n",
      "\r",
      " 18%|█▊        | 221/1200 [01:48<07:56,  2.06it/s]"
     ]
    },
    {
     "name": "stdout",
     "output_type": "stream",
     "text": [
      "max at end of edge summation 1\n",
      "summer max 4\n",
      "level 0; %pix 0.6013986545138889\n",
      "level 1; %pix 0.29440538194444443\n",
      "level 2; %pix 0.02216362847222222\n",
      "threshold 2\n",
      "percent activated pixels 0.02216362847222222\n",
      "max of morphed is 1\n",
      "1\n"
     ]
    },
    {
     "name": "stderr",
     "output_type": "stream",
     "text": [
      "\u001b[A\u001b[A\u001b[A\u001b[A"
     ]
    },
    {
     "name": "stdout",
     "output_type": "stream",
     "text": [
      "max at end of edge summation 2\n",
      "max at end of edge summation 2\n"
     ]
    },
    {
     "name": "stderr",
     "output_type": "stream",
     "text": [
      "\n",
      "\n",
      "\n",
      "\n",
      "\r",
      " 18%|█▊        | 222/1200 [01:48<07:58,  2.04it/s]"
     ]
    },
    {
     "name": "stdout",
     "output_type": "stream",
     "text": [
      "max at end of edge summation 1\n",
      "summer max 4\n",
      "level 0; %pix 0.6179644097222222\n",
      "level 1; %pix 0.2954025607638889\n",
      "level 2; %pix 0.02323025173611111\n",
      "threshold 2\n",
      "percent activated pixels 0.02323025173611111\n",
      "max of morphed is 1\n",
      "1\n"
     ]
    },
    {
     "name": "stderr",
     "output_type": "stream",
     "text": [
      "\u001b[A\u001b[A\u001b[A\u001b[A"
     ]
    },
    {
     "name": "stdout",
     "output_type": "stream",
     "text": [
      "max at end of edge summation 2\n",
      "max at end of edge summation 2\n"
     ]
    },
    {
     "name": "stderr",
     "output_type": "stream",
     "text": [
      "\n",
      "\n",
      "\n",
      "\n",
      "\r",
      " 19%|█▊        | 223/1200 [01:48<07:56,  2.05it/s]"
     ]
    },
    {
     "name": "stdout",
     "output_type": "stream",
     "text": [
      "max at end of edge summation 1\n",
      "summer max 4\n",
      "level 0; %pix 0.6129351128472222\n",
      "level 1; %pix 0.29826171875\n",
      "level 2; %pix 0.02414822048611111\n",
      "threshold 2\n",
      "percent activated pixels 0.02414822048611111\n",
      "max of morphed is 1\n",
      "1\n"
     ]
    },
    {
     "name": "stderr",
     "output_type": "stream",
     "text": [
      "\u001b[A\u001b[A\u001b[A\u001b[A"
     ]
    },
    {
     "name": "stdout",
     "output_type": "stream",
     "text": [
      "max at end of edge summation 2\n",
      "max at end of edge summation 1\n"
     ]
    },
    {
     "name": "stderr",
     "output_type": "stream",
     "text": [
      "\n",
      "\n",
      "\n",
      "\n",
      "\r",
      " 19%|█▊        | 224/1200 [01:49<07:56,  2.05it/s]"
     ]
    },
    {
     "name": "stdout",
     "output_type": "stream",
     "text": [
      "max at end of edge summation 1\n",
      "summer max 4\n",
      "level 0; %pix 0.6191818576388889\n",
      "level 1; %pix 0.2989724392361111\n",
      "level 2; %pix 0.023795572916666667\n",
      "threshold 2\n",
      "percent activated pixels 0.023795572916666667\n",
      "max of morphed is 1\n",
      "1\n"
     ]
    },
    {
     "name": "stderr",
     "output_type": "stream",
     "text": [
      "\u001b[A\u001b[A\u001b[A\u001b[A"
     ]
    },
    {
     "name": "stdout",
     "output_type": "stream",
     "text": [
      "max at end of edge summation 2\n",
      "max at end of edge summation 1\n"
     ]
    },
    {
     "name": "stderr",
     "output_type": "stream",
     "text": [
      "\n",
      "\n",
      "\n",
      "\n",
      "\r",
      " 19%|█▉        | 225/1200 [01:49<07:56,  2.04it/s]"
     ]
    },
    {
     "name": "stdout",
     "output_type": "stream",
     "text": [
      "max at end of edge summation 1\n",
      "summer max 4\n",
      "level 0; %pix 0.6291688368055556\n",
      "level 1; %pix 0.2987185329861111\n",
      "level 2; %pix 0.024058159722222222\n",
      "threshold 2\n",
      "percent activated pixels 0.024058159722222222\n",
      "max of morphed is 1\n",
      "1\n"
     ]
    },
    {
     "name": "stderr",
     "output_type": "stream",
     "text": [
      "\u001b[A\u001b[A\u001b[A\u001b[A"
     ]
    },
    {
     "name": "stdout",
     "output_type": "stream",
     "text": [
      "max at end of edge summation 2\n",
      "max at end of edge summation 1\n"
     ]
    },
    {
     "name": "stderr",
     "output_type": "stream",
     "text": [
      "\n",
      "\n",
      "\n",
      "\n",
      "\r",
      " 19%|█▉        | 226/1200 [01:50<07:58,  2.04it/s]"
     ]
    },
    {
     "name": "stdout",
     "output_type": "stream",
     "text": [
      "max at end of edge summation 1\n",
      "summer max 4\n",
      "level 0; %pix 0.6208973524305555\n",
      "level 1; %pix 0.2998220486111111\n",
      "level 2; %pix 0.02429253472222222\n",
      "threshold 2\n",
      "percent activated pixels 0.02429253472222222\n",
      "max of morphed is 1\n",
      "1\n"
     ]
    },
    {
     "name": "stderr",
     "output_type": "stream",
     "text": [
      "\u001b[A\u001b[A\u001b[A\u001b[A"
     ]
    },
    {
     "name": "stdout",
     "output_type": "stream",
     "text": [
      "max at end of edge summation 2\n",
      "max at end of edge summation 1\n"
     ]
    },
    {
     "name": "stderr",
     "output_type": "stream",
     "text": [
      "\n",
      "\n",
      "\n",
      "\n",
      "\r",
      " 19%|█▉        | 227/1200 [01:50<07:49,  2.07it/s]"
     ]
    },
    {
     "name": "stdout",
     "output_type": "stream",
     "text": [
      "max at end of edge summation 1\n",
      "summer max 4\n",
      "level 0; %pix 0.6324717881944445\n",
      "level 1; %pix 0.29913953993055553\n",
      "level 2; %pix 0.024241536458333334\n",
      "threshold 2\n",
      "percent activated pixels 0.024241536458333334\n",
      "max of morphed is 1\n",
      "1\n"
     ]
    },
    {
     "name": "stderr",
     "output_type": "stream",
     "text": [
      "\u001b[A\u001b[A\u001b[A\u001b[A"
     ]
    },
    {
     "name": "stdout",
     "output_type": "stream",
     "text": [
      "max at end of edge summation 2\n",
      "max at end of edge summation 1\n"
     ]
    },
    {
     "name": "stderr",
     "output_type": "stream",
     "text": [
      "\n",
      "\n",
      "\n",
      "\n",
      "\r",
      " 19%|█▉        | 228/1200 [01:51<07:54,  2.05it/s]"
     ]
    },
    {
     "name": "stdout",
     "output_type": "stream",
     "text": [
      "max at end of edge summation 1\n",
      "summer max 4\n",
      "level 0; %pix 0.6057400173611112\n",
      "level 1; %pix 0.2908072916666667\n",
      "level 2; %pix 0.023618706597222223\n",
      "threshold 2\n",
      "percent activated pixels 0.023618706597222223\n",
      "max of morphed is 1\n",
      "1\n"
     ]
    },
    {
     "name": "stderr",
     "output_type": "stream",
     "text": [
      "\u001b[A\u001b[A\u001b[A\u001b[A"
     ]
    },
    {
     "name": "stdout",
     "output_type": "stream",
     "text": [
      "max at end of edge summation 2\n",
      "max at end of edge summation 1\n"
     ]
    },
    {
     "name": "stderr",
     "output_type": "stream",
     "text": [
      "\n",
      "\n",
      "\n",
      "\n",
      "\r",
      " 19%|█▉        | 229/1200 [01:51<07:52,  2.05it/s]"
     ]
    },
    {
     "name": "stdout",
     "output_type": "stream",
     "text": [
      "max at end of edge summation 1\n",
      "summer max 4\n",
      "level 0; %pix 0.5910579427083333\n",
      "level 1; %pix 0.28682291666666665\n",
      "level 2; %pix 0.023264973958333334\n",
      "threshold 2\n",
      "percent activated pixels 0.023264973958333334\n",
      "max of morphed is 1\n",
      "1\n"
     ]
    },
    {
     "name": "stderr",
     "output_type": "stream",
     "text": [
      "\u001b[A\u001b[A\u001b[A\u001b[A"
     ]
    },
    {
     "name": "stdout",
     "output_type": "stream",
     "text": [
      "max at end of edge summation 2\n",
      "max at end of edge summation 1\n"
     ]
    },
    {
     "name": "stderr",
     "output_type": "stream",
     "text": [
      "\n",
      "\n",
      "\n",
      "\n",
      "\r",
      " 19%|█▉        | 230/1200 [01:52<07:51,  2.06it/s]"
     ]
    },
    {
     "name": "stdout",
     "output_type": "stream",
     "text": [
      "max at end of edge summation 1\n",
      "summer max 4\n",
      "level 0; %pix 0.58564453125\n",
      "level 1; %pix 0.30589952256944447\n",
      "level 2; %pix 0.025930989583333335\n",
      "threshold 2\n",
      "percent activated pixels 0.025930989583333335\n",
      "max of morphed is 1\n",
      "1\n"
     ]
    },
    {
     "name": "stderr",
     "output_type": "stream",
     "text": [
      "\u001b[A\u001b[A\u001b[A\u001b[A"
     ]
    },
    {
     "name": "stdout",
     "output_type": "stream",
     "text": [
      "max at end of edge summation 2\n",
      "max at end of edge summation 1\n"
     ]
    },
    {
     "name": "stderr",
     "output_type": "stream",
     "text": [
      "\n",
      "\n",
      "\n",
      "\n",
      "\r",
      " 19%|█▉        | 231/1200 [01:52<07:53,  2.04it/s]"
     ]
    },
    {
     "name": "stdout",
     "output_type": "stream",
     "text": [
      "max at end of edge summation 1\n",
      "summer max 4\n",
      "level 0; %pix 0.5899294704861111\n",
      "level 1; %pix 0.29535047743055554\n",
      "level 2; %pix 0.02460720486111111\n",
      "threshold 2\n",
      "percent activated pixels 0.02460720486111111\n",
      "max of morphed is 1\n",
      "1\n"
     ]
    },
    {
     "name": "stderr",
     "output_type": "stream",
     "text": [
      "\u001b[A\u001b[A\u001b[A\u001b[A"
     ]
    },
    {
     "name": "stdout",
     "output_type": "stream",
     "text": [
      "max at end of edge summation 2\n",
      "max at end of edge summation 1\n"
     ]
    },
    {
     "name": "stderr",
     "output_type": "stream",
     "text": [
      "\n",
      "\n",
      "\n",
      "\n",
      "\r",
      " 19%|█▉        | 232/1200 [01:53<07:54,  2.04it/s]"
     ]
    },
    {
     "name": "stdout",
     "output_type": "stream",
     "text": [
      "max at end of edge summation 1\n",
      "summer max 4\n",
      "level 0; %pix 0.593935546875\n",
      "level 1; %pix 0.2845735677083333\n",
      "level 2; %pix 0.022105034722222222\n",
      "threshold 2\n",
      "percent activated pixels 0.022105034722222222\n",
      "max of morphed is 1\n",
      "1\n"
     ]
    },
    {
     "name": "stderr",
     "output_type": "stream",
     "text": [
      "\u001b[A\u001b[A\u001b[A\u001b[A"
     ]
    },
    {
     "name": "stdout",
     "output_type": "stream",
     "text": [
      "max at end of edge summation 2\n",
      "max at end of edge summation 1\n"
     ]
    },
    {
     "name": "stderr",
     "output_type": "stream",
     "text": [
      "\n",
      "\n",
      "\n",
      "\n",
      "\r",
      " 19%|█▉        | 233/1200 [01:53<07:46,  2.07it/s]"
     ]
    },
    {
     "name": "stdout",
     "output_type": "stream",
     "text": [
      "max at end of edge summation 1\n",
      "summer max 4\n",
      "level 0; %pix 0.5764670138888889\n",
      "level 1; %pix 0.2956325954861111\n",
      "level 2; %pix 0.022692057291666668\n",
      "threshold 2\n",
      "percent activated pixels 0.022692057291666668\n",
      "max of morphed is 1\n",
      "1\n"
     ]
    },
    {
     "name": "stderr",
     "output_type": "stream",
     "text": [
      "\u001b[A\u001b[A\u001b[A\u001b[A"
     ]
    },
    {
     "name": "stdout",
     "output_type": "stream",
     "text": [
      "max at end of edge summation 2\n",
      "max at end of edge summation 1\n"
     ]
    },
    {
     "name": "stderr",
     "output_type": "stream",
     "text": [
      "\n",
      "\n",
      "\n",
      "\n",
      "\r",
      " 20%|█▉        | 234/1200 [01:54<07:54,  2.04it/s]"
     ]
    },
    {
     "name": "stdout",
     "output_type": "stream",
     "text": [
      "max at end of edge summation 1\n",
      "summer max 4\n",
      "level 0; %pix 0.5877853732638889\n",
      "level 1; %pix 0.2974164496527778\n",
      "level 2; %pix 0.021630859375\n",
      "threshold 2\n",
      "percent activated pixels 0.021630859375\n",
      "max of morphed is 1\n",
      "1\n"
     ]
    },
    {
     "name": "stderr",
     "output_type": "stream",
     "text": [
      "\u001b[A\u001b[A\u001b[A\u001b[A"
     ]
    },
    {
     "name": "stdout",
     "output_type": "stream",
     "text": [
      "max at end of edge summation 2\n",
      "max at end of edge summation 1\n"
     ]
    },
    {
     "name": "stderr",
     "output_type": "stream",
     "text": [
      "\n",
      "\n",
      "\n",
      "\n",
      "\r",
      " 20%|█▉        | 235/1200 [01:54<07:48,  2.06it/s]"
     ]
    },
    {
     "name": "stdout",
     "output_type": "stream",
     "text": [
      "max at end of edge summation 1\n",
      "summer max 4\n",
      "level 0; %pix 0.5674848090277778\n",
      "level 1; %pix 0.2882801649305556\n",
      "level 2; %pix 0.020094401041666668\n",
      "threshold 2\n",
      "percent activated pixels 0.020094401041666668\n",
      "max of morphed is 1\n",
      "1\n"
     ]
    },
    {
     "name": "stderr",
     "output_type": "stream",
     "text": [
      "\u001b[A\u001b[A\u001b[A\u001b[A"
     ]
    },
    {
     "name": "stdout",
     "output_type": "stream",
     "text": [
      "max at end of edge summation 2\n",
      "max at end of edge summation 1\n"
     ]
    },
    {
     "name": "stderr",
     "output_type": "stream",
     "text": [
      "\n",
      "\n",
      "\n",
      "\n",
      "\r",
      " 20%|█▉        | 236/1200 [01:55<07:47,  2.06it/s]"
     ]
    },
    {
     "name": "stdout",
     "output_type": "stream",
     "text": [
      "max at end of edge summation 1\n",
      "summer max 4\n",
      "level 0; %pix 0.5605013020833334\n",
      "level 1; %pix 0.27024305555555556\n",
      "level 2; %pix 0.018472222222222223\n",
      "threshold 2\n",
      "percent activated pixels 0.018472222222222223\n",
      "max of morphed is 1\n",
      "1\n"
     ]
    },
    {
     "name": "stderr",
     "output_type": "stream",
     "text": [
      "\u001b[A\u001b[A\u001b[A\u001b[A"
     ]
    },
    {
     "name": "stdout",
     "output_type": "stream",
     "text": [
      "max at end of edge summation 2\n",
      "max at end of edge summation 2\n"
     ]
    },
    {
     "name": "stderr",
     "output_type": "stream",
     "text": [
      "\n",
      "\n",
      "\n",
      "\n",
      "\r",
      " 20%|█▉        | 237/1200 [01:55<07:46,  2.06it/s]"
     ]
    },
    {
     "name": "stdout",
     "output_type": "stream",
     "text": [
      "max at end of edge summation 1\n",
      "summer max 4\n",
      "level 0; %pix 0.5559299045138889\n",
      "level 1; %pix 0.256787109375\n",
      "level 2; %pix 0.014889322916666666\n",
      "threshold 2\n",
      "percent activated pixels 0.014889322916666666\n",
      "max of morphed is 1\n",
      "1\n"
     ]
    },
    {
     "name": "stderr",
     "output_type": "stream",
     "text": [
      "\u001b[A\u001b[A\u001b[A\u001b[A"
     ]
    },
    {
     "name": "stdout",
     "output_type": "stream",
     "text": [
      "max at end of edge summation 2\n",
      "max at end of edge summation 1\n"
     ]
    },
    {
     "name": "stderr",
     "output_type": "stream",
     "text": [
      "\n",
      "\n",
      "\n",
      "\n",
      "\r",
      " 20%|█▉        | 238/1200 [01:56<07:48,  2.05it/s]"
     ]
    },
    {
     "name": "stdout",
     "output_type": "stream",
     "text": [
      "max at end of edge summation 1\n",
      "summer max 4\n",
      "level 0; %pix 0.5506716579861111\n",
      "level 1; %pix 0.270400390625\n",
      "level 2; %pix 0.016861979166666666\n",
      "threshold 2\n",
      "percent activated pixels 0.016861979166666666\n",
      "max of morphed is 1\n",
      "1\n"
     ]
    },
    {
     "name": "stderr",
     "output_type": "stream",
     "text": [
      "\u001b[A\u001b[A\u001b[A\u001b[A"
     ]
    },
    {
     "name": "stdout",
     "output_type": "stream",
     "text": [
      "max at end of edge summation 2\n",
      "max at end of edge summation 1\n"
     ]
    },
    {
     "name": "stderr",
     "output_type": "stream",
     "text": [
      "\n",
      "\n",
      "\n",
      "\n",
      "\r",
      " 20%|█▉        | 239/1200 [01:56<07:40,  2.09it/s]"
     ]
    },
    {
     "name": "stdout",
     "output_type": "stream",
     "text": [
      "max at end of edge summation 2\n",
      "summer max 4\n",
      "level 0; %pix 0.547705078125\n",
      "level 1; %pix 0.28129231770833335\n",
      "level 2; %pix 0.019061414930555555\n",
      "threshold 2\n",
      "percent activated pixels 0.019061414930555555\n",
      "max of morphed is 1\n",
      "1\n"
     ]
    },
    {
     "name": "stderr",
     "output_type": "stream",
     "text": [
      "\u001b[A\u001b[A\u001b[A\u001b[A"
     ]
    },
    {
     "name": "stdout",
     "output_type": "stream",
     "text": [
      "max at end of edge summation 2\n",
      "max at end of edge summation 1\n"
     ]
    },
    {
     "name": "stderr",
     "output_type": "stream",
     "text": [
      "\n",
      "\n",
      "\n",
      "\n",
      "\r",
      " 20%|██        | 240/1200 [01:57<07:46,  2.06it/s]"
     ]
    },
    {
     "name": "stdout",
     "output_type": "stream",
     "text": [
      "max at end of edge summation 1\n",
      "summer max 4\n",
      "level 0; %pix 0.5553634982638889\n",
      "level 1; %pix 0.2806260850694444\n",
      "level 2; %pix 0.019057074652777777\n",
      "threshold 2\n",
      "percent activated pixels 0.019057074652777777\n",
      "max of morphed is 1\n",
      "1\n"
     ]
    },
    {
     "name": "stderr",
     "output_type": "stream",
     "text": [
      "\u001b[A\u001b[A\u001b[A\u001b[A"
     ]
    },
    {
     "name": "stdout",
     "output_type": "stream",
     "text": [
      "max at end of edge summation 2\n",
      "max at end of edge summation 1\n"
     ]
    },
    {
     "name": "stderr",
     "output_type": "stream",
     "text": [
      "\n",
      "\n",
      "\n",
      "\n",
      "\r",
      " 20%|██        | 241/1200 [01:57<07:49,  2.04it/s]"
     ]
    },
    {
     "name": "stdout",
     "output_type": "stream",
     "text": [
      "max at end of edge summation 1\n",
      "summer max 4\n",
      "level 0; %pix 0.5660503472222222\n",
      "level 1; %pix 0.2863997395833333\n",
      "level 2; %pix 0.02192599826388889\n",
      "threshold 2\n",
      "percent activated pixels 0.02192599826388889\n",
      "max of morphed is 1\n",
      "1\n"
     ]
    },
    {
     "name": "stderr",
     "output_type": "stream",
     "text": [
      "\u001b[A\u001b[A\u001b[A\u001b[A"
     ]
    },
    {
     "name": "stdout",
     "output_type": "stream",
     "text": [
      "max at end of edge summation 2\n",
      "max at end of edge summation 1\n"
     ]
    },
    {
     "name": "stderr",
     "output_type": "stream",
     "text": [
      "\n",
      "\n",
      "\n",
      "\n",
      "\r",
      " 20%|██        | 242/1200 [01:58<07:49,  2.04it/s]"
     ]
    },
    {
     "name": "stdout",
     "output_type": "stream",
     "text": [
      "max at end of edge summation 1\n",
      "summer max 4\n",
      "level 0; %pix 0.5557541232638888\n",
      "level 1; %pix 0.28265625\n",
      "level 2; %pix 0.021975911458333334\n",
      "threshold 2\n",
      "percent activated pixels 0.021975911458333334\n",
      "max of morphed is 1\n",
      "1\n"
     ]
    },
    {
     "name": "stderr",
     "output_type": "stream",
     "text": [
      "\u001b[A\u001b[A\u001b[A\u001b[A"
     ]
    },
    {
     "name": "stdout",
     "output_type": "stream",
     "text": [
      "max at end of edge summation 2\n",
      "max at end of edge summation 1\n"
     ]
    },
    {
     "name": "stderr",
     "output_type": "stream",
     "text": [
      "\n",
      "\n",
      "\n",
      "\n",
      "\r",
      " 20%|██        | 243/1200 [01:58<07:54,  2.02it/s]"
     ]
    },
    {
     "name": "stdout",
     "output_type": "stream",
     "text": [
      "max at end of edge summation 1\n",
      "summer max 4\n",
      "level 0; %pix 0.5614507378472222\n",
      "level 1; %pix 0.2883116319444444\n",
      "level 2; %pix 0.021996527777777778\n",
      "threshold 2\n",
      "percent activated pixels 0.021996527777777778\n",
      "max of morphed is 1\n",
      "1\n"
     ]
    },
    {
     "name": "stderr",
     "output_type": "stream",
     "text": [
      "\u001b[A\u001b[A\u001b[A\u001b[A"
     ]
    },
    {
     "name": "stdout",
     "output_type": "stream",
     "text": [
      "max at end of edge summation 2\n",
      "max at end of edge summation 1\n"
     ]
    },
    {
     "name": "stderr",
     "output_type": "stream",
     "text": [
      "\n",
      "\n",
      "\n",
      "\n",
      "\r",
      " 20%|██        | 244/1200 [01:59<07:49,  2.04it/s]"
     ]
    },
    {
     "name": "stdout",
     "output_type": "stream",
     "text": [
      "max at end of edge summation 1\n",
      "summer max 4\n",
      "level 0; %pix 0.543203125\n",
      "level 1; %pix 0.262958984375\n",
      "level 2; %pix 0.017676866319444446\n",
      "threshold 2\n",
      "percent activated pixels 0.017676866319444446\n",
      "max of morphed is 1\n",
      "1\n"
     ]
    },
    {
     "name": "stderr",
     "output_type": "stream",
     "text": [
      "\u001b[A\u001b[A\u001b[A\u001b[A"
     ]
    },
    {
     "name": "stdout",
     "output_type": "stream",
     "text": [
      "max at end of edge summation 2\n",
      "max at end of edge summation 1\n"
     ]
    },
    {
     "name": "stderr",
     "output_type": "stream",
     "text": [
      "\n",
      "\n",
      "\n",
      "\n",
      "\r",
      " 20%|██        | 245/1200 [01:59<07:47,  2.04it/s]"
     ]
    },
    {
     "name": "stdout",
     "output_type": "stream",
     "text": [
      "max at end of edge summation 2\n",
      "summer max 4\n",
      "level 0; %pix 0.5526746961805555\n",
      "level 1; %pix 0.25578993055555554\n",
      "level 2; %pix 0.016448567708333334\n",
      "threshold 2\n",
      "percent activated pixels 0.016448567708333334\n",
      "max of morphed is 1\n",
      "1\n"
     ]
    },
    {
     "name": "stderr",
     "output_type": "stream",
     "text": [
      "\u001b[A\u001b[A\u001b[A\u001b[A"
     ]
    },
    {
     "name": "stdout",
     "output_type": "stream",
     "text": [
      "max at end of edge summation 2\n",
      "max at end of edge summation 2\n"
     ]
    },
    {
     "name": "stderr",
     "output_type": "stream",
     "text": [
      "\n",
      "\n",
      "\n",
      "\n",
      "\r",
      " 20%|██        | 246/1200 [02:00<07:51,  2.02it/s]"
     ]
    },
    {
     "name": "stdout",
     "output_type": "stream",
     "text": [
      "max at end of edge summation 2\n",
      "summer max 4\n",
      "level 0; %pix 0.5686176215277777\n",
      "level 1; %pix 0.26182942708333334\n",
      "level 2; %pix 0.01686740451388889\n",
      "threshold 2\n",
      "percent activated pixels 0.01686740451388889\n",
      "max of morphed is 1\n",
      "1\n"
     ]
    },
    {
     "name": "stderr",
     "output_type": "stream",
     "text": [
      "\u001b[A\u001b[A\u001b[A\u001b[A"
     ]
    },
    {
     "name": "stdout",
     "output_type": "stream",
     "text": [
      "max at end of edge summation 2\n",
      "max at end of edge summation 1\n"
     ]
    },
    {
     "name": "stderr",
     "output_type": "stream",
     "text": [
      "\n",
      "\n",
      "\n",
      "\n",
      "\r",
      " 21%|██        | 247/1200 [02:00<07:59,  1.99it/s]"
     ]
    },
    {
     "name": "stdout",
     "output_type": "stream",
     "text": [
      "max at end of edge summation 2\n",
      "summer max 4\n",
      "level 0; %pix 0.5489138454861111\n",
      "level 1; %pix 0.2817892795138889\n",
      "level 2; %pix 0.022734375\n",
      "threshold 2\n",
      "percent activated pixels 0.022734375\n",
      "max of morphed is 1\n",
      "1\n"
     ]
    },
    {
     "name": "stderr",
     "output_type": "stream",
     "text": [
      "\u001b[A\u001b[A\u001b[A\u001b[A"
     ]
    },
    {
     "name": "stdout",
     "output_type": "stream",
     "text": [
      "max at end of edge summation 2\n",
      "max at end of edge summation 2\n"
     ]
    },
    {
     "name": "stderr",
     "output_type": "stream",
     "text": [
      "\n",
      "\n",
      "\n",
      "\n",
      "\r",
      " 21%|██        | 248/1200 [02:01<08:12,  1.93it/s]"
     ]
    },
    {
     "name": "stdout",
     "output_type": "stream",
     "text": [
      "max at end of edge summation 2\n",
      "summer max 4\n",
      "level 0; %pix 0.5575\n",
      "level 1; %pix 0.2573556857638889\n",
      "level 2; %pix 0.01783962673611111\n",
      "threshold 2\n",
      "percent activated pixels 0.01783962673611111\n",
      "max of morphed is 1\n",
      "1\n"
     ]
    },
    {
     "name": "stderr",
     "output_type": "stream",
     "text": [
      "\u001b[A\u001b[A\u001b[A\u001b[A"
     ]
    },
    {
     "name": "stdout",
     "output_type": "stream",
     "text": [
      "max at end of edge summation 2\n",
      "max at end of edge summation 2\n"
     ]
    },
    {
     "name": "stderr",
     "output_type": "stream",
     "text": [
      "\n",
      "\n",
      "\n",
      "\n",
      "\r",
      " 21%|██        | 249/1200 [02:01<08:09,  1.94it/s]"
     ]
    },
    {
     "name": "stdout",
     "output_type": "stream",
     "text": [
      "max at end of edge summation 1\n",
      "summer max 4\n",
      "level 0; %pix 0.5727191840277778\n",
      "level 1; %pix 0.259921875\n",
      "level 2; %pix 0.018283420138888888\n",
      "threshold 2\n",
      "percent activated pixels 0.018283420138888888\n",
      "max of morphed is 1\n",
      "1\n"
     ]
    },
    {
     "name": "stderr",
     "output_type": "stream",
     "text": [
      "\u001b[A\u001b[A\u001b[A\u001b[A"
     ]
    },
    {
     "name": "stdout",
     "output_type": "stream",
     "text": [
      "max at end of edge summation 2\n",
      "max at end of edge summation 1\n"
     ]
    },
    {
     "name": "stderr",
     "output_type": "stream",
     "text": [
      "\n",
      "\n",
      "\n",
      "\n",
      "\r",
      " 21%|██        | 250/1200 [02:02<08:04,  1.96it/s]"
     ]
    },
    {
     "name": "stdout",
     "output_type": "stream",
     "text": [
      "max at end of edge summation 1\n",
      "summer max 4\n",
      "level 0; %pix 0.5816710069444444\n",
      "level 1; %pix 0.2618869357638889\n",
      "level 2; %pix 0.01926974826388889\n",
      "threshold 2\n",
      "percent activated pixels 0.01926974826388889\n",
      "max of morphed is 1\n",
      "1\n"
     ]
    },
    {
     "name": "stderr",
     "output_type": "stream",
     "text": [
      "\u001b[A\u001b[A\u001b[A\u001b[A"
     ]
    },
    {
     "name": "stdout",
     "output_type": "stream",
     "text": [
      "max at end of edge summation 2\n",
      "max at end of edge summation 1\n"
     ]
    },
    {
     "name": "stderr",
     "output_type": "stream",
     "text": [
      "\n",
      "\n",
      "\n",
      "\n",
      "\r",
      " 21%|██        | 251/1200 [02:02<07:56,  1.99it/s]"
     ]
    },
    {
     "name": "stdout",
     "output_type": "stream",
     "text": [
      "max at end of edge summation 2\n",
      "summer max 4\n",
      "level 0; %pix 0.5892784288194445\n",
      "level 1; %pix 0.26556532118055554\n",
      "level 2; %pix 0.020405815972222224\n",
      "threshold 2\n",
      "percent activated pixels 0.020405815972222224\n",
      "max of morphed is 1\n",
      "1\n"
     ]
    },
    {
     "name": "stderr",
     "output_type": "stream",
     "text": [
      "\u001b[A\u001b[A\u001b[A\u001b[A"
     ]
    },
    {
     "name": "stdout",
     "output_type": "stream",
     "text": [
      "max at end of edge summation 2\n",
      "max at end of edge summation 2\n"
     ]
    },
    {
     "name": "stderr",
     "output_type": "stream",
     "text": [
      "\n",
      "\n",
      "\n",
      "\n",
      "\r",
      " 21%|██        | 252/1200 [02:03<08:00,  1.97it/s]"
     ]
    },
    {
     "name": "stdout",
     "output_type": "stream",
     "text": [
      "max at end of edge summation 1\n",
      "summer max 4\n",
      "level 0; %pix 0.5932660590277777\n",
      "level 1; %pix 0.26635959201388887\n",
      "level 2; %pix 0.021171875\n",
      "threshold 2\n",
      "percent activated pixels 0.021171875\n",
      "max of morphed is 1\n",
      "1\n"
     ]
    },
    {
     "name": "stderr",
     "output_type": "stream",
     "text": [
      "\u001b[A\u001b[A\u001b[A\u001b[A"
     ]
    },
    {
     "name": "stdout",
     "output_type": "stream",
     "text": [
      "max at end of edge summation 2\n",
      "max at end of edge summation 1\n"
     ]
    },
    {
     "name": "stderr",
     "output_type": "stream",
     "text": [
      "\n",
      "\n",
      "\n",
      "\n",
      "\r",
      " 21%|██        | 253/1200 [02:03<08:08,  1.94it/s]"
     ]
    },
    {
     "name": "stdout",
     "output_type": "stream",
     "text": [
      "max at end of edge summation 1\n",
      "summer max 4\n",
      "level 0; %pix 0.5938042534722222\n",
      "level 1; %pix 0.26584309895833336\n",
      "level 2; %pix 0.021404079861111112\n",
      "threshold 2\n",
      "percent activated pixels 0.021404079861111112\n",
      "max of morphed is 1\n",
      "1\n"
     ]
    },
    {
     "name": "stderr",
     "output_type": "stream",
     "text": [
      "\u001b[A\u001b[A\u001b[A\u001b[A"
     ]
    },
    {
     "name": "stdout",
     "output_type": "stream",
     "text": [
      "max at end of edge summation 2\n",
      "max at end of edge summation 1\n"
     ]
    },
    {
     "name": "stderr",
     "output_type": "stream",
     "text": [
      "\n",
      "\n",
      "\n",
      "\n",
      "\r",
      " 21%|██        | 254/1200 [02:04<08:06,  1.94it/s]"
     ]
    },
    {
     "name": "stdout",
     "output_type": "stream",
     "text": [
      "max at end of edge summation 1\n",
      "summer max 4\n",
      "level 0; %pix 0.5962879774305555\n",
      "level 1; %pix 0.26734483506944445\n",
      "level 2; %pix 0.02068359375\n",
      "threshold 2\n",
      "percent activated pixels 0.02068359375\n",
      "max of morphed is 1\n",
      "1\n"
     ]
    },
    {
     "name": "stderr",
     "output_type": "stream",
     "text": [
      "\u001b[A\u001b[A\u001b[A\u001b[A"
     ]
    },
    {
     "name": "stdout",
     "output_type": "stream",
     "text": [
      "max at end of edge summation 2\n",
      "max at end of edge summation 2\n"
     ]
    },
    {
     "name": "stderr",
     "output_type": "stream",
     "text": [
      "\n",
      "\n",
      "\n",
      "\n",
      "\r",
      " 21%|██▏       | 255/1200 [02:04<08:05,  1.95it/s]"
     ]
    },
    {
     "name": "stdout",
     "output_type": "stream",
     "text": [
      "max at end of edge summation 1\n",
      "summer max 4\n",
      "level 0; %pix 0.5986349826388889\n",
      "level 1; %pix 0.2681293402777778\n",
      "level 2; %pix 0.02092556423611111\n",
      "threshold 2\n",
      "percent activated pixels 0.02092556423611111\n",
      "max of morphed is 1\n",
      "1\n"
     ]
    },
    {
     "name": "stderr",
     "output_type": "stream",
     "text": [
      "\u001b[A\u001b[A\u001b[A\u001b[A"
     ]
    },
    {
     "name": "stdout",
     "output_type": "stream",
     "text": [
      "max at end of edge summation 2\n",
      "max at end of edge summation 2\n"
     ]
    },
    {
     "name": "stderr",
     "output_type": "stream",
     "text": [
      "\n",
      "\n",
      "\n",
      "\n",
      "\r",
      " 21%|██▏       | 256/1200 [02:05<08:08,  1.93it/s]"
     ]
    },
    {
     "name": "stdout",
     "output_type": "stream",
     "text": [
      "max at end of edge summation 1\n",
      "summer max 4\n",
      "level 0; %pix 0.5985177951388889\n",
      "level 1; %pix 0.2673969184027778\n",
      "level 2; %pix 0.021504991319444444\n",
      "threshold 2\n",
      "percent activated pixels 0.021504991319444444\n",
      "max of morphed is 1\n",
      "1\n"
     ]
    },
    {
     "name": "stderr",
     "output_type": "stream",
     "text": [
      "\u001b[A\u001b[A\u001b[A\u001b[A"
     ]
    },
    {
     "name": "stdout",
     "output_type": "stream",
     "text": [
      "max at end of edge summation 2\n",
      "max at end of edge summation 2\n"
     ]
    },
    {
     "name": "stderr",
     "output_type": "stream",
     "text": [
      "\n",
      "\n",
      "\n",
      "\n",
      "\r",
      " 21%|██▏       | 257/1200 [02:06<09:58,  1.57it/s]"
     ]
    },
    {
     "name": "stdout",
     "output_type": "stream",
     "text": [
      "max at end of edge summation 1\n",
      "summer max 4\n",
      "level 0; %pix 0.5994997829861111\n",
      "level 1; %pix 0.26939778645833334\n",
      "level 2; %pix 0.021881510416666666\n",
      "threshold 2\n",
      "percent activated pixels 0.021881510416666666\n",
      "max of morphed is 1\n",
      "1\n"
     ]
    },
    {
     "name": "stderr",
     "output_type": "stream",
     "text": [
      "\u001b[A\u001b[A\u001b[A\u001b[A"
     ]
    },
    {
     "name": "stdout",
     "output_type": "stream",
     "text": [
      "max at end of edge summation 2\n",
      "max at end of edge summation 2\n",
      "max at end of edge summation 1\n"
     ]
    },
    {
     "name": "stderr",
     "output_type": "stream",
     "text": [
      "\n",
      "\n",
      "\n",
      "\n",
      "\r",
      " 22%|██▏       | 258/1200 [02:07<10:57,  1.43it/s]"
     ]
    },
    {
     "name": "stdout",
     "output_type": "stream",
     "text": [
      "summer max 4\n",
      "level 0; %pix 0.60095703125\n",
      "level 1; %pix 0.2733713107638889\n",
      "level 2; %pix 0.02236870659722222\n",
      "threshold 2\n",
      "percent activated pixels 0.02236870659722222\n",
      "max of morphed is 1\n",
      "1\n"
     ]
    },
    {
     "name": "stderr",
     "output_type": "stream",
     "text": [
      "\u001b[A\u001b[A\u001b[A\u001b[A"
     ]
    },
    {
     "name": "stdout",
     "output_type": "stream",
     "text": [
      "max at end of edge summation 2\n",
      "max at end of edge summation 2\n"
     ]
    },
    {
     "name": "stderr",
     "output_type": "stream",
     "text": [
      "\n",
      "\n",
      "\n",
      "\n",
      "\r",
      " 22%|██▏       | 259/1200 [02:07<10:01,  1.56it/s]"
     ]
    },
    {
     "name": "stdout",
     "output_type": "stream",
     "text": [
      "max at end of edge summation 1\n",
      "summer max 4\n",
      "level 0; %pix 0.6013009982638889\n",
      "level 1; %pix 0.27718641493055557\n",
      "level 2; %pix 0.022567274305555555\n",
      "threshold 2\n",
      "percent activated pixels 0.022567274305555555\n",
      "max of morphed is 1\n",
      "1\n"
     ]
    },
    {
     "name": "stderr",
     "output_type": "stream",
     "text": [
      "\u001b[A\u001b[A\u001b[A\u001b[A"
     ]
    },
    {
     "name": "stdout",
     "output_type": "stream",
     "text": [
      "max at end of edge summation 2\n",
      "max at end of edge summation 1\n"
     ]
    },
    {
     "name": "stderr",
     "output_type": "stream",
     "text": [
      "\n",
      "\n",
      "\n",
      "\n",
      "\r",
      " 22%|██▏       | 260/1200 [02:08<09:25,  1.66it/s]"
     ]
    },
    {
     "name": "stdout",
     "output_type": "stream",
     "text": [
      "max at end of edge summation 2\n",
      "summer max 4\n",
      "level 0; %pix 0.6020909288194445\n",
      "level 1; %pix 0.2789084201388889\n",
      "level 2; %pix 0.022989366319444444\n",
      "threshold 2\n",
      "percent activated pixels 0.022989366319444444\n",
      "max of morphed is 1\n",
      "1\n"
     ]
    },
    {
     "name": "stderr",
     "output_type": "stream",
     "text": [
      "\u001b[A\u001b[A\u001b[A\u001b[A"
     ]
    },
    {
     "name": "stdout",
     "output_type": "stream",
     "text": [
      "max at end of edge summation 2\n",
      "max at end of edge summation 1\n"
     ]
    },
    {
     "name": "stderr",
     "output_type": "stream",
     "text": [
      "\n",
      "\n",
      "\n",
      "\n",
      "\r",
      " 22%|██▏       | 261/1200 [02:08<08:57,  1.75it/s]"
     ]
    },
    {
     "name": "stdout",
     "output_type": "stream",
     "text": [
      "max at end of edge summation 1\n",
      "summer max 4\n",
      "level 0; %pix 0.6023448350694445\n",
      "level 1; %pix 0.278330078125\n",
      "level 2; %pix 0.021004774305555557\n",
      "threshold 2\n",
      "percent activated pixels 0.021004774305555557\n",
      "max of morphed is 1\n",
      "1\n"
     ]
    },
    {
     "name": "stderr",
     "output_type": "stream",
     "text": [
      "\u001b[A\u001b[A\u001b[A\u001b[A"
     ]
    },
    {
     "name": "stdout",
     "output_type": "stream",
     "text": [
      "max at end of edge summation 2\n",
      "max at end of edge summation 2\n"
     ]
    },
    {
     "name": "stderr",
     "output_type": "stream",
     "text": [
      "\n",
      "\n",
      "\n",
      "\n",
      "\r",
      " 22%|██▏       | 262/1200 [02:09<08:41,  1.80it/s]"
     ]
    },
    {
     "name": "stdout",
     "output_type": "stream",
     "text": [
      "max at end of edge summation 1\n",
      "summer max 4\n",
      "level 0; %pix 0.6051291232638889\n",
      "level 1; %pix 0.27637369791666666\n",
      "level 2; %pix 0.019817708333333333\n",
      "threshold 2\n",
      "percent activated pixels 0.019817708333333333\n",
      "max of morphed is 1\n",
      "1\n"
     ]
    },
    {
     "name": "stderr",
     "output_type": "stream",
     "text": [
      "\u001b[A\u001b[A\u001b[A\u001b[A"
     ]
    },
    {
     "name": "stdout",
     "output_type": "stream",
     "text": [
      "max at end of edge summation 2\n",
      "max at end of edge summation 1\n"
     ]
    },
    {
     "name": "stderr",
     "output_type": "stream",
     "text": [
      "\n",
      "\n",
      "\n",
      "\n",
      "\r",
      " 22%|██▏       | 263/1200 [02:09<08:21,  1.87it/s]"
     ]
    },
    {
     "name": "stdout",
     "output_type": "stream",
     "text": [
      "max at end of edge summation 2\n",
      "summer max 4\n",
      "level 0; %pix 0.597919921875\n",
      "level 1; %pix 0.27503472222222225\n",
      "level 2; %pix 0.019945746527777777\n",
      "threshold 2\n",
      "percent activated pixels 0.019945746527777777\n",
      "max of morphed is 1\n",
      "1\n"
     ]
    },
    {
     "name": "stderr",
     "output_type": "stream",
     "text": [
      "\u001b[A\u001b[A\u001b[A\u001b[A"
     ]
    },
    {
     "name": "stdout",
     "output_type": "stream",
     "text": [
      "max at end of edge summation 2\n",
      "max at end of edge summation 2\n"
     ]
    },
    {
     "name": "stderr",
     "output_type": "stream",
     "text": [
      "\n",
      "\n",
      "\n",
      "\n",
      "\r",
      " 22%|██▏       | 264/1200 [02:10<08:21,  1.87it/s]"
     ]
    },
    {
     "name": "stdout",
     "output_type": "stream",
     "text": [
      "max at end of edge summation 1\n",
      "summer max 4\n",
      "level 0; %pix 0.6005208333333333\n",
      "level 1; %pix 0.2743956163194444\n",
      "level 2; %pix 0.019971788194444444\n",
      "threshold 2\n",
      "percent activated pixels 0.019971788194444444\n",
      "max of morphed is 1\n",
      "1\n"
     ]
    },
    {
     "name": "stderr",
     "output_type": "stream",
     "text": [
      "\u001b[A\u001b[A\u001b[A\u001b[A"
     ]
    },
    {
     "name": "stdout",
     "output_type": "stream",
     "text": [
      "max at end of edge summation 2\n",
      "max at end of edge summation 1\n"
     ]
    },
    {
     "name": "stderr",
     "output_type": "stream",
     "text": [
      "\n",
      "\n",
      "\n",
      "\n",
      "\r",
      " 22%|██▏       | 265/1200 [02:10<08:17,  1.88it/s]"
     ]
    },
    {
     "name": "stdout",
     "output_type": "stream",
     "text": [
      "max at end of edge summation 1\n",
      "summer max 4\n",
      "level 0; %pix 0.601923828125\n",
      "level 1; %pix 0.2740755208333333\n",
      "level 2; %pix 0.02002387152777778\n",
      "threshold 2\n",
      "percent activated pixels 0.02002387152777778\n",
      "max of morphed is 1\n",
      "1\n"
     ]
    },
    {
     "name": "stderr",
     "output_type": "stream",
     "text": [
      "\u001b[A\u001b[A\u001b[A\u001b[A"
     ]
    },
    {
     "name": "stdout",
     "output_type": "stream",
     "text": [
      "max at end of edge summation 2\n",
      "max at end of edge summation 1\n"
     ]
    },
    {
     "name": "stderr",
     "output_type": "stream",
     "text": [
      "\n",
      "\n",
      "\n",
      "\n",
      "\r",
      " 22%|██▏       | 266/1200 [02:11<08:10,  1.90it/s]"
     ]
    },
    {
     "name": "stdout",
     "output_type": "stream",
     "text": [
      "max at end of edge summation 1\n",
      "summer max 4\n",
      "level 0; %pix 0.6003287760416667\n",
      "level 1; %pix 0.27114691840277777\n",
      "level 2; %pix 0.018630642361111113\n",
      "threshold 2\n",
      "percent activated pixels 0.018630642361111113\n",
      "max of morphed is 1\n",
      "1\n"
     ]
    },
    {
     "name": "stderr",
     "output_type": "stream",
     "text": [
      "\u001b[A\u001b[A\u001b[A\u001b[A"
     ]
    },
    {
     "name": "stdout",
     "output_type": "stream",
     "text": [
      "max at end of edge summation 2\n",
      "max at end of edge summation 1\n"
     ]
    },
    {
     "name": "stderr",
     "output_type": "stream",
     "text": [
      "\n",
      "\n",
      "\n",
      "\n",
      "\r",
      " 22%|██▏       | 267/1200 [02:11<08:01,  1.94it/s]"
     ]
    },
    {
     "name": "stdout",
     "output_type": "stream",
     "text": [
      "max at end of edge summation 1\n",
      "summer max 4\n",
      "level 0; %pix 0.6036121961805555\n",
      "level 1; %pix 0.26916666666666667\n",
      "level 2; %pix 0.01712673611111111\n",
      "threshold 2\n",
      "percent activated pixels 0.01712673611111111\n",
      "max of morphed is 1\n",
      "1\n"
     ]
    },
    {
     "name": "stderr",
     "output_type": "stream",
     "text": [
      "\u001b[A\u001b[A\u001b[A\u001b[A"
     ]
    },
    {
     "name": "stdout",
     "output_type": "stream",
     "text": [
      "max at end of edge summation 2\n",
      "max at end of edge summation 2\n"
     ]
    },
    {
     "name": "stderr",
     "output_type": "stream",
     "text": [
      "\n",
      "\n",
      "\n",
      "\n",
      "\r",
      " 22%|██▏       | 268/1200 [02:12<07:58,  1.95it/s]"
     ]
    },
    {
     "name": "stdout",
     "output_type": "stream",
     "text": [
      "max at end of edge summation 1\n",
      "summer max 5\n",
      "level 0; %pix 0.5927387152777778\n",
      "level 1; %pix 0.26724934895833335\n",
      "level 2; %pix 0.016873914930555556\n",
      "threshold 2\n",
      "percent activated pixels 0.016873914930555556\n",
      "max of morphed is 1\n",
      "1\n"
     ]
    },
    {
     "name": "stderr",
     "output_type": "stream",
     "text": [
      "\u001b[A\u001b[A\u001b[A\u001b[A"
     ]
    },
    {
     "name": "stdout",
     "output_type": "stream",
     "text": [
      "max at end of edge summation 2\n",
      "max at end of edge summation 1\n"
     ]
    },
    {
     "name": "stderr",
     "output_type": "stream",
     "text": [
      "\n",
      "\n",
      "\n",
      "\n",
      "\r",
      " 22%|██▏       | 269/1200 [02:12<07:50,  1.98it/s]"
     ]
    },
    {
     "name": "stdout",
     "output_type": "stream",
     "text": [
      "max at end of edge summation 2\n",
      "summer max 4\n",
      "level 0; %pix 0.5975954861111111\n",
      "level 1; %pix 0.2692643229166667\n",
      "level 2; %pix 0.016941189236111112\n",
      "threshold 2\n",
      "percent activated pixels 0.016941189236111112\n",
      "max of morphed is 1\n",
      "1\n"
     ]
    },
    {
     "name": "stderr",
     "output_type": "stream",
     "text": [
      "\u001b[A\u001b[A\u001b[A\u001b[A"
     ]
    },
    {
     "name": "stdout",
     "output_type": "stream",
     "text": [
      "max at end of edge summation 2\n",
      "max at end of edge summation 1\n"
     ]
    },
    {
     "name": "stderr",
     "output_type": "stream",
     "text": [
      "\n",
      "\n",
      "\n",
      "\n",
      "\r",
      " 22%|██▎       | 270/1200 [02:13<07:51,  1.97it/s]"
     ]
    },
    {
     "name": "stdout",
     "output_type": "stream",
     "text": [
      "max at end of edge summation 1\n",
      "summer max 4\n",
      "level 0; %pix 0.600703125\n",
      "level 1; %pix 0.2715256076388889\n",
      "level 2; %pix 0.01704318576388889\n",
      "threshold 2\n",
      "percent activated pixels 0.01704318576388889\n",
      "max of morphed is 1\n",
      "1\n"
     ]
    },
    {
     "name": "stderr",
     "output_type": "stream",
     "text": [
      "\u001b[A\u001b[A\u001b[A\u001b[A"
     ]
    },
    {
     "name": "stdout",
     "output_type": "stream",
     "text": [
      "max at end of edge summation 2\n",
      "max at end of edge summation 1\n"
     ]
    },
    {
     "name": "stderr",
     "output_type": "stream",
     "text": [
      "\n",
      "\n",
      "\n",
      "\n",
      "\r",
      " 23%|██▎       | 271/1200 [02:13<07:50,  1.98it/s]"
     ]
    },
    {
     "name": "stdout",
     "output_type": "stream",
     "text": [
      "max at end of edge summation 1\n",
      "summer max 4\n",
      "level 0; %pix 0.5787825520833333\n",
      "level 1; %pix 0.2603895399305556\n",
      "level 2; %pix 0.01828125\n",
      "threshold 2\n",
      "percent activated pixels 0.01828125\n",
      "max of morphed is 1\n",
      "1\n"
     ]
    },
    {
     "name": "stderr",
     "output_type": "stream",
     "text": [
      "\u001b[A\u001b[A\u001b[A\u001b[A"
     ]
    },
    {
     "name": "stdout",
     "output_type": "stream",
     "text": [
      "max at end of edge summation 2\n",
      "max at end of edge summation 1\n"
     ]
    },
    {
     "name": "stderr",
     "output_type": "stream",
     "text": [
      "\n",
      "\n",
      "\n",
      "\n",
      "\r",
      " 23%|██▎       | 272/1200 [02:14<07:50,  1.97it/s]"
     ]
    },
    {
     "name": "stdout",
     "output_type": "stream",
     "text": [
      "max at end of edge summation 1\n",
      "summer max 4\n",
      "level 0; %pix 0.5871419270833333\n",
      "level 1; %pix 0.2633615451388889\n",
      "level 2; %pix 0.018125\n",
      "threshold 2\n",
      "percent activated pixels 0.018125\n",
      "max of morphed is 1\n",
      "1\n"
     ]
    },
    {
     "name": "stderr",
     "output_type": "stream",
     "text": [
      "\u001b[A\u001b[A\u001b[A\u001b[A"
     ]
    },
    {
     "name": "stdout",
     "output_type": "stream",
     "text": [
      "max at end of edge summation 2\n",
      "max at end of edge summation 1\n"
     ]
    },
    {
     "name": "stderr",
     "output_type": "stream",
     "text": [
      "\n",
      "\n",
      "\n",
      "\n",
      "\r",
      " 23%|██▎       | 273/1200 [02:14<07:53,  1.96it/s]"
     ]
    },
    {
     "name": "stdout",
     "output_type": "stream",
     "text": [
      "max at end of edge summation 1\n",
      "summer max 4\n",
      "level 0; %pix 0.5983626302083334\n",
      "level 1; %pix 0.263896484375\n",
      "level 2; %pix 0.017750651041666666\n",
      "threshold 2\n",
      "percent activated pixels 0.017750651041666666\n",
      "max of morphed is 1\n",
      "1\n"
     ]
    },
    {
     "name": "stderr",
     "output_type": "stream",
     "text": [
      "\u001b[A\u001b[A\u001b[A\u001b[A"
     ]
    },
    {
     "name": "stdout",
     "output_type": "stream",
     "text": [
      "max at end of edge summation 2\n",
      "max at end of edge summation 1\n"
     ]
    },
    {
     "name": "stderr",
     "output_type": "stream",
     "text": [
      "\n",
      "\n",
      "\n",
      "\n",
      "\r",
      " 23%|██▎       | 274/1200 [02:15<07:58,  1.93it/s]"
     ]
    },
    {
     "name": "stdout",
     "output_type": "stream",
     "text": [
      "max at end of edge summation 1\n",
      "summer max 4\n",
      "level 0; %pix 0.5872037760416666\n",
      "level 1; %pix 0.26292860243055555\n",
      "level 2; %pix 0.016717664930555556\n",
      "threshold 2\n",
      "percent activated pixels 0.016717664930555556\n",
      "max of morphed is 1\n",
      "1\n"
     ]
    },
    {
     "name": "stderr",
     "output_type": "stream",
     "text": [
      "\u001b[A\u001b[A\u001b[A\u001b[A"
     ]
    },
    {
     "name": "stdout",
     "output_type": "stream",
     "text": [
      "max at end of edge summation 2\n",
      "max at end of edge summation 1\n"
     ]
    },
    {
     "name": "stderr",
     "output_type": "stream",
     "text": [
      "\n",
      "\n",
      "\n",
      "\n",
      "\r",
      " 23%|██▎       | 275/1200 [02:15<07:50,  1.97it/s]"
     ]
    },
    {
     "name": "stdout",
     "output_type": "stream",
     "text": [
      "max at end of edge summation 1\n",
      "summer max 4\n",
      "level 0; %pix 0.59521484375\n",
      "level 1; %pix 0.26426106770833335\n",
      "level 2; %pix 0.017418619791666666\n",
      "threshold 2\n",
      "percent activated pixels 0.017418619791666666\n",
      "max of morphed is 1\n",
      "1\n"
     ]
    },
    {
     "name": "stderr",
     "output_type": "stream",
     "text": [
      "\u001b[A\u001b[A\u001b[A\u001b[A"
     ]
    },
    {
     "name": "stdout",
     "output_type": "stream",
     "text": [
      "max at end of edge summation 2\n",
      "max at end of edge summation 1\n"
     ]
    },
    {
     "name": "stderr",
     "output_type": "stream",
     "text": [
      "\n",
      "\n",
      "\n",
      "\n",
      "\r",
      " 23%|██▎       | 276/1200 [02:16<07:51,  1.96it/s]"
     ]
    },
    {
     "name": "stdout",
     "output_type": "stream",
     "text": [
      "max at end of edge summation 1\n",
      "summer max 4\n",
      "level 0; %pix 0.5984494357638889\n",
      "level 1; %pix 0.2649609375\n",
      "level 2; %pix 0.018995225694444444\n",
      "threshold 2\n",
      "percent activated pixels 0.018995225694444444\n",
      "max of morphed is 1\n",
      "1\n"
     ]
    },
    {
     "name": "stderr",
     "output_type": "stream",
     "text": [
      "\u001b[A\u001b[A\u001b[A\u001b[A"
     ]
    },
    {
     "name": "stdout",
     "output_type": "stream",
     "text": [
      "max at end of edge summation 2\n",
      "max at end of edge summation 2\n"
     ]
    },
    {
     "name": "stderr",
     "output_type": "stream",
     "text": [
      "\n",
      "\n",
      "\n",
      "\n",
      "\r",
      " 23%|██▎       | 277/1200 [02:16<07:48,  1.97it/s]"
     ]
    },
    {
     "name": "stdout",
     "output_type": "stream",
     "text": [
      "max at end of edge summation 1\n",
      "summer max 5\n",
      "level 0; %pix 0.6040700954861111\n",
      "level 1; %pix 0.2665234375\n",
      "level 2; %pix 0.021854383680555554\n",
      "threshold 2\n",
      "percent activated pixels 0.021854383680555554\n",
      "max of morphed is 1\n",
      "1\n"
     ]
    },
    {
     "name": "stderr",
     "output_type": "stream",
     "text": [
      "\u001b[A\u001b[A\u001b[A\u001b[A"
     ]
    },
    {
     "name": "stdout",
     "output_type": "stream",
     "text": [
      "max at end of edge summation 2\n",
      "max at end of edge summation 1\n"
     ]
    },
    {
     "name": "stderr",
     "output_type": "stream",
     "text": [
      "\n",
      "\n",
      "\n",
      "\n",
      "\r",
      " 23%|██▎       | 278/1200 [02:17<07:42,  1.99it/s]"
     ]
    },
    {
     "name": "stdout",
     "output_type": "stream",
     "text": [
      "max at end of edge summation 1\n",
      "summer max 4\n",
      "level 0; %pix 0.6049273003472222\n",
      "level 1; %pix 0.2638791232638889\n",
      "level 2; %pix 0.023594835069444445\n",
      "threshold 2\n",
      "percent activated pixels 0.023594835069444445\n",
      "max of morphed is 1\n",
      "1\n"
     ]
    },
    {
     "name": "stderr",
     "output_type": "stream",
     "text": [
      "\u001b[A\u001b[A\u001b[A\u001b[A"
     ]
    },
    {
     "name": "stdout",
     "output_type": "stream",
     "text": [
      "max at end of edge summation 2\n",
      "max at end of edge summation 1\n"
     ]
    },
    {
     "name": "stderr",
     "output_type": "stream",
     "text": [
      "\n",
      "\n",
      "\n",
      "\n",
      "\r",
      " 23%|██▎       | 279/1200 [02:17<07:36,  2.02it/s]"
     ]
    },
    {
     "name": "stdout",
     "output_type": "stream",
     "text": [
      "max at end of edge summation 1\n",
      "summer max 4\n",
      "level 0; %pix 0.6062282986111112\n",
      "level 1; %pix 0.2633420138888889\n",
      "level 2; %pix 0.02548285590277778\n",
      "threshold 2\n",
      "percent activated pixels 0.02548285590277778\n",
      "max of morphed is 1\n",
      "1\n"
     ]
    },
    {
     "name": "stderr",
     "output_type": "stream",
     "text": [
      "\u001b[A\u001b[A\u001b[A\u001b[A"
     ]
    },
    {
     "name": "stdout",
     "output_type": "stream",
     "text": [
      "max at end of edge summation 2\n",
      "max at end of edge summation 1\n"
     ]
    },
    {
     "name": "stderr",
     "output_type": "stream",
     "text": [
      "\n",
      "\n",
      "\n",
      "\n",
      "\r",
      " 23%|██▎       | 280/1200 [02:18<07:35,  2.02it/s]"
     ]
    },
    {
     "name": "stdout",
     "output_type": "stream",
     "text": [
      "max at end of edge summation 1\n",
      "summer max 4\n",
      "level 0; %pix 0.5914008246527778\n",
      "level 1; %pix 0.25620225694444443\n",
      "level 2; %pix 0.026496310763888888\n",
      "threshold 2\n",
      "percent activated pixels 0.026496310763888888\n",
      "max of morphed is 1\n",
      "1\n"
     ]
    },
    {
     "name": "stderr",
     "output_type": "stream",
     "text": [
      "\u001b[A\u001b[A\u001b[A\u001b[A"
     ]
    },
    {
     "name": "stdout",
     "output_type": "stream",
     "text": [
      "max at end of edge summation 2\n",
      "max at end of edge summation 1\n"
     ]
    },
    {
     "name": "stderr",
     "output_type": "stream",
     "text": [
      "\n",
      "\n",
      "\n",
      "\n",
      "\r",
      " 23%|██▎       | 281/1200 [02:18<07:27,  2.05it/s]"
     ]
    },
    {
     "name": "stdout",
     "output_type": "stream",
     "text": [
      "max at end of edge summation 1\n",
      "summer max 4\n",
      "level 0; %pix 0.5959874131944445\n",
      "level 1; %pix 0.254833984375\n",
      "level 2; %pix 0.025167100694444444\n",
      "threshold 2\n",
      "percent activated pixels 0.025167100694444444\n",
      "max of morphed is 1\n",
      "1\n"
     ]
    },
    {
     "name": "stderr",
     "output_type": "stream",
     "text": [
      "\u001b[A\u001b[A\u001b[A\u001b[A"
     ]
    },
    {
     "name": "stdout",
     "output_type": "stream",
     "text": [
      "max at end of edge summation 2\n",
      "max at end of edge summation 1\n"
     ]
    },
    {
     "name": "stderr",
     "output_type": "stream",
     "text": [
      "\n",
      "\n",
      "\n",
      "\n",
      "\r",
      " 24%|██▎       | 282/1200 [02:19<07:27,  2.05it/s]"
     ]
    },
    {
     "name": "stdout",
     "output_type": "stream",
     "text": [
      "max at end of edge summation 1\n",
      "summer max 4\n",
      "level 0; %pix 0.6009440104166667\n",
      "level 1; %pix 0.25443250868055556\n",
      "level 2; %pix 0.02481662326388889\n",
      "threshold 2\n",
      "percent activated pixels 0.02481662326388889\n",
      "max of morphed is 1\n",
      "1\n"
     ]
    },
    {
     "name": "stderr",
     "output_type": "stream",
     "text": [
      "\u001b[A\u001b[A\u001b[A\u001b[A"
     ]
    },
    {
     "name": "stdout",
     "output_type": "stream",
     "text": [
      "max at end of edge summation 2\n",
      "max at end of edge summation 1\n"
     ]
    },
    {
     "name": "stderr",
     "output_type": "stream",
     "text": [
      "\n",
      "\n",
      "\n",
      "\n",
      "\r",
      " 24%|██▎       | 283/1200 [02:19<07:29,  2.04it/s]"
     ]
    },
    {
     "name": "stdout",
     "output_type": "stream",
     "text": [
      "max at end of edge summation 1\n",
      "summer max 4\n",
      "level 0; %pix 0.6025379774305556\n",
      "level 1; %pix 0.25210828993055556\n",
      "level 2; %pix 0.02446506076388889\n",
      "threshold 2\n",
      "percent activated pixels 0.02446506076388889\n",
      "max of morphed is 1\n",
      "1\n"
     ]
    },
    {
     "name": "stderr",
     "output_type": "stream",
     "text": [
      "\u001b[A\u001b[A\u001b[A\u001b[A"
     ]
    },
    {
     "name": "stdout",
     "output_type": "stream",
     "text": [
      "max at end of edge summation 2\n",
      "max at end of edge summation 1\n"
     ]
    },
    {
     "name": "stderr",
     "output_type": "stream",
     "text": [
      "\n",
      "\n",
      "\n",
      "\n",
      "\r",
      " 24%|██▎       | 284/1200 [02:20<07:26,  2.05it/s]"
     ]
    },
    {
     "name": "stdout",
     "output_type": "stream",
     "text": [
      "max at end of edge summation 2\n",
      "summer max 4\n",
      "level 0; %pix 0.6022536892361111\n",
      "level 1; %pix 0.24749891493055556\n",
      "level 2; %pix 0.022254774305555555\n",
      "threshold 2\n",
      "percent activated pixels 0.022254774305555555\n",
      "max of morphed is 1\n",
      "1\n"
     ]
    },
    {
     "name": "stderr",
     "output_type": "stream",
     "text": [
      "\u001b[A\u001b[A\u001b[A\u001b[A"
     ]
    },
    {
     "name": "stdout",
     "output_type": "stream",
     "text": [
      "max at end of edge summation 2\n",
      "max at end of edge summation 1\n"
     ]
    },
    {
     "name": "stderr",
     "output_type": "stream",
     "text": [
      "\n",
      "\n",
      "\n",
      "\n",
      "\r",
      " 24%|██▍       | 285/1200 [02:20<07:23,  2.06it/s]"
     ]
    },
    {
     "name": "stdout",
     "output_type": "stream",
     "text": [
      "max at end of edge summation 2\n",
      "summer max 4\n",
      "level 0; %pix 0.5992209201388888\n",
      "level 1; %pix 0.24445746527777779\n",
      "level 2; %pix 0.021473524305555554\n",
      "threshold 2\n",
      "percent activated pixels 0.021473524305555554\n",
      "max of morphed is 1\n",
      "1\n"
     ]
    },
    {
     "name": "stderr",
     "output_type": "stream",
     "text": [
      "\u001b[A\u001b[A\u001b[A\u001b[A"
     ]
    },
    {
     "name": "stdout",
     "output_type": "stream",
     "text": [
      "max at end of edge summation 2\n",
      "max at end of edge summation 1\n"
     ]
    },
    {
     "name": "stderr",
     "output_type": "stream",
     "text": [
      "\n",
      "\n",
      "\n",
      "\n",
      "\r",
      " 24%|██▍       | 286/1200 [02:21<07:22,  2.06it/s]"
     ]
    },
    {
     "name": "stdout",
     "output_type": "stream",
     "text": [
      "max at end of edge summation 2\n",
      "summer max 4\n",
      "level 0; %pix 0.5976085069444445\n",
      "level 1; %pix 0.2426877170138889\n",
      "level 2; %pix 0.021918402777777776\n",
      "threshold 2\n",
      "percent activated pixels 0.021918402777777776\n",
      "max of morphed is 1\n",
      "1\n"
     ]
    },
    {
     "name": "stderr",
     "output_type": "stream",
     "text": [
      "\u001b[A\u001b[A\u001b[A\u001b[A"
     ]
    },
    {
     "name": "stdout",
     "output_type": "stream",
     "text": [
      "max at end of edge summation 2\n",
      "max at end of edge summation 1\n"
     ]
    },
    {
     "name": "stderr",
     "output_type": "stream",
     "text": [
      "\n",
      "\n",
      "\n",
      "\n",
      "\r",
      " 24%|██▍       | 287/1200 [02:21<07:14,  2.10it/s]"
     ]
    },
    {
     "name": "stdout",
     "output_type": "stream",
     "text": [
      "max at end of edge summation 1\n",
      "summer max 4\n",
      "level 0; %pix 0.5894173177083334\n",
      "level 1; %pix 0.24363823784722222\n",
      "level 2; %pix 0.023132595486111112\n",
      "threshold 2\n",
      "percent activated pixels 0.023132595486111112\n",
      "max of morphed is 1\n",
      "1\n"
     ]
    },
    {
     "name": "stderr",
     "output_type": "stream",
     "text": [
      "\u001b[A\u001b[A\u001b[A\u001b[A"
     ]
    },
    {
     "name": "stdout",
     "output_type": "stream",
     "text": [
      "max at end of edge summation 2\n",
      "max at end of edge summation 1\n"
     ]
    },
    {
     "name": "stderr",
     "output_type": "stream",
     "text": [
      "\n",
      "\n",
      "\n",
      "\n",
      "\r",
      " 24%|██▍       | 288/1200 [02:22<07:15,  2.10it/s]"
     ]
    },
    {
     "name": "stdout",
     "output_type": "stream",
     "text": [
      "max at end of edge summation 1\n",
      "summer max 4\n",
      "level 0; %pix 0.5517545572916667\n",
      "level 1; %pix 0.24017035590277777\n",
      "level 2; %pix 0.02420138888888889\n",
      "threshold 2\n",
      "percent activated pixels 0.02420138888888889\n",
      "max of morphed is 1\n",
      "1\n"
     ]
    },
    {
     "name": "stderr",
     "output_type": "stream",
     "text": [
      "\u001b[A\u001b[A\u001b[A\u001b[A"
     ]
    },
    {
     "name": "stdout",
     "output_type": "stream",
     "text": [
      "max at end of edge summation 2\n",
      "max at end of edge summation 1\n"
     ]
    },
    {
     "name": "stderr",
     "output_type": "stream",
     "text": [
      "\n",
      "\n",
      "\n",
      "\n",
      "\r",
      " 24%|██▍       | 289/1200 [02:22<07:14,  2.10it/s]"
     ]
    },
    {
     "name": "stdout",
     "output_type": "stream",
     "text": [
      "max at end of edge summation 2\n",
      "summer max 4\n",
      "level 0; %pix 0.52357421875\n",
      "level 1; %pix 0.2707703993055556\n",
      "level 2; %pix 0.028790147569444445\n",
      "threshold 2\n",
      "percent activated pixels 0.028790147569444445\n",
      "max of morphed is 1\n",
      "1\n"
     ]
    },
    {
     "name": "stderr",
     "output_type": "stream",
     "text": [
      "\u001b[A\u001b[A\u001b[A\u001b[A"
     ]
    },
    {
     "name": "stdout",
     "output_type": "stream",
     "text": [
      "max at end of edge summation 2\n",
      "max at end of edge summation 1\n"
     ]
    },
    {
     "name": "stderr",
     "output_type": "stream",
     "text": [
      "\n",
      "\n",
      "\n",
      "\n",
      "\r",
      " 24%|██▍       | 290/1200 [02:23<07:15,  2.09it/s]"
     ]
    },
    {
     "name": "stdout",
     "output_type": "stream",
     "text": [
      "max at end of edge summation 2\n",
      "summer max 4\n",
      "level 0; %pix 0.5240538194444444\n",
      "level 1; %pix 0.27806640625\n",
      "level 2; %pix 0.029296875\n",
      "threshold 2\n",
      "percent activated pixels 0.029296875\n",
      "max of morphed is 1\n",
      "1\n"
     ]
    },
    {
     "name": "stderr",
     "output_type": "stream",
     "text": [
      "\u001b[A\u001b[A\u001b[A\u001b[A"
     ]
    },
    {
     "name": "stdout",
     "output_type": "stream",
     "text": [
      "max at end of edge summation 2\n",
      "max at end of edge summation 2\n"
     ]
    },
    {
     "name": "stderr",
     "output_type": "stream",
     "text": [
      "\n",
      "\n",
      "\n",
      "\n",
      "\r",
      " 24%|██▍       | 291/1200 [02:23<07:14,  2.09it/s]"
     ]
    },
    {
     "name": "stdout",
     "output_type": "stream",
     "text": [
      "max at end of edge summation 1\n",
      "summer max 4\n",
      "level 0; %pix 0.5237467447916667\n",
      "level 1; %pix 0.2846560329861111\n",
      "level 2; %pix 0.031110026041666666\n",
      "threshold 2\n",
      "percent activated pixels 0.031110026041666666\n",
      "max of morphed is 1\n",
      "1\n"
     ]
    },
    {
     "name": "stderr",
     "output_type": "stream",
     "text": [
      "\u001b[A\u001b[A\u001b[A\u001b[A"
     ]
    },
    {
     "name": "stdout",
     "output_type": "stream",
     "text": [
      "max at end of edge summation 2\n",
      "max at end of edge summation 1\n"
     ]
    },
    {
     "name": "stderr",
     "output_type": "stream",
     "text": [
      "\n",
      "\n",
      "\n",
      "\n",
      "\r",
      " 24%|██▍       | 292/1200 [02:24<07:12,  2.10it/s]"
     ]
    },
    {
     "name": "stdout",
     "output_type": "stream",
     "text": [
      "max at end of edge summation 1\n",
      "summer max 4\n",
      "level 0; %pix 0.5234450954861111\n",
      "level 1; %pix 0.28716471354166667\n",
      "level 2; %pix 0.031806640625\n",
      "threshold 2\n",
      "percent activated pixels 0.031806640625\n",
      "max of morphed is 1\n",
      "1\n"
     ]
    },
    {
     "name": "stderr",
     "output_type": "stream",
     "text": [
      "\u001b[A\u001b[A\u001b[A\u001b[A"
     ]
    },
    {
     "name": "stdout",
     "output_type": "stream",
     "text": [
      "max at end of edge summation 2\n",
      "max at end of edge summation 2\n"
     ]
    },
    {
     "name": "stderr",
     "output_type": "stream",
     "text": [
      "\n",
      "\n",
      "\n",
      "\n",
      "\r",
      " 24%|██▍       | 293/1200 [02:24<07:05,  2.13it/s]"
     ]
    },
    {
     "name": "stdout",
     "output_type": "stream",
     "text": [
      "max at end of edge summation 1\n",
      "summer max 4\n",
      "level 0; %pix 0.5294021267361111\n",
      "level 1; %pix 0.29200303819444445\n",
      "level 2; %pix 0.033011067708333335\n",
      "threshold 2\n",
      "percent activated pixels 0.033011067708333335\n",
      "max of morphed is 1\n",
      "1\n"
     ]
    },
    {
     "name": "stderr",
     "output_type": "stream",
     "text": [
      "\u001b[A\u001b[A\u001b[A\u001b[A"
     ]
    },
    {
     "name": "stdout",
     "output_type": "stream",
     "text": [
      "max at end of edge summation 2\n",
      "max at end of edge summation 1\n"
     ]
    },
    {
     "name": "stderr",
     "output_type": "stream",
     "text": [
      "\n",
      "\n",
      "\n",
      "\n",
      "\r",
      " 24%|██▍       | 294/1200 [02:24<07:12,  2.10it/s]"
     ]
    },
    {
     "name": "stdout",
     "output_type": "stream",
     "text": [
      "max at end of edge summation 1\n",
      "summer max 4\n",
      "level 0; %pix 0.5336642795138888\n",
      "level 1; %pix 0.2957942708333333\n",
      "level 2; %pix 0.03264431423611111\n",
      "threshold 2\n",
      "percent activated pixels 0.03264431423611111\n",
      "max of morphed is 1\n",
      "1\n"
     ]
    },
    {
     "name": "stderr",
     "output_type": "stream",
     "text": [
      "\u001b[A\u001b[A\u001b[A\u001b[A"
     ]
    },
    {
     "name": "stdout",
     "output_type": "stream",
     "text": [
      "max at end of edge summation 2\n",
      "max at end of edge summation 2\n"
     ]
    },
    {
     "name": "stderr",
     "output_type": "stream",
     "text": [
      "\n",
      "\n",
      "\n",
      "\n",
      "\r",
      " 25%|██▍       | 295/1200 [02:25<07:13,  2.09it/s]"
     ]
    },
    {
     "name": "stdout",
     "output_type": "stream",
     "text": [
      "max at end of edge summation 1\n",
      "summer max 4\n",
      "level 0; %pix 0.5362565104166667\n",
      "level 1; %pix 0.2975954861111111\n",
      "level 2; %pix 0.031248914930555555\n",
      "threshold 2\n",
      "percent activated pixels 0.031248914930555555\n",
      "max of morphed is 1\n",
      "1\n"
     ]
    },
    {
     "name": "stderr",
     "output_type": "stream",
     "text": [
      "\u001b[A\u001b[A\u001b[A\u001b[A"
     ]
    },
    {
     "name": "stdout",
     "output_type": "stream",
     "text": [
      "max at end of edge summation 2\n",
      "max at end of edge summation 2\n"
     ]
    },
    {
     "name": "stderr",
     "output_type": "stream",
     "text": [
      "\n",
      "\n",
      "\n",
      "\n",
      "\r",
      " 25%|██▍       | 296/1200 [02:25<07:15,  2.07it/s]"
     ]
    },
    {
     "name": "stdout",
     "output_type": "stream",
     "text": [
      "max at end of edge summation 1\n",
      "summer max 4\n",
      "level 0; %pix 0.5354741753472222\n",
      "level 1; %pix 0.2980002170138889\n",
      "level 2; %pix 0.029883897569444446\n",
      "threshold 2\n",
      "percent activated pixels 0.029883897569444446\n",
      "max of morphed is 1\n",
      "1\n"
     ]
    },
    {
     "name": "stderr",
     "output_type": "stream",
     "text": [
      "\u001b[A\u001b[A\u001b[A\u001b[A"
     ]
    },
    {
     "name": "stdout",
     "output_type": "stream",
     "text": [
      "max at end of edge summation 2\n",
      "max at end of edge summation 2\n"
     ]
    },
    {
     "name": "stderr",
     "output_type": "stream",
     "text": [
      "\n",
      "\n",
      "\n",
      "\n",
      "\r",
      " 25%|██▍       | 297/1200 [02:26<07:17,  2.06it/s]"
     ]
    },
    {
     "name": "stdout",
     "output_type": "stream",
     "text": [
      "max at end of edge summation 1\n",
      "summer max 4\n",
      "level 0; %pix 0.5394108072916667\n",
      "level 1; %pix 0.3011078559027778\n",
      "level 2; %pix 0.028260633680555557\n",
      "threshold 2\n",
      "percent activated pixels 0.028260633680555557\n",
      "max of morphed is 1\n",
      "1\n"
     ]
    },
    {
     "name": "stderr",
     "output_type": "stream",
     "text": [
      "\u001b[A\u001b[A\u001b[A\u001b[A"
     ]
    },
    {
     "name": "stdout",
     "output_type": "stream",
     "text": [
      "max at end of edge summation 2\n",
      "max at end of edge summation 2\n"
     ]
    },
    {
     "name": "stderr",
     "output_type": "stream",
     "text": [
      "\n",
      "\n",
      "\n",
      "\n",
      "\r",
      " 25%|██▍       | 298/1200 [02:26<07:17,  2.06it/s]"
     ]
    },
    {
     "name": "stdout",
     "output_type": "stream",
     "text": [
      "max at end of edge summation 1\n",
      "summer max 4\n",
      "level 0; %pix 0.5441840277777777\n",
      "level 1; %pix 0.30227105034722224\n",
      "level 2; %pix 0.026493055555555554\n",
      "threshold 2\n",
      "percent activated pixels 0.026493055555555554\n",
      "max of morphed is 1\n",
      "1\n"
     ]
    },
    {
     "name": "stderr",
     "output_type": "stream",
     "text": [
      "\u001b[A\u001b[A\u001b[A\u001b[A"
     ]
    },
    {
     "name": "stdout",
     "output_type": "stream",
     "text": [
      "max at end of edge summation 2\n",
      "max at end of edge summation 2\n"
     ]
    },
    {
     "name": "stderr",
     "output_type": "stream",
     "text": [
      "\n",
      "\n",
      "\n",
      "\n",
      "\r",
      " 25%|██▍       | 299/1200 [02:27<07:10,  2.10it/s]"
     ]
    },
    {
     "name": "stdout",
     "output_type": "stream",
     "text": [
      "max at end of edge summation 1\n",
      "summer max 4\n",
      "level 0; %pix 0.5388812934027778\n",
      "level 1; %pix 0.2956412760416667\n",
      "level 2; %pix 0.026561414930555555\n",
      "threshold 2\n",
      "percent activated pixels 0.026561414930555555\n",
      "max of morphed is 1\n",
      "1\n"
     ]
    },
    {
     "name": "stderr",
     "output_type": "stream",
     "text": [
      "\u001b[A\u001b[A\u001b[A\u001b[A"
     ]
    },
    {
     "name": "stdout",
     "output_type": "stream",
     "text": [
      "max at end of edge summation 2\n",
      "max at end of edge summation 2\n"
     ]
    },
    {
     "name": "stderr",
     "output_type": "stream",
     "text": [
      "\n",
      "\n",
      "\n",
      "\n",
      "\r",
      " 25%|██▌       | 300/1200 [02:27<07:13,  2.08it/s]"
     ]
    },
    {
     "name": "stdout",
     "output_type": "stream",
     "text": [
      "max at end of edge summation 1\n",
      "summer max 4\n",
      "level 0; %pix 0.5518923611111111\n",
      "level 1; %pix 0.30449110243055555\n",
      "level 2; %pix 0.026775173611111112\n",
      "threshold 2\n",
      "percent activated pixels 0.026775173611111112\n",
      "max of morphed is 1\n",
      "1\n"
     ]
    },
    {
     "name": "stderr",
     "output_type": "stream",
     "text": [
      "\u001b[A\u001b[A\u001b[A\u001b[A"
     ]
    },
    {
     "name": "stdout",
     "output_type": "stream",
     "text": [
      "max at end of edge summation 2\n",
      "max at end of edge summation 2\n"
     ]
    },
    {
     "name": "stderr",
     "output_type": "stream",
     "text": [
      "\n",
      "\n",
      "\n",
      "\n",
      "\r",
      " 25%|██▌       | 301/1200 [02:28<07:16,  2.06it/s]"
     ]
    },
    {
     "name": "stdout",
     "output_type": "stream",
     "text": [
      "max at end of edge summation 1\n",
      "summer max 4\n",
      "level 0; %pix 0.5510655381944445\n",
      "level 1; %pix 0.29095703125\n",
      "level 2; %pix 0.025180121527777776\n",
      "threshold 2\n",
      "percent activated pixels 0.025180121527777776\n",
      "max of morphed is 1\n",
      "1\n"
     ]
    },
    {
     "name": "stderr",
     "output_type": "stream",
     "text": [
      "\u001b[A\u001b[A\u001b[A\u001b[A"
     ]
    },
    {
     "name": "stdout",
     "output_type": "stream",
     "text": [
      "max at end of edge summation 2\n",
      "max at end of edge summation 2\n"
     ]
    },
    {
     "name": "stderr",
     "output_type": "stream",
     "text": [
      "\n",
      "\n",
      "\n",
      "\n",
      "\r",
      " 25%|██▌       | 302/1200 [02:28<07:16,  2.06it/s]"
     ]
    },
    {
     "name": "stdout",
     "output_type": "stream",
     "text": [
      "max at end of edge summation 1\n",
      "summer max 4\n",
      "level 0; %pix 0.5547211371527778\n",
      "level 1; %pix 0.29033203125\n",
      "level 2; %pix 0.025004340277777776\n",
      "threshold 2\n",
      "percent activated pixels 0.025004340277777776\n",
      "max of morphed is 1\n",
      "1\n"
     ]
    },
    {
     "name": "stderr",
     "output_type": "stream",
     "text": [
      "\u001b[A\u001b[A\u001b[A\u001b[A"
     ]
    },
    {
     "name": "stdout",
     "output_type": "stream",
     "text": [
      "max at end of edge summation 2\n",
      "max at end of edge summation 2\n"
     ]
    },
    {
     "name": "stderr",
     "output_type": "stream",
     "text": [
      "\n",
      "\n",
      "\n",
      "\n",
      "\r",
      " 25%|██▌       | 303/1200 [02:29<07:15,  2.06it/s]"
     ]
    },
    {
     "name": "stdout",
     "output_type": "stream",
     "text": [
      "max at end of edge summation 1\n",
      "summer max 4\n",
      "level 0; %pix 0.5018836805555555\n",
      "level 1; %pix 0.223095703125\n",
      "level 2; %pix 0.020545789930555555\n",
      "threshold 2\n",
      "percent activated pixels 0.020545789930555555\n",
      "max of morphed is 1\n",
      "1\n"
     ]
    },
    {
     "name": "stderr",
     "output_type": "stream",
     "text": [
      "\u001b[A\u001b[A\u001b[A\u001b[A"
     ]
    },
    {
     "name": "stdout",
     "output_type": "stream",
     "text": [
      "max at end of edge summation 2\n",
      "max at end of edge summation 1\n"
     ]
    },
    {
     "name": "stderr",
     "output_type": "stream",
     "text": [
      "\n",
      "\n",
      "\n",
      "\n",
      "\r",
      " 25%|██▌       | 304/1200 [02:29<07:16,  2.05it/s]"
     ]
    },
    {
     "name": "stdout",
     "output_type": "stream",
     "text": [
      "max at end of edge summation 1\n",
      "summer max 4\n",
      "level 0; %pix 0.5109906684027777\n",
      "level 1; %pix 0.26094401041666665\n",
      "level 2; %pix 0.023549262152777778\n",
      "threshold 2\n",
      "percent activated pixels 0.023549262152777778\n",
      "max of morphed is 1\n",
      "1\n"
     ]
    },
    {
     "name": "stderr",
     "output_type": "stream",
     "text": [
      "\u001b[A\u001b[A\u001b[A\u001b[A"
     ]
    },
    {
     "name": "stdout",
     "output_type": "stream",
     "text": [
      "max at end of edge summation 2\n",
      "max at end of edge summation 2\n"
     ]
    },
    {
     "name": "stderr",
     "output_type": "stream",
     "text": [
      "\n",
      "\n",
      "\n",
      "\n",
      "\r",
      " 25%|██▌       | 305/1200 [02:30<07:11,  2.08it/s]"
     ]
    },
    {
     "name": "stdout",
     "output_type": "stream",
     "text": [
      "max at end of edge summation 1\n",
      "summer max 4\n",
      "level 0; %pix 0.5169064670138889\n",
      "level 1; %pix 0.2692654079861111\n",
      "level 2; %pix 0.024581163194444443\n",
      "threshold 2\n",
      "percent activated pixels 0.024581163194444443\n",
      "max of morphed is 1\n",
      "1\n"
     ]
    },
    {
     "name": "stderr",
     "output_type": "stream",
     "text": [
      "\u001b[A\u001b[A\u001b[A\u001b[A"
     ]
    },
    {
     "name": "stdout",
     "output_type": "stream",
     "text": [
      "max at end of edge summation 2\n",
      "max at end of edge summation 1\n"
     ]
    },
    {
     "name": "stderr",
     "output_type": "stream",
     "text": [
      "\n",
      "\n",
      "\n",
      "\n",
      "\r",
      " 26%|██▌       | 306/1200 [02:30<07:17,  2.04it/s]"
     ]
    },
    {
     "name": "stdout",
     "output_type": "stream",
     "text": [
      "max at end of edge summation 1\n",
      "summer max 4\n",
      "level 0; %pix 0.5303938802083333\n",
      "level 1; %pix 0.27706597222222223\n",
      "level 2; %pix 0.024608289930555555\n",
      "threshold 2\n",
      "percent activated pixels 0.024608289930555555\n",
      "max of morphed is 1\n",
      "1\n"
     ]
    },
    {
     "name": "stderr",
     "output_type": "stream",
     "text": [
      "\u001b[A\u001b[A\u001b[A\u001b[A"
     ]
    },
    {
     "name": "stdout",
     "output_type": "stream",
     "text": [
      "max at end of edge summation 2\n",
      "max at end of edge summation 2\n"
     ]
    },
    {
     "name": "stderr",
     "output_type": "stream",
     "text": [
      "\n",
      "\n",
      "\n",
      "\n",
      "\r",
      " 26%|██▌       | 307/1200 [02:31<07:19,  2.03it/s]"
     ]
    },
    {
     "name": "stdout",
     "output_type": "stream",
     "text": [
      "max at end of edge summation 1\n",
      "summer max 4\n",
      "level 0; %pix 0.5300151909722223\n",
      "level 1; %pix 0.2803678385416667\n",
      "level 2; %pix 0.024652777777777777\n",
      "threshold 2\n",
      "percent activated pixels 0.024652777777777777\n",
      "max of morphed is 1\n",
      "1\n"
     ]
    },
    {
     "name": "stderr",
     "output_type": "stream",
     "text": [
      "\u001b[A\u001b[A\u001b[A\u001b[A"
     ]
    },
    {
     "name": "stdout",
     "output_type": "stream",
     "text": [
      "max at end of edge summation 2\n",
      "max at end of edge summation 2\n"
     ]
    },
    {
     "name": "stderr",
     "output_type": "stream",
     "text": [
      "\n",
      "\n",
      "\n",
      "\n",
      "\r",
      " 26%|██▌       | 308/1200 [02:31<07:22,  2.02it/s]"
     ]
    },
    {
     "name": "stdout",
     "output_type": "stream",
     "text": [
      "max at end of edge summation 1\n",
      "summer max 4\n",
      "level 0; %pix 0.5378070746527778\n",
      "level 1; %pix 0.2817795138888889\n",
      "level 2; %pix 0.024644097222222223\n",
      "threshold 2\n",
      "percent activated pixels 0.024644097222222223\n",
      "max of morphed is 1\n",
      "1\n"
     ]
    },
    {
     "name": "stderr",
     "output_type": "stream",
     "text": [
      "\u001b[A\u001b[A\u001b[A\u001b[A"
     ]
    },
    {
     "name": "stdout",
     "output_type": "stream",
     "text": [
      "max at end of edge summation 2\n",
      "max at end of edge summation 2\n"
     ]
    },
    {
     "name": "stderr",
     "output_type": "stream",
     "text": [
      "\n",
      "\n",
      "\n",
      "\n",
      "\r",
      " 26%|██▌       | 309/1200 [02:32<07:23,  2.01it/s]"
     ]
    },
    {
     "name": "stdout",
     "output_type": "stream",
     "text": [
      "max at end of edge summation 1\n",
      "summer max 4\n",
      "level 0; %pix 0.5375672743055555\n",
      "level 1; %pix 0.278486328125\n",
      "level 2; %pix 0.023854166666666666\n",
      "threshold 2\n",
      "percent activated pixels 0.023854166666666666\n",
      "max of morphed is 1\n",
      "1\n"
     ]
    },
    {
     "name": "stderr",
     "output_type": "stream",
     "text": [
      "\u001b[A\u001b[A\u001b[A\u001b[A"
     ]
    },
    {
     "name": "stdout",
     "output_type": "stream",
     "text": [
      "max at end of edge summation 2\n",
      "max at end of edge summation 2\n"
     ]
    },
    {
     "name": "stderr",
     "output_type": "stream",
     "text": [
      "\n",
      "\n",
      "\n",
      "\n",
      "\r",
      " 26%|██▌       | 310/1200 [02:32<07:21,  2.02it/s]"
     ]
    },
    {
     "name": "stdout",
     "output_type": "stream",
     "text": [
      "max at end of edge summation 1\n",
      "summer max 4\n",
      "level 0; %pix 0.5433821614583333\n",
      "level 1; %pix 0.2812109375\n",
      "level 2; %pix 0.022408854166666665\n",
      "threshold 2\n",
      "percent activated pixels 0.022408854166666665\n",
      "max of morphed is 1\n",
      "1\n"
     ]
    },
    {
     "name": "stderr",
     "output_type": "stream",
     "text": [
      "\u001b[A\u001b[A\u001b[A\u001b[A"
     ]
    },
    {
     "name": "stdout",
     "output_type": "stream",
     "text": [
      "max at end of edge summation 2\n",
      "max at end of edge summation 1\n"
     ]
    },
    {
     "name": "stderr",
     "output_type": "stream",
     "text": [
      "\n",
      "\n",
      "\n",
      "\n",
      "\r",
      " 26%|██▌       | 311/1200 [02:33<07:15,  2.04it/s]"
     ]
    },
    {
     "name": "stdout",
     "output_type": "stream",
     "text": [
      "max at end of edge summation 1\n",
      "summer max 4\n",
      "level 0; %pix 0.5450520833333333\n",
      "level 1; %pix 0.2801334635416667\n",
      "level 2; %pix 0.021185980902777776\n",
      "threshold 2\n",
      "percent activated pixels 0.021185980902777776\n",
      "max of morphed is 1\n",
      "1\n"
     ]
    },
    {
     "name": "stderr",
     "output_type": "stream",
     "text": [
      "\u001b[A\u001b[A\u001b[A\u001b[A"
     ]
    },
    {
     "name": "stdout",
     "output_type": "stream",
     "text": [
      "max at end of edge summation 2\n",
      "max at end of edge summation 2\n"
     ]
    },
    {
     "name": "stderr",
     "output_type": "stream",
     "text": [
      "\n",
      "\n",
      "\n",
      "\n",
      "\r",
      " 26%|██▌       | 312/1200 [02:33<07:16,  2.03it/s]"
     ]
    },
    {
     "name": "stdout",
     "output_type": "stream",
     "text": [
      "max at end of edge summation 1\n",
      "summer max 4\n",
      "level 0; %pix 0.5336512586805555\n",
      "level 1; %pix 0.26792100694444443\n",
      "level 2; %pix 0.02038519965277778\n",
      "threshold 2\n",
      "percent activated pixels 0.02038519965277778\n",
      "max of morphed is 1\n",
      "1\n"
     ]
    },
    {
     "name": "stderr",
     "output_type": "stream",
     "text": [
      "\u001b[A\u001b[A\u001b[A\u001b[A"
     ]
    },
    {
     "name": "stdout",
     "output_type": "stream",
     "text": [
      "max at end of edge summation 2\n",
      "max at end of edge summation 2\n"
     ]
    },
    {
     "name": "stderr",
     "output_type": "stream",
     "text": [
      "\n",
      "\n",
      "\n",
      "\n",
      "\r",
      " 26%|██▌       | 313/1200 [02:34<07:18,  2.02it/s]"
     ]
    },
    {
     "name": "stdout",
     "output_type": "stream",
     "text": [
      "max at end of edge summation 1\n",
      "summer max 4\n",
      "level 0; %pix 0.5305088975694444\n",
      "level 1; %pix 0.26494900173611113\n",
      "level 2; %pix 0.019829644097222224\n",
      "threshold 2\n",
      "percent activated pixels 0.019829644097222224\n",
      "max of morphed is 1\n",
      "1\n"
     ]
    },
    {
     "name": "stderr",
     "output_type": "stream",
     "text": [
      "\u001b[A\u001b[A\u001b[A\u001b[A"
     ]
    },
    {
     "name": "stdout",
     "output_type": "stream",
     "text": [
      "max at end of edge summation 2\n",
      "max at end of edge summation 1\n"
     ]
    },
    {
     "name": "stderr",
     "output_type": "stream",
     "text": [
      "\n",
      "\n",
      "\n",
      "\n",
      "\r",
      " 26%|██▌       | 314/1200 [02:34<07:17,  2.03it/s]"
     ]
    },
    {
     "name": "stdout",
     "output_type": "stream",
     "text": [
      "max at end of edge summation 1\n",
      "summer max 4\n",
      "level 0; %pix 0.49358289930555554\n",
      "level 1; %pix 0.2095138888888889\n",
      "level 2; %pix 0.018023003472222222\n",
      "threshold 2\n",
      "percent activated pixels 0.018023003472222222\n",
      "max of morphed is 1\n",
      "1\n"
     ]
    },
    {
     "name": "stderr",
     "output_type": "stream",
     "text": [
      "\u001b[A\u001b[A\u001b[A\u001b[A"
     ]
    },
    {
     "name": "stdout",
     "output_type": "stream",
     "text": [
      "max at end of edge summation 2\n",
      "max at end of edge summation 2\n"
     ]
    },
    {
     "name": "stderr",
     "output_type": "stream",
     "text": [
      "\n",
      "\n",
      "\n",
      "\n",
      "\r",
      " 26%|██▋       | 315/1200 [02:35<07:16,  2.03it/s]"
     ]
    },
    {
     "name": "stdout",
     "output_type": "stream",
     "text": [
      "max at end of edge summation 1\n",
      "summer max 4\n",
      "level 0; %pix 0.4621365017361111\n",
      "level 1; %pix 0.18954752604166666\n",
      "level 2; %pix 0.013618706597222223\n",
      "threshold 2\n",
      "percent activated pixels 0.013618706597222223\n",
      "max of morphed is 1\n",
      "1\n"
     ]
    },
    {
     "name": "stderr",
     "output_type": "stream",
     "text": [
      "\u001b[A\u001b[A\u001b[A\u001b[A"
     ]
    },
    {
     "name": "stdout",
     "output_type": "stream",
     "text": [
      "max at end of edge summation 2\n",
      "max at end of edge summation 2\n"
     ]
    },
    {
     "name": "stderr",
     "output_type": "stream",
     "text": [
      "\n",
      "\n",
      "\n",
      "\n",
      "\r",
      " 26%|██▋       | 316/1200 [02:35<07:12,  2.04it/s]"
     ]
    },
    {
     "name": "stdout",
     "output_type": "stream",
     "text": [
      "max at end of edge summation 1\n",
      "summer max 4\n",
      "level 0; %pix 0.46439344618055556\n",
      "level 1; %pix 0.17598307291666668\n",
      "level 2; %pix 0.010452473958333333\n",
      "threshold 2\n",
      "percent activated pixels 0.010452473958333333\n",
      "max of morphed is 1\n",
      "1\n"
     ]
    },
    {
     "name": "stderr",
     "output_type": "stream",
     "text": [
      "\u001b[A\u001b[A\u001b[A\u001b[A"
     ]
    },
    {
     "name": "stdout",
     "output_type": "stream",
     "text": [
      "max at end of edge summation 2\n",
      "max at end of edge summation 2\n"
     ]
    },
    {
     "name": "stderr",
     "output_type": "stream",
     "text": [
      "\n",
      "\n",
      "\n",
      "\n",
      "\r",
      " 26%|██▋       | 317/1200 [02:36<07:05,  2.08it/s]"
     ]
    },
    {
     "name": "stdout",
     "output_type": "stream",
     "text": [
      "max at end of edge summation 1\n",
      "summer max 4\n",
      "level 0; %pix 0.4596028645833333\n",
      "level 1; %pix 0.19990776909722222\n",
      "level 2; %pix 0.012360026041666666\n",
      "threshold 2\n",
      "percent activated pixels 0.012360026041666666\n",
      "max of morphed is 1\n",
      "1\n"
     ]
    },
    {
     "name": "stderr",
     "output_type": "stream",
     "text": [
      "\u001b[A\u001b[A\u001b[A\u001b[A"
     ]
    },
    {
     "name": "stdout",
     "output_type": "stream",
     "text": [
      "max at end of edge summation 2\n",
      "max at end of edge summation 1\n"
     ]
    },
    {
     "name": "stderr",
     "output_type": "stream",
     "text": [
      "\n",
      "\n",
      "\n",
      "\n",
      "\r",
      " 26%|██▋       | 318/1200 [02:36<07:01,  2.09it/s]"
     ]
    },
    {
     "name": "stdout",
     "output_type": "stream",
     "text": [
      "max at end of edge summation 1\n",
      "summer max 4\n",
      "level 0; %pix 0.4663259548611111\n",
      "level 1; %pix 0.23762369791666665\n",
      "level 2; %pix 0.016514756944444445\n",
      "threshold 2\n",
      "percent activated pixels 0.016514756944444445\n",
      "max of morphed is 1\n",
      "1\n"
     ]
    },
    {
     "name": "stderr",
     "output_type": "stream",
     "text": [
      "\u001b[A\u001b[A\u001b[A\u001b[A"
     ]
    },
    {
     "name": "stdout",
     "output_type": "stream",
     "text": [
      "max at end of edge summation 2\n",
      "max at end of edge summation 2\n"
     ]
    },
    {
     "name": "stderr",
     "output_type": "stream",
     "text": [
      "\n",
      "\n",
      "\n",
      "\n",
      "\r",
      " 27%|██▋       | 319/1200 [02:37<06:59,  2.10it/s]"
     ]
    },
    {
     "name": "stdout",
     "output_type": "stream",
     "text": [
      "max at end of edge summation 1\n",
      "summer max 4\n",
      "level 0; %pix 0.47837239583333335\n",
      "level 1; %pix 0.24476996527777778\n",
      "level 2; %pix 0.016869574652777778\n",
      "threshold 2\n",
      "percent activated pixels 0.016869574652777778\n",
      "max of morphed is 1\n",
      "1\n"
     ]
    },
    {
     "name": "stderr",
     "output_type": "stream",
     "text": [
      "\u001b[A\u001b[A\u001b[A\u001b[A"
     ]
    },
    {
     "name": "stdout",
     "output_type": "stream",
     "text": [
      "max at end of edge summation 2\n",
      "max at end of edge summation 2\n"
     ]
    },
    {
     "name": "stderr",
     "output_type": "stream",
     "text": [
      "\n",
      "\n",
      "\n",
      "\n",
      "\r",
      " 27%|██▋       | 320/1200 [02:37<07:01,  2.09it/s]"
     ]
    },
    {
     "name": "stdout",
     "output_type": "stream",
     "text": [
      "max at end of edge summation 1\n",
      "summer max 4\n",
      "level 0; %pix 0.4969845920138889\n",
      "level 1; %pix 0.2529351128472222\n",
      "level 2; %pix 0.016644965277777778\n",
      "threshold 2\n",
      "percent activated pixels 0.016644965277777778\n",
      "max of morphed is 1\n",
      "1\n"
     ]
    },
    {
     "name": "stderr",
     "output_type": "stream",
     "text": [
      "\u001b[A\u001b[A\u001b[A\u001b[A"
     ]
    },
    {
     "name": "stdout",
     "output_type": "stream",
     "text": [
      "max at end of edge summation 2\n",
      "max at end of edge summation 2\n"
     ]
    },
    {
     "name": "stderr",
     "output_type": "stream",
     "text": [
      "\n",
      "\n",
      "\n",
      "\n",
      "\r",
      " 27%|██▋       | 321/1200 [02:38<07:04,  2.07it/s]"
     ]
    },
    {
     "name": "stdout",
     "output_type": "stream",
     "text": [
      "max at end of edge summation 1\n",
      "summer max 4\n",
      "level 0; %pix 0.5180848524305556\n",
      "level 1; %pix 0.262236328125\n",
      "level 2; %pix 0.017061631944444444\n",
      "threshold 2\n",
      "percent activated pixels 0.017061631944444444\n",
      "max of morphed is 1\n",
      "1\n"
     ]
    },
    {
     "name": "stderr",
     "output_type": "stream",
     "text": [
      "\u001b[A\u001b[A\u001b[A\u001b[A"
     ]
    },
    {
     "name": "stdout",
     "output_type": "stream",
     "text": [
      "max at end of edge summation 2\n",
      "max at end of edge summation 1\n"
     ]
    },
    {
     "name": "stderr",
     "output_type": "stream",
     "text": [
      "\n",
      "\n",
      "\n",
      "\n",
      "\r",
      " 27%|██▋       | 322/1200 [02:38<07:06,  2.06it/s]"
     ]
    },
    {
     "name": "stdout",
     "output_type": "stream",
     "text": [
      "max at end of edge summation 1\n",
      "summer max 4\n",
      "level 0; %pix 0.4961208767361111\n",
      "level 1; %pix 0.2552669270833333\n",
      "level 2; %pix 0.017273220486111112\n",
      "threshold 2\n",
      "percent activated pixels 0.017273220486111112\n",
      "max of morphed is 1\n",
      "1\n"
     ]
    },
    {
     "name": "stderr",
     "output_type": "stream",
     "text": [
      "\u001b[A\u001b[A\u001b[A\u001b[A"
     ]
    },
    {
     "name": "stdout",
     "output_type": "stream",
     "text": [
      "max at end of edge summation 2\n",
      "max at end of edge summation 2\n"
     ]
    },
    {
     "name": "stderr",
     "output_type": "stream",
     "text": [
      "\n",
      "\n",
      "\n",
      "\n",
      "\r",
      " 27%|██▋       | 323/1200 [02:39<07:01,  2.08it/s]"
     ]
    },
    {
     "name": "stdout",
     "output_type": "stream",
     "text": [
      "max at end of edge summation 1\n",
      "summer max 4\n",
      "level 0; %pix 0.5164029947916666\n",
      "level 1; %pix 0.26250759548611113\n",
      "level 2; %pix 0.01752278645833333\n",
      "threshold 2\n",
      "percent activated pixels 0.01752278645833333\n",
      "max of morphed is 1\n",
      "1\n"
     ]
    },
    {
     "name": "stderr",
     "output_type": "stream",
     "text": [
      "\u001b[A\u001b[A\u001b[A\u001b[A"
     ]
    },
    {
     "name": "stdout",
     "output_type": "stream",
     "text": [
      "max at end of edge summation 2\n",
      "max at end of edge summation 2\n"
     ]
    },
    {
     "name": "stderr",
     "output_type": "stream",
     "text": [
      "\n",
      "\n",
      "\n",
      "\n",
      "\r",
      " 27%|██▋       | 324/1200 [02:39<07:06,  2.06it/s]"
     ]
    },
    {
     "name": "stdout",
     "output_type": "stream",
     "text": [
      "max at end of edge summation 1\n",
      "summer max 4\n",
      "level 0; %pix 0.5099576822916667\n",
      "level 1; %pix 0.25024088541666667\n",
      "level 2; %pix 0.017276475694444446\n",
      "threshold 2\n",
      "percent activated pixels 0.017276475694444446\n",
      "max of morphed is 1\n",
      "1\n"
     ]
    },
    {
     "name": "stderr",
     "output_type": "stream",
     "text": [
      "\u001b[A\u001b[A\u001b[A\u001b[A"
     ]
    },
    {
     "name": "stdout",
     "output_type": "stream",
     "text": [
      "max at end of edge summation 2\n",
      "max at end of edge summation 2\n"
     ]
    },
    {
     "name": "stderr",
     "output_type": "stream",
     "text": [
      "\n",
      "\n",
      "\n",
      "\n",
      "\r",
      " 27%|██▋       | 325/1200 [02:40<07:07,  2.05it/s]"
     ]
    },
    {
     "name": "stdout",
     "output_type": "stream",
     "text": [
      "max at end of edge summation 1\n",
      "summer max 4\n",
      "level 0; %pix 0.5029654947916666\n",
      "level 1; %pix 0.22563368055555555\n",
      "level 2; %pix 0.015506727430555556\n",
      "threshold 2\n",
      "percent activated pixels 0.015506727430555556\n",
      "max of morphed is 1\n",
      "1\n"
     ]
    },
    {
     "name": "stderr",
     "output_type": "stream",
     "text": [
      "\u001b[A\u001b[A\u001b[A\u001b[A"
     ]
    },
    {
     "name": "stdout",
     "output_type": "stream",
     "text": [
      "max at end of edge summation 2\n",
      "max at end of edge summation 2\n"
     ]
    },
    {
     "name": "stderr",
     "output_type": "stream",
     "text": [
      "\n",
      "\n",
      "\n",
      "\n",
      "\r",
      " 27%|██▋       | 326/1200 [02:40<07:08,  2.04it/s]"
     ]
    },
    {
     "name": "stdout",
     "output_type": "stream",
     "text": [
      "max at end of edge summation 1\n",
      "summer max 4\n",
      "level 0; %pix 0.4952571614583333\n",
      "level 1; %pix 0.22819878472222221\n",
      "level 2; %pix 0.015301649305555555\n",
      "threshold 2\n",
      "percent activated pixels 0.015301649305555555\n",
      "max of morphed is 1\n",
      "1\n"
     ]
    },
    {
     "name": "stderr",
     "output_type": "stream",
     "text": [
      "\u001b[A\u001b[A\u001b[A\u001b[A"
     ]
    },
    {
     "name": "stdout",
     "output_type": "stream",
     "text": [
      "max at end of edge summation 2\n",
      "max at end of edge summation 2\n"
     ]
    },
    {
     "name": "stderr",
     "output_type": "stream",
     "text": [
      "\n",
      "\n",
      "\n",
      "\n",
      "\r",
      " 27%|██▋       | 327/1200 [02:41<07:10,  2.03it/s]"
     ]
    },
    {
     "name": "stdout",
     "output_type": "stream",
     "text": [
      "max at end of edge summation 1\n",
      "summer max 4\n",
      "level 0; %pix 0.5116276041666666\n",
      "level 1; %pix 0.24038736979166667\n",
      "level 2; %pix 0.016192491319444443\n",
      "threshold 2\n",
      "percent activated pixels 0.016192491319444443\n",
      "max of morphed is 1\n",
      "1\n"
     ]
    },
    {
     "name": "stderr",
     "output_type": "stream",
     "text": [
      "\u001b[A\u001b[A\u001b[A\u001b[A"
     ]
    },
    {
     "name": "stdout",
     "output_type": "stream",
     "text": [
      "max at end of edge summation 2\n",
      "max at end of edge summation 2\n"
     ]
    },
    {
     "name": "stderr",
     "output_type": "stream",
     "text": [
      "\n",
      "\n",
      "\n",
      "\n",
      "\r",
      " 27%|██▋       | 328/1200 [02:41<07:12,  2.02it/s]"
     ]
    },
    {
     "name": "stdout",
     "output_type": "stream",
     "text": [
      "max at end of edge summation 1\n",
      "summer max 4\n",
      "level 0; %pix 0.5037543402777778\n",
      "level 1; %pix 0.22867730034722222\n",
      "level 2; %pix 0.01672092013888889\n",
      "threshold 2\n",
      "percent activated pixels 0.01672092013888889\n",
      "max of morphed is 1\n",
      "1\n"
     ]
    },
    {
     "name": "stderr",
     "output_type": "stream",
     "text": [
      "\u001b[A\u001b[A\u001b[A\u001b[A"
     ]
    },
    {
     "name": "stdout",
     "output_type": "stream",
     "text": [
      "max at end of edge summation 2\n",
      "max at end of edge summation 2\n"
     ]
    },
    {
     "name": "stderr",
     "output_type": "stream",
     "text": [
      "\n",
      "\n",
      "\n",
      "\n",
      "\r",
      " 27%|██▋       | 329/1200 [02:42<07:04,  2.05it/s]"
     ]
    },
    {
     "name": "stdout",
     "output_type": "stream",
     "text": [
      "max at end of edge summation 1\n",
      "summer max 4\n",
      "level 0; %pix 0.491015625\n",
      "level 1; %pix 0.20701063368055556\n",
      "level 2; %pix 0.012035590277777777\n",
      "threshold 2\n",
      "percent activated pixels 0.012035590277777777\n",
      "max of morphed is 1\n",
      "1\n"
     ]
    },
    {
     "name": "stderr",
     "output_type": "stream",
     "text": [
      "\u001b[A\u001b[A\u001b[A\u001b[A"
     ]
    },
    {
     "name": "stdout",
     "output_type": "stream",
     "text": [
      "max at end of edge summation 2\n",
      "max at end of edge summation 2\n"
     ]
    },
    {
     "name": "stderr",
     "output_type": "stream",
     "text": [
      "\n",
      "\n",
      "\n",
      "\n",
      "\r",
      " 28%|██▊       | 330/1200 [02:42<07:03,  2.05it/s]"
     ]
    },
    {
     "name": "stdout",
     "output_type": "stream",
     "text": [
      "max at end of edge summation 1\n",
      "summer max 4\n",
      "level 0; %pix 0.5057389322916667\n",
      "level 1; %pix 0.2245681423611111\n",
      "level 2; %pix 0.015266927083333333\n",
      "threshold 2\n",
      "percent activated pixels 0.015266927083333333\n",
      "max of morphed is 1\n",
      "1\n"
     ]
    },
    {
     "name": "stderr",
     "output_type": "stream",
     "text": [
      "\u001b[A\u001b[A\u001b[A\u001b[A"
     ]
    },
    {
     "name": "stdout",
     "output_type": "stream",
     "text": [
      "max at end of edge summation 2\n",
      "max at end of edge summation 2\n"
     ]
    },
    {
     "name": "stderr",
     "output_type": "stream",
     "text": [
      "\n",
      "\n",
      "\n",
      "\n",
      "\r",
      " 28%|██▊       | 331/1200 [02:43<07:02,  2.06it/s]"
     ]
    },
    {
     "name": "stdout",
     "output_type": "stream",
     "text": [
      "max at end of edge summation 1\n",
      "summer max 4\n",
      "level 0; %pix 0.49357421875\n",
      "level 1; %pix 0.2453927951388889\n",
      "level 2; %pix 0.01868923611111111\n",
      "threshold 2\n",
      "percent activated pixels 0.01868923611111111\n",
      "max of morphed is 1\n",
      "1\n"
     ]
    },
    {
     "name": "stderr",
     "output_type": "stream",
     "text": [
      "\u001b[A\u001b[A\u001b[A\u001b[A"
     ]
    },
    {
     "name": "stdout",
     "output_type": "stream",
     "text": [
      "max at end of edge summation 2\n",
      "max at end of edge summation 2\n"
     ]
    },
    {
     "name": "stderr",
     "output_type": "stream",
     "text": [
      "\n",
      "\n",
      "\n",
      "\n",
      "\r",
      " 28%|██▊       | 332/1200 [02:43<07:02,  2.05it/s]"
     ]
    },
    {
     "name": "stdout",
     "output_type": "stream",
     "text": [
      "max at end of edge summation 1\n",
      "summer max 4\n",
      "level 0; %pix 0.5289680989583333\n",
      "level 1; %pix 0.25983615451388886\n",
      "level 2; %pix 0.01841037326388889\n",
      "threshold 2\n",
      "percent activated pixels 0.01841037326388889\n",
      "max of morphed is 1\n",
      "1\n"
     ]
    },
    {
     "name": "stderr",
     "output_type": "stream",
     "text": [
      "\u001b[A\u001b[A\u001b[A\u001b[A"
     ]
    },
    {
     "name": "stdout",
     "output_type": "stream",
     "text": [
      "max at end of edge summation 2\n",
      "max at end of edge summation 2\n"
     ]
    },
    {
     "name": "stderr",
     "output_type": "stream",
     "text": [
      "\n",
      "\n",
      "\n",
      "\n",
      "\r",
      " 28%|██▊       | 333/1200 [02:43<07:02,  2.05it/s]"
     ]
    },
    {
     "name": "stdout",
     "output_type": "stream",
     "text": [
      "max at end of edge summation 1\n",
      "summer max 4\n",
      "level 0; %pix 0.5081727430555556\n",
      "level 1; %pix 0.2544357638888889\n",
      "level 2; %pix 0.01850151909722222\n",
      "threshold 2\n",
      "percent activated pixels 0.01850151909722222\n",
      "max of morphed is 1\n",
      "1\n"
     ]
    },
    {
     "name": "stderr",
     "output_type": "stream",
     "text": [
      "\u001b[A\u001b[A\u001b[A\u001b[A"
     ]
    },
    {
     "name": "stdout",
     "output_type": "stream",
     "text": [
      "max at end of edge summation 2\n",
      "max at end of edge summation 2\n"
     ]
    },
    {
     "name": "stderr",
     "output_type": "stream",
     "text": [
      "\n",
      "\n",
      "\n",
      "\n",
      "\r",
      " 28%|██▊       | 334/1200 [02:44<07:02,  2.05it/s]"
     ]
    },
    {
     "name": "stdout",
     "output_type": "stream",
     "text": [
      "max at end of edge summation 1\n",
      "summer max 4\n",
      "level 0; %pix 0.5300010850694444\n",
      "level 1; %pix 0.2658203125\n",
      "level 2; %pix 0.0187890625\n",
      "threshold 2\n",
      "percent activated pixels 0.0187890625\n",
      "max of morphed is 1\n",
      "1\n"
     ]
    },
    {
     "name": "stderr",
     "output_type": "stream",
     "text": [
      "\u001b[A\u001b[A\u001b[A\u001b[A"
     ]
    },
    {
     "name": "stdout",
     "output_type": "stream",
     "text": [
      "max at end of edge summation 2\n",
      "max at end of edge summation 2\n"
     ]
    },
    {
     "name": "stderr",
     "output_type": "stream",
     "text": [
      "\n",
      "\n",
      "\n",
      "\n",
      "\r",
      " 28%|██▊       | 335/1200 [02:44<06:55,  2.08it/s]"
     ]
    },
    {
     "name": "stdout",
     "output_type": "stream",
     "text": [
      "max at end of edge summation 1\n",
      "summer max 4\n",
      "level 0; %pix 0.5410427517361112\n",
      "level 1; %pix 0.2703938802083333\n",
      "level 2; %pix 0.018946397569444443\n",
      "threshold 2\n",
      "percent activated pixels 0.018946397569444443\n",
      "max of morphed is 1\n",
      "1\n"
     ]
    },
    {
     "name": "stderr",
     "output_type": "stream",
     "text": [
      "\u001b[A\u001b[A\u001b[A\u001b[A"
     ]
    },
    {
     "name": "stdout",
     "output_type": "stream",
     "text": [
      "max at end of edge summation 2\n",
      "max at end of edge summation 2\n"
     ]
    },
    {
     "name": "stderr",
     "output_type": "stream",
     "text": [
      "\n",
      "\n",
      "\n",
      "\n",
      "\r",
      " 28%|██▊       | 336/1200 [02:45<06:59,  2.06it/s]"
     ]
    },
    {
     "name": "stdout",
     "output_type": "stream",
     "text": [
      "max at end of edge summation 1\n",
      "summer max 4\n",
      "level 0; %pix 0.5443153211805556\n",
      "level 1; %pix 0.2737901475694444\n",
      "level 2; %pix 0.018825954861111112\n",
      "threshold 2\n",
      "percent activated pixels 0.018825954861111112\n",
      "max of morphed is 1\n",
      "1\n"
     ]
    },
    {
     "name": "stderr",
     "output_type": "stream",
     "text": [
      "\u001b[A\u001b[A\u001b[A\u001b[A"
     ]
    },
    {
     "name": "stdout",
     "output_type": "stream",
     "text": [
      "max at end of edge summation 2\n",
      "max at end of edge summation 2\n"
     ]
    },
    {
     "name": "stderr",
     "output_type": "stream",
     "text": [
      "\n",
      "\n",
      "\n",
      "\n",
      "\r",
      " 28%|██▊       | 337/1200 [02:45<07:02,  2.04it/s]"
     ]
    },
    {
     "name": "stdout",
     "output_type": "stream",
     "text": [
      "max at end of edge summation 1\n",
      "summer max 4\n",
      "level 0; %pix 0.5450933159722222\n",
      "level 1; %pix 0.2743956163194444\n",
      "level 2; %pix 0.01893771701388889\n",
      "threshold 2\n",
      "percent activated pixels 0.01893771701388889\n",
      "max of morphed is 1\n",
      "1\n"
     ]
    },
    {
     "name": "stderr",
     "output_type": "stream",
     "text": [
      "\u001b[A\u001b[A\u001b[A\u001b[A"
     ]
    },
    {
     "name": "stdout",
     "output_type": "stream",
     "text": [
      "max at end of edge summation 2\n",
      "max at end of edge summation 2\n"
     ]
    },
    {
     "name": "stderr",
     "output_type": "stream",
     "text": [
      "\n",
      "\n",
      "\n",
      "\n",
      "\r",
      " 28%|██▊       | 338/1200 [02:46<07:01,  2.04it/s]"
     ]
    },
    {
     "name": "stdout",
     "output_type": "stream",
     "text": [
      "max at end of edge summation 1\n",
      "summer max 4\n",
      "level 0; %pix 0.5514615885416667\n",
      "level 1; %pix 0.2753515625\n",
      "level 2; %pix 0.019420572916666667\n",
      "threshold 2\n",
      "percent activated pixels 0.019420572916666667\n",
      "max of morphed is 1\n",
      "1\n"
     ]
    },
    {
     "name": "stderr",
     "output_type": "stream",
     "text": [
      "\u001b[A\u001b[A\u001b[A\u001b[A"
     ]
    },
    {
     "name": "stdout",
     "output_type": "stream",
     "text": [
      "max at end of edge summation 2\n",
      "max at end of edge summation 2\n"
     ]
    },
    {
     "name": "stderr",
     "output_type": "stream",
     "text": [
      "\n",
      "\n",
      "\n",
      "\n",
      "\r",
      " 28%|██▊       | 339/1200 [02:46<07:00,  2.05it/s]"
     ]
    },
    {
     "name": "stdout",
     "output_type": "stream",
     "text": [
      "max at end of edge summation 1\n",
      "summer max 4\n",
      "level 0; %pix 0.5556727430555556\n",
      "level 1; %pix 0.27572374131944444\n",
      "level 2; %pix 0.019351128472222222\n",
      "threshold 2\n",
      "percent activated pixels 0.019351128472222222\n",
      "max of morphed is 1\n",
      "1\n"
     ]
    },
    {
     "name": "stderr",
     "output_type": "stream",
     "text": [
      "\u001b[A\u001b[A\u001b[A\u001b[A"
     ]
    },
    {
     "name": "stdout",
     "output_type": "stream",
     "text": [
      "max at end of edge summation 2\n",
      "max at end of edge summation 2\n"
     ]
    },
    {
     "name": "stderr",
     "output_type": "stream",
     "text": [
      "\n",
      "\n",
      "\n",
      "\n",
      "\r",
      " 28%|██▊       | 340/1200 [02:47<07:00,  2.04it/s]"
     ]
    },
    {
     "name": "stdout",
     "output_type": "stream",
     "text": [
      "max at end of edge summation 2\n",
      "summer max 4\n",
      "level 0; %pix 0.563056640625\n",
      "level 1; %pix 0.2762944878472222\n",
      "level 2; %pix 0.020533854166666667\n",
      "threshold 2\n",
      "percent activated pixels 0.020533854166666667\n",
      "max of morphed is 1\n",
      "1\n"
     ]
    },
    {
     "name": "stderr",
     "output_type": "stream",
     "text": [
      "\u001b[A\u001b[A\u001b[A\u001b[A"
     ]
    },
    {
     "name": "stdout",
     "output_type": "stream",
     "text": [
      "max at end of edge summation 2\n",
      "max at end of edge summation 2\n"
     ]
    },
    {
     "name": "stderr",
     "output_type": "stream",
     "text": [
      "\n",
      "\n",
      "\n",
      "\n",
      "\r",
      " 28%|██▊       | 341/1200 [02:47<06:54,  2.07it/s]"
     ]
    },
    {
     "name": "stdout",
     "output_type": "stream",
     "text": [
      "max at end of edge summation 2\n",
      "summer max 4\n",
      "level 0; %pix 0.5702918836805555\n",
      "level 1; %pix 0.27803276909722224\n",
      "level 2; %pix 0.021903211805555555\n",
      "threshold 2\n",
      "percent activated pixels 0.021903211805555555\n",
      "max of morphed is 1\n",
      "1\n"
     ]
    },
    {
     "name": "stderr",
     "output_type": "stream",
     "text": [
      "\u001b[A\u001b[A\u001b[A\u001b[A"
     ]
    },
    {
     "name": "stdout",
     "output_type": "stream",
     "text": [
      "max at end of edge summation 2\n",
      "max at end of edge summation 2\n"
     ]
    },
    {
     "name": "stderr",
     "output_type": "stream",
     "text": [
      "\n",
      "\n",
      "\n",
      "\n",
      "\r",
      " 28%|██▊       | 342/1200 [02:48<06:59,  2.05it/s]"
     ]
    },
    {
     "name": "stdout",
     "output_type": "stream",
     "text": [
      "max at end of edge summation 1\n",
      "summer max 4\n",
      "level 0; %pix 0.5820670572916666\n",
      "level 1; %pix 0.2831174045138889\n",
      "level 2; %pix 0.02300021701388889\n",
      "threshold 2\n",
      "percent activated pixels 0.02300021701388889\n",
      "max of morphed is 1\n",
      "1\n"
     ]
    },
    {
     "name": "stderr",
     "output_type": "stream",
     "text": [
      "\u001b[A\u001b[A\u001b[A\u001b[A"
     ]
    },
    {
     "name": "stdout",
     "output_type": "stream",
     "text": [
      "max at end of edge summation 2\n",
      "max at end of edge summation 2\n"
     ]
    },
    {
     "name": "stderr",
     "output_type": "stream",
     "text": [
      "\n",
      "\n",
      "\n",
      "\n",
      "\r",
      " 29%|██▊       | 343/1200 [02:48<06:59,  2.04it/s]"
     ]
    },
    {
     "name": "stdout",
     "output_type": "stream",
     "text": [
      "max at end of edge summation 1\n",
      "summer max 4\n",
      "level 0; %pix 0.5919021267361111\n",
      "level 1; %pix 0.28778211805555554\n",
      "level 2; %pix 0.025190972222222222\n",
      "threshold 2\n",
      "percent activated pixels 0.025190972222222222\n",
      "max of morphed is 1\n",
      "1\n"
     ]
    },
    {
     "name": "stderr",
     "output_type": "stream",
     "text": [
      "\u001b[A\u001b[A\u001b[A\u001b[A"
     ]
    },
    {
     "name": "stdout",
     "output_type": "stream",
     "text": [
      "max at end of edge summation 2\n",
      "max at end of edge summation 2\n"
     ]
    },
    {
     "name": "stderr",
     "output_type": "stream",
     "text": [
      "\n",
      "\n",
      "\n",
      "\n",
      "\r",
      " 29%|██▊       | 344/1200 [02:49<06:59,  2.04it/s]"
     ]
    },
    {
     "name": "stdout",
     "output_type": "stream",
     "text": [
      "max at end of edge summation 1\n",
      "summer max 4\n",
      "level 0; %pix 0.5883463541666667\n",
      "level 1; %pix 0.27784830729166665\n",
      "level 2; %pix 0.025475260416666666\n",
      "threshold 2\n",
      "percent activated pixels 0.025475260416666666\n",
      "max of morphed is 1\n",
      "1\n"
     ]
    },
    {
     "name": "stderr",
     "output_type": "stream",
     "text": [
      "\u001b[A\u001b[A\u001b[A\u001b[A"
     ]
    },
    {
     "name": "stdout",
     "output_type": "stream",
     "text": [
      "max at end of edge summation 2\n",
      "max at end of edge summation 2\n"
     ]
    },
    {
     "name": "stderr",
     "output_type": "stream",
     "text": [
      "\n",
      "\n",
      "\n",
      "\n",
      "\r",
      " 29%|██▉       | 345/1200 [02:49<07:01,  2.03it/s]"
     ]
    },
    {
     "name": "stdout",
     "output_type": "stream",
     "text": [
      "max at end of edge summation 1\n",
      "summer max 4\n",
      "level 0; %pix 0.5830186631944444\n",
      "level 1; %pix 0.28077690972222225\n",
      "level 2; %pix 0.02636935763888889\n",
      "threshold 2\n",
      "percent activated pixels 0.02636935763888889\n",
      "max of morphed is 1\n",
      "1\n"
     ]
    },
    {
     "name": "stderr",
     "output_type": "stream",
     "text": [
      "\u001b[A\u001b[A\u001b[A\u001b[A"
     ]
    },
    {
     "name": "stdout",
     "output_type": "stream",
     "text": [
      "max at end of edge summation 2\n",
      "max at end of edge summation 2\n"
     ]
    },
    {
     "name": "stderr",
     "output_type": "stream",
     "text": [
      "\n",
      "\n",
      "\n",
      "\n",
      "\r",
      " 29%|██▉       | 346/1200 [02:50<06:59,  2.03it/s]"
     ]
    },
    {
     "name": "stdout",
     "output_type": "stream",
     "text": [
      "max at end of edge summation 1\n",
      "summer max 4\n",
      "level 0; %pix 0.5845290798611111\n",
      "level 1; %pix 0.2817241753472222\n",
      "level 2; %pix 0.02582356770833333\n",
      "threshold 2\n",
      "percent activated pixels 0.02582356770833333\n",
      "max of morphed is 1\n",
      "1\n"
     ]
    },
    {
     "name": "stderr",
     "output_type": "stream",
     "text": [
      "\u001b[A\u001b[A\u001b[A\u001b[A"
     ]
    },
    {
     "name": "stdout",
     "output_type": "stream",
     "text": [
      "max at end of edge summation 2\n",
      "max at end of edge summation 2\n"
     ]
    },
    {
     "name": "stderr",
     "output_type": "stream",
     "text": [
      "\n",
      "\n",
      "\n",
      "\n",
      "\r",
      " 29%|██▉       | 347/1200 [02:50<06:55,  2.05it/s]"
     ]
    },
    {
     "name": "stdout",
     "output_type": "stream",
     "text": [
      "max at end of edge summation 1\n",
      "summer max 4\n",
      "level 0; %pix 0.5686360677083333\n",
      "level 1; %pix 0.25229600694444443\n",
      "level 2; %pix 0.02017144097222222\n",
      "threshold 2\n",
      "percent activated pixels 0.02017144097222222\n",
      "max of morphed is 1\n",
      "1\n"
     ]
    },
    {
     "name": "stderr",
     "output_type": "stream",
     "text": [
      "\u001b[A\u001b[A\u001b[A\u001b[A"
     ]
    },
    {
     "name": "stdout",
     "output_type": "stream",
     "text": [
      "max at end of edge summation 2\n",
      "max at end of edge summation 2\n"
     ]
    },
    {
     "name": "stderr",
     "output_type": "stream",
     "text": [
      "\n",
      "\n",
      "\n",
      "\n",
      "\r",
      " 29%|██▉       | 348/1200 [02:51<06:58,  2.04it/s]"
     ]
    },
    {
     "name": "stdout",
     "output_type": "stream",
     "text": [
      "max at end of edge summation 1\n",
      "summer max 4\n",
      "level 0; %pix 0.5661740451388889\n",
      "level 1; %pix 0.2634917534722222\n",
      "level 2; %pix 0.023460286458333333\n",
      "threshold 2\n",
      "percent activated pixels 0.023460286458333333\n",
      "max of morphed is 1\n",
      "1\n"
     ]
    },
    {
     "name": "stderr",
     "output_type": "stream",
     "text": [
      "\u001b[A\u001b[A\u001b[A\u001b[A"
     ]
    },
    {
     "name": "stdout",
     "output_type": "stream",
     "text": [
      "max at end of edge summation 2\n",
      "max at end of edge summation 2\n"
     ]
    },
    {
     "name": "stderr",
     "output_type": "stream",
     "text": [
      "\n",
      "\n",
      "\n",
      "\n",
      "\r",
      " 29%|██▉       | 349/1200 [02:51<06:56,  2.04it/s]"
     ]
    },
    {
     "name": "stdout",
     "output_type": "stream",
     "text": [
      "max at end of edge summation 1\n",
      "summer max 4\n",
      "level 0; %pix 0.5851736111111111\n",
      "level 1; %pix 0.27469618055555556\n",
      "level 2; %pix 0.02392144097222222\n",
      "threshold 2\n",
      "percent activated pixels 0.02392144097222222\n",
      "max of morphed is 1\n",
      "1\n"
     ]
    },
    {
     "name": "stderr",
     "output_type": "stream",
     "text": [
      "\u001b[A\u001b[A\u001b[A\u001b[A"
     ]
    },
    {
     "name": "stdout",
     "output_type": "stream",
     "text": [
      "max at end of edge summation 2\n",
      "max at end of edge summation 2\n"
     ]
    },
    {
     "name": "stderr",
     "output_type": "stream",
     "text": [
      "\n",
      "\n",
      "\n",
      "\n",
      "\r",
      " 29%|██▉       | 350/1200 [02:52<06:57,  2.04it/s]"
     ]
    },
    {
     "name": "stdout",
     "output_type": "stream",
     "text": [
      "max at end of edge summation 1\n",
      "summer max 4\n",
      "level 0; %pix 0.5957769097222222\n",
      "level 1; %pix 0.27953016493055555\n",
      "level 2; %pix 0.02394097222222222\n",
      "threshold 2\n",
      "percent activated pixels 0.02394097222222222\n",
      "max of morphed is 1\n",
      "1\n"
     ]
    },
    {
     "name": "stderr",
     "output_type": "stream",
     "text": [
      "\u001b[A\u001b[A\u001b[A\u001b[A"
     ]
    },
    {
     "name": "stdout",
     "output_type": "stream",
     "text": [
      "max at end of edge summation 2\n",
      "max at end of edge summation 2\n"
     ]
    },
    {
     "name": "stderr",
     "output_type": "stream",
     "text": [
      "\n",
      "\n",
      "\n",
      "\n",
      "\r",
      " 29%|██▉       | 351/1200 [02:52<06:55,  2.04it/s]"
     ]
    },
    {
     "name": "stdout",
     "output_type": "stream",
     "text": [
      "max at end of edge summation 1\n",
      "summer max 4\n",
      "level 0; %pix 0.6052788628472222\n",
      "level 1; %pix 0.28324652777777776\n",
      "level 2; %pix 0.02365993923611111\n",
      "threshold 2\n",
      "percent activated pixels 0.02365993923611111\n",
      "max of morphed is 1\n",
      "1\n"
     ]
    },
    {
     "name": "stderr",
     "output_type": "stream",
     "text": [
      "\u001b[A\u001b[A\u001b[A\u001b[A"
     ]
    },
    {
     "name": "stdout",
     "output_type": "stream",
     "text": [
      "max at end of edge summation 2\n",
      "max at end of edge summation 2\n"
     ]
    },
    {
     "name": "stderr",
     "output_type": "stream",
     "text": [
      "\n",
      "\n",
      "\n",
      "\n",
      "\r",
      " 29%|██▉       | 352/1200 [02:53<06:54,  2.04it/s]"
     ]
    },
    {
     "name": "stdout",
     "output_type": "stream",
     "text": [
      "max at end of edge summation 1\n",
      "summer max 4\n",
      "level 0; %pix 0.5930902777777778\n",
      "level 1; %pix 0.2721701388888889\n",
      "level 2; %pix 0.02237521701388889\n",
      "threshold 2\n",
      "percent activated pixels 0.02237521701388889\n",
      "max of morphed is 1\n",
      "1\n"
     ]
    },
    {
     "name": "stderr",
     "output_type": "stream",
     "text": [
      "\u001b[A\u001b[A\u001b[A\u001b[A"
     ]
    },
    {
     "name": "stdout",
     "output_type": "stream",
     "text": [
      "max at end of edge summation 2\n",
      "max at end of edge summation 2\n"
     ]
    },
    {
     "name": "stderr",
     "output_type": "stream",
     "text": [
      "\n",
      "\n",
      "\n",
      "\n",
      "\r",
      " 29%|██▉       | 353/1200 [02:53<06:49,  2.07it/s]"
     ]
    },
    {
     "name": "stdout",
     "output_type": "stream",
     "text": [
      "max at end of edge summation 1\n",
      "summer max 4\n",
      "level 0; %pix 0.5943706597222222\n",
      "level 1; %pix 0.2751963975694444\n",
      "level 2; %pix 0.023311631944444446\n",
      "threshold 2\n",
      "percent activated pixels 0.023311631944444446\n",
      "max of morphed is 1\n",
      "1\n"
     ]
    },
    {
     "name": "stderr",
     "output_type": "stream",
     "text": [
      "\u001b[A\u001b[A\u001b[A\u001b[A"
     ]
    },
    {
     "name": "stdout",
     "output_type": "stream",
     "text": [
      "max at end of edge summation 2\n",
      "max at end of edge summation 2\n"
     ]
    },
    {
     "name": "stderr",
     "output_type": "stream",
     "text": [
      "\n",
      "\n",
      "\n",
      "\n",
      "\r",
      " 30%|██▉       | 354/1200 [02:54<06:49,  2.06it/s]"
     ]
    },
    {
     "name": "stdout",
     "output_type": "stream",
     "text": [
      "max at end of edge summation 1\n",
      "summer max 4\n",
      "level 0; %pix 0.5703493923611112\n",
      "level 1; %pix 0.25468641493055555\n",
      "level 2; %pix 0.02159396701388889\n",
      "threshold 2\n",
      "percent activated pixels 0.02159396701388889\n",
      "max of morphed is 1\n",
      "1\n"
     ]
    },
    {
     "name": "stderr",
     "output_type": "stream",
     "text": [
      "\u001b[A\u001b[A\u001b[A\u001b[A"
     ]
    },
    {
     "name": "stdout",
     "output_type": "stream",
     "text": [
      "max at end of edge summation 2\n",
      "max at end of edge summation 2\n"
     ]
    },
    {
     "name": "stderr",
     "output_type": "stream",
     "text": [
      "\n",
      "\n",
      "\n",
      "\n",
      "\r",
      " 30%|██▉       | 355/1200 [02:54<06:53,  2.04it/s]"
     ]
    },
    {
     "name": "stdout",
     "output_type": "stream",
     "text": [
      "max at end of edge summation 2\n",
      "summer max 4\n",
      "level 0; %pix 0.5774869791666667\n",
      "level 1; %pix 0.26896484375\n",
      "level 2; %pix 0.023033854166666666\n",
      "threshold 2\n",
      "percent activated pixels 0.023033854166666666\n",
      "max of morphed is 1\n",
      "1\n"
     ]
    },
    {
     "name": "stderr",
     "output_type": "stream",
     "text": [
      "\u001b[A\u001b[A\u001b[A\u001b[A"
     ]
    },
    {
     "name": "stdout",
     "output_type": "stream",
     "text": [
      "max at end of edge summation 2\n",
      "max at end of edge summation 2\n"
     ]
    },
    {
     "name": "stderr",
     "output_type": "stream",
     "text": [
      "\n",
      "\n",
      "\n",
      "\n",
      "\r",
      " 30%|██▉       | 356/1200 [02:55<06:48,  2.07it/s]"
     ]
    },
    {
     "name": "stdout",
     "output_type": "stream",
     "text": [
      "max at end of edge summation 2\n",
      "summer max 4\n",
      "level 0; %pix 0.5901540798611111\n",
      "level 1; %pix 0.27614800347222224\n",
      "level 2; %pix 0.024039713541666667\n",
      "threshold 2\n",
      "percent activated pixels 0.024039713541666667\n",
      "max of morphed is 1\n",
      "1\n"
     ]
    },
    {
     "name": "stderr",
     "output_type": "stream",
     "text": [
      "\u001b[A\u001b[A\u001b[A\u001b[A"
     ]
    },
    {
     "name": "stdout",
     "output_type": "stream",
     "text": [
      "max at end of edge summation 2\n",
      "max at end of edge summation 2\n"
     ]
    },
    {
     "name": "stderr",
     "output_type": "stream",
     "text": [
      "\n",
      "\n",
      "\n",
      "\n",
      "\r",
      " 30%|██▉       | 357/1200 [02:55<06:46,  2.07it/s]"
     ]
    },
    {
     "name": "stdout",
     "output_type": "stream",
     "text": [
      "max at end of edge summation 1\n",
      "summer max 4\n",
      "level 0; %pix 0.5944856770833333\n",
      "level 1; %pix 0.2792241753472222\n",
      "level 2; %pix 0.024944661458333333\n",
      "threshold 2\n",
      "percent activated pixels 0.024944661458333333\n",
      "max of morphed is 1\n",
      "1\n"
     ]
    },
    {
     "name": "stderr",
     "output_type": "stream",
     "text": [
      "\u001b[A\u001b[A\u001b[A\u001b[A"
     ]
    },
    {
     "name": "stdout",
     "output_type": "stream",
     "text": [
      "max at end of edge summation 2\n",
      "max at end of edge summation 2\n"
     ]
    },
    {
     "name": "stderr",
     "output_type": "stream",
     "text": [
      "\n",
      "\n",
      "\n",
      "\n",
      "\r",
      " 30%|██▉       | 358/1200 [02:56<06:46,  2.07it/s]"
     ]
    },
    {
     "name": "stdout",
     "output_type": "stream",
     "text": [
      "max at end of edge summation 1\n",
      "summer max 4\n",
      "level 0; %pix 0.6035698784722222\n",
      "level 1; %pix 0.28353081597222224\n",
      "level 2; %pix 0.02548068576388889\n",
      "threshold 2\n",
      "percent activated pixels 0.02548068576388889\n",
      "max of morphed is 1\n",
      "1\n"
     ]
    },
    {
     "name": "stderr",
     "output_type": "stream",
     "text": [
      "\u001b[A\u001b[A\u001b[A\u001b[A"
     ]
    },
    {
     "name": "stdout",
     "output_type": "stream",
     "text": [
      "max at end of edge summation 2\n",
      "max at end of edge summation 2\n"
     ]
    },
    {
     "name": "stderr",
     "output_type": "stream",
     "text": [
      "\n",
      "\n",
      "\n",
      "\n",
      "\r",
      " 30%|██▉       | 359/1200 [02:56<06:41,  2.09it/s]"
     ]
    },
    {
     "name": "stdout",
     "output_type": "stream",
     "text": [
      "max at end of edge summation 2\n",
      "summer max 4\n",
      "level 0; %pix 0.6096907552083334\n",
      "level 1; %pix 0.2863140190972222\n",
      "level 2; %pix 0.026256510416666667\n",
      "threshold 2\n",
      "percent activated pixels 0.026256510416666667\n",
      "max of morphed is 1\n",
      "1\n"
     ]
    },
    {
     "name": "stderr",
     "output_type": "stream",
     "text": [
      "\u001b[A\u001b[A\u001b[A\u001b[A"
     ]
    },
    {
     "name": "stdout",
     "output_type": "stream",
     "text": [
      "max at end of edge summation 2\n",
      "max at end of edge summation 2\n"
     ]
    },
    {
     "name": "stderr",
     "output_type": "stream",
     "text": [
      "\n",
      "\n",
      "\n",
      "\n",
      "\r",
      " 30%|███       | 360/1200 [02:57<06:46,  2.07it/s]"
     ]
    },
    {
     "name": "stdout",
     "output_type": "stream",
     "text": [
      "max at end of edge summation 1\n",
      "summer max 4\n",
      "level 0; %pix 0.5740125868055556\n",
      "level 1; %pix 0.26321180555555557\n",
      "level 2; %pix 0.024784071180555554\n",
      "threshold 2\n",
      "percent activated pixels 0.024784071180555554\n",
      "max of morphed is 1\n",
      "1\n"
     ]
    },
    {
     "name": "stderr",
     "output_type": "stream",
     "text": [
      "\u001b[A\u001b[A\u001b[A\u001b[A"
     ]
    },
    {
     "name": "stdout",
     "output_type": "stream",
     "text": [
      "max at end of edge summation 2\n",
      "max at end of edge summation 2\n"
     ]
    },
    {
     "name": "stderr",
     "output_type": "stream",
     "text": [
      "\n",
      "\n",
      "\n",
      "\n",
      "\r",
      " 30%|███       | 361/1200 [02:57<06:47,  2.06it/s]"
     ]
    },
    {
     "name": "stdout",
     "output_type": "stream",
     "text": [
      "max at end of edge summation 1\n",
      "summer max 4\n",
      "level 0; %pix 0.5761328125\n",
      "level 1; %pix 0.2545290798611111\n",
      "level 2; %pix 0.023809678819444444\n",
      "threshold 2\n",
      "percent activated pixels 0.023809678819444444\n",
      "max of morphed is 1\n",
      "1\n"
     ]
    },
    {
     "name": "stderr",
     "output_type": "stream",
     "text": [
      "\u001b[A\u001b[A\u001b[A\u001b[A"
     ]
    },
    {
     "name": "stdout",
     "output_type": "stream",
     "text": [
      "max at end of edge summation 2\n",
      "max at end of edge summation 2\n"
     ]
    },
    {
     "name": "stderr",
     "output_type": "stream",
     "text": [
      "\n",
      "\n",
      "\n",
      "\n",
      "\r",
      " 30%|███       | 362/1200 [02:58<06:44,  2.07it/s]"
     ]
    },
    {
     "name": "stdout",
     "output_type": "stream",
     "text": [
      "max at end of edge summation 1\n",
      "summer max 4\n",
      "level 0; %pix 0.5593630642361112\n",
      "level 1; %pix 0.2385275607638889\n",
      "level 2; %pix 0.021774088541666667\n",
      "threshold 2\n",
      "percent activated pixels 0.021774088541666667\n",
      "max of morphed is 1\n",
      "1\n"
     ]
    },
    {
     "name": "stderr",
     "output_type": "stream",
     "text": [
      "\u001b[A\u001b[A\u001b[A\u001b[A"
     ]
    },
    {
     "name": "stdout",
     "output_type": "stream",
     "text": [
      "max at end of edge summation 2\n",
      "max at end of edge summation 2\n"
     ]
    },
    {
     "name": "stderr",
     "output_type": "stream",
     "text": [
      "\n",
      "\n",
      "\n",
      "\n",
      "\r",
      " 30%|███       | 363/1200 [02:58<06:41,  2.09it/s]"
     ]
    },
    {
     "name": "stdout",
     "output_type": "stream",
     "text": [
      "max at end of edge summation 1\n",
      "summer max 4\n",
      "level 0; %pix 0.5634027777777778\n",
      "level 1; %pix 0.2630219184027778\n",
      "level 2; %pix 0.0262109375\n",
      "threshold 2\n",
      "percent activated pixels 0.0262109375\n",
      "max of morphed is 1\n",
      "1\n"
     ]
    },
    {
     "name": "stderr",
     "output_type": "stream",
     "text": [
      "\u001b[A\u001b[A\u001b[A\u001b[A"
     ]
    },
    {
     "name": "stdout",
     "output_type": "stream",
     "text": [
      "max at end of edge summation 2\n",
      "max at end of edge summation 2\n"
     ]
    },
    {
     "name": "stderr",
     "output_type": "stream",
     "text": [
      "\n",
      "\n",
      "\n",
      "\n",
      "\r",
      " 30%|███       | 364/1200 [02:59<06:41,  2.08it/s]"
     ]
    },
    {
     "name": "stdout",
     "output_type": "stream",
     "text": [
      "max at end of edge summation 1\n",
      "summer max 4\n",
      "level 0; %pix 0.5634516059027778\n",
      "level 1; %pix 0.24019097222222222\n",
      "level 2; %pix 0.021967230902777777\n",
      "threshold 2\n",
      "percent activated pixels 0.021967230902777777\n",
      "max of morphed is 1\n",
      "1\n"
     ]
    },
    {
     "name": "stderr",
     "output_type": "stream",
     "text": [
      "\u001b[A\u001b[A\u001b[A\u001b[A"
     ]
    },
    {
     "name": "stdout",
     "output_type": "stream",
     "text": [
      "max at end of edge summation 2\n",
      "max at end of edge summation 2\n"
     ]
    },
    {
     "name": "stderr",
     "output_type": "stream",
     "text": [
      "\n",
      "\n",
      "\n",
      "\n",
      "\r",
      " 30%|███       | 365/1200 [02:59<06:36,  2.11it/s]"
     ]
    },
    {
     "name": "stdout",
     "output_type": "stream",
     "text": [
      "max at end of edge summation 1\n",
      "summer max 4\n",
      "level 0; %pix 0.56845703125\n",
      "level 1; %pix 0.24902452256944443\n",
      "level 2; %pix 0.022141927083333332\n",
      "threshold 2\n",
      "percent activated pixels 0.022141927083333332\n",
      "max of morphed is 1\n",
      "1\n"
     ]
    },
    {
     "name": "stderr",
     "output_type": "stream",
     "text": [
      "\u001b[A\u001b[A\u001b[A\u001b[A"
     ]
    },
    {
     "name": "stdout",
     "output_type": "stream",
     "text": [
      "max at end of edge summation 2\n",
      "max at end of edge summation 2\n"
     ]
    },
    {
     "name": "stderr",
     "output_type": "stream",
     "text": [
      "\n",
      "\n",
      "\n",
      "\n",
      "\r",
      " 30%|███       | 366/1200 [03:00<06:42,  2.07it/s]"
     ]
    },
    {
     "name": "stdout",
     "output_type": "stream",
     "text": [
      "max at end of edge summation 1\n",
      "summer max 4\n",
      "level 0; %pix 0.5534212239583334\n",
      "level 1; %pix 0.24024956597222222\n",
      "level 2; %pix 0.020502387152777777\n",
      "threshold 2\n",
      "percent activated pixels 0.020502387152777777\n",
      "max of morphed is 1\n",
      "1\n"
     ]
    },
    {
     "name": "stderr",
     "output_type": "stream",
     "text": [
      "\u001b[A\u001b[A\u001b[A\u001b[A"
     ]
    },
    {
     "name": "stdout",
     "output_type": "stream",
     "text": [
      "max at end of edge summation 2\n",
      "max at end of edge summation 2\n"
     ]
    },
    {
     "name": "stderr",
     "output_type": "stream",
     "text": [
      "\n",
      "\n",
      "\n",
      "\n",
      "\r",
      " 31%|███       | 367/1200 [03:00<06:42,  2.07it/s]"
     ]
    },
    {
     "name": "stdout",
     "output_type": "stream",
     "text": [
      "max at end of edge summation 1\n",
      "summer max 4\n",
      "level 0; %pix 0.5375151909722222\n",
      "level 1; %pix 0.22951822916666667\n",
      "level 2; %pix 0.02207790798611111\n",
      "threshold 2\n",
      "percent activated pixels 0.02207790798611111\n",
      "max of morphed is 1\n",
      "1\n"
     ]
    },
    {
     "name": "stderr",
     "output_type": "stream",
     "text": [
      "\u001b[A\u001b[A\u001b[A\u001b[A"
     ]
    },
    {
     "name": "stdout",
     "output_type": "stream",
     "text": [
      "max at end of edge summation 2\n",
      "max at end of edge summation 2\n"
     ]
    },
    {
     "name": "stderr",
     "output_type": "stream",
     "text": [
      "\n",
      "\n",
      "\n",
      "\n",
      "\r",
      " 31%|███       | 368/1200 [03:00<06:42,  2.06it/s]"
     ]
    },
    {
     "name": "stdout",
     "output_type": "stream",
     "text": [
      "max at end of edge summation 1\n",
      "summer max 4\n",
      "level 0; %pix 0.5731868489583334\n",
      "level 1; %pix 0.24331922743055556\n",
      "level 2; %pix 0.02291775173611111\n",
      "threshold 2\n",
      "percent activated pixels 0.02291775173611111\n",
      "max of morphed is 1\n",
      "1\n"
     ]
    },
    {
     "name": "stderr",
     "output_type": "stream",
     "text": [
      "\u001b[A\u001b[A\u001b[A\u001b[A"
     ]
    },
    {
     "name": "stdout",
     "output_type": "stream",
     "text": [
      "max at end of edge summation 2\n",
      "max at end of edge summation 2\n"
     ]
    },
    {
     "name": "stderr",
     "output_type": "stream",
     "text": [
      "\n",
      "\n",
      "\n",
      "\n",
      "\r",
      " 31%|███       | 369/1200 [03:01<06:44,  2.06it/s]"
     ]
    },
    {
     "name": "stdout",
     "output_type": "stream",
     "text": [
      "max at end of edge summation 1\n",
      "summer max 4\n",
      "level 0; %pix 0.5641438802083333\n",
      "level 1; %pix 0.24725260416666667\n",
      "level 2; %pix 0.0237109375\n",
      "threshold 2\n",
      "percent activated pixels 0.0237109375\n",
      "max of morphed is 1\n",
      "1\n"
     ]
    },
    {
     "name": "stderr",
     "output_type": "stream",
     "text": [
      "\u001b[A\u001b[A\u001b[A\u001b[A"
     ]
    },
    {
     "name": "stdout",
     "output_type": "stream",
     "text": [
      "max at end of edge summation 2\n",
      "max at end of edge summation 2\n"
     ]
    },
    {
     "name": "stderr",
     "output_type": "stream",
     "text": [
      "\n",
      "\n",
      "\n",
      "\n",
      "\r",
      " 31%|███       | 370/1200 [03:01<06:49,  2.03it/s]"
     ]
    },
    {
     "name": "stdout",
     "output_type": "stream",
     "text": [
      "max at end of edge summation 1\n",
      "summer max 4\n",
      "level 0; %pix 0.5737847222222222\n",
      "level 1; %pix 0.25638020833333336\n",
      "level 2; %pix 0.024618055555555556\n",
      "threshold 2\n",
      "percent activated pixels 0.024618055555555556\n",
      "max of morphed is 1\n",
      "1\n"
     ]
    },
    {
     "name": "stderr",
     "output_type": "stream",
     "text": [
      "\u001b[A\u001b[A\u001b[A\u001b[A"
     ]
    },
    {
     "name": "stdout",
     "output_type": "stream",
     "text": [
      "max at end of edge summation 2\n",
      "max at end of edge summation 2\n"
     ]
    },
    {
     "name": "stderr",
     "output_type": "stream",
     "text": [
      "\n",
      "\n",
      "\n",
      "\n",
      "\r",
      " 31%|███       | 371/1200 [03:02<06:43,  2.05it/s]"
     ]
    },
    {
     "name": "stdout",
     "output_type": "stream",
     "text": [
      "max at end of edge summation 1\n",
      "summer max 4\n",
      "level 0; %pix 0.5470670572916667\n",
      "level 1; %pix 0.2463498263888889\n",
      "level 2; %pix 0.019510633680555556\n",
      "threshold 2\n",
      "percent activated pixels 0.019510633680555556\n",
      "max of morphed is 1\n",
      "1\n"
     ]
    },
    {
     "name": "stderr",
     "output_type": "stream",
     "text": [
      "\u001b[A\u001b[A\u001b[A\u001b[A"
     ]
    },
    {
     "name": "stdout",
     "output_type": "stream",
     "text": [
      "max at end of edge summation 2\n",
      "max at end of edge summation 2\n"
     ]
    },
    {
     "name": "stderr",
     "output_type": "stream",
     "text": [
      "\n",
      "\n",
      "\n",
      "\n",
      "\r",
      " 31%|███       | 372/1200 [03:02<06:47,  2.03it/s]"
     ]
    },
    {
     "name": "stdout",
     "output_type": "stream",
     "text": [
      "max at end of edge summation 1\n",
      "summer max 4\n",
      "level 0; %pix 0.5516872829861111\n",
      "level 1; %pix 0.2503982204861111\n",
      "level 2; %pix 0.020658637152777777\n",
      "threshold 2\n",
      "percent activated pixels 0.020658637152777777\n",
      "max of morphed is 1\n",
      "1\n"
     ]
    },
    {
     "name": "stderr",
     "output_type": "stream",
     "text": [
      "\u001b[A\u001b[A\u001b[A\u001b[A"
     ]
    },
    {
     "name": "stdout",
     "output_type": "stream",
     "text": [
      "max at end of edge summation 2\n",
      "max at end of edge summation 2\n"
     ]
    },
    {
     "name": "stderr",
     "output_type": "stream",
     "text": [
      "\n",
      "\n",
      "\n",
      "\n",
      "\r",
      " 31%|███       | 373/1200 [03:03<06:46,  2.03it/s]"
     ]
    },
    {
     "name": "stdout",
     "output_type": "stream",
     "text": [
      "max at end of edge summation 1\n",
      "summer max 4\n",
      "level 0; %pix 0.5571061197916667\n",
      "level 1; %pix 0.2684646267361111\n",
      "level 2; %pix 0.022453342013888888\n",
      "threshold 2\n",
      "percent activated pixels 0.022453342013888888\n",
      "max of morphed is 1\n",
      "1\n"
     ]
    },
    {
     "name": "stderr",
     "output_type": "stream",
     "text": [
      "\u001b[A\u001b[A\u001b[A\u001b[A"
     ]
    },
    {
     "name": "stdout",
     "output_type": "stream",
     "text": [
      "max at end of edge summation 2\n",
      "max at end of edge summation 2\n"
     ]
    },
    {
     "name": "stderr",
     "output_type": "stream",
     "text": [
      "\n",
      "\n",
      "\n",
      "\n",
      "\r",
      " 31%|███       | 374/1200 [03:03<06:46,  2.03it/s]"
     ]
    },
    {
     "name": "stdout",
     "output_type": "stream",
     "text": [
      "max at end of edge summation 1\n",
      "summer max 4\n",
      "level 0; %pix 0.5696451822916667\n",
      "level 1; %pix 0.265634765625\n",
      "level 2; %pix 0.021439887152777778\n",
      "threshold 2\n",
      "percent activated pixels 0.021439887152777778\n",
      "max of morphed is 1\n",
      "1\n"
     ]
    },
    {
     "name": "stderr",
     "output_type": "stream",
     "text": [
      "\u001b[A\u001b[A\u001b[A\u001b[A"
     ]
    },
    {
     "name": "stdout",
     "output_type": "stream",
     "text": [
      "max at end of edge summation 2\n",
      "max at end of edge summation 2\n"
     ]
    },
    {
     "name": "stderr",
     "output_type": "stream",
     "text": [
      "\n",
      "\n",
      "\n",
      "\n",
      "\r",
      " 31%|███▏      | 375/1200 [03:04<06:44,  2.04it/s]"
     ]
    },
    {
     "name": "stdout",
     "output_type": "stream",
     "text": [
      "max at end of edge summation 1\n",
      "summer max 4\n",
      "level 0; %pix 0.567216796875\n",
      "level 1; %pix 0.2748904079861111\n",
      "level 2; %pix 0.023202039930555557\n",
      "threshold 2\n",
      "percent activated pixels 0.023202039930555557\n",
      "max of morphed is 1\n",
      "1\n"
     ]
    },
    {
     "name": "stderr",
     "output_type": "stream",
     "text": [
      "\u001b[A\u001b[A\u001b[A\u001b[A"
     ]
    },
    {
     "name": "stdout",
     "output_type": "stream",
     "text": [
      "max at end of edge summation 2\n",
      "max at end of edge summation 2\n"
     ]
    },
    {
     "name": "stderr",
     "output_type": "stream",
     "text": [
      "\n",
      "\n",
      "\n",
      "\n",
      "\r",
      " 31%|███▏      | 376/1200 [03:04<06:42,  2.05it/s]"
     ]
    },
    {
     "name": "stdout",
     "output_type": "stream",
     "text": [
      "max at end of edge summation 1\n",
      "summer max 4\n",
      "level 0; %pix 0.5831163194444444\n",
      "level 1; %pix 0.2795638020833333\n",
      "level 2; %pix 0.022442491319444445\n",
      "threshold 2\n",
      "percent activated pixels 0.022442491319444445\n",
      "max of morphed is 1\n",
      "1\n"
     ]
    },
    {
     "name": "stderr",
     "output_type": "stream",
     "text": [
      "\u001b[A\u001b[A\u001b[A\u001b[A"
     ]
    },
    {
     "name": "stdout",
     "output_type": "stream",
     "text": [
      "max at end of edge summation 2\n",
      "max at end of edge summation 2\n"
     ]
    },
    {
     "name": "stderr",
     "output_type": "stream",
     "text": [
      "\n",
      "\n",
      "\n",
      "\n",
      "\r",
      " 31%|███▏      | 377/1200 [03:05<06:37,  2.07it/s]"
     ]
    },
    {
     "name": "stdout",
     "output_type": "stream",
     "text": [
      "max at end of edge summation 1\n",
      "summer max 4\n",
      "level 0; %pix 0.5893587239583333\n",
      "level 1; %pix 0.2816134982638889\n",
      "level 2; %pix 0.021075303819444443\n",
      "threshold 2\n",
      "percent activated pixels 0.021075303819444443\n",
      "max of morphed is 1\n",
      "1\n"
     ]
    },
    {
     "name": "stderr",
     "output_type": "stream",
     "text": [
      "\u001b[A\u001b[A\u001b[A\u001b[A"
     ]
    },
    {
     "name": "stdout",
     "output_type": "stream",
     "text": [
      "max at end of edge summation 2\n",
      "max at end of edge summation 2\n"
     ]
    },
    {
     "name": "stderr",
     "output_type": "stream",
     "text": [
      "\n",
      "\n",
      "\n",
      "\n",
      "\r",
      " 32%|███▏      | 378/1200 [03:05<06:38,  2.06it/s]"
     ]
    },
    {
     "name": "stdout",
     "output_type": "stream",
     "text": [
      "max at end of edge summation 1\n",
      "summer max 4\n",
      "level 0; %pix 0.5984559461805555\n",
      "level 1; %pix 0.28734375\n",
      "level 2; %pix 0.021166449652777777\n",
      "threshold 2\n",
      "percent activated pixels 0.021166449652777777\n",
      "max of morphed is 1\n",
      "1\n"
     ]
    },
    {
     "name": "stderr",
     "output_type": "stream",
     "text": [
      "\u001b[A\u001b[A\u001b[A\u001b[A"
     ]
    },
    {
     "name": "stdout",
     "output_type": "stream",
     "text": [
      "max at end of edge summation 2\n",
      "max at end of edge summation 2\n"
     ]
    },
    {
     "name": "stderr",
     "output_type": "stream",
     "text": [
      "\n",
      "\n",
      "\n",
      "\n",
      "\r",
      " 32%|███▏      | 379/1200 [03:06<06:39,  2.06it/s]"
     ]
    },
    {
     "name": "stdout",
     "output_type": "stream",
     "text": [
      "max at end of edge summation 1\n",
      "summer max 4\n",
      "level 0; %pix 0.6027256944444445\n",
      "level 1; %pix 0.2885329861111111\n",
      "level 2; %pix 0.020992838541666666\n",
      "threshold 2\n",
      "percent activated pixels 0.020992838541666666\n",
      "max of morphed is 1\n",
      "1\n"
     ]
    },
    {
     "name": "stderr",
     "output_type": "stream",
     "text": [
      "\u001b[A\u001b[A\u001b[A\u001b[A"
     ]
    },
    {
     "name": "stdout",
     "output_type": "stream",
     "text": [
      "max at end of edge summation 2\n",
      "max at end of edge summation 2\n"
     ]
    },
    {
     "name": "stderr",
     "output_type": "stream",
     "text": [
      "\n",
      "\n",
      "\n",
      "\n",
      "\r",
      " 32%|███▏      | 380/1200 [03:06<06:43,  2.03it/s]"
     ]
    },
    {
     "name": "stdout",
     "output_type": "stream",
     "text": [
      "max at end of edge summation 2\n",
      "summer max 4\n",
      "level 0; %pix 0.6023980034722223\n",
      "level 1; %pix 0.2886382378472222\n",
      "level 2; %pix 0.020972222222222222\n",
      "threshold 2\n",
      "percent activated pixels 0.020972222222222222\n",
      "max of morphed is 1\n",
      "1\n"
     ]
    },
    {
     "name": "stderr",
     "output_type": "stream",
     "text": [
      "\u001b[A\u001b[A\u001b[A\u001b[A"
     ]
    },
    {
     "name": "stdout",
     "output_type": "stream",
     "text": [
      "max at end of edge summation 2\n",
      "max at end of edge summation 2\n"
     ]
    },
    {
     "name": "stderr",
     "output_type": "stream",
     "text": [
      "\n",
      "\n",
      "\n",
      "\n",
      "\r",
      " 32%|███▏      | 381/1200 [03:07<06:41,  2.04it/s]"
     ]
    },
    {
     "name": "stdout",
     "output_type": "stream",
     "text": [
      "max at end of edge summation 1\n",
      "summer max 4\n",
      "level 0; %pix 0.607666015625\n",
      "level 1; %pix 0.29193576388888887\n",
      "level 2; %pix 0.021476779513888888\n",
      "threshold 2\n",
      "percent activated pixels 0.021476779513888888\n",
      "max of morphed is 1\n",
      "1\n"
     ]
    },
    {
     "name": "stderr",
     "output_type": "stream",
     "text": [
      "\u001b[A\u001b[A\u001b[A\u001b[A"
     ]
    },
    {
     "name": "stdout",
     "output_type": "stream",
     "text": [
      "max at end of edge summation 2\n",
      "max at end of edge summation 2\n"
     ]
    },
    {
     "name": "stderr",
     "output_type": "stream",
     "text": [
      "\n",
      "\n",
      "\n",
      "\n",
      "\r",
      " 32%|███▏      | 382/1200 [03:07<06:40,  2.04it/s]"
     ]
    },
    {
     "name": "stdout",
     "output_type": "stream",
     "text": [
      "max at end of edge summation 1\n",
      "summer max 4\n",
      "level 0; %pix 0.5879231770833333\n",
      "level 1; %pix 0.2819140625\n",
      "level 2; %pix 0.021185980902777776\n",
      "threshold 2\n",
      "percent activated pixels 0.021185980902777776\n",
      "max of morphed is 1\n",
      "1\n"
     ]
    },
    {
     "name": "stderr",
     "output_type": "stream",
     "text": [
      "\u001b[A\u001b[A\u001b[A\u001b[A"
     ]
    },
    {
     "name": "stdout",
     "output_type": "stream",
     "text": [
      "max at end of edge summation 2\n",
      "max at end of edge summation 2\n"
     ]
    },
    {
     "name": "stderr",
     "output_type": "stream",
     "text": [
      "\n",
      "\n",
      "\n",
      "\n",
      "\r",
      " 32%|███▏      | 383/1200 [03:08<06:32,  2.08it/s]"
     ]
    },
    {
     "name": "stdout",
     "output_type": "stream",
     "text": [
      "max at end of edge summation 1\n",
      "summer max 4\n",
      "level 0; %pix 0.5835579427083334\n",
      "level 1; %pix 0.2749164496527778\n",
      "level 2; %pix 0.020364583333333332\n",
      "threshold 2\n",
      "percent activated pixels 0.020364583333333332\n",
      "max of morphed is 1\n",
      "1\n"
     ]
    },
    {
     "name": "stderr",
     "output_type": "stream",
     "text": [
      "\u001b[A\u001b[A\u001b[A\u001b[A"
     ]
    },
    {
     "name": "stdout",
     "output_type": "stream",
     "text": [
      "max at end of edge summation 2\n",
      "max at end of edge summation 2\n"
     ]
    },
    {
     "name": "stderr",
     "output_type": "stream",
     "text": [
      "\n",
      "\n",
      "\n",
      "\n",
      "\r",
      " 32%|███▏      | 384/1200 [03:08<06:35,  2.07it/s]"
     ]
    },
    {
     "name": "stdout",
     "output_type": "stream",
     "text": [
      "max at end of edge summation 1\n",
      "summer max 4\n",
      "level 0; %pix 0.5796733940972222\n",
      "level 1; %pix 0.27280164930555556\n",
      "level 2; %pix 0.020376519097222223\n",
      "threshold 2\n",
      "percent activated pixels 0.020376519097222223\n",
      "max of morphed is 1\n",
      "1\n"
     ]
    },
    {
     "name": "stderr",
     "output_type": "stream",
     "text": [
      "\u001b[A\u001b[A\u001b[A\u001b[A"
     ]
    },
    {
     "name": "stdout",
     "output_type": "stream",
     "text": [
      "max at end of edge summation 2\n",
      "max at end of edge summation 2\n"
     ]
    },
    {
     "name": "stderr",
     "output_type": "stream",
     "text": [
      "\n",
      "\n",
      "\n",
      "\n",
      "\r",
      " 32%|███▏      | 385/1200 [03:09<06:33,  2.07it/s]"
     ]
    },
    {
     "name": "stdout",
     "output_type": "stream",
     "text": [
      "max at end of edge summation 1\n",
      "summer max 4\n",
      "level 0; %pix 0.5579741753472223\n",
      "level 1; %pix 0.25656575520833336\n",
      "level 2; %pix 0.021624348958333334\n",
      "threshold 2\n",
      "percent activated pixels 0.021624348958333334\n",
      "max of morphed is 1\n",
      "1\n"
     ]
    },
    {
     "name": "stderr",
     "output_type": "stream",
     "text": [
      "\u001b[A\u001b[A\u001b[A\u001b[A"
     ]
    },
    {
     "name": "stdout",
     "output_type": "stream",
     "text": [
      "max at end of edge summation 2\n",
      "max at end of edge summation 2\n"
     ]
    },
    {
     "name": "stderr",
     "output_type": "stream",
     "text": [
      "\n",
      "\n",
      "\n",
      "\n",
      "\r",
      " 32%|███▏      | 386/1200 [03:09<06:33,  2.07it/s]"
     ]
    },
    {
     "name": "stdout",
     "output_type": "stream",
     "text": [
      "max at end of edge summation 1\n",
      "summer max 4\n",
      "level 0; %pix 0.5665896267361111\n",
      "level 1; %pix 0.2564507378472222\n",
      "level 2; %pix 0.020365668402777776\n",
      "threshold 2\n",
      "percent activated pixels 0.020365668402777776\n",
      "max of morphed is 1\n",
      "1\n"
     ]
    },
    {
     "name": "stderr",
     "output_type": "stream",
     "text": [
      "\u001b[A\u001b[A\u001b[A\u001b[A"
     ]
    },
    {
     "name": "stdout",
     "output_type": "stream",
     "text": [
      "max at end of edge summation 2\n",
      "max at end of edge summation 2\n"
     ]
    },
    {
     "name": "stderr",
     "output_type": "stream",
     "text": [
      "\n",
      "\n",
      "\n",
      "\n",
      "\r",
      " 32%|███▏      | 387/1200 [03:10<06:33,  2.07it/s]"
     ]
    },
    {
     "name": "stdout",
     "output_type": "stream",
     "text": [
      "max at end of edge summation 1\n",
      "summer max 4\n",
      "level 0; %pix 0.5780598958333333\n",
      "level 1; %pix 0.26154513888888886\n",
      "level 2; %pix 0.020792100694444444\n",
      "threshold 2\n",
      "percent activated pixels 0.020792100694444444\n",
      "max of morphed is 1\n",
      "1\n"
     ]
    },
    {
     "name": "stderr",
     "output_type": "stream",
     "text": [
      "\u001b[A\u001b[A\u001b[A\u001b[A"
     ]
    },
    {
     "name": "stdout",
     "output_type": "stream",
     "text": [
      "max at end of edge summation 2\n",
      "max at end of edge summation 2\n"
     ]
    },
    {
     "name": "stderr",
     "output_type": "stream",
     "text": [
      "\n",
      "\n",
      "\n",
      "\n",
      "\r",
      " 32%|███▏      | 388/1200 [03:10<06:33,  2.06it/s]"
     ]
    },
    {
     "name": "stdout",
     "output_type": "stream",
     "text": [
      "max at end of edge summation 1\n",
      "summer max 4\n",
      "level 0; %pix 0.5822428385416667\n",
      "level 1; %pix 0.2625542534722222\n",
      "level 2; %pix 0.020482855902777777\n",
      "threshold 2\n",
      "percent activated pixels 0.020482855902777777\n",
      "max of morphed is 1\n",
      "1\n"
     ]
    },
    {
     "name": "stderr",
     "output_type": "stream",
     "text": [
      "\u001b[A\u001b[A\u001b[A\u001b[A"
     ]
    },
    {
     "name": "stdout",
     "output_type": "stream",
     "text": [
      "max at end of edge summation 2\n",
      "max at end of edge summation 2\n"
     ]
    },
    {
     "name": "stderr",
     "output_type": "stream",
     "text": [
      "\n",
      "\n",
      "\n",
      "\n",
      "\r",
      " 32%|███▏      | 389/1200 [03:11<06:25,  2.11it/s]"
     ]
    },
    {
     "name": "stdout",
     "output_type": "stream",
     "text": [
      "max at end of edge summation 1\n",
      "summer max 4\n",
      "level 0; %pix 0.5751302083333333\n",
      "level 1; %pix 0.2662803819444444\n",
      "level 2; %pix 0.0209765625\n",
      "threshold 2\n",
      "percent activated pixels 0.0209765625\n",
      "max of morphed is 1\n",
      "1\n"
     ]
    },
    {
     "name": "stderr",
     "output_type": "stream",
     "text": [
      "\u001b[A\u001b[A\u001b[A\u001b[A"
     ]
    },
    {
     "name": "stdout",
     "output_type": "stream",
     "text": [
      "max at end of edge summation 2\n",
      "max at end of edge summation 2\n"
     ]
    },
    {
     "name": "stderr",
     "output_type": "stream",
     "text": [
      "\n",
      "\n",
      "\n",
      "\n",
      "\r",
      " 32%|███▎      | 390/1200 [03:11<06:29,  2.08it/s]"
     ]
    },
    {
     "name": "stdout",
     "output_type": "stream",
     "text": [
      "max at end of edge summation 1\n",
      "summer max 4\n",
      "level 0; %pix 0.5713465711805555\n",
      "level 1; %pix 0.25649522569444444\n",
      "level 2; %pix 0.019547526041666666\n",
      "threshold 2\n",
      "percent activated pixels 0.019547526041666666\n",
      "max of morphed is 1\n",
      "1\n"
     ]
    },
    {
     "name": "stderr",
     "output_type": "stream",
     "text": [
      "\u001b[A\u001b[A\u001b[A\u001b[A"
     ]
    },
    {
     "name": "stdout",
     "output_type": "stream",
     "text": [
      "max at end of edge summation 2\n",
      "max at end of edge summation 2\n"
     ]
    },
    {
     "name": "stderr",
     "output_type": "stream",
     "text": [
      "\n",
      "\n",
      "\n",
      "\n",
      "\r",
      " 33%|███▎      | 391/1200 [03:12<06:35,  2.04it/s]"
     ]
    },
    {
     "name": "stdout",
     "output_type": "stream",
     "text": [
      "max at end of edge summation 1\n",
      "summer max 4\n",
      "level 0; %pix 0.5842220052083333\n",
      "level 1; %pix 0.2754025607638889\n",
      "level 2; %pix 0.02264865451388889\n",
      "threshold 2\n",
      "percent activated pixels 0.02264865451388889\n",
      "max of morphed is 1\n",
      "1\n"
     ]
    },
    {
     "name": "stderr",
     "output_type": "stream",
     "text": [
      "\u001b[A\u001b[A\u001b[A\u001b[A"
     ]
    },
    {
     "name": "stdout",
     "output_type": "stream",
     "text": [
      "max at end of edge summation 2\n",
      "max at end of edge summation 2\n"
     ]
    },
    {
     "name": "stderr",
     "output_type": "stream",
     "text": [
      "\n",
      "\n",
      "\n",
      "\n",
      "\r",
      " 33%|███▎      | 392/1200 [03:12<06:37,  2.03it/s]"
     ]
    },
    {
     "name": "stdout",
     "output_type": "stream",
     "text": [
      "max at end of edge summation 1\n",
      "summer max 4\n",
      "level 0; %pix 0.5686892361111111\n",
      "level 1; %pix 0.25613715277777777\n",
      "level 2; %pix 0.02137478298611111\n",
      "threshold 2\n",
      "percent activated pixels 0.02137478298611111\n",
      "max of morphed is 1\n",
      "1\n"
     ]
    },
    {
     "name": "stderr",
     "output_type": "stream",
     "text": [
      "\u001b[A\u001b[A\u001b[A\u001b[A"
     ]
    },
    {
     "name": "stdout",
     "output_type": "stream",
     "text": [
      "max at end of edge summation 2\n",
      "max at end of edge summation 2\n"
     ]
    },
    {
     "name": "stderr",
     "output_type": "stream",
     "text": [
      "\n",
      "\n",
      "\n",
      "\n",
      "\r",
      " 33%|███▎      | 393/1200 [03:13<06:41,  2.01it/s]"
     ]
    },
    {
     "name": "stdout",
     "output_type": "stream",
     "text": [
      "max at end of edge summation 1\n",
      "summer max 4\n",
      "level 0; %pix 0.5764952256944444\n",
      "level 1; %pix 0.2594303385416667\n",
      "level 2; %pix 0.021790364583333333\n",
      "threshold 2\n",
      "percent activated pixels 0.021790364583333333\n",
      "max of morphed is 1\n",
      "1\n"
     ]
    },
    {
     "name": "stderr",
     "output_type": "stream",
     "text": [
      "\u001b[A\u001b[A\u001b[A\u001b[A"
     ]
    },
    {
     "name": "stdout",
     "output_type": "stream",
     "text": [
      "max at end of edge summation 2\n",
      "max at end of edge summation 2\n"
     ]
    },
    {
     "name": "stderr",
     "output_type": "stream",
     "text": [
      "\n",
      "\n",
      "\n",
      "\n",
      "\r",
      " 33%|███▎      | 394/1200 [03:13<06:40,  2.01it/s]"
     ]
    },
    {
     "name": "stdout",
     "output_type": "stream",
     "text": [
      "max at end of edge summation 1\n",
      "summer max 4\n",
      "level 0; %pix 0.5766666666666667\n",
      "level 1; %pix 0.26869140625\n",
      "level 2; %pix 0.022412109375\n",
      "threshold 2\n",
      "percent activated pixels 0.022412109375\n",
      "max of morphed is 1\n",
      "1\n"
     ]
    },
    {
     "name": "stderr",
     "output_type": "stream",
     "text": [
      "\u001b[A\u001b[A\u001b[A\u001b[A"
     ]
    },
    {
     "name": "stdout",
     "output_type": "stream",
     "text": [
      "max at end of edge summation 2\n",
      "max at end of edge summation 2\n"
     ]
    },
    {
     "name": "stderr",
     "output_type": "stream",
     "text": [
      "\n",
      "\n",
      "\n",
      "\n",
      "\r",
      " 33%|███▎      | 395/1200 [03:14<06:32,  2.05it/s]"
     ]
    },
    {
     "name": "stdout",
     "output_type": "stream",
     "text": [
      "max at end of edge summation 1\n",
      "summer max 4\n",
      "level 0; %pix 0.5726866319444445\n",
      "level 1; %pix 0.26122178819444447\n",
      "level 2; %pix 0.020971137152777777\n",
      "threshold 2\n",
      "percent activated pixels 0.020971137152777777\n",
      "max of morphed is 1\n",
      "1\n"
     ]
    },
    {
     "name": "stderr",
     "output_type": "stream",
     "text": [
      "\u001b[A\u001b[A\u001b[A\u001b[A"
     ]
    },
    {
     "name": "stdout",
     "output_type": "stream",
     "text": [
      "max at end of edge summation 2\n",
      "max at end of edge summation 2\n"
     ]
    },
    {
     "name": "stderr",
     "output_type": "stream",
     "text": [
      "\n",
      "\n",
      "\n",
      "\n",
      "\r",
      " 33%|███▎      | 396/1200 [03:14<06:32,  2.05it/s]"
     ]
    },
    {
     "name": "stdout",
     "output_type": "stream",
     "text": [
      "max at end of edge summation 1\n",
      "summer max 4\n",
      "level 0; %pix 0.5703559027777778\n",
      "level 1; %pix 0.26425672743055556\n",
      "level 2; %pix 0.02154079861111111\n",
      "threshold 2\n",
      "percent activated pixels 0.02154079861111111\n",
      "max of morphed is 1\n",
      "1\n"
     ]
    },
    {
     "name": "stderr",
     "output_type": "stream",
     "text": [
      "\u001b[A\u001b[A\u001b[A\u001b[A"
     ]
    },
    {
     "name": "stdout",
     "output_type": "stream",
     "text": [
      "max at end of edge summation 2\n",
      "max at end of edge summation 2\n"
     ]
    },
    {
     "name": "stderr",
     "output_type": "stream",
     "text": [
      "\n",
      "\n",
      "\n",
      "\n",
      "\r",
      " 33%|███▎      | 397/1200 [03:15<06:35,  2.03it/s]"
     ]
    },
    {
     "name": "stdout",
     "output_type": "stream",
     "text": [
      "max at end of edge summation 1\n",
      "summer max 4\n",
      "level 0; %pix 0.5822146267361111\n",
      "level 1; %pix 0.2713888888888889\n",
      "level 2; %pix 0.02143120659722222\n",
      "threshold 2\n",
      "percent activated pixels 0.02143120659722222\n",
      "max of morphed is 1\n",
      "1\n"
     ]
    },
    {
     "name": "stderr",
     "output_type": "stream",
     "text": [
      "\u001b[A\u001b[A\u001b[A\u001b[A"
     ]
    },
    {
     "name": "stdout",
     "output_type": "stream",
     "text": [
      "max at end of edge summation 2\n",
      "max at end of edge summation 2\n"
     ]
    },
    {
     "name": "stderr",
     "output_type": "stream",
     "text": [
      "\n",
      "\n",
      "\n",
      "\n",
      "\r",
      " 33%|███▎      | 398/1200 [03:15<06:34,  2.03it/s]"
     ]
    },
    {
     "name": "stdout",
     "output_type": "stream",
     "text": [
      "max at end of edge summation 2\n",
      "summer max 4\n",
      "level 0; %pix 0.5762543402777778\n",
      "level 1; %pix 0.2563617621527778\n",
      "level 2; %pix 0.02029296875\n",
      "threshold 2\n",
      "percent activated pixels 0.02029296875\n",
      "max of morphed is 1\n",
      "1\n"
     ]
    },
    {
     "name": "stderr",
     "output_type": "stream",
     "text": [
      "\u001b[A\u001b[A\u001b[A\u001b[A"
     ]
    },
    {
     "name": "stdout",
     "output_type": "stream",
     "text": [
      "max at end of edge summation 2\n",
      "max at end of edge summation 2\n"
     ]
    },
    {
     "name": "stderr",
     "output_type": "stream",
     "text": [
      "\n",
      "\n",
      "\n",
      "\n",
      "\r",
      " 33%|███▎      | 399/1200 [03:16<06:32,  2.04it/s]"
     ]
    },
    {
     "name": "stdout",
     "output_type": "stream",
     "text": [
      "max at end of edge summation 1\n",
      "summer max 4\n",
      "level 0; %pix 0.5801681857638888\n",
      "level 1; %pix 0.2698480902777778\n",
      "level 2; %pix 0.021665581597222223\n",
      "threshold 2\n",
      "percent activated pixels 0.021665581597222223\n",
      "max of morphed is 1\n",
      "1\n"
     ]
    },
    {
     "name": "stderr",
     "output_type": "stream",
     "text": [
      "\u001b[A\u001b[A\u001b[A\u001b[A"
     ]
    },
    {
     "name": "stdout",
     "output_type": "stream",
     "text": [
      "max at end of edge summation 2\n",
      "max at end of edge summation 2\n"
     ]
    },
    {
     "name": "stderr",
     "output_type": "stream",
     "text": [
      "\n",
      "\n",
      "\n",
      "\n",
      "\r",
      " 33%|███▎      | 400/1200 [03:16<06:33,  2.03it/s]"
     ]
    },
    {
     "name": "stdout",
     "output_type": "stream",
     "text": [
      "max at end of edge summation 1\n",
      "summer max 4\n",
      "level 0; %pix 0.5977582465277778\n",
      "level 1; %pix 0.27814453125\n",
      "level 2; %pix 0.02236111111111111\n",
      "threshold 2\n",
      "percent activated pixels 0.02236111111111111\n",
      "max of morphed is 1\n",
      "1\n"
     ]
    },
    {
     "name": "stderr",
     "output_type": "stream",
     "text": [
      "\u001b[A\u001b[A\u001b[A\u001b[A"
     ]
    },
    {
     "name": "stdout",
     "output_type": "stream",
     "text": [
      "max at end of edge summation 2\n",
      "max at end of edge summation 1\n"
     ]
    },
    {
     "name": "stderr",
     "output_type": "stream",
     "text": [
      "\n",
      "\n",
      "\n",
      "\n",
      "\r",
      " 33%|███▎      | 401/1200 [03:17<06:32,  2.04it/s]"
     ]
    },
    {
     "name": "stdout",
     "output_type": "stream",
     "text": [
      "max at end of edge summation 1\n",
      "summer max 4\n",
      "level 0; %pix 0.5864637586805556\n",
      "level 1; %pix 0.2648263888888889\n",
      "level 2; %pix 0.02062717013888889\n",
      "threshold 2\n",
      "percent activated pixels 0.02062717013888889\n",
      "max of morphed is 1\n",
      "1\n"
     ]
    },
    {
     "name": "stderr",
     "output_type": "stream",
     "text": [
      "\u001b[A\u001b[A\u001b[A\u001b[A"
     ]
    },
    {
     "name": "stdout",
     "output_type": "stream",
     "text": [
      "max at end of edge summation 2\n",
      "max at end of edge summation 2\n"
     ]
    },
    {
     "name": "stderr",
     "output_type": "stream",
     "text": [
      "\n",
      "\n",
      "\n",
      "\n",
      "\r",
      " 34%|███▎      | 402/1200 [03:17<06:37,  2.01it/s]"
     ]
    },
    {
     "name": "stdout",
     "output_type": "stream",
     "text": [
      "max at end of edge summation 1\n",
      "summer max 4\n",
      "level 0; %pix 0.5934288194444445\n",
      "level 1; %pix 0.26638346354166664\n",
      "level 2; %pix 0.020764973958333332\n",
      "threshold 2\n",
      "percent activated pixels 0.020764973958333332\n",
      "max of morphed is 1\n",
      "1\n"
     ]
    },
    {
     "name": "stderr",
     "output_type": "stream",
     "text": [
      "\u001b[A\u001b[A\u001b[A\u001b[A"
     ]
    },
    {
     "name": "stdout",
     "output_type": "stream",
     "text": [
      "max at end of edge summation 2\n",
      "max at end of edge summation 2\n"
     ]
    },
    {
     "name": "stderr",
     "output_type": "stream",
     "text": [
      "\n",
      "\n",
      "\n",
      "\n",
      "\r",
      " 34%|███▎      | 403/1200 [03:18<06:40,  1.99it/s]"
     ]
    },
    {
     "name": "stdout",
     "output_type": "stream",
     "text": [
      "max at end of edge summation 1\n",
      "summer max 4\n",
      "level 0; %pix 0.5926041666666667\n",
      "level 1; %pix 0.2699142795138889\n",
      "level 2; %pix 0.021158854166666668\n",
      "threshold 2\n",
      "percent activated pixels 0.021158854166666668\n",
      "max of morphed is 1\n",
      "1\n"
     ]
    },
    {
     "name": "stderr",
     "output_type": "stream",
     "text": [
      "\u001b[A\u001b[A\u001b[A\u001b[A"
     ]
    },
    {
     "name": "stdout",
     "output_type": "stream",
     "text": [
      "max at end of edge summation 2\n",
      "max at end of edge summation 2\n"
     ]
    },
    {
     "name": "stderr",
     "output_type": "stream",
     "text": [
      "\n",
      "\n",
      "\n",
      "\n",
      "\r",
      " 34%|███▎      | 404/1200 [03:18<06:44,  1.97it/s]"
     ]
    },
    {
     "name": "stdout",
     "output_type": "stream",
     "text": [
      "max at end of edge summation 1\n",
      "summer max 4\n",
      "level 0; %pix 0.6005425347222222\n",
      "level 1; %pix 0.27453450520833333\n",
      "level 2; %pix 0.022692057291666668\n",
      "threshold 2\n",
      "percent activated pixels 0.022692057291666668\n",
      "max of morphed is 1\n",
      "1\n"
     ]
    },
    {
     "name": "stderr",
     "output_type": "stream",
     "text": [
      "\u001b[A\u001b[A\u001b[A\u001b[A"
     ]
    },
    {
     "name": "stdout",
     "output_type": "stream",
     "text": [
      "max at end of edge summation 2\n",
      "max at end of edge summation 2\n"
     ]
    },
    {
     "name": "stderr",
     "output_type": "stream",
     "text": [
      "\n",
      "\n",
      "\n",
      "\n",
      "\r",
      " 34%|███▍      | 405/1200 [03:19<06:45,  1.96it/s]"
     ]
    },
    {
     "name": "stdout",
     "output_type": "stream",
     "text": [
      "max at end of edge summation 1\n",
      "summer max 4\n",
      "level 0; %pix 0.6041623263888889\n",
      "level 1; %pix 0.27173828125\n",
      "level 2; %pix 0.02377387152777778\n",
      "threshold 2\n",
      "percent activated pixels 0.02377387152777778\n",
      "max of morphed is 1\n",
      "1\n"
     ]
    },
    {
     "name": "stderr",
     "output_type": "stream",
     "text": [
      "\u001b[A\u001b[A\u001b[A\u001b[A"
     ]
    },
    {
     "name": "stdout",
     "output_type": "stream",
     "text": [
      "max at end of edge summation 2\n",
      "max at end of edge summation 2\n"
     ]
    },
    {
     "name": "stderr",
     "output_type": "stream",
     "text": [
      "\n",
      "\n",
      "\n",
      "\n",
      "\r",
      " 34%|███▍      | 406/1200 [03:19<06:46,  1.95it/s]"
     ]
    },
    {
     "name": "stdout",
     "output_type": "stream",
     "text": [
      "max at end of edge summation 1\n",
      "summer max 4\n",
      "level 0; %pix 0.6043012152777778\n",
      "level 1; %pix 0.26739908854166666\n",
      "level 2; %pix 0.02454861111111111\n",
      "threshold 2\n",
      "percent activated pixels 0.02454861111111111\n",
      "max of morphed is 1\n",
      "1\n"
     ]
    },
    {
     "name": "stderr",
     "output_type": "stream",
     "text": [
      "\u001b[A\u001b[A\u001b[A\u001b[A"
     ]
    },
    {
     "name": "stdout",
     "output_type": "stream",
     "text": [
      "max at end of edge summation 2\n",
      "max at end of edge summation 2\n"
     ]
    },
    {
     "name": "stderr",
     "output_type": "stream",
     "text": [
      "\n",
      "\n",
      "\n",
      "\n",
      "\r",
      " 34%|███▍      | 407/1200 [03:20<06:38,  1.99it/s]"
     ]
    },
    {
     "name": "stdout",
     "output_type": "stream",
     "text": [
      "max at end of edge summation 2\n",
      "summer max 4\n",
      "level 0; %pix 0.615615234375\n",
      "level 1; %pix 0.270576171875\n",
      "level 2; %pix 0.025180121527777776\n",
      "threshold 2\n",
      "percent activated pixels 0.025180121527777776\n",
      "max of morphed is 1\n",
      "1\n"
     ]
    },
    {
     "name": "stderr",
     "output_type": "stream",
     "text": [
      "\u001b[A\u001b[A\u001b[A\u001b[A"
     ]
    },
    {
     "name": "stdout",
     "output_type": "stream",
     "text": [
      "max at end of edge summation 2\n",
      "max at end of edge summation 2\n"
     ]
    },
    {
     "name": "stderr",
     "output_type": "stream",
     "text": [
      "\n",
      "\n",
      "\n",
      "\n",
      "\r",
      " 34%|███▍      | 408/1200 [03:20<06:38,  1.99it/s]"
     ]
    },
    {
     "name": "stdout",
     "output_type": "stream",
     "text": [
      "max at end of edge summation 1\n",
      "summer max 4\n",
      "level 0; %pix 0.621220703125\n",
      "level 1; %pix 0.27268880208333335\n",
      "level 2; %pix 0.02626953125\n",
      "threshold 2\n",
      "percent activated pixels 0.02626953125\n",
      "max of morphed is 1\n",
      "1\n"
     ]
    },
    {
     "name": "stderr",
     "output_type": "stream",
     "text": [
      "\u001b[A\u001b[A\u001b[A\u001b[A"
     ]
    },
    {
     "name": "stdout",
     "output_type": "stream",
     "text": [
      "max at end of edge summation 2\n",
      "max at end of edge summation 2\n"
     ]
    },
    {
     "name": "stderr",
     "output_type": "stream",
     "text": [
      "\n",
      "\n",
      "\n",
      "\n",
      "\r",
      " 34%|███▍      | 409/1200 [03:21<06:41,  1.97it/s]"
     ]
    },
    {
     "name": "stdout",
     "output_type": "stream",
     "text": [
      "max at end of edge summation 1\n",
      "summer max 4\n",
      "level 0; %pix 0.6239377170138889\n",
      "level 1; %pix 0.2733865017361111\n",
      "level 2; %pix 0.027112630208333332\n",
      "threshold 2\n",
      "percent activated pixels 0.027112630208333332\n",
      "max of morphed is 1\n",
      "1\n"
     ]
    },
    {
     "name": "stderr",
     "output_type": "stream",
     "text": [
      "\u001b[A\u001b[A\u001b[A\u001b[A"
     ]
    },
    {
     "name": "stdout",
     "output_type": "stream",
     "text": [
      "max at end of edge summation 2\n",
      "max at end of edge summation 2\n"
     ]
    },
    {
     "name": "stderr",
     "output_type": "stream",
     "text": [
      "\n",
      "\n",
      "\n",
      "\n",
      "\r",
      " 34%|███▍      | 410/1200 [03:21<06:45,  1.95it/s]"
     ]
    },
    {
     "name": "stdout",
     "output_type": "stream",
     "text": [
      "max at end of edge summation 1\n",
      "summer max 4\n",
      "level 0; %pix 0.6262706163194445\n",
      "level 1; %pix 0.2735405815972222\n",
      "level 2; %pix 0.02733940972222222\n",
      "threshold 2\n",
      "percent activated pixels 0.02733940972222222\n",
      "max of morphed is 1\n",
      "1\n"
     ]
    },
    {
     "name": "stderr",
     "output_type": "stream",
     "text": [
      "\u001b[A\u001b[A\u001b[A\u001b[A"
     ]
    },
    {
     "name": "stdout",
     "output_type": "stream",
     "text": [
      "max at end of edge summation 2\n",
      "max at end of edge summation 2\n"
     ]
    },
    {
     "name": "stderr",
     "output_type": "stream",
     "text": [
      "\n",
      "\n",
      "\n",
      "\n",
      "\r",
      " 34%|███▍      | 411/1200 [03:22<06:51,  1.92it/s]"
     ]
    },
    {
     "name": "stdout",
     "output_type": "stream",
     "text": [
      "max at end of edge summation 1\n",
      "summer max 4\n",
      "level 0; %pix 0.6318174913194444\n",
      "level 1; %pix 0.27509440104166666\n",
      "level 2; %pix 0.02812934027777778\n",
      "threshold 2\n",
      "percent activated pixels 0.02812934027777778\n",
      "max of morphed is 1\n",
      "1\n"
     ]
    },
    {
     "name": "stderr",
     "output_type": "stream",
     "text": [
      "\u001b[A\u001b[A\u001b[A\u001b[A"
     ]
    },
    {
     "name": "stdout",
     "output_type": "stream",
     "text": [
      "max at end of edge summation 2\n",
      "max at end of edge summation 2\n"
     ]
    },
    {
     "name": "stderr",
     "output_type": "stream",
     "text": [
      "\n",
      "\n",
      "\n",
      "\n",
      "\r",
      " 34%|███▍      | 412/1200 [03:22<06:51,  1.92it/s]"
     ]
    },
    {
     "name": "stdout",
     "output_type": "stream",
     "text": [
      "max at end of edge summation 1\n",
      "summer max 4\n",
      "level 0; %pix 0.6338530815972222\n",
      "level 1; %pix 0.2761469184027778\n",
      "level 2; %pix 0.027891710069444443\n",
      "threshold 2\n",
      "percent activated pixels 0.027891710069444443\n",
      "max of morphed is 1\n",
      "1\n"
     ]
    },
    {
     "name": "stderr",
     "output_type": "stream",
     "text": [
      "\u001b[A\u001b[A\u001b[A\u001b[A"
     ]
    },
    {
     "name": "stdout",
     "output_type": "stream",
     "text": [
      "max at end of edge summation 2\n",
      "max at end of edge summation 2\n"
     ]
    },
    {
     "name": "stderr",
     "output_type": "stream",
     "text": [
      "\n",
      "\n",
      "\n",
      "\n",
      "\r",
      " 34%|███▍      | 413/1200 [03:23<06:45,  1.94it/s]"
     ]
    },
    {
     "name": "stdout",
     "output_type": "stream",
     "text": [
      "max at end of edge summation 1\n",
      "summer max 4\n",
      "level 0; %pix 0.6288953993055556\n",
      "level 1; %pix 0.26994466145833335\n",
      "level 2; %pix 0.025174696180555556\n",
      "threshold 2\n",
      "percent activated pixels 0.025174696180555556\n",
      "max of morphed is 1\n",
      "1\n"
     ]
    },
    {
     "name": "stderr",
     "output_type": "stream",
     "text": [
      "\u001b[A\u001b[A\u001b[A\u001b[A"
     ]
    },
    {
     "name": "stdout",
     "output_type": "stream",
     "text": [
      "max at end of edge summation 2\n",
      "max at end of edge summation 2\n"
     ]
    },
    {
     "name": "stderr",
     "output_type": "stream",
     "text": [
      "\n",
      "\n",
      "\n",
      "\n",
      "\r",
      " 34%|███▍      | 414/1200 [03:23<06:50,  1.92it/s]"
     ]
    },
    {
     "name": "stdout",
     "output_type": "stream",
     "text": [
      "max at end of edge summation 1\n",
      "summer max 4\n",
      "level 0; %pix 0.6178483072916666\n",
      "level 1; %pix 0.2679806857638889\n",
      "level 2; %pix 0.02509765625\n",
      "threshold 2\n",
      "percent activated pixels 0.02509765625\n",
      "max of morphed is 1\n",
      "1\n"
     ]
    },
    {
     "name": "stderr",
     "output_type": "stream",
     "text": [
      "\u001b[A\u001b[A\u001b[A\u001b[A"
     ]
    },
    {
     "name": "stdout",
     "output_type": "stream",
     "text": [
      "max at end of edge summation 2\n",
      "max at end of edge summation 2\n"
     ]
    },
    {
     "name": "stderr",
     "output_type": "stream",
     "text": [
      "\n",
      "\n",
      "\n",
      "\n",
      "\r",
      " 35%|███▍      | 415/1200 [03:24<06:52,  1.90it/s]"
     ]
    },
    {
     "name": "stdout",
     "output_type": "stream",
     "text": [
      "max at end of edge summation 1\n",
      "summer max 4\n",
      "level 0; %pix 0.6065787760416667\n",
      "level 1; %pix 0.2840603298611111\n",
      "level 2; %pix 0.030504557291666668\n",
      "threshold 2\n",
      "percent activated pixels 0.030504557291666668\n",
      "max of morphed is 1\n",
      "1\n"
     ]
    },
    {
     "name": "stderr",
     "output_type": "stream",
     "text": [
      "\u001b[A\u001b[A\u001b[A\u001b[A"
     ]
    },
    {
     "name": "stdout",
     "output_type": "stream",
     "text": [
      "max at end of edge summation 2\n",
      "max at end of edge summation 2\n"
     ]
    },
    {
     "name": "stderr",
     "output_type": "stream",
     "text": [
      "\n",
      "\n",
      "\n",
      "\n",
      "\r",
      " 35%|███▍      | 416/1200 [03:24<06:51,  1.90it/s]"
     ]
    },
    {
     "name": "stdout",
     "output_type": "stream",
     "text": [
      "max at end of edge summation 1\n",
      "summer max 4\n",
      "level 0; %pix 0.6217133246527777\n",
      "level 1; %pix 0.28676649305555557\n",
      "level 2; %pix 0.031136067708333333\n",
      "threshold 2\n",
      "percent activated pixels 0.031136067708333333\n",
      "max of morphed is 1\n",
      "1\n"
     ]
    },
    {
     "name": "stderr",
     "output_type": "stream",
     "text": [
      "\u001b[A\u001b[A\u001b[A\u001b[A"
     ]
    },
    {
     "name": "stdout",
     "output_type": "stream",
     "text": [
      "max at end of edge summation 2\n",
      "max at end of edge summation 2\n"
     ]
    },
    {
     "name": "stderr",
     "output_type": "stream",
     "text": [
      "\n",
      "\n",
      "\n",
      "\n",
      "\r",
      " 35%|███▍      | 417/1200 [03:25<06:54,  1.89it/s]"
     ]
    },
    {
     "name": "stdout",
     "output_type": "stream",
     "text": [
      "max at end of edge summation 1\n",
      "summer max 4\n",
      "level 0; %pix 0.6162261284722222\n",
      "level 1; %pix 0.2647026909722222\n",
      "level 2; %pix 0.0266015625\n",
      "threshold 2\n",
      "percent activated pixels 0.0266015625\n",
      "max of morphed is 1\n",
      "1\n"
     ]
    },
    {
     "name": "stderr",
     "output_type": "stream",
     "text": [
      "\u001b[A\u001b[A\u001b[A\u001b[A"
     ]
    },
    {
     "name": "stdout",
     "output_type": "stream",
     "text": [
      "max at end of edge summation 2\n",
      "max at end of edge summation 2\n"
     ]
    },
    {
     "name": "stderr",
     "output_type": "stream",
     "text": [
      "\n",
      "\n",
      "\n",
      "\n",
      "\r",
      " 35%|███▍      | 418/1200 [03:25<06:56,  1.88it/s]"
     ]
    },
    {
     "name": "stdout",
     "output_type": "stream",
     "text": [
      "max at end of edge summation 1\n",
      "summer max 4\n",
      "level 0; %pix 0.6280881076388889\n",
      "level 1; %pix 0.2674251302083333\n",
      "level 2; %pix 0.026828342013888888\n",
      "threshold 2\n",
      "percent activated pixels 0.026828342013888888\n",
      "max of morphed is 1\n",
      "1\n"
     ]
    },
    {
     "name": "stderr",
     "output_type": "stream",
     "text": [
      "\u001b[A\u001b[A\u001b[A\u001b[A"
     ]
    },
    {
     "name": "stdout",
     "output_type": "stream",
     "text": [
      "max at end of edge summation 2\n",
      "max at end of edge summation 2\n"
     ]
    },
    {
     "name": "stderr",
     "output_type": "stream",
     "text": [
      "\n",
      "\n",
      "\n",
      "\n",
      "\r",
      " 35%|███▍      | 419/1200 [03:26<06:49,  1.91it/s]"
     ]
    },
    {
     "name": "stdout",
     "output_type": "stream",
     "text": [
      "max at end of edge summation 1\n",
      "summer max 4\n",
      "level 0; %pix 0.6316655815972222\n",
      "level 1; %pix 0.27050455729166667\n",
      "level 2; %pix 0.026950954861111112\n",
      "threshold 2\n",
      "percent activated pixels 0.026950954861111112\n",
      "max of morphed is 1\n",
      "1\n"
     ]
    },
    {
     "name": "stderr",
     "output_type": "stream",
     "text": [
      "\u001b[A\u001b[A\u001b[A\u001b[A"
     ]
    },
    {
     "name": "stdout",
     "output_type": "stream",
     "text": [
      "max at end of edge summation 2\n",
      "max at end of edge summation 2\n"
     ]
    },
    {
     "name": "stderr",
     "output_type": "stream",
     "text": [
      "\n",
      "\n",
      "\n",
      "\n",
      "\r",
      " 35%|███▌      | 420/1200 [03:26<06:49,  1.90it/s]"
     ]
    },
    {
     "name": "stdout",
     "output_type": "stream",
     "text": [
      "max at end of edge summation 1\n",
      "summer max 4\n",
      "level 0; %pix 0.6368760850694445\n",
      "level 1; %pix 0.27310112847222223\n",
      "level 2; %pix 0.028250868055555555\n",
      "threshold 2\n",
      "percent activated pixels 0.028250868055555555\n",
      "max of morphed is 1\n",
      "1\n"
     ]
    },
    {
     "name": "stderr",
     "output_type": "stream",
     "text": [
      "\u001b[A\u001b[A\u001b[A\u001b[A"
     ]
    },
    {
     "name": "stdout",
     "output_type": "stream",
     "text": [
      "max at end of edge summation 2\n",
      "max at end of edge summation 2\n"
     ]
    },
    {
     "name": "stderr",
     "output_type": "stream",
     "text": [
      "\n",
      "\n",
      "\n",
      "\n",
      "\r",
      " 35%|███▌      | 421/1200 [03:27<06:47,  1.91it/s]"
     ]
    },
    {
     "name": "stdout",
     "output_type": "stream",
     "text": [
      "max at end of edge summation 1\n",
      "summer max 4\n",
      "level 0; %pix 0.6499815538194444\n",
      "level 1; %pix 0.2777224392361111\n",
      "level 2; %pix 0.030209418402777778\n",
      "threshold 2\n",
      "percent activated pixels 0.030209418402777778\n",
      "max of morphed is 1\n",
      "1\n"
     ]
    },
    {
     "name": "stderr",
     "output_type": "stream",
     "text": [
      "\u001b[A\u001b[A\u001b[A\u001b[A"
     ]
    },
    {
     "name": "stdout",
     "output_type": "stream",
     "text": [
      "max at end of edge summation 2\n",
      "max at end of edge summation 2\n"
     ]
    },
    {
     "name": "stderr",
     "output_type": "stream",
     "text": [
      "\n",
      "\n",
      "\n",
      "\n",
      "\r",
      " 35%|███▌      | 422/1200 [03:28<06:47,  1.91it/s]"
     ]
    },
    {
     "name": "stdout",
     "output_type": "stream",
     "text": [
      "max at end of edge summation 1\n",
      "summer max 4\n",
      "level 0; %pix 0.6379166666666667\n",
      "level 1; %pix 0.27502061631944447\n",
      "level 2; %pix 0.029715711805555555\n",
      "threshold 2\n",
      "percent activated pixels 0.029715711805555555\n",
      "max of morphed is 1\n",
      "1\n"
     ]
    },
    {
     "name": "stderr",
     "output_type": "stream",
     "text": [
      "\u001b[A\u001b[A\u001b[A\u001b[A"
     ]
    },
    {
     "name": "stdout",
     "output_type": "stream",
     "text": [
      "max at end of edge summation 2\n",
      "max at end of edge summation 2\n"
     ]
    },
    {
     "name": "stderr",
     "output_type": "stream",
     "text": [
      "\n",
      "\n",
      "\n",
      "\n",
      "\r",
      " 35%|███▌      | 423/1200 [03:28<06:46,  1.91it/s]"
     ]
    },
    {
     "name": "stdout",
     "output_type": "stream",
     "text": [
      "max at end of edge summation 1\n",
      "summer max 4\n",
      "level 0; %pix 0.6454557291666667\n",
      "level 1; %pix 0.2786469184027778\n",
      "level 2; %pix 0.029375\n",
      "threshold 2\n",
      "percent activated pixels 0.029375\n",
      "max of morphed is 1\n",
      "1\n"
     ]
    },
    {
     "name": "stderr",
     "output_type": "stream",
     "text": [
      "\u001b[A\u001b[A\u001b[A\u001b[A"
     ]
    },
    {
     "name": "stdout",
     "output_type": "stream",
     "text": [
      "max at end of edge summation 2\n",
      "max at end of edge summation 2\n"
     ]
    },
    {
     "name": "stderr",
     "output_type": "stream",
     "text": [
      "\n",
      "\n",
      "\n",
      "\n",
      "\r",
      " 35%|███▌      | 424/1200 [03:29<06:46,  1.91it/s]"
     ]
    },
    {
     "name": "stdout",
     "output_type": "stream",
     "text": [
      "max at end of edge summation 1\n",
      "summer max 4\n",
      "level 0; %pix 0.6500162760416667\n",
      "level 1; %pix 0.2823459201388889\n",
      "level 2; %pix 0.029852430555555556\n",
      "threshold 2\n",
      "percent activated pixels 0.029852430555555556\n",
      "max of morphed is 1\n",
      "1\n"
     ]
    },
    {
     "name": "stderr",
     "output_type": "stream",
     "text": [
      "\u001b[A\u001b[A\u001b[A\u001b[A"
     ]
    },
    {
     "name": "stdout",
     "output_type": "stream",
     "text": [
      "max at end of edge summation 2\n",
      "max at end of edge summation 1\n"
     ]
    },
    {
     "name": "stderr",
     "output_type": "stream",
     "text": [
      "\n",
      "\n",
      "\n",
      "\n",
      "\r",
      " 35%|███▌      | 425/1200 [03:29<06:41,  1.93it/s]"
     ]
    },
    {
     "name": "stdout",
     "output_type": "stream",
     "text": [
      "max at end of edge summation 1\n",
      "summer max 4\n",
      "level 0; %pix 0.6505577256944445\n",
      "level 1; %pix 0.2838541666666667\n",
      "level 2; %pix 0.02903103298611111\n",
      "threshold 2\n",
      "percent activated pixels 0.02903103298611111\n",
      "max of morphed is 1\n",
      "1\n"
     ]
    },
    {
     "name": "stderr",
     "output_type": "stream",
     "text": [
      "\u001b[A\u001b[A\u001b[A\u001b[A"
     ]
    },
    {
     "name": "stdout",
     "output_type": "stream",
     "text": [
      "max at end of edge summation 2\n",
      "max at end of edge summation 2\n"
     ]
    },
    {
     "name": "stderr",
     "output_type": "stream",
     "text": [
      "\n",
      "\n",
      "\n",
      "\n",
      "\r",
      " 36%|███▌      | 426/1200 [03:30<06:42,  1.92it/s]"
     ]
    },
    {
     "name": "stdout",
     "output_type": "stream",
     "text": [
      "max at end of edge summation 1\n",
      "summer max 4\n",
      "level 0; %pix 0.6498220486111111\n",
      "level 1; %pix 0.28497287326388887\n",
      "level 2; %pix 0.029283854166666668\n",
      "threshold 2\n",
      "percent activated pixels 0.029283854166666668\n",
      "max of morphed is 1\n",
      "1\n"
     ]
    },
    {
     "name": "stderr",
     "output_type": "stream",
     "text": [
      "\u001b[A\u001b[A\u001b[A\u001b[A"
     ]
    },
    {
     "name": "stdout",
     "output_type": "stream",
     "text": [
      "max at end of edge summation 2\n",
      "max at end of edge summation 2\n"
     ]
    },
    {
     "name": "stderr",
     "output_type": "stream",
     "text": [
      "\n",
      "\n",
      "\n",
      "\n",
      "\r",
      " 36%|███▌      | 427/1200 [03:30<06:41,  1.92it/s]"
     ]
    },
    {
     "name": "stdout",
     "output_type": "stream",
     "text": [
      "max at end of edge summation 1\n",
      "summer max 4\n",
      "level 0; %pix 0.6504242621527778\n",
      "level 1; %pix 0.2868435329861111\n",
      "level 2; %pix 0.02966796875\n",
      "threshold 2\n",
      "percent activated pixels 0.02966796875\n",
      "max of morphed is 1\n",
      "1\n"
     ]
    },
    {
     "name": "stderr",
     "output_type": "stream",
     "text": [
      "\u001b[A\u001b[A\u001b[A\u001b[A"
     ]
    },
    {
     "name": "stdout",
     "output_type": "stream",
     "text": [
      "max at end of edge summation 2\n",
      "max at end of edge summation 2\n"
     ]
    },
    {
     "name": "stderr",
     "output_type": "stream",
     "text": [
      "\n",
      "\n",
      "\n",
      "\n",
      "\r",
      " 36%|███▌      | 428/1200 [03:31<06:42,  1.92it/s]"
     ]
    },
    {
     "name": "stdout",
     "output_type": "stream",
     "text": [
      "max at end of edge summation 2\n",
      "summer max 4\n",
      "level 0; %pix 0.6503895399305556\n",
      "level 1; %pix 0.2871440972222222\n",
      "level 2; %pix 0.030143229166666667\n",
      "threshold 2\n",
      "percent activated pixels 0.030143229166666667\n",
      "max of morphed is 1\n",
      "1\n"
     ]
    },
    {
     "name": "stderr",
     "output_type": "stream",
     "text": [
      "\u001b[A\u001b[A\u001b[A\u001b[A"
     ]
    },
    {
     "name": "stdout",
     "output_type": "stream",
     "text": [
      "max at end of edge summation 2\n",
      "max at end of edge summation 2\n"
     ]
    },
    {
     "name": "stderr",
     "output_type": "stream",
     "text": [
      "\n",
      "\n",
      "\n",
      "\n",
      "\r",
      " 36%|███▌      | 429/1200 [03:31<06:41,  1.92it/s]"
     ]
    },
    {
     "name": "stdout",
     "output_type": "stream",
     "text": [
      "max at end of edge summation 2\n",
      "summer max 4\n",
      "level 0; %pix 0.6506673177083333\n",
      "level 1; %pix 0.28707139756944444\n",
      "level 2; %pix 0.030419921875\n",
      "threshold 2\n",
      "percent activated pixels 0.030419921875\n",
      "max of morphed is 1\n",
      "1\n"
     ]
    },
    {
     "name": "stderr",
     "output_type": "stream",
     "text": [
      "\u001b[A\u001b[A\u001b[A\u001b[A"
     ]
    },
    {
     "name": "stdout",
     "output_type": "stream",
     "text": [
      "max at end of edge summation 2\n",
      "max at end of edge summation 2\n"
     ]
    },
    {
     "name": "stderr",
     "output_type": "stream",
     "text": [
      "\n",
      "\n",
      "\n",
      "\n",
      "\r",
      " 36%|███▌      | 430/1200 [03:32<06:39,  1.93it/s]"
     ]
    },
    {
     "name": "stdout",
     "output_type": "stream",
     "text": [
      "max at end of edge summation 2\n",
      "summer max 4\n",
      "level 0; %pix 0.6491731770833333\n",
      "level 1; %pix 0.2862456597222222\n",
      "level 2; %pix 0.030774739583333332\n",
      "threshold 2\n",
      "percent activated pixels 0.030774739583333332\n",
      "max of morphed is 1\n",
      "1\n"
     ]
    },
    {
     "name": "stderr",
     "output_type": "stream",
     "text": [
      "\u001b[A\u001b[A\u001b[A\u001b[A"
     ]
    },
    {
     "name": "stdout",
     "output_type": "stream",
     "text": [
      "max at end of edge summation 2\n",
      "max at end of edge summation 2\n"
     ]
    },
    {
     "name": "stderr",
     "output_type": "stream",
     "text": [
      "\n",
      "\n",
      "\n",
      "\n",
      "\r",
      " 36%|███▌      | 431/1200 [03:32<06:30,  1.97it/s]"
     ]
    },
    {
     "name": "stdout",
     "output_type": "stream",
     "text": [
      "max at end of edge summation 1\n",
      "summer max 4\n",
      "level 0; %pix 0.6455989583333334\n",
      "level 1; %pix 0.28570203993055554\n",
      "level 2; %pix 0.030756293402777777\n",
      "threshold 2\n",
      "percent activated pixels 0.030756293402777777\n",
      "max of morphed is 1\n",
      "1\n"
     ]
    },
    {
     "name": "stderr",
     "output_type": "stream",
     "text": [
      "\u001b[A\u001b[A\u001b[A\u001b[A"
     ]
    },
    {
     "name": "stdout",
     "output_type": "stream",
     "text": [
      "max at end of edge summation 2\n",
      "max at end of edge summation 2\n"
     ]
    },
    {
     "name": "stderr",
     "output_type": "stream",
     "text": [
      "\n",
      "\n",
      "\n",
      "\n",
      "\r",
      " 36%|███▌      | 432/1200 [03:33<06:30,  1.96it/s]"
     ]
    },
    {
     "name": "stdout",
     "output_type": "stream",
     "text": [
      "max at end of edge summation 1\n",
      "summer max 4\n",
      "level 0; %pix 0.6414279513888889\n",
      "level 1; %pix 0.28374348958333334\n",
      "level 2; %pix 0.031231553819444445\n",
      "threshold 2\n",
      "percent activated pixels 0.031231553819444445\n",
      "max of morphed is 1\n",
      "1\n"
     ]
    },
    {
     "name": "stderr",
     "output_type": "stream",
     "text": [
      "\u001b[A\u001b[A\u001b[A\u001b[A"
     ]
    },
    {
     "name": "stdout",
     "output_type": "stream",
     "text": [
      "max at end of edge summation 2\n",
      "max at end of edge summation 2\n"
     ]
    },
    {
     "name": "stderr",
     "output_type": "stream",
     "text": [
      "\n",
      "\n",
      "\n",
      "\n",
      "\r",
      " 36%|███▌      | 433/1200 [03:33<06:29,  1.97it/s]"
     ]
    },
    {
     "name": "stdout",
     "output_type": "stream",
     "text": [
      "max at end of edge summation 1\n",
      "summer max 4\n",
      "level 0; %pix 0.6388292100694445\n",
      "level 1; %pix 0.28173611111111113\n",
      "level 2; %pix 0.03095269097222222\n",
      "threshold 2\n",
      "percent activated pixels 0.03095269097222222\n",
      "max of morphed is 1\n",
      "1\n"
     ]
    },
    {
     "name": "stderr",
     "output_type": "stream",
     "text": [
      "\u001b[A\u001b[A\u001b[A\u001b[A"
     ]
    },
    {
     "name": "stdout",
     "output_type": "stream",
     "text": [
      "max at end of edge summation 2\n",
      "max at end of edge summation 2\n"
     ]
    },
    {
     "name": "stderr",
     "output_type": "stream",
     "text": [
      "\n",
      "\n",
      "\n",
      "\n",
      "\r",
      " 36%|███▌      | 434/1200 [03:34<06:26,  1.98it/s]"
     ]
    },
    {
     "name": "stdout",
     "output_type": "stream",
     "text": [
      "max at end of edge summation 1\n",
      "summer max 4\n",
      "level 0; %pix 0.6310329861111111\n",
      "level 1; %pix 0.27646592881944443\n",
      "level 2; %pix 0.030405815972222222\n",
      "threshold 2\n",
      "percent activated pixels 0.030405815972222222\n",
      "max of morphed is 1\n",
      "1\n"
     ]
    },
    {
     "name": "stderr",
     "output_type": "stream",
     "text": [
      "\u001b[A\u001b[A\u001b[A\u001b[A"
     ]
    },
    {
     "name": "stdout",
     "output_type": "stream",
     "text": [
      "max at end of edge summation 2\n",
      "max at end of edge summation 2\n"
     ]
    },
    {
     "name": "stderr",
     "output_type": "stream",
     "text": [
      "\n",
      "\n",
      "\n",
      "\n",
      "\r",
      " 36%|███▋      | 435/1200 [03:34<06:26,  1.98it/s]"
     ]
    },
    {
     "name": "stdout",
     "output_type": "stream",
     "text": [
      "max at end of edge summation 1\n",
      "summer max 4\n",
      "level 0; %pix 0.5848936631944445\n",
      "level 1; %pix 0.26253580729166665\n",
      "level 2; %pix 0.030330946180555554\n",
      "threshold 2\n",
      "percent activated pixels 0.030330946180555554\n",
      "max of morphed is 1\n",
      "1\n"
     ]
    },
    {
     "name": "stderr",
     "output_type": "stream",
     "text": [
      "\u001b[A\u001b[A\u001b[A\u001b[A"
     ]
    },
    {
     "name": "stdout",
     "output_type": "stream",
     "text": [
      "max at end of edge summation 2\n",
      "max at end of edge summation 2\n"
     ]
    },
    {
     "name": "stderr",
     "output_type": "stream",
     "text": [
      "\n",
      "\n",
      "\n",
      "\n",
      "\r",
      " 36%|███▋      | 436/1200 [03:35<06:29,  1.96it/s]"
     ]
    },
    {
     "name": "stdout",
     "output_type": "stream",
     "text": [
      "max at end of edge summation 1\n",
      "summer max 4\n",
      "level 0; %pix 0.5842165798611111\n",
      "level 1; %pix 0.2742100694444444\n",
      "level 2; %pix 0.03204318576388889\n",
      "threshold 2\n",
      "percent activated pixels 0.03204318576388889\n",
      "max of morphed is 1\n",
      "1\n"
     ]
    },
    {
     "name": "stderr",
     "output_type": "stream",
     "text": [
      "\u001b[A\u001b[A\u001b[A\u001b[A"
     ]
    },
    {
     "name": "stdout",
     "output_type": "stream",
     "text": [
      "max at end of edge summation 2\n",
      "max at end of edge summation 2\n"
     ]
    },
    {
     "name": "stderr",
     "output_type": "stream",
     "text": [
      "\n",
      "\n",
      "\n",
      "\n",
      "\r",
      " 36%|███▋      | 437/1200 [03:35<06:22,  2.00it/s]"
     ]
    },
    {
     "name": "stdout",
     "output_type": "stream",
     "text": [
      "max at end of edge summation 1\n",
      "summer max 4\n",
      "level 0; %pix 0.5890223524305556\n",
      "level 1; %pix 0.2745236545138889\n",
      "level 2; %pix 0.03128363715277778\n",
      "threshold 2\n",
      "percent activated pixels 0.03128363715277778\n",
      "max of morphed is 1\n",
      "1\n"
     ]
    },
    {
     "name": "stderr",
     "output_type": "stream",
     "text": [
      "\u001b[A\u001b[A\u001b[A\u001b[A"
     ]
    },
    {
     "name": "stdout",
     "output_type": "stream",
     "text": [
      "max at end of edge summation 2\n",
      "max at end of edge summation 2\n"
     ]
    },
    {
     "name": "stderr",
     "output_type": "stream",
     "text": [
      "\n",
      "\n",
      "\n",
      "\n",
      "\r",
      " 36%|███▋      | 438/1200 [03:36<06:23,  1.99it/s]"
     ]
    },
    {
     "name": "stdout",
     "output_type": "stream",
     "text": [
      "max at end of edge summation 1\n",
      "summer max 4\n",
      "level 0; %pix 0.5916145833333334\n",
      "level 1; %pix 0.2731304253472222\n",
      "level 2; %pix 0.030041232638888887\n",
      "threshold 2\n",
      "percent activated pixels 0.030041232638888887\n",
      "max of morphed is 1\n",
      "1\n"
     ]
    },
    {
     "name": "stderr",
     "output_type": "stream",
     "text": [
      "\u001b[A\u001b[A\u001b[A\u001b[A"
     ]
    },
    {
     "name": "stdout",
     "output_type": "stream",
     "text": [
      "max at end of edge summation 2\n",
      "max at end of edge summation 2\n"
     ]
    },
    {
     "name": "stderr",
     "output_type": "stream",
     "text": [
      "\n",
      "\n",
      "\n",
      "\n",
      "\r",
      " 37%|███▋      | 439/1200 [03:36<06:22,  1.99it/s]"
     ]
    },
    {
     "name": "stdout",
     "output_type": "stream",
     "text": [
      "max at end of edge summation 1\n",
      "summer max 4\n",
      "level 0; %pix 0.6008778211805555\n",
      "level 1; %pix 0.2693532986111111\n",
      "level 2; %pix 0.029207899305555556\n",
      "threshold 2\n",
      "percent activated pixels 0.029207899305555556\n",
      "max of morphed is 1\n",
      "1\n"
     ]
    },
    {
     "name": "stderr",
     "output_type": "stream",
     "text": [
      "\u001b[A\u001b[A\u001b[A\u001b[A"
     ]
    },
    {
     "name": "stdout",
     "output_type": "stream",
     "text": [
      "max at end of edge summation 2\n",
      "max at end of edge summation 2\n"
     ]
    },
    {
     "name": "stderr",
     "output_type": "stream",
     "text": [
      "\n",
      "\n",
      "\n",
      "\n",
      "\r",
      " 37%|███▋      | 440/1200 [03:37<06:25,  1.97it/s]"
     ]
    },
    {
     "name": "stdout",
     "output_type": "stream",
     "text": [
      "max at end of edge summation 1\n",
      "summer max 4\n",
      "level 0; %pix 0.5945171440972222\n",
      "level 1; %pix 0.2782204861111111\n",
      "level 2; %pix 0.031032986111111112\n",
      "threshold 2\n",
      "percent activated pixels 0.031032986111111112\n",
      "max of morphed is 1\n",
      "1\n"
     ]
    },
    {
     "name": "stderr",
     "output_type": "stream",
     "text": [
      "\u001b[A\u001b[A\u001b[A\u001b[A"
     ]
    },
    {
     "name": "stdout",
     "output_type": "stream",
     "text": [
      "max at end of edge summation 2\n",
      "max at end of edge summation 2\n"
     ]
    },
    {
     "name": "stderr",
     "output_type": "stream",
     "text": [
      "\n",
      "\n",
      "\n",
      "\n",
      "\r",
      " 37%|███▋      | 441/1200 [03:37<06:24,  1.97it/s]"
     ]
    },
    {
     "name": "stdout",
     "output_type": "stream",
     "text": [
      "max at end of edge summation 1\n",
      "summer max 4\n",
      "level 0; %pix 0.5890798611111111\n",
      "level 1; %pix 0.2777951388888889\n",
      "level 2; %pix 0.03171875\n",
      "threshold 2\n",
      "percent activated pixels 0.03171875\n",
      "max of morphed is 1\n",
      "1\n"
     ]
    },
    {
     "name": "stderr",
     "output_type": "stream",
     "text": [
      "\u001b[A\u001b[A\u001b[A\u001b[A"
     ]
    },
    {
     "name": "stdout",
     "output_type": "stream",
     "text": [
      "max at end of edge summation 2\n",
      "max at end of edge summation 2\n"
     ]
    },
    {
     "name": "stderr",
     "output_type": "stream",
     "text": [
      "\n",
      "\n",
      "\n",
      "\n",
      "\r",
      " 37%|███▋      | 442/1200 [03:38<06:24,  1.97it/s]"
     ]
    },
    {
     "name": "stdout",
     "output_type": "stream",
     "text": [
      "max at end of edge summation 1\n",
      "summer max 4\n",
      "level 0; %pix 0.6062272135416666\n",
      "level 1; %pix 0.2868880208333333\n",
      "level 2; %pix 0.03274956597222222\n",
      "threshold 2\n",
      "percent activated pixels 0.03274956597222222\n",
      "max of morphed is 1\n",
      "1\n"
     ]
    },
    {
     "name": "stderr",
     "output_type": "stream",
     "text": [
      "\u001b[A\u001b[A\u001b[A\u001b[A"
     ]
    },
    {
     "name": "stdout",
     "output_type": "stream",
     "text": [
      "max at end of edge summation 2\n",
      "max at end of edge summation 2\n"
     ]
    },
    {
     "name": "stderr",
     "output_type": "stream",
     "text": [
      "\n",
      "\n",
      "\n",
      "\n",
      "\r",
      " 37%|███▋      | 443/1200 [03:38<06:19,  2.00it/s]"
     ]
    },
    {
     "name": "stdout",
     "output_type": "stream",
     "text": [
      "max at end of edge summation 1\n",
      "summer max 4\n",
      "level 0; %pix 0.5992230902777778\n",
      "level 1; %pix 0.26737738715277776\n",
      "level 2; %pix 0.030501302083333334\n",
      "threshold 2\n",
      "percent activated pixels 0.030501302083333334\n",
      "max of morphed is 1\n",
      "1\n"
     ]
    },
    {
     "name": "stderr",
     "output_type": "stream",
     "text": [
      "\u001b[A\u001b[A\u001b[A\u001b[A"
     ]
    },
    {
     "name": "stdout",
     "output_type": "stream",
     "text": [
      "max at end of edge summation 2\n",
      "max at end of edge summation 2\n"
     ]
    },
    {
     "name": "stderr",
     "output_type": "stream",
     "text": [
      "\n",
      "\n",
      "\n",
      "\n",
      "\r",
      " 37%|███▋      | 444/1200 [03:39<06:23,  1.97it/s]"
     ]
    },
    {
     "name": "stdout",
     "output_type": "stream",
     "text": [
      "max at end of edge summation 1\n",
      "summer max 4\n",
      "level 0; %pix 0.6086653645833333\n",
      "level 1; %pix 0.267861328125\n",
      "level 2; %pix 0.030616319444444446\n",
      "threshold 2\n",
      "percent activated pixels 0.030616319444444446\n",
      "max of morphed is 1\n",
      "1\n"
     ]
    },
    {
     "name": "stderr",
     "output_type": "stream",
     "text": [
      "\u001b[A\u001b[A\u001b[A\u001b[A"
     ]
    },
    {
     "name": "stdout",
     "output_type": "stream",
     "text": [
      "max at end of edge summation 2\n",
      "max at end of edge summation 2\n"
     ]
    },
    {
     "name": "stderr",
     "output_type": "stream",
     "text": [
      "\n",
      "\n",
      "\n",
      "\n",
      "\r",
      " 37%|███▋      | 445/1200 [03:39<06:22,  1.97it/s]"
     ]
    },
    {
     "name": "stdout",
     "output_type": "stream",
     "text": [
      "max at end of edge summation 1\n",
      "summer max 4\n",
      "level 0; %pix 0.6170594618055556\n",
      "level 1; %pix 0.2695540364583333\n",
      "level 2; %pix 0.031444227430555555\n",
      "threshold 2\n",
      "percent activated pixels 0.031444227430555555\n",
      "max of morphed is 1\n",
      "1\n"
     ]
    },
    {
     "name": "stderr",
     "output_type": "stream",
     "text": [
      "\u001b[A\u001b[A\u001b[A\u001b[A"
     ]
    },
    {
     "name": "stdout",
     "output_type": "stream",
     "text": [
      "max at end of edge summation 2\n",
      "max at end of edge summation 2\n"
     ]
    },
    {
     "name": "stderr",
     "output_type": "stream",
     "text": [
      "\n",
      "\n",
      "\n",
      "\n",
      "\r",
      " 37%|███▋      | 446/1200 [03:40<06:22,  1.97it/s]"
     ]
    },
    {
     "name": "stdout",
     "output_type": "stream",
     "text": [
      "max at end of edge summation 1\n",
      "summer max 4\n",
      "level 0; %pix 0.6238997395833333\n",
      "level 1; %pix 0.2716286892361111\n",
      "level 2; %pix 0.031898871527777775\n",
      "threshold 2\n",
      "percent activated pixels 0.031898871527777775\n",
      "max of morphed is 1\n",
      "1\n"
     ]
    },
    {
     "name": "stderr",
     "output_type": "stream",
     "text": [
      "\u001b[A\u001b[A\u001b[A\u001b[A"
     ]
    },
    {
     "name": "stdout",
     "output_type": "stream",
     "text": [
      "max at end of edge summation 2\n",
      "max at end of edge summation 2\n"
     ]
    },
    {
     "name": "stderr",
     "output_type": "stream",
     "text": [
      "\n",
      "\n",
      "\n",
      "\n",
      "\r",
      " 37%|███▋      | 447/1200 [03:40<06:24,  1.96it/s]"
     ]
    },
    {
     "name": "stdout",
     "output_type": "stream",
     "text": [
      "max at end of edge summation 1\n",
      "summer max 4\n",
      "level 0; %pix 0.6299435763888889\n",
      "level 1; %pix 0.2741330295138889\n",
      "level 2; %pix 0.03312717013888889\n",
      "threshold 2\n",
      "percent activated pixels 0.03312717013888889\n",
      "max of morphed is 1\n",
      "1\n"
     ]
    },
    {
     "name": "stderr",
     "output_type": "stream",
     "text": [
      "\u001b[A\u001b[A\u001b[A\u001b[A"
     ]
    },
    {
     "name": "stdout",
     "output_type": "stream",
     "text": [
      "max at end of edge summation 2\n",
      "max at end of edge summation 2\n"
     ]
    },
    {
     "name": "stderr",
     "output_type": "stream",
     "text": [
      "\n",
      "\n",
      "\n",
      "\n",
      "\r",
      " 37%|███▋      | 448/1200 [03:41<06:28,  1.94it/s]"
     ]
    },
    {
     "name": "stdout",
     "output_type": "stream",
     "text": [
      "max at end of edge summation 1\n",
      "summer max 4\n",
      "level 0; %pix 0.6359342447916667\n",
      "level 1; %pix 0.27737413194444444\n",
      "level 2; %pix 0.032943793402777775\n",
      "threshold 2\n",
      "percent activated pixels 0.032943793402777775\n",
      "max of morphed is 1\n",
      "1\n"
     ]
    },
    {
     "name": "stderr",
     "output_type": "stream",
     "text": [
      "\u001b[A\u001b[A\u001b[A\u001b[A"
     ]
    },
    {
     "name": "stdout",
     "output_type": "stream",
     "text": [
      "max at end of edge summation 2\n",
      "max at end of edge summation 2\n"
     ]
    },
    {
     "name": "stderr",
     "output_type": "stream",
     "text": [
      "\n",
      "\n",
      "\n",
      "\n",
      "\r",
      " 37%|███▋      | 449/1200 [03:41<06:24,  1.95it/s]"
     ]
    },
    {
     "name": "stdout",
     "output_type": "stream",
     "text": [
      "max at end of edge summation 1\n",
      "summer max 4\n",
      "level 0; %pix 0.6412760416666666\n",
      "level 1; %pix 0.27889539930555557\n",
      "level 2; %pix 0.03351996527777778\n",
      "threshold 2\n",
      "percent activated pixels 0.03351996527777778\n",
      "max of morphed is 1\n",
      "1\n"
     ]
    },
    {
     "name": "stderr",
     "output_type": "stream",
     "text": [
      "\u001b[A\u001b[A\u001b[A\u001b[A"
     ]
    },
    {
     "name": "stdout",
     "output_type": "stream",
     "text": [
      "max at end of edge summation 2\n",
      "max at end of edge summation 2\n"
     ]
    },
    {
     "name": "stderr",
     "output_type": "stream",
     "text": [
      "\n",
      "\n",
      "\n",
      "\n",
      "\r",
      " 38%|███▊      | 450/1200 [03:42<06:28,  1.93it/s]"
     ]
    },
    {
     "name": "stdout",
     "output_type": "stream",
     "text": [
      "max at end of edge summation 1\n",
      "summer max 4\n",
      "level 0; %pix 0.6457204861111111\n",
      "level 1; %pix 0.2799565972222222\n",
      "level 2; %pix 0.034051649305555556\n",
      "threshold 2\n",
      "percent activated pixels 0.034051649305555556\n",
      "max of morphed is 1\n",
      "1\n"
     ]
    },
    {
     "name": "stderr",
     "output_type": "stream",
     "text": [
      "\u001b[A\u001b[A\u001b[A\u001b[A"
     ]
    },
    {
     "name": "stdout",
     "output_type": "stream",
     "text": [
      "max at end of edge summation 2\n",
      "max at end of edge summation 2\n"
     ]
    },
    {
     "name": "stderr",
     "output_type": "stream",
     "text": [
      "\n",
      "\n",
      "\n",
      "\n",
      "\r",
      " 38%|███▊      | 451/1200 [03:42<06:29,  1.92it/s]"
     ]
    },
    {
     "name": "stdout",
     "output_type": "stream",
     "text": [
      "max at end of edge summation 1\n",
      "summer max 4\n",
      "level 0; %pix 0.64435546875\n",
      "level 1; %pix 0.277880859375\n",
      "level 2; %pix 0.03662543402777778\n",
      "threshold 2\n",
      "percent activated pixels 0.03662543402777778\n",
      "max of morphed is 1\n",
      "1\n"
     ]
    },
    {
     "name": "stderr",
     "output_type": "stream",
     "text": [
      "\u001b[A\u001b[A\u001b[A\u001b[A"
     ]
    },
    {
     "name": "stdout",
     "output_type": "stream",
     "text": [
      "max at end of edge summation 2\n",
      "max at end of edge summation 2\n"
     ]
    },
    {
     "name": "stderr",
     "output_type": "stream",
     "text": [
      "\n",
      "\n",
      "\n",
      "\n",
      "\r",
      " 38%|███▊      | 452/1200 [03:43<06:31,  1.91it/s]"
     ]
    },
    {
     "name": "stdout",
     "output_type": "stream",
     "text": [
      "max at end of edge summation 1\n",
      "summer max 4\n",
      "level 0; %pix 0.6458908420138889\n",
      "level 1; %pix 0.27688585069444444\n",
      "level 2; %pix 0.035346137152777776\n",
      "threshold 2\n",
      "percent activated pixels 0.035346137152777776\n",
      "max of morphed is 1\n",
      "1\n"
     ]
    },
    {
     "name": "stderr",
     "output_type": "stream",
     "text": [
      "\u001b[A\u001b[A\u001b[A\u001b[A"
     ]
    },
    {
     "name": "stdout",
     "output_type": "stream",
     "text": [
      "max at end of edge summation 2\n",
      "max at end of edge summation 2\n"
     ]
    },
    {
     "name": "stderr",
     "output_type": "stream",
     "text": [
      "\n",
      "\n",
      "\n",
      "\n",
      "\r",
      " 38%|███▊      | 453/1200 [03:43<06:35,  1.89it/s]"
     ]
    },
    {
     "name": "stdout",
     "output_type": "stream",
     "text": [
      "max at end of edge summation 1\n",
      "summer max 4\n",
      "level 0; %pix 0.6466536458333333\n",
      "level 1; %pix 0.2752962239583333\n",
      "level 2; %pix 0.034014756944444446\n",
      "threshold 2\n",
      "percent activated pixels 0.034014756944444446\n",
      "max of morphed is 1\n",
      "1\n"
     ]
    },
    {
     "name": "stderr",
     "output_type": "stream",
     "text": [
      "\u001b[A\u001b[A\u001b[A\u001b[A"
     ]
    },
    {
     "name": "stdout",
     "output_type": "stream",
     "text": [
      "max at end of edge summation 2\n",
      "max at end of edge summation 2\n"
     ]
    },
    {
     "name": "stderr",
     "output_type": "stream",
     "text": [
      "\n",
      "\n",
      "\n",
      "\n",
      "\r",
      " 38%|███▊      | 454/1200 [03:44<06:36,  1.88it/s]"
     ]
    },
    {
     "name": "stdout",
     "output_type": "stream",
     "text": [
      "max at end of edge summation 1\n",
      "summer max 4\n",
      "level 0; %pix 0.6403873697916667\n",
      "level 1; %pix 0.2743315972222222\n",
      "level 2; %pix 0.03570963541666667\n",
      "threshold 2\n",
      "percent activated pixels 0.03570963541666667\n",
      "max of morphed is 1\n",
      "1\n"
     ]
    },
    {
     "name": "stderr",
     "output_type": "stream",
     "text": [
      "\u001b[A\u001b[A\u001b[A\u001b[A"
     ]
    },
    {
     "name": "stdout",
     "output_type": "stream",
     "text": [
      "max at end of edge summation 2\n",
      "max at end of edge summation 2\n"
     ]
    },
    {
     "name": "stderr",
     "output_type": "stream",
     "text": [
      "\n",
      "\n",
      "\n",
      "\n",
      "\r",
      " 38%|███▊      | 455/1200 [03:44<06:31,  1.90it/s]"
     ]
    },
    {
     "name": "stdout",
     "output_type": "stream",
     "text": [
      "max at end of edge summation 1\n",
      "summer max 4\n",
      "level 0; %pix 0.648056640625\n",
      "level 1; %pix 0.27768012152777777\n",
      "level 2; %pix 0.03654405381944444\n",
      "threshold 2\n",
      "percent activated pixels 0.03654405381944444\n",
      "max of morphed is 1\n",
      "1\n"
     ]
    },
    {
     "name": "stderr",
     "output_type": "stream",
     "text": [
      "\u001b[A\u001b[A\u001b[A\u001b[A"
     ]
    },
    {
     "name": "stdout",
     "output_type": "stream",
     "text": [
      "max at end of edge summation 2\n",
      "max at end of edge summation 2\n"
     ]
    },
    {
     "name": "stderr",
     "output_type": "stream",
     "text": [
      "\n",
      "\n",
      "\n",
      "\n",
      "\r",
      " 38%|███▊      | 456/1200 [03:45<06:35,  1.88it/s]"
     ]
    },
    {
     "name": "stdout",
     "output_type": "stream",
     "text": [
      "max at end of edge summation 1\n",
      "summer max 4\n",
      "level 0; %pix 0.6474403211805555\n",
      "level 1; %pix 0.27547743055555557\n",
      "level 2; %pix 0.035730251736111114\n",
      "threshold 2\n",
      "percent activated pixels 0.035730251736111114\n",
      "max of morphed is 1\n",
      "1\n"
     ]
    },
    {
     "name": "stderr",
     "output_type": "stream",
     "text": [
      "\u001b[A\u001b[A\u001b[A\u001b[A"
     ]
    },
    {
     "name": "stdout",
     "output_type": "stream",
     "text": [
      "max at end of edge summation 2\n",
      "max at end of edge summation 2\n"
     ]
    },
    {
     "name": "stderr",
     "output_type": "stream",
     "text": [
      "\n",
      "\n",
      "\n",
      "\n",
      "\r",
      " 38%|███▊      | 457/1200 [03:46<06:34,  1.88it/s]"
     ]
    },
    {
     "name": "stdout",
     "output_type": "stream",
     "text": [
      "max at end of edge summation 1\n",
      "summer max 4\n",
      "level 0; %pix 0.6452799479166667\n",
      "level 1; %pix 0.27297960069444444\n",
      "level 2; %pix 0.03488389756944445\n",
      "threshold 2\n",
      "percent activated pixels 0.03488389756944445\n",
      "max of morphed is 1\n",
      "1\n"
     ]
    },
    {
     "name": "stderr",
     "output_type": "stream",
     "text": [
      "\u001b[A\u001b[A\u001b[A\u001b[A"
     ]
    },
    {
     "name": "stdout",
     "output_type": "stream",
     "text": [
      "max at end of edge summation 2\n",
      "max at end of edge summation 2\n"
     ]
    },
    {
     "name": "stderr",
     "output_type": "stream",
     "text": [
      "\n",
      "\n",
      "\n",
      "\n",
      "\r",
      " 38%|███▊      | 458/1200 [03:46<06:31,  1.90it/s]"
     ]
    },
    {
     "name": "stdout",
     "output_type": "stream",
     "text": [
      "max at end of edge summation 1\n",
      "summer max 4\n",
      "level 0; %pix 0.6452994791666666\n",
      "level 1; %pix 0.27279405381944444\n",
      "level 2; %pix 0.033916015625\n",
      "threshold 2\n",
      "percent activated pixels 0.033916015625\n",
      "max of morphed is 1\n",
      "1\n"
     ]
    },
    {
     "name": "stderr",
     "output_type": "stream",
     "text": [
      "\u001b[A\u001b[A\u001b[A\u001b[A"
     ]
    },
    {
     "name": "stdout",
     "output_type": "stream",
     "text": [
      "max at end of edge summation 2\n",
      "max at end of edge summation 2\n"
     ]
    },
    {
     "name": "stderr",
     "output_type": "stream",
     "text": [
      "\n",
      "\n",
      "\n",
      "\n",
      "\r",
      " 38%|███▊      | 459/1200 [03:47<06:30,  1.90it/s]"
     ]
    },
    {
     "name": "stdout",
     "output_type": "stream",
     "text": [
      "max at end of edge summation 1\n",
      "summer max 4\n",
      "level 0; %pix 0.6432736545138888\n",
      "level 1; %pix 0.2716059027777778\n",
      "level 2; %pix 0.03363172743055556\n",
      "threshold 2\n",
      "percent activated pixels 0.03363172743055556\n",
      "max of morphed is 1\n",
      "1\n"
     ]
    },
    {
     "name": "stderr",
     "output_type": "stream",
     "text": [
      "\u001b[A\u001b[A\u001b[A\u001b[A"
     ]
    },
    {
     "name": "stdout",
     "output_type": "stream",
     "text": [
      "max at end of edge summation 2\n",
      "max at end of edge summation 2\n"
     ]
    },
    {
     "name": "stderr",
     "output_type": "stream",
     "text": [
      "\n",
      "\n",
      "\n",
      "\n",
      "\r",
      " 38%|███▊      | 460/1200 [03:47<06:27,  1.91it/s]"
     ]
    },
    {
     "name": "stdout",
     "output_type": "stream",
     "text": [
      "max at end of edge summation 1\n",
      "summer max 4\n",
      "level 0; %pix 0.6431629774305555\n",
      "level 1; %pix 0.27234375\n",
      "level 2; %pix 0.03376953125\n",
      "threshold 2\n",
      "percent activated pixels 0.03376953125\n",
      "max of morphed is 1\n",
      "1\n"
     ]
    },
    {
     "name": "stderr",
     "output_type": "stream",
     "text": [
      "\u001b[A\u001b[A\u001b[A\u001b[A"
     ]
    },
    {
     "name": "stdout",
     "output_type": "stream",
     "text": [
      "max at end of edge summation 2\n",
      "max at end of edge summation 2\n"
     ]
    },
    {
     "name": "stderr",
     "output_type": "stream",
     "text": [
      "\n",
      "\n",
      "\n",
      "\n",
      "\r",
      " 38%|███▊      | 461/1200 [03:48<06:24,  1.92it/s]"
     ]
    },
    {
     "name": "stdout",
     "output_type": "stream",
     "text": [
      "max at end of edge summation 1\n",
      "summer max 4\n",
      "level 0; %pix 0.6429437934027777\n",
      "level 1; %pix 0.27333875868055557\n",
      "level 2; %pix 0.03514431423611111\n",
      "threshold 2\n",
      "percent activated pixels 0.03514431423611111\n",
      "max of morphed is 1\n",
      "1\n"
     ]
    },
    {
     "name": "stderr",
     "output_type": "stream",
     "text": [
      "\u001b[A\u001b[A\u001b[A\u001b[A"
     ]
    },
    {
     "name": "stdout",
     "output_type": "stream",
     "text": [
      "max at end of edge summation 2\n",
      "max at end of edge summation 1\n"
     ]
    },
    {
     "name": "stderr",
     "output_type": "stream",
     "text": [
      "\n",
      "\n",
      "\n",
      "\n",
      "\r",
      " 38%|███▊      | 462/1200 [03:48<06:27,  1.91it/s]"
     ]
    },
    {
     "name": "stdout",
     "output_type": "stream",
     "text": [
      "max at end of edge summation 2\n",
      "summer max 4\n",
      "level 0; %pix 0.6428721788194445\n",
      "level 1; %pix 0.2718695746527778\n",
      "level 2; %pix 0.03403971354166667\n",
      "threshold 2\n",
      "percent activated pixels 0.03403971354166667\n",
      "max of morphed is 1\n",
      "1\n"
     ]
    },
    {
     "name": "stderr",
     "output_type": "stream",
     "text": [
      "\u001b[A\u001b[A\u001b[A\u001b[A"
     ]
    },
    {
     "name": "stdout",
     "output_type": "stream",
     "text": [
      "max at end of edge summation 2\n",
      "max at end of edge summation 2\n"
     ]
    },
    {
     "name": "stderr",
     "output_type": "stream",
     "text": [
      "\n",
      "\n",
      "\n",
      "\n",
      "\r",
      " 39%|███▊      | 463/1200 [03:49<06:28,  1.90it/s]"
     ]
    },
    {
     "name": "stdout",
     "output_type": "stream",
     "text": [
      "max at end of edge summation 2\n",
      "summer max 5\n",
      "level 0; %pix 0.6388650173611111\n",
      "level 1; %pix 0.27078125\n",
      "level 2; %pix 0.033670789930555556\n",
      "threshold 2\n",
      "percent activated pixels 0.033670789930555556\n",
      "max of morphed is 1\n",
      "1\n"
     ]
    },
    {
     "name": "stderr",
     "output_type": "stream",
     "text": [
      "\u001b[A\u001b[A\u001b[A\u001b[A"
     ]
    },
    {
     "name": "stdout",
     "output_type": "stream",
     "text": [
      "max at end of edge summation 2\n",
      "max at end of edge summation 2\n"
     ]
    },
    {
     "name": "stderr",
     "output_type": "stream",
     "text": [
      "\n",
      "\n",
      "\n",
      "\n",
      "\r",
      " 39%|███▊      | 464/1200 [03:49<06:33,  1.87it/s]"
     ]
    },
    {
     "name": "stdout",
     "output_type": "stream",
     "text": [
      "max at end of edge summation 1\n",
      "summer max 4\n",
      "level 0; %pix 0.6378689236111111\n",
      "level 1; %pix 0.26966471354166666\n",
      "level 2; %pix 0.03253580729166667\n",
      "threshold 2\n",
      "percent activated pixels 0.03253580729166667\n",
      "max of morphed is 1\n",
      "1\n"
     ]
    },
    {
     "name": "stderr",
     "output_type": "stream",
     "text": [
      "\u001b[A\u001b[A\u001b[A\u001b[A"
     ]
    },
    {
     "name": "stdout",
     "output_type": "stream",
     "text": [
      "max at end of edge summation 2\n",
      "max at end of edge summation 2\n"
     ]
    },
    {
     "name": "stderr",
     "output_type": "stream",
     "text": [
      "\n",
      "\n",
      "\n",
      "\n",
      "\r",
      " 39%|███▉      | 465/1200 [03:50<06:36,  1.85it/s]"
     ]
    },
    {
     "name": "stdout",
     "output_type": "stream",
     "text": [
      "max at end of edge summation 1\n",
      "summer max 4\n",
      "level 0; %pix 0.635986328125\n",
      "level 1; %pix 0.26770182291666667\n",
      "level 2; %pix 0.031370442708333335\n",
      "threshold 2\n",
      "percent activated pixels 0.031370442708333335\n",
      "max of morphed is 1\n",
      "1\n"
     ]
    },
    {
     "name": "stderr",
     "output_type": "stream",
     "text": [
      "\u001b[A\u001b[A\u001b[A\u001b[A"
     ]
    },
    {
     "name": "stdout",
     "output_type": "stream",
     "text": [
      "max at end of edge summation 2\n",
      "max at end of edge summation 2\n"
     ]
    },
    {
     "name": "stderr",
     "output_type": "stream",
     "text": [
      "\n",
      "\n",
      "\n",
      "\n",
      "\r",
      " 39%|███▉      | 466/1200 [03:50<06:37,  1.85it/s]"
     ]
    },
    {
     "name": "stdout",
     "output_type": "stream",
     "text": [
      "max at end of edge summation 1\n",
      "summer max 4\n",
      "level 0; %pix 0.6324262152777778\n",
      "level 1; %pix 0.26638563368055557\n",
      "level 2; %pix 0.030836588541666668\n",
      "threshold 2\n",
      "percent activated pixels 0.030836588541666668\n",
      "max of morphed is 1\n",
      "1\n"
     ]
    },
    {
     "name": "stderr",
     "output_type": "stream",
     "text": [
      "\u001b[A\u001b[A\u001b[A\u001b[A"
     ]
    },
    {
     "name": "stdout",
     "output_type": "stream",
     "text": [
      "max at end of edge summation 2\n",
      "max at end of edge summation 2\n"
     ]
    },
    {
     "name": "stderr",
     "output_type": "stream",
     "text": [
      "\n",
      "\n",
      "\n",
      "\n",
      "\r",
      " 39%|███▉      | 467/1200 [03:51<06:28,  1.89it/s]"
     ]
    },
    {
     "name": "stdout",
     "output_type": "stream",
     "text": [
      "max at end of edge summation 1\n",
      "summer max 4\n",
      "level 0; %pix 0.6316091579861111\n",
      "level 1; %pix 0.2639344618055556\n",
      "level 2; %pix 0.029920789930555556\n",
      "threshold 2\n",
      "percent activated pixels 0.029920789930555556\n",
      "max of morphed is 1\n",
      "1\n"
     ]
    },
    {
     "name": "stderr",
     "output_type": "stream",
     "text": [
      "\u001b[A\u001b[A\u001b[A\u001b[A"
     ]
    },
    {
     "name": "stdout",
     "output_type": "stream",
     "text": [
      "max at end of edge summation 2\n",
      "max at end of edge summation 2\n"
     ]
    },
    {
     "name": "stderr",
     "output_type": "stream",
     "text": [
      "\n",
      "\n",
      "\n",
      "\n",
      "\r",
      " 39%|███▉      | 468/1200 [03:51<06:25,  1.90it/s]"
     ]
    },
    {
     "name": "stdout",
     "output_type": "stream",
     "text": [
      "max at end of edge summation 1\n",
      "summer max 4\n",
      "level 0; %pix 0.6314377170138888\n",
      "level 1; %pix 0.26286458333333335\n",
      "level 2; %pix 0.030593532986111113\n",
      "threshold 2\n",
      "percent activated pixels 0.030593532986111113\n",
      "max of morphed is 1\n",
      "1\n"
     ]
    },
    {
     "name": "stderr",
     "output_type": "stream",
     "text": [
      "\u001b[A\u001b[A\u001b[A\u001b[A"
     ]
    },
    {
     "name": "stdout",
     "output_type": "stream",
     "text": [
      "max at end of edge summation 2\n",
      "max at end of edge summation 2\n"
     ]
    },
    {
     "name": "stderr",
     "output_type": "stream",
     "text": [
      "\n",
      "\n",
      "\n",
      "\n",
      "\r",
      " 39%|███▉      | 469/1200 [03:52<06:21,  1.91it/s]"
     ]
    },
    {
     "name": "stdout",
     "output_type": "stream",
     "text": [
      "max at end of edge summation 1\n",
      "summer max 4\n",
      "level 0; %pix 0.632412109375\n",
      "level 1; %pix 0.26160264756944446\n",
      "level 2; %pix 0.029401041666666666\n",
      "threshold 2\n",
      "percent activated pixels 0.029401041666666666\n",
      "max of morphed is 1\n",
      "1\n"
     ]
    },
    {
     "name": "stderr",
     "output_type": "stream",
     "text": [
      "\u001b[A\u001b[A\u001b[A\u001b[A"
     ]
    },
    {
     "name": "stdout",
     "output_type": "stream",
     "text": [
      "max at end of edge summation 2\n",
      "max at end of edge summation 2\n"
     ]
    },
    {
     "name": "stderr",
     "output_type": "stream",
     "text": [
      "\n",
      "\n",
      "\n",
      "\n",
      "\r",
      " 39%|███▉      | 470/1200 [03:52<06:19,  1.92it/s]"
     ]
    },
    {
     "name": "stdout",
     "output_type": "stream",
     "text": [
      "max at end of edge summation 1\n",
      "summer max 4\n",
      "level 0; %pix 0.6310275607638889\n",
      "level 1; %pix 0.2597471788194444\n",
      "level 2; %pix 0.02824978298611111\n",
      "threshold 2\n",
      "percent activated pixels 0.02824978298611111\n",
      "max of morphed is 1\n",
      "1\n"
     ]
    },
    {
     "name": "stderr",
     "output_type": "stream",
     "text": [
      "\u001b[A\u001b[A\u001b[A\u001b[A"
     ]
    },
    {
     "name": "stdout",
     "output_type": "stream",
     "text": [
      "max at end of edge summation 2\n",
      "max at end of edge summation 2\n"
     ]
    },
    {
     "name": "stderr",
     "output_type": "stream",
     "text": [
      "\n",
      "\n",
      "\n",
      "\n",
      "\r",
      " 39%|███▉      | 471/1200 [03:53<06:16,  1.94it/s]"
     ]
    },
    {
     "name": "stdout",
     "output_type": "stream",
     "text": [
      "max at end of edge summation 1\n",
      "summer max 4\n",
      "level 0; %pix 0.568984375\n",
      "level 1; %pix 0.24253580729166666\n",
      "level 2; %pix 0.027223307291666665\n",
      "threshold 2\n",
      "percent activated pixels 0.027223307291666665\n",
      "max of morphed is 1\n",
      "1\n"
     ]
    },
    {
     "name": "stderr",
     "output_type": "stream",
     "text": [
      "\u001b[A\u001b[A\u001b[A\u001b[A"
     ]
    },
    {
     "name": "stdout",
     "output_type": "stream",
     "text": [
      "max at end of edge summation 2\n",
      "max at end of edge summation 2\n"
     ]
    },
    {
     "name": "stderr",
     "output_type": "stream",
     "text": [
      "\n",
      "\n",
      "\n",
      "\n",
      "\r",
      " 39%|███▉      | 472/1200 [03:53<06:14,  1.94it/s]"
     ]
    },
    {
     "name": "stdout",
     "output_type": "stream",
     "text": [
      "max at end of edge summation 1\n",
      "summer max 4\n",
      "level 0; %pix 0.5859819878472222\n",
      "level 1; %pix 0.24527235243055556\n",
      "level 2; %pix 0.025944010416666666\n",
      "threshold 2\n",
      "percent activated pixels 0.025944010416666666\n",
      "max of morphed is 1\n",
      "1\n"
     ]
    },
    {
     "name": "stderr",
     "output_type": "stream",
     "text": [
      "\u001b[A\u001b[A\u001b[A\u001b[A"
     ]
    },
    {
     "name": "stdout",
     "output_type": "stream",
     "text": [
      "max at end of edge summation 2\n",
      "max at end of edge summation 2\n"
     ]
    },
    {
     "name": "stderr",
     "output_type": "stream",
     "text": [
      "\n",
      "\n",
      "\n",
      "\n",
      "\r",
      " 39%|███▉      | 473/1200 [03:54<06:11,  1.96it/s]"
     ]
    },
    {
     "name": "stdout",
     "output_type": "stream",
     "text": [
      "max at end of edge summation 1\n",
      "summer max 4\n",
      "level 0; %pix 0.6061165364583333\n",
      "level 1; %pix 0.24954210069444444\n",
      "level 2; %pix 0.025155164930555557\n",
      "threshold 2\n",
      "percent activated pixels 0.025155164930555557\n",
      "max of morphed is 1\n",
      "1\n"
     ]
    },
    {
     "name": "stderr",
     "output_type": "stream",
     "text": [
      "\u001b[A\u001b[A\u001b[A\u001b[A"
     ]
    },
    {
     "name": "stdout",
     "output_type": "stream",
     "text": [
      "max at end of edge summation 2\n",
      "max at end of edge summation 2\n"
     ]
    },
    {
     "name": "stderr",
     "output_type": "stream",
     "text": [
      "\n",
      "\n",
      "\n",
      "\n",
      "\r",
      " 40%|███▉      | 474/1200 [03:54<06:10,  1.96it/s]"
     ]
    },
    {
     "name": "stdout",
     "output_type": "stream",
     "text": [
      "max at end of edge summation 1\n",
      "summer max 4\n",
      "level 0; %pix 0.5969661458333333\n",
      "level 1; %pix 0.24491319444444445\n",
      "level 2; %pix 0.02427300347222222\n",
      "threshold 2\n",
      "percent activated pixels 0.02427300347222222\n",
      "max of morphed is 1\n",
      "1\n"
     ]
    },
    {
     "name": "stderr",
     "output_type": "stream",
     "text": [
      "\u001b[A\u001b[A\u001b[A\u001b[A"
     ]
    },
    {
     "name": "stdout",
     "output_type": "stream",
     "text": [
      "max at end of edge summation 2\n",
      "max at end of edge summation 2\n"
     ]
    },
    {
     "name": "stderr",
     "output_type": "stream",
     "text": [
      "\n",
      "\n",
      "\n",
      "\n",
      "\r",
      " 40%|███▉      | 475/1200 [03:55<06:11,  1.95it/s]"
     ]
    },
    {
     "name": "stdout",
     "output_type": "stream",
     "text": [
      "max at end of edge summation 1\n",
      "summer max 4\n",
      "level 0; %pix 0.6059288194444444\n",
      "level 1; %pix 0.2470290798611111\n",
      "level 2; %pix 0.024632161458333333\n",
      "threshold 2\n",
      "percent activated pixels 0.024632161458333333\n",
      "max of morphed is 1\n",
      "1\n"
     ]
    },
    {
     "name": "stderr",
     "output_type": "stream",
     "text": [
      "\u001b[A\u001b[A\u001b[A\u001b[A"
     ]
    },
    {
     "name": "stdout",
     "output_type": "stream",
     "text": [
      "max at end of edge summation 2\n",
      "max at end of edge summation 2\n"
     ]
    },
    {
     "name": "stderr",
     "output_type": "stream",
     "text": [
      "\n",
      "\n",
      "\n",
      "\n",
      "\r",
      " 40%|███▉      | 476/1200 [03:55<06:11,  1.95it/s]"
     ]
    },
    {
     "name": "stdout",
     "output_type": "stream",
     "text": [
      "max at end of edge summation 1\n",
      "summer max 4\n",
      "level 0; %pix 0.6090473090277778\n",
      "level 1; %pix 0.24661458333333333\n",
      "level 2; %pix 0.02312282986111111\n",
      "threshold 2\n",
      "percent activated pixels 0.02312282986111111\n",
      "max of morphed is 1\n",
      "1\n"
     ]
    },
    {
     "name": "stderr",
     "output_type": "stream",
     "text": [
      "\u001b[A\u001b[A\u001b[A\u001b[A"
     ]
    },
    {
     "name": "stdout",
     "output_type": "stream",
     "text": [
      "max at end of edge summation 2\n",
      "max at end of edge summation 2\n"
     ]
    },
    {
     "name": "stderr",
     "output_type": "stream",
     "text": [
      "\n",
      "\n",
      "\n",
      "\n",
      "\r",
      " 40%|███▉      | 477/1200 [03:56<06:08,  1.96it/s]"
     ]
    },
    {
     "name": "stdout",
     "output_type": "stream",
     "text": [
      "max at end of edge summation 1\n",
      "summer max 4\n",
      "level 0; %pix 0.6117903645833334\n",
      "level 1; %pix 0.247275390625\n",
      "level 2; %pix 0.022745225694444444\n",
      "threshold 2\n",
      "percent activated pixels 0.022745225694444444\n",
      "max of morphed is 1\n",
      "1\n"
     ]
    },
    {
     "name": "stderr",
     "output_type": "stream",
     "text": [
      "\u001b[A\u001b[A\u001b[A\u001b[A"
     ]
    },
    {
     "name": "stdout",
     "output_type": "stream",
     "text": [
      "max at end of edge summation 2\n",
      "max at end of edge summation 2\n"
     ]
    },
    {
     "name": "stderr",
     "output_type": "stream",
     "text": [
      "\n",
      "\n",
      "\n",
      "\n",
      "\r",
      " 40%|███▉      | 478/1200 [03:56<06:08,  1.96it/s]"
     ]
    },
    {
     "name": "stdout",
     "output_type": "stream",
     "text": [
      "max at end of edge summation 1\n",
      "summer max 4\n",
      "level 0; %pix 0.6156488715277778\n",
      "level 1; %pix 0.24723307291666666\n",
      "level 2; %pix 0.02178168402777778\n",
      "threshold 2\n",
      "percent activated pixels 0.02178168402777778\n",
      "max of morphed is 1\n",
      "1\n"
     ]
    },
    {
     "name": "stderr",
     "output_type": "stream",
     "text": [
      "\u001b[A\u001b[A\u001b[A\u001b[A"
     ]
    },
    {
     "name": "stdout",
     "output_type": "stream",
     "text": [
      "max at end of edge summation 2\n",
      "max at end of edge summation 2\n"
     ]
    },
    {
     "name": "stderr",
     "output_type": "stream",
     "text": [
      "\n",
      "\n",
      "\n",
      "\n",
      "\r",
      " 40%|███▉      | 479/1200 [03:57<06:02,  1.99it/s]"
     ]
    },
    {
     "name": "stdout",
     "output_type": "stream",
     "text": [
      "max at end of edge summation 1\n",
      "summer max 4\n",
      "level 0; %pix 0.6063454861111112\n",
      "level 1; %pix 0.24277452256944446\n",
      "level 2; %pix 0.02089301215277778\n",
      "threshold 2\n",
      "percent activated pixels 0.02089301215277778\n",
      "max of morphed is 1\n",
      "1\n"
     ]
    },
    {
     "name": "stderr",
     "output_type": "stream",
     "text": [
      "\u001b[A\u001b[A\u001b[A\u001b[A"
     ]
    },
    {
     "name": "stdout",
     "output_type": "stream",
     "text": [
      "max at end of edge summation 2\n",
      "max at end of edge summation 2\n"
     ]
    },
    {
     "name": "stderr",
     "output_type": "stream",
     "text": [
      "\n",
      "\n",
      "\n",
      "\n",
      "\r",
      " 40%|████      | 480/1200 [03:57<06:04,  1.98it/s]"
     ]
    },
    {
     "name": "stdout",
     "output_type": "stream",
     "text": [
      "max at end of edge summation 1\n",
      "summer max 4\n",
      "level 0; %pix 0.607490234375\n",
      "level 1; %pix 0.24399088541666666\n",
      "level 2; %pix 0.02001953125\n",
      "threshold 2\n",
      "percent activated pixels 0.02001953125\n",
      "max of morphed is 1\n",
      "1\n"
     ]
    },
    {
     "name": "stderr",
     "output_type": "stream",
     "text": [
      "\u001b[A\u001b[A\u001b[A\u001b[A"
     ]
    },
    {
     "name": "stdout",
     "output_type": "stream",
     "text": [
      "max at end of edge summation 2\n",
      "max at end of edge summation 2\n"
     ]
    },
    {
     "name": "stderr",
     "output_type": "stream",
     "text": [
      "\n",
      "\n",
      "\n",
      "\n",
      "\r",
      " 40%|████      | 481/1200 [03:58<06:04,  1.98it/s]"
     ]
    },
    {
     "name": "stdout",
     "output_type": "stream",
     "text": [
      "max at end of edge summation 1\n",
      "summer max 4\n",
      "level 0; %pix 0.6039290364583333\n",
      "level 1; %pix 0.23842447916666668\n",
      "level 2; %pix 0.021331380208333334\n",
      "threshold 2\n",
      "percent activated pixels 0.021331380208333334\n",
      "max of morphed is 1\n",
      "1\n"
     ]
    },
    {
     "name": "stderr",
     "output_type": "stream",
     "text": [
      "\u001b[A\u001b[A\u001b[A\u001b[A"
     ]
    },
    {
     "name": "stdout",
     "output_type": "stream",
     "text": [
      "max at end of edge summation 2\n",
      "max at end of edge summation 2\n"
     ]
    },
    {
     "name": "stderr",
     "output_type": "stream",
     "text": [
      "\n",
      "\n",
      "\n",
      "\n",
      "\r",
      " 40%|████      | 482/1200 [03:58<06:02,  1.98it/s]"
     ]
    },
    {
     "name": "stdout",
     "output_type": "stream",
     "text": [
      "max at end of edge summation 1\n",
      "summer max 4\n",
      "level 0; %pix 0.6089051649305556\n",
      "level 1; %pix 0.23871961805555555\n",
      "level 2; %pix 0.020443793402777778\n",
      "threshold 2\n",
      "percent activated pixels 0.020443793402777778\n",
      "max of morphed is 1\n",
      "1\n"
     ]
    },
    {
     "name": "stderr",
     "output_type": "stream",
     "text": [
      "\u001b[A\u001b[A\u001b[A\u001b[A"
     ]
    },
    {
     "name": "stdout",
     "output_type": "stream",
     "text": [
      "max at end of edge summation 2\n",
      "max at end of edge summation 2\n"
     ]
    },
    {
     "name": "stderr",
     "output_type": "stream",
     "text": [
      "\n",
      "\n",
      "\n",
      "\n",
      "\r",
      " 40%|████      | 483/1200 [03:59<06:00,  1.99it/s]"
     ]
    },
    {
     "name": "stdout",
     "output_type": "stream",
     "text": [
      "max at end of edge summation 1\n",
      "summer max 4\n",
      "level 0; %pix 0.6120627170138889\n",
      "level 1; %pix 0.2397634548611111\n",
      "level 2; %pix 0.019430338541666668\n",
      "threshold 2\n",
      "percent activated pixels 0.019430338541666668\n",
      "max of morphed is 1\n",
      "1\n"
     ]
    },
    {
     "name": "stderr",
     "output_type": "stream",
     "text": [
      "\u001b[A\u001b[A\u001b[A\u001b[A"
     ]
    },
    {
     "name": "stdout",
     "output_type": "stream",
     "text": [
      "max at end of edge summation 2\n",
      "max at end of edge summation 2\n"
     ]
    },
    {
     "name": "stderr",
     "output_type": "stream",
     "text": [
      "\n",
      "\n",
      "\n",
      "\n",
      "\r",
      " 40%|████      | 484/1200 [03:59<06:02,  1.98it/s]"
     ]
    },
    {
     "name": "stdout",
     "output_type": "stream",
     "text": [
      "max at end of edge summation 1\n",
      "summer max 4\n",
      "level 0; %pix 0.6107009548611111\n",
      "level 1; %pix 0.23899197048611112\n",
      "level 2; %pix 0.019448784722222223\n",
      "threshold 2\n",
      "percent activated pixels 0.019448784722222223\n",
      "max of morphed is 1\n",
      "1\n"
     ]
    },
    {
     "name": "stderr",
     "output_type": "stream",
     "text": [
      "\u001b[A\u001b[A\u001b[A\u001b[A"
     ]
    },
    {
     "name": "stdout",
     "output_type": "stream",
     "text": [
      "max at end of edge summation 2\n",
      "max at end of edge summation 2\n"
     ]
    },
    {
     "name": "stderr",
     "output_type": "stream",
     "text": [
      "\n",
      "\n",
      "\n",
      "\n",
      "\r",
      " 40%|████      | 485/1200 [04:00<06:01,  1.98it/s]"
     ]
    },
    {
     "name": "stdout",
     "output_type": "stream",
     "text": [
      "max at end of edge summation 1\n",
      "summer max 4\n",
      "level 0; %pix 0.6092133246527778\n",
      "level 1; %pix 0.23925889756944443\n",
      "level 2; %pix 0.018460286458333332\n",
      "threshold 2\n",
      "percent activated pixels 0.018460286458333332\n",
      "max of morphed is 1\n",
      "1\n"
     ]
    },
    {
     "name": "stderr",
     "output_type": "stream",
     "text": [
      "\u001b[A\u001b[A\u001b[A\u001b[A"
     ]
    },
    {
     "name": "stdout",
     "output_type": "stream",
     "text": [
      "max at end of edge summation 2\n",
      "max at end of edge summation 2\n"
     ]
    },
    {
     "name": "stderr",
     "output_type": "stream",
     "text": [
      "\n",
      "\n",
      "\n",
      "\n",
      "\r",
      " 40%|████      | 486/1200 [04:01<06:03,  1.96it/s]"
     ]
    },
    {
     "name": "stdout",
     "output_type": "stream",
     "text": [
      "max at end of edge summation 1\n",
      "summer max 4\n",
      "level 0; %pix 0.6100640190972222\n",
      "level 1; %pix 0.23939236111111112\n",
      "level 2; %pix 0.017950303819444444\n",
      "threshold 2\n",
      "percent activated pixels 0.017950303819444444\n",
      "max of morphed is 1\n",
      "1\n"
     ]
    },
    {
     "name": "stderr",
     "output_type": "stream",
     "text": [
      "\u001b[A\u001b[A\u001b[A\u001b[A"
     ]
    },
    {
     "name": "stdout",
     "output_type": "stream",
     "text": [
      "max at end of edge summation 2\n",
      "max at end of edge summation 2\n"
     ]
    },
    {
     "name": "stderr",
     "output_type": "stream",
     "text": [
      "\n",
      "\n",
      "\n",
      "\n",
      "\r",
      " 41%|████      | 487/1200 [04:01<06:02,  1.97it/s]"
     ]
    },
    {
     "name": "stdout",
     "output_type": "stream",
     "text": [
      "max at end of edge summation 1\n",
      "summer max 4\n",
      "level 0; %pix 0.6098708767361111\n",
      "level 1; %pix 0.23774739583333335\n",
      "level 2; %pix 0.01708767361111111\n",
      "threshold 2\n",
      "percent activated pixels 0.01708767361111111\n",
      "max of morphed is 1\n",
      "1\n"
     ]
    },
    {
     "name": "stderr",
     "output_type": "stream",
     "text": [
      "\u001b[A\u001b[A\u001b[A\u001b[A"
     ]
    },
    {
     "name": "stdout",
     "output_type": "stream",
     "text": [
      "max at end of edge summation 2\n",
      "max at end of edge summation 2\n"
     ]
    },
    {
     "name": "stderr",
     "output_type": "stream",
     "text": [
      "\n",
      "\n",
      "\n",
      "\n",
      "\r",
      " 41%|████      | 488/1200 [04:02<06:01,  1.97it/s]"
     ]
    },
    {
     "name": "stdout",
     "output_type": "stream",
     "text": [
      "max at end of edge summation 1\n",
      "summer max 4\n",
      "level 0; %pix 0.6071082899305555\n",
      "level 1; %pix 0.2358203125\n",
      "level 2; %pix 0.016197916666666666\n",
      "threshold 2\n",
      "percent activated pixels 0.016197916666666666\n",
      "max of morphed is 1\n",
      "1\n"
     ]
    },
    {
     "name": "stderr",
     "output_type": "stream",
     "text": [
      "\u001b[A\u001b[A\u001b[A\u001b[A"
     ]
    },
    {
     "name": "stdout",
     "output_type": "stream",
     "text": [
      "max at end of edge summation 2\n",
      "max at end of edge summation 2\n"
     ]
    },
    {
     "name": "stderr",
     "output_type": "stream",
     "text": [
      "\n",
      "\n",
      "\n",
      "\n",
      "\r",
      " 41%|████      | 489/1200 [04:02<05:59,  1.98it/s]"
     ]
    },
    {
     "name": "stdout",
     "output_type": "stream",
     "text": [
      "max at end of edge summation 1\n",
      "summer max 4\n",
      "level 0; %pix 0.6122146267361112\n",
      "level 1; %pix 0.23831597222222223\n",
      "level 2; %pix 0.015881076388888887\n",
      "threshold 2\n",
      "percent activated pixels 0.015881076388888887\n",
      "max of morphed is 1\n",
      "1\n"
     ]
    },
    {
     "name": "stderr",
     "output_type": "stream",
     "text": [
      "\u001b[A\u001b[A\u001b[A\u001b[A"
     ]
    },
    {
     "name": "stdout",
     "output_type": "stream",
     "text": [
      "max at end of edge summation 2\n",
      "max at end of edge summation 1\n"
     ]
    },
    {
     "name": "stderr",
     "output_type": "stream",
     "text": [
      "\n",
      "\n",
      "\n",
      "\n",
      "\r",
      " 41%|████      | 490/1200 [04:03<05:59,  1.98it/s]"
     ]
    },
    {
     "name": "stdout",
     "output_type": "stream",
     "text": [
      "max at end of edge summation 1\n",
      "summer max 4\n",
      "level 0; %pix 0.5998936631944445\n",
      "level 1; %pix 0.2337554253472222\n",
      "level 2; %pix 0.015271267361111111\n",
      "threshold 2\n",
      "percent activated pixels 0.015271267361111111\n",
      "max of morphed is 1\n",
      "1\n"
     ]
    },
    {
     "name": "stderr",
     "output_type": "stream",
     "text": [
      "\u001b[A\u001b[A\u001b[A\u001b[A"
     ]
    },
    {
     "name": "stdout",
     "output_type": "stream",
     "text": [
      "max at end of edge summation 2\n",
      "max at end of edge summation 2\n"
     ]
    },
    {
     "name": "stderr",
     "output_type": "stream",
     "text": [
      "\n",
      "\n",
      "\n",
      "\n",
      "\r",
      " 41%|████      | 491/1200 [04:03<05:55,  2.00it/s]"
     ]
    },
    {
     "name": "stdout",
     "output_type": "stream",
     "text": [
      "max at end of edge summation 1\n",
      "summer max 4\n",
      "level 0; %pix 0.6058626302083333\n",
      "level 1; %pix 0.23328884548611112\n",
      "level 2; %pix 0.014169921875\n",
      "threshold 2\n",
      "percent activated pixels 0.014169921875\n",
      "max of morphed is 1\n",
      "1\n"
     ]
    },
    {
     "name": "stderr",
     "output_type": "stream",
     "text": [
      "\u001b[A\u001b[A\u001b[A\u001b[A"
     ]
    },
    {
     "name": "stdout",
     "output_type": "stream",
     "text": [
      "max at end of edge summation 2\n",
      "max at end of edge summation 2\n"
     ]
    },
    {
     "name": "stderr",
     "output_type": "stream",
     "text": [
      "\n",
      "\n",
      "\n",
      "\n",
      "\r",
      " 41%|████      | 492/1200 [04:04<05:54,  2.00it/s]"
     ]
    },
    {
     "name": "stdout",
     "output_type": "stream",
     "text": [
      "max at end of edge summation 1\n",
      "summer max 4\n",
      "level 0; %pix 0.595166015625\n",
      "level 1; %pix 0.22920247395833335\n",
      "level 2; %pix 0.013971354166666667\n",
      "threshold 2\n",
      "percent activated pixels 0.013971354166666667\n",
      "max of morphed is 1\n",
      "1\n"
     ]
    },
    {
     "name": "stderr",
     "output_type": "stream",
     "text": [
      "\u001b[A\u001b[A\u001b[A\u001b[A"
     ]
    },
    {
     "name": "stdout",
     "output_type": "stream",
     "text": [
      "max at end of edge summation 2\n",
      "max at end of edge summation 2\n"
     ]
    },
    {
     "name": "stderr",
     "output_type": "stream",
     "text": [
      "\n",
      "\n",
      "\n",
      "\n",
      "\r",
      " 41%|████      | 493/1200 [04:04<05:53,  2.00it/s]"
     ]
    },
    {
     "name": "stdout",
     "output_type": "stream",
     "text": [
      "max at end of edge summation 1\n",
      "summer max 4\n",
      "level 0; %pix 0.6035015190972223\n",
      "level 1; %pix 0.22978624131944445\n",
      "level 2; %pix 0.013234592013888888\n",
      "threshold 2\n",
      "percent activated pixels 0.013234592013888888\n",
      "max of morphed is 1\n",
      "1\n"
     ]
    },
    {
     "name": "stderr",
     "output_type": "stream",
     "text": [
      "\u001b[A\u001b[A\u001b[A\u001b[A"
     ]
    },
    {
     "name": "stdout",
     "output_type": "stream",
     "text": [
      "max at end of edge summation 2\n",
      "max at end of edge summation 2\n"
     ]
    },
    {
     "name": "stderr",
     "output_type": "stream",
     "text": [
      "\n",
      "\n",
      "\n",
      "\n",
      "\r",
      " 41%|████      | 494/1200 [04:05<05:54,  1.99it/s]"
     ]
    },
    {
     "name": "stdout",
     "output_type": "stream",
     "text": [
      "max at end of edge summation 1\n",
      "summer max 4\n",
      "level 0; %pix 0.58861328125\n",
      "level 1; %pix 0.22366536458333333\n",
      "level 2; %pix 0.01269748263888889\n",
      "threshold 2\n",
      "percent activated pixels 0.01269748263888889\n",
      "max of morphed is 1\n",
      "1\n"
     ]
    },
    {
     "name": "stderr",
     "output_type": "stream",
     "text": [
      "\u001b[A\u001b[A\u001b[A\u001b[A"
     ]
    },
    {
     "name": "stdout",
     "output_type": "stream",
     "text": [
      "max at end of edge summation 2\n",
      "max at end of edge summation 2\n"
     ]
    },
    {
     "name": "stderr",
     "output_type": "stream",
     "text": [
      "\n",
      "\n",
      "\n",
      "\n",
      "\r",
      " 41%|████▏     | 495/1200 [04:05<05:55,  1.98it/s]"
     ]
    },
    {
     "name": "stdout",
     "output_type": "stream",
     "text": [
      "max at end of edge summation 1\n",
      "summer max 4\n",
      "level 0; %pix 0.5985232204861111\n",
      "level 1; %pix 0.22772135416666667\n",
      "level 2; %pix 0.012596571180555556\n",
      "threshold 2\n",
      "percent activated pixels 0.012596571180555556\n",
      "max of morphed is 1\n",
      "1\n"
     ]
    },
    {
     "name": "stderr",
     "output_type": "stream",
     "text": [
      "\u001b[A\u001b[A\u001b[A\u001b[A"
     ]
    },
    {
     "name": "stdout",
     "output_type": "stream",
     "text": [
      "max at end of edge summation 2\n",
      "max at end of edge summation 2\n"
     ]
    },
    {
     "name": "stderr",
     "output_type": "stream",
     "text": [
      "\n",
      "\n",
      "\n",
      "\n",
      "\r",
      " 41%|████▏     | 496/1200 [04:06<05:55,  1.98it/s]"
     ]
    },
    {
     "name": "stdout",
     "output_type": "stream",
     "text": [
      "max at end of edge summation 1\n",
      "summer max 4\n",
      "level 0; %pix 0.5889605034722222\n",
      "level 1; %pix 0.2232736545138889\n",
      "level 2; %pix 0.012662760416666667\n",
      "threshold 2\n",
      "percent activated pixels 0.012662760416666667\n",
      "max of morphed is 1\n",
      "1\n"
     ]
    },
    {
     "name": "stderr",
     "output_type": "stream",
     "text": [
      "\u001b[A\u001b[A\u001b[A\u001b[A"
     ]
    },
    {
     "name": "stdout",
     "output_type": "stream",
     "text": [
      "max at end of edge summation 2\n",
      "max at end of edge summation 2\n"
     ]
    },
    {
     "name": "stderr",
     "output_type": "stream",
     "text": [
      "\n",
      "\n",
      "\n",
      "\n",
      "\r",
      " 41%|████▏     | 497/1200 [04:06<05:50,  2.01it/s]"
     ]
    },
    {
     "name": "stdout",
     "output_type": "stream",
     "text": [
      "max at end of edge summation 1\n",
      "summer max 4\n",
      "level 0; %pix 0.5982215711805555\n",
      "level 1; %pix 0.2263595920138889\n",
      "level 2; %pix 0.012353515625\n",
      "threshold 2\n",
      "percent activated pixels 0.012353515625\n",
      "max of morphed is 1\n",
      "1\n"
     ]
    },
    {
     "name": "stderr",
     "output_type": "stream",
     "text": [
      "\u001b[A\u001b[A\u001b[A\u001b[A"
     ]
    },
    {
     "name": "stdout",
     "output_type": "stream",
     "text": [
      "max at end of edge summation 2\n",
      "max at end of edge summation 2\n"
     ]
    },
    {
     "name": "stderr",
     "output_type": "stream",
     "text": [
      "\n",
      "\n",
      "\n",
      "\n",
      "\r",
      " 42%|████▏     | 498/1200 [04:07<05:51,  2.00it/s]"
     ]
    },
    {
     "name": "stdout",
     "output_type": "stream",
     "text": [
      "max at end of edge summation 1\n",
      "summer max 4\n",
      "level 0; %pix 0.5900987413194444\n",
      "level 1; %pix 0.2209060329861111\n",
      "level 2; %pix 0.011778428819444445\n",
      "threshold 2\n",
      "percent activated pixels 0.011778428819444445\n",
      "max of morphed is 1\n",
      "1\n"
     ]
    },
    {
     "name": "stderr",
     "output_type": "stream",
     "text": [
      "\u001b[A\u001b[A\u001b[A\u001b[A"
     ]
    },
    {
     "name": "stdout",
     "output_type": "stream",
     "text": [
      "max at end of edge summation 2\n",
      "max at end of edge summation 2\n"
     ]
    },
    {
     "name": "stderr",
     "output_type": "stream",
     "text": [
      "\n",
      "\n",
      "\n",
      "\n",
      "\r",
      " 42%|████▏     | 499/1200 [04:07<05:48,  2.01it/s]"
     ]
    },
    {
     "name": "stdout",
     "output_type": "stream",
     "text": [
      "max at end of edge summation 1\n",
      "summer max 4\n",
      "level 0; %pix 0.5753754340277778\n",
      "level 1; %pix 0.21478841145833333\n",
      "level 2; %pix 0.011676432291666667\n",
      "threshold 2\n",
      "percent activated pixels 0.011676432291666667\n",
      "max of morphed is 1\n",
      "1\n"
     ]
    },
    {
     "name": "stderr",
     "output_type": "stream",
     "text": [
      "\u001b[A\u001b[A\u001b[A\u001b[A"
     ]
    },
    {
     "name": "stdout",
     "output_type": "stream",
     "text": [
      "max at end of edge summation 2\n",
      "max at end of edge summation 2\n"
     ]
    },
    {
     "name": "stderr",
     "output_type": "stream",
     "text": [
      "\n",
      "\n",
      "\n",
      "\n",
      "\r",
      " 42%|████▏     | 500/1200 [04:07<05:43,  2.04it/s]"
     ]
    },
    {
     "name": "stdout",
     "output_type": "stream",
     "text": [
      "max at end of edge summation 1\n",
      "summer max 4\n",
      "level 0; %pix 0.5889615885416667\n",
      "level 1; %pix 0.21833875868055555\n",
      "level 2; %pix 0.011576605902777778\n",
      "threshold 2\n",
      "percent activated pixels 0.011576605902777778\n",
      "max of morphed is 1\n",
      "1\n"
     ]
    },
    {
     "name": "stderr",
     "output_type": "stream",
     "text": [
      "\u001b[A\u001b[A\u001b[A\u001b[A"
     ]
    },
    {
     "name": "stdout",
     "output_type": "stream",
     "text": [
      "max at end of edge summation 2\n",
      "max at end of edge summation 2\n"
     ]
    },
    {
     "name": "stderr",
     "output_type": "stream",
     "text": [
      "\n",
      "\n",
      "\n",
      "\n",
      "\r",
      " 42%|████▏     | 501/1200 [04:08<05:39,  2.06it/s]"
     ]
    },
    {
     "name": "stdout",
     "output_type": "stream",
     "text": [
      "max at end of edge summation 1\n",
      "summer max 4\n",
      "level 0; %pix 0.5805598958333333\n",
      "level 1; %pix 0.21528971354166668\n",
      "level 2; %pix 0.011626519097222222\n",
      "threshold 2\n",
      "percent activated pixels 0.011626519097222222\n",
      "max of morphed is 1\n",
      "1\n"
     ]
    },
    {
     "name": "stderr",
     "output_type": "stream",
     "text": [
      "\u001b[A\u001b[A\u001b[A\u001b[A"
     ]
    },
    {
     "name": "stdout",
     "output_type": "stream",
     "text": [
      "max at end of edge summation 2\n",
      "max at end of edge summation 2\n"
     ]
    },
    {
     "name": "stderr",
     "output_type": "stream",
     "text": [
      "\n",
      "\n",
      "\n",
      "\n",
      "\r",
      " 42%|████▏     | 502/1200 [04:08<05:37,  2.07it/s]"
     ]
    },
    {
     "name": "stdout",
     "output_type": "stream",
     "text": [
      "max at end of edge summation 1\n",
      "summer max 4\n",
      "level 0; %pix 0.593037109375\n",
      "level 1; %pix 0.21962022569444445\n",
      "level 2; %pix 0.01124782986111111\n",
      "threshold 2\n",
      "percent activated pixels 0.01124782986111111\n",
      "max of morphed is 1\n",
      "1\n"
     ]
    },
    {
     "name": "stderr",
     "output_type": "stream",
     "text": [
      "\u001b[A\u001b[A\u001b[A\u001b[A"
     ]
    },
    {
     "name": "stdout",
     "output_type": "stream",
     "text": [
      "max at end of edge summation 2\n",
      "max at end of edge summation 2\n"
     ]
    },
    {
     "name": "stderr",
     "output_type": "stream",
     "text": [
      "\n",
      "\n",
      "\n",
      "\n",
      "\r",
      " 42%|████▏     | 503/1200 [04:09<05:30,  2.11it/s]"
     ]
    },
    {
     "name": "stdout",
     "output_type": "stream",
     "text": [
      "max at end of edge summation 1\n",
      "summer max 4\n",
      "level 0; %pix 0.5824294704861112\n",
      "level 1; %pix 0.21452582465277778\n",
      "level 2; %pix 0.011171875\n",
      "threshold 2\n",
      "percent activated pixels 0.011171875\n",
      "max of morphed is 1\n",
      "1\n"
     ]
    },
    {
     "name": "stderr",
     "output_type": "stream",
     "text": [
      "\u001b[A\u001b[A\u001b[A\u001b[A"
     ]
    },
    {
     "name": "stdout",
     "output_type": "stream",
     "text": [
      "max at end of edge summation 2\n",
      "max at end of edge summation 2\n"
     ]
    },
    {
     "name": "stderr",
     "output_type": "stream",
     "text": [
      "\n",
      "\n",
      "\n",
      "\n",
      "\r",
      " 42%|████▏     | 504/1200 [04:09<05:31,  2.10it/s]"
     ]
    },
    {
     "name": "stdout",
     "output_type": "stream",
     "text": [
      "max at end of edge summation 1\n",
      "summer max 4\n",
      "level 0; %pix 0.5961382378472222\n",
      "level 1; %pix 0.22021484375\n",
      "level 2; %pix 0.011265190972222222\n",
      "threshold 2\n",
      "percent activated pixels 0.011265190972222222\n",
      "max of morphed is 1\n",
      "1\n"
     ]
    },
    {
     "name": "stderr",
     "output_type": "stream",
     "text": [
      "\u001b[A\u001b[A\u001b[A\u001b[A"
     ]
    },
    {
     "name": "stdout",
     "output_type": "stream",
     "text": [
      "max at end of edge summation 2\n",
      "max at end of edge summation 2\n"
     ]
    },
    {
     "name": "stderr",
     "output_type": "stream",
     "text": [
      "\n",
      "\n",
      "\n",
      "\n",
      "\r",
      " 42%|████▏     | 505/1200 [04:10<05:29,  2.11it/s]"
     ]
    },
    {
     "name": "stdout",
     "output_type": "stream",
     "text": [
      "max at end of edge summation 1\n",
      "summer max 4\n",
      "level 0; %pix 0.5814095052083333\n",
      "level 1; %pix 0.21404296875\n",
      "level 2; %pix 0.011028645833333333\n",
      "threshold 2\n",
      "percent activated pixels 0.011028645833333333\n",
      "max of morphed is 1\n",
      "1\n"
     ]
    },
    {
     "name": "stderr",
     "output_type": "stream",
     "text": [
      "\u001b[A\u001b[A\u001b[A\u001b[A"
     ]
    },
    {
     "name": "stdout",
     "output_type": "stream",
     "text": [
      "max at end of edge summation 2\n",
      "max at end of edge summation 2\n"
     ]
    },
    {
     "name": "stderr",
     "output_type": "stream",
     "text": [
      "\n",
      "\n",
      "\n",
      "\n",
      "\r",
      " 42%|████▏     | 506/1200 [04:10<05:32,  2.09it/s]"
     ]
    },
    {
     "name": "stdout",
     "output_type": "stream",
     "text": [
      "max at end of edge summation 1\n",
      "summer max 4\n",
      "level 0; %pix 0.5910525173611111\n",
      "level 1; %pix 0.2194943576388889\n",
      "level 2; %pix 0.011251085069444444\n",
      "threshold 2\n",
      "percent activated pixels 0.011251085069444444\n",
      "max of morphed is 1\n",
      "1\n"
     ]
    },
    {
     "name": "stderr",
     "output_type": "stream",
     "text": [
      "\u001b[A\u001b[A\u001b[A\u001b[A"
     ]
    },
    {
     "name": "stdout",
     "output_type": "stream",
     "text": [
      "max at end of edge summation 2\n",
      "max at end of edge summation 2\n"
     ]
    },
    {
     "name": "stderr",
     "output_type": "stream",
     "text": [
      "\n",
      "\n",
      "\n",
      "\n",
      "\r",
      " 42%|████▏     | 507/1200 [04:11<05:30,  2.10it/s]"
     ]
    },
    {
     "name": "stdout",
     "output_type": "stream",
     "text": [
      "max at end of edge summation 1\n",
      "summer max 4\n",
      "level 0; %pix 0.5800596788194444\n",
      "level 1; %pix 0.213544921875\n",
      "level 2; %pix 0.011149088541666666\n",
      "threshold 2\n",
      "percent activated pixels 0.011149088541666666\n",
      "max of morphed is 1\n",
      "1\n"
     ]
    },
    {
     "name": "stderr",
     "output_type": "stream",
     "text": [
      "\u001b[A\u001b[A\u001b[A\u001b[A"
     ]
    },
    {
     "name": "stdout",
     "output_type": "stream",
     "text": [
      "max at end of edge summation 2\n",
      "max at end of edge summation 2\n"
     ]
    },
    {
     "name": "stderr",
     "output_type": "stream",
     "text": [
      "\n",
      "\n",
      "\n",
      "\n",
      "\r",
      " 42%|████▏     | 508/1200 [04:11<05:28,  2.11it/s]"
     ]
    },
    {
     "name": "stdout",
     "output_type": "stream",
     "text": [
      "max at end of edge summation 1\n",
      "summer max 4\n",
      "level 0; %pix 0.58630859375\n",
      "level 1; %pix 0.2164626736111111\n",
      "level 2; %pix 0.011214192708333333\n",
      "threshold 2\n",
      "percent activated pixels 0.011214192708333333\n",
      "max of morphed is 1\n",
      "1\n"
     ]
    },
    {
     "name": "stderr",
     "output_type": "stream",
     "text": [
      "\u001b[A\u001b[A\u001b[A\u001b[A"
     ]
    },
    {
     "name": "stdout",
     "output_type": "stream",
     "text": [
      "max at end of edge summation 2\n",
      "max at end of edge summation 2\n"
     ]
    },
    {
     "name": "stderr",
     "output_type": "stream",
     "text": [
      "\n",
      "\n",
      "\n",
      "\n",
      "\r",
      " 42%|████▏     | 509/1200 [04:12<05:22,  2.14it/s]"
     ]
    },
    {
     "name": "stdout",
     "output_type": "stream",
     "text": [
      "max at end of edge summation 1\n",
      "summer max 4\n",
      "level 0; %pix 0.5935731336805555\n",
      "level 1; %pix 0.22060438368055554\n",
      "level 2; %pix 0.010959201388888888\n",
      "threshold 2\n",
      "percent activated pixels 0.010959201388888888\n",
      "max of morphed is 1\n",
      "1\n"
     ]
    },
    {
     "name": "stderr",
     "output_type": "stream",
     "text": [
      "\u001b[A\u001b[A\u001b[A\u001b[A"
     ]
    },
    {
     "name": "stdout",
     "output_type": "stream",
     "text": [
      "max at end of edge summation 2\n",
      "max at end of edge summation 2\n"
     ]
    },
    {
     "name": "stderr",
     "output_type": "stream",
     "text": [
      "\n",
      "\n",
      "\n",
      "\n",
      "\r",
      " 42%|████▎     | 510/1200 [04:12<05:23,  2.13it/s]"
     ]
    },
    {
     "name": "stdout",
     "output_type": "stream",
     "text": [
      "max at end of edge summation 1\n",
      "summer max 4\n",
      "level 0; %pix 0.5794661458333333\n",
      "level 1; %pix 0.21393337673611112\n",
      "level 2; %pix 0.010995008680555555\n",
      "threshold 2\n",
      "percent activated pixels 0.010995008680555555\n",
      "max of morphed is 1\n",
      "1\n"
     ]
    },
    {
     "name": "stderr",
     "output_type": "stream",
     "text": [
      "\u001b[A\u001b[A\u001b[A\u001b[A"
     ]
    },
    {
     "name": "stdout",
     "output_type": "stream",
     "text": [
      "max at end of edge summation 2\n",
      "max at end of edge summation 2\n"
     ]
    },
    {
     "name": "stderr",
     "output_type": "stream",
     "text": [
      "\n",
      "\n",
      "\n",
      "\n",
      "\r",
      " 43%|████▎     | 511/1200 [04:13<05:24,  2.12it/s]"
     ]
    },
    {
     "name": "stdout",
     "output_type": "stream",
     "text": [
      "max at end of edge summation 1\n",
      "summer max 4\n",
      "level 0; %pix 0.5585286458333333\n",
      "level 1; %pix 0.20489583333333333\n",
      "level 2; %pix 0.011439887152777778\n",
      "threshold 2\n",
      "percent activated pixels 0.011439887152777778\n",
      "max of morphed is 1\n",
      "1\n"
     ]
    },
    {
     "name": "stderr",
     "output_type": "stream",
     "text": [
      "\u001b[A\u001b[A\u001b[A\u001b[A"
     ]
    },
    {
     "name": "stdout",
     "output_type": "stream",
     "text": [
      "max at end of edge summation 2\n",
      "max at end of edge summation 2\n"
     ]
    },
    {
     "name": "stderr",
     "output_type": "stream",
     "text": [
      "\n",
      "\n",
      "\n",
      "\n",
      "\r",
      " 43%|████▎     | 512/1200 [04:13<05:22,  2.13it/s]"
     ]
    },
    {
     "name": "stdout",
     "output_type": "stream",
     "text": [
      "max at end of edge summation 1\n",
      "summer max 4\n",
      "level 0; %pix 0.5442274305555556\n",
      "level 1; %pix 0.19912760416666667\n",
      "level 2; %pix 0.011345486111111112\n",
      "threshold 2\n",
      "percent activated pixels 0.011345486111111112\n",
      "max of morphed is 1\n",
      "1\n"
     ]
    },
    {
     "name": "stderr",
     "output_type": "stream",
     "text": [
      "\u001b[A\u001b[A\u001b[A\u001b[A"
     ]
    },
    {
     "name": "stdout",
     "output_type": "stream",
     "text": [
      "max at end of edge summation 2\n",
      "max at end of edge summation 2\n"
     ]
    },
    {
     "name": "stderr",
     "output_type": "stream",
     "text": [
      "\n",
      "\n",
      "\n",
      "\n",
      "\r",
      " 43%|████▎     | 513/1200 [04:14<05:21,  2.14it/s]"
     ]
    },
    {
     "name": "stdout",
     "output_type": "stream",
     "text": [
      "max at end of edge summation 1\n",
      "summer max 4\n",
      "level 0; %pix 0.5526638454861111\n",
      "level 1; %pix 0.2027560763888889\n",
      "level 2; %pix 0.01131618923611111\n",
      "threshold 2\n",
      "percent activated pixels 0.01131618923611111\n",
      "max of morphed is 1\n",
      "1\n"
     ]
    },
    {
     "name": "stderr",
     "output_type": "stream",
     "text": [
      "\u001b[A\u001b[A\u001b[A\u001b[A"
     ]
    },
    {
     "name": "stdout",
     "output_type": "stream",
     "text": [
      "max at end of edge summation 2\n",
      "max at end of edge summation 2\n"
     ]
    },
    {
     "name": "stderr",
     "output_type": "stream",
     "text": [
      "\n",
      "\n",
      "\n",
      "\n",
      "\r",
      " 43%|████▎     | 514/1200 [04:14<05:22,  2.13it/s]"
     ]
    },
    {
     "name": "stdout",
     "output_type": "stream",
     "text": [
      "max at end of edge summation 1\n",
      "summer max 4\n",
      "level 0; %pix 0.5557693142361111\n",
      "level 1; %pix 0.20285915798611112\n",
      "level 2; %pix 0.011321614583333334\n",
      "threshold 2\n",
      "percent activated pixels 0.011321614583333334\n",
      "max of morphed is 1\n",
      "1\n"
     ]
    },
    {
     "name": "stderr",
     "output_type": "stream",
     "text": [
      "\u001b[A\u001b[A\u001b[A\u001b[A"
     ]
    },
    {
     "name": "stdout",
     "output_type": "stream",
     "text": [
      "max at end of edge summation 2\n",
      "max at end of edge summation 2\n"
     ]
    },
    {
     "name": "stderr",
     "output_type": "stream",
     "text": [
      "\n",
      "\n",
      "\n",
      "\n",
      "\r",
      " 43%|████▎     | 515/1200 [04:15<05:19,  2.15it/s]"
     ]
    },
    {
     "name": "stdout",
     "output_type": "stream",
     "text": [
      "max at end of edge summation 1\n",
      "summer max 4\n",
      "level 0; %pix 0.5701812065972223\n",
      "level 1; %pix 0.2108127170138889\n",
      "level 2; %pix 0.011167534722222223\n",
      "threshold 2\n",
      "percent activated pixels 0.011167534722222223\n",
      "max of morphed is 1\n",
      "1\n"
     ]
    },
    {
     "name": "stderr",
     "output_type": "stream",
     "text": [
      "\u001b[A\u001b[A\u001b[A\u001b[A"
     ]
    },
    {
     "name": "stdout",
     "output_type": "stream",
     "text": [
      "max at end of edge summation 2\n",
      "max at end of edge summation 2\n"
     ]
    },
    {
     "name": "stderr",
     "output_type": "stream",
     "text": [
      "\n",
      "\n",
      "\n",
      "\n",
      "\r",
      " 43%|████▎     | 516/1200 [04:15<05:19,  2.14it/s]"
     ]
    },
    {
     "name": "stdout",
     "output_type": "stream",
     "text": [
      "max at end of edge summation 1\n",
      "summer max 4\n",
      "level 0; %pix 0.5582280815972223\n",
      "level 1; %pix 0.20456922743055556\n",
      "level 2; %pix 0.011168619791666667\n",
      "threshold 2\n",
      "percent activated pixels 0.011168619791666667\n",
      "max of morphed is 1\n",
      "1\n"
     ]
    },
    {
     "name": "stderr",
     "output_type": "stream",
     "text": [
      "\u001b[A\u001b[A\u001b[A\u001b[A"
     ]
    },
    {
     "name": "stdout",
     "output_type": "stream",
     "text": [
      "max at end of edge summation 2\n",
      "max at end of edge summation 2\n"
     ]
    },
    {
     "name": "stderr",
     "output_type": "stream",
     "text": [
      "\n",
      "\n",
      "\n",
      "\n",
      "\r",
      " 43%|████▎     | 517/1200 [04:15<05:23,  2.11it/s]"
     ]
    },
    {
     "name": "stdout",
     "output_type": "stream",
     "text": [
      "max at end of edge summation 1\n",
      "summer max 4\n",
      "level 0; %pix 0.5702072482638889\n",
      "level 1; %pix 0.20870225694444444\n",
      "level 2; %pix 0.011105685763888888\n",
      "threshold 2\n",
      "percent activated pixels 0.011105685763888888\n",
      "max of morphed is 1\n",
      "1\n"
     ]
    },
    {
     "name": "stderr",
     "output_type": "stream",
     "text": [
      "\u001b[A\u001b[A\u001b[A\u001b[A"
     ]
    },
    {
     "name": "stdout",
     "output_type": "stream",
     "text": [
      "max at end of edge summation 2\n",
      "max at end of edge summation 1\n"
     ]
    },
    {
     "name": "stderr",
     "output_type": "stream",
     "text": [
      "\n",
      "\n",
      "\n",
      "\n",
      "\r",
      " 43%|████▎     | 518/1200 [04:16<05:23,  2.10it/s]"
     ]
    },
    {
     "name": "stdout",
     "output_type": "stream",
     "text": [
      "max at end of edge summation 1\n",
      "summer max 4\n",
      "level 0; %pix 0.5620822482638889\n",
      "level 1; %pix 0.2044878472222222\n",
      "level 2; %pix 0.011624348958333334\n",
      "threshold 2\n",
      "percent activated pixels 0.011624348958333334\n",
      "max of morphed is 1\n",
      "1\n"
     ]
    },
    {
     "name": "stderr",
     "output_type": "stream",
     "text": [
      "\u001b[A\u001b[A\u001b[A\u001b[A"
     ]
    },
    {
     "name": "stdout",
     "output_type": "stream",
     "text": [
      "max at end of edge summation 2\n",
      "max at end of edge summation 2\n"
     ]
    },
    {
     "name": "stderr",
     "output_type": "stream",
     "text": [
      "\n",
      "\n",
      "\n",
      "\n",
      "\r",
      " 43%|████▎     | 519/1200 [04:16<05:25,  2.09it/s]"
     ]
    },
    {
     "name": "stdout",
     "output_type": "stream",
     "text": [
      "max at end of edge summation 1\n",
      "summer max 4\n",
      "level 0; %pix 0.577578125\n",
      "level 1; %pix 0.21152018229166666\n",
      "level 2; %pix 0.011606987847222222\n",
      "threshold 2\n",
      "percent activated pixels 0.011606987847222222\n",
      "max of morphed is 1\n",
      "1\n"
     ]
    },
    {
     "name": "stderr",
     "output_type": "stream",
     "text": [
      "\u001b[A\u001b[A\u001b[A\u001b[A"
     ]
    },
    {
     "name": "stdout",
     "output_type": "stream",
     "text": [
      "max at end of edge summation 2\n",
      "max at end of edge summation 2\n"
     ]
    },
    {
     "name": "stderr",
     "output_type": "stream",
     "text": [
      "\n",
      "\n",
      "\n",
      "\n",
      "\r",
      " 43%|████▎     | 520/1200 [04:17<05:24,  2.10it/s]"
     ]
    },
    {
     "name": "stdout",
     "output_type": "stream",
     "text": [
      "max at end of edge summation 1\n",
      "summer max 4\n",
      "level 0; %pix 0.5666362847222223\n",
      "level 1; %pix 0.20739149305555554\n",
      "level 2; %pix 0.011852213541666667\n",
      "threshold 2\n",
      "percent activated pixels 0.011852213541666667\n",
      "max of morphed is 1\n",
      "1\n"
     ]
    },
    {
     "name": "stderr",
     "output_type": "stream",
     "text": [
      "\u001b[A\u001b[A\u001b[A\u001b[A"
     ]
    },
    {
     "name": "stdout",
     "output_type": "stream",
     "text": [
      "max at end of edge summation 2\n",
      "max at end of edge summation 2\n"
     ]
    },
    {
     "name": "stderr",
     "output_type": "stream",
     "text": [
      "\n",
      "\n",
      "\n",
      "\n",
      "\r",
      " 43%|████▎     | 521/1200 [04:17<05:17,  2.14it/s]"
     ]
    },
    {
     "name": "stdout",
     "output_type": "stream",
     "text": [
      "max at end of edge summation 1\n",
      "summer max 4\n",
      "level 0; %pix 0.5818684895833334\n",
      "level 1; %pix 0.21223090277777779\n",
      "level 2; %pix 0.011572265625\n",
      "threshold 2\n",
      "percent activated pixels 0.011572265625\n",
      "max of morphed is 1\n",
      "1\n"
     ]
    },
    {
     "name": "stderr",
     "output_type": "stream",
     "text": [
      "\u001b[A\u001b[A\u001b[A\u001b[A"
     ]
    },
    {
     "name": "stdout",
     "output_type": "stream",
     "text": [
      "max at end of edge summation 2\n",
      "max at end of edge summation 2\n"
     ]
    },
    {
     "name": "stderr",
     "output_type": "stream",
     "text": [
      "\n",
      "\n",
      "\n",
      "\n",
      "\r",
      " 44%|████▎     | 522/1200 [04:18<05:19,  2.12it/s]"
     ]
    },
    {
     "name": "stdout",
     "output_type": "stream",
     "text": [
      "max at end of edge summation 1\n",
      "summer max 4\n",
      "level 0; %pix 0.5718359375\n",
      "level 1; %pix 0.20682291666666666\n",
      "level 2; %pix 0.011590711805555556\n",
      "threshold 2\n",
      "percent activated pixels 0.011590711805555556\n",
      "max of morphed is 1\n",
      "1\n"
     ]
    },
    {
     "name": "stderr",
     "output_type": "stream",
     "text": [
      "\u001b[A\u001b[A\u001b[A\u001b[A"
     ]
    },
    {
     "name": "stdout",
     "output_type": "stream",
     "text": [
      "max at end of edge summation 2\n",
      "max at end of edge summation 2\n"
     ]
    },
    {
     "name": "stderr",
     "output_type": "stream",
     "text": [
      "\n",
      "\n",
      "\n",
      "\n",
      "\r",
      " 44%|████▎     | 523/1200 [04:18<05:21,  2.11it/s]"
     ]
    },
    {
     "name": "stdout",
     "output_type": "stream",
     "text": [
      "max at end of edge summation 1\n",
      "summer max 4\n",
      "level 0; %pix 0.5834657118055555\n",
      "level 1; %pix 0.21160373263888888\n",
      "level 2; %pix 0.01149197048611111\n",
      "threshold 2\n",
      "percent activated pixels 0.01149197048611111\n",
      "max of morphed is 1\n",
      "1\n"
     ]
    },
    {
     "name": "stderr",
     "output_type": "stream",
     "text": [
      "\u001b[A\u001b[A\u001b[A\u001b[A"
     ]
    },
    {
     "name": "stdout",
     "output_type": "stream",
     "text": [
      "max at end of edge summation 2\n",
      "max at end of edge summation 2\n"
     ]
    },
    {
     "name": "stderr",
     "output_type": "stream",
     "text": [
      "\n",
      "\n",
      "\n",
      "\n",
      "\r",
      " 44%|████▎     | 524/1200 [04:19<05:21,  2.10it/s]"
     ]
    },
    {
     "name": "stdout",
     "output_type": "stream",
     "text": [
      "max at end of edge summation 1\n",
      "summer max 4\n",
      "level 0; %pix 0.5725954861111111\n",
      "level 1; %pix 0.20752712673611112\n",
      "level 2; %pix 0.011651475694444444\n",
      "threshold 2\n",
      "percent activated pixels 0.011651475694444444\n",
      "max of morphed is 1\n",
      "1\n"
     ]
    },
    {
     "name": "stderr",
     "output_type": "stream",
     "text": [
      "\u001b[A\u001b[A\u001b[A\u001b[A"
     ]
    },
    {
     "name": "stdout",
     "output_type": "stream",
     "text": [
      "max at end of edge summation 2\n",
      "max at end of edge summation 2\n"
     ]
    },
    {
     "name": "stderr",
     "output_type": "stream",
     "text": [
      "\n",
      "\n",
      "\n",
      "\n",
      "\r",
      " 44%|████▍     | 525/1200 [04:19<05:20,  2.11it/s]"
     ]
    },
    {
     "name": "stdout",
     "output_type": "stream",
     "text": [
      "max at end of edge summation 1\n",
      "summer max 4\n",
      "level 0; %pix 0.5792751736111111\n",
      "level 1; %pix 0.2098187934027778\n",
      "level 2; %pix 0.011429036458333333\n",
      "threshold 2\n",
      "percent activated pixels 0.011429036458333333\n",
      "max of morphed is 1\n",
      "1\n"
     ]
    },
    {
     "name": "stderr",
     "output_type": "stream",
     "text": [
      "\u001b[A\u001b[A\u001b[A\u001b[A"
     ]
    },
    {
     "name": "stdout",
     "output_type": "stream",
     "text": [
      "max at end of edge summation 2\n",
      "max at end of edge summation 2\n"
     ]
    },
    {
     "name": "stderr",
     "output_type": "stream",
     "text": [
      "\n",
      "\n",
      "\n",
      "\n",
      "\r",
      " 44%|████▍     | 526/1200 [04:20<05:17,  2.12it/s]"
     ]
    },
    {
     "name": "stdout",
     "output_type": "stream",
     "text": [
      "max at end of edge summation 1\n",
      "summer max 4\n",
      "level 0; %pix 0.5817068142361111\n",
      "level 1; %pix 0.2095974392361111\n",
      "level 2; %pix 0.011484375\n",
      "threshold 2\n",
      "percent activated pixels 0.011484375\n",
      "max of morphed is 1\n",
      "1\n"
     ]
    },
    {
     "name": "stderr",
     "output_type": "stream",
     "text": [
      "\u001b[A\u001b[A\u001b[A\u001b[A"
     ]
    },
    {
     "name": "stdout",
     "output_type": "stream",
     "text": [
      "max at end of edge summation 2\n",
      "max at end of edge summation 2\n"
     ]
    },
    {
     "name": "stderr",
     "output_type": "stream",
     "text": [
      "\n",
      "\n",
      "\n",
      "\n",
      "\r",
      " 44%|████▍     | 527/1200 [04:20<05:15,  2.13it/s]"
     ]
    },
    {
     "name": "stdout",
     "output_type": "stream",
     "text": [
      "max at end of edge summation 1\n",
      "summer max 4\n",
      "level 0; %pix 0.5885145399305556\n",
      "level 1; %pix 0.2126171875\n",
      "level 2; %pix 0.011525607638888888\n",
      "threshold 2\n",
      "percent activated pixels 0.011525607638888888\n",
      "max of morphed is 1\n",
      "1\n"
     ]
    },
    {
     "name": "stderr",
     "output_type": "stream",
     "text": [
      "\u001b[A\u001b[A\u001b[A\u001b[A"
     ]
    },
    {
     "name": "stdout",
     "output_type": "stream",
     "text": [
      "max at end of edge summation 2\n",
      "max at end of edge summation 1\n"
     ]
    },
    {
     "name": "stderr",
     "output_type": "stream",
     "text": [
      "\n",
      "\n",
      "\n",
      "\n",
      "\r",
      " 44%|████▍     | 528/1200 [04:21<05:17,  2.12it/s]"
     ]
    },
    {
     "name": "stdout",
     "output_type": "stream",
     "text": [
      "max at end of edge summation 1\n",
      "summer max 4\n",
      "level 0; %pix 0.5801540798611111\n",
      "level 1; %pix 0.20860460069444445\n",
      "level 2; %pix 0.011677517361111112\n",
      "threshold 2\n",
      "percent activated pixels 0.011677517361111112\n",
      "max of morphed is 1\n",
      "1\n"
     ]
    },
    {
     "name": "stderr",
     "output_type": "stream",
     "text": [
      "\u001b[A\u001b[A\u001b[A\u001b[A"
     ]
    },
    {
     "name": "stdout",
     "output_type": "stream",
     "text": [
      "max at end of edge summation 2\n",
      "max at end of edge summation 1\n"
     ]
    },
    {
     "name": "stderr",
     "output_type": "stream",
     "text": [
      "\n",
      "\n",
      "\n",
      "\n",
      "\r",
      " 44%|████▍     | 529/1200 [04:21<05:18,  2.11it/s]"
     ]
    },
    {
     "name": "stdout",
     "output_type": "stream",
     "text": [
      "max at end of edge summation 1\n",
      "summer max 4\n",
      "level 0; %pix 0.5856022135416666\n",
      "level 1; %pix 0.21062174479166668\n",
      "level 2; %pix 0.011925998263888888\n",
      "threshold 2\n",
      "percent activated pixels 0.011925998263888888\n",
      "max of morphed is 1\n",
      "1\n"
     ]
    },
    {
     "name": "stderr",
     "output_type": "stream",
     "text": [
      "\u001b[A\u001b[A\u001b[A\u001b[A"
     ]
    },
    {
     "name": "stdout",
     "output_type": "stream",
     "text": [
      "max at end of edge summation 2\n",
      "max at end of edge summation 1\n"
     ]
    },
    {
     "name": "stderr",
     "output_type": "stream",
     "text": [
      "\n",
      "\n",
      "\n",
      "\n",
      "\r",
      " 44%|████▍     | 530/1200 [04:22<05:18,  2.10it/s]"
     ]
    },
    {
     "name": "stdout",
     "output_type": "stream",
     "text": [
      "max at end of edge summation 1\n",
      "summer max 4\n",
      "level 0; %pix 0.5868359375\n",
      "level 1; %pix 0.209736328125\n",
      "level 2; %pix 0.011856553819444445\n",
      "threshold 2\n",
      "percent activated pixels 0.011856553819444445\n",
      "max of morphed is 1\n",
      "1\n"
     ]
    },
    {
     "name": "stderr",
     "output_type": "stream",
     "text": [
      "\u001b[A\u001b[A\u001b[A\u001b[A"
     ]
    },
    {
     "name": "stdout",
     "output_type": "stream",
     "text": [
      "max at end of edge summation 2\n",
      "max at end of edge summation 1\n"
     ]
    },
    {
     "name": "stderr",
     "output_type": "stream",
     "text": [
      "\n",
      "\n",
      "\n",
      "\n",
      "\r",
      " 44%|████▍     | 531/1200 [04:22<05:18,  2.10it/s]"
     ]
    },
    {
     "name": "stdout",
     "output_type": "stream",
     "text": [
      "max at end of edge summation 2\n",
      "summer max 4\n",
      "level 0; %pix 0.5916037326388889\n",
      "level 1; %pix 0.21076280381944446\n",
      "level 2; %pix 0.011702473958333333\n",
      "threshold 2\n",
      "percent activated pixels 0.011702473958333333\n",
      "max of morphed is 1\n",
      "1\n"
     ]
    },
    {
     "name": "stderr",
     "output_type": "stream",
     "text": [
      "\u001b[A\u001b[A\u001b[A\u001b[A"
     ]
    },
    {
     "name": "stdout",
     "output_type": "stream",
     "text": [
      "max at end of edge summation 2\n",
      "max at end of edge summation 1\n"
     ]
    },
    {
     "name": "stderr",
     "output_type": "stream",
     "text": [
      "\n",
      "\n",
      "\n",
      "\n",
      "\r",
      " 44%|████▍     | 532/1200 [04:23<05:17,  2.10it/s]"
     ]
    },
    {
     "name": "stdout",
     "output_type": "stream",
     "text": [
      "max at end of edge summation 1\n",
      "summer max 4\n",
      "level 0; %pix 0.591171875\n",
      "level 1; %pix 0.2106098090277778\n",
      "level 2; %pix 0.01162326388888889\n",
      "threshold 2\n",
      "percent activated pixels 0.01162326388888889\n",
      "max of morphed is 1\n",
      "1\n"
     ]
    },
    {
     "name": "stderr",
     "output_type": "stream",
     "text": [
      "\u001b[A\u001b[A\u001b[A\u001b[A"
     ]
    },
    {
     "name": "stdout",
     "output_type": "stream",
     "text": [
      "max at end of edge summation 2\n",
      "max at end of edge summation 1\n"
     ]
    },
    {
     "name": "stderr",
     "output_type": "stream",
     "text": [
      "\n",
      "\n",
      "\n",
      "\n",
      "\r",
      " 44%|████▍     | 533/1200 [04:23<05:09,  2.15it/s]"
     ]
    },
    {
     "name": "stdout",
     "output_type": "stream",
     "text": [
      "max at end of edge summation 1\n",
      "summer max 4\n",
      "level 0; %pix 0.5888997395833333\n",
      "level 1; %pix 0.207998046875\n",
      "level 2; %pix 0.011435546875\n",
      "threshold 2\n",
      "percent activated pixels 0.011435546875\n",
      "max of morphed is 1\n",
      "1\n"
     ]
    },
    {
     "name": "stderr",
     "output_type": "stream",
     "text": [
      "\u001b[A\u001b[A\u001b[A\u001b[A"
     ]
    },
    {
     "name": "stdout",
     "output_type": "stream",
     "text": [
      "max at end of edge summation 2\n",
      "max at end of edge summation 2\n"
     ]
    },
    {
     "name": "stderr",
     "output_type": "stream",
     "text": [
      "\n",
      "\n",
      "\n",
      "\n",
      "\r",
      " 44%|████▍     | 534/1200 [04:24<05:10,  2.14it/s]"
     ]
    },
    {
     "name": "stdout",
     "output_type": "stream",
     "text": [
      "max at end of edge summation 1\n",
      "summer max 4\n",
      "level 0; %pix 0.5880848524305555\n",
      "level 1; %pix 0.207236328125\n",
      "level 2; %pix 0.011199001736111111\n",
      "threshold 2\n",
      "percent activated pixels 0.011199001736111111\n",
      "max of morphed is 1\n",
      "1\n"
     ]
    },
    {
     "name": "stderr",
     "output_type": "stream",
     "text": [
      "\u001b[A\u001b[A\u001b[A\u001b[A"
     ]
    },
    {
     "name": "stdout",
     "output_type": "stream",
     "text": [
      "max at end of edge summation 2\n",
      "max at end of edge summation 1\n"
     ]
    },
    {
     "name": "stderr",
     "output_type": "stream",
     "text": [
      "\n",
      "\n",
      "\n",
      "\n",
      "\r",
      " 45%|████▍     | 535/1200 [04:24<05:13,  2.12it/s]"
     ]
    },
    {
     "name": "stdout",
     "output_type": "stream",
     "text": [
      "max at end of edge summation 1\n",
      "summer max 4\n",
      "level 0; %pix 0.5873415798611111\n",
      "level 1; %pix 0.20753797743055555\n",
      "level 2; %pix 0.011480034722222223\n",
      "threshold 2\n",
      "percent activated pixels 0.011480034722222223\n",
      "max of morphed is 1\n",
      "1\n"
     ]
    },
    {
     "name": "stderr",
     "output_type": "stream",
     "text": [
      "\u001b[A\u001b[A\u001b[A\u001b[A"
     ]
    },
    {
     "name": "stdout",
     "output_type": "stream",
     "text": [
      "max at end of edge summation 2\n",
      "max at end of edge summation 2\n"
     ]
    },
    {
     "name": "stderr",
     "output_type": "stream",
     "text": [
      "\n",
      "\n",
      "\n",
      "\n",
      "\r",
      " 45%|████▍     | 536/1200 [04:24<05:15,  2.10it/s]"
     ]
    },
    {
     "name": "stdout",
     "output_type": "stream",
     "text": [
      "max at end of edge summation 1\n",
      "summer max 4\n",
      "level 0; %pix 0.5866276041666667\n",
      "level 1; %pix 0.20808159722222222\n",
      "level 2; %pix 0.011524522569444445\n",
      "threshold 2\n",
      "percent activated pixels 0.011524522569444445\n",
      "max of morphed is 1\n",
      "1\n"
     ]
    },
    {
     "name": "stderr",
     "output_type": "stream",
     "text": [
      "\u001b[A\u001b[A\u001b[A\u001b[A"
     ]
    },
    {
     "name": "stdout",
     "output_type": "stream",
     "text": [
      "max at end of edge summation 2\n",
      "max at end of edge summation 2\n"
     ]
    },
    {
     "name": "stderr",
     "output_type": "stream",
     "text": [
      "\n",
      "\n",
      "\n",
      "\n",
      "\r",
      " 45%|████▍     | 537/1200 [04:25<05:16,  2.10it/s]"
     ]
    },
    {
     "name": "stdout",
     "output_type": "stream",
     "text": [
      "max at end of edge summation 1\n",
      "summer max 4\n",
      "level 0; %pix 0.5880902777777778\n",
      "level 1; %pix 0.20789605034722222\n",
      "level 2; %pix 0.011151258680555555\n",
      "threshold 2\n",
      "percent activated pixels 0.011151258680555555\n",
      "max of morphed is 1\n",
      "1\n"
     ]
    },
    {
     "name": "stderr",
     "output_type": "stream",
     "text": [
      "\u001b[A\u001b[A\u001b[A\u001b[A"
     ]
    },
    {
     "name": "stdout",
     "output_type": "stream",
     "text": [
      "max at end of edge summation 2\n",
      "max at end of edge summation 2\n"
     ]
    },
    {
     "name": "stderr",
     "output_type": "stream",
     "text": [
      "\n",
      "\n",
      "\n",
      "\n",
      "\r",
      " 45%|████▍     | 538/1200 [04:25<05:16,  2.09it/s]"
     ]
    },
    {
     "name": "stdout",
     "output_type": "stream",
     "text": [
      "max at end of edge summation 1\n",
      "summer max 4\n",
      "level 0; %pix 0.5863606770833333\n",
      "level 1; %pix 0.20723198784722222\n",
      "level 2; %pix 0.011193576388888888\n",
      "threshold 2\n",
      "percent activated pixels 0.011193576388888888\n",
      "max of morphed is 1\n",
      "1\n"
     ]
    },
    {
     "name": "stderr",
     "output_type": "stream",
     "text": [
      "\u001b[A\u001b[A\u001b[A\u001b[A"
     ]
    },
    {
     "name": "stdout",
     "output_type": "stream",
     "text": [
      "max at end of edge summation 2\n",
      "max at end of edge summation 2\n"
     ]
    },
    {
     "name": "stderr",
     "output_type": "stream",
     "text": [
      "\n",
      "\n",
      "\n",
      "\n",
      "\r",
      " 45%|████▍     | 539/1200 [04:26<05:09,  2.13it/s]"
     ]
    },
    {
     "name": "stdout",
     "output_type": "stream",
     "text": [
      "max at end of edge summation 1\n",
      "summer max 4\n",
      "level 0; %pix 0.5809190538194444\n",
      "level 1; %pix 0.20593098958333333\n",
      "level 2; %pix 0.011387803819444445\n",
      "threshold 2\n",
      "percent activated pixels 0.011387803819444445\n",
      "max of morphed is 1\n",
      "1\n"
     ]
    },
    {
     "name": "stderr",
     "output_type": "stream",
     "text": [
      "\u001b[A\u001b[A\u001b[A\u001b[A"
     ]
    },
    {
     "name": "stdout",
     "output_type": "stream",
     "text": [
      "max at end of edge summation 2\n",
      "max at end of edge summation 2\n"
     ]
    },
    {
     "name": "stderr",
     "output_type": "stream",
     "text": [
      "\n",
      "\n",
      "\n",
      "\n",
      "\r",
      " 45%|████▌     | 540/1200 [04:26<05:13,  2.11it/s]"
     ]
    },
    {
     "name": "stdout",
     "output_type": "stream",
     "text": [
      "max at end of edge summation 1\n",
      "summer max 4\n",
      "level 0; %pix 0.5796896701388888\n",
      "level 1; %pix 0.2047341579861111\n",
      "level 2; %pix 0.011359592013888888\n",
      "threshold 2\n",
      "percent activated pixels 0.011359592013888888\n",
      "max of morphed is 1\n",
      "1\n"
     ]
    },
    {
     "name": "stderr",
     "output_type": "stream",
     "text": [
      "\u001b[A\u001b[A\u001b[A\u001b[A"
     ]
    },
    {
     "name": "stdout",
     "output_type": "stream",
     "text": [
      "max at end of edge summation 2\n",
      "max at end of edge summation 2\n"
     ]
    },
    {
     "name": "stderr",
     "output_type": "stream",
     "text": [
      "\n",
      "\n",
      "\n",
      "\n",
      "\r",
      " 45%|████▌     | 541/1200 [04:27<05:11,  2.12it/s]"
     ]
    },
    {
     "name": "stdout",
     "output_type": "stream",
     "text": [
      "max at end of edge summation 1\n",
      "summer max 4\n",
      "level 0; %pix 0.5695855034722223\n",
      "level 1; %pix 0.198759765625\n",
      "level 2; %pix 0.012253689236111111\n",
      "threshold 2\n",
      "percent activated pixels 0.012253689236111111\n",
      "max of morphed is 1\n",
      "1\n"
     ]
    },
    {
     "name": "stderr",
     "output_type": "stream",
     "text": [
      "\u001b[A\u001b[A\u001b[A\u001b[A"
     ]
    },
    {
     "name": "stdout",
     "output_type": "stream",
     "text": [
      "max at end of edge summation 2\n",
      "max at end of edge summation 2\n"
     ]
    },
    {
     "name": "stderr",
     "output_type": "stream",
     "text": [
      "\n",
      "\n",
      "\n",
      "\n",
      "\r",
      " 45%|████▌     | 542/1200 [04:27<05:11,  2.11it/s]"
     ]
    },
    {
     "name": "stdout",
     "output_type": "stream",
     "text": [
      "max at end of edge summation 2\n",
      "summer max 4\n",
      "level 0; %pix 0.5564181857638889\n",
      "level 1; %pix 0.1950412326388889\n",
      "level 2; %pix 0.011999782986111112\n",
      "threshold 2\n",
      "percent activated pixels 0.011999782986111112\n",
      "max of morphed is 1\n",
      "1\n"
     ]
    },
    {
     "name": "stderr",
     "output_type": "stream",
     "text": [
      "\u001b[A\u001b[A\u001b[A\u001b[A"
     ]
    },
    {
     "name": "stdout",
     "output_type": "stream",
     "text": [
      "max at end of edge summation 2\n",
      "max at end of edge summation 2\n"
     ]
    },
    {
     "name": "stderr",
     "output_type": "stream",
     "text": [
      "\n",
      "\n",
      "\n",
      "\n",
      "\r",
      " 45%|████▌     | 543/1200 [04:28<05:11,  2.11it/s]"
     ]
    },
    {
     "name": "stdout",
     "output_type": "stream",
     "text": [
      "max at end of edge summation 1\n",
      "summer max 4\n",
      "level 0; %pix 0.5561642795138889\n",
      "level 1; %pix 0.19495876736111112\n",
      "level 2; %pix 0.011870659722222222\n",
      "threshold 2\n",
      "percent activated pixels 0.011870659722222222\n",
      "max of morphed is 1\n",
      "1\n"
     ]
    },
    {
     "name": "stderr",
     "output_type": "stream",
     "text": [
      "\u001b[A\u001b[A\u001b[A\u001b[A"
     ]
    },
    {
     "name": "stdout",
     "output_type": "stream",
     "text": [
      "max at end of edge summation 2\n",
      "max at end of edge summation 1\n"
     ]
    },
    {
     "name": "stderr",
     "output_type": "stream",
     "text": [
      "\n",
      "\n",
      "\n",
      "\n",
      "\r",
      " 45%|████▌     | 544/1200 [04:28<05:10,  2.11it/s]"
     ]
    },
    {
     "name": "stdout",
     "output_type": "stream",
     "text": [
      "max at end of edge summation 1\n",
      "summer max 4\n",
      "level 0; %pix 0.5590093315972222\n",
      "level 1; %pix 0.19492296006944446\n",
      "level 2; %pix 0.011085069444444444\n",
      "threshold 2\n",
      "percent activated pixels 0.011085069444444444\n",
      "max of morphed is 1\n",
      "1\n"
     ]
    },
    {
     "name": "stderr",
     "output_type": "stream",
     "text": [
      "\u001b[A\u001b[A\u001b[A\u001b[A"
     ]
    },
    {
     "name": "stdout",
     "output_type": "stream",
     "text": [
      "max at end of edge summation 2\n",
      "max at end of edge summation 2\n"
     ]
    },
    {
     "name": "stderr",
     "output_type": "stream",
     "text": [
      "\n",
      "\n",
      "\n",
      "\n",
      "\r",
      " 45%|████▌     | 545/1200 [04:29<05:06,  2.14it/s]"
     ]
    },
    {
     "name": "stdout",
     "output_type": "stream",
     "text": [
      "max at end of edge summation 1\n",
      "summer max 4\n",
      "level 0; %pix 0.5642371961805556\n",
      "level 1; %pix 0.1959906684027778\n",
      "level 2; %pix 0.009990234375\n",
      "threshold 2\n",
      "percent activated pixels 0.009990234375\n",
      "max of morphed is 1\n",
      "1\n"
     ]
    },
    {
     "name": "stderr",
     "output_type": "stream",
     "text": [
      "\u001b[A\u001b[A\u001b[A\u001b[A"
     ]
    },
    {
     "name": "stdout",
     "output_type": "stream",
     "text": [
      "max at end of edge summation 2\n",
      "max at end of edge summation 2\n"
     ]
    },
    {
     "name": "stderr",
     "output_type": "stream",
     "text": [
      "\n",
      "\n",
      "\n",
      "\n",
      "\r",
      " 46%|████▌     | 546/1200 [04:29<05:08,  2.12it/s]"
     ]
    },
    {
     "name": "stdout",
     "output_type": "stream",
     "text": [
      "max at end of edge summation 1\n",
      "summer max 4\n",
      "level 0; %pix 0.5577897135416666\n",
      "level 1; %pix 0.19160698784722222\n",
      "level 2; %pix 0.009458550347222223\n",
      "threshold 2\n",
      "percent activated pixels 0.009458550347222223\n",
      "max of morphed is 1\n",
      "1\n"
     ]
    },
    {
     "name": "stderr",
     "output_type": "stream",
     "text": [
      "\u001b[A\u001b[A\u001b[A\u001b[A"
     ]
    },
    {
     "name": "stdout",
     "output_type": "stream",
     "text": [
      "max at end of edge summation 2\n",
      "max at end of edge summation 2\n"
     ]
    },
    {
     "name": "stderr",
     "output_type": "stream",
     "text": [
      "\n",
      "\n",
      "\n",
      "\n",
      "\r",
      " 46%|████▌     | 547/1200 [04:30<05:08,  2.12it/s]"
     ]
    },
    {
     "name": "stdout",
     "output_type": "stream",
     "text": [
      "max at end of edge summation 2\n",
      "summer max 4\n",
      "level 0; %pix 0.5457703993055556\n",
      "level 1; %pix 0.1858745659722222\n",
      "level 2; %pix 0.008902994791666667\n",
      "threshold 2\n",
      "percent activated pixels 0.008902994791666667\n",
      "max of morphed is 1\n",
      "1\n"
     ]
    },
    {
     "name": "stderr",
     "output_type": "stream",
     "text": [
      "\u001b[A\u001b[A\u001b[A\u001b[A"
     ]
    },
    {
     "name": "stdout",
     "output_type": "stream",
     "text": [
      "max at end of edge summation 2\n",
      "max at end of edge summation 2\n"
     ]
    },
    {
     "name": "stderr",
     "output_type": "stream",
     "text": [
      "\n",
      "\n",
      "\n",
      "\n",
      "\r",
      " 46%|████▌     | 548/1200 [04:30<05:07,  2.12it/s]"
     ]
    },
    {
     "name": "stdout",
     "output_type": "stream",
     "text": [
      "max at end of edge summation 1\n",
      "summer max 4\n",
      "level 0; %pix 0.5536848958333334\n",
      "level 1; %pix 0.18813368055555554\n",
      "level 2; %pix 0.008664279513888888\n",
      "threshold 2\n",
      "percent activated pixels 0.008664279513888888\n",
      "max of morphed is 1\n",
      "1\n"
     ]
    },
    {
     "name": "stderr",
     "output_type": "stream",
     "text": [
      "\u001b[A\u001b[A\u001b[A\u001b[A"
     ]
    },
    {
     "name": "stdout",
     "output_type": "stream",
     "text": [
      "max at end of edge summation 2\n",
      "max at end of edge summation 2\n"
     ]
    },
    {
     "name": "stderr",
     "output_type": "stream",
     "text": [
      "\n",
      "\n",
      "\n",
      "\n",
      "\r",
      " 46%|████▌     | 549/1200 [04:31<05:07,  2.12it/s]"
     ]
    },
    {
     "name": "stdout",
     "output_type": "stream",
     "text": [
      "max at end of edge summation 1\n",
      "summer max 4\n",
      "level 0; %pix 0.5465733506944445\n",
      "level 1; %pix 0.1856597222222222\n",
      "level 2; %pix 0.0083984375\n",
      "threshold 2\n",
      "percent activated pixels 0.0083984375\n",
      "max of morphed is 1\n",
      "1\n"
     ]
    },
    {
     "name": "stderr",
     "output_type": "stream",
     "text": [
      "\u001b[A\u001b[A\u001b[A\u001b[A"
     ]
    },
    {
     "name": "stdout",
     "output_type": "stream",
     "text": [
      "max at end of edge summation 2\n",
      "max at end of edge summation 2\n"
     ]
    },
    {
     "name": "stderr",
     "output_type": "stream",
     "text": [
      "\n",
      "\n",
      "\n",
      "\n",
      "\r",
      " 46%|████▌     | 550/1200 [04:31<05:04,  2.13it/s]"
     ]
    },
    {
     "name": "stdout",
     "output_type": "stream",
     "text": [
      "max at end of edge summation 1\n",
      "summer max 4\n",
      "level 0; %pix 0.5515603298611111\n",
      "level 1; %pix 0.18779622395833334\n",
      "level 2; %pix 0.008101128472222222\n",
      "threshold 2\n",
      "percent activated pixels 0.008101128472222222\n",
      "max of morphed is 1\n",
      "1\n"
     ]
    },
    {
     "name": "stderr",
     "output_type": "stream",
     "text": [
      "\u001b[A\u001b[A\u001b[A\u001b[A"
     ]
    },
    {
     "name": "stdout",
     "output_type": "stream",
     "text": [
      "max at end of edge summation 2\n",
      "max at end of edge summation 2\n"
     ]
    },
    {
     "name": "stderr",
     "output_type": "stream",
     "text": [
      "\n",
      "\n",
      "\n",
      "\n",
      "\r",
      " 46%|████▌     | 551/1200 [04:32<05:00,  2.16it/s]"
     ]
    },
    {
     "name": "stdout",
     "output_type": "stream",
     "text": [
      "max at end of edge summation 1\n",
      "summer max 4\n",
      "level 0; %pix 0.5375065104166666\n",
      "level 1; %pix 0.1831076388888889\n",
      "level 2; %pix 0.008138020833333334\n",
      "threshold 2\n",
      "percent activated pixels 0.008138020833333334\n",
      "max of morphed is 1\n",
      "1\n"
     ]
    },
    {
     "name": "stderr",
     "output_type": "stream",
     "text": [
      "\u001b[A\u001b[A\u001b[A\u001b[A"
     ]
    },
    {
     "name": "stdout",
     "output_type": "stream",
     "text": [
      "max at end of edge summation 2\n",
      "max at end of edge summation 2\n"
     ]
    },
    {
     "name": "stderr",
     "output_type": "stream",
     "text": [
      "\n",
      "\n",
      "\n",
      "\n",
      "\r",
      " 46%|████▌     | 552/1200 [04:32<05:02,  2.15it/s]"
     ]
    },
    {
     "name": "stdout",
     "output_type": "stream",
     "text": [
      "max at end of edge summation 1\n",
      "summer max 4\n",
      "level 0; %pix 0.5394911024305555\n",
      "level 1; %pix 0.18397135416666666\n",
      "level 2; %pix 0.007810329861111111\n",
      "threshold 2\n",
      "percent activated pixels 0.007810329861111111\n",
      "max of morphed is 1\n",
      "1\n"
     ]
    },
    {
     "name": "stderr",
     "output_type": "stream",
     "text": [
      "\u001b[A\u001b[A\u001b[A\u001b[A"
     ]
    },
    {
     "name": "stdout",
     "output_type": "stream",
     "text": [
      "max at end of edge summation 2\n",
      "max at end of edge summation 2\n"
     ]
    },
    {
     "name": "stderr",
     "output_type": "stream",
     "text": [
      "\n",
      "\n",
      "\n",
      "\n",
      "\r",
      " 46%|████▌     | 553/1200 [04:32<05:05,  2.12it/s]"
     ]
    },
    {
     "name": "stdout",
     "output_type": "stream",
     "text": [
      "max at end of edge summation 1\n",
      "summer max 4\n",
      "level 0; %pix 0.5410698784722222\n",
      "level 1; %pix 0.184677734375\n",
      "level 2; %pix 0.007941623263888888\n",
      "threshold 2\n",
      "percent activated pixels 0.007941623263888888\n",
      "max of morphed is 1\n",
      "1\n"
     ]
    },
    {
     "name": "stderr",
     "output_type": "stream",
     "text": [
      "\u001b[A\u001b[A\u001b[A\u001b[A"
     ]
    },
    {
     "name": "stdout",
     "output_type": "stream",
     "text": [
      "max at end of edge summation 2\n",
      "max at end of edge summation 1\n"
     ]
    },
    {
     "name": "stderr",
     "output_type": "stream",
     "text": [
      "\n",
      "\n",
      "\n",
      "\n",
      "\r",
      " 46%|████▌     | 554/1200 [04:33<05:05,  2.12it/s]"
     ]
    },
    {
     "name": "stdout",
     "output_type": "stream",
     "text": [
      "max at end of edge summation 1\n",
      "summer max 4\n",
      "level 0; %pix 0.5403298611111111\n",
      "level 1; %pix 0.18404188368055555\n",
      "level 2; %pix 0.007784288194444444\n",
      "threshold 2\n",
      "percent activated pixels 0.007784288194444444\n",
      "max of morphed is 1\n",
      "1\n"
     ]
    },
    {
     "name": "stderr",
     "output_type": "stream",
     "text": [
      "\u001b[A\u001b[A\u001b[A\u001b[A"
     ]
    },
    {
     "name": "stdout",
     "output_type": "stream",
     "text": [
      "max at end of edge summation 2\n",
      "max at end of edge summation 1\n"
     ]
    },
    {
     "name": "stderr",
     "output_type": "stream",
     "text": [
      "\n",
      "\n",
      "\n",
      "\n",
      "\r",
      " 46%|████▋     | 555/1200 [04:33<05:03,  2.13it/s]"
     ]
    },
    {
     "name": "stdout",
     "output_type": "stream",
     "text": [
      "max at end of edge summation 1\n",
      "summer max 4\n",
      "level 0; %pix 0.5445659722222222\n",
      "level 1; %pix 0.1845952690972222\n",
      "level 2; %pix 0.007486979166666667\n",
      "threshold 2\n",
      "percent activated pixels 0.007486979166666667\n",
      "max of morphed is 1\n",
      "1\n"
     ]
    },
    {
     "name": "stderr",
     "output_type": "stream",
     "text": [
      "\u001b[A\u001b[A\u001b[A\u001b[A"
     ]
    },
    {
     "name": "stdout",
     "output_type": "stream",
     "text": [
      "max at end of edge summation 2\n",
      "max at end of edge summation 1\n"
     ]
    },
    {
     "name": "stderr",
     "output_type": "stream",
     "text": [
      "\n",
      "\n",
      "\n",
      "\n",
      "\r",
      " 46%|████▋     | 556/1200 [04:34<05:03,  2.13it/s]"
     ]
    },
    {
     "name": "stdout",
     "output_type": "stream",
     "text": [
      "max at end of edge summation 1\n",
      "summer max 4\n",
      "level 0; %pix 0.5340581597222223\n",
      "level 1; %pix 0.18127061631944444\n",
      "level 2; %pix 0.007316623263888889\n",
      "threshold 2\n",
      "percent activated pixels 0.007316623263888889\n",
      "max of morphed is 1\n",
      "1\n"
     ]
    },
    {
     "name": "stderr",
     "output_type": "stream",
     "text": [
      "\u001b[A\u001b[A\u001b[A\u001b[A"
     ]
    },
    {
     "name": "stdout",
     "output_type": "stream",
     "text": [
      "max at end of edge summation 2\n",
      "max at end of edge summation 1\n"
     ]
    },
    {
     "name": "stderr",
     "output_type": "stream",
     "text": [
      "\n",
      "\n",
      "\n",
      "\n",
      "\r",
      " 46%|████▋     | 557/1200 [04:34<04:58,  2.16it/s]"
     ]
    },
    {
     "name": "stdout",
     "output_type": "stream",
     "text": [
      "max at end of edge summation 2\n",
      "summer max 4\n",
      "level 0; %pix 0.5345442708333333\n",
      "level 1; %pix 0.1822189670138889\n",
      "level 2; %pix 0.007557508680555556\n",
      "threshold 2\n",
      "percent activated pixels 0.007557508680555556\n",
      "max of morphed is 1\n",
      "1\n"
     ]
    },
    {
     "name": "stderr",
     "output_type": "stream",
     "text": [
      "\u001b[A\u001b[A\u001b[A\u001b[A"
     ]
    },
    {
     "name": "stdout",
     "output_type": "stream",
     "text": [
      "max at end of edge summation 2\n",
      "max at end of edge summation 1\n"
     ]
    },
    {
     "name": "stderr",
     "output_type": "stream",
     "text": [
      "\n",
      "\n",
      "\n",
      "\n",
      "\r",
      " 46%|████▋     | 558/1200 [04:35<04:59,  2.14it/s]"
     ]
    },
    {
     "name": "stdout",
     "output_type": "stream",
     "text": [
      "max at end of edge summation 2\n",
      "summer max 4\n",
      "level 0; %pix 0.5365060763888889\n",
      "level 1; %pix 0.18347222222222223\n",
      "level 2; %pix 0.007776692708333333\n",
      "threshold 2\n",
      "percent activated pixels 0.007776692708333333\n",
      "max of morphed is 1\n",
      "1\n"
     ]
    },
    {
     "name": "stderr",
     "output_type": "stream",
     "text": [
      "\u001b[A\u001b[A\u001b[A\u001b[A"
     ]
    },
    {
     "name": "stdout",
     "output_type": "stream",
     "text": [
      "max at end of edge summation 2\n",
      "max at end of edge summation 2\n"
     ]
    },
    {
     "name": "stderr",
     "output_type": "stream",
     "text": [
      "\n",
      "\n",
      "\n",
      "\n",
      "\r",
      " 47%|████▋     | 559/1200 [04:35<04:59,  2.14it/s]"
     ]
    },
    {
     "name": "stdout",
     "output_type": "stream",
     "text": [
      "max at end of edge summation 1\n",
      "summer max 4\n",
      "level 0; %pix 0.5438617621527778\n",
      "level 1; %pix 0.187001953125\n",
      "level 2; %pix 0.00803927951388889\n",
      "threshold 2\n",
      "percent activated pixels 0.00803927951388889\n",
      "max of morphed is 1\n",
      "1\n"
     ]
    },
    {
     "name": "stderr",
     "output_type": "stream",
     "text": [
      "\u001b[A\u001b[A\u001b[A\u001b[A"
     ]
    },
    {
     "name": "stdout",
     "output_type": "stream",
     "text": [
      "max at end of edge summation 2\n",
      "max at end of edge summation 1\n"
     ]
    },
    {
     "name": "stderr",
     "output_type": "stream",
     "text": [
      "\n",
      "\n",
      "\n",
      "\n",
      "\r",
      " 47%|████▋     | 560/1200 [04:36<04:59,  2.14it/s]"
     ]
    },
    {
     "name": "stdout",
     "output_type": "stream",
     "text": [
      "max at end of edge summation 1\n",
      "summer max 4\n",
      "level 0; %pix 0.5322829861111111\n",
      "level 1; %pix 0.18277994791666666\n",
      "level 2; %pix 0.008419053819444444\n",
      "threshold 2\n",
      "percent activated pixels 0.008419053819444444\n",
      "max of morphed is 1\n",
      "1\n"
     ]
    },
    {
     "name": "stderr",
     "output_type": "stream",
     "text": [
      "\u001b[A\u001b[A\u001b[A\u001b[A"
     ]
    },
    {
     "name": "stdout",
     "output_type": "stream",
     "text": [
      "max at end of edge summation 2\n",
      "max at end of edge summation 1\n"
     ]
    },
    {
     "name": "stderr",
     "output_type": "stream",
     "text": [
      "\n",
      "\n",
      "\n",
      "\n",
      "\r",
      " 47%|████▋     | 561/1200 [04:36<04:58,  2.14it/s]"
     ]
    },
    {
     "name": "stdout",
     "output_type": "stream",
     "text": [
      "max at end of edge summation 2\n",
      "summer max 4\n",
      "level 0; %pix 0.5391069878472222\n",
      "level 1; %pix 0.18484809027777777\n",
      "level 2; %pix 0.008217230902777779\n",
      "threshold 2\n",
      "percent activated pixels 0.008217230902777779\n",
      "max of morphed is 1\n",
      "1\n"
     ]
    },
    {
     "name": "stderr",
     "output_type": "stream",
     "text": [
      "\u001b[A\u001b[A\u001b[A\u001b[A"
     ]
    },
    {
     "name": "stdout",
     "output_type": "stream",
     "text": [
      "max at end of edge summation 2\n",
      "max at end of edge summation 1\n"
     ]
    },
    {
     "name": "stderr",
     "output_type": "stream",
     "text": [
      "\n",
      "\n",
      "\n",
      "\n",
      "\r",
      " 47%|████▋     | 562/1200 [04:37<04:58,  2.13it/s]"
     ]
    },
    {
     "name": "stdout",
     "output_type": "stream",
     "text": [
      "max at end of edge summation 2\n",
      "summer max 4\n",
      "level 0; %pix 0.5230316840277778\n",
      "level 1; %pix 0.17952473958333334\n",
      "level 2; %pix 0.008245442708333333\n",
      "threshold 2\n",
      "percent activated pixels 0.008245442708333333\n",
      "max of morphed is 1\n",
      "1\n"
     ]
    },
    {
     "name": "stderr",
     "output_type": "stream",
     "text": [
      "\u001b[A\u001b[A\u001b[A\u001b[A"
     ]
    },
    {
     "name": "stdout",
     "output_type": "stream",
     "text": [
      "max at end of edge summation 2\n",
      "max at end of edge summation 2\n"
     ]
    },
    {
     "name": "stderr",
     "output_type": "stream",
     "text": [
      "\n",
      "\n",
      "\n",
      "\n",
      "\r",
      " 47%|████▋     | 563/1200 [04:37<04:54,  2.16it/s]"
     ]
    },
    {
     "name": "stdout",
     "output_type": "stream",
     "text": [
      "max at end of edge summation 2\n",
      "summer max 5\n",
      "level 0; %pix 0.523046875\n",
      "level 1; %pix 0.17896809895833332\n",
      "level 2; %pix 0.008147786458333334\n",
      "threshold 2\n",
      "percent activated pixels 0.008147786458333334\n",
      "max of morphed is 1\n",
      "1\n"
     ]
    },
    {
     "name": "stderr",
     "output_type": "stream",
     "text": [
      "\u001b[A\u001b[A\u001b[A\u001b[A"
     ]
    },
    {
     "name": "stdout",
     "output_type": "stream",
     "text": [
      "max at end of edge summation 2\n",
      "max at end of edge summation 2\n"
     ]
    },
    {
     "name": "stderr",
     "output_type": "stream",
     "text": [
      "\n",
      "\n",
      "\n",
      "\n",
      "\r",
      " 47%|████▋     | 564/1200 [04:38<04:57,  2.14it/s]"
     ]
    },
    {
     "name": "stdout",
     "output_type": "stream",
     "text": [
      "max at end of edge summation 1\n",
      "summer max 4\n",
      "level 0; %pix 0.5219607204861111\n",
      "level 1; %pix 0.17724717881944443\n",
      "level 2; %pix 0.0080859375\n",
      "threshold 2\n",
      "percent activated pixels 0.0080859375\n",
      "max of morphed is 1\n",
      "1\n"
     ]
    },
    {
     "name": "stderr",
     "output_type": "stream",
     "text": [
      "\u001b[A\u001b[A\u001b[A\u001b[A"
     ]
    },
    {
     "name": "stdout",
     "output_type": "stream",
     "text": [
      "max at end of edge summation 2\n",
      "max at end of edge summation 2\n"
     ]
    },
    {
     "name": "stderr",
     "output_type": "stream",
     "text": [
      "\n",
      "\n",
      "\n",
      "\n",
      "\r",
      " 47%|████▋     | 565/1200 [04:38<04:56,  2.14it/s]"
     ]
    },
    {
     "name": "stdout",
     "output_type": "stream",
     "text": [
      "max at end of edge summation 1\n",
      "summer max 4\n",
      "level 0; %pix 0.5269064670138889\n",
      "level 1; %pix 0.17783962673611112\n",
      "level 2; %pix 0.007854817708333333\n",
      "threshold 2\n",
      "percent activated pixels 0.007854817708333333\n",
      "max of morphed is 1\n",
      "1\n"
     ]
    },
    {
     "name": "stderr",
     "output_type": "stream",
     "text": [
      "\u001b[A\u001b[A\u001b[A\u001b[A"
     ]
    },
    {
     "name": "stdout",
     "output_type": "stream",
     "text": [
      "max at end of edge summation 2\n",
      "max at end of edge summation 2\n"
     ]
    },
    {
     "name": "stderr",
     "output_type": "stream",
     "text": [
      "\n",
      "\n",
      "\n",
      "\n",
      "\r",
      " 47%|████▋     | 566/1200 [04:39<04:57,  2.13it/s]"
     ]
    },
    {
     "name": "stdout",
     "output_type": "stream",
     "text": [
      "max at end of edge summation 1\n",
      "summer max 4\n",
      "level 0; %pix 0.5060427517361111\n",
      "level 1; %pix 0.1697319878472222\n",
      "level 2; %pix 0.007282986111111111\n",
      "threshold 2\n",
      "percent activated pixels 0.007282986111111111\n",
      "max of morphed is 1\n",
      "1\n"
     ]
    },
    {
     "name": "stderr",
     "output_type": "stream",
     "text": [
      "\u001b[A\u001b[A\u001b[A\u001b[A"
     ]
    },
    {
     "name": "stdout",
     "output_type": "stream",
     "text": [
      "max at end of edge summation 2\n",
      "max at end of edge summation 2\n"
     ]
    },
    {
     "name": "stderr",
     "output_type": "stream",
     "text": [
      "\n",
      "\n",
      "\n",
      "\n",
      "\r",
      " 47%|████▋     | 567/1200 [04:39<04:59,  2.12it/s]"
     ]
    },
    {
     "name": "stdout",
     "output_type": "stream",
     "text": [
      "max at end of edge summation 1\n",
      "summer max 4\n",
      "level 0; %pix 0.5069259982638888\n",
      "level 1; %pix 0.17125434027777778\n",
      "level 2; %pix 0.007156032986111111\n",
      "threshold 2\n",
      "percent activated pixels 0.007156032986111111\n",
      "max of morphed is 1\n",
      "1\n"
     ]
    },
    {
     "name": "stderr",
     "output_type": "stream",
     "text": [
      "\u001b[A\u001b[A\u001b[A\u001b[A"
     ]
    },
    {
     "name": "stdout",
     "output_type": "stream",
     "text": [
      "max at end of edge summation 2\n",
      "max at end of edge summation 2\n"
     ]
    },
    {
     "name": "stderr",
     "output_type": "stream",
     "text": [
      "\n",
      "\n",
      "\n",
      "\n",
      "\r",
      " 47%|████▋     | 568/1200 [04:40<04:56,  2.13it/s]"
     ]
    },
    {
     "name": "stdout",
     "output_type": "stream",
     "text": [
      "max at end of edge summation 1\n",
      "summer max 4\n",
      "level 0; %pix 0.5069835069444445\n",
      "level 1; %pix 0.17029405381944446\n",
      "level 2; %pix 0.006917317708333333\n",
      "threshold 2\n",
      "percent activated pixels 0.006917317708333333\n",
      "max of morphed is 1\n",
      "1\n"
     ]
    },
    {
     "name": "stderr",
     "output_type": "stream",
     "text": [
      "\u001b[A\u001b[A\u001b[A\u001b[A"
     ]
    },
    {
     "name": "stdout",
     "output_type": "stream",
     "text": [
      "max at end of edge summation 2\n",
      "max at end of edge summation 2\n"
     ]
    },
    {
     "name": "stderr",
     "output_type": "stream",
     "text": [
      "\n",
      "\n",
      "\n",
      "\n",
      "\r",
      " 47%|████▋     | 569/1200 [04:40<04:51,  2.16it/s]"
     ]
    },
    {
     "name": "stdout",
     "output_type": "stream",
     "text": [
      "max at end of edge summation 1\n",
      "summer max 4\n",
      "level 0; %pix 0.5146549479166667\n",
      "level 1; %pix 0.17244574652777778\n",
      "level 2; %pix 0.0067860243055555556\n",
      "threshold 2\n",
      "percent activated pixels 0.0067860243055555556\n",
      "max of morphed is 1\n",
      "1\n"
     ]
    },
    {
     "name": "stderr",
     "output_type": "stream",
     "text": [
      "\u001b[A\u001b[A\u001b[A\u001b[A"
     ]
    },
    {
     "name": "stdout",
     "output_type": "stream",
     "text": [
      "max at end of edge summation 2\n",
      "max at end of edge summation 2\n"
     ]
    },
    {
     "name": "stderr",
     "output_type": "stream",
     "text": [
      "\n",
      "\n",
      "\n",
      "\n",
      "\r",
      " 48%|████▊     | 570/1200 [04:40<04:52,  2.15it/s]"
     ]
    },
    {
     "name": "stdout",
     "output_type": "stream",
     "text": [
      "max at end of edge summation 1\n",
      "summer max 4\n",
      "level 0; %pix 0.49254231770833334\n",
      "level 1; %pix 0.16558268229166667\n",
      "level 2; %pix 0.006697048611111111\n",
      "threshold 2\n",
      "percent activated pixels 0.006697048611111111\n",
      "max of morphed is 1\n",
      "1\n"
     ]
    },
    {
     "name": "stderr",
     "output_type": "stream",
     "text": [
      "\u001b[A\u001b[A\u001b[A\u001b[A"
     ]
    },
    {
     "name": "stdout",
     "output_type": "stream",
     "text": [
      "max at end of edge summation 2\n",
      "max at end of edge summation 2\n"
     ]
    },
    {
     "name": "stderr",
     "output_type": "stream",
     "text": [
      "\n",
      "\n",
      "\n",
      "\n",
      "\r",
      " 48%|████▊     | 571/1200 [04:41<04:52,  2.15it/s]"
     ]
    },
    {
     "name": "stdout",
     "output_type": "stream",
     "text": [
      "max at end of edge summation 1\n",
      "summer max 4\n",
      "level 0; %pix 0.5091905381944445\n",
      "level 1; %pix 0.16511067708333332\n",
      "level 2; %pix 0.006630859375\n",
      "threshold 2\n",
      "percent activated pixels 0.006630859375\n",
      "max of morphed is 1\n",
      "1\n"
     ]
    },
    {
     "name": "stderr",
     "output_type": "stream",
     "text": [
      "\u001b[A\u001b[A\u001b[A\u001b[A"
     ]
    },
    {
     "name": "stdout",
     "output_type": "stream",
     "text": [
      "max at end of edge summation 2\n",
      "max at end of edge summation 2\n"
     ]
    },
    {
     "name": "stderr",
     "output_type": "stream",
     "text": [
      "\n",
      "\n",
      "\n",
      "\n",
      "\r",
      " 48%|████▊     | 572/1200 [04:41<04:53,  2.14it/s]"
     ]
    },
    {
     "name": "stdout",
     "output_type": "stream",
     "text": [
      "max at end of edge summation 2\n",
      "summer max 4\n",
      "level 0; %pix 0.5254665798611111\n",
      "level 1; %pix 0.1691796875\n",
      "level 2; %pix 0.006368272569444444\n",
      "threshold 2\n",
      "percent activated pixels 0.006368272569444444\n",
      "max of morphed is 1\n",
      "1\n"
     ]
    },
    {
     "name": "stderr",
     "output_type": "stream",
     "text": [
      "\u001b[A\u001b[A\u001b[A\u001b[A"
     ]
    },
    {
     "name": "stdout",
     "output_type": "stream",
     "text": [
      "max at end of edge summation 2\n",
      "max at end of edge summation 2\n"
     ]
    },
    {
     "name": "stderr",
     "output_type": "stream",
     "text": [
      "\n",
      "\n",
      "\n",
      "\n",
      "\r",
      " 48%|████▊     | 573/1200 [04:42<04:53,  2.14it/s]"
     ]
    },
    {
     "name": "stdout",
     "output_type": "stream",
     "text": [
      "max at end of edge summation 2\n",
      "summer max 5\n",
      "level 0; %pix 0.5096744791666666\n",
      "level 1; %pix 0.16340277777777779\n",
      "level 2; %pix 0.0063823784722222224\n",
      "threshold 2\n",
      "percent activated pixels 0.0063823784722222224\n",
      "max of morphed is 1\n",
      "1\n"
     ]
    },
    {
     "name": "stderr",
     "output_type": "stream",
     "text": [
      "\u001b[A\u001b[A\u001b[A\u001b[A"
     ]
    },
    {
     "name": "stdout",
     "output_type": "stream",
     "text": [
      "max at end of edge summation 2\n",
      "max at end of edge summation 2\n"
     ]
    },
    {
     "name": "stderr",
     "output_type": "stream",
     "text": [
      "\n",
      "\n",
      "\n",
      "\n",
      "\r",
      " 48%|████▊     | 574/1200 [04:42<04:53,  2.13it/s]"
     ]
    },
    {
     "name": "stdout",
     "output_type": "stream",
     "text": [
      "max at end of edge summation 1\n",
      "summer max 4\n",
      "level 0; %pix 0.5100944010416667\n",
      "level 1; %pix 0.16313693576388888\n",
      "level 2; %pix 0.0061653645833333335\n",
      "threshold 2\n",
      "percent activated pixels 0.0061653645833333335\n",
      "max of morphed is 1\n",
      "1\n"
     ]
    },
    {
     "name": "stderr",
     "output_type": "stream",
     "text": [
      "\u001b[A\u001b[A\u001b[A\u001b[A"
     ]
    },
    {
     "name": "stdout",
     "output_type": "stream",
     "text": [
      "max at end of edge summation 2\n",
      "max at end of edge summation 2\n"
     ]
    },
    {
     "name": "stderr",
     "output_type": "stream",
     "text": [
      "\n",
      "\n",
      "\n",
      "\n",
      "\r",
      " 48%|████▊     | 575/1200 [04:43<04:49,  2.16it/s]"
     ]
    },
    {
     "name": "stdout",
     "output_type": "stream",
     "text": [
      "max at end of edge summation 1\n",
      "summer max 4\n",
      "level 0; %pix 0.5079253472222223\n",
      "level 1; %pix 0.1613454861111111\n",
      "level 2; %pix 0.005597873263888889\n",
      "threshold 2\n",
      "percent activated pixels 0.005597873263888889\n",
      "max of morphed is 1\n",
      "1\n"
     ]
    },
    {
     "name": "stderr",
     "output_type": "stream",
     "text": [
      "\u001b[A\u001b[A\u001b[A\u001b[A"
     ]
    },
    {
     "name": "stdout",
     "output_type": "stream",
     "text": [
      "max at end of edge summation 2\n",
      "max at end of edge summation 2\n"
     ]
    },
    {
     "name": "stderr",
     "output_type": "stream",
     "text": [
      "\n",
      "\n",
      "\n",
      "\n",
      "\r",
      " 48%|████▊     | 576/1200 [04:43<04:50,  2.15it/s]"
     ]
    },
    {
     "name": "stdout",
     "output_type": "stream",
     "text": [
      "max at end of edge summation 1\n",
      "summer max 4\n",
      "level 0; %pix 0.5024077690972222\n",
      "level 1; %pix 0.15946723090277778\n",
      "level 2; %pix 0.005385199652777777\n",
      "threshold 2\n",
      "percent activated pixels 0.005385199652777777\n",
      "max of morphed is 1\n",
      "1\n"
     ]
    },
    {
     "name": "stderr",
     "output_type": "stream",
     "text": [
      "\u001b[A\u001b[A\u001b[A\u001b[A"
     ]
    },
    {
     "name": "stdout",
     "output_type": "stream",
     "text": [
      "max at end of edge summation 2\n",
      "max at end of edge summation 2\n"
     ]
    },
    {
     "name": "stderr",
     "output_type": "stream",
     "text": [
      "\n",
      "\n",
      "\n",
      "\n",
      "\r",
      " 48%|████▊     | 577/1200 [04:44<04:50,  2.15it/s]"
     ]
    },
    {
     "name": "stdout",
     "output_type": "stream",
     "text": [
      "max at end of edge summation 1\n",
      "summer max 4\n",
      "level 0; %pix 0.5014724392361111\n",
      "level 1; %pix 0.1598101128472222\n",
      "level 2; %pix 0.005393880208333333\n",
      "threshold 2\n",
      "percent activated pixels 0.005393880208333333\n",
      "max of morphed is 1\n",
      "1\n"
     ]
    },
    {
     "name": "stderr",
     "output_type": "stream",
     "text": [
      "\u001b[A\u001b[A\u001b[A\u001b[A"
     ]
    },
    {
     "name": "stdout",
     "output_type": "stream",
     "text": [
      "max at end of edge summation 2\n",
      "max at end of edge summation 1\n"
     ]
    },
    {
     "name": "stderr",
     "output_type": "stream",
     "text": [
      "\n",
      "\n",
      "\n",
      "\n",
      "\r",
      " 48%|████▊     | 578/1200 [04:44<04:50,  2.14it/s]"
     ]
    },
    {
     "name": "stdout",
     "output_type": "stream",
     "text": [
      "max at end of edge summation 1\n",
      "summer max 4\n",
      "level 0; %pix 0.490361328125\n",
      "level 1; %pix 0.15620008680555555\n",
      "level 2; %pix 0.005300564236111111\n",
      "threshold 2\n",
      "percent activated pixels 0.005300564236111111\n",
      "max of morphed is 1\n",
      "1\n"
     ]
    },
    {
     "name": "stderr",
     "output_type": "stream",
     "text": [
      "\u001b[A\u001b[A\u001b[A\u001b[A"
     ]
    },
    {
     "name": "stdout",
     "output_type": "stream",
     "text": [
      "max at end of edge summation 2\n",
      "max at end of edge summation 1\n"
     ]
    },
    {
     "name": "stderr",
     "output_type": "stream",
     "text": [
      "\n",
      "\n",
      "\n",
      "\n",
      "\r",
      " 48%|████▊     | 579/1200 [04:45<04:52,  2.13it/s]"
     ]
    },
    {
     "name": "stdout",
     "output_type": "stream",
     "text": [
      "max at end of edge summation 1\n",
      "summer max 4\n",
      "level 0; %pix 0.48193250868055554\n",
      "level 1; %pix 0.1534624565972222\n",
      "level 2; %pix 0.005133463541666667\n",
      "threshold 2\n",
      "percent activated pixels 0.005133463541666667\n",
      "max of morphed is 1\n",
      "1\n"
     ]
    },
    {
     "name": "stderr",
     "output_type": "stream",
     "text": [
      "\u001b[A\u001b[A\u001b[A\u001b[A"
     ]
    },
    {
     "name": "stdout",
     "output_type": "stream",
     "text": [
      "max at end of edge summation 2\n",
      "max at end of edge summation 2\n"
     ]
    },
    {
     "name": "stderr",
     "output_type": "stream",
     "text": [
      "\n",
      "\n",
      "\n",
      "\n",
      "\r",
      " 48%|████▊     | 580/1200 [04:45<05:04,  2.04it/s]"
     ]
    },
    {
     "name": "stdout",
     "output_type": "stream",
     "text": [
      "max at end of edge summation 1\n",
      "summer max 4\n",
      "level 0; %pix 0.48287651909722223\n",
      "level 1; %pix 0.15303168402777778\n",
      "level 2; %pix 0.004951171875\n",
      "threshold 2\n",
      "percent activated pixels 0.004951171875\n",
      "max of morphed is 1\n",
      "1\n"
     ]
    },
    {
     "name": "stderr",
     "output_type": "stream",
     "text": [
      "\u001b[A\u001b[A\u001b[A\u001b[A"
     ]
    },
    {
     "name": "stdout",
     "output_type": "stream",
     "text": [
      "max at end of edge summation 2\n",
      "max at end of edge summation 2\n"
     ]
    },
    {
     "name": "stderr",
     "output_type": "stream",
     "text": [
      "\n",
      "\n",
      "\n",
      "\n",
      "\r",
      " 48%|████▊     | 581/1200 [04:46<06:04,  1.70it/s]"
     ]
    },
    {
     "name": "stdout",
     "output_type": "stream",
     "text": [
      "max at end of edge summation 2\n",
      "summer max 4\n",
      "level 0; %pix 0.48076497395833334\n",
      "level 1; %pix 0.15171657986111112\n",
      "level 2; %pix 0.0045345052083333335\n",
      "threshold 2\n",
      "percent activated pixels 0.0045345052083333335\n",
      "max of morphed is 1\n",
      "1\n"
     ]
    },
    {
     "name": "stderr",
     "output_type": "stream",
     "text": [
      "\u001b[A\u001b[A\u001b[A\u001b[A"
     ]
    },
    {
     "name": "stdout",
     "output_type": "stream",
     "text": [
      "max at end of edge summation 2\n",
      "max at end of edge summation 2\n"
     ]
    },
    {
     "name": "stderr",
     "output_type": "stream",
     "text": [
      "\n",
      "\n",
      "\n",
      "\n",
      "\r",
      " 48%|████▊     | 582/1200 [04:47<06:57,  1.48it/s]"
     ]
    },
    {
     "name": "stdout",
     "output_type": "stream",
     "text": [
      "max at end of edge summation 1\n",
      "summer max 4\n",
      "level 0; %pix 0.47150607638888886\n",
      "level 1; %pix 0.14765842013888889\n",
      "level 2; %pix 0.004325086805555556\n",
      "threshold 2\n",
      "percent activated pixels 0.004325086805555556\n",
      "max of morphed is 1\n",
      "1\n"
     ]
    },
    {
     "name": "stderr",
     "output_type": "stream",
     "text": [
      "\u001b[A\u001b[A\u001b[A\u001b[A"
     ]
    },
    {
     "name": "stdout",
     "output_type": "stream",
     "text": [
      "max at end of edge summation 2\n",
      "max at end of edge summation 2\n"
     ]
    },
    {
     "name": "stderr",
     "output_type": "stream",
     "text": [
      "\n",
      "\n",
      "\n",
      "\n",
      "\r",
      " 49%|████▊     | 583/1200 [04:48<07:31,  1.37it/s]"
     ]
    },
    {
     "name": "stdout",
     "output_type": "stream",
     "text": [
      "max at end of edge summation 1\n",
      "summer max 4\n",
      "level 0; %pix 0.4667578125\n",
      "level 1; %pix 0.14607421875\n",
      "level 2; %pix 0.004069010416666667\n",
      "threshold 2\n",
      "percent activated pixels 0.004069010416666667\n",
      "max of morphed is 1\n",
      "1\n"
     ]
    },
    {
     "name": "stderr",
     "output_type": "stream",
     "text": [
      "\u001b[A\u001b[A\u001b[A\u001b[A"
     ]
    },
    {
     "name": "stdout",
     "output_type": "stream",
     "text": [
      "max at end of edge summation 2\n",
      "max at end of edge summation 1\n"
     ]
    },
    {
     "name": "stderr",
     "output_type": "stream",
     "text": [
      "\n",
      "\n",
      "\n",
      "\n",
      "\r",
      " 49%|████▊     | 584/1200 [04:49<07:54,  1.30it/s]"
     ]
    },
    {
     "name": "stdout",
     "output_type": "stream",
     "text": [
      "max at end of edge summation 1\n",
      "summer max 4\n",
      "level 0; %pix 0.45689778645833334\n",
      "level 1; %pix 0.14236219618055557\n",
      "level 2; %pix 0.003488498263888889\n",
      "threshold 2\n",
      "percent activated pixels 0.003488498263888889\n",
      "max of morphed is 1\n",
      "1\n"
     ]
    },
    {
     "name": "stderr",
     "output_type": "stream",
     "text": [
      "\u001b[A\u001b[A\u001b[A\u001b[A"
     ]
    },
    {
     "name": "stdout",
     "output_type": "stream",
     "text": [
      "max at end of edge summation 2\n",
      "max at end of edge summation 1\n"
     ]
    },
    {
     "name": "stderr",
     "output_type": "stream",
     "text": [
      "\n",
      "\n",
      "\n",
      "\n",
      "\r",
      " 49%|████▉     | 585/1200 [04:49<07:13,  1.42it/s]"
     ]
    },
    {
     "name": "stdout",
     "output_type": "stream",
     "text": [
      "max at end of edge summation 1\n",
      "summer max 4\n",
      "level 0; %pix 0.45158962673611114\n",
      "level 1; %pix 0.13962239583333333\n",
      "level 2; %pix 0.0032877604166666667\n",
      "threshold 2\n",
      "percent activated pixels 0.0032877604166666667\n",
      "max of morphed is 1\n",
      "1\n"
     ]
    },
    {
     "name": "stderr",
     "output_type": "stream",
     "text": [
      "\u001b[A\u001b[A\u001b[A\u001b[A"
     ]
    },
    {
     "name": "stdout",
     "output_type": "stream",
     "text": [
      "max at end of edge summation 2\n",
      "max at end of edge summation 1\n"
     ]
    },
    {
     "name": "stderr",
     "output_type": "stream",
     "text": [
      "\n",
      "\n",
      "\n",
      "\n",
      "\r",
      " 49%|████▉     | 586/1200 [04:50<06:25,  1.59it/s]"
     ]
    },
    {
     "name": "stdout",
     "output_type": "stream",
     "text": [
      "max at end of edge summation 1\n",
      "summer max 4\n",
      "level 0; %pix 0.467373046875\n",
      "level 1; %pix 0.14369140625\n",
      "level 2; %pix 0.002939453125\n",
      "threshold 2\n",
      "percent activated pixels 0.002939453125\n",
      "max of morphed is 1\n",
      "1\n"
     ]
    },
    {
     "name": "stderr",
     "output_type": "stream",
     "text": [
      "\u001b[A\u001b[A\u001b[A\u001b[A"
     ]
    },
    {
     "name": "stdout",
     "output_type": "stream",
     "text": [
      "max at end of edge summation 2\n",
      "max at end of edge summation 2\n"
     ]
    },
    {
     "name": "stderr",
     "output_type": "stream",
     "text": [
      "\n",
      "\n",
      "\n",
      "\n",
      "\r",
      " 49%|████▉     | 587/1200 [04:50<05:47,  1.76it/s]"
     ]
    },
    {
     "name": "stdout",
     "output_type": "stream",
     "text": [
      "max at end of edge summation 1\n",
      "summer max 4\n",
      "level 0; %pix 0.45241753472222224\n",
      "level 1; %pix 0.13944661458333332\n",
      "level 2; %pix 0.0027886284722222223\n",
      "threshold 2\n",
      "percent activated pixels 0.0027886284722222223\n",
      "max of morphed is 1\n",
      "1\n"
     ]
    },
    {
     "name": "stderr",
     "output_type": "stream",
     "text": [
      "\u001b[A\u001b[A\u001b[A\u001b[A"
     ]
    },
    {
     "name": "stdout",
     "output_type": "stream",
     "text": [
      "max at end of edge summation 2\n",
      "max at end of edge summation 2\n"
     ]
    },
    {
     "name": "stderr",
     "output_type": "stream",
     "text": [
      "\n",
      "\n",
      "\n",
      "\n",
      "\r",
      " 49%|████▉     | 588/1200 [04:50<05:29,  1.86it/s]"
     ]
    },
    {
     "name": "stdout",
     "output_type": "stream",
     "text": [
      "max at end of edge summation 1\n",
      "summer max 4\n",
      "level 0; %pix 0.46661349826388887\n",
      "level 1; %pix 0.14131184895833335\n",
      "level 2; %pix 0.002453342013888889\n",
      "threshold 2\n",
      "percent activated pixels 0.002453342013888889\n",
      "max of morphed is 1\n",
      "1\n"
     ]
    },
    {
     "name": "stderr",
     "output_type": "stream",
     "text": [
      "\u001b[A\u001b[A\u001b[A\u001b[A"
     ]
    },
    {
     "name": "stdout",
     "output_type": "stream",
     "text": [
      "max at end of edge summation 2\n",
      "max at end of edge summation 2\n"
     ]
    },
    {
     "name": "stderr",
     "output_type": "stream",
     "text": [
      "\n",
      "\n",
      "\n",
      "\n",
      "\r",
      " 49%|████▉     | 589/1200 [04:51<05:15,  1.94it/s]"
     ]
    },
    {
     "name": "stdout",
     "output_type": "stream",
     "text": [
      "max at end of edge summation 1\n",
      "summer max 4\n",
      "level 0; %pix 0.4668782552083333\n",
      "level 1; %pix 0.14052842881944444\n",
      "level 2; %pix 0.0021451822916666668\n",
      "threshold 2\n",
      "percent activated pixels 0.0021451822916666668\n",
      "max of morphed is 1\n",
      "1\n"
     ]
    },
    {
     "name": "stderr",
     "output_type": "stream",
     "text": [
      "\u001b[A\u001b[A\u001b[A\u001b[A"
     ]
    },
    {
     "name": "stdout",
     "output_type": "stream",
     "text": [
      "max at end of edge summation 2\n",
      "max at end of edge summation 1\n"
     ]
    },
    {
     "name": "stderr",
     "output_type": "stream",
     "text": [
      "\n",
      "\n",
      "\n",
      "\n",
      "\r",
      " 49%|████▉     | 590/1200 [04:51<05:02,  2.02it/s]"
     ]
    },
    {
     "name": "stdout",
     "output_type": "stream",
     "text": [
      "max at end of edge summation 2\n",
      "summer max 4\n",
      "level 0; %pix 0.34955186631944446\n",
      "level 1; %pix 0.1336349826388889\n",
      "level 2; %pix 0.003934461805555556\n",
      "threshold 2\n",
      "percent activated pixels 0.003934461805555556\n",
      "max of morphed is 1\n",
      "1\n"
     ]
    },
    {
     "name": "stderr",
     "output_type": "stream",
     "text": [
      "\u001b[A\u001b[A\u001b[A\u001b[A"
     ]
    },
    {
     "name": "stdout",
     "output_type": "stream",
     "text": [
      "max at end of edge summation 2\n",
      "max at end of edge summation 1\n"
     ]
    },
    {
     "name": "stderr",
     "output_type": "stream",
     "text": [
      "\n",
      "\n",
      "\n",
      "\n",
      "\r",
      " 49%|████▉     | 591/1200 [04:52<04:56,  2.05it/s]"
     ]
    },
    {
     "name": "stdout",
     "output_type": "stream",
     "text": [
      "max at end of edge summation 2\n",
      "summer max 5\n",
      "level 0; %pix 0.3601703559027778\n",
      "level 1; %pix 0.13949110243055557\n",
      "level 2; %pix 0.0038302951388888887\n",
      "threshold 2\n",
      "percent activated pixels 0.0038302951388888887\n",
      "max of morphed is 1\n",
      "1\n"
     ]
    },
    {
     "name": "stderr",
     "output_type": "stream",
     "text": [
      "\u001b[A\u001b[A\u001b[A\u001b[A"
     ]
    },
    {
     "name": "stdout",
     "output_type": "stream",
     "text": [
      "max at end of edge summation 2\n",
      "max at end of edge summation 1\n"
     ]
    },
    {
     "name": "stderr",
     "output_type": "stream",
     "text": [
      "\n",
      "\n",
      "\n",
      "\n",
      "\r",
      " 49%|████▉     | 592/1200 [04:52<04:50,  2.09it/s]"
     ]
    },
    {
     "name": "stdout",
     "output_type": "stream",
     "text": [
      "max at end of edge summation 2\n",
      "summer max 4\n",
      "level 0; %pix 0.3104155815972222\n",
      "level 1; %pix 0.11353407118055556\n",
      "level 2; %pix 0.0038313802083333333\n",
      "threshold 2\n",
      "percent activated pixels 0.0038313802083333333\n",
      "max of morphed is 1\n",
      "1\n"
     ]
    },
    {
     "name": "stderr",
     "output_type": "stream",
     "text": [
      "\u001b[A\u001b[A\u001b[A\u001b[A"
     ]
    },
    {
     "name": "stdout",
     "output_type": "stream",
     "text": [
      "max at end of edge summation 2\n",
      "max at end of edge summation 2\n"
     ]
    },
    {
     "name": "stderr",
     "output_type": "stream",
     "text": [
      "\n",
      "\n",
      "\n",
      "\n",
      "\r",
      " 49%|████▉     | 593/1200 [04:53<04:43,  2.14it/s]"
     ]
    },
    {
     "name": "stdout",
     "output_type": "stream",
     "text": [
      "max at end of edge summation 1\n",
      "summer max 4\n",
      "level 0; %pix 0.35686306423611114\n",
      "level 1; %pix 0.18078667534722223\n",
      "level 2; %pix 0.006013454861111111\n",
      "threshold 2\n",
      "percent activated pixels 0.006013454861111111\n",
      "max of morphed is 1\n",
      "1\n"
     ]
    },
    {
     "name": "stderr",
     "output_type": "stream",
     "text": [
      "\u001b[A\u001b[A\u001b[A\u001b[A"
     ]
    },
    {
     "name": "stdout",
     "output_type": "stream",
     "text": [
      "max at end of edge summation 2\n",
      "max at end of edge summation 1\n"
     ]
    },
    {
     "name": "stderr",
     "output_type": "stream",
     "text": [
      "\n",
      "\n",
      "\n",
      "\n",
      "\r",
      " 50%|████▉     | 594/1200 [04:53<04:46,  2.12it/s]"
     ]
    },
    {
     "name": "stdout",
     "output_type": "stream",
     "text": [
      "max at end of edge summation 2\n",
      "summer max 4\n",
      "level 0; %pix 0.4123491753472222\n",
      "level 1; %pix 0.16113172743055557\n",
      "level 2; %pix 0.004810112847222222\n",
      "threshold 2\n",
      "percent activated pixels 0.004810112847222222\n",
      "max of morphed is 1\n",
      "1\n"
     ]
    },
    {
     "name": "stderr",
     "output_type": "stream",
     "text": [
      "\u001b[A\u001b[A\u001b[A\u001b[A"
     ]
    },
    {
     "name": "stdout",
     "output_type": "stream",
     "text": [
      "max at end of edge summation 2\n",
      "max at end of edge summation 1\n"
     ]
    },
    {
     "name": "stderr",
     "output_type": "stream",
     "text": [
      "\n",
      "\n",
      "\n",
      "\n",
      "\r",
      " 50%|████▉     | 595/1200 [04:54<04:41,  2.15it/s]"
     ]
    },
    {
     "name": "stdout",
     "output_type": "stream",
     "text": [
      "max at end of edge summation 1\n",
      "summer max 4\n",
      "level 0; %pix 0.3662575954861111\n",
      "level 1; %pix 0.11227430555555555\n",
      "level 2; %pix 0.002119140625\n",
      "threshold 2\n",
      "percent activated pixels 0.002119140625\n",
      "max of morphed is 1\n",
      "1\n"
     ]
    },
    {
     "name": "stderr",
     "output_type": "stream",
     "text": [
      "\u001b[A\u001b[A\u001b[A\u001b[A"
     ]
    },
    {
     "name": "stdout",
     "output_type": "stream",
     "text": [
      "max at end of edge summation 2\n",
      "max at end of edge summation 2\n"
     ]
    },
    {
     "name": "stderr",
     "output_type": "stream",
     "text": [
      "\n",
      "\n",
      "\n",
      "\n",
      "\r",
      " 50%|████▉     | 596/1200 [04:54<04:40,  2.16it/s]"
     ]
    },
    {
     "name": "stdout",
     "output_type": "stream",
     "text": [
      "max at end of edge summation 1\n",
      "summer max 4\n",
      "level 0; %pix 0.3838943142361111\n",
      "level 1; %pix 0.11405598958333334\n",
      "level 2; %pix 0.0024424913194444446\n",
      "threshold 2\n",
      "percent activated pixels 0.0024424913194444446\n",
      "max of morphed is 1\n",
      "1\n"
     ]
    },
    {
     "name": "stderr",
     "output_type": "stream",
     "text": [
      "\u001b[A\u001b[A\u001b[A\u001b[A"
     ]
    },
    {
     "name": "stdout",
     "output_type": "stream",
     "text": [
      "max at end of edge summation 2\n",
      "max at end of edge summation 1\n"
     ]
    },
    {
     "name": "stderr",
     "output_type": "stream",
     "text": [
      "\n",
      "\n",
      "\n",
      "\n",
      "\r",
      " 50%|████▉     | 597/1200 [04:55<04:37,  2.17it/s]"
     ]
    },
    {
     "name": "stdout",
     "output_type": "stream",
     "text": [
      "max at end of edge summation 1\n",
      "summer max 4\n",
      "level 0; %pix 0.4010199652777778\n",
      "level 1; %pix 0.11700412326388888\n",
      "level 2; %pix 0.001994357638888889\n",
      "threshold 2\n",
      "percent activated pixels 0.001994357638888889\n",
      "max of morphed is 1\n",
      "1\n"
     ]
    },
    {
     "name": "stderr",
     "output_type": "stream",
     "text": [
      "\u001b[A\u001b[A\u001b[A\u001b[A"
     ]
    },
    {
     "name": "stdout",
     "output_type": "stream",
     "text": [
      "max at end of edge summation 2\n",
      "max at end of edge summation 2\n"
     ]
    },
    {
     "name": "stderr",
     "output_type": "stream",
     "text": [
      "\n",
      "\n",
      "\n",
      "\n",
      "\r",
      " 50%|████▉     | 598/1200 [04:55<04:36,  2.18it/s]"
     ]
    },
    {
     "name": "stdout",
     "output_type": "stream",
     "text": [
      "max at end of edge summation 1\n",
      "summer max 4\n",
      "level 0; %pix 0.3998111979166667\n",
      "level 1; %pix 0.11986979166666667\n",
      "level 2; %pix 0.002248263888888889\n",
      "threshold 2\n",
      "percent activated pixels 0.002248263888888889\n",
      "max of morphed is 1\n",
      "1\n"
     ]
    },
    {
     "name": "stderr",
     "output_type": "stream",
     "text": [
      "\u001b[A\u001b[A\u001b[A\u001b[A"
     ]
    },
    {
     "name": "stdout",
     "output_type": "stream",
     "text": [
      "max at end of edge summation 2\n",
      "max at end of edge summation 1\n"
     ]
    },
    {
     "name": "stderr",
     "output_type": "stream",
     "text": [
      "\n",
      "\n",
      "\n",
      "\n",
      "\r",
      " 50%|████▉     | 599/1200 [04:56<04:29,  2.23it/s]"
     ]
    },
    {
     "name": "stdout",
     "output_type": "stream",
     "text": [
      "max at end of edge summation 1\n",
      "summer max 4\n",
      "level 0; %pix 0.38909939236111113\n",
      "level 1; %pix 0.11862955729166667\n",
      "level 2; %pix 0.00234375\n",
      "threshold 2\n",
      "percent activated pixels 0.00234375\n",
      "max of morphed is 1\n",
      "1\n"
     ]
    },
    {
     "name": "stderr",
     "output_type": "stream",
     "text": [
      "\u001b[A\u001b[A\u001b[A\u001b[A"
     ]
    },
    {
     "name": "stdout",
     "output_type": "stream",
     "text": [
      "max at end of edge summation 2\n",
      "max at end of edge summation 2\n"
     ]
    },
    {
     "name": "stderr",
     "output_type": "stream",
     "text": [
      "\n",
      "\n",
      "\n",
      "\n",
      "\r",
      " 50%|█████     | 600/1200 [04:56<04:29,  2.23it/s]"
     ]
    },
    {
     "name": "stdout",
     "output_type": "stream",
     "text": [
      "max at end of edge summation 1\n",
      "summer max 4\n",
      "level 0; %pix 0.3906206597222222\n",
      "level 1; %pix 0.11666883680555555\n",
      "level 2; %pix 0.0019281684027777778\n",
      "threshold 2\n",
      "percent activated pixels 0.0019281684027777778\n",
      "max of morphed is 1\n",
      "1\n"
     ]
    },
    {
     "name": "stderr",
     "output_type": "stream",
     "text": [
      "\u001b[A\u001b[A\u001b[A\u001b[A"
     ]
    },
    {
     "name": "stdout",
     "output_type": "stream",
     "text": [
      "max at end of edge summation 2\n",
      "max at end of edge summation 1\n"
     ]
    },
    {
     "name": "stderr",
     "output_type": "stream",
     "text": [
      "\n",
      "\n",
      "\n",
      "\n",
      "\r",
      " 50%|█████     | 601/1200 [04:56<04:30,  2.22it/s]"
     ]
    },
    {
     "name": "stdout",
     "output_type": "stream",
     "text": [
      "max at end of edge summation 1\n",
      "summer max 4\n",
      "level 0; %pix 0.4349555121527778\n",
      "level 1; %pix 0.17658311631944446\n",
      "level 2; %pix 0.005269097222222222\n",
      "threshold 2\n",
      "percent activated pixels 0.005269097222222222\n",
      "max of morphed is 1\n",
      "1\n"
     ]
    },
    {
     "name": "stderr",
     "output_type": "stream",
     "text": [
      "\u001b[A\u001b[A\u001b[A\u001b[A"
     ]
    },
    {
     "name": "stdout",
     "output_type": "stream",
     "text": [
      "max at end of edge summation 2\n",
      "max at end of edge summation 1\n"
     ]
    },
    {
     "name": "stderr",
     "output_type": "stream",
     "text": [
      "\n",
      "\n",
      "\n",
      "\n",
      "\r",
      " 50%|█████     | 602/1200 [04:57<04:30,  2.21it/s]"
     ]
    },
    {
     "name": "stdout",
     "output_type": "stream",
     "text": [
      "max at end of edge summation 1\n",
      "summer max 4\n",
      "level 0; %pix 0.3440852864583333\n",
      "level 1; %pix 0.1937868923611111\n",
      "level 2; %pix 0.009340277777777777\n",
      "threshold 2\n",
      "percent activated pixels 0.009340277777777777\n",
      "max of morphed is 1\n",
      "1\n"
     ]
    },
    {
     "name": "stderr",
     "output_type": "stream",
     "text": [
      "\u001b[A\u001b[A\u001b[A\u001b[A"
     ]
    },
    {
     "name": "stdout",
     "output_type": "stream",
     "text": [
      "max at end of edge summation 2\n",
      "max at end of edge summation 1\n"
     ]
    },
    {
     "name": "stderr",
     "output_type": "stream",
     "text": [
      "\n",
      "\n",
      "\n",
      "\n",
      "\r",
      " 50%|█████     | 603/1200 [04:57<04:28,  2.22it/s]"
     ]
    },
    {
     "name": "stdout",
     "output_type": "stream",
     "text": [
      "max at end of edge summation 1\n",
      "summer max 4\n",
      "level 0; %pix 0.3698849826388889\n",
      "level 1; %pix 0.13648328993055556\n",
      "level 2; %pix 0.005249565972222222\n",
      "threshold 2\n",
      "percent activated pixels 0.005249565972222222\n",
      "max of morphed is 1\n",
      "1\n"
     ]
    },
    {
     "name": "stderr",
     "output_type": "stream",
     "text": [
      "\u001b[A\u001b[A\u001b[A\u001b[A"
     ]
    },
    {
     "name": "stdout",
     "output_type": "stream",
     "text": [
      "max at end of edge summation 2\n",
      "max at end of edge summation 2\n"
     ]
    },
    {
     "name": "stderr",
     "output_type": "stream",
     "text": [
      "\n",
      "\n",
      "\n",
      "\n",
      "\r",
      " 50%|█████     | 604/1200 [04:58<04:25,  2.24it/s]"
     ]
    },
    {
     "name": "stdout",
     "output_type": "stream",
     "text": [
      "max at end of edge summation 1\n",
      "summer max 4\n",
      "level 0; %pix 0.380751953125\n",
      "level 1; %pix 0.18810221354166667\n",
      "level 2; %pix 0.008272569444444445\n",
      "threshold 2\n",
      "percent activated pixels 0.008272569444444445\n",
      "max of morphed is 1\n",
      "1\n"
     ]
    },
    {
     "name": "stderr",
     "output_type": "stream",
     "text": [
      "\u001b[A\u001b[A\u001b[A\u001b[A"
     ]
    },
    {
     "name": "stdout",
     "output_type": "stream",
     "text": [
      "max at end of edge summation 2\n",
      "max at end of edge summation 1\n"
     ]
    },
    {
     "name": "stderr",
     "output_type": "stream",
     "text": [
      "\n",
      "\n",
      "\n",
      "\n",
      "\r",
      " 50%|█████     | 605/1200 [04:58<04:19,  2.29it/s]"
     ]
    },
    {
     "name": "stdout",
     "output_type": "stream",
     "text": [
      "max at end of edge summation 1\n",
      "summer max 4\n",
      "level 0; %pix 0.4108159722222222\n",
      "level 1; %pix 0.1749294704861111\n",
      "level 2; %pix 0.007758246527777778\n",
      "threshold 2\n",
      "percent activated pixels 0.007758246527777778\n",
      "max of morphed is 1\n",
      "1\n"
     ]
    },
    {
     "name": "stderr",
     "output_type": "stream",
     "text": [
      "\u001b[A\u001b[A\u001b[A\u001b[A"
     ]
    },
    {
     "name": "stdout",
     "output_type": "stream",
     "text": [
      "max at end of edge summation 2\n",
      "max at end of edge summation 1\n"
     ]
    },
    {
     "name": "stderr",
     "output_type": "stream",
     "text": [
      "\n",
      "\n",
      "\n",
      "\n",
      "\r",
      " 50%|█████     | 606/1200 [04:59<04:20,  2.28it/s]"
     ]
    },
    {
     "name": "stdout",
     "output_type": "stream",
     "text": [
      "max at end of edge summation 1\n",
      "summer max 4\n",
      "level 0; %pix 0.3199924045138889\n",
      "level 1; %pix 0.164814453125\n",
      "level 2; %pix 0.009768880208333334\n",
      "threshold 2\n",
      "percent activated pixels 0.009768880208333334\n",
      "max of morphed is 1\n",
      "1\n"
     ]
    },
    {
     "name": "stderr",
     "output_type": "stream",
     "text": [
      "\u001b[A\u001b[A\u001b[A\u001b[A"
     ]
    },
    {
     "name": "stdout",
     "output_type": "stream",
     "text": [
      "max at end of edge summation 2\n",
      "max at end of edge summation 2\n"
     ]
    },
    {
     "name": "stderr",
     "output_type": "stream",
     "text": [
      "\n",
      "\n",
      "\n",
      "\n",
      "\r",
      " 51%|█████     | 607/1200 [04:59<04:21,  2.27it/s]"
     ]
    },
    {
     "name": "stdout",
     "output_type": "stream",
     "text": [
      "max at end of edge summation 1\n",
      "summer max 4\n",
      "level 0; %pix 0.28370008680555553\n",
      "level 1; %pix 0.15620985243055555\n",
      "level 2; %pix 0.011741536458333333\n",
      "threshold 2\n",
      "percent activated pixels 0.011741536458333333\n",
      "max of morphed is 1\n",
      "1\n"
     ]
    },
    {
     "name": "stderr",
     "output_type": "stream",
     "text": [
      "\u001b[A\u001b[A\u001b[A\u001b[A"
     ]
    },
    {
     "name": "stdout",
     "output_type": "stream",
     "text": [
      "max at end of edge summation 2\n",
      "max at end of edge summation 2\n"
     ]
    },
    {
     "name": "stderr",
     "output_type": "stream",
     "text": [
      "\n",
      "\n",
      "\n",
      "\n",
      "\r",
      " 51%|█████     | 608/1200 [04:59<04:22,  2.26it/s]"
     ]
    },
    {
     "name": "stdout",
     "output_type": "stream",
     "text": [
      "max at end of edge summation 1\n",
      "summer max 4\n",
      "level 0; %pix 0.315537109375\n",
      "level 1; %pix 0.17455729166666667\n",
      "level 2; %pix 0.013006727430555556\n",
      "threshold 2\n",
      "percent activated pixels 0.013006727430555556\n",
      "max of morphed is 1\n",
      "1\n"
     ]
    },
    {
     "name": "stderr",
     "output_type": "stream",
     "text": [
      "\u001b[A\u001b[A\u001b[A\u001b[A"
     ]
    },
    {
     "name": "stdout",
     "output_type": "stream",
     "text": [
      "max at end of edge summation 2\n",
      "max at end of edge summation 2\n"
     ]
    },
    {
     "name": "stderr",
     "output_type": "stream",
     "text": [
      "\n",
      "\n",
      "\n",
      "\n",
      "\r",
      " 51%|█████     | 609/1200 [05:00<04:23,  2.24it/s]"
     ]
    },
    {
     "name": "stdout",
     "output_type": "stream",
     "text": [
      "max at end of edge summation 1\n",
      "summer max 4\n",
      "level 0; %pix 0.3408344184027778\n",
      "level 1; %pix 0.18583333333333332\n",
      "level 2; %pix 0.01505099826388889\n",
      "threshold 2\n",
      "percent activated pixels 0.01505099826388889\n",
      "max of morphed is 1\n",
      "1\n"
     ]
    },
    {
     "name": "stderr",
     "output_type": "stream",
     "text": [
      "\u001b[A\u001b[A\u001b[A\u001b[A"
     ]
    },
    {
     "name": "stdout",
     "output_type": "stream",
     "text": [
      "max at end of edge summation 2\n",
      "max at end of edge summation 1\n"
     ]
    },
    {
     "name": "stderr",
     "output_type": "stream",
     "text": [
      "\n",
      "\n",
      "\n",
      "\n",
      "\r",
      " 51%|█████     | 610/1200 [05:00<04:24,  2.23it/s]"
     ]
    },
    {
     "name": "stdout",
     "output_type": "stream",
     "text": [
      "max at end of edge summation 1\n",
      "summer max 4\n",
      "level 0; %pix 0.380419921875\n",
      "level 1; %pix 0.2099338107638889\n",
      "level 2; %pix 0.015861545138888888\n",
      "threshold 2\n",
      "percent activated pixels 0.015861545138888888\n",
      "max of morphed is 1\n",
      "1\n"
     ]
    },
    {
     "name": "stderr",
     "output_type": "stream",
     "text": [
      "\u001b[A\u001b[A\u001b[A\u001b[A"
     ]
    },
    {
     "name": "stdout",
     "output_type": "stream",
     "text": [
      "max at end of edge summation 2\n",
      "max at end of edge summation 2\n"
     ]
    },
    {
     "name": "stderr",
     "output_type": "stream",
     "text": [
      "\n",
      "\n",
      "\n",
      "\n",
      "\r",
      " 51%|█████     | 611/1200 [05:01<04:23,  2.23it/s]"
     ]
    },
    {
     "name": "stdout",
     "output_type": "stream",
     "text": [
      "max at end of edge summation 1\n",
      "summer max 4\n",
      "level 0; %pix 0.39789279513888887\n",
      "level 1; %pix 0.21551866319444443\n",
      "level 2; %pix 0.017204861111111112\n",
      "threshold 2\n",
      "percent activated pixels 0.017204861111111112\n",
      "max of morphed is 1\n",
      "1\n"
     ]
    },
    {
     "name": "stderr",
     "output_type": "stream",
     "text": [
      "\u001b[A\u001b[A\u001b[A\u001b[A"
     ]
    },
    {
     "name": "stdout",
     "output_type": "stream",
     "text": [
      "max at end of edge summation 2\n",
      "max at end of edge summation 2\n"
     ]
    },
    {
     "name": "stderr",
     "output_type": "stream",
     "text": [
      "\n",
      "\n",
      "\n",
      "\n",
      "\r",
      " 51%|█████     | 612/1200 [05:01<04:28,  2.19it/s]"
     ]
    },
    {
     "name": "stdout",
     "output_type": "stream",
     "text": [
      "max at end of edge summation 1\n",
      "summer max 4\n",
      "level 0; %pix 0.4498795572916667\n",
      "level 1; %pix 0.2332736545138889\n",
      "level 2; %pix 0.01752495659722222\n",
      "threshold 2\n",
      "percent activated pixels 0.01752495659722222\n",
      "max of morphed is 1\n",
      "1\n"
     ]
    },
    {
     "name": "stderr",
     "output_type": "stream",
     "text": [
      "\u001b[A\u001b[A\u001b[A\u001b[A"
     ]
    },
    {
     "name": "stdout",
     "output_type": "stream",
     "text": [
      "max at end of edge summation 2\n",
      "max at end of edge summation 1\n"
     ]
    },
    {
     "name": "stderr",
     "output_type": "stream",
     "text": [
      "\n",
      "\n",
      "\n",
      "\n",
      "\r",
      " 51%|█████     | 613/1200 [05:02<04:29,  2.18it/s]"
     ]
    },
    {
     "name": "stdout",
     "output_type": "stream",
     "text": [
      "max at end of edge summation 1\n",
      "summer max 4\n",
      "level 0; %pix 0.4471896701388889\n",
      "level 1; %pix 0.23519422743055557\n",
      "level 2; %pix 0.01812174479166667\n",
      "threshold 2\n",
      "percent activated pixels 0.01812174479166667\n",
      "max of morphed is 1\n",
      "1\n"
     ]
    },
    {
     "name": "stderr",
     "output_type": "stream",
     "text": [
      "\u001b[A\u001b[A\u001b[A\u001b[A"
     ]
    },
    {
     "name": "stdout",
     "output_type": "stream",
     "text": [
      "max at end of edge summation 2\n",
      "max at end of edge summation 2\n"
     ]
    },
    {
     "name": "stderr",
     "output_type": "stream",
     "text": [
      "\n",
      "\n",
      "\n",
      "\n",
      "\r",
      " 51%|█████     | 614/1200 [05:02<04:31,  2.16it/s]"
     ]
    },
    {
     "name": "stdout",
     "output_type": "stream",
     "text": [
      "max at end of edge summation 1\n",
      "summer max 4\n",
      "level 0; %pix 0.47965277777777776\n",
      "level 1; %pix 0.2515190972222222\n",
      "level 2; %pix 0.019010416666666665\n",
      "threshold 2\n",
      "percent activated pixels 0.019010416666666665\n",
      "max of morphed is 1\n",
      "1\n"
     ]
    },
    {
     "name": "stderr",
     "output_type": "stream",
     "text": [
      "\u001b[A\u001b[A\u001b[A\u001b[A"
     ]
    },
    {
     "name": "stdout",
     "output_type": "stream",
     "text": [
      "max at end of edge summation 2\n",
      "max at end of edge summation 2\n"
     ]
    },
    {
     "name": "stderr",
     "output_type": "stream",
     "text": [
      "\n",
      "\n",
      "\n",
      "\n",
      "\r",
      " 51%|█████▏    | 615/1200 [05:03<04:33,  2.14it/s]"
     ]
    },
    {
     "name": "stdout",
     "output_type": "stream",
     "text": [
      "max at end of edge summation 1\n",
      "summer max 4\n",
      "level 0; %pix 0.5050596788194445\n",
      "level 1; %pix 0.26729058159722224\n",
      "level 2; %pix 0.019840494791666666\n",
      "threshold 2\n",
      "percent activated pixels 0.019840494791666666\n",
      "max of morphed is 1\n",
      "1\n"
     ]
    },
    {
     "name": "stderr",
     "output_type": "stream",
     "text": [
      "\u001b[A\u001b[A\u001b[A\u001b[A"
     ]
    },
    {
     "name": "stdout",
     "output_type": "stream",
     "text": [
      "max at end of edge summation 2\n",
      "max at end of edge summation 2\n"
     ]
    },
    {
     "name": "stderr",
     "output_type": "stream",
     "text": [
      "\n",
      "\n",
      "\n",
      "\n",
      "\r",
      " 51%|█████▏    | 616/1200 [05:03<04:36,  2.11it/s]"
     ]
    },
    {
     "name": "stdout",
     "output_type": "stream",
     "text": [
      "max at end of edge summation 1\n",
      "summer max 4\n",
      "level 0; %pix 0.5150412326388889\n",
      "level 1; %pix 0.27429904513888886\n",
      "level 2; %pix 0.020372178819444444\n",
      "threshold 2\n",
      "percent activated pixels 0.020372178819444444\n",
      "max of morphed is 1\n",
      "1\n"
     ]
    },
    {
     "name": "stderr",
     "output_type": "stream",
     "text": [
      "\u001b[A\u001b[A\u001b[A\u001b[A"
     ]
    },
    {
     "name": "stdout",
     "output_type": "stream",
     "text": [
      "max at end of edge summation 2\n",
      "max at end of edge summation 2\n"
     ]
    },
    {
     "name": "stderr",
     "output_type": "stream",
     "text": [
      "\n",
      "\n",
      "\n",
      "\n",
      "\r",
      " 51%|█████▏    | 617/1200 [05:04<04:34,  2.12it/s]"
     ]
    },
    {
     "name": "stdout",
     "output_type": "stream",
     "text": [
      "max at end of edge summation 1\n",
      "summer max 4\n",
      "level 0; %pix 0.5215863715277778\n",
      "level 1; %pix 0.2751388888888889\n",
      "level 2; %pix 0.020008680555555554\n",
      "threshold 2\n",
      "percent activated pixels 0.020008680555555554\n",
      "max of morphed is 1\n",
      "1\n"
     ]
    },
    {
     "name": "stderr",
     "output_type": "stream",
     "text": [
      "\u001b[A\u001b[A\u001b[A\u001b[A"
     ]
    },
    {
     "name": "stdout",
     "output_type": "stream",
     "text": [
      "max at end of edge summation 2\n",
      "max at end of edge summation 2\n"
     ]
    },
    {
     "name": "stderr",
     "output_type": "stream",
     "text": [
      "\n",
      "\n",
      "\n",
      "\n",
      "\r",
      " 52%|█████▏    | 618/1200 [05:04<04:36,  2.11it/s]"
     ]
    },
    {
     "name": "stdout",
     "output_type": "stream",
     "text": [
      "max at end of edge summation 1\n",
      "summer max 4\n",
      "level 0; %pix 0.5290277777777778\n",
      "level 1; %pix 0.27689778645833335\n",
      "level 2; %pix 0.021227213541666668\n",
      "threshold 2\n",
      "percent activated pixels 0.021227213541666668\n",
      "max of morphed is 1\n",
      "1\n"
     ]
    },
    {
     "name": "stderr",
     "output_type": "stream",
     "text": [
      "\u001b[A\u001b[A\u001b[A\u001b[A"
     ]
    },
    {
     "name": "stdout",
     "output_type": "stream",
     "text": [
      "max at end of edge summation 2\n",
      "max at end of edge summation 1\n"
     ]
    },
    {
     "name": "stderr",
     "output_type": "stream",
     "text": [
      "\n",
      "\n",
      "\n",
      "\n",
      "\r",
      " 52%|█████▏    | 619/1200 [05:05<04:38,  2.08it/s]"
     ]
    },
    {
     "name": "stdout",
     "output_type": "stream",
     "text": [
      "max at end of edge summation 1\n",
      "summer max 4\n",
      "level 0; %pix 0.5315939670138888\n",
      "level 1; %pix 0.2764626736111111\n",
      "level 2; %pix 0.02194118923611111\n",
      "threshold 2\n",
      "percent activated pixels 0.02194118923611111\n",
      "max of morphed is 1\n",
      "1\n"
     ]
    },
    {
     "name": "stderr",
     "output_type": "stream",
     "text": [
      "\u001b[A\u001b[A\u001b[A\u001b[A"
     ]
    },
    {
     "name": "stdout",
     "output_type": "stream",
     "text": [
      "max at end of edge summation 2\n",
      "max at end of edge summation 2\n"
     ]
    },
    {
     "name": "stderr",
     "output_type": "stream",
     "text": [
      "\n",
      "\n",
      "\n",
      "\n",
      "\r",
      " 52%|█████▏    | 620/1200 [05:05<04:39,  2.08it/s]"
     ]
    },
    {
     "name": "stdout",
     "output_type": "stream",
     "text": [
      "max at end of edge summation 1\n",
      "summer max 4\n",
      "level 0; %pix 0.5431184895833333\n",
      "level 1; %pix 0.27954318576388887\n",
      "level 2; %pix 0.022888454861111112\n",
      "threshold 2\n",
      "percent activated pixels 0.022888454861111112\n",
      "max of morphed is 1\n",
      "1\n"
     ]
    },
    {
     "name": "stderr",
     "output_type": "stream",
     "text": [
      "\u001b[A\u001b[A\u001b[A\u001b[A"
     ]
    },
    {
     "name": "stdout",
     "output_type": "stream",
     "text": [
      "max at end of edge summation 2\n",
      "max at end of edge summation 2\n"
     ]
    },
    {
     "name": "stderr",
     "output_type": "stream",
     "text": [
      "\n",
      "\n",
      "\n",
      "\n",
      "\r",
      " 52%|█████▏    | 621/1200 [05:06<04:38,  2.08it/s]"
     ]
    },
    {
     "name": "stdout",
     "output_type": "stream",
     "text": [
      "max at end of edge summation 1\n",
      "summer max 4\n",
      "level 0; %pix 0.5429969618055556\n",
      "level 1; %pix 0.26922200520833334\n",
      "level 2; %pix 0.024080946180555556\n",
      "threshold 2\n",
      "percent activated pixels 0.024080946180555556\n",
      "max of morphed is 1\n",
      "1\n"
     ]
    },
    {
     "name": "stderr",
     "output_type": "stream",
     "text": [
      "\u001b[A\u001b[A\u001b[A\u001b[A"
     ]
    },
    {
     "name": "stdout",
     "output_type": "stream",
     "text": [
      "max at end of edge summation 2\n",
      "max at end of edge summation 2\n"
     ]
    },
    {
     "name": "stderr",
     "output_type": "stream",
     "text": [
      "\n",
      "\n",
      "\n",
      "\n",
      "\r",
      " 52%|█████▏    | 622/1200 [05:06<04:38,  2.08it/s]"
     ]
    },
    {
     "name": "stdout",
     "output_type": "stream",
     "text": [
      "max at end of edge summation 1\n",
      "summer max 4\n",
      "level 0; %pix 0.5432009548611111\n",
      "level 1; %pix 0.2736859809027778\n",
      "level 2; %pix 0.02476345486111111\n",
      "threshold 2\n",
      "percent activated pixels 0.02476345486111111\n",
      "max of morphed is 1\n",
      "1\n"
     ]
    },
    {
     "name": "stderr",
     "output_type": "stream",
     "text": [
      "\u001b[A\u001b[A\u001b[A\u001b[A"
     ]
    },
    {
     "name": "stdout",
     "output_type": "stream",
     "text": [
      "max at end of edge summation 2\n",
      "max at end of edge summation 2\n"
     ]
    },
    {
     "name": "stderr",
     "output_type": "stream",
     "text": [
      "\n",
      "\n",
      "\n",
      "\n",
      "\r",
      " 52%|█████▏    | 623/1200 [05:07<04:34,  2.10it/s]"
     ]
    },
    {
     "name": "stdout",
     "output_type": "stream",
     "text": [
      "max at end of edge summation 2\n",
      "summer max 4\n",
      "level 0; %pix 0.5577940538194445\n",
      "level 1; %pix 0.2857931857638889\n",
      "level 2; %pix 0.026546223958333334\n",
      "threshold 2\n",
      "percent activated pixels 0.026546223958333334\n",
      "max of morphed is 1\n",
      "1\n"
     ]
    },
    {
     "name": "stderr",
     "output_type": "stream",
     "text": [
      "\u001b[A\u001b[A\u001b[A\u001b[A"
     ]
    },
    {
     "name": "stdout",
     "output_type": "stream",
     "text": [
      "max at end of edge summation 2\n",
      "max at end of edge summation 2\n"
     ]
    },
    {
     "name": "stderr",
     "output_type": "stream",
     "text": [
      "\n",
      "\n",
      "\n",
      "\n",
      "\r",
      " 52%|█████▏    | 624/1200 [05:07<04:37,  2.08it/s]"
     ]
    },
    {
     "name": "stdout",
     "output_type": "stream",
     "text": [
      "max at end of edge summation 1\n",
      "summer max 4\n",
      "level 0; %pix 0.5651519097222222\n",
      "level 1; %pix 0.2890679253472222\n",
      "level 2; %pix 0.025924479166666667\n",
      "threshold 2\n",
      "percent activated pixels 0.025924479166666667\n",
      "max of morphed is 1\n",
      "1\n"
     ]
    },
    {
     "name": "stderr",
     "output_type": "stream",
     "text": [
      "\u001b[A\u001b[A\u001b[A\u001b[A"
     ]
    },
    {
     "name": "stdout",
     "output_type": "stream",
     "text": [
      "max at end of edge summation 2\n",
      "max at end of edge summation 2\n"
     ]
    },
    {
     "name": "stderr",
     "output_type": "stream",
     "text": [
      "\n",
      "\n",
      "\n",
      "\n",
      "\r",
      " 52%|█████▏    | 625/1200 [05:08<04:37,  2.07it/s]"
     ]
    },
    {
     "name": "stdout",
     "output_type": "stream",
     "text": [
      "max at end of edge summation 1\n",
      "summer max 4\n",
      "level 0; %pix 0.5698860677083334\n",
      "level 1; %pix 0.29236870659722225\n",
      "level 2; %pix 0.024926215277777778\n",
      "threshold 2\n",
      "percent activated pixels 0.024926215277777778\n",
      "max of morphed is 1\n",
      "1\n"
     ]
    },
    {
     "name": "stderr",
     "output_type": "stream",
     "text": [
      "\u001b[A\u001b[A\u001b[A\u001b[A"
     ]
    },
    {
     "name": "stdout",
     "output_type": "stream",
     "text": [
      "max at end of edge summation 2\n",
      "max at end of edge summation 2\n"
     ]
    },
    {
     "name": "stderr",
     "output_type": "stream",
     "text": [
      "\n",
      "\n",
      "\n",
      "\n",
      "\r",
      " 52%|█████▏    | 626/1200 [05:08<04:36,  2.07it/s]"
     ]
    },
    {
     "name": "stdout",
     "output_type": "stream",
     "text": [
      "max at end of edge summation 1\n",
      "summer max 4\n",
      "level 0; %pix 0.570283203125\n",
      "level 1; %pix 0.2897189670138889\n",
      "level 2; %pix 0.02308810763888889\n",
      "threshold 2\n",
      "percent activated pixels 0.02308810763888889\n",
      "max of morphed is 1\n",
      "1\n"
     ]
    },
    {
     "name": "stderr",
     "output_type": "stream",
     "text": [
      "\u001b[A\u001b[A\u001b[A\u001b[A"
     ]
    },
    {
     "name": "stdout",
     "output_type": "stream",
     "text": [
      "max at end of edge summation 2\n",
      "max at end of edge summation 1\n"
     ]
    },
    {
     "name": "stderr",
     "output_type": "stream",
     "text": [
      "\n",
      "\n",
      "\n",
      "\n",
      "\r",
      " 52%|█████▏    | 627/1200 [05:09<04:35,  2.08it/s]"
     ]
    },
    {
     "name": "stdout",
     "output_type": "stream",
     "text": [
      "max at end of edge summation 1\n",
      "summer max 4\n",
      "level 0; %pix 0.558017578125\n",
      "level 1; %pix 0.2827918836805556\n",
      "level 2; %pix 0.020583767361111113\n",
      "threshold 2\n",
      "percent activated pixels 0.020583767361111113\n",
      "max of morphed is 1\n",
      "1\n"
     ]
    },
    {
     "name": "stderr",
     "output_type": "stream",
     "text": [
      "\u001b[A\u001b[A\u001b[A\u001b[A"
     ]
    },
    {
     "name": "stdout",
     "output_type": "stream",
     "text": [
      "max at end of edge summation 2\n",
      "max at end of edge summation 2\n"
     ]
    },
    {
     "name": "stderr",
     "output_type": "stream",
     "text": [
      "\n",
      "\n",
      "\n",
      "\n",
      "\r",
      " 52%|█████▏    | 628/1200 [05:09<04:38,  2.06it/s]"
     ]
    },
    {
     "name": "stdout",
     "output_type": "stream",
     "text": [
      "max at end of edge summation 1\n",
      "summer max 4\n",
      "level 0; %pix 0.5584429253472222\n",
      "level 1; %pix 0.28215928819444447\n",
      "level 2; %pix 0.019368489583333332\n",
      "threshold 2\n",
      "percent activated pixels 0.019368489583333332\n",
      "max of morphed is 1\n",
      "1\n"
     ]
    },
    {
     "name": "stderr",
     "output_type": "stream",
     "text": [
      "\u001b[A\u001b[A\u001b[A\u001b[A"
     ]
    },
    {
     "name": "stdout",
     "output_type": "stream",
     "text": [
      "max at end of edge summation 2\n",
      "max at end of edge summation 2\n"
     ]
    },
    {
     "name": "stderr",
     "output_type": "stream",
     "text": [
      "\n",
      "\n",
      "\n",
      "\n",
      "\r",
      " 52%|█████▏    | 629/1200 [05:09<04:31,  2.10it/s]"
     ]
    },
    {
     "name": "stdout",
     "output_type": "stream",
     "text": [
      "max at end of edge summation 1\n",
      "summer max 4\n",
      "level 0; %pix 0.5698763020833333\n",
      "level 1; %pix 0.28947699652777775\n",
      "level 2; %pix 0.019172092013888888\n",
      "threshold 2\n",
      "percent activated pixels 0.019172092013888888\n",
      "max of morphed is 1\n",
      "1\n"
     ]
    },
    {
     "name": "stderr",
     "output_type": "stream",
     "text": [
      "\u001b[A\u001b[A\u001b[A\u001b[A"
     ]
    },
    {
     "name": "stdout",
     "output_type": "stream",
     "text": [
      "max at end of edge summation 2\n",
      "max at end of edge summation 1\n"
     ]
    },
    {
     "name": "stderr",
     "output_type": "stream",
     "text": [
      "\n",
      "\n",
      "\n",
      "\n",
      "\r",
      " 52%|█████▎    | 630/1200 [05:10<04:34,  2.07it/s]"
     ]
    },
    {
     "name": "stdout",
     "output_type": "stream",
     "text": [
      "max at end of edge summation 1\n",
      "summer max 4\n",
      "level 0; %pix 0.5691905381944444\n",
      "level 1; %pix 0.28955946180555553\n",
      "level 2; %pix 0.01851345486111111\n",
      "threshold 2\n",
      "percent activated pixels 0.01851345486111111\n",
      "max of morphed is 1\n",
      "1\n"
     ]
    },
    {
     "name": "stderr",
     "output_type": "stream",
     "text": [
      "\u001b[A\u001b[A\u001b[A\u001b[A"
     ]
    },
    {
     "name": "stdout",
     "output_type": "stream",
     "text": [
      "max at end of edge summation 2\n",
      "max at end of edge summation 2\n"
     ]
    },
    {
     "name": "stderr",
     "output_type": "stream",
     "text": [
      "\n",
      "\n",
      "\n",
      "\n",
      "\r",
      " 53%|█████▎    | 631/1200 [05:10<04:35,  2.07it/s]"
     ]
    },
    {
     "name": "stdout",
     "output_type": "stream",
     "text": [
      "max at end of edge summation 1\n",
      "summer max 4\n",
      "level 0; %pix 0.5597222222222222\n",
      "level 1; %pix 0.273916015625\n",
      "level 2; %pix 0.018642578125\n",
      "threshold 2\n",
      "percent activated pixels 0.018642578125\n",
      "max of morphed is 1\n",
      "1\n"
     ]
    },
    {
     "name": "stderr",
     "output_type": "stream",
     "text": [
      "\u001b[A\u001b[A\u001b[A\u001b[A"
     ]
    },
    {
     "name": "stdout",
     "output_type": "stream",
     "text": [
      "max at end of edge summation 2\n",
      "max at end of edge summation 2\n"
     ]
    },
    {
     "name": "stderr",
     "output_type": "stream",
     "text": [
      "\n",
      "\n",
      "\n",
      "\n",
      "\r",
      " 53%|█████▎    | 632/1200 [05:11<04:34,  2.07it/s]"
     ]
    },
    {
     "name": "stdout",
     "output_type": "stream",
     "text": [
      "max at end of edge summation 1\n",
      "summer max 4\n",
      "level 0; %pix 0.5691297743055556\n",
      "level 1; %pix 0.2785232204861111\n",
      "level 2; %pix 0.019026692708333334\n",
      "threshold 2\n",
      "percent activated pixels 0.019026692708333334\n",
      "max of morphed is 1\n",
      "1\n"
     ]
    },
    {
     "name": "stderr",
     "output_type": "stream",
     "text": [
      "\u001b[A\u001b[A\u001b[A\u001b[A"
     ]
    },
    {
     "name": "stdout",
     "output_type": "stream",
     "text": [
      "max at end of edge summation 2\n",
      "max at end of edge summation 2\n"
     ]
    },
    {
     "name": "stderr",
     "output_type": "stream",
     "text": [
      "\n",
      "\n",
      "\n",
      "\n",
      "\r",
      " 53%|█████▎    | 633/1200 [05:11<04:33,  2.08it/s]"
     ]
    },
    {
     "name": "stdout",
     "output_type": "stream",
     "text": [
      "max at end of edge summation 1\n",
      "summer max 4\n",
      "level 0; %pix 0.5720518663194445\n",
      "level 1; %pix 0.2803591579861111\n",
      "level 2; %pix 0.018465711805555556\n",
      "threshold 2\n",
      "percent activated pixels 0.018465711805555556\n",
      "max of morphed is 1\n",
      "1\n"
     ]
    },
    {
     "name": "stderr",
     "output_type": "stream",
     "text": [
      "\u001b[A\u001b[A\u001b[A\u001b[A"
     ]
    },
    {
     "name": "stdout",
     "output_type": "stream",
     "text": [
      "max at end of edge summation 2\n",
      "max at end of edge summation 2\n"
     ]
    },
    {
     "name": "stderr",
     "output_type": "stream",
     "text": [
      "\n",
      "\n",
      "\n",
      "\n",
      "\r",
      " 53%|█████▎    | 634/1200 [05:12<04:31,  2.08it/s]"
     ]
    },
    {
     "name": "stdout",
     "output_type": "stream",
     "text": [
      "max at end of edge summation 1\n",
      "summer max 4\n",
      "level 0; %pix 0.57296875\n",
      "level 1; %pix 0.2811328125\n",
      "level 2; %pix 0.01766167534722222\n",
      "threshold 2\n",
      "percent activated pixels 0.01766167534722222\n",
      "max of morphed is 1\n",
      "1\n"
     ]
    },
    {
     "name": "stderr",
     "output_type": "stream",
     "text": [
      "\u001b[A\u001b[A\u001b[A\u001b[A"
     ]
    },
    {
     "name": "stdout",
     "output_type": "stream",
     "text": [
      "max at end of edge summation 2\n",
      "max at end of edge summation 2\n"
     ]
    },
    {
     "name": "stderr",
     "output_type": "stream",
     "text": [
      "\n",
      "\n",
      "\n",
      "\n",
      "\r",
      " 53%|█████▎    | 635/1200 [05:12<04:26,  2.12it/s]"
     ]
    },
    {
     "name": "stdout",
     "output_type": "stream",
     "text": [
      "max at end of edge summation 1\n",
      "summer max 4\n",
      "level 0; %pix 0.5717578125\n",
      "level 1; %pix 0.2794683159722222\n",
      "level 2; %pix 0.01741970486111111\n",
      "threshold 2\n",
      "percent activated pixels 0.01741970486111111\n",
      "max of morphed is 1\n",
      "1\n"
     ]
    },
    {
     "name": "stderr",
     "output_type": "stream",
     "text": [
      "\u001b[A\u001b[A\u001b[A\u001b[A"
     ]
    },
    {
     "name": "stdout",
     "output_type": "stream",
     "text": [
      "max at end of edge summation 2\n",
      "max at end of edge summation 2\n"
     ]
    },
    {
     "name": "stderr",
     "output_type": "stream",
     "text": [
      "\n",
      "\n",
      "\n",
      "\n",
      "\r",
      " 53%|█████▎    | 636/1200 [05:13<04:23,  2.14it/s]"
     ]
    },
    {
     "name": "stdout",
     "output_type": "stream",
     "text": [
      "max at end of edge summation 1\n",
      "summer max 4\n",
      "level 0; %pix 0.5727506510416667\n",
      "level 1; %pix 0.2801877170138889\n",
      "level 2; %pix 0.01787868923611111\n",
      "threshold 2\n",
      "percent activated pixels 0.01787868923611111\n",
      "max of morphed is 1\n",
      "1\n"
     ]
    },
    {
     "name": "stderr",
     "output_type": "stream",
     "text": [
      "\u001b[A\u001b[A\u001b[A\u001b[A"
     ]
    },
    {
     "name": "stdout",
     "output_type": "stream",
     "text": [
      "max at end of edge summation 2\n",
      "max at end of edge summation 1\n"
     ]
    },
    {
     "name": "stderr",
     "output_type": "stream",
     "text": [
      "\n",
      "\n",
      "\n",
      "\n",
      "\r",
      " 53%|█████▎    | 637/1200 [05:13<04:20,  2.16it/s]"
     ]
    },
    {
     "name": "stdout",
     "output_type": "stream",
     "text": [
      "max at end of edge summation 1\n",
      "summer max 4\n",
      "level 0; %pix 0.5764518229166666\n",
      "level 1; %pix 0.2826974826388889\n",
      "level 2; %pix 0.01865451388888889\n",
      "threshold 2\n",
      "percent activated pixels 0.01865451388888889\n",
      "max of morphed is 1\n",
      "1\n",
      "max at end of edge summation 2\n"
     ]
    },
    {
     "name": "stderr",
     "output_type": "stream",
     "text": [
      "\u001b[A\u001b[A\u001b[A\u001b[A\n",
      "\n",
      "\n",
      "\n",
      " 53%|█████▎    | 638/1200 [05:14<04:16,  2.19it/s]"
     ]
    },
    {
     "name": "stdout",
     "output_type": "stream",
     "text": [
      "max at end of edge summation 2\n",
      "max at end of edge summation 1\n",
      "summer max 4\n",
      "level 0; %pix 0.5796082899305556\n",
      "level 1; %pix 0.28482747395833335\n",
      "level 2; %pix 0.019405381944444446\n",
      "threshold 2\n",
      "percent activated pixels 0.019405381944444446\n",
      "max of morphed is 1\n",
      "1\n"
     ]
    },
    {
     "name": "stderr",
     "output_type": "stream",
     "text": [
      "\u001b[A\u001b[A\u001b[A\u001b[A"
     ]
    },
    {
     "name": "stdout",
     "output_type": "stream",
     "text": [
      "max at end of edge summation 2\n",
      "max at end of edge summation 2\n"
     ]
    },
    {
     "name": "stderr",
     "output_type": "stream",
     "text": [
      "\n",
      "\n",
      "\n",
      "\n",
      "\r",
      " 53%|█████▎    | 639/1200 [05:14<04:16,  2.19it/s]"
     ]
    },
    {
     "name": "stdout",
     "output_type": "stream",
     "text": [
      "max at end of edge summation 1\n",
      "summer max 4\n",
      "level 0; %pix 0.5795421006944445\n",
      "level 1; %pix 0.2848990885416667\n",
      "level 2; %pix 0.020965711805555554\n",
      "threshold 2\n",
      "percent activated pixels 0.020965711805555554\n",
      "max of morphed is 1\n",
      "1\n",
      "max at end of edge summation 2\n"
     ]
    },
    {
     "name": "stderr",
     "output_type": "stream",
     "text": [
      "\u001b[A\u001b[A\u001b[A\u001b[A\n",
      "\n",
      "\n",
      "\n",
      " 53%|█████▎    | 640/1200 [05:15<04:13,  2.21it/s]"
     ]
    },
    {
     "name": "stdout",
     "output_type": "stream",
     "text": [
      "max at end of edge summation 2\n",
      "max at end of edge summation 1\n",
      "summer max 4\n",
      "level 0; %pix 0.5759559461805556\n",
      "level 1; %pix 0.2808517795138889\n",
      "level 2; %pix 0.021201171875\n",
      "threshold 2\n",
      "percent activated pixels 0.021201171875\n",
      "max of morphed is 1\n",
      "1\n"
     ]
    },
    {
     "name": "stderr",
     "output_type": "stream",
     "text": [
      "\u001b[A\u001b[A\u001b[A\u001b[A"
     ]
    },
    {
     "name": "stdout",
     "output_type": "stream",
     "text": [
      "max at end of edge summation 2\n",
      "max at end of edge summation 2\n"
     ]
    },
    {
     "name": "stderr",
     "output_type": "stream",
     "text": [
      "\n",
      "\n",
      "\n",
      "\n",
      "\r",
      " 53%|█████▎    | 641/1200 [05:15<04:10,  2.23it/s]"
     ]
    },
    {
     "name": "stdout",
     "output_type": "stream",
     "text": [
      "max at end of edge summation 1\n",
      "summer max 4\n",
      "level 0; %pix 0.5208072916666666\n",
      "level 1; %pix 0.24220377604166668\n",
      "level 2; %pix 0.02085177951388889\n",
      "threshold 2\n",
      "percent activated pixels 0.02085177951388889\n",
      "max of morphed is 1\n",
      "1\n",
      "max at end of edge summation 2\n"
     ]
    },
    {
     "name": "stderr",
     "output_type": "stream",
     "text": [
      "\u001b[A\u001b[A\u001b[A\u001b[A\n",
      "\n",
      "\n",
      "\n",
      " 54%|█████▎    | 642/1200 [05:15<04:09,  2.23it/s]"
     ]
    },
    {
     "name": "stdout",
     "output_type": "stream",
     "text": [
      "max at end of edge summation 2\n",
      "max at end of edge summation 1\n",
      "summer max 4\n",
      "level 0; %pix 0.5337575954861111\n",
      "level 1; %pix 0.259072265625\n",
      "level 2; %pix 0.021789279513888888\n",
      "threshold 2\n",
      "percent activated pixels 0.021789279513888888\n",
      "max of morphed is 1\n",
      "1\n"
     ]
    },
    {
     "name": "stderr",
     "output_type": "stream",
     "text": [
      "\u001b[A\u001b[A\u001b[A\u001b[A"
     ]
    },
    {
     "name": "stdout",
     "output_type": "stream",
     "text": [
      "max at end of edge summation 2\n",
      "max at end of edge summation 2\n"
     ]
    },
    {
     "name": "stderr",
     "output_type": "stream",
     "text": [
      "\n",
      "\n",
      "\n",
      "\n",
      "\r",
      " 54%|█████▎    | 643/1200 [05:16<04:11,  2.22it/s]"
     ]
    },
    {
     "name": "stdout",
     "output_type": "stream",
     "text": [
      "max at end of edge summation 2\n",
      "summer max 4\n",
      "level 0; %pix 0.5504546440972222\n",
      "level 1; %pix 0.2671440972222222\n",
      "level 2; %pix 0.022450086805555554\n",
      "threshold 2\n",
      "percent activated pixels 0.022450086805555554\n",
      "max of morphed is 1\n",
      "1\n"
     ]
    },
    {
     "name": "stderr",
     "output_type": "stream",
     "text": [
      "\u001b[A\u001b[A\u001b[A\u001b[A"
     ]
    },
    {
     "name": "stdout",
     "output_type": "stream",
     "text": [
      "max at end of edge summation 2\n",
      "max at end of edge summation 2\n"
     ]
    },
    {
     "name": "stderr",
     "output_type": "stream",
     "text": [
      "\n",
      "\n",
      "\n",
      "\n",
      "\r",
      " 54%|█████▎    | 644/1200 [05:16<04:11,  2.21it/s]"
     ]
    },
    {
     "name": "stdout",
     "output_type": "stream",
     "text": [
      "max at end of edge summation 1\n",
      "summer max 4\n",
      "level 0; %pix 0.5676746961805555\n",
      "level 1; %pix 0.2607237413194444\n",
      "level 2; %pix 0.021412760416666666\n",
      "threshold 2\n",
      "percent activated pixels 0.021412760416666666\n",
      "max of morphed is 1\n",
      "1\n"
     ]
    },
    {
     "name": "stderr",
     "output_type": "stream",
     "text": [
      "\u001b[A\u001b[A\u001b[A\u001b[A"
     ]
    },
    {
     "name": "stdout",
     "output_type": "stream",
     "text": [
      "max at end of edge summation 2\n",
      "max at end of edge summation 2\n"
     ]
    },
    {
     "name": "stderr",
     "output_type": "stream",
     "text": [
      "\n",
      "\n",
      "\n",
      "\n",
      "\r",
      " 54%|█████▍    | 645/1200 [05:17<04:23,  2.11it/s]"
     ]
    },
    {
     "name": "stdout",
     "output_type": "stream",
     "text": [
      "max at end of edge summation 1\n",
      "summer max 4\n",
      "level 0; %pix 0.5456814236111112\n",
      "level 1; %pix 0.26028645833333336\n",
      "level 2; %pix 0.021549479166666666\n",
      "threshold 2\n",
      "percent activated pixels 0.021549479166666666\n",
      "max of morphed is 1\n",
      "1\n"
     ]
    },
    {
     "name": "stderr",
     "output_type": "stream",
     "text": [
      "\u001b[A\u001b[A\u001b[A\u001b[A"
     ]
    },
    {
     "name": "stdout",
     "output_type": "stream",
     "text": [
      "max at end of edge summation 2\n",
      "max at end of edge summation 2\n"
     ]
    },
    {
     "name": "stderr",
     "output_type": "stream",
     "text": [
      "\n",
      "\n",
      "\n",
      "\n",
      "\r",
      " 54%|█████▍    | 646/1200 [05:17<04:19,  2.13it/s]"
     ]
    },
    {
     "name": "stdout",
     "output_type": "stream",
     "text": [
      "max at end of edge summation 1\n",
      "summer max 4\n",
      "level 0; %pix 0.5603385416666666\n",
      "level 1; %pix 0.2671929253472222\n",
      "level 2; %pix 0.021654730902777777\n",
      "threshold 2\n",
      "percent activated pixels 0.021654730902777777\n",
      "max of morphed is 1\n",
      "1\n"
     ]
    },
    {
     "name": "stderr",
     "output_type": "stream",
     "text": [
      "\u001b[A\u001b[A\u001b[A\u001b[A"
     ]
    },
    {
     "name": "stdout",
     "output_type": "stream",
     "text": [
      "max at end of edge summation 2\n",
      "max at end of edge summation 1\n"
     ]
    },
    {
     "name": "stderr",
     "output_type": "stream",
     "text": [
      "\n",
      "\n",
      "\n",
      "\n",
      "\r",
      " 54%|█████▍    | 647/1200 [05:18<04:15,  2.16it/s]"
     ]
    },
    {
     "name": "stdout",
     "output_type": "stream",
     "text": [
      "max at end of edge summation 1\n",
      "summer max 4\n",
      "level 0; %pix 0.5684157986111111\n",
      "level 1; %pix 0.26999891493055556\n",
      "level 2; %pix 0.022005208333333335\n",
      "threshold 2\n",
      "percent activated pixels 0.022005208333333335\n",
      "max of morphed is 1\n",
      "1\n"
     ]
    },
    {
     "name": "stderr",
     "output_type": "stream",
     "text": [
      "\u001b[A\u001b[A\u001b[A\u001b[A"
     ]
    },
    {
     "name": "stdout",
     "output_type": "stream",
     "text": [
      "max at end of edge summation 2\n",
      "max at end of edge summation 1\n"
     ]
    },
    {
     "name": "stderr",
     "output_type": "stream",
     "text": [
      "\n",
      "\n",
      "\n",
      "\n",
      "\r",
      " 54%|█████▍    | 648/1200 [05:18<04:14,  2.17it/s]"
     ]
    },
    {
     "name": "stdout",
     "output_type": "stream",
     "text": [
      "max at end of edge summation 1\n",
      "summer max 4\n",
      "level 0; %pix 0.5802007378472223\n",
      "level 1; %pix 0.2763498263888889\n",
      "level 2; %pix 0.022828776041666665\n",
      "threshold 2\n",
      "percent activated pixels 0.022828776041666665\n",
      "max of morphed is 1\n",
      "1\n"
     ]
    },
    {
     "name": "stderr",
     "output_type": "stream",
     "text": [
      "\u001b[A\u001b[A\u001b[A\u001b[A"
     ]
    },
    {
     "name": "stdout",
     "output_type": "stream",
     "text": [
      "max at end of edge summation 2\n",
      "max at end of edge summation 1\n"
     ]
    },
    {
     "name": "stderr",
     "output_type": "stream",
     "text": [
      "\n",
      "\n",
      "\n",
      "\n",
      "\r",
      " 54%|█████▍    | 649/1200 [05:19<04:15,  2.16it/s]"
     ]
    },
    {
     "name": "stdout",
     "output_type": "stream",
     "text": [
      "max at end of edge summation 1\n",
      "summer max 4\n",
      "level 0; %pix 0.5843348524305556\n",
      "level 1; %pix 0.2760134548611111\n",
      "level 2; %pix 0.02298611111111111\n",
      "threshold 2\n",
      "percent activated pixels 0.02298611111111111\n",
      "max of morphed is 1\n",
      "1\n"
     ]
    },
    {
     "name": "stderr",
     "output_type": "stream",
     "text": [
      "\u001b[A\u001b[A\u001b[A\u001b[A"
     ]
    },
    {
     "name": "stdout",
     "output_type": "stream",
     "text": [
      "max at end of edge summation 2\n",
      "max at end of edge summation 2\n"
     ]
    },
    {
     "name": "stderr",
     "output_type": "stream",
     "text": [
      "\n",
      "\n",
      "\n",
      "\n",
      "\r",
      " 54%|█████▍    | 650/1200 [05:19<04:13,  2.17it/s]"
     ]
    },
    {
     "name": "stdout",
     "output_type": "stream",
     "text": [
      "max at end of edge summation 1\n",
      "summer max 4\n",
      "level 0; %pix 0.5911566840277778\n",
      "level 1; %pix 0.27895399305555557\n",
      "level 2; %pix 0.024051649305555554\n",
      "threshold 2\n",
      "percent activated pixels 0.024051649305555554\n",
      "max of morphed is 1\n",
      "1\n"
     ]
    },
    {
     "name": "stderr",
     "output_type": "stream",
     "text": [
      "\u001b[A\u001b[A\u001b[A\u001b[A"
     ]
    },
    {
     "name": "stdout",
     "output_type": "stream",
     "text": [
      "max at end of edge summation 2\n",
      "max at end of edge summation 2\n"
     ]
    },
    {
     "name": "stderr",
     "output_type": "stream",
     "text": [
      "\n",
      "\n",
      "\n",
      "\n",
      "\r",
      " 54%|█████▍    | 651/1200 [05:20<04:23,  2.09it/s]"
     ]
    },
    {
     "name": "stdout",
     "output_type": "stream",
     "text": [
      "max at end of edge summation 1\n",
      "summer max 4\n",
      "level 0; %pix 0.6053569878472222\n",
      "level 1; %pix 0.2824565972222222\n",
      "level 2; %pix 0.02479709201388889\n",
      "threshold 2\n",
      "percent activated pixels 0.02479709201388889\n",
      "max of morphed is 1\n",
      "1\n"
     ]
    },
    {
     "name": "stderr",
     "output_type": "stream",
     "text": [
      "\u001b[A\u001b[A\u001b[A\u001b[A"
     ]
    },
    {
     "name": "stdout",
     "output_type": "stream",
     "text": [
      "max at end of edge summation 2\n",
      "max at end of edge summation 2\n"
     ]
    },
    {
     "name": "stderr",
     "output_type": "stream",
     "text": [
      "\n",
      "\n",
      "\n",
      "\n",
      "\r",
      " 54%|█████▍    | 652/1200 [05:20<04:25,  2.06it/s]"
     ]
    },
    {
     "name": "stdout",
     "output_type": "stream",
     "text": [
      "max at end of edge summation 1\n",
      "summer max 4\n",
      "level 0; %pix 0.5871050347222222\n",
      "level 1; %pix 0.27780381944444443\n",
      "level 2; %pix 0.02583984375\n",
      "threshold 2\n",
      "percent activated pixels 0.02583984375\n",
      "max of morphed is 1\n",
      "1\n"
     ]
    },
    {
     "name": "stderr",
     "output_type": "stream",
     "text": [
      "\u001b[A\u001b[A\u001b[A\u001b[A"
     ]
    },
    {
     "name": "stdout",
     "output_type": "stream",
     "text": [
      "max at end of edge summation 2\n",
      "max at end of edge summation 2\n"
     ]
    },
    {
     "name": "stderr",
     "output_type": "stream",
     "text": [
      "\n",
      "\n",
      "\n",
      "\n",
      "\r",
      " 54%|█████▍    | 653/1200 [05:21<04:27,  2.04it/s]"
     ]
    },
    {
     "name": "stdout",
     "output_type": "stream",
     "text": [
      "max at end of edge summation 1\n",
      "summer max 4\n",
      "level 0; %pix 0.604384765625\n",
      "level 1; %pix 0.28062391493055555\n",
      "level 2; %pix 0.02586154513888889\n",
      "threshold 2\n",
      "percent activated pixels 0.02586154513888889\n",
      "max of morphed is 1\n",
      "1\n"
     ]
    },
    {
     "name": "stderr",
     "output_type": "stream",
     "text": [
      "\u001b[A\u001b[A\u001b[A\u001b[A"
     ]
    },
    {
     "name": "stdout",
     "output_type": "stream",
     "text": [
      "max at end of edge summation 2\n",
      "max at end of edge summation 2\n"
     ]
    },
    {
     "name": "stderr",
     "output_type": "stream",
     "text": [
      "\n",
      "\n",
      "\n",
      "\n",
      "\r",
      " 55%|█████▍    | 654/1200 [05:21<04:31,  2.01it/s]"
     ]
    },
    {
     "name": "stdout",
     "output_type": "stream",
     "text": [
      "max at end of edge summation 1\n",
      "summer max 4\n",
      "level 0; %pix 0.5922005208333333\n",
      "level 1; %pix 0.2754904513888889\n",
      "level 2; %pix 0.026651475694444444\n",
      "threshold 2\n",
      "percent activated pixels 0.026651475694444444\n",
      "max of morphed is 1\n",
      "1\n"
     ]
    },
    {
     "name": "stderr",
     "output_type": "stream",
     "text": [
      "\u001b[A\u001b[A\u001b[A\u001b[A"
     ]
    },
    {
     "name": "stdout",
     "output_type": "stream",
     "text": [
      "max at end of edge summation 2\n",
      "max at end of edge summation 2\n"
     ]
    },
    {
     "name": "stderr",
     "output_type": "stream",
     "text": [
      "\n",
      "\n",
      "\n",
      "\n",
      "\r",
      " 55%|█████▍    | 655/1200 [05:22<04:32,  2.00it/s]"
     ]
    },
    {
     "name": "stdout",
     "output_type": "stream",
     "text": [
      "max at end of edge summation 1\n",
      "summer max 4\n",
      "level 0; %pix 0.5967925347222223\n",
      "level 1; %pix 0.2754437934027778\n",
      "level 2; %pix 0.027107204861111112\n",
      "threshold 2\n",
      "percent activated pixels 0.027107204861111112\n",
      "max of morphed is 1\n",
      "1\n"
     ]
    },
    {
     "name": "stderr",
     "output_type": "stream",
     "text": [
      "\u001b[A\u001b[A\u001b[A\u001b[A"
     ]
    },
    {
     "name": "stdout",
     "output_type": "stream",
     "text": [
      "max at end of edge summation 2\n",
      "max at end of edge summation 2\n"
     ]
    },
    {
     "name": "stderr",
     "output_type": "stream",
     "text": [
      "\n",
      "\n",
      "\n",
      "\n",
      "\r",
      " 55%|█████▍    | 656/1200 [05:22<04:33,  1.99it/s]"
     ]
    },
    {
     "name": "stdout",
     "output_type": "stream",
     "text": [
      "max at end of edge summation 1\n",
      "summer max 4\n",
      "level 0; %pix 0.5926334635416667\n",
      "level 1; %pix 0.27242730034722223\n",
      "level 2; %pix 0.02852756076388889\n",
      "threshold 2\n",
      "percent activated pixels 0.02852756076388889\n",
      "max of morphed is 1\n",
      "1\n"
     ]
    },
    {
     "name": "stderr",
     "output_type": "stream",
     "text": [
      "\u001b[A\u001b[A\u001b[A\u001b[A"
     ]
    },
    {
     "name": "stdout",
     "output_type": "stream",
     "text": [
      "max at end of edge summation 2\n",
      "max at end of edge summation 2\n"
     ]
    },
    {
     "name": "stderr",
     "output_type": "stream",
     "text": [
      "\n",
      "\n",
      "\n",
      "\n",
      "\r",
      " 55%|█████▍    | 657/1200 [05:23<04:32,  1.99it/s]"
     ]
    },
    {
     "name": "stdout",
     "output_type": "stream",
     "text": [
      "max at end of edge summation 1\n",
      "summer max 4\n",
      "level 0; %pix 0.5907638888888889\n",
      "level 1; %pix 0.2757660590277778\n",
      "level 2; %pix 0.030928819444444443\n",
      "threshold 2\n",
      "percent activated pixels 0.030928819444444443\n",
      "max of morphed is 1\n",
      "1\n"
     ]
    },
    {
     "name": "stderr",
     "output_type": "stream",
     "text": [
      "\u001b[A\u001b[A\u001b[A\u001b[A"
     ]
    },
    {
     "name": "stdout",
     "output_type": "stream",
     "text": [
      "max at end of edge summation 2\n",
      "max at end of edge summation 2\n"
     ]
    },
    {
     "name": "stderr",
     "output_type": "stream",
     "text": [
      "\n",
      "\n",
      "\n",
      "\n",
      "\r",
      " 55%|█████▍    | 658/1200 [05:23<04:33,  1.98it/s]"
     ]
    },
    {
     "name": "stdout",
     "output_type": "stream",
     "text": [
      "max at end of edge summation 1\n",
      "summer max 4\n",
      "level 0; %pix 0.5809266493055556\n",
      "level 1; %pix 0.2722395833333333\n",
      "level 2; %pix 0.032275390625\n",
      "threshold 2\n",
      "percent activated pixels 0.032275390625\n",
      "max of morphed is 1\n",
      "1\n"
     ]
    },
    {
     "name": "stderr",
     "output_type": "stream",
     "text": [
      "\u001b[A\u001b[A\u001b[A\u001b[A"
     ]
    },
    {
     "name": "stdout",
     "output_type": "stream",
     "text": [
      "max at end of edge summation 2\n",
      "max at end of edge summation 2\n"
     ]
    },
    {
     "name": "stderr",
     "output_type": "stream",
     "text": [
      "\n",
      "\n",
      "\n",
      "\n",
      "\r",
      " 55%|█████▍    | 659/1200 [05:24<04:28,  2.01it/s]"
     ]
    },
    {
     "name": "stdout",
     "output_type": "stream",
     "text": [
      "max at end of edge summation 2\n",
      "summer max 4\n",
      "level 0; %pix 0.5821006944444445\n",
      "level 1; %pix 0.27258138020833333\n",
      "level 2; %pix 0.03182074652777778\n",
      "threshold 2\n",
      "percent activated pixels 0.03182074652777778\n",
      "max of morphed is 1\n",
      "1\n"
     ]
    },
    {
     "name": "stderr",
     "output_type": "stream",
     "text": [
      "\u001b[A\u001b[A\u001b[A\u001b[A"
     ]
    },
    {
     "name": "stdout",
     "output_type": "stream",
     "text": [
      "max at end of edge summation 2\n",
      "max at end of edge summation 2\n"
     ]
    },
    {
     "name": "stderr",
     "output_type": "stream",
     "text": [
      "\n",
      "\n",
      "\n",
      "\n",
      "\r",
      " 55%|█████▌    | 660/1200 [05:24<04:30,  2.00it/s]"
     ]
    },
    {
     "name": "stdout",
     "output_type": "stream",
     "text": [
      "max at end of edge summation 1\n",
      "summer max 4\n",
      "level 0; %pix 0.5685796440972222\n",
      "level 1; %pix 0.2712717013888889\n",
      "level 2; %pix 0.03170789930555556\n",
      "threshold 2\n",
      "percent activated pixels 0.03170789930555556\n",
      "max of morphed is 1\n",
      "1\n"
     ]
    },
    {
     "name": "stderr",
     "output_type": "stream",
     "text": [
      "\u001b[A\u001b[A\u001b[A\u001b[A"
     ]
    },
    {
     "name": "stdout",
     "output_type": "stream",
     "text": [
      "max at end of edge summation 2\n",
      "max at end of edge summation 2\n"
     ]
    },
    {
     "name": "stderr",
     "output_type": "stream",
     "text": [
      "\n",
      "\n",
      "\n",
      "\n",
      "\r",
      " 55%|█████▌    | 661/1200 [05:25<04:29,  2.00it/s]"
     ]
    },
    {
     "name": "stdout",
     "output_type": "stream",
     "text": [
      "max at end of edge summation 1\n",
      "summer max 4\n",
      "level 0; %pix 0.5625998263888888\n",
      "level 1; %pix 0.27020833333333333\n",
      "level 2; %pix 0.031795789930555554\n",
      "threshold 2\n",
      "percent activated pixels 0.031795789930555554\n",
      "max of morphed is 1\n",
      "1\n"
     ]
    },
    {
     "name": "stderr",
     "output_type": "stream",
     "text": [
      "\u001b[A\u001b[A\u001b[A\u001b[A"
     ]
    },
    {
     "name": "stdout",
     "output_type": "stream",
     "text": [
      "max at end of edge summation 2\n",
      "max at end of edge summation 2\n"
     ]
    },
    {
     "name": "stderr",
     "output_type": "stream",
     "text": [
      "\n",
      "\n",
      "\n",
      "\n",
      "\r",
      " 55%|█████▌    | 662/1200 [05:25<04:32,  1.98it/s]"
     ]
    },
    {
     "name": "stdout",
     "output_type": "stream",
     "text": [
      "max at end of edge summation 1\n",
      "summer max 4\n",
      "level 0; %pix 0.5668044704861112\n",
      "level 1; %pix 0.27160264756944447\n",
      "level 2; %pix 0.030836588541666668\n",
      "threshold 2\n",
      "percent activated pixels 0.030836588541666668\n",
      "max of morphed is 1\n",
      "1\n"
     ]
    },
    {
     "name": "stderr",
     "output_type": "stream",
     "text": [
      "\u001b[A\u001b[A\u001b[A\u001b[A"
     ]
    },
    {
     "name": "stdout",
     "output_type": "stream",
     "text": [
      "max at end of edge summation 2\n",
      "max at end of edge summation 2\n"
     ]
    },
    {
     "name": "stderr",
     "output_type": "stream",
     "text": [
      "\n",
      "\n",
      "\n",
      "\n",
      "\r",
      " 55%|█████▌    | 663/1200 [05:26<04:34,  1.95it/s]"
     ]
    },
    {
     "name": "stdout",
     "output_type": "stream",
     "text": [
      "max at end of edge summation 2\n",
      "summer max 4\n",
      "level 0; %pix 0.569033203125\n",
      "level 1; %pix 0.27476453993055555\n",
      "level 2; %pix 0.03146158854166667\n",
      "threshold 2\n",
      "percent activated pixels 0.03146158854166667\n",
      "max of morphed is 1\n",
      "1\n"
     ]
    },
    {
     "name": "stderr",
     "output_type": "stream",
     "text": [
      "\u001b[A\u001b[A\u001b[A\u001b[A"
     ]
    },
    {
     "name": "stdout",
     "output_type": "stream",
     "text": [
      "max at end of edge summation 2\n",
      "max at end of edge summation 1\n"
     ]
    },
    {
     "name": "stderr",
     "output_type": "stream",
     "text": [
      "\n",
      "\n",
      "\n",
      "\n",
      "\r",
      " 55%|█████▌    | 664/1200 [05:26<04:35,  1.94it/s]"
     ]
    },
    {
     "name": "stdout",
     "output_type": "stream",
     "text": [
      "max at end of edge summation 1\n",
      "summer max 4\n",
      "level 0; %pix 0.5719227430555556\n",
      "level 1; %pix 0.2776974826388889\n",
      "level 2; %pix 0.032080078125\n",
      "threshold 2\n",
      "percent activated pixels 0.032080078125\n",
      "max of morphed is 1\n",
      "1\n"
     ]
    },
    {
     "name": "stderr",
     "output_type": "stream",
     "text": [
      "\u001b[A\u001b[A\u001b[A\u001b[A"
     ]
    },
    {
     "name": "stdout",
     "output_type": "stream",
     "text": [
      "max at end of edge summation 2\n",
      "max at end of edge summation 1\n"
     ]
    },
    {
     "name": "stderr",
     "output_type": "stream",
     "text": [
      "\n",
      "\n",
      "\n",
      "\n",
      "\r",
      " 55%|█████▌    | 665/1200 [05:27<04:33,  1.96it/s]"
     ]
    },
    {
     "name": "stdout",
     "output_type": "stream",
     "text": [
      "max at end of edge summation 2\n",
      "summer max 4\n",
      "level 0; %pix 0.5677951388888889\n",
      "level 1; %pix 0.27676649305555556\n",
      "level 2; %pix 0.03162109375\n",
      "threshold 2\n",
      "percent activated pixels 0.03162109375\n",
      "max of morphed is 1\n",
      "1\n"
     ]
    },
    {
     "name": "stderr",
     "output_type": "stream",
     "text": [
      "\u001b[A\u001b[A\u001b[A\u001b[A"
     ]
    },
    {
     "name": "stdout",
     "output_type": "stream",
     "text": [
      "max at end of edge summation 2\n",
      "max at end of edge summation 1\n"
     ]
    },
    {
     "name": "stderr",
     "output_type": "stream",
     "text": [
      "\n",
      "\n",
      "\n",
      "\n",
      "\r",
      " 56%|█████▌    | 666/1200 [05:27<04:33,  1.95it/s]"
     ]
    },
    {
     "name": "stdout",
     "output_type": "stream",
     "text": [
      "max at end of edge summation 2\n",
      "summer max 4\n",
      "level 0; %pix 0.5637608506944445\n",
      "level 1; %pix 0.2721657986111111\n",
      "level 2; %pix 0.031110026041666666\n",
      "threshold 2\n",
      "percent activated pixels 0.031110026041666666\n",
      "max of morphed is 1\n",
      "1\n"
     ]
    },
    {
     "name": "stderr",
     "output_type": "stream",
     "text": [
      "\u001b[A\u001b[A\u001b[A\u001b[A"
     ]
    },
    {
     "name": "stdout",
     "output_type": "stream",
     "text": [
      "max at end of edge summation 2\n",
      "max at end of edge summation 1\n"
     ]
    },
    {
     "name": "stderr",
     "output_type": "stream",
     "text": [
      "\n",
      "\n",
      "\n",
      "\n",
      "\r",
      " 56%|█████▌    | 667/1200 [05:28<04:34,  1.94it/s]"
     ]
    },
    {
     "name": "stdout",
     "output_type": "stream",
     "text": [
      "max at end of edge summation 2\n",
      "summer max 4\n",
      "level 0; %pix 0.5561870659722222\n",
      "level 1; %pix 0.2658235677083333\n",
      "level 2; %pix 0.029583333333333333\n",
      "threshold 2\n",
      "percent activated pixels 0.029583333333333333\n",
      "max of morphed is 1\n",
      "1\n"
     ]
    },
    {
     "name": "stderr",
     "output_type": "stream",
     "text": [
      "\u001b[A\u001b[A\u001b[A\u001b[A"
     ]
    },
    {
     "name": "stdout",
     "output_type": "stream",
     "text": [
      "max at end of edge summation 2\n",
      "max at end of edge summation 1\n"
     ]
    },
    {
     "name": "stderr",
     "output_type": "stream",
     "text": [
      "\n",
      "\n",
      "\n",
      "\n",
      "\r",
      " 56%|█████▌    | 668/1200 [05:28<04:31,  1.96it/s]"
     ]
    },
    {
     "name": "stdout",
     "output_type": "stream",
     "text": [
      "max at end of edge summation 2\n",
      "summer max 4\n",
      "level 0; %pix 0.5586024305555556\n",
      "level 1; %pix 0.26526041666666667\n",
      "level 2; %pix 0.030581597222222222\n",
      "threshold 2\n",
      "percent activated pixels 0.030581597222222222\n",
      "max of morphed is 1\n",
      "1\n"
     ]
    },
    {
     "name": "stderr",
     "output_type": "stream",
     "text": [
      "\u001b[A\u001b[A\u001b[A\u001b[A"
     ]
    },
    {
     "name": "stdout",
     "output_type": "stream",
     "text": [
      "max at end of edge summation 2\n",
      "max at end of edge summation 2\n"
     ]
    },
    {
     "name": "stderr",
     "output_type": "stream",
     "text": [
      "\n",
      "\n",
      "\n",
      "\n",
      "\r",
      " 56%|█████▌    | 669/1200 [05:29<04:32,  1.95it/s]"
     ]
    },
    {
     "name": "stdout",
     "output_type": "stream",
     "text": [
      "max at end of edge summation 2\n",
      "summer max 4\n",
      "level 0; %pix 0.5558539496527778\n",
      "level 1; %pix 0.26249457465277776\n",
      "level 2; %pix 0.029069010416666666\n",
      "threshold 2\n",
      "percent activated pixels 0.029069010416666666\n",
      "max of morphed is 1\n",
      "1\n"
     ]
    },
    {
     "name": "stderr",
     "output_type": "stream",
     "text": [
      "\u001b[A\u001b[A\u001b[A\u001b[A"
     ]
    },
    {
     "name": "stdout",
     "output_type": "stream",
     "text": [
      "max at end of edge summation 2\n",
      "max at end of edge summation 2\n"
     ]
    },
    {
     "name": "stderr",
     "output_type": "stream",
     "text": [
      "\n",
      "\n",
      "\n",
      "\n",
      "\r",
      " 56%|█████▌    | 670/1200 [05:29<04:32,  1.94it/s]"
     ]
    },
    {
     "name": "stdout",
     "output_type": "stream",
     "text": [
      "max at end of edge summation 2\n",
      "summer max 4\n",
      "level 0; %pix 0.5199555121527778\n",
      "level 1; %pix 0.24811089409722223\n",
      "level 2; %pix 0.027994791666666668\n",
      "threshold 2\n",
      "percent activated pixels 0.027994791666666668\n",
      "max of morphed is 1\n",
      "1\n"
     ]
    },
    {
     "name": "stderr",
     "output_type": "stream",
     "text": [
      "\u001b[A\u001b[A\u001b[A\u001b[A"
     ]
    },
    {
     "name": "stdout",
     "output_type": "stream",
     "text": [
      "max at end of edge summation 2\n",
      "max at end of edge summation 2\n"
     ]
    },
    {
     "name": "stderr",
     "output_type": "stream",
     "text": [
      "\n",
      "\n",
      "\n",
      "\n",
      "\r",
      " 56%|█████▌    | 671/1200 [05:30<04:28,  1.97it/s]"
     ]
    },
    {
     "name": "stdout",
     "output_type": "stream",
     "text": [
      "max at end of edge summation 2\n",
      "summer max 4\n",
      "level 0; %pix 0.5044281684027778\n",
      "level 1; %pix 0.237607421875\n",
      "level 2; %pix 0.026402994791666665\n",
      "threshold 2\n",
      "percent activated pixels 0.026402994791666665\n",
      "max of morphed is 1\n",
      "1\n"
     ]
    },
    {
     "name": "stderr",
     "output_type": "stream",
     "text": [
      "\u001b[A\u001b[A\u001b[A\u001b[A"
     ]
    },
    {
     "name": "stdout",
     "output_type": "stream",
     "text": [
      "max at end of edge summation 2\n",
      "max at end of edge summation 2\n"
     ]
    },
    {
     "name": "stderr",
     "output_type": "stream",
     "text": [
      "\n",
      "\n",
      "\n",
      "\n",
      "\r",
      " 56%|█████▌    | 672/1200 [05:30<04:27,  1.97it/s]"
     ]
    },
    {
     "name": "stdout",
     "output_type": "stream",
     "text": [
      "max at end of edge summation 1\n",
      "summer max 4\n",
      "level 0; %pix 0.42474717881944446\n",
      "level 1; %pix 0.18498046875\n",
      "level 2; %pix 0.02225151909722222\n",
      "threshold 2\n",
      "percent activated pixels 0.02225151909722222\n",
      "max of morphed is 1\n",
      "1\n"
     ]
    },
    {
     "name": "stderr",
     "output_type": "stream",
     "text": [
      "\u001b[A\u001b[A\u001b[A\u001b[A"
     ]
    },
    {
     "name": "stdout",
     "output_type": "stream",
     "text": [
      "max at end of edge summation 2\n",
      "max at end of edge summation 2\n"
     ]
    },
    {
     "name": "stderr",
     "output_type": "stream",
     "text": [
      "\n",
      "\n",
      "\n",
      "\n",
      "\r",
      " 56%|█████▌    | 673/1200 [05:31<04:25,  1.98it/s]"
     ]
    },
    {
     "name": "stdout",
     "output_type": "stream",
     "text": [
      "max at end of edge summation 1\n",
      "summer max 4\n",
      "level 0; %pix 0.4193359375\n",
      "level 1; %pix 0.19886284722222222\n",
      "level 2; %pix 0.021800130208333334\n",
      "threshold 2\n",
      "percent activated pixels 0.021800130208333334\n",
      "max of morphed is 1\n",
      "1\n"
     ]
    },
    {
     "name": "stderr",
     "output_type": "stream",
     "text": [
      "\u001b[A\u001b[A\u001b[A\u001b[A"
     ]
    },
    {
     "name": "stdout",
     "output_type": "stream",
     "text": [
      "max at end of edge summation 2\n",
      "max at end of edge summation 2\n"
     ]
    },
    {
     "name": "stderr",
     "output_type": "stream",
     "text": [
      "\n",
      "\n",
      "\n",
      "\n",
      "\r",
      " 56%|█████▌    | 674/1200 [05:31<04:21,  2.01it/s]"
     ]
    },
    {
     "name": "stdout",
     "output_type": "stream",
     "text": [
      "max at end of edge summation 1\n",
      "summer max 4\n",
      "level 0; %pix 0.3821571180555556\n",
      "level 1; %pix 0.15600043402777777\n",
      "level 2; %pix 0.019560546875\n",
      "threshold 2\n",
      "percent activated pixels 0.019560546875\n",
      "max of morphed is 1\n",
      "1\n"
     ]
    },
    {
     "name": "stderr",
     "output_type": "stream",
     "text": [
      "\u001b[A\u001b[A\u001b[A\u001b[A"
     ]
    },
    {
     "name": "stdout",
     "output_type": "stream",
     "text": [
      "max at end of edge summation 2\n",
      "max at end of edge summation 2\n"
     ]
    },
    {
     "name": "stderr",
     "output_type": "stream",
     "text": [
      "\n",
      "\n",
      "\n",
      "\n",
      "\r",
      " 56%|█████▋    | 675/1200 [05:32<04:14,  2.06it/s]"
     ]
    },
    {
     "name": "stdout",
     "output_type": "stream",
     "text": [
      "max at end of edge summation 2\n",
      "summer max 5\n",
      "level 0; %pix 0.3038736979166667\n",
      "level 1; %pix 0.11429253472222223\n",
      "level 2; %pix 0.013307291666666667\n",
      "threshold 2\n",
      "percent activated pixels 0.013307291666666667\n",
      "max of morphed is 1\n",
      "1\n"
     ]
    },
    {
     "name": "stderr",
     "output_type": "stream",
     "text": [
      "\u001b[A\u001b[A\u001b[A\u001b[A"
     ]
    },
    {
     "name": "stdout",
     "output_type": "stream",
     "text": [
      "max at end of edge summation 2\n",
      "max at end of edge summation 2\n"
     ]
    },
    {
     "name": "stderr",
     "output_type": "stream",
     "text": [
      "\n",
      "\n",
      "\n",
      "\n",
      "\r",
      " 56%|█████▋    | 676/1200 [05:32<04:10,  2.09it/s]"
     ]
    },
    {
     "name": "stdout",
     "output_type": "stream",
     "text": [
      "max at end of edge summation 1\n",
      "summer max 4\n",
      "level 0; %pix 0.3269542100694444\n",
      "level 1; %pix 0.12062608506944444\n",
      "level 2; %pix 0.014876302083333333\n",
      "threshold 2\n",
      "percent activated pixels 0.014876302083333333\n",
      "max of morphed is 1\n",
      "1\n"
     ]
    },
    {
     "name": "stderr",
     "output_type": "stream",
     "text": [
      "\u001b[A\u001b[A\u001b[A\u001b[A"
     ]
    },
    {
     "name": "stdout",
     "output_type": "stream",
     "text": [
      "max at end of edge summation 2\n",
      "max at end of edge summation 2\n",
      "max at end of edge summation 1\n"
     ]
    },
    {
     "name": "stderr",
     "output_type": "stream",
     "text": [
      "\n",
      "\n",
      "\n",
      "\n",
      "\r",
      " 56%|█████▋    | 677/1200 [05:33<04:02,  2.16it/s]"
     ]
    },
    {
     "name": "stdout",
     "output_type": "stream",
     "text": [
      "summer max 4\n",
      "level 0; %pix 0.33460611979166666\n",
      "level 1; %pix 0.11689670138888889\n",
      "level 2; %pix 0.012866753472222223\n",
      "threshold 2\n",
      "percent activated pixels 0.012866753472222223\n",
      "max of morphed is 1\n",
      "1\n"
     ]
    },
    {
     "name": "stderr",
     "output_type": "stream",
     "text": [
      "\u001b[A\u001b[A\u001b[A\u001b[A"
     ]
    },
    {
     "name": "stdout",
     "output_type": "stream",
     "text": [
      "max at end of edge summation 2\n",
      "max at end of edge summation 2\n"
     ]
    },
    {
     "name": "stderr",
     "output_type": "stream",
     "text": [
      "\n",
      "\n",
      "\n",
      "\n",
      "\r",
      " 56%|█████▋    | 678/1200 [05:33<04:01,  2.16it/s]"
     ]
    },
    {
     "name": "stdout",
     "output_type": "stream",
     "text": [
      "max at end of edge summation 1\n",
      "summer max 4\n",
      "level 0; %pix 0.36755750868055553\n",
      "level 1; %pix 0.1370779079861111\n",
      "level 2; %pix 0.018582899305555556\n",
      "threshold 2\n",
      "percent activated pixels 0.018582899305555556\n",
      "max of morphed is 1\n",
      "1\n"
     ]
    },
    {
     "name": "stderr",
     "output_type": "stream",
     "text": [
      "\u001b[A\u001b[A\u001b[A\u001b[A"
     ]
    },
    {
     "name": "stdout",
     "output_type": "stream",
     "text": [
      "max at end of edge summation 2\n",
      "max at end of edge summation 2\n"
     ]
    },
    {
     "name": "stderr",
     "output_type": "stream",
     "text": [
      "\n",
      "\n",
      "\n",
      "\n",
      "\r",
      " 57%|█████▋    | 679/1200 [05:34<04:03,  2.14it/s]"
     ]
    },
    {
     "name": "stdout",
     "output_type": "stream",
     "text": [
      "max at end of edge summation 1\n",
      "summer max 4\n",
      "level 0; %pix 0.40084526909722223\n",
      "level 1; %pix 0.16951280381944445\n",
      "level 2; %pix 0.02437934027777778\n",
      "threshold 2\n",
      "percent activated pixels 0.02437934027777778\n",
      "max of morphed is 1\n",
      "1\n"
     ]
    },
    {
     "name": "stderr",
     "output_type": "stream",
     "text": [
      "\u001b[A\u001b[A\u001b[A\u001b[A"
     ]
    },
    {
     "name": "stdout",
     "output_type": "stream",
     "text": [
      "max at end of edge summation 2\n",
      "max at end of edge summation 2\n"
     ]
    },
    {
     "name": "stderr",
     "output_type": "stream",
     "text": [
      "\n",
      "\n",
      "\n",
      "\n",
      "\r",
      " 57%|█████▋    | 680/1200 [05:34<04:04,  2.13it/s]"
     ]
    },
    {
     "name": "stdout",
     "output_type": "stream",
     "text": [
      "max at end of edge summation 1\n",
      "summer max 4\n",
      "level 0; %pix 0.4024262152777778\n",
      "level 1; %pix 0.16293836805555556\n",
      "level 2; %pix 0.02451714409722222\n",
      "threshold 2\n",
      "percent activated pixels 0.02451714409722222\n",
      "max of morphed is 1\n",
      "1\n"
     ]
    },
    {
     "name": "stderr",
     "output_type": "stream",
     "text": [
      "\u001b[A\u001b[A\u001b[A\u001b[A"
     ]
    },
    {
     "name": "stdout",
     "output_type": "stream",
     "text": [
      "max at end of edge summation 2\n",
      "max at end of edge summation 2\n"
     ]
    },
    {
     "name": "stderr",
     "output_type": "stream",
     "text": [
      "\n",
      "\n",
      "\n",
      "\n",
      "\r",
      " 57%|█████▋    | 681/1200 [05:35<04:03,  2.14it/s]"
     ]
    },
    {
     "name": "stdout",
     "output_type": "stream",
     "text": [
      "max at end of edge summation 1\n",
      "summer max 4\n",
      "level 0; %pix 0.3247699652777778\n",
      "level 1; %pix 0.12875325520833333\n",
      "level 2; %pix 0.01797634548611111\n",
      "threshold 2\n",
      "percent activated pixels 0.01797634548611111\n",
      "max of morphed is 1\n",
      "1\n"
     ]
    },
    {
     "name": "stderr",
     "output_type": "stream",
     "text": [
      "\u001b[A\u001b[A\u001b[A\u001b[A"
     ]
    },
    {
     "name": "stdout",
     "output_type": "stream",
     "text": [
      "max at end of edge summation 2\n",
      "max at end of edge summation 2\n"
     ]
    },
    {
     "name": "stderr",
     "output_type": "stream",
     "text": [
      "\n",
      "\n",
      "\n",
      "\n",
      "\r",
      " 57%|█████▋    | 682/1200 [05:35<04:01,  2.14it/s]"
     ]
    },
    {
     "name": "stdout",
     "output_type": "stream",
     "text": [
      "max at end of edge summation 1\n",
      "summer max 4\n",
      "level 0; %pix 0.3485980902777778\n",
      "level 1; %pix 0.14239800347222223\n",
      "level 2; %pix 0.019626736111111112\n",
      "threshold 2\n",
      "percent activated pixels 0.019626736111111112\n",
      "max of morphed is 1\n",
      "1\n"
     ]
    },
    {
     "name": "stderr",
     "output_type": "stream",
     "text": [
      "\u001b[A\u001b[A\u001b[A\u001b[A"
     ]
    },
    {
     "name": "stdout",
     "output_type": "stream",
     "text": [
      "max at end of edge summation 2\n",
      "max at end of edge summation 2\n"
     ]
    },
    {
     "name": "stderr",
     "output_type": "stream",
     "text": [
      "\n",
      "\n",
      "\n",
      "\n",
      "\r",
      " 57%|█████▋    | 683/1200 [05:36<03:57,  2.17it/s]"
     ]
    },
    {
     "name": "stdout",
     "output_type": "stream",
     "text": [
      "max at end of edge summation 2\n",
      "summer max 4\n",
      "level 0; %pix 0.37064778645833335\n",
      "level 1; %pix 0.15212782118055557\n",
      "level 2; %pix 0.02012478298611111\n",
      "threshold 2\n",
      "percent activated pixels 0.02012478298611111\n",
      "max of morphed is 1\n",
      "1\n"
     ]
    },
    {
     "name": "stderr",
     "output_type": "stream",
     "text": [
      "\u001b[A\u001b[A\u001b[A\u001b[A"
     ]
    },
    {
     "name": "stdout",
     "output_type": "stream",
     "text": [
      "max at end of edge summation 2\n",
      "max at end of edge summation 2\n"
     ]
    },
    {
     "name": "stderr",
     "output_type": "stream",
     "text": [
      "\n",
      "\n",
      "\n",
      "\n",
      "\r",
      " 57%|█████▋    | 684/1200 [05:36<04:02,  2.13it/s]"
     ]
    },
    {
     "name": "stdout",
     "output_type": "stream",
     "text": [
      "max at end of edge summation 1\n",
      "summer max 4\n",
      "level 0; %pix 0.38165690104166666\n",
      "level 1; %pix 0.15918511284722223\n",
      "level 2; %pix 0.020737847222222223\n",
      "threshold 2\n",
      "percent activated pixels 0.020737847222222223\n",
      "max of morphed is 1\n",
      "1\n"
     ]
    },
    {
     "name": "stderr",
     "output_type": "stream",
     "text": [
      "\u001b[A\u001b[A\u001b[A\u001b[A"
     ]
    },
    {
     "name": "stdout",
     "output_type": "stream",
     "text": [
      "max at end of edge summation 2\n",
      "max at end of edge summation 2\n"
     ]
    },
    {
     "name": "stderr",
     "output_type": "stream",
     "text": [
      "\n",
      "\n",
      "\n",
      "\n",
      "\r",
      " 57%|█████▋    | 685/1200 [05:36<04:04,  2.11it/s]"
     ]
    },
    {
     "name": "stdout",
     "output_type": "stream",
     "text": [
      "max at end of edge summation 1\n",
      "summer max 4\n",
      "level 0; %pix 0.39483289930555554\n",
      "level 1; %pix 0.16494249131944444\n",
      "level 2; %pix 0.020928819444444444\n",
      "threshold 2\n",
      "percent activated pixels 0.020928819444444444\n",
      "max of morphed is 1\n",
      "1\n"
     ]
    },
    {
     "name": "stderr",
     "output_type": "stream",
     "text": [
      "\u001b[A\u001b[A\u001b[A\u001b[A"
     ]
    },
    {
     "name": "stdout",
     "output_type": "stream",
     "text": [
      "max at end of edge summation 2\n",
      "max at end of edge summation 2\n"
     ]
    },
    {
     "name": "stderr",
     "output_type": "stream",
     "text": [
      "\n",
      "\n",
      "\n",
      "\n",
      "\r",
      " 57%|█████▋    | 686/1200 [05:37<04:06,  2.09it/s]"
     ]
    },
    {
     "name": "stdout",
     "output_type": "stream",
     "text": [
      "max at end of edge summation 2\n",
      "summer max 4\n",
      "level 0; %pix 0.4061111111111111\n",
      "level 1; %pix 0.16814670138888888\n",
      "level 2; %pix 0.020113932291666668\n",
      "threshold 2\n",
      "percent activated pixels 0.020113932291666668\n",
      "max of morphed is 1\n",
      "1\n"
     ]
    },
    {
     "name": "stderr",
     "output_type": "stream",
     "text": [
      "\u001b[A\u001b[A\u001b[A\u001b[A"
     ]
    },
    {
     "name": "stdout",
     "output_type": "stream",
     "text": [
      "max at end of edge summation 2\n",
      "max at end of edge summation 2\n"
     ]
    },
    {
     "name": "stderr",
     "output_type": "stream",
     "text": [
      "\n",
      "\n",
      "\n",
      "\n",
      "\r",
      " 57%|█████▋    | 687/1200 [05:37<04:06,  2.09it/s]"
     ]
    },
    {
     "name": "stdout",
     "output_type": "stream",
     "text": [
      "max at end of edge summation 2\n",
      "summer max 4\n",
      "level 0; %pix 0.41246419270833334\n",
      "level 1; %pix 0.16711588541666667\n",
      "level 2; %pix 0.018590494791666665\n",
      "threshold 2\n",
      "percent activated pixels 0.018590494791666665\n",
      "max of morphed is 1\n",
      "1\n"
     ]
    },
    {
     "name": "stderr",
     "output_type": "stream",
     "text": [
      "\u001b[A\u001b[A\u001b[A\u001b[A"
     ]
    },
    {
     "name": "stdout",
     "output_type": "stream",
     "text": [
      "max at end of edge summation 2\n",
      "max at end of edge summation 2\n"
     ]
    },
    {
     "name": "stderr",
     "output_type": "stream",
     "text": [
      "\n",
      "\n",
      "\n",
      "\n",
      "\r",
      " 57%|█████▋    | 688/1200 [05:38<04:05,  2.08it/s]"
     ]
    },
    {
     "name": "stdout",
     "output_type": "stream",
     "text": [
      "max at end of edge summation 1\n",
      "summer max 4\n",
      "level 0; %pix 0.4204025607638889\n",
      "level 1; %pix 0.16637044270833334\n",
      "level 2; %pix 0.01928276909722222\n",
      "threshold 2\n",
      "percent activated pixels 0.01928276909722222\n",
      "max of morphed is 1\n",
      "1\n"
     ]
    },
    {
     "name": "stderr",
     "output_type": "stream",
     "text": [
      "\u001b[A\u001b[A\u001b[A\u001b[A"
     ]
    },
    {
     "name": "stdout",
     "output_type": "stream",
     "text": [
      "max at end of edge summation 2\n",
      "max at end of edge summation 2\n"
     ]
    },
    {
     "name": "stderr",
     "output_type": "stream",
     "text": [
      "\n",
      "\n",
      "\n",
      "\n",
      "\r",
      " 57%|█████▋    | 689/1200 [05:38<04:02,  2.11it/s]"
     ]
    },
    {
     "name": "stdout",
     "output_type": "stream",
     "text": [
      "max at end of edge summation 1\n",
      "summer max 4\n",
      "level 0; %pix 0.4286577690972222\n",
      "level 1; %pix 0.16558268229166667\n",
      "level 2; %pix 0.018656684027777776\n",
      "threshold 2\n",
      "percent activated pixels 0.018656684027777776\n",
      "max of morphed is 1\n",
      "1\n"
     ]
    },
    {
     "name": "stderr",
     "output_type": "stream",
     "text": [
      "\u001b[A\u001b[A\u001b[A\u001b[A"
     ]
    },
    {
     "name": "stdout",
     "output_type": "stream",
     "text": [
      "max at end of edge summation 2\n",
      "max at end of edge summation 2\n"
     ]
    },
    {
     "name": "stderr",
     "output_type": "stream",
     "text": [
      "\n",
      "\n",
      "\n",
      "\n",
      "\r",
      " 57%|█████▊    | 690/1200 [05:39<04:06,  2.07it/s]"
     ]
    },
    {
     "name": "stdout",
     "output_type": "stream",
     "text": [
      "max at end of edge summation 1\n",
      "summer max 4\n",
      "level 0; %pix 0.43866102430555554\n",
      "level 1; %pix 0.16874782986111111\n",
      "level 2; %pix 0.018779296875\n",
      "threshold 2\n",
      "percent activated pixels 0.018779296875\n",
      "max of morphed is 1\n",
      "1\n"
     ]
    },
    {
     "name": "stderr",
     "output_type": "stream",
     "text": [
      "\u001b[A\u001b[A\u001b[A\u001b[A"
     ]
    },
    {
     "name": "stdout",
     "output_type": "stream",
     "text": [
      "max at end of edge summation 2\n",
      "max at end of edge summation 2\n"
     ]
    },
    {
     "name": "stderr",
     "output_type": "stream",
     "text": [
      "\n",
      "\n",
      "\n",
      "\n",
      "\r",
      " 58%|█████▊    | 691/1200 [05:39<04:08,  2.04it/s]"
     ]
    },
    {
     "name": "stdout",
     "output_type": "stream",
     "text": [
      "max at end of edge summation 1\n",
      "summer max 4\n",
      "level 0; %pix 0.4794748263888889\n",
      "level 1; %pix 0.18327473958333335\n",
      "level 2; %pix 0.02466254340277778\n",
      "threshold 2\n",
      "percent activated pixels 0.02466254340277778\n",
      "max of morphed is 1\n",
      "1\n"
     ]
    },
    {
     "name": "stderr",
     "output_type": "stream",
     "text": [
      "\u001b[A\u001b[A\u001b[A\u001b[A"
     ]
    },
    {
     "name": "stdout",
     "output_type": "stream",
     "text": [
      "max at end of edge summation 2\n",
      "max at end of edge summation 2\n"
     ]
    },
    {
     "name": "stderr",
     "output_type": "stream",
     "text": [
      "\n",
      "\n",
      "\n",
      "\n",
      "\r",
      " 58%|█████▊    | 692/1200 [05:40<04:09,  2.04it/s]"
     ]
    },
    {
     "name": "stdout",
     "output_type": "stream",
     "text": [
      "max at end of edge summation 1\n",
      "summer max 4\n",
      "level 0; %pix 0.48638671875\n",
      "level 1; %pix 0.1858029513888889\n",
      "level 2; %pix 0.02488064236111111\n",
      "threshold 2\n",
      "percent activated pixels 0.02488064236111111\n",
      "max of morphed is 1\n",
      "1\n"
     ]
    },
    {
     "name": "stderr",
     "output_type": "stream",
     "text": [
      "\u001b[A\u001b[A\u001b[A\u001b[A"
     ]
    },
    {
     "name": "stdout",
     "output_type": "stream",
     "text": [
      "max at end of edge summation 2\n",
      "max at end of edge summation 2\n"
     ]
    },
    {
     "name": "stderr",
     "output_type": "stream",
     "text": [
      "\n",
      "\n",
      "\n",
      "\n",
      "\r",
      " 58%|█████▊    | 693/1200 [05:40<04:08,  2.04it/s]"
     ]
    },
    {
     "name": "stdout",
     "output_type": "stream",
     "text": [
      "max at end of edge summation 1\n",
      "summer max 4\n",
      "level 0; %pix 0.4738585069444444\n",
      "level 1; %pix 0.17975694444444446\n",
      "level 2; %pix 0.023844401041666668\n",
      "threshold 2\n",
      "percent activated pixels 0.023844401041666668\n",
      "max of morphed is 1\n",
      "1\n"
     ]
    },
    {
     "name": "stderr",
     "output_type": "stream",
     "text": [
      "\u001b[A\u001b[A\u001b[A\u001b[A"
     ]
    },
    {
     "name": "stdout",
     "output_type": "stream",
     "text": [
      "max at end of edge summation 2\n",
      "max at end of edge summation 2\n"
     ]
    },
    {
     "name": "stderr",
     "output_type": "stream",
     "text": [
      "\n",
      "\n",
      "\n",
      "\n",
      "\r",
      " 58%|█████▊    | 694/1200 [05:41<04:08,  2.04it/s]"
     ]
    },
    {
     "name": "stdout",
     "output_type": "stream",
     "text": [
      "max at end of edge summation 1\n",
      "summer max 4\n",
      "level 0; %pix 0.46822808159722223\n",
      "level 1; %pix 0.17538953993055556\n",
      "level 2; %pix 0.02158962673611111\n",
      "threshold 2\n",
      "percent activated pixels 0.02158962673611111\n",
      "max of morphed is 1\n",
      "1\n"
     ]
    },
    {
     "name": "stderr",
     "output_type": "stream",
     "text": [
      "\u001b[A\u001b[A\u001b[A\u001b[A"
     ]
    },
    {
     "name": "stdout",
     "output_type": "stream",
     "text": [
      "max at end of edge summation 2\n",
      "max at end of edge summation 2\n"
     ]
    },
    {
     "name": "stderr",
     "output_type": "stream",
     "text": [
      "\n",
      "\n",
      "\n",
      "\n",
      "\r",
      " 58%|█████▊    | 695/1200 [05:41<04:03,  2.07it/s]"
     ]
    },
    {
     "name": "stdout",
     "output_type": "stream",
     "text": [
      "max at end of edge summation 1\n",
      "summer max 4\n",
      "level 0; %pix 0.4510188802083333\n",
      "level 1; %pix 0.16355577256944445\n",
      "level 2; %pix 0.01841796875\n",
      "threshold 2\n",
      "percent activated pixels 0.01841796875\n",
      "max of morphed is 1\n",
      "1\n"
     ]
    },
    {
     "name": "stderr",
     "output_type": "stream",
     "text": [
      "\u001b[A\u001b[A\u001b[A\u001b[A"
     ]
    },
    {
     "name": "stdout",
     "output_type": "stream",
     "text": [
      "max at end of edge summation 2\n",
      "max at end of edge summation 1\n"
     ]
    },
    {
     "name": "stderr",
     "output_type": "stream",
     "text": [
      "\n",
      "\n",
      "\n",
      "\n",
      "\r",
      " 58%|█████▊    | 696/1200 [05:42<04:06,  2.05it/s]"
     ]
    },
    {
     "name": "stdout",
     "output_type": "stream",
     "text": [
      "max at end of edge summation 1\n",
      "summer max 4\n",
      "level 0; %pix 0.44119574652777777\n",
      "level 1; %pix 0.15547526041666668\n",
      "level 2; %pix 0.017123480902777776\n",
      "threshold 2\n",
      "percent activated pixels 0.017123480902777776\n",
      "max of morphed is 1\n",
      "1\n"
     ]
    },
    {
     "name": "stderr",
     "output_type": "stream",
     "text": [
      "\u001b[A\u001b[A\u001b[A\u001b[A"
     ]
    },
    {
     "name": "stdout",
     "output_type": "stream",
     "text": [
      "max at end of edge summation 2\n",
      "max at end of edge summation 1\n"
     ]
    },
    {
     "name": "stderr",
     "output_type": "stream",
     "text": [
      "\n",
      "\n",
      "\n",
      "\n",
      "\r",
      " 58%|█████▊    | 697/1200 [05:42<04:04,  2.05it/s]"
     ]
    },
    {
     "name": "stdout",
     "output_type": "stream",
     "text": [
      "max at end of edge summation 1\n",
      "summer max 4\n",
      "level 0; %pix 0.43964084201388887\n",
      "level 1; %pix 0.15258246527777777\n",
      "level 2; %pix 0.016536458333333334\n",
      "threshold 2\n",
      "percent activated pixels 0.016536458333333334\n",
      "max of morphed is 1\n",
      "1\n"
     ]
    },
    {
     "name": "stderr",
     "output_type": "stream",
     "text": [
      "\u001b[A\u001b[A\u001b[A\u001b[A"
     ]
    },
    {
     "name": "stdout",
     "output_type": "stream",
     "text": [
      "max at end of edge summation 2\n",
      "max at end of edge summation 1\n"
     ]
    },
    {
     "name": "stderr",
     "output_type": "stream",
     "text": [
      "\n",
      "\n",
      "\n",
      "\n",
      "\r",
      " 58%|█████▊    | 698/1200 [05:43<04:05,  2.05it/s]"
     ]
    },
    {
     "name": "stdout",
     "output_type": "stream",
     "text": [
      "max at end of edge summation 1\n",
      "summer max 4\n",
      "level 0; %pix 0.45519856770833333\n",
      "level 1; %pix 0.15555555555555556\n",
      "level 2; %pix 0.01617947048611111\n",
      "threshold 2\n",
      "percent activated pixels 0.01617947048611111\n",
      "max of morphed is 1\n",
      "1\n"
     ]
    },
    {
     "name": "stderr",
     "output_type": "stream",
     "text": [
      "\u001b[A\u001b[A\u001b[A\u001b[A"
     ]
    },
    {
     "name": "stdout",
     "output_type": "stream",
     "text": [
      "max at end of edge summation 2\n",
      "max at end of edge summation 2\n"
     ]
    },
    {
     "name": "stderr",
     "output_type": "stream",
     "text": [
      "\n",
      "\n",
      "\n",
      "\n",
      "\r",
      " 58%|█████▊    | 699/1200 [05:43<04:05,  2.04it/s]"
     ]
    },
    {
     "name": "stdout",
     "output_type": "stream",
     "text": [
      "max at end of edge summation 1\n",
      "summer max 4\n",
      "level 0; %pix 0.4428396267361111\n",
      "level 1; %pix 0.15258138020833334\n",
      "level 2; %pix 0.015872395833333334\n",
      "threshold 2\n",
      "percent activated pixels 0.015872395833333334\n",
      "max of morphed is 1\n",
      "1\n"
     ]
    },
    {
     "name": "stderr",
     "output_type": "stream",
     "text": [
      "\u001b[A\u001b[A\u001b[A\u001b[A"
     ]
    },
    {
     "name": "stdout",
     "output_type": "stream",
     "text": [
      "max at end of edge summation 2\n",
      "max at end of edge summation 1\n"
     ]
    },
    {
     "name": "stderr",
     "output_type": "stream",
     "text": [
      "\n",
      "\n",
      "\n",
      "\n",
      "\r",
      " 58%|█████▊    | 700/1200 [05:44<04:07,  2.02it/s]"
     ]
    },
    {
     "name": "stdout",
     "output_type": "stream",
     "text": [
      "max at end of edge summation 1\n",
      "summer max 4\n",
      "level 0; %pix 0.4669650607638889\n",
      "level 1; %pix 0.15964409722222223\n",
      "level 2; %pix 0.014993489583333333\n",
      "threshold 2\n",
      "percent activated pixels 0.014993489583333333\n",
      "max of morphed is 1\n",
      "1\n"
     ]
    },
    {
     "name": "stderr",
     "output_type": "stream",
     "text": [
      "\u001b[A\u001b[A\u001b[A\u001b[A"
     ]
    },
    {
     "name": "stdout",
     "output_type": "stream",
     "text": [
      "max at end of edge summation 2\n",
      "max at end of edge summation 1\n"
     ]
    },
    {
     "name": "stderr",
     "output_type": "stream",
     "text": [
      "\n",
      "\n",
      "\n",
      "\n",
      "\r",
      " 58%|█████▊    | 701/1200 [05:44<04:02,  2.06it/s]"
     ]
    },
    {
     "name": "stdout",
     "output_type": "stream",
     "text": [
      "max at end of edge summation 1\n",
      "summer max 4\n",
      "level 0; %pix 0.4513216145833333\n",
      "level 1; %pix 0.15508897569444444\n",
      "level 2; %pix 0.014504123263888889\n",
      "threshold 2\n",
      "percent activated pixels 0.014504123263888889\n",
      "max of morphed is 1\n",
      "1\n"
     ]
    },
    {
     "name": "stderr",
     "output_type": "stream",
     "text": [
      "\u001b[A\u001b[A\u001b[A\u001b[A"
     ]
    },
    {
     "name": "stdout",
     "output_type": "stream",
     "text": [
      "max at end of edge summation 2\n",
      "max at end of edge summation 1\n"
     ]
    },
    {
     "name": "stderr",
     "output_type": "stream",
     "text": [
      "\n",
      "\n",
      "\n",
      "\n",
      "\r",
      " 58%|█████▊    | 702/1200 [05:45<04:02,  2.05it/s]"
     ]
    },
    {
     "name": "stdout",
     "output_type": "stream",
     "text": [
      "max at end of edge summation 1\n",
      "summer max 4\n",
      "level 0; %pix 0.4570529513888889\n",
      "level 1; %pix 0.15646484375\n",
      "level 2; %pix 0.013401692708333333\n",
      "threshold 2\n",
      "percent activated pixels 0.013401692708333333\n",
      "max of morphed is 1\n",
      "1\n"
     ]
    },
    {
     "name": "stderr",
     "output_type": "stream",
     "text": [
      "\u001b[A\u001b[A\u001b[A\u001b[A"
     ]
    },
    {
     "name": "stdout",
     "output_type": "stream",
     "text": [
      "max at end of edge summation 2\n",
      "max at end of edge summation 1\n"
     ]
    },
    {
     "name": "stderr",
     "output_type": "stream",
     "text": [
      "\n",
      "\n",
      "\n",
      "\n",
      "\r",
      " 59%|█████▊    | 703/1200 [05:45<04:00,  2.07it/s]"
     ]
    },
    {
     "name": "stdout",
     "output_type": "stream",
     "text": [
      "max at end of edge summation 1\n",
      "summer max 4\n",
      "level 0; %pix 0.4004546440972222\n",
      "level 1; %pix 0.13279296875\n",
      "level 2; %pix 0.004708116319444444\n",
      "threshold 2\n",
      "percent activated pixels 0.004708116319444444\n",
      "max of morphed is 1\n",
      "1\n"
     ]
    },
    {
     "name": "stderr",
     "output_type": "stream",
     "text": [
      "\u001b[A\u001b[A\u001b[A\u001b[A"
     ]
    },
    {
     "name": "stdout",
     "output_type": "stream",
     "text": [
      "max at end of edge summation 2\n",
      "max at end of edge summation 1\n"
     ]
    },
    {
     "name": "stderr",
     "output_type": "stream",
     "text": [
      "\n",
      "\n",
      "\n",
      "\n",
      "\r",
      " 59%|█████▊    | 704/1200 [05:46<03:58,  2.08it/s]"
     ]
    },
    {
     "name": "stdout",
     "output_type": "stream",
     "text": [
      "max at end of edge summation 1\n",
      "summer max 4\n",
      "level 0; %pix 0.38919921875\n",
      "level 1; %pix 0.12968098958333332\n",
      "level 2; %pix 0.008532986111111111\n",
      "threshold 2\n",
      "percent activated pixels 0.008532986111111111\n",
      "max of morphed is 1\n",
      "1\n"
     ]
    },
    {
     "name": "stderr",
     "output_type": "stream",
     "text": [
      "\u001b[A\u001b[A\u001b[A\u001b[A"
     ]
    },
    {
     "name": "stdout",
     "output_type": "stream",
     "text": [
      "max at end of edge summation 2\n",
      "max at end of edge summation 1\n"
     ]
    },
    {
     "name": "stderr",
     "output_type": "stream",
     "text": [
      "\n",
      "\n",
      "\n",
      "\n",
      "\r",
      " 59%|█████▉    | 705/1200 [05:46<03:59,  2.07it/s]"
     ]
    },
    {
     "name": "stdout",
     "output_type": "stream",
     "text": [
      "max at end of edge summation 1\n",
      "summer max 4\n",
      "level 0; %pix 0.3700141059027778\n",
      "level 1; %pix 0.14853407118055556\n",
      "level 2; %pix 0.007301432291666667\n",
      "threshold 2\n",
      "percent activated pixels 0.007301432291666667\n",
      "max of morphed is 1\n",
      "1\n"
     ]
    },
    {
     "name": "stderr",
     "output_type": "stream",
     "text": [
      "\u001b[A\u001b[A\u001b[A\u001b[A"
     ]
    },
    {
     "name": "stdout",
     "output_type": "stream",
     "text": [
      "max at end of edge summation 2\n",
      "max at end of edge summation 1\n"
     ]
    },
    {
     "name": "stderr",
     "output_type": "stream",
     "text": [
      "\n",
      "\n",
      "\n",
      "\n",
      "\r",
      " 59%|█████▉    | 706/1200 [05:47<03:55,  2.09it/s]"
     ]
    },
    {
     "name": "stdout",
     "output_type": "stream",
     "text": [
      "max at end of edge summation 1\n",
      "summer max 4\n",
      "level 0; %pix 0.3436284722222222\n",
      "level 1; %pix 0.18094401041666666\n",
      "level 2; %pix 0.01448459201388889\n",
      "threshold 2\n",
      "percent activated pixels 0.01448459201388889\n",
      "max of morphed is 1\n",
      "1\n"
     ]
    },
    {
     "name": "stderr",
     "output_type": "stream",
     "text": [
      "\u001b[A\u001b[A\u001b[A\u001b[A"
     ]
    },
    {
     "name": "stdout",
     "output_type": "stream",
     "text": [
      "max at end of edge summation 2\n",
      "max at end of edge summation 2\n"
     ]
    },
    {
     "name": "stderr",
     "output_type": "stream",
     "text": [
      "\n",
      "\n",
      "\n",
      "\n",
      "\r",
      " 59%|█████▉    | 707/1200 [05:47<03:51,  2.13it/s]"
     ]
    },
    {
     "name": "stdout",
     "output_type": "stream",
     "text": [
      "max at end of edge summation 1\n",
      "summer max 4\n",
      "level 0; %pix 0.40126085069444445\n",
      "level 1; %pix 0.18697808159722223\n",
      "level 2; %pix 0.012320963541666667\n",
      "threshold 2\n",
      "percent activated pixels 0.012320963541666667\n",
      "max of morphed is 1\n",
      "1\n"
     ]
    },
    {
     "name": "stderr",
     "output_type": "stream",
     "text": [
      "\u001b[A\u001b[A\u001b[A\u001b[A"
     ]
    },
    {
     "name": "stdout",
     "output_type": "stream",
     "text": [
      "max at end of edge summation 2\n",
      "max at end of edge summation 2\n"
     ]
    },
    {
     "name": "stderr",
     "output_type": "stream",
     "text": [
      "\n",
      "\n",
      "\n",
      "\n",
      "\r",
      " 59%|█████▉    | 708/1200 [05:48<03:52,  2.12it/s]"
     ]
    },
    {
     "name": "stdout",
     "output_type": "stream",
     "text": [
      "max at end of edge summation 2\n",
      "summer max 4\n",
      "level 0; %pix 0.40648763020833334\n",
      "level 1; %pix 0.14578993055555556\n",
      "level 2; %pix 0.007768012152777778\n",
      "threshold 2\n",
      "percent activated pixels 0.007768012152777778\n",
      "max of morphed is 1\n",
      "1\n"
     ]
    },
    {
     "name": "stderr",
     "output_type": "stream",
     "text": [
      "\u001b[A\u001b[A\u001b[A\u001b[A"
     ]
    },
    {
     "name": "stdout",
     "output_type": "stream",
     "text": [
      "max at end of edge summation 2\n",
      "max at end of edge summation 1\n"
     ]
    },
    {
     "name": "stderr",
     "output_type": "stream",
     "text": [
      "\n",
      "\n",
      "\n",
      "\n",
      "\r",
      " 59%|█████▉    | 709/1200 [05:48<03:51,  2.12it/s]"
     ]
    },
    {
     "name": "stdout",
     "output_type": "stream",
     "text": [
      "max at end of edge summation 1\n",
      "summer max 4\n",
      "level 0; %pix 0.41376953125\n",
      "level 1; %pix 0.1686740451388889\n",
      "level 2; %pix 0.009838324652777777\n",
      "threshold 2\n",
      "percent activated pixels 0.009838324652777777\n",
      "max of morphed is 1\n",
      "1\n"
     ]
    },
    {
     "name": "stderr",
     "output_type": "stream",
     "text": [
      "\u001b[A\u001b[A\u001b[A\u001b[A"
     ]
    },
    {
     "name": "stdout",
     "output_type": "stream",
     "text": [
      "max at end of edge summation 2\n",
      "max at end of edge summation 2\n"
     ]
    },
    {
     "name": "stderr",
     "output_type": "stream",
     "text": [
      "\n",
      "\n",
      "\n",
      "\n",
      "\r",
      " 59%|█████▉    | 710/1200 [05:49<03:50,  2.12it/s]"
     ]
    },
    {
     "name": "stdout",
     "output_type": "stream",
     "text": [
      "max at end of edge summation 1\n",
      "summer max 4\n",
      "level 0; %pix 0.41387478298611113\n",
      "level 1; %pix 0.149267578125\n",
      "level 2; %pix 0.008123914930555556\n",
      "threshold 2\n",
      "percent activated pixels 0.008123914930555556\n",
      "max of morphed is 1\n",
      "1\n"
     ]
    },
    {
     "name": "stderr",
     "output_type": "stream",
     "text": [
      "\u001b[A\u001b[A\u001b[A\u001b[A"
     ]
    },
    {
     "name": "stdout",
     "output_type": "stream",
     "text": [
      "max at end of edge summation 2\n",
      "max at end of edge summation 1\n"
     ]
    },
    {
     "name": "stderr",
     "output_type": "stream",
     "text": [
      "\n",
      "\n",
      "\n",
      "\n",
      "\r",
      " 59%|█████▉    | 711/1200 [05:49<03:49,  2.13it/s]"
     ]
    },
    {
     "name": "stdout",
     "output_type": "stream",
     "text": [
      "max at end of edge summation 1\n",
      "summer max 4\n",
      "level 0; %pix 0.3891145833333333\n",
      "level 1; %pix 0.17658637152777779\n",
      "level 2; %pix 0.012014973958333333\n",
      "threshold 2\n",
      "percent activated pixels 0.012014973958333333\n",
      "max of morphed is 1\n",
      "1\n"
     ]
    },
    {
     "name": "stderr",
     "output_type": "stream",
     "text": [
      "\u001b[A\u001b[A\u001b[A\u001b[A"
     ]
    },
    {
     "name": "stdout",
     "output_type": "stream",
     "text": [
      "max at end of edge summation 2\n",
      "max at end of edge summation 2\n"
     ]
    },
    {
     "name": "stderr",
     "output_type": "stream",
     "text": [
      "\n",
      "\n",
      "\n",
      "\n",
      "\r",
      " 59%|█████▉    | 712/1200 [05:49<03:49,  2.12it/s]"
     ]
    },
    {
     "name": "stdout",
     "output_type": "stream",
     "text": [
      "max at end of edge summation 1\n",
      "summer max 4\n",
      "level 0; %pix 0.3736545138888889\n",
      "level 1; %pix 0.19736002604166666\n",
      "level 2; %pix 0.018853081597222224\n",
      "threshold 2\n",
      "percent activated pixels 0.018853081597222224\n",
      "max of morphed is 1\n",
      "1\n"
     ]
    },
    {
     "name": "stderr",
     "output_type": "stream",
     "text": [
      "\u001b[A\u001b[A\u001b[A\u001b[A"
     ]
    },
    {
     "name": "stdout",
     "output_type": "stream",
     "text": [
      "max at end of edge summation 2\n",
      "max at end of edge summation 2\n"
     ]
    },
    {
     "name": "stderr",
     "output_type": "stream",
     "text": [
      "\n",
      "\n",
      "\n",
      "\n",
      "\r",
      " 59%|█████▉    | 713/1200 [05:50<03:48,  2.13it/s]"
     ]
    },
    {
     "name": "stdout",
     "output_type": "stream",
     "text": [
      "max at end of edge summation 1\n",
      "summer max 4\n",
      "level 0; %pix 0.40911024305555554\n",
      "level 1; %pix 0.2146408420138889\n",
      "level 2; %pix 0.021932508680555556\n",
      "threshold 2\n",
      "percent activated pixels 0.021932508680555556\n",
      "max of morphed is 1\n",
      "1\n"
     ]
    },
    {
     "name": "stderr",
     "output_type": "stream",
     "text": [
      "\u001b[A\u001b[A\u001b[A\u001b[A"
     ]
    },
    {
     "name": "stdout",
     "output_type": "stream",
     "text": [
      "max at end of edge summation 2\n",
      "max at end of edge summation 2\n"
     ]
    },
    {
     "name": "stderr",
     "output_type": "stream",
     "text": [
      "\n",
      "\n",
      "\n",
      "\n",
      "\r",
      " 60%|█████▉    | 714/1200 [05:50<03:51,  2.10it/s]"
     ]
    },
    {
     "name": "stdout",
     "output_type": "stream",
     "text": [
      "max at end of edge summation 1\n",
      "summer max 4\n",
      "level 0; %pix 0.44463216145833334\n",
      "level 1; %pix 0.23139214409722222\n",
      "level 2; %pix 0.023499348958333333\n",
      "threshold 2\n",
      "percent activated pixels 0.023499348958333333\n",
      "max of morphed is 1\n",
      "1\n"
     ]
    },
    {
     "name": "stderr",
     "output_type": "stream",
     "text": [
      "\u001b[A\u001b[A\u001b[A\u001b[A"
     ]
    },
    {
     "name": "stdout",
     "output_type": "stream",
     "text": [
      "max at end of edge summation 2\n",
      "max at end of edge summation 2\n"
     ]
    },
    {
     "name": "stderr",
     "output_type": "stream",
     "text": [
      "\n",
      "\n",
      "\n",
      "\n",
      "\r",
      " 60%|█████▉    | 715/1200 [05:51<03:53,  2.08it/s]"
     ]
    },
    {
     "name": "stdout",
     "output_type": "stream",
     "text": [
      "max at end of edge summation 1\n",
      "summer max 4\n",
      "level 0; %pix 0.46597764756944443\n",
      "level 1; %pix 0.24368598090277777\n",
      "level 2; %pix 0.025079210069444444\n",
      "threshold 2\n",
      "percent activated pixels 0.025079210069444444\n",
      "max of morphed is 1\n",
      "1\n"
     ]
    },
    {
     "name": "stderr",
     "output_type": "stream",
     "text": [
      "\u001b[A\u001b[A\u001b[A\u001b[A"
     ]
    },
    {
     "name": "stdout",
     "output_type": "stream",
     "text": [
      "max at end of edge summation 2\n",
      "max at end of edge summation 1\n"
     ]
    },
    {
     "name": "stderr",
     "output_type": "stream",
     "text": [
      "\n",
      "\n",
      "\n",
      "\n",
      "\r",
      " 60%|█████▉    | 716/1200 [05:51<03:54,  2.06it/s]"
     ]
    },
    {
     "name": "stdout",
     "output_type": "stream",
     "text": [
      "max at end of edge summation 1\n",
      "summer max 4\n",
      "level 0; %pix 0.47124891493055554\n",
      "level 1; %pix 0.23516710069444444\n",
      "level 2; %pix 0.023231336805555555\n",
      "threshold 2\n",
      "percent activated pixels 0.023231336805555555\n",
      "max of morphed is 1\n",
      "1\n"
     ]
    },
    {
     "name": "stderr",
     "output_type": "stream",
     "text": [
      "\u001b[A\u001b[A\u001b[A\u001b[A"
     ]
    },
    {
     "name": "stdout",
     "output_type": "stream",
     "text": [
      "max at end of edge summation 2\n",
      "max at end of edge summation 1\n"
     ]
    },
    {
     "name": "stderr",
     "output_type": "stream",
     "text": [
      "\n",
      "\n",
      "\n",
      "\n",
      "\r",
      " 60%|█████▉    | 717/1200 [05:52<03:52,  2.08it/s]"
     ]
    },
    {
     "name": "stdout",
     "output_type": "stream",
     "text": [
      "max at end of edge summation 1\n",
      "summer max 4\n",
      "level 0; %pix 0.4476312934027778\n",
      "level 1; %pix 0.23215711805555556\n",
      "level 2; %pix 0.024432508680555555\n",
      "threshold 2\n",
      "percent activated pixels 0.024432508680555555\n",
      "max of morphed is 1\n",
      "1\n"
     ]
    },
    {
     "name": "stderr",
     "output_type": "stream",
     "text": [
      "\u001b[A\u001b[A\u001b[A\u001b[A"
     ]
    },
    {
     "name": "stdout",
     "output_type": "stream",
     "text": [
      "max at end of edge summation 2\n",
      "max at end of edge summation 2\n"
     ]
    },
    {
     "name": "stderr",
     "output_type": "stream",
     "text": [
      "\n",
      "\n",
      "\n",
      "\n",
      "\r",
      " 60%|█████▉    | 718/1200 [05:52<03:53,  2.07it/s]"
     ]
    },
    {
     "name": "stdout",
     "output_type": "stream",
     "text": [
      "max at end of edge summation 1\n",
      "summer max 4\n",
      "level 0; %pix 0.47051106770833334\n",
      "level 1; %pix 0.24439344618055556\n",
      "level 2; %pix 0.025182291666666665\n",
      "threshold 2\n",
      "percent activated pixels 0.025182291666666665\n",
      "max of morphed is 1\n",
      "1\n"
     ]
    },
    {
     "name": "stderr",
     "output_type": "stream",
     "text": [
      "\u001b[A\u001b[A\u001b[A\u001b[A"
     ]
    },
    {
     "name": "stdout",
     "output_type": "stream",
     "text": [
      "max at end of edge summation 2\n",
      "max at end of edge summation 2\n"
     ]
    },
    {
     "name": "stderr",
     "output_type": "stream",
     "text": [
      "\n",
      "\n",
      "\n",
      "\n",
      "\r",
      " 60%|█████▉    | 719/1200 [05:53<03:50,  2.09it/s]"
     ]
    },
    {
     "name": "stdout",
     "output_type": "stream",
     "text": [
      "max at end of edge summation 1\n",
      "summer max 4\n",
      "level 0; %pix 0.48924153645833335\n",
      "level 1; %pix 0.25409396701388887\n",
      "level 2; %pix 0.02534939236111111\n",
      "threshold 2\n",
      "percent activated pixels 0.02534939236111111\n",
      "max of morphed is 1\n",
      "1\n"
     ]
    },
    {
     "name": "stderr",
     "output_type": "stream",
     "text": [
      "\u001b[A\u001b[A\u001b[A\u001b[A"
     ]
    },
    {
     "name": "stdout",
     "output_type": "stream",
     "text": [
      "max at end of edge summation 2\n",
      "max at end of edge summation 2\n"
     ]
    },
    {
     "name": "stderr",
     "output_type": "stream",
     "text": [
      "\n",
      "\n",
      "\n",
      "\n",
      "\r",
      " 60%|██████    | 720/1200 [05:53<03:54,  2.05it/s]"
     ]
    },
    {
     "name": "stdout",
     "output_type": "stream",
     "text": [
      "max at end of edge summation 1\n",
      "summer max 4\n",
      "level 0; %pix 0.5048914930555556\n",
      "level 1; %pix 0.2625542534722222\n",
      "level 2; %pix 0.02665798611111111\n",
      "threshold 2\n",
      "percent activated pixels 0.02665798611111111\n",
      "max of morphed is 1\n",
      "1\n"
     ]
    },
    {
     "name": "stderr",
     "output_type": "stream",
     "text": [
      "\u001b[A\u001b[A\u001b[A\u001b[A"
     ]
    },
    {
     "name": "stdout",
     "output_type": "stream",
     "text": [
      "max at end of edge summation 2\n",
      "max at end of edge summation 1\n"
     ]
    },
    {
     "name": "stderr",
     "output_type": "stream",
     "text": [
      "\n",
      "\n",
      "\n",
      "\n",
      "\r",
      " 60%|██████    | 721/1200 [05:54<03:56,  2.02it/s]"
     ]
    },
    {
     "name": "stdout",
     "output_type": "stream",
     "text": [
      "max at end of edge summation 1\n",
      "summer max 4\n",
      "level 0; %pix 0.5204958767361111\n",
      "level 1; %pix 0.26938802083333335\n",
      "level 2; %pix 0.030017361111111113\n",
      "threshold 2\n",
      "percent activated pixels 0.030017361111111113\n",
      "max of morphed is 1\n",
      "1\n"
     ]
    },
    {
     "name": "stderr",
     "output_type": "stream",
     "text": [
      "\u001b[A\u001b[A\u001b[A\u001b[A"
     ]
    },
    {
     "name": "stdout",
     "output_type": "stream",
     "text": [
      "max at end of edge summation 2\n",
      "max at end of edge summation 1\n"
     ]
    },
    {
     "name": "stderr",
     "output_type": "stream",
     "text": [
      "\n",
      "\n",
      "\n",
      "\n",
      "\r",
      " 60%|██████    | 722/1200 [05:54<03:56,  2.02it/s]"
     ]
    },
    {
     "name": "stdout",
     "output_type": "stream",
     "text": [
      "max at end of edge summation 2\n",
      "summer max 4\n",
      "level 0; %pix 0.5373372395833333\n",
      "level 1; %pix 0.2778439670138889\n",
      "level 2; %pix 0.029527994791666668\n",
      "threshold 2\n",
      "percent activated pixels 0.029527994791666668\n",
      "max of morphed is 1\n",
      "1\n"
     ]
    },
    {
     "name": "stderr",
     "output_type": "stream",
     "text": [
      "\u001b[A\u001b[A\u001b[A\u001b[A"
     ]
    },
    {
     "name": "stdout",
     "output_type": "stream",
     "text": [
      "max at end of edge summation 2\n",
      "max at end of edge summation 1\n"
     ]
    },
    {
     "name": "stderr",
     "output_type": "stream",
     "text": [
      "\n",
      "\n",
      "\n",
      "\n",
      "\r",
      " 60%|██████    | 723/1200 [05:55<03:57,  2.01it/s]"
     ]
    },
    {
     "name": "stdout",
     "output_type": "stream",
     "text": [
      "max at end of edge summation 1\n",
      "summer max 4\n",
      "level 0; %pix 0.5497547743055555\n",
      "level 1; %pix 0.2842513020833333\n",
      "level 2; %pix 0.028734809027777777\n",
      "threshold 2\n",
      "percent activated pixels 0.028734809027777777\n",
      "max of morphed is 1\n",
      "1\n"
     ]
    },
    {
     "name": "stderr",
     "output_type": "stream",
     "text": [
      "\u001b[A\u001b[A\u001b[A\u001b[A"
     ]
    },
    {
     "name": "stdout",
     "output_type": "stream",
     "text": [
      "max at end of edge summation 2\n",
      "max at end of edge summation 1\n"
     ]
    },
    {
     "name": "stderr",
     "output_type": "stream",
     "text": [
      "\n",
      "\n",
      "\n",
      "\n",
      "\r",
      " 60%|██████    | 724/1200 [05:55<03:56,  2.01it/s]"
     ]
    },
    {
     "name": "stdout",
     "output_type": "stream",
     "text": [
      "max at end of edge summation 1\n",
      "summer max 4\n",
      "level 0; %pix 0.5594476996527777\n",
      "level 1; %pix 0.28833116319444446\n",
      "level 2; %pix 0.027985026041666666\n",
      "threshold 2\n",
      "percent activated pixels 0.027985026041666666\n",
      "max of morphed is 1\n",
      "1\n"
     ]
    },
    {
     "name": "stderr",
     "output_type": "stream",
     "text": [
      "\u001b[A\u001b[A\u001b[A\u001b[A"
     ]
    },
    {
     "name": "stdout",
     "output_type": "stream",
     "text": [
      "max at end of edge summation 2\n",
      "max at end of edge summation 1\n"
     ]
    },
    {
     "name": "stderr",
     "output_type": "stream",
     "text": [
      "\n",
      "\n",
      "\n",
      "\n",
      "\r",
      " 60%|██████    | 725/1200 [05:56<03:54,  2.02it/s]"
     ]
    },
    {
     "name": "stdout",
     "output_type": "stream",
     "text": [
      "max at end of edge summation 1\n",
      "summer max 4\n",
      "level 0; %pix 0.5662977430555556\n",
      "level 1; %pix 0.28936414930555554\n",
      "level 2; %pix 0.026950954861111112\n",
      "threshold 2\n",
      "percent activated pixels 0.026950954861111112\n",
      "max of morphed is 1\n",
      "1\n"
     ]
    },
    {
     "name": "stderr",
     "output_type": "stream",
     "text": [
      "\u001b[A\u001b[A\u001b[A\u001b[A"
     ]
    },
    {
     "name": "stdout",
     "output_type": "stream",
     "text": [
      "max at end of edge summation 2\n",
      "max at end of edge summation 1\n"
     ]
    },
    {
     "name": "stderr",
     "output_type": "stream",
     "text": [
      "\n",
      "\n",
      "\n",
      "\n",
      "\r",
      " 60%|██████    | 726/1200 [05:56<03:56,  2.00it/s]"
     ]
    },
    {
     "name": "stdout",
     "output_type": "stream",
     "text": [
      "max at end of edge summation 1\n",
      "summer max 4\n",
      "level 0; %pix 0.5669303385416666\n",
      "level 1; %pix 0.2866525607638889\n",
      "level 2; %pix 0.026915147569444443\n",
      "threshold 2\n",
      "percent activated pixels 0.026915147569444443\n",
      "max of morphed is 1\n",
      "1\n"
     ]
    },
    {
     "name": "stderr",
     "output_type": "stream",
     "text": [
      "\u001b[A\u001b[A\u001b[A\u001b[A"
     ]
    },
    {
     "name": "stdout",
     "output_type": "stream",
     "text": [
      "max at end of edge summation 2\n",
      "max at end of edge summation 2\n"
     ]
    },
    {
     "name": "stderr",
     "output_type": "stream",
     "text": [
      "\n",
      "\n",
      "\n",
      "\n",
      "\r",
      " 61%|██████    | 727/1200 [05:57<03:59,  1.98it/s]"
     ]
    },
    {
     "name": "stdout",
     "output_type": "stream",
     "text": [
      "max at end of edge summation 1\n",
      "summer max 4\n",
      "level 0; %pix 0.5857215711805556\n",
      "level 1; %pix 0.296044921875\n",
      "level 2; %pix 0.028364800347222222\n",
      "threshold 2\n",
      "percent activated pixels 0.028364800347222222\n",
      "max of morphed is 1\n",
      "1\n"
     ]
    },
    {
     "name": "stderr",
     "output_type": "stream",
     "text": [
      "\u001b[A\u001b[A\u001b[A\u001b[A"
     ]
    },
    {
     "name": "stdout",
     "output_type": "stream",
     "text": [
      "max at end of edge summation 2\n",
      "max at end of edge summation 1\n"
     ]
    },
    {
     "name": "stderr",
     "output_type": "stream",
     "text": [
      "\n",
      "\n",
      "\n",
      "\n",
      "\r",
      " 61%|██████    | 728/1200 [05:57<04:00,  1.97it/s]"
     ]
    },
    {
     "name": "stdout",
     "output_type": "stream",
     "text": [
      "max at end of edge summation 2\n",
      "summer max 4\n",
      "level 0; %pix 0.602744140625\n",
      "level 1; %pix 0.3029654947916667\n",
      "level 2; %pix 0.02835177951388889\n",
      "threshold 2\n",
      "percent activated pixels 0.02835177951388889\n",
      "max of morphed is 1\n",
      "1\n"
     ]
    },
    {
     "name": "stderr",
     "output_type": "stream",
     "text": [
      "\u001b[A\u001b[A\u001b[A\u001b[A"
     ]
    },
    {
     "name": "stdout",
     "output_type": "stream",
     "text": [
      "max at end of edge summation 2\n",
      "max at end of edge summation 1\n"
     ]
    },
    {
     "name": "stderr",
     "output_type": "stream",
     "text": [
      "\n",
      "\n",
      "\n",
      "\n",
      "\r",
      " 61%|██████    | 729/1200 [05:58<04:02,  1.94it/s]"
     ]
    },
    {
     "name": "stdout",
     "output_type": "stream",
     "text": [
      "max at end of edge summation 2\n",
      "summer max 4\n",
      "level 0; %pix 0.5922580295138888\n",
      "level 1; %pix 0.30017469618055553\n",
      "level 2; %pix 0.028296440972222222\n",
      "threshold 2\n",
      "percent activated pixels 0.028296440972222222\n",
      "max of morphed is 1\n",
      "1\n"
     ]
    },
    {
     "name": "stderr",
     "output_type": "stream",
     "text": [
      "\u001b[A\u001b[A\u001b[A\u001b[A"
     ]
    },
    {
     "name": "stdout",
     "output_type": "stream",
     "text": [
      "max at end of edge summation 2\n",
      "max at end of edge summation 2\n"
     ]
    },
    {
     "name": "stderr",
     "output_type": "stream",
     "text": [
      "\n",
      "\n",
      "\n",
      "\n",
      "\r",
      " 61%|██████    | 730/1200 [05:58<04:06,  1.91it/s]"
     ]
    },
    {
     "name": "stdout",
     "output_type": "stream",
     "text": [
      "max at end of edge summation 2\n",
      "summer max 4\n",
      "level 0; %pix 0.5879557291666667\n",
      "level 1; %pix 0.28893663194444447\n",
      "level 2; %pix 0.0280859375\n",
      "threshold 2\n",
      "percent activated pixels 0.0280859375\n",
      "max of morphed is 1\n",
      "1\n"
     ]
    },
    {
     "name": "stderr",
     "output_type": "stream",
     "text": [
      "\u001b[A\u001b[A\u001b[A\u001b[A"
     ]
    },
    {
     "name": "stdout",
     "output_type": "stream",
     "text": [
      "max at end of edge summation 2\n",
      "max at end of edge summation 2\n"
     ]
    },
    {
     "name": "stderr",
     "output_type": "stream",
     "text": [
      "\n",
      "\n",
      "\n",
      "\n",
      "\r",
      " 61%|██████    | 731/1200 [05:59<04:05,  1.91it/s]"
     ]
    },
    {
     "name": "stdout",
     "output_type": "stream",
     "text": [
      "max at end of edge summation 2\n",
      "summer max 4\n",
      "level 0; %pix 0.5788802083333333\n",
      "level 1; %pix 0.2921896701388889\n",
      "level 2; %pix 0.029600694444444443\n",
      "threshold 2\n",
      "percent activated pixels 0.029600694444444443\n",
      "max of morphed is 1\n",
      "1\n"
     ]
    },
    {
     "name": "stderr",
     "output_type": "stream",
     "text": [
      "\u001b[A\u001b[A\u001b[A\u001b[A"
     ]
    },
    {
     "name": "stdout",
     "output_type": "stream",
     "text": [
      "max at end of edge summation 2\n",
      "max at end of edge summation 1\n"
     ]
    },
    {
     "name": "stderr",
     "output_type": "stream",
     "text": [
      "\n",
      "\n",
      "\n",
      "\n",
      "\r",
      " 61%|██████    | 732/1200 [06:00<04:10,  1.87it/s]"
     ]
    },
    {
     "name": "stdout",
     "output_type": "stream",
     "text": [
      "max at end of edge summation 2\n",
      "summer max 4\n",
      "level 0; %pix 0.6008376736111111\n",
      "level 1; %pix 0.3000998263888889\n",
      "level 2; %pix 0.029810112847222223\n",
      "threshold 2\n",
      "percent activated pixels 0.029810112847222223\n",
      "max of morphed is 1\n",
      "1\n"
     ]
    },
    {
     "name": "stderr",
     "output_type": "stream",
     "text": [
      "\u001b[A\u001b[A\u001b[A\u001b[A"
     ]
    },
    {
     "name": "stdout",
     "output_type": "stream",
     "text": [
      "max at end of edge summation 2\n",
      "max at end of edge summation 2\n"
     ]
    },
    {
     "name": "stderr",
     "output_type": "stream",
     "text": [
      "\n",
      "\n",
      "\n",
      "\n",
      "\r",
      " 61%|██████    | 733/1200 [06:00<04:12,  1.85it/s]"
     ]
    },
    {
     "name": "stdout",
     "output_type": "stream",
     "text": [
      "max at end of edge summation 1\n",
      "summer max 4\n",
      "level 0; %pix 0.5945627170138889\n",
      "level 1; %pix 0.2991178385416667\n",
      "level 2; %pix 0.03048828125\n",
      "threshold 2\n",
      "percent activated pixels 0.03048828125\n",
      "max of morphed is 1\n",
      "1\n"
     ]
    },
    {
     "name": "stderr",
     "output_type": "stream",
     "text": [
      "\u001b[A\u001b[A\u001b[A\u001b[A"
     ]
    },
    {
     "name": "stdout",
     "output_type": "stream",
     "text": [
      "max at end of edge summation 2\n",
      "max at end of edge summation 1\n"
     ]
    }
   ],
   "source": [
    "from moviepy.editor import VideoFileClip\n",
    "\n",
    "import numpy as np\n",
    "import glob\n",
    "import edge_utils as eu\n",
    "\n",
    "import pickle\n",
    "\n",
    "from moviepy.editor import *\n",
    "import cv2\n",
    "\n",
    "def computeEdges(binary):   \n",
    "    '''\n",
    "    Three edge detection methods based on Sobel were used.\n",
    "    The results of each were accumlated in the numpy array summer\n",
    "    Thus, in this case summer could have a max of 3 for an\n",
    "    edge pixel that was detected in all three methods.  Thresholds\n",
    "    were determined by trial and error\n",
    "    ''' \n",
    "    summer = eu.dir_threshold(binary, 3, thresh=(.7,1.4)) \n",
    "    summer = np.add(summer, eu.abs_sobel_thresh(binary, 'x', .2,1.2))  \n",
    "    summer = np.add(summer, eu.abs_sobel_thresh(binary, 'y', .4 ,1.1)) \n",
    "\n",
    "   # dilate = cv2.dilate(summer,dilation_kernel,iterations = 3) \n",
    "    print(\"max at end of edge summation {}\".format(np.max(summer)))\n",
    "    return summer\n",
    "\n",
    "\n",
    "def process_image(image):\n",
    "  '''\n",
    "  This method is called once per image by MoviePy. \n",
    "  Three colorspace and channels were tested-a white, yellow\n",
    "  colormask (color_mask), HLS channel S and HLS L, XYZ X\n",
    "  As with the edge detection, pixels are accumulated in s.\n",
    "  s is thresholded later.  \n",
    "  ''' \n",
    "  s = computeEdges(eu.color_mask(image)) \n",
    "\n",
    "  HLS = cv2.cvtColor(image, cv2.COLOR_BGR2HLS)\n",
    "  #s = np.add(s,computeEdges(HLS[:,:,0]))\n",
    "\n",
    "  #s = np.add(s, computeEdges(HLS[:,:,1]))  \n",
    "\n",
    "  s = np.add(s, computeEdges(HLS[:,:,2]))  \n",
    "  XYZ = cv2.cvtColor(image, cv2.COLOR_BGR2XYZ)\n",
    "  s = np.add(s, computeEdges(XYZ[:,:,0]))\n",
    "  \n",
    "  #the uniques (ranging 0:5 typically) are thresholded\n",
    "  summer_max = np.max(np.unique(s))\n",
    "  print(\"summer max {}\".format(summer_max))\n",
    " \n",
    "  #less than 10% pixels provide good signal\n",
    "  for level in np.unique(s):\n",
    "    percent_active = np.count_nonzero(s>level, axis=None)/np.size(s)\n",
    "    print(\"level {}; %pix {}\".format(level,percent_active))\n",
    "    if percent_active < .10:\n",
    "        break\n",
    "          \n",
    "  print(\"threshold {}\".format(level))\n",
    "  s[s<=level] = 0\n",
    "  s[s>level] = 1 \n",
    "\n",
    "  print(\"percent activated pixels {}\".\n",
    "       format(np.count_nonzero(s, axis=None)/np.size(s)))\n",
    "\n",
    "  morphed = cv2.dilate(s,dilation_kernel,iterations = 1) \n",
    "  print(\"max of morphed is {}\".format(np.max(morphed)))\n",
    "\n",
    "  warped = cv2.warpPerspective(morphed, M, (1280,720)) \n",
    "  print(np.max(warped))\n",
    "\n",
    "  return np.dstack((255*warped,255*warped,255*warped))\n",
    "\n",
    "\n",
    "\n",
    "pts = np.array([[581,477],[699,477],[896,675],[384,675]],dtype = \"float32\")\n",
    "dst = np.array([[384,0],[896,0],[896,720],[384,720]],dtype = \"float32\")\n",
    "M = cv2.getPerspectiveTransform(pts, dst)\n",
    "\n",
    "with open('camera.pickle', 'rb') as handle:\n",
    "    (dist, mtx) = pickle.load(handle)\n",
    "\n",
    "erosion_kernel = np.ones((2,2),np.uint8)\n",
    "dilation_kernel = np.ones((2,2), np.uint8)\n",
    "\n",
    "src_dir = './calibrated_test_images/'\n",
    "out_dir = './birdseye_edge_test_images/'\n",
    "\n",
    "#for solidWhiteRight, uncomment the following lines\n",
    "#if they are not uncommented already\n",
    "movies = glob.glob(src_dir+'*.mp4')\n",
    "\n",
    "for movie in movies:\n",
    "   print(movie)\n",
    "   outfile = movie.replace(src_dir,out_dir)\n",
    "   \n",
    "   #input clip call the process_image iterator one\n",
    "   #time per frame\n",
    "   input_clip = VideoFileClip(movie)\n",
    "   \n",
    "   #to run only a segment of clips, use below\n",
    "   #arguments are in seconds\n",
    "   #start = input_clip.duration/2\n",
    "   #input_clip = input_clip.subclip(start, start+10)\n",
    "   \n",
    "\n",
    "   #print(type(process_image))\n",
    "\n",
    "   clip = input_clip.fl_image(process_image) \n",
    "   clip.write_videofile(outfile, audio=False)\n",
    "\n",
    "\n"
   ]
  },
  {
   "cell_type": "markdown",
   "metadata": {},
   "source": [
    "## Output Images for Examination\n",
    "The cell below was used to output many colorspace and channels from the test images. The images were useful for deciding which combination of channels might provide good edges."
   ]
  },
  {
   "cell_type": "code",
   "execution_count": null,
   "metadata": {},
   "outputs": [],
   "source": [
    "import cv2\n",
    "import numpy as np\n",
    "import glob\n",
    "import edge_utils as eu\n",
    "\n",
    "\n",
    "def write_images(img, fname, channels, cspace):\n",
    "\n",
    "    \"\"\" \n",
    "    write_images:  this function results in a series of images\n",
    "    being written to an output directory.  It is useful for testing\n",
    "    color channels and spaces that might be of interest.  The channels\n",
    "    of interest and the colorspace are channels and cspace.  fname\n",
    "    represents the base name of the file e.g., test1.jpg\n",
    "    \"\"\"\n",
    "\n",
    "    for channel in channels:\n",
    "       if (len(np.shape(img))==2):\n",
    "         outimg = img\n",
    "       else:\n",
    "         outimg = img[:,:,channel]\n",
    "       #note:  histogram equalizaiton using local tiles was tried\n",
    "       #the may be benefit to equalizing some color channels\n",
    "       #image = img.astype(np.uint8)\n",
    "       #clahe = cv2.createCLAHE(clipLimit=2.0, tileGridSize=(8,8))\n",
    "       #cl = clahe.apply(outimg)\n",
    "       #dst = np.zeros_like(outimg)\n",
    "       #cv2.equalizeHist( outimg, dst );  \n",
    "       \n",
    "        #make an output name for the channel image\n",
    "       outname = fname.replace(src_dir, out_dir)\n",
    "            \n",
    "       cv2.imwrite(outname.replace('.jpg', \n",
    "                   cspace + '_' + cspace[channel] + '.jpg') ,\n",
    "                   outimg)\n",
    " \n",
    "\n",
    "src_dir = \"./test_images/\"\n",
    "out_dir = './color_channel_test_images/'\n",
    "infiles = glob.glob(src_dir+'*.jpg')\n",
    "\n",
    "\n",
    "##loop through the images, writing out the various important color channels\n",
    "\n",
    "for file in infiles:\n",
    "  print(file)\n",
    "  img = cv2.imread(file)\n",
    "  c_mask = eu.color_mask(img)\n",
    "  write_images(c_mask, file, [0], 'CMASK')\n",
    "  write_images(cv2.cvtColor(img, cv2.COLOR_BGR2HLS), file, [0,1,2], 'HLS')\n",
    "  write_images(cv2.cvtColor(img, cv2.COLOR_BGR2GRAY), file, [0], 'GRY')\n",
    "\n",
    "  write_images(cv2.cvtColor(img, cv2.COLOR_BGR2HSV), file, [1,2], 'HSV')\n",
    "  #write_images(cv2.cvtColor(img, cv2.COLOR_BGR2LAB), file, [2], 'LAB')\n",
    "\n",
    "  write_images(cv2.cvtColor(img, cv2.COLOR_BGR2YCrCb), file, [0], 'YCC') \n",
    "\n",
    "  write_images(cv2.cvtColor(img, cv2.COLOR_BGR2LUV), file, [2], 'LUV')\n",
    "  write_images(cv2.cvtColor(img, cv2.COLOR_BGR2XYZ), file, [0], 'XYZ')\n",
    "        \n"
   ]
  }
 ],
 "metadata": {
  "kernelspec": {
   "display_name": "Python 3",
   "language": "python",
   "name": "python3"
  },
  "language_info": {
   "codemirror_mode": {
    "name": "ipython",
    "version": 3
   },
   "file_extension": ".py",
   "mimetype": "text/x-python",
   "name": "python",
   "nbconvert_exporter": "python",
   "pygments_lexer": "ipython3",
   "version": "3.6.3"
  }
 },
 "nbformat": 4,
 "nbformat_minor": 2
}
