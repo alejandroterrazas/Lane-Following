{
 "cells": [
  {
   "cell_type": "markdown",
   "metadata": {},
   "source": [
    "#  Combining the Components into the Full Pipeline\n",
    "* The the code from the various notebooks are combined into a single notebook  "
   ]
  },
  {
   "cell_type": "markdown",
   "metadata": {},
   "source": [
    "# Lane Class\n",
    "* The Lane class holds information about the right and left lane boundaries. "
   ]
  },
  {
   "cell_type": "markdown",
   "metadata": {},
   "source": [
    "## Video Processing Pipeline.  \n",
    "* Run the code below to generate output movies\n",
    "Movies will be stored in ./polyfits under the same name as the source movie"
   ]
  },
  {
   "cell_type": "code",
   "execution_count": 1,
   "metadata": {},
   "outputs": [],
   "source": [
    "import numpy as np\n",
    "import glob\n",
    "import edge_utils as eu\n",
    "\n",
    "import pickle\n",
    "\n",
    "from moviepy.editor import *\n",
    "import cv2\n",
    "\n",
    "\n",
    "def computeEdges(binary):   \n",
    "    '''\n",
    "    Three edge detection methods based on Sobel were used.\n",
    "    The results of each were accumlated in the numpy array summer\n",
    "    Thus, in this case summer could have a max of 3 for an\n",
    "    edge pixel that was detected in all three methods.  Thresholds\n",
    "    were determined by trial and error\n",
    "    ''' \n",
    "    summer = eu.dir_threshold(binary, 3, thresh=(.7,1.4)) \n",
    "    summer = np.add(summer, eu.abs_sobel_thresh(binary, 'x', .2,1.2))  \n",
    "    summer = np.add(summer, eu.abs_sobel_thresh(binary, 'y', .4 ,1.1)) \n",
    "\n",
    "   # dilate = cv2.dilate(summer,dilation_kernel,iterations = 3) \n",
    "    print(\"max at end of edge summation {}\".format(np.max(summer)))\n",
    "    return summer\n",
    "\n",
    "def measure_curvature_meters(ypoints, xfit):\n",
    "     \n",
    "    '''\n",
    "    Define y-values for the radius of curvature\n",
    "    Use a maximum y-value, corresponding to the bottom of the image\n",
    "    Note: this was taken from the instructional material\n",
    "    '''\n",
    "    \n",
    "    y_eval = np.max(ypoints)\n",
    "\n",
    "    curverad = ((1 + (2*xfit[0]*y_eval + \n",
    "                           xfit[1])**2)**1.5) / np.absolute(2*xfit[0])\n",
    "    ym_pix = 30/270\n",
    "     \n",
    "    return curverad*ym_pix\n",
    "\n",
    "def computeEMD(object1, object2):\n",
    "    '''\n",
    "    This function returns the cross entropy and earth\n",
    "    movers distance between tho histograms.  The histograms\n",
    "    are retrieved from the Lane object. Lane is shown below.\n",
    "    '''\n",
    "    #Lane.returnLane()[0] returns the histogram of counts\n",
    "    #along the columns of the image.  We retrieve two\n",
    "    #histograms for calling Shannon cross entropy\n",
    "    lane1_histo = object1.returnLane()[0]\n",
    "    lane2_histo = object2.returnLane()[0]\n",
    "    \n",
    "    #important to turn histograms into proper statistical distributions\n",
    "    #divide by total number of activated pixels\n",
    "    lane1_histo /= np.sum(lane1_histo)\n",
    "    lane2_histo /= np.sum(lane2_histo)\n",
    "    \n",
    "    print(\"Lane 1 entropy {}\".\n",
    "          format(stats.entropy(lane1_histo)))\n",
    "    print(\"Lane 2 entropy {}\".\n",
    "          format(stats.entropy(lane2_histo)))\n",
    "    print(\"Lane 1, Lane 2 cross entropy {}\".\n",
    "          format(stats.entropy(lane1_histo,lane2_histo)))\n",
    "\n",
    "    #I was not able to use the wassertstein distance (aka EMD)\n",
    "    #on the platform.  It worked on my home computer\n",
    "    #print(\"Lane 1, Lnae 2 Earth Mover Distance {}\".\n",
    "    #      format(stats.wasserstein_distance(lane1_histo,lane2_histo)))\n",
    "    \n",
    "    ##for the future detemine a rule to stop further sampling\n",
    "    continue_processing = True\n",
    "    \n",
    "    return continue_processing\n",
    "\n",
    "def computeFits(samples, side=0):\n",
    "  '''\n",
    "  Computes the line fits for a series of samples.  \n",
    "  '''\n",
    "  offset = 0 if side==0 else 640\n",
    "  fit = []\n",
    "  #loop over line data and compute polylines\n",
    "  for indx,sample in enumerate(samples):\n",
    "    #print(arg)\n",
    "    \n",
    "    if (len(sample)>0):\n",
    "      \n",
    "      y = [row[0] for row in sample]\n",
    "      x = [row[1] for row in sample]\n",
    "   \n",
    "      #format x and y.  x should be reversed \n",
    "      #xback = x[::-1] \n",
    "      xfit = np.polyfit(y,x, deg=2)       \n",
    " \n",
    "      #print(\"indx {}\".format(indx))\n",
    "      #print(xfit)\n",
    "      fit.append(xfit)\n",
    "    \n",
    "  return fit \n",
    " "
   ]
  },
  {
   "cell_type": "code",
   "execution_count": 8,
   "metadata": {},
   "outputs": [],
   "source": [
    "def renderCenterLine(image):\n",
    "    \n",
    "    if len(center_fits[0])>0:\n",
    " \n",
    "          ave_xfit = (np.nanmean([v[0] for v in center_fits]),\n",
    "                      np.nanmean([v[1] for v in center_fits]),\n",
    "                      np.nanmean([v[2] for v in center_fits]))\n",
    " \n",
    "          curverad = measure_curvature_meters(yp, ave_xfit)      \n",
    " \n",
    "          z = np.poly1d(ave_xfit) \n",
    "          ##use the meters/pixel calculation\n",
    "          xm_pix = 3.7/700\n",
    "          fitted_points = np.array([[320+int(z(y)),int(y)] for y in yp])\n",
    "          distance = xm_pix * (320-np.mean(z(ave_xfit)))\n",
    "          cv2.polylines(image, [fitted_points], False, (255,0,255), 4)\n",
    "        \n",
    "          return distance"
   ]
  },
  {
   "cell_type": "code",
   "execution_count": 9,
   "metadata": {},
   "outputs": [],
   "source": [
    " def renderLineFits(image, side):\n",
    "           \n",
    "  #xfits is a list if lists, one list for each line (FWHM-,FWHM+, etc)     \n",
    "  offset = 0 if side==0 else 640\n",
    "  cvals = [(0,255,0), (0,0,255), (0,255,255), (255,255,0)]\n",
    "  plotloc = 100  #y axis for text output \n",
    "\n",
    "    \n",
    "  fits = left_xfits if side==0 else right_xfits\n",
    "  curverad = 0\n",
    "  for indx, fit in enumerate(fits):\n",
    "       if len(fit)>0:\n",
    " \n",
    "          ave_xfit = (np.nanmean([v[0] for v in fit]),\n",
    "                      np.nanmean([v[1] for v in fit]),\n",
    "                      np.nanmean([v[2] for v in fit]))\n",
    " \n",
    "          curverad += measure_curvature_meters(yp, ave_xfit)      \n",
    " \n",
    "          z = np.poly1d(ave_xfit)  \n",
    " \n",
    "          fitted_points = np.array([[offset+int(z(y)),int(y)] for y in yp])\n",
    "\n",
    "          cv2.polylines(image, [fitted_points], False, cvals[indx], 4)\n",
    "         # cv2.putText(image, \"radius in pix: {}\".format(round(curverad,2)), \n",
    "         #            (500, plotloc), cv2.FONT_HERSHEY_COMPLEX_SMALL, \n",
    "         #            1.0, cvals[indx])\n",
    "    \n",
    "    #plot the data points along side the polylines\n",
    "    #for i, pt in enumerate(x):\n",
    "      # print(x[pt])\n",
    "    #  cv2.rectangle(image, \n",
    "    #                (x[i],y[i]), (x[i]+20,y[i]+20), \n",
    "    #                cvals[indx], -1)  \n",
    "          plotloc += 50 #move the plot down\n",
    "  return np.mean(curverad)\n",
    "\n",
    "def computeXFits(indices):\n",
    "    '''\n",
    "    Simple function to fit lines from points\n",
    "    '''\n",
    "    y = [row[0] for row in indices]\n",
    "    x = [row[1] for row in indices]\n",
    "    \n",
    "    #reverse x for polyfit\n",
    "    xback = x[::-1] \n",
    "    xfit = np.polyfit(y,x, deg=2)      \n",
    "    return xfit\n",
    "\n",
    "def update_overall_mask(mask, inds, side=0):\n",
    "  '''\n",
    "  The overall mask is used see how many pixels fall in the \n",
    "  current lane.  If a solid majority are in the mask, we\n",
    "  skip the re sampling and polyline step\n",
    "  '''\n",
    "  #10 y-points is sufficient for masking\n",
    "  ypsmall = np.linspace(1, 720, 10) \n",
    "  #double the y values to make convex hull\n",
    "  yps = np.append(ypsmall,ypsmall)\n",
    "  #reverse yps to make clockwise side of convex hull\n",
    "  ypsrev = yps[::-1]    \n",
    "\n",
    "  start_xfit = computeXFits(inds[0])\n",
    "  stop_xfit = computeXFits(inds[1]) \n",
    "\n",
    "  #start is for the left side of the mask\n",
    "  #stop is for the right side of the mask\n",
    "  #prepare the points for the convex hull\n",
    "  zstart = np.poly1d(start_xfit)\n",
    "  zstop = np.poly1d(stop_xfit)\n",
    "\n",
    "  fitted_starts = np.array([[int(zstart(y)),int(y)] for y in ypsmall])\n",
    "  fitted_stops = np.array([[int(zstop(y)),int(y)] for y in ypsmall[::-1]])\n",
    "  points = np.append(fitted_starts, fitted_stops, axis=0)\n",
    "  #for the offset\n",
    "  start_pt = left[0] if side==0 else right[0]\n",
    "  stop_pt = left[1] if side==0 else right[1]\n",
    "  \n",
    "  ##create the convex hull                                                                    \n",
    "  filler = cv2.convexHull(np.array(points), True, True)\n",
    "  #fill up the convex hull to create a mask\n",
    "  mask = cv2.drawContours(overall_mask[:,start_pt:stop_pt], [filler],\n",
    "                                  -1, (255 , 255 , 255),thickness=cv2.FILLED)     \n",
    "\n",
    "\n",
    "def returnLineIndices(binary_warped, side=0, height=720):\n",
    "    \n",
    "    '''\n",
    "    This function creates a set of polylines by splitting the \n",
    "    image into stripes (e.g., 0:100 across the right and\n",
    "    left side of the image).  Todo:  stop processing when\n",
    "    the line appears good.  \n",
    "    '''\n",
    "    \n",
    "    #the indices and the four key line componts FWHM-, peak, FWHM+ and mean\n",
    "    #side is setup to determine left (0) or right (1)\n",
    "    start_inds,stop_inds,peak_inds,mean_inds = [],[],[],[]\n",
    "    start_pt = left[0] if side==0 else right[0]\n",
    "    stop_pt = left[1] if side==0 else right[1]\n",
    "          \n",
    "    #offset keeps track of left (offset 0) or right (offset 640)\n",
    "    #for now its hardcoded but should be made more general\n",
    "    offset = 0 if side==0 else 640\n",
    "    \n",
    "    #the global_lane covers the entire height of the image on the right and left\n",
    "    global_lane = Lane(binary_warped, (start_pt, stop_pt ), (0,height), \n",
    "                          offset = offset, default_value=400)\n",
    "    \n",
    "    #this is the fall back number in case we start from nothing.\n",
    "    lane_default = global_lane.returnLane()[3]    \n",
    "    \n",
    "    #windows march through the stripes of the image.  2 is for top botton. \n",
    "    #4 is for quarters.  Note that 2,4 would yield 6 unique stripes\n",
    "    \n",
    "    windows = [2,3,4]\n",
    " \n",
    "    for window in windows:  \n",
    "      for strip in range(window):\n",
    "         winsize = height//window\n",
    "         strip_start = strip*winsize\n",
    "         strip_stop = (strip*winsize) + winsize\n",
    "\n",
    "         strip_midpt = (strip_start+strip_stop)//2\n",
    "\n",
    "         #create Lane object to hold points and line sample data\n",
    "         lane = Lane(binary_warped, (start_pt, stop_pt), (strip_start, strip_stop), \n",
    "                           offset=offset, default_value=lane_default)\n",
    "       \n",
    "         histo, start, stop, peak_indx  = lane.returnLane()\n",
    "       \n",
    "         #accumulate line points \n",
    "         stop_inds.append([strip_midpt,stop])\n",
    "         start_inds.append([strip_midpt,start])\n",
    "         stop_inds.append([strip_midpt,stop]) \n",
    "         peak_inds.append([strip_midpt,peak_indx]) \n",
    "         mean_inds.append([strip_midpt,start//3+stop//3+peak_indx//3])\n",
    "\n",
    "    return start_inds, stop_inds, peak_inds, mean_inds"
   ]
  },
  {
   "cell_type": "markdown",
   "metadata": {},
   "source": [
    "# Process Image Method\n",
    "This method runs once per frame and contains "
   ]
  },
  {
   "cell_type": "code",
   "execution_count": 16,
   "metadata": {},
   "outputs": [],
   "source": [
    "    \n",
    "def process_image(image):\n",
    "\n",
    "  '''\n",
    "  This is the iterator function that processes images thru moviepy\n",
    "  The function compares the edge image to a mask based on the \n",
    "  convex hull of the most recently accepted left and right lines.\n",
    "  If the percentage of active pixels is high (mean good match),\n",
    "  then a new poly line is not calculated\n",
    "  '''\n",
    "  \n",
    "  #image = np.copy(img)\n",
    "  global left_poly_update_status, right_poly_update_status\n",
    "  global left_start_inds, left_stop_inds \n",
    "  global right_start_inds, right_stop_inds\n",
    "  global left_peak_inds, right_peak_inds\n",
    "  global left_mean_inds, right_mean_inds\n",
    "  global left_no_pix, right_no_pix\n",
    "\n",
    "  blank_canvas = np.zeros_like(image)\n",
    "    \n",
    "  #correct the camera for lens distortion\n",
    "  dst = cv2.undistort(image, mtx, dist, None, mtx)\n",
    "\n",
    "  s = computeEdges(eu.color_mask(dst)) \n",
    "\n",
    "  HLS = cv2.cvtColor(dst, cv2.COLOR_BGR2HLS)\n",
    "  #s = np.add(s,computeEdges(HLS[:,:,0]))\n",
    "\n",
    "  #s = np.add(s, computeEdges(HLS[:,:,1]))  \n",
    "\n",
    "  s = np.add(s, computeEdges(HLS[:,:,2]))  \n",
    "  XYZ = cv2.cvtColor(dst, cv2.COLOR_BGR2XYZ)\n",
    "  s = np.add(s, computeEdges(XYZ[:,:,0]))\n",
    "  \n",
    "  #the uniques (ranging 0:5 typically) are thresholded\n",
    "  summer_max = np.max(np.unique(s))\n",
    "  #print(\"summer max {}\".format(summer_max))\n",
    "  \n",
    "  #less than 10% pixels provide good signal\n",
    "  #for level in np.unique(s):\n",
    "  #percent_active = np.count_nonzero(s>level, axis=None)/np.size(s)\n",
    "  #print(\"level {}; %pix {}\".format(level,percent_active))\n",
    "\n",
    "  #less than 10% pixels provide good signal\n",
    "  #for level in np.unique(s):\n",
    "  #  percent_active = np.count_nonzero(s>level, axis=None)/np.size(s)\n",
    "  #  print(\"level {}; %pix {}\".format(level,percent_active))\n",
    "  #  if percent_active < .10:\n",
    "  #      break\n",
    "         \n",
    "  #if percent_active < .10:\n",
    "  #      break\n",
    "  level = 2   \n",
    "  print(\"threshold {}\".format(level))\n",
    "  s[s<=level] = 0\n",
    "  s[s>level] = 1 \n",
    "\n",
    "  h,w = np.shape(s)\n",
    "  \n",
    "  print(\"percent activated pixels {}\".\n",
    "       format(np.count_nonzero(s, axis=None)/np.size(s)))\n",
    "\n",
    "  morphed = cv2.dilate(s,kernel,iterations = 1) \n",
    "  #print(\"max of morphed is {}\".format(np.max(morphed)))\n",
    "\n",
    "  binary_warped = cv2.warpPerspective(morphed, M, (w,h)) \n",
    "    \n",
    "  #image_warped holds the graphics on a birds eye view\n",
    "  #once graphics are drawn, it will be transformed back\n",
    "  blank_warped = cv2.warpPerspective(blank_canvas, M, (w,h)) \n",
    "  #print(np.max(binary_warped))\n",
    "\n",
    "  #decide whether to create a new polyline here if low overlap\n",
    "  #or low of pixels\n",
    "\n",
    "  #compare the right size to percent overlap and minimum pixel counts, \n",
    "  noverlapping = np.sum(cv2.bitwise_and(overall_mask[:,:w//2], \n",
    "                                       binary_warped[:,:w//2]))\n",
    "    \n",
    "  percent_overlapping = noverlapping/np.sum(binary_warped[:,:w//2])\n",
    "  print(\"left overlapping pixels {}; percent of total {}\".\n",
    "        format(noverlapping, percent_overlapping))\n",
    "\n",
    "  if (percent_overlapping < 0.9) or (100 < noverlapping < 400):\n",
    "        left_poly_update_status = True\n",
    "        print(\"left_poly\")\n",
    "        left_no_pix = 0\n",
    "  elif noverlapping < 50 and left_no_pix <30:\n",
    "        left_no_pix +=1\n",
    "        overall_mask[:,:640] = 0\n",
    "        left_poly_update_status = False\n",
    "  #else:\n",
    "  #      left_poly_update_status = True\n",
    "        \n",
    "        \n",
    "  #compare the right size to percent overlap and minimum pixel counts, \n",
    "  noverlapping = np.sum(cv2.bitwise_and(overall_mask[:,w//2:], \n",
    "                                       binary_warped[:,w//2:]))\n",
    "    \n",
    "  percent_overlapping = noverlapping/np.sum(binary_warped[:,w//2:])\n",
    "  print(\"right overlapping pixels {}; percent of total {}\".\n",
    "        format(noverlapping, percent_overlapping))\n",
    "    \n",
    "  if (percent_overlapping < 0.9) or (100 < noverlapping < 400):\n",
    "        right_poly_update_status = True\n",
    "        print(\"right_poly\")\n",
    "        right_no_pix = 0\n",
    "  elif noverlapping < 50 and right_no_pix <30:\n",
    "        right_no_pix += 1\n",
    "        overall_mask[:,640:] = 0\n",
    "        right_poly_update_status = False\n",
    "  #else:\n",
    "  #      right_poly_update_status = True\n",
    "        \n",
    "  #left_poly_update_status = True\n",
    "  #right_poly_update_status = True \n",
    "    \n",
    "  if left_poly_update_status:\n",
    "       #left_start_inds,left_stop_inds,left_peak_inds,left_mean_inds = returnLineIndices(binary_warped, side=0, height=h)\n",
    "       l = returnLineIndices(binary_warped, side=0, height=h)\n",
    "       lfits = computeFits(l,side=0)    \n",
    "       update_overall_mask(overall_mask, l, side=0)\n",
    "       for i in range(4):\n",
    "           if len(left_xfits[i])==20:\n",
    "            del left_xfits[i][0]\n",
    "           left_xfits[i].append(lfits[i])   \n",
    "       print(\"****update left mask run\")\n",
    "    \n",
    "  if right_poly_update_status:\n",
    "       #left_start_inds,left_stop_inds,left_peak_inds,left_mean_inds = returnLineIndices(binary_warped, side=0, height=h)\n",
    "       r = returnLineIndices(binary_warped, side=1, height=h)\n",
    "       rfits = computeFits(r, side=1)     \n",
    "       update_overall_mask(overall_mask, r, side=1)  \n",
    "       for i in range(4):\n",
    "           if len(right_xfits[i])==20:\n",
    "              del right_xfits[i][0]\n",
    "           right_xfits[i].append(rfits[i])\n",
    "       print(\"****update right mask run\")\n",
    "    \n",
    "  if left_poly_update_status and right_poly_update_status:   \n",
    "        ##update center\n",
    "        c = [(l+r)/2 for l,r in zip(lfits[3],rfits[3])]\n",
    "        print(c)\n",
    "        #center = np.mean(c)\n",
    "        #print(\"CENTER {}\".format(center))\n",
    "        if len(center_fits)==20:\n",
    "              del center_fits[0]\n",
    "        center_fits.append(c)\n",
    "            \n",
    "          \n",
    "  #use outimage to see birds eye edge image with lines\n",
    "  #outimage = np.dstack((255*binary_warped, 255*binary_warped, 255*binary_warped))\n",
    "  #renderLineFits(outimage, side=0) \n",
    "  #renderLineFits(outimage, side=1)\n",
    "\n",
    " \n",
    "  curve_left = renderLineFits(blank_warped, side=0) \n",
    "  curve_right = renderLineFits(blank_warped, side=1)\n",
    "  mean_curve = np.mean([curve_left, curve_right])\n",
    " \n",
    "  #offcenter is the offset from the center of lane\n",
    "  offcenter = renderCenterLine(blank_warped)\n",
    " \n",
    "    \n",
    " # outimage = np.dstack((255*binary_warped,255*binary_warped,255*binary_warped))\n",
    "       #img_warp\n",
    "  dewarped = cv2.warpPerspective(blank_warped, Mt, (1280,720)) \n",
    "  if mean_curve:\n",
    "        if len(curvatures)==20:\n",
    "            del curvatures[0]\n",
    "        curvatures.append(mean_curve)\n",
    "        \n",
    "        cv2.putText(dewarped, \"curve radius in (m): {}\".\n",
    "                    format(round(np.mean(curvatures),2)),               \n",
    "                          (500, 200), cv2.FONT_HERSHEY_COMPLEX_SMALL, \n",
    "                        2.0, (255,255,255))\n",
    "  if offcenter:\n",
    "        if len(offsets)==20:\n",
    "            del offsets[0]\n",
    "        offsets.append(offcenter)\n",
    "     \n",
    "        offdir = 'LEFT' if offcenter<=0 else 'RIGHT'\n",
    "        cv2.putText(dewarped, offdir + \" of center (m): {}\".\n",
    "                              format(round(np.mean(offsets),2)),               \n",
    "                             (500, 300), cv2.FONT_HERSHEY_COMPLEX_SMALL, \n",
    "                             2.0, (255,255,255))\n",
    "  \n",
    "  bigout = cv2.addWeighted(dewarped, 1.0, dst, .5, .5)\n",
    "  return bigout"
   ]
  },
  {
   "cell_type": "code",
   "execution_count": 17,
   "metadata": {},
   "outputs": [
    {
     "name": "stdout",
     "output_type": "stream",
     "text": [
      "shoot\n"
     ]
    }
   ],
   "source": [
    "test = []\n",
    "if not test:\n",
    "    print(\"shoot\")"
   ]
  },
  {
   "cell_type": "code",
   "execution_count": 18,
   "metadata": {},
   "outputs": [],
   "source": [
    "\n",
    "from scipy.signal import argrelextrema\n",
    "import cv2\n",
    "import numpy as np\n",
    "import glob\n",
    "from matplotlib import pyplot as plt\n",
    "#export PYTHONPATH=/usr/local/lib/python2.7/site-packages:$PYTHONPATH\n",
    "from scipy.signal import savgol_filter\n",
    "\n",
    "'''\n",
    "The Lane class encapulates line/lane properties and includes\n",
    "logic to find histogram peaks and their Full Width and Half Max\n",
    "values to use in segmenting the lane\n",
    "'''\n",
    "\n",
    "class Lane:\n",
    "    \n",
    "    smoothed = []\n",
    "    imclip = []\n",
    "    lane = []\n",
    " \n",
    "    \n",
    "    def __init__(self, binary, xcoords, ycoords, offset, default_value):\n",
    "      \n",
    "      self.binary = binary\n",
    "      self.xcoords = xcoords\n",
    "      self.ycoords = ycoords\n",
    "      self.default_value = default_value\n",
    "      self.offset = offset\n",
    "        \n",
    "      #clip the image to between the x and y coordinates supplied\n",
    "      #these usually correpond to the image stripe and left/right\n",
    "      self.imclip = binary[ycoords[0]:ycoords[1], xcoords[0]:xcoords[1]]\n",
    "      histogram = np.sum(self.imclip, axis=0)\n",
    "      h,w = np.shape(self.imclip)\n",
    "    \n",
    "      #use the sav_gol filter to smooth the peaks\n",
    "      #prior to peak finding\n",
    "      self.smoothed = savgol_filter(histogram,65,1)\n",
    " \n",
    "      self.lane = self.makeLane( self.smoothed)\n",
    " \n",
    "      \n",
    "    def makeLane(self, histo):\n",
    "      '''\n",
    "      This funcitons determines the peaks and half max\n",
    "      for the supplied histogram\n",
    "      '''\n",
    "      \n",
    "      peak_indx = np.argmax(histo)\n",
    "      peak_half_max = histo[peak_indx]/2\n",
    "   \n",
    "      starts = np.where(histo[:peak_indx]<peak_half_max)[0]\n",
    "      stops = np.where(histo[peak_indx:]<peak_half_max)[0]\n",
    "    \n",
    "      if np.size(peak_indx)==0:\n",
    "        peak_indx = self.default_value\n",
    "      if peak_indx == 0:\n",
    "        peak_indx = self.default_value\n",
    "        \n",
    "      start = starts[-1] if len(starts)>0 else peak_indx-100\n",
    "      stop = stops[0]+peak_indx if len(stops)>0 else peak_indx+100\n",
    "\n",
    "        \n",
    "      return histo, start, stop, peak_indx \n",
    " \n",
    "    def returnLane(self):\n",
    "      return self.lane\n",
    "                       \n",
    "    def returnClip(self):\n",
    "      return self.imclip\n",
    "    \n",
    "    def returnHistogram(self):\n",
    "      return self.smoothed\n",
    "    \n",
    "    def setOffset(self):\n",
    "      return self.offset\n",
    "\n",
    "  "
   ]
  },
  {
   "cell_type": "markdown",
   "metadata": {},
   "source": [
    "# Main Program to Run"
   ]
  },
  {
   "cell_type": "code",
   "execution_count": null,
   "metadata": {},
   "outputs": [
    {
     "name": "stdout",
     "output_type": "stream",
     "text": [
      "[[ -6.15990375e-01  -1.53219828e+00   1.03423384e+03]\n",
      " [ -5.32907052e-15  -2.23996500e+00   1.06846331e+03]\n",
      " [ -7.26415456e-18  -2.39405982e-03   1.00000000e+00]]\n",
      "(1.0, array([[ -1.62340199e+00,   4.81823264e+00,  -3.46912750e+03],\n",
      "       [  1.24175529e-14,   3.14465347e+00,  -3.35994684e+03],\n",
      "       [  1.79357214e-17,   7.52848851e-03,  -7.04391371e+00]]))\n",
      "[[  2.30468750e-01  -6.84027778e-01   4.92500000e+02]\n",
      " [ -5.32907052e-15  -4.46435547e-01   4.77000000e+02]\n",
      " [ -6.07153217e-18  -1.06879340e-03   1.00000000e+00]]\n",
      "./harder_challenge_video.mp4\n",
      "max at end of edge summation 2\n",
      "max at end of edge summation 1\n",
      "max at end of edge summation 1\n",
      "threshold 2\n",
      "percent activated pixels 0.01674045138888889\n",
      "left overlapping pixels 0; percent of total 0.0\n",
      "left_poly\n",
      "right overlapping pixels 0; percent of total 0.0\n",
      "right_poly\n",
      "****update left mask run\n",
      "****update right mask run\n",
      "[-5.7708167925306768e-05, 0.19194461774832605, 190.1829376659951]\n",
      "[MoviePy] >>>> Building video ./all_together_output/harder_challenge_video.mp4\n",
      "[MoviePy] Writing video ./all_together_output/harder_challenge_video.mp4\n"
     ]
    },
    {
     "name": "stderr",
     "output_type": "stream",
     "text": [
      "\n",
      "\r",
      "  0%|          | 0/1200 [00:00<?, ?it/s]"
     ]
    },
    {
     "name": "stdout",
     "output_type": "stream",
     "text": [
      "max at end of edge summation 2\n"
     ]
    },
    {
     "name": "stderr",
     "output_type": "stream",
     "text": [
      "\u001b[A"
     ]
    },
    {
     "name": "stdout",
     "output_type": "stream",
     "text": [
      "max at end of edge summation 1\n",
      "max at end of edge summation 1\n",
      "threshold 2\n",
      "percent activated pixels 0.01674045138888889\n",
      "left overlapping pixels 13658; percent of total 0.8575913600401859\n",
      "left_poly\n",
      "right overlapping pixels 29570; percent of total 0.6718622193947106\n",
      "right_poly\n"
     ]
    },
    {
     "name": "stderr",
     "output_type": "stream",
     "text": [
      "\n",
      "\r",
      "  0%|          | 1/1200 [00:00<10:38,  1.88it/s]"
     ]
    },
    {
     "name": "stdout",
     "output_type": "stream",
     "text": [
      "****update left mask run\n",
      "****update right mask run\n",
      "[-5.7708167925306768e-05, 0.19194461774832605, 190.1829376659951]\n"
     ]
    },
    {
     "name": "stderr",
     "output_type": "stream",
     "text": [
      "\u001b[A"
     ]
    },
    {
     "name": "stdout",
     "output_type": "stream",
     "text": [
      "max at end of edge summation 2\n",
      "max at end of edge summation 2\n"
     ]
    },
    {
     "name": "stderr",
     "output_type": "stream",
     "text": [
      "\n",
      "\r",
      "  0%|          | 2/1200 [00:01<10:29,  1.90it/s]"
     ]
    },
    {
     "name": "stdout",
     "output_type": "stream",
     "text": [
      "max at end of edge summation 2\n",
      "threshold 2\n",
      "percent activated pixels 0.017564019097222223\n",
      "left overlapping pixels 16337; percent of total 0.937560975609756\n",
      "right overlapping pixels 29098; percent of total 0.6761944599367912\n",
      "right_poly\n",
      "****update left mask run\n",
      "****update right mask run\n",
      "[-0.00021335327461733067, 0.31036874368939038, 176.35859443101739]\n"
     ]
    },
    {
     "name": "stderr",
     "output_type": "stream",
     "text": [
      "\u001b[A"
     ]
    },
    {
     "name": "stdout",
     "output_type": "stream",
     "text": [
      "max at end of edge summation 2\n",
      "max at end of edge summation 1\n"
     ]
    },
    {
     "name": "stderr",
     "output_type": "stream",
     "text": [
      "\n",
      "\r",
      "  0%|          | 3/1200 [00:01<10:14,  1.95it/s]"
     ]
    },
    {
     "name": "stdout",
     "output_type": "stream",
     "text": [
      "max at end of edge summation 2\n",
      "threshold 2\n",
      "percent activated pixels 0.017374131944444444\n",
      "left overlapping pixels 17149; percent of total 0.9693629529139111\n",
      "right overlapping pixels 28899; percent of total 0.6867796287934599\n",
      "right_poly\n",
      "****update left mask run\n",
      "****update right mask run\n",
      "[-0.00016514645149775094, 0.28504579595557344, 175.33983650479448]\n"
     ]
    },
    {
     "name": "stderr",
     "output_type": "stream",
     "text": [
      "\u001b[A"
     ]
    },
    {
     "name": "stdout",
     "output_type": "stream",
     "text": [
      "max at end of edge summation 2\n",
      "max at end of edge summation 2\n"
     ]
    },
    {
     "name": "stderr",
     "output_type": "stream",
     "text": [
      "\n",
      "\r",
      "  0%|          | 4/1200 [00:02<10:05,  1.98it/s]"
     ]
    },
    {
     "name": "stdout",
     "output_type": "stream",
     "text": [
      "max at end of edge summation 2\n",
      "threshold 2\n",
      "percent activated pixels 0.016520182291666668\n",
      "left overlapping pixels 18385; percent of total 0.9896113682850683\n",
      "right overlapping pixels 28922; percent of total 0.689029184038118\n",
      "right_poly\n",
      "****update left mask run\n",
      "****update right mask run\n",
      "[-0.00020313644392744832, 0.31073192383828907, 172.6266198649007]\n"
     ]
    },
    {
     "name": "stderr",
     "output_type": "stream",
     "text": [
      "\u001b[A"
     ]
    },
    {
     "name": "stdout",
     "output_type": "stream",
     "text": [
      "max at end of edge summation 2\n",
      "max at end of edge summation 2\n"
     ]
    },
    {
     "name": "stderr",
     "output_type": "stream",
     "text": [
      "\n",
      "\r",
      "  0%|          | 5/1200 [00:02<09:52,  2.02it/s]"
     ]
    },
    {
     "name": "stdout",
     "output_type": "stream",
     "text": [
      "max at end of edge summation 2\n",
      "threshold 2\n",
      "percent activated pixels 0.01570855034722222\n",
      "left overlapping pixels 18331; percent of total 0.997822655271896\n",
      "right overlapping pixels 29412; percent of total 0.6807230309903488\n",
      "right_poly\n",
      "****update left mask run\n",
      "****update right mask run\n",
      "[-0.00018388756562467344, 0.30152185426730876, 169.21613290690857]\n"
     ]
    },
    {
     "name": "stderr",
     "output_type": "stream",
     "text": [
      "\u001b[A"
     ]
    },
    {
     "name": "stdout",
     "output_type": "stream",
     "text": [
      "max at end of edge summation 2\n",
      "max at end of edge summation 2\n"
     ]
    },
    {
     "name": "stderr",
     "output_type": "stream",
     "text": [
      "\n",
      "\r",
      "  0%|          | 6/1200 [00:02<09:49,  2.03it/s]"
     ]
    },
    {
     "name": "stdout",
     "output_type": "stream",
     "text": [
      "max at end of edge summation 1\n",
      "threshold 2\n",
      "percent activated pixels 0.015007595486111112\n",
      "left overlapping pixels 17032; percent of total 0.9981832034226104\n",
      "right overlapping pixels 30175; percent of total 0.679816162389889\n",
      "right_poly\n",
      "****update left mask run\n",
      "****update right mask run\n",
      "[-0.00019173483016057667, 0.30866311280333442, 166.29381470348991]\n"
     ]
    },
    {
     "name": "stderr",
     "output_type": "stream",
     "text": [
      "\u001b[A"
     ]
    },
    {
     "name": "stdout",
     "output_type": "stream",
     "text": [
      "max at end of edge summation 2\n",
      "max at end of edge summation 2\n"
     ]
    },
    {
     "name": "stderr",
     "output_type": "stream",
     "text": [
      "\n",
      "\r",
      "  1%|          | 7/1200 [00:03<09:43,  2.04it/s]"
     ]
    },
    {
     "name": "stdout",
     "output_type": "stream",
     "text": [
      "max at end of edge summation 1\n",
      "threshold 2\n",
      "percent activated pixels 0.015185546875\n",
      "left overlapping pixels 17513; percent of total 0.9986884124087592\n",
      "right overlapping pixels 31904; percent of total 0.7161391694725028\n",
      "right_poly\n",
      "****update left mask run\n",
      "****update right mask run\n",
      "[-0.0001815487730571101, 0.30527652010989109, 164.52802712481082]\n"
     ]
    },
    {
     "name": "stderr",
     "output_type": "stream",
     "text": [
      "\u001b[A"
     ]
    },
    {
     "name": "stdout",
     "output_type": "stream",
     "text": [
      "max at end of edge summation 2\n",
      "max at end of edge summation 2\n"
     ]
    },
    {
     "name": "stderr",
     "output_type": "stream",
     "text": [
      "\n",
      "\r",
      "  1%|          | 8/1200 [00:03<09:44,  2.04it/s]"
     ]
    },
    {
     "name": "stdout",
     "output_type": "stream",
     "text": [
      "max at end of edge summation 1\n",
      "threshold 2\n",
      "percent activated pixels 0.015147569444444444\n",
      "left overlapping pixels 15903; percent of total 0.9986185243328101\n",
      "right overlapping pixels 32612; percent of total 0.7108108108108108\n",
      "right_poly\n",
      "****update left mask run\n",
      "****update right mask run\n",
      "[-0.00012518694953747269, 0.26592407735119084, 165.24866489605171]\n"
     ]
    },
    {
     "name": "stderr",
     "output_type": "stream",
     "text": [
      "\u001b[A"
     ]
    },
    {
     "name": "stdout",
     "output_type": "stream",
     "text": [
      "max at end of edge summation 2\n",
      "max at end of edge summation 2\n"
     ]
    },
    {
     "name": "stderr",
     "output_type": "stream",
     "text": [
      "\n",
      "\r",
      "  1%|          | 9/1200 [00:04<09:38,  2.06it/s]"
     ]
    },
    {
     "name": "stdout",
     "output_type": "stream",
     "text": [
      "max at end of edge summation 1\n",
      "threshold 2\n",
      "percent activated pixels 0.015625\n",
      "left overlapping pixels 15895; percent of total 0.9996855345911949\n",
      "right overlapping pixels 35092; percent of total 0.7728834463923884\n",
      "right_poly\n",
      "****update left mask run\n",
      "****update right mask run\n",
      "[-0.00022250841657588482, 0.33845167396972475, 153.33869687790627]\n"
     ]
    },
    {
     "name": "stderr",
     "output_type": "stream",
     "text": [
      "\u001b[A"
     ]
    },
    {
     "name": "stdout",
     "output_type": "stream",
     "text": [
      "max at end of edge summation 2\n",
      "max at end of edge summation 2\n"
     ]
    },
    {
     "name": "stderr",
     "output_type": "stream",
     "text": [
      "\n",
      "\r",
      "  1%|          | 10/1200 [00:04<09:43,  2.04it/s]"
     ]
    },
    {
     "name": "stdout",
     "output_type": "stream",
     "text": [
      "max at end of edge summation 1\n",
      "threshold 2\n",
      "percent activated pixels 0.015508897569444444\n",
      "left overlapping pixels 14944; percent of total 1.0\n",
      "right overlapping pixels 36791; percent of total 0.8225864150605912\n",
      "right_poly\n",
      "****update left mask run\n",
      "****update right mask run\n",
      "[-3.3897105436462516e-05, 0.2046690738089898, 169.38917718880373]\n"
     ]
    },
    {
     "name": "stderr",
     "output_type": "stream",
     "text": [
      "\u001b[A"
     ]
    },
    {
     "name": "stdout",
     "output_type": "stream",
     "text": [
      "max at end of edge summation 2\n",
      "max at end of edge summation 2\n"
     ]
    },
    {
     "name": "stderr",
     "output_type": "stream",
     "text": [
      "\n",
      "\r",
      "  1%|          | 11/1200 [00:05<09:36,  2.06it/s]"
     ]
    },
    {
     "name": "stdout",
     "output_type": "stream",
     "text": [
      "max at end of edge summation 1\n",
      "threshold 2\n",
      "percent activated pixels 0.015128038194444445\n",
      "left overlapping pixels 14463; percent of total 1.0\n",
      "right overlapping pixels 36248; percent of total 0.8245677888989991\n",
      "right_poly\n",
      "****update left mask run\n",
      "****update right mask run\n",
      "[-0.00016136130036866774, 0.30810996082684428, 150.73567915523591]\n"
     ]
    },
    {
     "name": "stderr",
     "output_type": "stream",
     "text": [
      "\u001b[A"
     ]
    },
    {
     "name": "stdout",
     "output_type": "stream",
     "text": [
      "max at end of edge summation 2\n",
      "max at end of edge summation 2\n"
     ]
    },
    {
     "name": "stderr",
     "output_type": "stream",
     "text": [
      "\n",
      "\r",
      "  1%|          | 12/1200 [00:05<09:42,  2.04it/s]"
     ]
    },
    {
     "name": "stdout",
     "output_type": "stream",
     "text": [
      "max at end of edge summation 1\n",
      "threshold 2\n",
      "percent activated pixels 0.015921223958333335\n",
      "left overlapping pixels 14361; percent of total 1.0\n",
      "right overlapping pixels 37938; percent of total 0.8141725862179968\n",
      "right_poly\n",
      "****update left mask run\n",
      "****update right mask run\n",
      "[-3.6389765936102473e-05, 0.2243585262108358, 156.71874422387879]\n"
     ]
    },
    {
     "name": "stderr",
     "output_type": "stream",
     "text": [
      "\u001b[A"
     ]
    },
    {
     "name": "stdout",
     "output_type": "stream",
     "text": [
      "max at end of edge summation 2\n",
      "max at end of edge summation 2\n"
     ]
    },
    {
     "name": "stderr",
     "output_type": "stream",
     "text": [
      "\n",
      "\r",
      "  1%|          | 13/1200 [00:06<09:41,  2.04it/s]"
     ]
    },
    {
     "name": "stdout",
     "output_type": "stream",
     "text": [
      "max at end of edge summation 1\n",
      "threshold 2\n",
      "percent activated pixels 0.017776692708333333\n",
      "left overlapping pixels 14086; percent of total 1.0\n",
      "right overlapping pixels 36439; percent of total 0.8200702165008777\n",
      "right_poly\n",
      "****update left mask run\n",
      "****update right mask run\n",
      "[-5.8846790622672852e-05, 0.23162407521323683, 157.20027725381698]\n"
     ]
    },
    {
     "name": "stderr",
     "output_type": "stream",
     "text": [
      "\u001b[A"
     ]
    },
    {
     "name": "stdout",
     "output_type": "stream",
     "text": [
      "max at end of edge summation 2\n",
      "max at end of edge summation 2\n"
     ]
    },
    {
     "name": "stderr",
     "output_type": "stream",
     "text": [
      "\n",
      "\r",
      "  1%|          | 14/1200 [00:06<09:37,  2.05it/s]"
     ]
    },
    {
     "name": "stdout",
     "output_type": "stream",
     "text": [
      "max at end of edge summation 1\n",
      "threshold 2\n",
      "percent activated pixels 0.01967230902777778\n",
      "left overlapping pixels 13875; percent of total 1.0\n",
      "right overlapping pixels 37595; percent of total 0.8286677834597073\n",
      "right_poly\n",
      "****update left mask run\n",
      "****update right mask run\n",
      "[-1.3071080829902366e-05, 0.20875328346068761, 155.48397554568859]\n"
     ]
    },
    {
     "name": "stderr",
     "output_type": "stream",
     "text": [
      "\u001b[A"
     ]
    },
    {
     "name": "stdout",
     "output_type": "stream",
     "text": [
      "max at end of edge summation 2\n",
      "max at end of edge summation 2\n"
     ]
    },
    {
     "name": "stderr",
     "output_type": "stream",
     "text": [
      "\n",
      "\r",
      "  1%|▏         | 15/1200 [00:07<09:30,  2.08it/s]"
     ]
    },
    {
     "name": "stdout",
     "output_type": "stream",
     "text": [
      "max at end of edge summation 1\n",
      "threshold 2\n",
      "percent activated pixels 0.02081814236111111\n",
      "left overlapping pixels 13000; percent of total 0.9952534068289696\n",
      "right overlapping pixels 37015; percent of total 0.8215149699269814\n",
      "right_poly\n",
      "****update left mask run\n",
      "****update right mask run\n",
      "[-0.0001478978563119703, 0.32324084250953089, 133.42097741445511]\n"
     ]
    },
    {
     "name": "stderr",
     "output_type": "stream",
     "text": [
      "\u001b[A"
     ]
    },
    {
     "name": "stdout",
     "output_type": "stream",
     "text": [
      "max at end of edge summation 2\n",
      "max at end of edge summation 2\n"
     ]
    },
    {
     "name": "stderr",
     "output_type": "stream",
     "text": [
      "\n",
      "\r",
      "  1%|▏         | 16/1200 [00:07<09:32,  2.07it/s]"
     ]
    },
    {
     "name": "stdout",
     "output_type": "stream",
     "text": [
      "max at end of edge summation 1\n",
      "threshold 2\n",
      "percent activated pixels 0.020947265625\n",
      "left overlapping pixels 12533; percent of total 0.9741178299393751\n",
      "right overlapping pixels 38151; percent of total 0.8374528053384845\n",
      "right_poly\n",
      "****update left mask run\n",
      "****update right mask run\n",
      "[-9.9944915280316941e-05, 0.28331998812463505, 138.36668318722363]\n"
     ]
    },
    {
     "name": "stderr",
     "output_type": "stream",
     "text": [
      "\u001b[A"
     ]
    },
    {
     "name": "stdout",
     "output_type": "stream",
     "text": [
      "max at end of edge summation 2\n",
      "max at end of edge summation 2\n"
     ]
    },
    {
     "name": "stderr",
     "output_type": "stream",
     "text": [
      "\n",
      "\r",
      "  1%|▏         | 17/1200 [00:08<09:29,  2.08it/s]"
     ]
    },
    {
     "name": "stdout",
     "output_type": "stream",
     "text": [
      "max at end of edge summation 1\n",
      "threshold 2\n",
      "percent activated pixels 0.021146918402777777\n",
      "left overlapping pixels 13257; percent of total 0.9459150909739564\n",
      "right overlapping pixels 38261; percent of total 0.8455656478596212\n",
      "right_poly\n",
      "****update left mask run\n",
      "****update right mask run\n",
      "[-7.9026569914511226e-05, 0.27725000753143036, 131.26818373969044]\n"
     ]
    },
    {
     "name": "stderr",
     "output_type": "stream",
     "text": [
      "\u001b[A"
     ]
    },
    {
     "name": "stdout",
     "output_type": "stream",
     "text": [
      "max at end of edge summation 2\n",
      "max at end of edge summation 2\n"
     ]
    },
    {
     "name": "stderr",
     "output_type": "stream",
     "text": [
      "\n",
      "\r",
      "  2%|▏         | 18/1200 [00:08<09:33,  2.06it/s]"
     ]
    },
    {
     "name": "stdout",
     "output_type": "stream",
     "text": [
      "max at end of edge summation 2\n",
      "threshold 2\n",
      "percent activated pixels 0.021541883680555554\n",
      "left overlapping pixels 12395; percent of total 0.9799193612143252\n",
      "right overlapping pixels 39547; percent of total 0.8575362664527181\n",
      "right_poly\n",
      "****update left mask run\n",
      "****update right mask run\n",
      "[-0.00030297365165531142, 0.47564102919182416, 88.714280175040173]\n"
     ]
    },
    {
     "name": "stderr",
     "output_type": "stream",
     "text": [
      "\u001b[A"
     ]
    },
    {
     "name": "stdout",
     "output_type": "stream",
     "text": [
      "max at end of edge summation 2\n",
      "max at end of edge summation 2\n"
     ]
    },
    {
     "name": "stderr",
     "output_type": "stream",
     "text": [
      "\n",
      "\r",
      "  2%|▏         | 19/1200 [00:09<09:31,  2.07it/s]"
     ]
    },
    {
     "name": "stdout",
     "output_type": "stream",
     "text": [
      "max at end of edge summation 1\n",
      "threshold 2\n",
      "percent activated pixels 0.022415364583333333\n",
      "left overlapping pixels 13679; percent of total 0.9608738409665636\n",
      "right overlapping pixels 40398; percent of total 0.8823799226787236\n",
      "right_poly\n",
      "****update left mask run\n",
      "****update right mask run\n",
      "[-0.00067393384909864267, 0.80615342398260159, 20.791636030751569]\n"
     ]
    },
    {
     "name": "stderr",
     "output_type": "stream",
     "text": [
      "\u001b[A"
     ]
    },
    {
     "name": "stdout",
     "output_type": "stream",
     "text": [
      "max at end of edge summation 2\n",
      "max at end of edge summation 2\n"
     ]
    },
    {
     "name": "stderr",
     "output_type": "stream",
     "text": [
      "\n",
      "\r",
      "  2%|▏         | 20/1200 [00:09<09:35,  2.05it/s]"
     ]
    },
    {
     "name": "stdout",
     "output_type": "stream",
     "text": [
      "max at end of edge summation 2\n",
      "threshold 2\n",
      "percent activated pixels 0.023006727430555554\n",
      "left overlapping pixels 13726; percent of total 0.9593234554095611\n",
      "right overlapping pixels 40573; percent of total 0.8883950076636742\n",
      "right_poly\n",
      "****update left mask run\n",
      "****update right mask run\n",
      "[-0.00067691888698092684, 0.87163598459117941, -18.504015661487919]\n"
     ]
    },
    {
     "name": "stderr",
     "output_type": "stream",
     "text": [
      "\u001b[A"
     ]
    },
    {
     "name": "stdout",
     "output_type": "stream",
     "text": [
      "max at end of edge summation 2\n",
      "max at end of edge summation 2\n"
     ]
    },
    {
     "name": "stderr",
     "output_type": "stream",
     "text": [
      "\n",
      "\r",
      "  2%|▏         | 21/1200 [00:10<09:32,  2.06it/s]"
     ]
    },
    {
     "name": "stdout",
     "output_type": "stream",
     "text": [
      "max at end of edge summation 2\n",
      "threshold 2\n",
      "percent activated pixels 0.0234765625\n",
      "left overlapping pixels 13730; percent of total 0.983172216254923\n",
      "right overlapping pixels 39616; percent of total 0.884364675417448\n",
      "right_poly\n",
      "****update left mask run\n",
      "****update right mask run\n",
      "[-0.00014248170510287693, 0.33232366977933436, 110.18785709912623]\n"
     ]
    },
    {
     "name": "stderr",
     "output_type": "stream",
     "text": [
      "\u001b[A"
     ]
    },
    {
     "name": "stdout",
     "output_type": "stream",
     "text": [
      "max at end of edge summation 2\n",
      "max at end of edge summation 2\n"
     ]
    },
    {
     "name": "stderr",
     "output_type": "stream",
     "text": [
      "\n",
      "\r",
      "  2%|▏         | 22/1200 [00:10<09:34,  2.05it/s]"
     ]
    },
    {
     "name": "stdout",
     "output_type": "stream",
     "text": [
      "max at end of edge summation 1\n",
      "threshold 2\n",
      "percent activated pixels 0.02292751736111111\n",
      "left overlapping pixels 13496; percent of total 0.9829570284049527\n",
      "right overlapping pixels 39378; percent of total 0.885495839892062\n",
      "right_poly\n",
      "****update left mask run\n",
      "****update right mask run\n",
      "[-0.00011380072256380908, 0.31649792375471436, 108.02263743888612]\n"
     ]
    },
    {
     "name": "stderr",
     "output_type": "stream",
     "text": [
      "\u001b[A"
     ]
    },
    {
     "name": "stdout",
     "output_type": "stream",
     "text": [
      "max at end of edge summation 2\n",
      "max at end of edge summation 2\n"
     ]
    },
    {
     "name": "stderr",
     "output_type": "stream",
     "text": [
      "\n",
      "\r",
      "  2%|▏         | 23/1200 [00:11<09:28,  2.07it/s]"
     ]
    },
    {
     "name": "stdout",
     "output_type": "stream",
     "text": [
      "max at end of edge summation 1\n",
      "threshold 2\n",
      "percent activated pixels 0.023020833333333334\n",
      "left overlapping pixels 12378; percent of total 0.9758751182592242\n",
      "right overlapping pixels 39425; percent of total 0.8879104544840323\n",
      "right_poly\n",
      "****update left mask run\n",
      "****update right mask run\n",
      "[-0.00012920290256467068, 0.33171030037287857, 101.73869833560246]\n"
     ]
    },
    {
     "name": "stderr",
     "output_type": "stream",
     "text": [
      "\u001b[A"
     ]
    },
    {
     "name": "stdout",
     "output_type": "stream",
     "text": [
      "max at end of edge summation 2\n",
      "max at end of edge summation 2\n"
     ]
    },
    {
     "name": "stderr",
     "output_type": "stream",
     "text": [
      "\n",
      "\r",
      "  2%|▏         | 24/1200 [00:11<09:31,  2.06it/s]"
     ]
    },
    {
     "name": "stdout",
     "output_type": "stream",
     "text": [
      "max at end of edge summation 2\n",
      "threshold 2\n",
      "percent activated pixels 0.022841796875\n",
      "left overlapping pixels 11974; percent of total 0.9758761206193969\n",
      "right overlapping pixels 40614; percent of total 0.8989972773756557\n",
      "right_poly\n",
      "****update left mask run\n",
      "****update right mask run\n",
      "[-0.00014354339383420428, 0.34510562952553936, 95.597623955196227]\n"
     ]
    },
    {
     "name": "stderr",
     "output_type": "stream",
     "text": [
      "\u001b[A"
     ]
    },
    {
     "name": "stdout",
     "output_type": "stream",
     "text": [
      "max at end of edge summation 2\n",
      "max at end of edge summation 2\n"
     ]
    },
    {
     "name": "stderr",
     "output_type": "stream",
     "text": [
      "\n",
      "\r",
      "  2%|▏         | 25/1200 [00:12<09:39,  2.03it/s]"
     ]
    },
    {
     "name": "stdout",
     "output_type": "stream",
     "text": [
      "max at end of edge summation 2\n",
      "threshold 2\n",
      "percent activated pixels 0.022096354166666665\n",
      "left overlapping pixels 11977; percent of total 0.9758820174366496\n",
      "right overlapping pixels 40957; percent of total 0.9220603795673022\n",
      "****update left mask run\n",
      "****update right mask run\n",
      "[-0.00014119690787003705, 0.34626703682432136, 92.56402405781806]\n"
     ]
    },
    {
     "name": "stderr",
     "output_type": "stream",
     "text": [
      "\u001b[A"
     ]
    },
    {
     "name": "stdout",
     "output_type": "stream",
     "text": [
      "max at end of edge summation 2\n",
      "max at end of edge summation 2\n"
     ]
    },
    {
     "name": "stderr",
     "output_type": "stream",
     "text": [
      "\n",
      "\r",
      "  2%|▏         | 26/1200 [00:12<09:48,  1.99it/s]"
     ]
    },
    {
     "name": "stdout",
     "output_type": "stream",
     "text": [
      "max at end of edge summation 1\n",
      "threshold 2\n",
      "percent activated pixels 0.02171115451388889\n",
      "left overlapping pixels 11331; percent of total 0.9659023101184895\n",
      "right overlapping pixels 41838; percent of total 0.9254147312541473\n",
      "****update left mask run\n",
      "****update right mask run\n",
      "[-0.00019932051921195046, 0.39701954576242876, 81.145749212115248]\n"
     ]
    },
    {
     "name": "stderr",
     "output_type": "stream",
     "text": [
      "\u001b[A"
     ]
    },
    {
     "name": "stdout",
     "output_type": "stream",
     "text": [
      "max at end of edge summation 2\n",
      "max at end of edge summation 2\n"
     ]
    },
    {
     "name": "stderr",
     "output_type": "stream",
     "text": [
      "\n",
      "\r",
      "  2%|▏         | 27/1200 [00:13<09:47,  2.00it/s]"
     ]
    },
    {
     "name": "stdout",
     "output_type": "stream",
     "text": [
      "max at end of edge summation 2\n",
      "threshold 2\n",
      "percent activated pixels 0.020712890625\n",
      "left overlapping pixels 10631; percent of total 0.9749633162142333\n",
      "right overlapping pixels 42338; percent of total 0.9273057800556322\n",
      "****update left mask run\n",
      "****update right mask run\n",
      "[0.0020518211808440612, -1.6284077414357934, 491.78600145186545]\n"
     ]
    },
    {
     "name": "stderr",
     "output_type": "stream",
     "text": [
      "\u001b[A"
     ]
    },
    {
     "name": "stdout",
     "output_type": "stream",
     "text": [
      "max at end of edge summation 2\n",
      "max at end of edge summation 2\n"
     ]
    },
    {
     "name": "stderr",
     "output_type": "stream",
     "text": [
      "\n",
      "\r",
      "  2%|▏         | 28/1200 [00:13<09:53,  1.97it/s]"
     ]
    },
    {
     "name": "stdout",
     "output_type": "stream",
     "text": [
      "max at end of edge summation 1\n",
      "threshold 2\n",
      "percent activated pixels 0.01926540798611111\n",
      "left overlapping pixels 11323; percent of total 0.9849512874043146\n",
      "right overlapping pixels 41744; percent of total 0.9256286309814182\n",
      "****update left mask run\n",
      "****update right mask run\n",
      "[-4.3167648344073648e-05, 0.26612456645685578, 102.04116504910978]\n"
     ]
    },
    {
     "name": "stderr",
     "output_type": "stream",
     "text": [
      "\u001b[A"
     ]
    },
    {
     "name": "stdout",
     "output_type": "stream",
     "text": [
      "max at end of edge summation 2\n",
      "max at end of edge summation 2\n"
     ]
    },
    {
     "name": "stderr",
     "output_type": "stream",
     "text": [
      "\n",
      "\r",
      "  2%|▏         | 29/1200 [00:14<09:52,  1.98it/s]"
     ]
    },
    {
     "name": "stdout",
     "output_type": "stream",
     "text": [
      "max at end of edge summation 1\n",
      "threshold 2\n",
      "percent activated pixels 0.017223307291666667\n",
      "left overlapping pixels 10609; percent of total 0.9993406179351921\n",
      "right overlapping pixels 40413; percent of total 0.9152323580034424\n",
      "****update left mask run\n",
      "****update right mask run\n",
      "[-0.00017114730084873592, 0.36840149520758109, 91.504193791963417]\n"
     ]
    },
    {
     "name": "stderr",
     "output_type": "stream",
     "text": [
      "\u001b[A"
     ]
    },
    {
     "name": "stdout",
     "output_type": "stream",
     "text": [
      "max at end of edge summation 2\n",
      "max at end of edge summation 2\n"
     ]
    },
    {
     "name": "stderr",
     "output_type": "stream",
     "text": [
      "\n",
      "\r",
      "  2%|▎         | 30/1200 [00:14<09:58,  1.96it/s]"
     ]
    },
    {
     "name": "stdout",
     "output_type": "stream",
     "text": [
      "max at end of edge summation 1\n",
      "threshold 2\n",
      "percent activated pixels 0.015574001736111112\n",
      "left overlapping pixels 10056; percent of total 1.0\n",
      "right overlapping pixels 40777; percent of total 0.9160900431344356\n",
      "****update left mask run\n",
      "****update right mask run\n",
      "[-0.00014711312985838006, 0.34258812016470025, 93.991103971639063]\n"
     ]
    },
    {
     "name": "stderr",
     "output_type": "stream",
     "text": [
      "\u001b[A"
     ]
    },
    {
     "name": "stdout",
     "output_type": "stream",
     "text": [
      "max at end of edge summation 2\n",
      "max at end of edge summation 2\n"
     ]
    },
    {
     "name": "stderr",
     "output_type": "stream",
     "text": [
      "\n",
      "\r",
      "  3%|▎         | 31/1200 [00:15<09:50,  1.98it/s]"
     ]
    },
    {
     "name": "stdout",
     "output_type": "stream",
     "text": [
      "max at end of edge summation 1\n",
      "threshold 2\n",
      "percent activated pixels 0.017252604166666668\n",
      "left overlapping pixels 8821; percent of total 1.0\n",
      "right overlapping pixels 39479; percent of total 0.9244584943215081\n",
      "****update left mask run\n",
      "****update right mask run\n",
      "[-0.00020521366101048207, 0.37424506399772234, 98.610030990621141]\n"
     ]
    },
    {
     "name": "stderr",
     "output_type": "stream",
     "text": [
      "\u001b[A"
     ]
    },
    {
     "name": "stdout",
     "output_type": "stream",
     "text": [
      "max at end of edge summation 2\n",
      "max at end of edge summation 2\n"
     ]
    },
    {
     "name": "stderr",
     "output_type": "stream",
     "text": [
      "\n",
      "\r",
      "  3%|▎         | 32/1200 [00:15<09:49,  1.98it/s]"
     ]
    },
    {
     "name": "stdout",
     "output_type": "stream",
     "text": [
      "max at end of edge summation 2\n",
      "threshold 2\n",
      "percent activated pixels 0.018162977430555557\n",
      "left overlapping pixels 9282; percent of total 1.0\n",
      "right overlapping pixels 38803; percent of total 0.915316207864506\n",
      "****update left mask run\n",
      "****update right mask run\n",
      "[-0.00022990946410876749, 0.37851727029866317, 103.37771998822183]\n"
     ]
    },
    {
     "name": "stderr",
     "output_type": "stream",
     "text": [
      "\u001b[A"
     ]
    },
    {
     "name": "stdout",
     "output_type": "stream",
     "text": [
      "max at end of edge summation 2\n",
      "max at end of edge summation 1\n"
     ]
    },
    {
     "name": "stderr",
     "output_type": "stream",
     "text": [
      "\n",
      "\r",
      "  3%|▎         | 33/1200 [00:16<09:42,  2.01it/s]"
     ]
    },
    {
     "name": "stdout",
     "output_type": "stream",
     "text": [
      "max at end of edge summation 2\n",
      "threshold 2\n",
      "percent activated pixels 0.017554253472222222\n",
      "left overlapping pixels 9010; percent of total 1.0\n",
      "right overlapping pixels 38323; percent of total 0.9216247414746765\n",
      "****update left mask run\n",
      "****update right mask run\n",
      "[-0.00024578863469906586, 0.38731869417630982, 105.70388971653639]\n"
     ]
    },
    {
     "name": "stderr",
     "output_type": "stream",
     "text": [
      "\u001b[A"
     ]
    },
    {
     "name": "stdout",
     "output_type": "stream",
     "text": [
      "max at end of edge summation 2\n",
      "max at end of edge summation 1\n"
     ]
    },
    {
     "name": "stderr",
     "output_type": "stream",
     "text": [
      "\n",
      "\r",
      "  3%|▎         | 34/1200 [00:16<09:47,  1.98it/s]"
     ]
    },
    {
     "name": "stdout",
     "output_type": "stream",
     "text": [
      "max at end of edge summation 1\n",
      "threshold 2\n",
      "percent activated pixels 0.017782118055555556\n",
      "left overlapping pixels 9003; percent of total 1.0\n",
      "right overlapping pixels 37808; percent of total 0.911519359660543\n",
      "****update left mask run\n",
      "****update right mask run\n",
      "[-0.00018837281584470434, 0.43023369056608185, 66.076044220671918]\n"
     ]
    },
    {
     "name": "stderr",
     "output_type": "stream",
     "text": [
      "\u001b[A"
     ]
    },
    {
     "name": "stdout",
     "output_type": "stream",
     "text": [
      "max at end of edge summation 2\n",
      "max at end of edge summation 2\n"
     ]
    },
    {
     "name": "stderr",
     "output_type": "stream",
     "text": [
      "\n",
      "\r",
      "  3%|▎         | 35/1200 [00:17<09:44,  1.99it/s]"
     ]
    },
    {
     "name": "stdout",
     "output_type": "stream",
     "text": [
      "max at end of edge summation 1\n",
      "threshold 2\n",
      "percent activated pixels 0.017256944444444443\n",
      "left overlapping pixels 8838; percent of total 1.0\n",
      "right overlapping pixels 38719; percent of total 0.9093449822682543\n",
      "****update left mask run\n",
      "****update right mask run\n",
      "[-3.7074478233842505e-05, 0.25577257169678758, 117.74666785225958]\n"
     ]
    },
    {
     "name": "stderr",
     "output_type": "stream",
     "text": [
      "\u001b[A"
     ]
    },
    {
     "name": "stdout",
     "output_type": "stream",
     "text": [
      "max at end of edge summation 2\n",
      "max at end of edge summation 2\n"
     ]
    },
    {
     "name": "stderr",
     "output_type": "stream",
     "text": [
      "\n",
      "\r",
      "  3%|▎         | 36/1200 [00:17<09:47,  1.98it/s]"
     ]
    },
    {
     "name": "stdout",
     "output_type": "stream",
     "text": [
      "max at end of edge summation 2\n",
      "threshold 2\n",
      "percent activated pixels 0.016414930555555554\n",
      "left overlapping pixels 8166; percent of total 1.0\n",
      "right overlapping pixels 40504; percent of total 0.920252646885082\n",
      "****update left mask run\n",
      "****update right mask run\n",
      "[-1.1163118472153354e-05, 0.23895849793152915, 120.90143495613802]\n"
     ]
    },
    {
     "name": "stderr",
     "output_type": "stream",
     "text": [
      "\u001b[A"
     ]
    },
    {
     "name": "stdout",
     "output_type": "stream",
     "text": [
      "max at end of edge summation 2\n",
      "max at end of edge summation 2\n"
     ]
    },
    {
     "name": "stderr",
     "output_type": "stream",
     "text": [
      "\n",
      "\r",
      "  3%|▎         | 37/1200 [00:18<09:39,  2.01it/s]"
     ]
    },
    {
     "name": "stdout",
     "output_type": "stream",
     "text": [
      "max at end of edge summation 1\n",
      "threshold 2\n",
      "percent activated pixels 0.015764973958333334\n",
      "left overlapping pixels 8846; percent of total 0.9947149443382436\n",
      "right overlapping pixels 39600; percent of total 0.9216804375654603\n",
      "****update left mask run\n",
      "****update right mask run\n",
      "[-1.1732429820835908e-05, 0.23699998104994913, 125.75747317110148]\n"
     ]
    },
    {
     "name": "stderr",
     "output_type": "stream",
     "text": [
      "\u001b[A"
     ]
    },
    {
     "name": "stdout",
     "output_type": "stream",
     "text": [
      "max at end of edge summation 2\n",
      "max at end of edge summation 2\n"
     ]
    },
    {
     "name": "stderr",
     "output_type": "stream",
     "text": [
      "\n",
      "\r",
      "  3%|▎         | 38/1200 [00:18<09:35,  2.02it/s]"
     ]
    },
    {
     "name": "stdout",
     "output_type": "stream",
     "text": [
      "max at end of edge summation 2\n",
      "threshold 2\n",
      "percent activated pixels 0.015897352430555556\n",
      "left overlapping pixels 8727; percent of total 0.9786923853313895\n",
      "right overlapping pixels 40935; percent of total 0.919371139809096\n",
      "****update left mask run\n",
      "****update right mask run\n",
      "[1.601765172916771e-05, 0.2216251854918414, 126.69704145979532]\n"
     ]
    },
    {
     "name": "stderr",
     "output_type": "stream",
     "text": [
      "\u001b[A"
     ]
    },
    {
     "name": "stdout",
     "output_type": "stream",
     "text": [
      "max at end of edge summation 2\n",
      "max at end of edge summation 2\n"
     ]
    },
    {
     "name": "stderr",
     "output_type": "stream",
     "text": [
      "\n",
      "\r",
      "  3%|▎         | 39/1200 [00:19<10:10,  1.90it/s]"
     ]
    },
    {
     "name": "stdout",
     "output_type": "stream",
     "text": [
      "max at end of edge summation 2\n",
      "threshold 2\n",
      "percent activated pixels 0.016646050347222222\n",
      "left overlapping pixels 9054; percent of total 0.9306197964847364\n",
      "right overlapping pixels 39681; percent of total 0.9224278209121763\n",
      "****update left mask run\n",
      "****update right mask run\n",
      "[6.7401847646128256e-05, 0.16853207320355956, 141.42079287011637]\n"
     ]
    },
    {
     "name": "stderr",
     "output_type": "stream",
     "text": [
      "\u001b[A"
     ]
    },
    {
     "name": "stdout",
     "output_type": "stream",
     "text": [
      "max at end of edge summation 2\n",
      "max at end of edge summation 2\n"
     ]
    },
    {
     "name": "stderr",
     "output_type": "stream",
     "text": [
      "\n",
      "\r",
      "  3%|▎         | 40/1200 [00:19<09:56,  1.94it/s]"
     ]
    },
    {
     "name": "stdout",
     "output_type": "stream",
     "text": [
      "max at end of edge summation 1\n",
      "threshold 2\n",
      "percent activated pixels 0.01695095486111111\n",
      "left overlapping pixels 9271; percent of total 0.8268081690894498\n",
      "left_poly\n",
      "right overlapping pixels 35959; percent of total 0.9229485896152563\n",
      "****update left mask run\n",
      "****update right mask run\n",
      "[0.0017714891953938116, -1.5211301154203856, 543.31636351444729]\n"
     ]
    },
    {
     "name": "stderr",
     "output_type": "stream",
     "text": [
      "\u001b[A"
     ]
    },
    {
     "name": "stdout",
     "output_type": "stream",
     "text": [
      "max at end of edge summation 2\n",
      "max at end of edge summation 2\n"
     ]
    },
    {
     "name": "stderr",
     "output_type": "stream",
     "text": [
      "\n",
      "\r",
      "  3%|▎         | 41/1200 [00:20<09:41,  1.99it/s]"
     ]
    },
    {
     "name": "stdout",
     "output_type": "stream",
     "text": [
      "max at end of edge summation 2\n",
      "threshold 2\n",
      "percent activated pixels 0.016993272569444443\n",
      "left overlapping pixels 9459; percent of total 0.8186066637819126\n",
      "left_poly\n",
      "right overlapping pixels 34171; percent of total 0.9206789707665365\n",
      "****update left mask run\n",
      "****update right mask run\n",
      "[0.0011336989235399486, -0.77135094424700812, 328.34506701029426]\n"
     ]
    },
    {
     "name": "stderr",
     "output_type": "stream",
     "text": [
      "\u001b[A"
     ]
    },
    {
     "name": "stdout",
     "output_type": "stream",
     "text": [
      "max at end of edge summation 2\n",
      "max at end of edge summation 2\n"
     ]
    },
    {
     "name": "stderr",
     "output_type": "stream",
     "text": [
      "\n",
      "\r",
      "  4%|▎         | 42/1200 [00:20<09:38,  2.00it/s]"
     ]
    },
    {
     "name": "stdout",
     "output_type": "stream",
     "text": [
      "max at end of edge summation 2\n",
      "threshold 2\n",
      "percent activated pixels 0.017542317708333335\n",
      "left overlapping pixels 13396; percent of total 0.9800278001316849\n",
      "right overlapping pixels 32692; percent of total 0.9181856480831344\n",
      "****update left mask run\n",
      "****update right mask run\n",
      "[0.0012385983862331297, -0.85455399598259008, 343.71701568772664]\n"
     ]
    },
    {
     "name": "stderr",
     "output_type": "stream",
     "text": [
      "\u001b[A"
     ]
    },
    {
     "name": "stdout",
     "output_type": "stream",
     "text": [
      "max at end of edge summation 2\n",
      "max at end of edge summation 2\n"
     ]
    },
    {
     "name": "stderr",
     "output_type": "stream",
     "text": [
      "\n",
      "\r",
      "  4%|▎         | 43/1200 [00:21<11:33,  1.67it/s]"
     ]
    },
    {
     "name": "stdout",
     "output_type": "stream",
     "text": [
      "max at end of edge summation 1\n",
      "threshold 2\n",
      "percent activated pixels 0.017829861111111112\n",
      "left overlapping pixels 13656; percent of total 0.9766843083965098\n",
      "right overlapping pixels 34423; percent of total 0.9181915177380635\n",
      "****update left mask run\n",
      "****update right mask run\n",
      "[0.0018678182142703276, -1.4925484125202495, 496.82665135113854]\n"
     ]
    },
    {
     "name": "stderr",
     "output_type": "stream",
     "text": [
      "\u001b[A"
     ]
    },
    {
     "name": "stdout",
     "output_type": "stream",
     "text": [
      "max at end of edge summation 2\n",
      "max at end of edge summation 2\n"
     ]
    },
    {
     "name": "stderr",
     "output_type": "stream",
     "text": [
      "\n",
      "\r",
      "  4%|▎         | 44/1200 [00:22<11:26,  1.68it/s]"
     ]
    },
    {
     "name": "stdout",
     "output_type": "stream",
     "text": [
      "max at end of edge summation 1\n",
      "threshold 2\n",
      "percent activated pixels 0.017534722222222222\n",
      "left overlapping pixels 12631; percent of total 0.9822692277782098\n",
      "right overlapping pixels 34388; percent of total 0.9247317610993089\n",
      "****update left mask run\n",
      "****update right mask run\n",
      "[0.0014697695673849234, -1.077313035885566, 396.99931342509052]\n"
     ]
    },
    {
     "name": "stderr",
     "output_type": "stream",
     "text": [
      "\u001b[A"
     ]
    },
    {
     "name": "stdout",
     "output_type": "stream",
     "text": [
      "max at end of edge summation 2\n",
      "max at end of edge summation 2\n"
     ]
    },
    {
     "name": "stderr",
     "output_type": "stream",
     "text": [
      "\n",
      "\r",
      "  4%|▍         | 45/1200 [00:22<11:08,  1.73it/s]"
     ]
    },
    {
     "name": "stdout",
     "output_type": "stream",
     "text": [
      "max at end of edge summation 1\n",
      "threshold 2\n",
      "percent activated pixels 0.01812174479166667\n",
      "left overlapping pixels 12343; percent of total 0.9773537097157337\n",
      "right overlapping pixels 32948; percent of total 0.9273029185781431\n",
      "****update left mask run\n",
      "****update right mask run\n",
      "[0.0019536380533860171, -1.5314878194905641, 493.3503217135509]\n"
     ]
    },
    {
     "name": "stderr",
     "output_type": "stream",
     "text": [
      "\u001b[A"
     ]
    },
    {
     "name": "stdout",
     "output_type": "stream",
     "text": [
      "max at end of edge summation 2\n",
      "max at end of edge summation 2\n"
     ]
    },
    {
     "name": "stderr",
     "output_type": "stream",
     "text": [
      "\n",
      "\r",
      "  4%|▍         | 46/1200 [00:23<11:16,  1.71it/s]"
     ]
    },
    {
     "name": "stdout",
     "output_type": "stream",
     "text": [
      "max at end of edge summation 1\n",
      "threshold 2\n",
      "percent activated pixels 0.018180338541666667\n",
      "left overlapping pixels 11767; percent of total 0.9793591344153142\n",
      "right overlapping pixels 33358; percent of total 0.9261480370925649\n",
      "****update left mask run\n",
      "****update right mask run\n",
      "[0.0020504979166282001, -1.6330690262880934, 519.96362085904946]\n"
     ]
    },
    {
     "name": "stderr",
     "output_type": "stream",
     "text": [
      "\u001b[A"
     ]
    },
    {
     "name": "stdout",
     "output_type": "stream",
     "text": [
      "max at end of edge summation 2\n",
      "max at end of edge summation 2\n"
     ]
    },
    {
     "name": "stderr",
     "output_type": "stream",
     "text": [
      "\n",
      "\r",
      "  4%|▍         | 47/1200 [00:23<11:04,  1.74it/s]"
     ]
    },
    {
     "name": "stdout",
     "output_type": "stream",
     "text": [
      "max at end of edge summation 1\n",
      "threshold 2\n",
      "percent activated pixels 0.01812174479166667\n",
      "left overlapping pixels 11804; percent of total 0.9756984625557944\n",
      "right overlapping pixels 32376; percent of total 0.9236299318175335\n",
      "****update left mask run\n",
      "****update right mask run\n",
      "[0.00065474651796869733, -0.70926837013044475, 454.82331905762862]\n"
     ]
    },
    {
     "name": "stderr",
     "output_type": "stream",
     "text": [
      "\u001b[A"
     ]
    },
    {
     "name": "stdout",
     "output_type": "stream",
     "text": [
      "max at end of edge summation 2\n",
      "max at end of edge summation 2\n"
     ]
    },
    {
     "name": "stderr",
     "output_type": "stream",
     "text": [
      "\n",
      "\r",
      "  4%|▍         | 48/1200 [00:24<11:18,  1.70it/s]"
     ]
    },
    {
     "name": "stdout",
     "output_type": "stream",
     "text": [
      "max at end of edge summation 1\n",
      "threshold 2\n",
      "percent activated pixels 0.018804253472222223\n",
      "left overlapping pixels 10651; percent of total 0.9752769892866954\n",
      "right overlapping pixels 35170; percent of total 0.9231698033965929\n",
      "****update left mask run\n",
      "****update right mask run\n",
      "[0.0028281618321362419, -2.2916712559801984, 640.39061797572651]\n"
     ]
    },
    {
     "name": "stderr",
     "output_type": "stream",
     "text": [
      "\u001b[A"
     ]
    },
    {
     "name": "stdout",
     "output_type": "stream",
     "text": [
      "max at end of edge summation 2\n",
      "max at end of edge summation 2\n"
     ]
    },
    {
     "name": "stderr",
     "output_type": "stream",
     "text": [
      "\n",
      "\r",
      "  4%|▍         | 49/1200 [00:25<11:05,  1.73it/s]"
     ]
    },
    {
     "name": "stdout",
     "output_type": "stream",
     "text": [
      "max at end of edge summation 1\n",
      "threshold 2\n",
      "percent activated pixels 0.01881401909722222\n",
      "left overlapping pixels 12092; percent of total 0.9821312540610786\n",
      "right overlapping pixels 38315; percent of total 0.9869658174699261\n",
      "****update left mask run\n",
      "****update right mask run\n",
      "[0.002757590305089336, -2.2903773003660759, 662.80813744325906]\n"
     ]
    },
    {
     "name": "stderr",
     "output_type": "stream",
     "text": [
      "\u001b[A"
     ]
    },
    {
     "name": "stdout",
     "output_type": "stream",
     "text": [
      "max at end of edge summation 2\n",
      "max at end of edge summation 2\n"
     ]
    },
    {
     "name": "stderr",
     "output_type": "stream",
     "text": [
      "\n",
      "\r",
      "  4%|▍         | 50/1200 [00:25<11:20,  1.69it/s]"
     ]
    },
    {
     "name": "stdout",
     "output_type": "stream",
     "text": [
      "max at end of edge summation 1\n",
      "threshold 2\n",
      "percent activated pixels 0.019446614583333334\n",
      "left overlapping pixels 10329; percent of total 0.9849337274721083\n",
      "right overlapping pixels 37902; percent of total 0.9673566269365254\n",
      "****update left mask run\n",
      "****update right mask run\n",
      "[0.0031773574105873458, -2.6083990900088536, 706.83190372208139]\n"
     ]
    },
    {
     "name": "stderr",
     "output_type": "stream",
     "text": [
      "\u001b[A"
     ]
    },
    {
     "name": "stdout",
     "output_type": "stream",
     "text": [
      "max at end of edge summation 2\n",
      "max at end of edge summation 2\n"
     ]
    },
    {
     "name": "stderr",
     "output_type": "stream",
     "text": [
      "\n",
      "\r",
      "  4%|▍         | 51/1200 [00:26<11:06,  1.72it/s]"
     ]
    },
    {
     "name": "stdout",
     "output_type": "stream",
     "text": [
      "max at end of edge summation 1\n",
      "threshold 2\n",
      "percent activated pixels 0.019263237847222222\n",
      "left overlapping pixels 11175; percent of total 0.9923630228221295\n",
      "right overlapping pixels 38780; percent of total 0.9990468093876395\n",
      "****update left mask run\n",
      "****update right mask run\n",
      "[0.0029252524972765387, -2.3795589910215638, 661.70225155754838]\n"
     ]
    },
    {
     "name": "stderr",
     "output_type": "stream",
     "text": [
      "\u001b[A"
     ]
    },
    {
     "name": "stdout",
     "output_type": "stream",
     "text": [
      "max at end of edge summation 2\n",
      "max at end of edge summation 2\n"
     ]
    },
    {
     "name": "stderr",
     "output_type": "stream",
     "text": [
      "\n",
      "\r",
      "  4%|▍         | 52/1200 [00:26<11:20,  1.69it/s]"
     ]
    },
    {
     "name": "stdout",
     "output_type": "stream",
     "text": [
      "max at end of edge summation 1\n",
      "threshold 2\n",
      "percent activated pixels 0.02035590277777778\n",
      "left overlapping pixels 11147; percent of total 0.993316699340581\n",
      "right overlapping pixels 38229; percent of total 0.9988242671265088\n",
      "****update left mask run\n",
      "****update right mask run\n",
      "[-0.00036669805572481055, 7.5231700811362323e-05, 403.93151072718604]\n"
     ]
    },
    {
     "name": "stderr",
     "output_type": "stream",
     "text": [
      "\u001b[A"
     ]
    },
    {
     "name": "stdout",
     "output_type": "stream",
     "text": [
      "max at end of edge summation 2\n",
      "max at end of edge summation 2\n"
     ]
    },
    {
     "name": "stderr",
     "output_type": "stream",
     "text": [
      "\n",
      "\r",
      "  4%|▍         | 53/1200 [00:27<11:10,  1.71it/s]"
     ]
    },
    {
     "name": "stdout",
     "output_type": "stream",
     "text": [
      "max at end of edge summation 1\n",
      "threshold 2\n",
      "percent activated pixels 0.020665147569444445\n",
      "left overlapping pixels 11400; percent of total 0.9785407725321889\n",
      "right overlapping pixels 36509; percent of total 0.9976499521792594\n",
      "****update left mask run\n",
      "****update right mask run\n",
      "[0.00045740320168393041, -0.72494434030014943, 547.31918590582688]\n"
     ]
    },
    {
     "name": "stderr",
     "output_type": "stream",
     "text": [
      "\u001b[A"
     ]
    },
    {
     "name": "stdout",
     "output_type": "stream",
     "text": [
      "max at end of edge summation 2\n",
      "max at end of edge summation 2\n"
     ]
    },
    {
     "name": "stderr",
     "output_type": "stream",
     "text": [
      "\n",
      "\r",
      "  4%|▍         | 54/1200 [00:28<11:23,  1.68it/s]"
     ]
    },
    {
     "name": "stdout",
     "output_type": "stream",
     "text": [
      "max at end of edge summation 1\n",
      "threshold 2\n",
      "percent activated pixels 0.02076714409722222\n",
      "left overlapping pixels 11675; percent of total 0.9679157685292654\n",
      "right overlapping pixels 38060; percent of total 0.9994222992489891\n",
      "****update left mask run\n",
      "****update right mask run\n",
      "[0.00036814441428632849, -0.64357275021598137, 530.26296402114247]\n"
     ]
    },
    {
     "name": "stderr",
     "output_type": "stream",
     "text": [
      "\u001b[A"
     ]
    },
    {
     "name": "stdout",
     "output_type": "stream",
     "text": [
      "max at end of edge summation 2\n",
      "max at end of edge summation 1\n"
     ]
    },
    {
     "name": "stderr",
     "output_type": "stream",
     "text": [
      "\n",
      "\r",
      "  5%|▍         | 55/1200 [00:28<11:07,  1.72it/s]"
     ]
    },
    {
     "name": "stdout",
     "output_type": "stream",
     "text": [
      "max at end of edge summation 1\n",
      "threshold 2\n",
      "percent activated pixels 0.02109917534722222\n",
      "left overlapping pixels 12468; percent of total 0.9713306325958242\n",
      "right overlapping pixels 36494; percent of total 0.9990965587099954\n",
      "****update left mask run\n",
      "****update right mask run\n",
      "[0.00042702197849541667, -0.72697336837634885, 559.08597346409817]\n"
     ]
    },
    {
     "name": "stderr",
     "output_type": "stream",
     "text": [
      "\u001b[A"
     ]
    },
    {
     "name": "stdout",
     "output_type": "stream",
     "text": [
      "max at end of edge summation 2\n",
      "max at end of edge summation 2\n"
     ]
    },
    {
     "name": "stderr",
     "output_type": "stream",
     "text": [
      "\n",
      "\r",
      "  5%|▍         | 56/1200 [00:29<11:15,  1.69it/s]"
     ]
    },
    {
     "name": "stdout",
     "output_type": "stream",
     "text": [
      "max at end of edge summation 2\n",
      "threshold 2\n",
      "percent activated pixels 0.02119900173611111\n",
      "left overlapping pixels 12647; percent of total 0.9919993724998039\n",
      "right overlapping pixels 33882; percent of total 0.9982322785928938\n",
      "****update left mask run\n",
      "****update right mask run\n",
      "[0.00045337955526012814, -0.71191573592764312, 543.08102925013179]\n"
     ]
    },
    {
     "name": "stderr",
     "output_type": "stream",
     "text": [
      "\u001b[A"
     ]
    },
    {
     "name": "stdout",
     "output_type": "stream",
     "text": [
      "max at end of edge summation 2\n",
      "max at end of edge summation 2\n"
     ]
    },
    {
     "name": "stderr",
     "output_type": "stream",
     "text": [
      "\n",
      "\r",
      "  5%|▍         | 57/1200 [00:29<10:57,  1.74it/s]"
     ]
    },
    {
     "name": "stdout",
     "output_type": "stream",
     "text": [
      "max at end of edge summation 1\n",
      "threshold 2\n",
      "percent activated pixels 0.020985243055555554\n",
      "left overlapping pixels 12352; percent of total 0.9464408857558808\n",
      "right overlapping pixels 34961; percent of total 0.9983722656919298\n",
      "****update left mask run\n",
      "****update right mask run\n",
      "[0.0023291296614290045, -2.0474996720183567, 668.18219511555162]\n"
     ]
    },
    {
     "name": "stderr",
     "output_type": "stream",
     "text": [
      "\u001b[A"
     ]
    },
    {
     "name": "stdout",
     "output_type": "stream",
     "text": [
      "max at end of edge summation 2\n",
      "max at end of edge summation 2\n"
     ]
    },
    {
     "name": "stderr",
     "output_type": "stream",
     "text": [
      "\n",
      "\r",
      "  5%|▍         | 58/1200 [00:30<11:12,  1.70it/s]"
     ]
    },
    {
     "name": "stdout",
     "output_type": "stream",
     "text": [
      "max at end of edge summation 1\n",
      "threshold 2\n",
      "percent activated pixels 0.019766710069444443\n",
      "left overlapping pixels 12006; percent of total 0.9909210960713106\n",
      "right overlapping pixels 36024; percent of total 0.998890860692103\n",
      "****update left mask run\n",
      "****update right mask run\n",
      "[0.0022412556854200906, -2.0200198829761495, 687.79492721722875]\n"
     ]
    },
    {
     "name": "stderr",
     "output_type": "stream",
     "text": [
      "\u001b[A"
     ]
    },
    {
     "name": "stdout",
     "output_type": "stream",
     "text": [
      "max at end of edge summation 2\n",
      "max at end of edge summation 2\n"
     ]
    },
    {
     "name": "stderr",
     "output_type": "stream",
     "text": [
      "\n",
      "\r",
      "  5%|▍         | 59/1200 [00:30<11:07,  1.71it/s]"
     ]
    },
    {
     "name": "stdout",
     "output_type": "stream",
     "text": [
      "max at end of edge summation 1\n",
      "threshold 2\n",
      "percent activated pixels 0.018678385416666665\n",
      "left overlapping pixels 10970; percent of total 0.9730353024658507\n",
      "right overlapping pixels 35866; percent of total 0.9991364180850767\n",
      "****update left mask run\n",
      "****update right mask run\n",
      "[0.0011247822768761105, -0.97111516917536067, 456.69906240980487]\n"
     ]
    },
    {
     "name": "stderr",
     "output_type": "stream",
     "text": [
      "\u001b[A"
     ]
    },
    {
     "name": "stdout",
     "output_type": "stream",
     "text": [
      "max at end of edge summation 2\n",
      "max at end of edge summation 2\n"
     ]
    },
    {
     "name": "stderr",
     "output_type": "stream",
     "text": [
      "\n",
      "\r",
      "  5%|▌         | 60/1200 [00:31<11:24,  1.67it/s]"
     ]
    },
    {
     "name": "stdout",
     "output_type": "stream",
     "text": [
      "max at end of edge summation 1\n",
      "threshold 2\n",
      "percent activated pixels 0.018030598958333335\n",
      "left overlapping pixels 11364; percent of total 0.9931830099632931\n",
      "right overlapping pixels 36685; percent of total 0.9911114713351705\n",
      "****update left mask run\n",
      "****update right mask run\n",
      "[0.0011635646891560037, -1.014784120051972, 468.64217464949684]\n"
     ]
    },
    {
     "name": "stderr",
     "output_type": "stream",
     "text": [
      "\u001b[A"
     ]
    },
    {
     "name": "stdout",
     "output_type": "stream",
     "text": [
      "max at end of edge summation 2\n",
      "max at end of edge summation 2\n"
     ]
    },
    {
     "name": "stderr",
     "output_type": "stream",
     "text": [
      "\n",
      "\r",
      "  5%|▌         | 61/1200 [00:32<11:08,  1.70it/s]"
     ]
    },
    {
     "name": "stdout",
     "output_type": "stream",
     "text": [
      "max at end of edge summation 1\n",
      "threshold 2\n",
      "percent activated pixels 0.01733615451388889\n",
      "left overlapping pixels 10191; percent of total 0.9620504106485415\n",
      "right overlapping pixels 36368; percent of total 0.9968478469424116\n",
      "****update left mask run\n",
      "****update right mask run\n",
      "[0.0020210475944287499, -1.7539700574623842, 614.25719941575539]\n"
     ]
    },
    {
     "name": "stderr",
     "output_type": "stream",
     "text": [
      "\u001b[A"
     ]
    },
    {
     "name": "stdout",
     "output_type": "stream",
     "text": [
      "max at end of edge summation 2\n",
      "max at end of edge summation 2\n"
     ]
    },
    {
     "name": "stderr",
     "output_type": "stream",
     "text": [
      "\n",
      "\r",
      "  5%|▌         | 62/1200 [00:32<11:24,  1.66it/s]"
     ]
    },
    {
     "name": "stdout",
     "output_type": "stream",
     "text": [
      "max at end of edge summation 1\n",
      "threshold 2\n",
      "percent activated pixels 0.017479383680555554\n",
      "left overlapping pixels 9299; percent of total 0.9646265560165975\n",
      "right overlapping pixels 37424; percent of total 0.9947106822954044\n",
      "****update left mask run\n",
      "****update right mask run\n",
      "[0.0020961197584888945, -1.8521448226032322, 644.96246461442479]\n"
     ]
    },
    {
     "name": "stderr",
     "output_type": "stream",
     "text": [
      "\u001b[A"
     ]
    },
    {
     "name": "stdout",
     "output_type": "stream",
     "text": [
      "max at end of edge summation 2\n",
      "max at end of edge summation 2\n"
     ]
    },
    {
     "name": "stderr",
     "output_type": "stream",
     "text": [
      "\n",
      "\r",
      "  5%|▌         | 63/1200 [00:33<11:07,  1.70it/s]"
     ]
    },
    {
     "name": "stdout",
     "output_type": "stream",
     "text": [
      "max at end of edge summation 1\n",
      "threshold 2\n",
      "percent activated pixels 0.01674587673611111\n",
      "left overlapping pixels 8877; percent of total 0.9137416366443644\n",
      "right overlapping pixels 38621; percent of total 0.9835986247294027\n",
      "****update left mask run\n",
      "****update right mask run\n",
      "[0.0028694522917089818, -2.2369705623111678, 612.44475389715092]\n"
     ]
    },
    {
     "name": "stderr",
     "output_type": "stream",
     "text": [
      "\u001b[A"
     ]
    },
    {
     "name": "stdout",
     "output_type": "stream",
     "text": [
      "max at end of edge summation 2\n",
      "max at end of edge summation 2\n"
     ]
    },
    {
     "name": "stderr",
     "output_type": "stream",
     "text": [
      "\n",
      "\r",
      "  5%|▌         | 64/1200 [00:34<11:24,  1.66it/s]"
     ]
    },
    {
     "name": "stdout",
     "output_type": "stream",
     "text": [
      "max at end of edge summation 1\n",
      "threshold 2\n",
      "percent activated pixels 0.016279296875\n",
      "left overlapping pixels 11255; percent of total 0.8407410174049451\n",
      "left_poly\n",
      "right overlapping pixels 36384; percent of total 0.9831653470964953\n",
      "****update left mask run\n",
      "****update right mask run\n",
      "[0.00010686127882715736, -0.2972909979485357, 439.28147559670788]\n"
     ]
    },
    {
     "name": "stderr",
     "output_type": "stream",
     "text": [
      "\u001b[A"
     ]
    },
    {
     "name": "stdout",
     "output_type": "stream",
     "text": [
      "max at end of edge summation 2\n",
      "max at end of edge summation 2\n"
     ]
    },
    {
     "name": "stderr",
     "output_type": "stream",
     "text": [
      "\n",
      "\r",
      "  5%|▌         | 65/1200 [00:34<11:05,  1.71it/s]"
     ]
    },
    {
     "name": "stdout",
     "output_type": "stream",
     "text": [
      "max at end of edge summation 1\n",
      "threshold 2\n",
      "percent activated pixels 0.016513671875\n",
      "left overlapping pixels 8670; percent of total 0.7554238912607825\n",
      "left_poly\n",
      "right overlapping pixels 41393; percent of total 0.9761809305945334\n",
      "****update left mask run\n",
      "****update right mask run\n",
      "[0.00054806218726342806, -0.39758723097001902, 347.94284723052294]\n"
     ]
    },
    {
     "name": "stderr",
     "output_type": "stream",
     "text": [
      "\u001b[A"
     ]
    },
    {
     "name": "stdout",
     "output_type": "stream",
     "text": [
      "max at end of edge summation 2\n",
      "max at end of edge summation 2\n"
     ]
    },
    {
     "name": "stderr",
     "output_type": "stream",
     "text": [
      "\n",
      "\r",
      "  6%|▌         | 66/1200 [00:35<11:17,  1.67it/s]"
     ]
    },
    {
     "name": "stdout",
     "output_type": "stream",
     "text": [
      "max at end of edge summation 1\n",
      "threshold 2\n",
      "percent activated pixels 0.015965711805555557\n",
      "left overlapping pixels 9211; percent of total 0.870275888133031\n",
      "left_poly\n",
      "right overlapping pixels 41308; percent of total 0.960137600818167\n",
      "****update left mask run\n",
      "****update right mask run\n",
      "[0.00032237639789016345, -0.21408469069144381, 314.31798214030613]\n"
     ]
    },
    {
     "name": "stderr",
     "output_type": "stream",
     "text": [
      "\u001b[A"
     ]
    },
    {
     "name": "stdout",
     "output_type": "stream",
     "text": [
      "max at end of edge summation 2\n",
      "max at end of edge summation 2\n"
     ]
    },
    {
     "name": "stderr",
     "output_type": "stream",
     "text": [
      "\n",
      "\r",
      "  6%|▌         | 67/1200 [00:35<11:04,  1.71it/s]"
     ]
    },
    {
     "name": "stdout",
     "output_type": "stream",
     "text": [
      "max at end of edge summation 2\n",
      "threshold 2\n",
      "percent activated pixels 0.016079644097222224\n",
      "left overlapping pixels 11813; percent of total 0.9179423420623203\n",
      "right overlapping pixels 38879; percent of total 0.9759520044180033\n",
      "****update left mask run\n",
      "****update right mask run\n",
      "[0.00086669190100752732, -0.74428132662015645, 435.90593719661695]\n"
     ]
    },
    {
     "name": "stderr",
     "output_type": "stream",
     "text": [
      "\u001b[A"
     ]
    },
    {
     "name": "stdout",
     "output_type": "stream",
     "text": [
      "max at end of edge summation 2\n",
      "max at end of edge summation 2\n"
     ]
    },
    {
     "name": "stderr",
     "output_type": "stream",
     "text": [
      "\n",
      "\r",
      "  6%|▌         | 68/1200 [00:36<11:19,  1.67it/s]"
     ]
    },
    {
     "name": "stdout",
     "output_type": "stream",
     "text": [
      "max at end of edge summation 1\n",
      "threshold 2\n",
      "percent activated pixels 0.015702039930555557\n",
      "left overlapping pixels 14491; percent of total 0.8620464009518144\n",
      "left_poly\n",
      "right overlapping pixels 44062; percent of total 0.9879815238351496\n",
      "****update left mask run\n",
      "****update right mask run\n",
      "[0.0003861546557358868, -0.60044363283159341, 519.9401875180389]\n"
     ]
    },
    {
     "name": "stderr",
     "output_type": "stream",
     "text": [
      "\u001b[A"
     ]
    },
    {
     "name": "stdout",
     "output_type": "stream",
     "text": [
      "max at end of edge summation 2\n",
      "max at end of edge summation 2\n"
     ]
    },
    {
     "name": "stderr",
     "output_type": "stream",
     "text": [
      "\n",
      "\r",
      "  6%|▌         | 69/1200 [00:36<11:01,  1.71it/s]"
     ]
    },
    {
     "name": "stdout",
     "output_type": "stream",
     "text": [
      "max at end of edge summation 1\n",
      "threshold 2\n",
      "percent activated pixels 0.015657552083333335\n",
      "left overlapping pixels 12554; percent of total 0.7668438091747602\n",
      "left_poly\n",
      "right overlapping pixels 43613; percent of total 0.9818546117652356\n",
      "****update left mask run\n",
      "****update right mask run\n",
      "[0.00010950011386226923, -0.25326990654223747, 406.71383616077799]\n"
     ]
    },
    {
     "name": "stderr",
     "output_type": "stream",
     "text": [
      "\u001b[A"
     ]
    },
    {
     "name": "stdout",
     "output_type": "stream",
     "text": [
      "max at end of edge summation 2\n",
      "max at end of edge summation 2\n"
     ]
    },
    {
     "name": "stderr",
     "output_type": "stream",
     "text": [
      "\n",
      "\r",
      "  6%|▌         | 70/1200 [00:37<11:13,  1.68it/s]"
     ]
    },
    {
     "name": "stdout",
     "output_type": "stream",
     "text": [
      "max at end of edge summation 1\n",
      "threshold 2\n",
      "percent activated pixels 0.015457899305555555\n",
      "left overlapping pixels 14657; percent of total 0.9577860550218912\n",
      "right overlapping pixels 43718; percent of total 0.9850833708877873\n",
      "****update left mask run\n",
      "****update right mask run\n",
      "[0.00062351132775715929, -0.62432289282726028, 454.25574288571374]\n"
     ]
    },
    {
     "name": "stderr",
     "output_type": "stream",
     "text": [
      "\u001b[A"
     ]
    },
    {
     "name": "stdout",
     "output_type": "stream",
     "text": [
      "max at end of edge summation 2\n",
      "max at end of edge summation 1\n"
     ]
    },
    {
     "name": "stderr",
     "output_type": "stream",
     "text": [
      "\n",
      "\r",
      "  6%|▌         | 71/1200 [00:38<10:58,  1.72it/s]"
     ]
    },
    {
     "name": "stdout",
     "output_type": "stream",
     "text": [
      "max at end of edge summation 1\n",
      "threshold 2\n",
      "percent activated pixels 0.014917534722222223\n",
      "left overlapping pixels 14956; percent of total 0.9621718991250643\n",
      "right overlapping pixels 48160; percent of total 0.9858347662327028\n",
      "****update left mask run\n",
      "****update right mask run\n",
      "[9.2136117727431902e-05, -0.14019765388655792, 357.86247540137663]\n"
     ]
    },
    {
     "name": "stderr",
     "output_type": "stream",
     "text": [
      "\u001b[A"
     ]
    },
    {
     "name": "stdout",
     "output_type": "stream",
     "text": [
      "max at end of edge summation 2\n",
      "max at end of edge summation 1\n"
     ]
    },
    {
     "name": "stderr",
     "output_type": "stream",
     "text": [
      "\n",
      "\r",
      "  6%|▌         | 72/1200 [00:38<11:23,  1.65it/s]"
     ]
    },
    {
     "name": "stdout",
     "output_type": "stream",
     "text": [
      "max at end of edge summation 1\n",
      "threshold 2\n",
      "percent activated pixels 0.014992404513888889\n",
      "left overlapping pixels 16967; percent of total 0.9617390318557987\n",
      "right overlapping pixels 49466; percent of total 0.98779878986361\n",
      "****update left mask run\n",
      "****update right mask run\n",
      "[0.00075269115013201879, -0.71606043511259732, 471.464053211742]\n"
     ]
    },
    {
     "name": "stderr",
     "output_type": "stream",
     "text": [
      "\u001b[A"
     ]
    },
    {
     "name": "stdout",
     "output_type": "stream",
     "text": [
      "max at end of edge summation 2\n",
      "max at end of edge summation 2\n",
      "max at end of edge summation 2\n",
      "threshold 2\n",
      "percent activated pixels 0.015022786458333333\n",
      "left overlapping pixels 17537; percent of total 0.9692163148004863\n"
     ]
    },
    {
     "name": "stderr",
     "output_type": "stream",
     "text": [
      "\n",
      "\r",
      "  6%|▌         | 73/1200 [00:39<12:35,  1.49it/s]"
     ]
    },
    {
     "name": "stdout",
     "output_type": "stream",
     "text": [
      "right overlapping pixels 46565; percent of total 0.9938531150620025\n",
      "****update left mask run\n",
      "****update right mask run\n",
      "[8.2627079525102046e-05, -0.19984237445105585, 394.7616229406396]\n"
     ]
    },
    {
     "name": "stderr",
     "output_type": "stream",
     "text": [
      "\u001b[A"
     ]
    },
    {
     "name": "stdout",
     "output_type": "stream",
     "text": [
      "max at end of edge summation 2\n",
      "max at end of edge summation 2\n"
     ]
    },
    {
     "name": "stderr",
     "output_type": "stream",
     "text": [
      "\n",
      "\r",
      "  6%|▌         | 74/1200 [00:40<12:19,  1.52it/s]"
     ]
    },
    {
     "name": "stdout",
     "output_type": "stream",
     "text": [
      "max at end of edge summation 1\n",
      "threshold 2\n",
      "percent activated pixels 0.015223524305555555\n",
      "left overlapping pixels 16804; percent of total 0.9592966832220129\n",
      "right overlapping pixels 48415; percent of total 0.9952104916954448\n",
      "****update left mask run\n",
      "****update right mask run\n",
      "[9.6105910375007667e-05, -0.18305590459281204, 386.79277507456095]\n"
     ]
    },
    {
     "name": "stderr",
     "output_type": "stream",
     "text": [
      "\u001b[A"
     ]
    },
    {
     "name": "stdout",
     "output_type": "stream",
     "text": [
      "max at end of edge summation 2\n",
      "max at end of edge summation 1\n"
     ]
    },
    {
     "name": "stderr",
     "output_type": "stream",
     "text": [
      "\n",
      "\r",
      "  6%|▋         | 75/1200 [00:40<11:44,  1.60it/s]"
     ]
    },
    {
     "name": "stdout",
     "output_type": "stream",
     "text": [
      "max at end of edge summation 1\n",
      "threshold 2\n",
      "percent activated pixels 0.014291449652777777\n",
      "left overlapping pixels 16760; percent of total 0.9460374802438474\n",
      "right overlapping pixels 47860; percent of total 0.9945348378114415\n",
      "****update left mask run\n",
      "****update right mask run\n",
      "[0.00095292718353982505, -0.98299353706095471, 553.77818849178016]\n"
     ]
    },
    {
     "name": "stderr",
     "output_type": "stream",
     "text": [
      "\u001b[A"
     ]
    },
    {
     "name": "stdout",
     "output_type": "stream",
     "text": [
      "max at end of edge summation 2\n",
      "max at end of edge summation 1\n"
     ]
    },
    {
     "name": "stderr",
     "output_type": "stream",
     "text": [
      "\n",
      "\r",
      "  6%|▋         | 76/1200 [00:41<11:43,  1.60it/s]"
     ]
    },
    {
     "name": "stdout",
     "output_type": "stream",
     "text": [
      "max at end of edge summation 1\n",
      "threshold 2\n",
      "percent activated pixels 0.015169270833333333\n",
      "left overlapping pixels 19203; percent of total 0.9468934911242604\n",
      "right overlapping pixels 51367; percent of total 0.9955809671479795\n",
      "****update left mask run\n",
      "****update right mask run\n",
      "[0.00097116053349089512, -1.0405075139380056, 582.09397738238567]\n"
     ]
    },
    {
     "name": "stderr",
     "output_type": "stream",
     "text": [
      "\u001b[A"
     ]
    },
    {
     "name": "stdout",
     "output_type": "stream",
     "text": [
      "max at end of edge summation 2\n",
      "max at end of edge summation 2\n"
     ]
    },
    {
     "name": "stderr",
     "output_type": "stream",
     "text": [
      "\n",
      "\r",
      "  6%|▋         | 77/1200 [00:41<11:20,  1.65it/s]"
     ]
    },
    {
     "name": "stdout",
     "output_type": "stream",
     "text": [
      "max at end of edge summation 1\n",
      "threshold 2\n",
      "percent activated pixels 0.015166015625\n",
      "left overlapping pixels 18635; percent of total 0.9771893025694809\n",
      "right overlapping pixels 51581; percent of total 0.9933367997380939\n",
      "****update left mask run\n",
      "****update right mask run\n",
      "[0.00076410815069209812, -0.81945611411234554, 526.55078613555975]\n"
     ]
    },
    {
     "name": "stderr",
     "output_type": "stream",
     "text": [
      "\u001b[A"
     ]
    },
    {
     "name": "stdout",
     "output_type": "stream",
     "text": [
      "max at end of edge summation 2\n",
      "max at end of edge summation 1\n"
     ]
    },
    {
     "name": "stderr",
     "output_type": "stream",
     "text": [
      "\n",
      "\r",
      "  6%|▋         | 78/1200 [00:42<11:27,  1.63it/s]"
     ]
    },
    {
     "name": "stdout",
     "output_type": "stream",
     "text": [
      "max at end of edge summation 1\n",
      "threshold 2\n",
      "percent activated pixels 0.01592013888888889\n",
      "left overlapping pixels 18613; percent of total 0.9773681999579921\n",
      "right overlapping pixels 59175; percent of total 0.9749406880189798\n",
      "****update left mask run\n",
      "****update right mask run\n",
      "[0.00022205450617625918, -0.3926424023416431, 468.13492960785044]\n"
     ]
    },
    {
     "name": "stderr",
     "output_type": "stream",
     "text": [
      "\u001b[A"
     ]
    },
    {
     "name": "stdout",
     "output_type": "stream",
     "text": [
      "max at end of edge summation 2\n",
      "max at end of edge summation 1\n"
     ]
    },
    {
     "name": "stderr",
     "output_type": "stream",
     "text": [
      "\n",
      "\r",
      "  7%|▋         | 79/1200 [00:43<11:13,  1.67it/s]"
     ]
    },
    {
     "name": "stdout",
     "output_type": "stream",
     "text": [
      "max at end of edge summation 1\n",
      "threshold 2\n",
      "percent activated pixels 0.016431206597222223\n",
      "left overlapping pixels 16500; percent of total 0.933786078098472\n",
      "right overlapping pixels 56708; percent of total 0.9724927973658938\n",
      "****update left mask run\n",
      "****update right mask run\n",
      "[0.00093557857419819274, -1.0196692050016467, 592.2779447649757]\n"
     ]
    },
    {
     "name": "stderr",
     "output_type": "stream",
     "text": [
      "\u001b[A"
     ]
    },
    {
     "name": "stdout",
     "output_type": "stream",
     "text": [
      "max at end of edge summation 2\n",
      "max at end of edge summation 2\n"
     ]
    },
    {
     "name": "stderr",
     "output_type": "stream",
     "text": [
      "\n",
      "\r",
      "  7%|▋         | 80/1200 [00:43<11:21,  1.64it/s]"
     ]
    },
    {
     "name": "stdout",
     "output_type": "stream",
     "text": [
      "max at end of edge summation 2\n",
      "threshold 2\n",
      "percent activated pixels 0.016927083333333332\n",
      "left overlapping pixels 19249; percent of total 0.981991633506785\n",
      "right overlapping pixels 59571; percent of total 0.9960872836719338\n",
      "****update left mask run\n",
      "****update right mask run\n",
      "[0.0010396856170411814, -1.124801714445089, 619.78841889524108]\n"
     ]
    },
    {
     "name": "stderr",
     "output_type": "stream",
     "text": [
      "\u001b[A"
     ]
    },
    {
     "name": "stdout",
     "output_type": "stream",
     "text": [
      "max at end of edge summation 2\n",
      "max at end of edge summation 1\n"
     ]
    },
    {
     "name": "stderr",
     "output_type": "stream",
     "text": [
      "\n",
      "\r",
      "  7%|▋         | 81/1200 [00:44<10:59,  1.70it/s]"
     ]
    },
    {
     "name": "stdout",
     "output_type": "stream",
     "text": [
      "max at end of edge summation 1\n",
      "threshold 2\n",
      "percent activated pixels 0.01667426215277778\n",
      "left overlapping pixels 18593; percent of total 0.9654688960432029\n",
      "right overlapping pixels 59147; percent of total 0.9974030792060842\n",
      "****update left mask run\n",
      "****update right mask run\n",
      "[-0.0015776232943739746, 1.0030817544054016, 288.96689921780018]\n"
     ]
    },
    {
     "name": "stderr",
     "output_type": "stream",
     "text": [
      "\u001b[A"
     ]
    },
    {
     "name": "stdout",
     "output_type": "stream",
     "text": [
      "max at end of edge summation 2\n",
      "max at end of edge summation 1\n"
     ]
    },
    {
     "name": "stderr",
     "output_type": "stream",
     "text": [
      "\n",
      "\r",
      "  7%|▋         | 82/1200 [00:44<11:11,  1.66it/s]"
     ]
    },
    {
     "name": "stdout",
     "output_type": "stream",
     "text": [
      "max at end of edge summation 1\n",
      "threshold 2\n",
      "percent activated pixels 0.016037326388888887\n",
      "left overlapping pixels 22800; percent of total 0.9961987154279722\n",
      "right overlapping pixels 61935; percent of total 0.9962040179504914\n",
      "****update left mask run\n",
      "****update right mask run\n",
      "[-0.0010845996664143247, 0.53784158437971685, 371.21148926989815]\n"
     ]
    },
    {
     "name": "stderr",
     "output_type": "stream",
     "text": [
      "\u001b[A"
     ]
    },
    {
     "name": "stdout",
     "output_type": "stream",
     "text": [
      "max at end of edge summation 2\n",
      "max at end of edge summation 1\n"
     ]
    },
    {
     "name": "stderr",
     "output_type": "stream",
     "text": [
      "\n",
      "\r",
      "  7%|▋         | 83/1200 [00:45<10:53,  1.71it/s]"
     ]
    },
    {
     "name": "stdout",
     "output_type": "stream",
     "text": [
      "max at end of edge summation 1\n",
      "threshold 2\n",
      "percent activated pixels 0.015487196180555555\n",
      "left overlapping pixels 23122; percent of total 0.9951366472993329\n",
      "right overlapping pixels 60138; percent of total 0.9961240310077519\n",
      "****update left mask run\n",
      "****update right mask run\n",
      "[-0.00024941222449946916, -0.13555477730775034, 479.87898643467895]\n"
     ]
    },
    {
     "name": "stderr",
     "output_type": "stream",
     "text": [
      "\u001b[A"
     ]
    },
    {
     "name": "stdout",
     "output_type": "stream",
     "text": [
      "max at end of edge summation 2\n",
      "max at end of edge summation 1\n"
     ]
    },
    {
     "name": "stderr",
     "output_type": "stream",
     "text": [
      "\n",
      "\r",
      "  7%|▋         | 84/1200 [00:46<11:03,  1.68it/s]"
     ]
    },
    {
     "name": "stdout",
     "output_type": "stream",
     "text": [
      "max at end of edge summation 1\n",
      "threshold 2\n",
      "percent activated pixels 0.01539822048611111\n",
      "left overlapping pixels 22747; percent of total 0.9959718026183283\n",
      "right overlapping pixels 63037; percent of total 0.9922242684673623\n",
      "****update left mask run\n",
      "****update right mask run\n",
      "[-0.00013863500680096568, -0.27763893545418228, 523.24079945890298]\n"
     ]
    },
    {
     "name": "stderr",
     "output_type": "stream",
     "text": [
      "\u001b[A"
     ]
    },
    {
     "name": "stdout",
     "output_type": "stream",
     "text": [
      "max at end of edge summation 2\n",
      "max at end of edge summation 1\n"
     ]
    },
    {
     "name": "stderr",
     "output_type": "stream",
     "text": [
      "\n",
      "\r",
      "  7%|▋         | 85/1200 [00:46<10:47,  1.72it/s]"
     ]
    },
    {
     "name": "stdout",
     "output_type": "stream",
     "text": [
      "max at end of edge summation 1\n",
      "threshold 2\n",
      "percent activated pixels 0.015184461805555556\n",
      "left overlapping pixels 28395; percent of total 0.995582202587567\n",
      "right overlapping pixels 62502; percent of total 0.9945263023899691\n",
      "****update left mask run\n",
      "****update right mask run\n",
      "[-0.0015613056001772584, 0.72409617247850233, 426.50019649744752]\n"
     ]
    },
    {
     "name": "stderr",
     "output_type": "stream",
     "text": [
      "\u001b[A"
     ]
    },
    {
     "name": "stdout",
     "output_type": "stream",
     "text": [
      "max at end of edge summation 2\n",
      "max at end of edge summation 1\n"
     ]
    },
    {
     "name": "stderr",
     "output_type": "stream",
     "text": [
      "\n",
      "\r",
      "  7%|▋         | 86/1200 [00:47<11:03,  1.68it/s]"
     ]
    },
    {
     "name": "stdout",
     "output_type": "stream",
     "text": [
      "max at end of edge summation 1\n",
      "threshold 2\n",
      "percent activated pixels 0.015146484375\n",
      "left overlapping pixels 27177; percent of total 0.9951664286498957\n",
      "right overlapping pixels 67492; percent of total 0.9888792838200173\n",
      "****update left mask run\n",
      "****update right mask run\n",
      "[-0.003392826369270731, 2.1584051613135222, 238.00073030579534]\n"
     ]
    },
    {
     "name": "stderr",
     "output_type": "stream",
     "text": [
      "\u001b[A"
     ]
    },
    {
     "name": "stdout",
     "output_type": "stream",
     "text": [
      "max at end of edge summation 2\n",
      "max at end of edge summation 1\n"
     ]
    },
    {
     "name": "stderr",
     "output_type": "stream",
     "text": [
      "\n",
      "\r",
      "  7%|▋         | 87/1200 [00:47<10:49,  1.71it/s]"
     ]
    },
    {
     "name": "stdout",
     "output_type": "stream",
     "text": [
      "max at end of edge summation 2\n",
      "threshold 2\n",
      "percent activated pixels 0.015885416666666666\n",
      "left overlapping pixels 26104; percent of total 0.9955758962623951\n",
      "right overlapping pixels 67351; percent of total 0.9818216274526954\n",
      "****update left mask run\n",
      "****update right mask run\n",
      "[-0.0022186601795946533, 1.7059002415888516, 73.167803572521635]\n"
     ]
    },
    {
     "name": "stderr",
     "output_type": "stream",
     "text": [
      "\u001b[A"
     ]
    },
    {
     "name": "stdout",
     "output_type": "stream",
     "text": [
      "max at end of edge summation 2\n",
      "max at end of edge summation 1\n"
     ]
    },
    {
     "name": "stderr",
     "output_type": "stream",
     "text": [
      "\n",
      "\r",
      "  7%|▋         | 88/1200 [00:48<11:02,  1.68it/s]"
     ]
    },
    {
     "name": "stdout",
     "output_type": "stream",
     "text": [
      "max at end of edge summation 1\n",
      "threshold 2\n",
      "percent activated pixels 0.015609809027777777\n",
      "left overlapping pixels 26306; percent of total 0.9952707048541486\n",
      "right overlapping pixels 64874; percent of total 0.9987529828342698\n",
      "****update left mask run\n",
      "****update right mask run\n",
      "[-0.00089520362882131123, 0.71796766538292278, 201.28999087482165]\n"
     ]
    },
    {
     "name": "stderr",
     "output_type": "stream",
     "text": [
      "\u001b[A"
     ]
    },
    {
     "name": "stdout",
     "output_type": "stream",
     "text": [
      "max at end of edge summation 2\n",
      "max at end of edge summation 1\n"
     ]
    },
    {
     "name": "stderr",
     "output_type": "stream",
     "text": [
      "\n",
      "\r",
      "  7%|▋         | 89/1200 [00:49<10:46,  1.72it/s]"
     ]
    },
    {
     "name": "stdout",
     "output_type": "stream",
     "text": [
      "max at end of edge summation 1\n",
      "threshold 2\n",
      "percent activated pixels 0.01593967013888889\n",
      "left overlapping pixels 27392; percent of total 0.9957106506724828\n",
      "right overlapping pixels 72794; percent of total 0.9976700838769804\n",
      "****update left mask run\n",
      "****update right mask run\n",
      "[-0.00039824867519710626, 0.26687062508928516, 294.33971959755911]\n"
     ]
    },
    {
     "name": "stderr",
     "output_type": "stream",
     "text": [
      "\u001b[A"
     ]
    },
    {
     "name": "stdout",
     "output_type": "stream",
     "text": [
      "max at end of edge summation 2\n",
      "max at end of edge summation 2\n"
     ]
    },
    {
     "name": "stderr",
     "output_type": "stream",
     "text": [
      "\n",
      "\r",
      "  8%|▊         | 90/1200 [00:49<11:00,  1.68it/s]"
     ]
    },
    {
     "name": "stdout",
     "output_type": "stream",
     "text": [
      "max at end of edge summation 1\n",
      "threshold 2\n",
      "percent activated pixels 0.01663628472222222\n",
      "left overlapping pixels 28709; percent of total 0.9980184940554822\n",
      "right overlapping pixels 74307; percent of total 0.9964864756131905\n",
      "****update left mask run\n",
      "****update right mask run\n",
      "[-0.00097346085907544164, 0.64054094134133466, 262.83507887594101]\n"
     ]
    },
    {
     "name": "stderr",
     "output_type": "stream",
     "text": [
      "\u001b[A"
     ]
    },
    {
     "name": "stdout",
     "output_type": "stream",
     "text": [
      "max at end of edge summation 2\n",
      "max at end of edge summation 2\n"
     ]
    },
    {
     "name": "stderr",
     "output_type": "stream",
     "text": [
      "\n",
      "\r",
      "  8%|▊         | 91/1200 [00:50<10:48,  1.71it/s]"
     ]
    },
    {
     "name": "stdout",
     "output_type": "stream",
     "text": [
      "max at end of edge summation 1\n",
      "threshold 2\n",
      "percent activated pixels 0.0180859375\n",
      "left overlapping pixels 30856; percent of total 0.9997084075814029\n",
      "right overlapping pixels 71926; percent of total 0.9981404385234527\n",
      "****update left mask run\n",
      "****update right mask run\n",
      "[0.00026119850809652929, -0.2947734521452906, 367.50823948199314]\n"
     ]
    },
    {
     "name": "stderr",
     "output_type": "stream",
     "text": [
      "\u001b[A"
     ]
    },
    {
     "name": "stdout",
     "output_type": "stream",
     "text": [
      "max at end of edge summation 2\n",
      "max at end of edge summation 2\n"
     ]
    },
    {
     "name": "stderr",
     "output_type": "stream",
     "text": [
      "\n",
      "\r",
      "  8%|▊         | 92/1200 [00:50<11:07,  1.66it/s]"
     ]
    },
    {
     "name": "stdout",
     "output_type": "stream",
     "text": [
      "max at end of edge summation 2\n",
      "threshold 2\n",
      "percent activated pixels 0.017962239583333334\n",
      "left overlapping pixels 29904; percent of total 0.999699127469662\n",
      "right overlapping pixels 73638; percent of total 0.9984407413935704\n",
      "****update left mask run\n",
      "****update right mask run\n",
      "[-0.0011584331936212524, 0.65990523274063462, 307.47640835318231]\n"
     ]
    },
    {
     "name": "stderr",
     "output_type": "stream",
     "text": [
      "\u001b[A"
     ]
    },
    {
     "name": "stdout",
     "output_type": "stream",
     "text": [
      "max at end of edge summation 2\n",
      "max at end of edge summation 2\n"
     ]
    },
    {
     "name": "stderr",
     "output_type": "stream",
     "text": [
      "\n",
      "\r",
      "  8%|▊         | 93/1200 [00:51<10:58,  1.68it/s]"
     ]
    },
    {
     "name": "stdout",
     "output_type": "stream",
     "text": [
      "max at end of edge summation 1\n",
      "threshold 2\n",
      "percent activated pixels 0.018194444444444444\n",
      "left overlapping pixels 30067; percent of total 0.9997007580795318\n",
      "right overlapping pixels 73651; percent of total 0.9980080760996233\n",
      "****update left mask run\n",
      "****update right mask run\n",
      "[-0.00092233823864300768, 0.44123265462998307, 352.68457757421857]\n"
     ]
    },
    {
     "name": "stderr",
     "output_type": "stream",
     "text": [
      "\u001b[A"
     ]
    },
    {
     "name": "stdout",
     "output_type": "stream",
     "text": [
      "max at end of edge summation 2\n",
      "max at end of edge summation 1\n"
     ]
    },
    {
     "name": "stderr",
     "output_type": "stream",
     "text": [
      "\n",
      "\r",
      "  8%|▊         | 94/1200 [00:52<11:18,  1.63it/s]"
     ]
    },
    {
     "name": "stdout",
     "output_type": "stream",
     "text": [
      "max at end of edge summation 1\n",
      "threshold 2\n",
      "percent activated pixels 0.018575303819444444\n",
      "left overlapping pixels 30271; percent of total 1.0\n",
      "right overlapping pixels 68400; percent of total 0.9986130374479889\n",
      "****update left mask run\n",
      "****update right mask run\n",
      "[-0.001668697723370078, 1.0851465713527715, 227.02097274982714]\n"
     ]
    },
    {
     "name": "stderr",
     "output_type": "stream",
     "text": [
      "\u001b[A"
     ]
    },
    {
     "name": "stdout",
     "output_type": "stream",
     "text": [
      "max at end of edge summation 2\n",
      "max at end of edge summation 1\n"
     ]
    },
    {
     "name": "stderr",
     "output_type": "stream",
     "text": [
      "\n",
      "\r",
      "  8%|▊         | 95/1200 [00:52<11:05,  1.66it/s]"
     ]
    },
    {
     "name": "stdout",
     "output_type": "stream",
     "text": [
      "max at end of edge summation 1\n",
      "threshold 2\n",
      "percent activated pixels 0.018566623263888887\n",
      "left overlapping pixels 27813; percent of total 0.9993532391937049\n",
      "right overlapping pixels 71785; percent of total 0.9989285018507695\n",
      "****update left mask run\n",
      "****update right mask run\n",
      "[-0.00060566264763628041, 0.11226131682443774, 435.15054124259848]\n"
     ]
    },
    {
     "name": "stderr",
     "output_type": "stream",
     "text": [
      "\u001b[A"
     ]
    },
    {
     "name": "stdout",
     "output_type": "stream",
     "text": [
      "max at end of edge summation 2\n",
      "max at end of edge summation 2\n"
     ]
    },
    {
     "name": "stderr",
     "output_type": "stream",
     "text": [
      "\n",
      "\r",
      "  8%|▊         | 96/1200 [00:53<11:22,  1.62it/s]"
     ]
    },
    {
     "name": "stdout",
     "output_type": "stream",
     "text": [
      "max at end of edge summation 2\n",
      "threshold 2\n",
      "percent activated pixels 0.018555772569444445\n",
      "left overlapping pixels 27272; percent of total 0.9996701000696455\n",
      "right overlapping pixels 69651; percent of total 0.9988957090408445\n",
      "****update left mask run\n",
      "****update right mask run\n",
      "[0.0015044975596545974, -1.5167908745302572, 607.50203494389314]\n"
     ]
    },
    {
     "name": "stderr",
     "output_type": "stream",
     "text": [
      "\u001b[A"
     ]
    },
    {
     "name": "stdout",
     "output_type": "stream",
     "text": [
      "max at end of edge summation 2\n",
      "max at end of edge summation 1\n"
     ]
    },
    {
     "name": "stderr",
     "output_type": "stream",
     "text": [
      "\n",
      "\r",
      "  8%|▊         | 97/1200 [00:53<11:13,  1.64it/s]"
     ]
    },
    {
     "name": "stdout",
     "output_type": "stream",
     "text": [
      "max at end of edge summation 2\n",
      "threshold 2\n",
      "percent activated pixels 0.018913845486111112\n",
      "left overlapping pixels 24176; percent of total 1.0\n",
      "right overlapping pixels 69062; percent of total 0.9993343751808763\n",
      "****update left mask run\n",
      "****update right mask run\n",
      "[-6.1085569034388215e-05, -0.44733417976892487, 541.33380164253197]\n"
     ]
    },
    {
     "name": "stderr",
     "output_type": "stream",
     "text": [
      "\u001b[A"
     ]
    },
    {
     "name": "stdout",
     "output_type": "stream",
     "text": [
      "max at end of edge summation 2\n",
      "max at end of edge summation 2\n"
     ]
    },
    {
     "name": "stderr",
     "output_type": "stream",
     "text": [
      "\n",
      "\r",
      "  8%|▊         | 98/1200 [00:54<11:22,  1.61it/s]"
     ]
    },
    {
     "name": "stdout",
     "output_type": "stream",
     "text": [
      "max at end of edge summation 2\n",
      "threshold 2\n",
      "percent activated pixels 0.01925238715277778\n",
      "left overlapping pixels 21387; percent of total 1.0\n",
      "right overlapping pixels 70053; percent of total 0.9991299883047609\n",
      "****update left mask run\n",
      "****update right mask run\n",
      "[-0.00038193867439699448, 0.082846722758818381, 369.46587941353948]\n"
     ]
    },
    {
     "name": "stderr",
     "output_type": "stream",
     "text": [
      "\u001b[A"
     ]
    },
    {
     "name": "stdout",
     "output_type": "stream",
     "text": [
      "max at end of edge summation 2\n",
      "max at end of edge summation 1\n"
     ]
    },
    {
     "name": "stderr",
     "output_type": "stream",
     "text": [
      "\n",
      "\r",
      "  8%|▊         | 99/1200 [00:55<11:04,  1.66it/s]"
     ]
    },
    {
     "name": "stdout",
     "output_type": "stream",
     "text": [
      "max at end of edge summation 1\n",
      "threshold 2\n",
      "percent activated pixels 0.019518229166666668\n",
      "left overlapping pixels 18985; percent of total 0.9993157174439414\n",
      "right overlapping pixels 71404; percent of total 0.9997059852992649\n",
      "****update left mask run\n",
      "****update right mask run\n",
      "[0.00058095915114139056, -0.62890462390952051, 469.42579976501929]\n"
     ]
    },
    {
     "name": "stderr",
     "output_type": "stream",
     "text": [
      "\u001b[A"
     ]
    },
    {
     "name": "stdout",
     "output_type": "stream",
     "text": [
      "max at end of edge summation 2\n",
      "max at end of edge summation 1\n"
     ]
    },
    {
     "name": "stderr",
     "output_type": "stream",
     "text": [
      "\n",
      "\r",
      "  8%|▊         | 100/1200 [00:55<11:16,  1.63it/s]"
     ]
    },
    {
     "name": "stdout",
     "output_type": "stream",
     "text": [
      "max at end of edge summation 1\n",
      "threshold 2\n",
      "percent activated pixels 0.020936414930555557\n",
      "left overlapping pixels 19386; percent of total 0.9981978270943823\n",
      "right overlapping pixels 70114; percent of total 0.9994440722420994\n",
      "****update left mask run\n",
      "****update right mask run\n",
      "[0.00089384189762243215, -0.85053985049867697, 491.33088858244855]\n"
     ]
    },
    {
     "name": "stderr",
     "output_type": "stream",
     "text": [
      "\u001b[A"
     ]
    },
    {
     "name": "stdout",
     "output_type": "stream",
     "text": [
      "max at end of edge summation 2\n",
      "max at end of edge summation 2\n"
     ]
    },
    {
     "name": "stderr",
     "output_type": "stream",
     "text": [
      "\n",
      "\r",
      "  8%|▊         | 101/1200 [00:56<11:00,  1.66it/s]"
     ]
    },
    {
     "name": "stdout",
     "output_type": "stream",
     "text": [
      "max at end of edge summation 2\n",
      "threshold 2\n",
      "percent activated pixels 0.02201931423611111\n",
      "left overlapping pixels 17740; percent of total 0.996629213483146\n",
      "right overlapping pixels 68366; percent of total 0.9962258652094718\n",
      "****update left mask run\n",
      "****update right mask run\n",
      "[0.0009987028933325932, -1.1177941533749056, 571.3566236257567]\n"
     ]
    },
    {
     "name": "stderr",
     "output_type": "stream",
     "text": [
      "\u001b[A"
     ]
    },
    {
     "name": "stdout",
     "output_type": "stream",
     "text": [
      "max at end of edge summation 2\n",
      "max at end of edge summation 2\n"
     ]
    },
    {
     "name": "stderr",
     "output_type": "stream",
     "text": [
      "\n",
      "\r",
      "  8%|▊         | 102/1200 [00:56<11:22,  1.61it/s]"
     ]
    },
    {
     "name": "stdout",
     "output_type": "stream",
     "text": [
      "max at end of edge summation 1\n",
      "threshold 2\n",
      "percent activated pixels 0.021591796875\n",
      "left overlapping pixels 17834; percent of total 0.995589795120862\n",
      "right overlapping pixels 66453; percent of total 0.999022820890586\n",
      "****update left mask run\n",
      "****update right mask run\n",
      "[0.00019938975978138376, -0.4259729077443507, 490.76585638193978]\n"
     ]
    },
    {
     "name": "stderr",
     "output_type": "stream",
     "text": [
      "\u001b[A"
     ]
    },
    {
     "name": "stdout",
     "output_type": "stream",
     "text": [
      "max at end of edge summation 2\n",
      "max at end of edge summation 2\n"
     ]
    },
    {
     "name": "stderr",
     "output_type": "stream",
     "text": [
      "\n",
      "\r",
      "  9%|▊         | 103/1200 [00:57<11:07,  1.64it/s]"
     ]
    },
    {
     "name": "stdout",
     "output_type": "stream",
     "text": [
      "max at end of edge summation 1\n",
      "threshold 2\n",
      "percent activated pixels 0.021129557291666667\n",
      "left overlapping pixels 16488; percent of total 0.9952314842759703\n",
      "right overlapping pixels 64508; percent of total 0.99880777270264\n",
      "****update left mask run\n",
      "****update right mask run\n",
      "[0.0012616324156649876, -1.3022788480507206, 588.37079243280743]\n"
     ]
    },
    {
     "name": "stderr",
     "output_type": "stream",
     "text": [
      "\u001b[A"
     ]
    },
    {
     "name": "stdout",
     "output_type": "stream",
     "text": [
      "max at end of edge summation 2\n",
      "max at end of edge summation 2\n"
     ]
    },
    {
     "name": "stderr",
     "output_type": "stream",
     "text": [
      "\n",
      "\r",
      "  9%|▊         | 104/1200 [00:58<11:15,  1.62it/s]"
     ]
    },
    {
     "name": "stdout",
     "output_type": "stream",
     "text": [
      "max at end of edge summation 1\n",
      "threshold 2\n",
      "percent activated pixels 0.021370442708333333\n",
      "left overlapping pixels 16845; percent of total 0.9953320727960293\n",
      "right overlapping pixels 65383; percent of total 1.0\n",
      "****update left mask run\n",
      "****update right mask run\n",
      "[0.0011624799202348665, -1.3235206302884024, 660.13579227246089]\n"
     ]
    },
    {
     "name": "stderr",
     "output_type": "stream",
     "text": [
      "\u001b[A"
     ]
    },
    {
     "name": "stdout",
     "output_type": "stream",
     "text": [
      "max at end of edge summation 2\n",
      "max at end of edge summation 1\n"
     ]
    },
    {
     "name": "stderr",
     "output_type": "stream",
     "text": [
      "\n",
      "\r",
      "  9%|▉         | 105/1200 [00:58<11:03,  1.65it/s]"
     ]
    },
    {
     "name": "stdout",
     "output_type": "stream",
     "text": [
      "max at end of edge summation 1\n",
      "threshold 2\n",
      "percent activated pixels 0.020463324652777778\n",
      "left overlapping pixels 15969; percent of total 0.9945814648729447\n",
      "right overlapping pixels 64123; percent of total 1.0\n",
      "****update left mask run\n",
      "****update right mask run\n",
      "[0.00080602177538974988, -1.0408619940700932, 623.39884608768921]\n"
     ]
    },
    {
     "name": "stderr",
     "output_type": "stream",
     "text": [
      "\u001b[A"
     ]
    },
    {
     "name": "stdout",
     "output_type": "stream",
     "text": [
      "max at end of edge summation 2\n",
      "max at end of edge summation 1\n"
     ]
    },
    {
     "name": "stderr",
     "output_type": "stream",
     "text": [
      "\n",
      "\r",
      "  9%|▉         | 106/1200 [00:59<13:11,  1.38it/s]"
     ]
    },
    {
     "name": "stdout",
     "output_type": "stream",
     "text": [
      "max at end of edge summation 1\n",
      "threshold 2\n",
      "percent activated pixels 0.02083984375\n",
      "left overlapping pixels 14606; percent of total 0.9946880958866794\n",
      "right overlapping pixels 60321; percent of total 1.0\n",
      "****update left mask run\n",
      "****update right mask run\n",
      "[0.00028176295721856056, -0.57093950463596055, 534.4814167057815]\n"
     ]
    },
    {
     "name": "stderr",
     "output_type": "stream",
     "text": [
      "\u001b[A"
     ]
    },
    {
     "name": "stdout",
     "output_type": "stream",
     "text": [
      "max at end of edge summation 2\n",
      "max at end of edge summation 1\n"
     ]
    },
    {
     "name": "stderr",
     "output_type": "stream",
     "text": [
      "\n",
      "\r",
      "  9%|▉         | 107/1200 [01:00<12:22,  1.47it/s]"
     ]
    },
    {
     "name": "stdout",
     "output_type": "stream",
     "text": [
      "max at end of edge summation 1\n",
      "threshold 2\n",
      "percent activated pixels 0.021190321180555555\n",
      "left overlapping pixels 14707; percent of total 0.9940520446096655\n",
      "right overlapping pixels 58937; percent of total 0.9998812432138979\n",
      "****update left mask run\n",
      "****update right mask run\n",
      "[-0.00070869261495473213, 0.39082885820600377, 356.63404886780722]\n"
     ]
    },
    {
     "name": "stderr",
     "output_type": "stream",
     "text": [
      "\u001b[A"
     ]
    },
    {
     "name": "stdout",
     "output_type": "stream",
     "text": [
      "max at end of edge summation 2\n",
      "max at end of edge summation 1\n"
     ]
    },
    {
     "name": "stderr",
     "output_type": "stream",
     "text": [
      "\n",
      "\r",
      "  9%|▉         | 108/1200 [01:00<12:06,  1.50it/s]"
     ]
    },
    {
     "name": "stdout",
     "output_type": "stream",
     "text": [
      "max at end of edge summation 1\n",
      "threshold 2\n",
      "percent activated pixels 0.021276041666666665\n",
      "left overlapping pixels 13542; percent of total 0.995735294117647\n",
      "right overlapping pixels 55384; percent of total 0.9990259388866842\n",
      "****update left mask run\n",
      "****update right mask run\n",
      "[0.00037545314105996328, -0.58032626156317324, 491.8803966099814]\n"
     ]
    },
    {
     "name": "stderr",
     "output_type": "stream",
     "text": [
      "\u001b[A"
     ]
    },
    {
     "name": "stdout",
     "output_type": "stream",
     "text": [
      "max at end of edge summation 2\n",
      "max at end of edge summation 2\n"
     ]
    },
    {
     "name": "stderr",
     "output_type": "stream",
     "text": [
      "\n",
      "\r",
      "  9%|▉         | 109/1200 [01:01<11:24,  1.59it/s]"
     ]
    },
    {
     "name": "stdout",
     "output_type": "stream",
     "text": [
      "max at end of edge summation 1\n",
      "threshold 2\n",
      "percent activated pixels 0.020533854166666667\n",
      "left overlapping pixels 11700; percent of total 0.998719590268886\n",
      "right overlapping pixels 55438; percent of total 0.9982174046131408\n",
      "****update left mask run\n",
      "****update right mask run\n",
      "[0.00093005471543664486, -1.2038499214301743, 673.45324585212541]\n"
     ]
    },
    {
     "name": "stderr",
     "output_type": "stream",
     "text": [
      "\u001b[A"
     ]
    },
    {
     "name": "stdout",
     "output_type": "stream",
     "text": [
      "max at end of edge summation 2\n",
      "max at end of edge summation 1\n"
     ]
    },
    {
     "name": "stderr",
     "output_type": "stream",
     "text": [
      "\n",
      "\r",
      "  9%|▉         | 110/1200 [01:02<11:23,  1.60it/s]"
     ]
    },
    {
     "name": "stdout",
     "output_type": "stream",
     "text": [
      "max at end of edge summation 1\n",
      "threshold 2\n",
      "percent activated pixels 0.019450954861111112\n",
      "left overlapping pixels 6992; percent of total 1.0\n",
      "right overlapping pixels 57577; percent of total 0.9980066560354989\n",
      "****update left mask run\n",
      "****update right mask run\n",
      "[3.7482228253843972e-05, -0.30795211662346966, 568.24740719577142]\n"
     ]
    },
    {
     "name": "stderr",
     "output_type": "stream",
     "text": [
      "\u001b[A"
     ]
    },
    {
     "name": "stdout",
     "output_type": "stream",
     "text": [
      "max at end of edge summation 2\n",
      "max at end of edge summation 1\n"
     ]
    },
    {
     "name": "stderr",
     "output_type": "stream",
     "text": [
      "\n",
      "\r",
      "  9%|▉         | 111/1200 [01:02<10:56,  1.66it/s]"
     ]
    },
    {
     "name": "stdout",
     "output_type": "stream",
     "text": [
      "max at end of edge summation 1\n",
      "threshold 2\n",
      "percent activated pixels 0.018922526041666665\n",
      "left overlapping pixels 5065; percent of total 1.0\n",
      "right overlapping pixels 56076; percent of total 0.9979178901286637\n",
      "****update left mask run\n",
      "****update right mask run\n",
      "[0.0029034186377148762, -2.0476105419617276, 566.69349809187543]\n"
     ]
    },
    {
     "name": "stderr",
     "output_type": "stream",
     "text": [
      "\u001b[A"
     ]
    },
    {
     "name": "stdout",
     "output_type": "stream",
     "text": [
      "max at end of edge summation 2\n",
      "max at end of edge summation 2\n"
     ]
    },
    {
     "name": "stderr",
     "output_type": "stream",
     "text": [
      "\n",
      "\r",
      "  9%|▉         | 112/1200 [01:03<11:01,  1.64it/s]"
     ]
    },
    {
     "name": "stdout",
     "output_type": "stream",
     "text": [
      "max at end of edge summation 1\n",
      "threshold 2\n",
      "percent activated pixels 0.017508680555555555\n",
      "left overlapping pixels 5864; percent of total 1.0\n",
      "right overlapping pixels 53952; percent of total 0.9979099232405438\n",
      "****update left mask run\n",
      "****update right mask run\n",
      "[0.0015921407337653952, -0.95042027567950516, 327.47517893220839]\n"
     ]
    },
    {
     "name": "stderr",
     "output_type": "stream",
     "text": [
      "\u001b[A"
     ]
    },
    {
     "name": "stdout",
     "output_type": "stream",
     "text": [
      "max at end of edge summation 2\n",
      "max at end of edge summation 2\n"
     ]
    },
    {
     "name": "stderr",
     "output_type": "stream",
     "text": [
      "\n",
      "\r",
      "  9%|▉         | 113/1200 [01:03<10:38,  1.70it/s]"
     ]
    },
    {
     "name": "stdout",
     "output_type": "stream",
     "text": [
      "max at end of edge summation 1\n",
      "threshold 2\n",
      "percent activated pixels 0.016879340277777776\n",
      "left overlapping pixels 7817; percent of total 1.0\n",
      "right overlapping pixels 51993; percent of total 0.9978313437991786\n",
      "****update left mask run\n",
      "****update right mask run\n",
      "[0.0021321940951642394, -1.2533376432550942, 374.84582122230751]\n"
     ]
    },
    {
     "name": "stderr",
     "output_type": "stream",
     "text": [
      "\u001b[A"
     ]
    },
    {
     "name": "stdout",
     "output_type": "stream",
     "text": [
      "max at end of edge summation 2\n",
      "max at end of edge summation 1\n"
     ]
    },
    {
     "name": "stderr",
     "output_type": "stream",
     "text": [
      "\n",
      "\r",
      " 10%|▉         | 114/1200 [01:04<10:46,  1.68it/s]"
     ]
    },
    {
     "name": "stdout",
     "output_type": "stream",
     "text": [
      "max at end of edge summation 2\n",
      "threshold 2\n",
      "percent activated pixels 0.01716254340277778\n",
      "left overlapping pixels 11282; percent of total 0.9984070796460177\n",
      "right overlapping pixels 51586; percent of total 0.9979107826827098\n",
      "****update left mask run\n",
      "****update right mask run\n",
      "[0.002205589098764749, -1.5236381861983386, 404.85301407842996]\n"
     ]
    },
    {
     "name": "stderr",
     "output_type": "stream",
     "text": [
      "\u001b[A"
     ]
    },
    {
     "name": "stdout",
     "output_type": "stream",
     "text": [
      "max at end of edge summation 2\n",
      "max at end of edge summation 2\n"
     ]
    },
    {
     "name": "stderr",
     "output_type": "stream",
     "text": [
      "\n",
      "\r",
      " 10%|▉         | 115/1200 [01:05<10:30,  1.72it/s]"
     ]
    },
    {
     "name": "stdout",
     "output_type": "stream",
     "text": [
      "max at end of edge summation 1\n",
      "threshold 2\n",
      "percent activated pixels 0.017987196180555557\n",
      "left overlapping pixels 14289; percent of total 0.9966520192508893\n",
      "right overlapping pixels 50921; percent of total 0.9980595844766759\n",
      "****update left mask run\n",
      "****update right mask run\n",
      "[0.00081326126159394943, -0.21287266975115238, 121.22046255615783]\n"
     ]
    },
    {
     "name": "stderr",
     "output_type": "stream",
     "text": [
      "\u001b[A"
     ]
    },
    {
     "name": "stdout",
     "output_type": "stream",
     "text": [
      "max at end of edge summation 2\n",
      "max at end of edge summation 2\n"
     ]
    },
    {
     "name": "stderr",
     "output_type": "stream",
     "text": [
      "\n",
      "\r",
      " 10%|▉         | 116/1200 [01:05<10:42,  1.69it/s]"
     ]
    },
    {
     "name": "stdout",
     "output_type": "stream",
     "text": [
      "max at end of edge summation 1\n",
      "threshold 2\n",
      "percent activated pixels 0.017727864583333332\n",
      "left overlapping pixels 16237; percent of total 0.9970525023027326\n",
      "right overlapping pixels 49469; percent of total 0.9981437017009342\n",
      "****update left mask run\n",
      "****update right mask run\n",
      "[0.001078506496304093, -0.45696327383017499, 182.69353424274149]\n"
     ]
    },
    {
     "name": "stderr",
     "output_type": "stream",
     "text": [
      "\u001b[A"
     ]
    },
    {
     "name": "stdout",
     "output_type": "stream",
     "text": [
      "max at end of edge summation 2\n",
      "max at end of edge summation 2\n"
     ]
    },
    {
     "name": "stderr",
     "output_type": "stream",
     "text": [
      "\n",
      "\r",
      " 10%|▉         | 117/1200 [01:06<10:26,  1.73it/s]"
     ]
    },
    {
     "name": "stdout",
     "output_type": "stream",
     "text": [
      "max at end of edge summation 1\n",
      "threshold 2\n",
      "percent activated pixels 0.017991536458333332\n",
      "left overlapping pixels 18776; percent of total 0.998086327875824\n",
      "right overlapping pixels 48479; percent of total 0.9982908446933817\n",
      "****update left mask run\n",
      "****update right mask run\n",
      "[0.0014777014592834686, -0.84385733138585173, 259.23698583410834]\n"
     ]
    },
    {
     "name": "stderr",
     "output_type": "stream",
     "text": [
      "\u001b[A"
     ]
    },
    {
     "name": "stdout",
     "output_type": "stream",
     "text": [
      "max at end of edge summation 2\n",
      "max at end of edge summation 2\n"
     ]
    },
    {
     "name": "stderr",
     "output_type": "stream",
     "text": [
      "\n",
      "\r",
      " 10%|▉         | 118/1200 [01:06<10:36,  1.70it/s]"
     ]
    },
    {
     "name": "stdout",
     "output_type": "stream",
     "text": [
      "max at end of edge summation 1\n",
      "threshold 2\n",
      "percent activated pixels 0.017740885416666668\n",
      "left overlapping pixels 22317; percent of total 0.9974524001072673\n",
      "right overlapping pixels 48815; percent of total 0.9978740366728674\n",
      "****update left mask run\n",
      "****update right mask run\n",
      "[0.0022403709448106509, -1.7131109399127915, 504.90043468500664]\n"
     ]
    },
    {
     "name": "stderr",
     "output_type": "stream",
     "text": [
      "\u001b[A"
     ]
    },
    {
     "name": "stdout",
     "output_type": "stream",
     "text": [
      "max at end of edge summation 2\n",
      "max at end of edge summation 2\n"
     ]
    },
    {
     "name": "stderr",
     "output_type": "stream",
     "text": [
      "\n",
      "\r",
      " 10%|▉         | 119/1200 [01:07<10:17,  1.75it/s]"
     ]
    },
    {
     "name": "stdout",
     "output_type": "stream",
     "text": [
      "max at end of edge summation 1\n",
      "threshold 2\n",
      "percent activated pixels 0.017470703125\n",
      "left overlapping pixels 24801; percent of total 0.9975464564395463\n",
      "right overlapping pixels 48263; percent of total 0.9980561242426123\n",
      "****update left mask run\n",
      "****update right mask run\n",
      "[0.0016294460138973521, -1.0201309545674968, 333.37421393732495]\n"
     ]
    },
    {
     "name": "stderr",
     "output_type": "stream",
     "text": [
      "\u001b[A"
     ]
    },
    {
     "name": "stdout",
     "output_type": "stream",
     "text": [
      "max at end of edge summation 2\n",
      "max at end of edge summation 2\n"
     ]
    },
    {
     "name": "stderr",
     "output_type": "stream",
     "text": [
      "\n",
      "\r",
      " 10%|█         | 120/1200 [01:07<10:27,  1.72it/s]"
     ]
    },
    {
     "name": "stdout",
     "output_type": "stream",
     "text": [
      "max at end of edge summation 1\n",
      "threshold 2\n",
      "percent activated pixels 0.016368272569444446\n",
      "left overlapping pixels 26080; percent of total 0.996980006880997\n",
      "right overlapping pixels 46288; percent of total 0.9977367275235488\n",
      "****update left mask run\n",
      "****update right mask run\n",
      "[0.0018639561291752072, -1.1678378866903592, 361.52259195876468]\n"
     ]
    },
    {
     "name": "stderr",
     "output_type": "stream",
     "text": [
      "\u001b[A"
     ]
    },
    {
     "name": "stdout",
     "output_type": "stream",
     "text": [
      "max at end of edge summation 2\n",
      "max at end of edge summation 2\n"
     ]
    },
    {
     "name": "stderr",
     "output_type": "stream",
     "text": [
      "\n",
      "\r",
      " 10%|█         | 121/1200 [01:08<10:09,  1.77it/s]"
     ]
    },
    {
     "name": "stdout",
     "output_type": "stream",
     "text": [
      "max at end of edge summation 1\n",
      "threshold 2\n",
      "percent activated pixels 0.015953776041666666\n",
      "left overlapping pixels 25102; percent of total 0.9965065502183406\n",
      "right overlapping pixels 46272; percent of total 0.9979296066252588\n",
      "****update left mask run\n",
      "****update right mask run\n",
      "[0.0016913240027819334, -1.0392006504240443, 364.20188684195949]\n"
     ]
    },
    {
     "name": "stderr",
     "output_type": "stream",
     "text": [
      "\u001b[A"
     ]
    },
    {
     "name": "stdout",
     "output_type": "stream",
     "text": [
      "max at end of edge summation 2\n",
      "max at end of edge summation 2\n"
     ]
    },
    {
     "name": "stderr",
     "output_type": "stream",
     "text": [
      "\n",
      "\r",
      " 10%|█         | 122/1200 [01:09<10:16,  1.75it/s]"
     ]
    },
    {
     "name": "stdout",
     "output_type": "stream",
     "text": [
      "max at end of edge summation 1\n",
      "threshold 2\n",
      "percent activated pixels 0.01515625\n",
      "left overlapping pixels 27244; percent of total 0.9963428905792862\n",
      "right overlapping pixels 42748; percent of total 0.9990885081917404\n",
      "****update left mask run\n",
      "****update right mask run\n",
      "[0.0015764923650732111, -0.9823113449579749, 379.07863046526751]\n"
     ]
    },
    {
     "name": "stderr",
     "output_type": "stream",
     "text": [
      "\u001b[A"
     ]
    },
    {
     "name": "stdout",
     "output_type": "stream",
     "text": [
      "max at end of edge summation 2\n",
      "max at end of edge summation 2\n"
     ]
    },
    {
     "name": "stderr",
     "output_type": "stream",
     "text": [
      "\n",
      "\r",
      " 10%|█         | 123/1200 [01:09<10:29,  1.71it/s]"
     ]
    },
    {
     "name": "stdout",
     "output_type": "stream",
     "text": [
      "max at end of edge summation 1\n",
      "threshold 2\n",
      "percent activated pixels 0.014498697916666666\n",
      "left overlapping pixels 28459; percent of total 0.9966380668884609\n",
      "right overlapping pixels 41215; percent of total 0.9999029573740266\n",
      "****update left mask run\n",
      "****update right mask run\n",
      "[0.0019348507788794734, -1.355680280091466, 485.04168807050587]\n"
     ]
    },
    {
     "name": "stderr",
     "output_type": "stream",
     "text": [
      "\u001b[A"
     ]
    },
    {
     "name": "stdout",
     "output_type": "stream",
     "text": [
      "max at end of edge summation 2\n",
      "max at end of edge summation 2\n"
     ]
    },
    {
     "name": "stderr",
     "output_type": "stream",
     "text": [
      "\n",
      "\r",
      " 10%|█         | 124/1200 [01:10<10:20,  1.73it/s]"
     ]
    },
    {
     "name": "stdout",
     "output_type": "stream",
     "text": [
      "max at end of edge summation 1\n",
      "threshold 2\n",
      "percent activated pixels 0.013731553819444445\n",
      "left overlapping pixels 30236; percent of total 0.9965721819380357\n",
      "right overlapping pixels 36182; percent of total 1.0\n",
      "****update left mask run\n",
      "****update right mask run\n",
      "[0.0020765477575287578, -1.4845442099821091, 517.57317809840606]\n"
     ]
    },
    {
     "name": "stderr",
     "output_type": "stream",
     "text": [
      "\u001b[A"
     ]
    },
    {
     "name": "stdout",
     "output_type": "stream",
     "text": [
      "max at end of edge summation 2\n",
      "max at end of edge summation 2\n"
     ]
    },
    {
     "name": "stderr",
     "output_type": "stream",
     "text": [
      "\n",
      "\r",
      " 10%|█         | 125/1200 [01:10<10:30,  1.71it/s]"
     ]
    },
    {
     "name": "stdout",
     "output_type": "stream",
     "text": [
      "max at end of edge summation 2\n",
      "threshold 2\n",
      "percent activated pixels 0.013534071180555555\n",
      "left overlapping pixels 31091; percent of total 0.9961232859156735\n",
      "right overlapping pixels 33667; percent of total 1.0\n",
      "****update left mask run\n",
      "****update right mask run\n",
      "[0.00064720698929694644, -0.57620833053941556, 465.90755203246579]\n"
     ]
    },
    {
     "name": "stderr",
     "output_type": "stream",
     "text": [
      "\u001b[A"
     ]
    },
    {
     "name": "stdout",
     "output_type": "stream",
     "text": [
      "max at end of edge summation 2\n",
      "max at end of edge summation 2\n"
     ]
    },
    {
     "name": "stderr",
     "output_type": "stream",
     "text": [
      "\n",
      "\r",
      " 10%|█         | 126/1200 [01:11<10:20,  1.73it/s]"
     ]
    },
    {
     "name": "stdout",
     "output_type": "stream",
     "text": [
      "max at end of edge summation 1\n",
      "threshold 2\n",
      "percent activated pixels 0.013021918402777779\n",
      "left overlapping pixels 32242; percent of total 0.9970313562990909\n",
      "right overlapping pixels 30554; percent of total 1.0\n",
      "****update left mask run\n",
      "****update right mask run\n",
      "[0.00031780652030748981, -0.46351367707753299, 492.37832872215438]\n"
     ]
    },
    {
     "name": "stderr",
     "output_type": "stream",
     "text": [
      "\u001b[A"
     ]
    },
    {
     "name": "stdout",
     "output_type": "stream",
     "text": [
      "max at end of edge summation 2\n",
      "max at end of edge summation 2\n"
     ]
    },
    {
     "name": "stderr",
     "output_type": "stream",
     "text": [
      "\n",
      "\r",
      " 11%|█         | 127/1200 [01:11<10:24,  1.72it/s]"
     ]
    },
    {
     "name": "stdout",
     "output_type": "stream",
     "text": [
      "max at end of edge summation 1\n",
      "threshold 2\n",
      "percent activated pixels 0.012530381944444445\n",
      "left overlapping pixels 32213; percent of total 0.996350252080047\n",
      "right overlapping pixels 27529; percent of total 1.0\n",
      "****update left mask run\n",
      "****update right mask run\n",
      "[0.00046238852268321213, -0.66055131527928079, 539.80215709883464]\n"
     ]
    },
    {
     "name": "stderr",
     "output_type": "stream",
     "text": [
      "\u001b[A"
     ]
    },
    {
     "name": "stdout",
     "output_type": "stream",
     "text": [
      "max at end of edge summation 2\n",
      "max at end of edge summation 2\n"
     ]
    },
    {
     "name": "stderr",
     "output_type": "stream",
     "text": [
      "\n",
      "\r",
      " 11%|█         | 128/1200 [01:12<10:13,  1.75it/s]"
     ]
    },
    {
     "name": "stdout",
     "output_type": "stream",
     "text": [
      "max at end of edge summation 1\n",
      "threshold 2\n",
      "percent activated pixels 0.012582465277777777\n",
      "left overlapping pixels 32069; percent of total 0.9967364953067694\n",
      "right overlapping pixels 25927; percent of total 1.0\n",
      "****update left mask run\n",
      "****update right mask run\n",
      "[0.00054803910707361674, -0.76121096411054756, 568.18459273425901]\n"
     ]
    },
    {
     "name": "stderr",
     "output_type": "stream",
     "text": [
      "\u001b[A"
     ]
    },
    {
     "name": "stdout",
     "output_type": "stream",
     "text": [
      "max at end of edge summation 2\n",
      "max at end of edge summation 2\n"
     ]
    },
    {
     "name": "stderr",
     "output_type": "stream",
     "text": [
      "\n",
      "\r",
      " 11%|█         | 129/1200 [01:13<10:20,  1.73it/s]"
     ]
    },
    {
     "name": "stdout",
     "output_type": "stream",
     "text": [
      "max at end of edge summation 2\n",
      "threshold 2\n",
      "percent activated pixels 0.012641059027777778\n",
      "left overlapping pixels 33974; percent of total 0.9975629092403911\n",
      "right overlapping pixels 23931; percent of total 1.0\n",
      "****update left mask run\n",
      "****update right mask run\n",
      "[0.00049076946275472912, -0.74945050441147498, 590.82699740821624]\n"
     ]
    },
    {
     "name": "stderr",
     "output_type": "stream",
     "text": [
      "\u001b[A"
     ]
    },
    {
     "name": "stdout",
     "output_type": "stream",
     "text": [
      "max at end of edge summation 2\n",
      "max at end of edge summation 2\n"
     ]
    },
    {
     "name": "stderr",
     "output_type": "stream",
     "text": [
      "\n",
      "\r",
      " 11%|█         | 130/1200 [01:13<10:11,  1.75it/s]"
     ]
    },
    {
     "name": "stdout",
     "output_type": "stream",
     "text": [
      "max at end of edge summation 2\n",
      "threshold 2\n",
      "percent activated pixels 0.012884114583333333\n",
      "left overlapping pixels 34731; percent of total 0.9980172413793104\n",
      "right overlapping pixels 21472; percent of total 1.0\n",
      "****update left mask run\n",
      "****update right mask run\n",
      "[5.1384195916962146e-05, -0.40844398948126526, 578.15006719979488]\n"
     ]
    },
    {
     "name": "stderr",
     "output_type": "stream",
     "text": [
      "\u001b[A"
     ]
    },
    {
     "name": "stdout",
     "output_type": "stream",
     "text": [
      "max at end of edge summation 2\n",
      "max at end of edge summation 2\n"
     ]
    },
    {
     "name": "stderr",
     "output_type": "stream",
     "text": [
      "\n",
      "\r",
      " 11%|█         | 131/1200 [01:14<10:15,  1.74it/s]"
     ]
    },
    {
     "name": "stdout",
     "output_type": "stream",
     "text": [
      "max at end of edge summation 2\n",
      "threshold 2\n",
      "percent activated pixels 0.013032769097222223\n",
      "left overlapping pixels 33831; percent of total 0.9971116154322262\n",
      "right overlapping pixels 19244; percent of total 0.9991692627206646\n",
      "****update left mask run\n",
      "****update right mask run\n",
      "[0.00093082405509703025, -0.84659682844179196, 635.93541327144953]\n"
     ]
    },
    {
     "name": "stderr",
     "output_type": "stream",
     "text": [
      "\u001b[A"
     ]
    },
    {
     "name": "stdout",
     "output_type": "stream",
     "text": [
      "max at end of edge summation 2\n",
      "max at end of edge summation 2\n"
     ]
    },
    {
     "name": "stderr",
     "output_type": "stream",
     "text": [
      "\n",
      "\r",
      " 11%|█         | 132/1200 [01:14<10:35,  1.68it/s]"
     ]
    },
    {
     "name": "stdout",
     "output_type": "stream",
     "text": [
      "max at end of edge summation 1\n",
      "threshold 2\n",
      "percent activated pixels 0.01328125\n",
      "left overlapping pixels 35618; percent of total 0.998262331838565\n",
      "right overlapping pixels 17508; percent of total 0.9982325104053823\n",
      "****update left mask run\n",
      "****update right mask run\n",
      "[0.00087068477384491527, -0.80307724769465438, 641.7365966292233]\n"
     ]
    },
    {
     "name": "stderr",
     "output_type": "stream",
     "text": [
      "\u001b[A"
     ]
    },
    {
     "name": "stdout",
     "output_type": "stream",
     "text": [
      "max at end of edge summation 2\n",
      "max at end of edge summation 2\n"
     ]
    },
    {
     "name": "stderr",
     "output_type": "stream",
     "text": [
      "\n",
      "\r",
      " 11%|█         | 133/1200 [01:15<10:21,  1.72it/s]"
     ]
    },
    {
     "name": "stdout",
     "output_type": "stream",
     "text": [
      "max at end of edge summation 2\n",
      "threshold 2\n",
      "percent activated pixels 0.013324652777777777\n",
      "left overlapping pixels 34139; percent of total 0.9984207293890562\n",
      "right overlapping pixels 16900; percent of total 0.9979332742840271\n",
      "****update left mask run\n",
      "****update right mask run\n",
      "[0.00090348172356702989, -0.80498052517878793, 638.75834108341837]\n"
     ]
    },
    {
     "name": "stderr",
     "output_type": "stream",
     "text": [
      "\u001b[A"
     ]
    },
    {
     "name": "stdout",
     "output_type": "stream",
     "text": [
      "max at end of edge summation 2\n",
      "max at end of edge summation 2\n"
     ]
    },
    {
     "name": "stderr",
     "output_type": "stream",
     "text": [
      "\n",
      "\r",
      " 11%|█         | 134/1200 [01:16<10:30,  1.69it/s]"
     ]
    },
    {
     "name": "stdout",
     "output_type": "stream",
     "text": [
      "max at end of edge summation 1\n",
      "threshold 2\n",
      "percent activated pixels 0.013132595486111112\n",
      "left overlapping pixels 32528; percent of total 0.9985571757482732\n",
      "right overlapping pixels 17382; percent of total 0.9987359227763732\n",
      "****update left mask run\n",
      "****update right mask run\n",
      "[-0.0017634034355631881, 1.6897381929037407, 100.18511079948806]\n"
     ]
    },
    {
     "name": "stderr",
     "output_type": "stream",
     "text": [
      "\u001b[A"
     ]
    },
    {
     "name": "stdout",
     "output_type": "stream",
     "text": [
      "max at end of edge summation 2\n",
      "max at end of edge summation 2\n"
     ]
    },
    {
     "name": "stderr",
     "output_type": "stream",
     "text": [
      "\n",
      "\r",
      " 11%|█▏        | 135/1200 [01:16<10:13,  1.74it/s]"
     ]
    },
    {
     "name": "stdout",
     "output_type": "stream",
     "text": [
      "max at end of edge summation 1\n",
      "threshold 2\n",
      "percent activated pixels 0.013217230902777778\n",
      "left overlapping pixels 30975; percent of total 0.9994192236956733\n",
      "right overlapping pixels 17201; percent of total 0.9968127028280018\n",
      "****update left mask run\n",
      "****update right mask run\n",
      "[0.00051488056771112215, -0.59084558769937645, 648.63265064561369]\n"
     ]
    },
    {
     "name": "stderr",
     "output_type": "stream",
     "text": [
      "\u001b[A"
     ]
    },
    {
     "name": "stdout",
     "output_type": "stream",
     "text": [
      "max at end of edge summation 2\n",
      "max at end of edge summation 2\n"
     ]
    },
    {
     "name": "stderr",
     "output_type": "stream",
     "text": [
      "\n",
      "\r",
      " 11%|█▏        | 136/1200 [01:17<10:29,  1.69it/s]"
     ]
    },
    {
     "name": "stdout",
     "output_type": "stream",
     "text": [
      "max at end of edge summation 1\n",
      "threshold 2\n",
      "percent activated pixels 0.013334418402777777\n",
      "left overlapping pixels 29342; percent of total 0.999795556767071\n",
      "right overlapping pixels 15467; percent of total 0.9942148229093013\n",
      "****update left mask run\n",
      "****update right mask run\n",
      "[-0.00027136917840679025, -0.16106155996816374, 617.01919144507247]\n"
     ]
    },
    {
     "name": "stderr",
     "output_type": "stream",
     "text": [
      "\u001b[A"
     ]
    },
    {
     "name": "stdout",
     "output_type": "stream",
     "text": [
      "max at end of edge summation 2\n",
      "max at end of edge summation 2\n"
     ]
    },
    {
     "name": "stderr",
     "output_type": "stream",
     "text": [
      "\n",
      "\r",
      " 11%|█▏        | 137/1200 [01:17<10:15,  1.73it/s]"
     ]
    },
    {
     "name": "stdout",
     "output_type": "stream",
     "text": [
      "max at end of edge summation 2\n",
      "threshold 2\n",
      "percent activated pixels 0.013682725694444444\n",
      "left overlapping pixels 28300; percent of total 1.0\n",
      "right overlapping pixels 15433; percent of total 0.9941381087348622\n",
      "****update left mask run\n",
      "****update right mask run\n",
      "[-0.001509936791053503, 0.82048782289185573, 404.96756771727678]\n"
     ]
    },
    {
     "name": "stderr",
     "output_type": "stream",
     "text": [
      "\u001b[A"
     ]
    },
    {
     "name": "stdout",
     "output_type": "stream",
     "text": [
      "max at end of edge summation 2\n",
      "max at end of edge summation 2\n"
     ]
    },
    {
     "name": "stderr",
     "output_type": "stream",
     "text": [
      "\n",
      "\r",
      " 12%|█▏        | 138/1200 [01:18<10:27,  1.69it/s]"
     ]
    },
    {
     "name": "stdout",
     "output_type": "stream",
     "text": [
      "max at end of edge summation 1\n",
      "threshold 2\n",
      "percent activated pixels 0.013946397569444444\n",
      "left overlapping pixels 27146; percent of total 1.0\n",
      "right overlapping pixels 15454; percent of total 0.9935707856499936\n",
      "****update left mask run\n",
      "****update right mask run\n",
      "[-0.0016666743600632704, 0.92233010064906362, 400.74023095738556]\n"
     ]
    },
    {
     "name": "stderr",
     "output_type": "stream",
     "text": [
      "\u001b[A"
     ]
    },
    {
     "name": "stdout",
     "output_type": "stream",
     "text": [
      "max at end of edge summation 2\n",
      "max at end of edge summation 2\n"
     ]
    },
    {
     "name": "stderr",
     "output_type": "stream",
     "text": [
      "\n",
      "\r",
      " 12%|█▏        | 139/1200 [01:18<10:16,  1.72it/s]"
     ]
    },
    {
     "name": "stdout",
     "output_type": "stream",
     "text": [
      "max at end of edge summation 1\n",
      "threshold 2\n",
      "percent activated pixels 0.014344618055555555\n",
      "left overlapping pixels 26013; percent of total 1.0\n",
      "right overlapping pixels 15337; percent of total 0.9960384465515002\n",
      "****update left mask run\n",
      "****update right mask run\n",
      "[-0.0023929463862577497, 1.5012985910880356, 312.31254376732841]\n"
     ]
    },
    {
     "name": "stderr",
     "output_type": "stream",
     "text": [
      "\u001b[A"
     ]
    },
    {
     "name": "stdout",
     "output_type": "stream",
     "text": [
      "max at end of edge summation 2\n",
      "max at end of edge summation 2\n",
      "max at end of edge summation 1\n",
      "threshold 2\n",
      "percent activated pixels 0.014404296875\n",
      "left overlapping pixels 24319; percent of total 1.0\n",
      "right overlapping pixels 16311; percent of total 0.9926967317874749\n",
      "****update left mask run\n",
      "****update right mask run\n",
      "[-0.0018846975264191252, 1.1851401137586115, 327.11375336363386]\n"
     ]
    },
    {
     "name": "stderr",
     "output_type": "stream",
     "text": [
      "\n",
      " 12%|█▏        | 140/1200 [01:20<12:43,  1.39it/s]\u001b[A"
     ]
    },
    {
     "name": "stdout",
     "output_type": "stream",
     "text": [
      "max at end of edge summation 2\n",
      "max at end of edge summation 2\n"
     ]
    },
    {
     "name": "stderr",
     "output_type": "stream",
     "text": [
      "\n",
      "\r",
      " 12%|█▏        | 141/1200 [01:20<11:59,  1.47it/s]"
     ]
    },
    {
     "name": "stdout",
     "output_type": "stream",
     "text": [
      "max at end of edge summation 1\n",
      "threshold 2\n",
      "percent activated pixels 0.014790581597222222\n",
      "left overlapping pixels 24185; percent of total 1.0\n",
      "right overlapping pixels 17453; percent of total 0.9927758816837315\n",
      "****update left mask run\n",
      "****update right mask run\n",
      "[-0.0014669922512109415, 1.0981642454332807, 243.75099516919494]\n"
     ]
    },
    {
     "name": "stderr",
     "output_type": "stream",
     "text": [
      "\u001b[A"
     ]
    },
    {
     "name": "stdout",
     "output_type": "stream",
     "text": [
      "max at end of edge summation 2\n",
      "max at end of edge summation 2\n"
     ]
    },
    {
     "name": "stderr",
     "output_type": "stream",
     "text": [
      "\n",
      "\r",
      " 12%|█▏        | 142/1200 [01:21<11:42,  1.51it/s]"
     ]
    },
    {
     "name": "stdout",
     "output_type": "stream",
     "text": [
      "max at end of edge summation 1\n",
      "threshold 2\n",
      "percent activated pixels 0.015053168402777779\n",
      "left overlapping pixels 22726; percent of total 1.0\n",
      "right overlapping pixels 18965; percent of total 0.9957994224205828\n",
      "****update left mask run\n",
      "****update right mask run\n",
      "[0.0010088350966598362, -0.68127355029683589, 416.67771590667246]\n"
     ]
    },
    {
     "name": "stderr",
     "output_type": "stream",
     "text": [
      "\u001b[A"
     ]
    },
    {
     "name": "stdout",
     "output_type": "stream",
     "text": [
      "max at end of edge summation 2\n",
      "max at end of edge summation 2\n"
     ]
    },
    {
     "name": "stderr",
     "output_type": "stream",
     "text": [
      "\n",
      "\r",
      " 12%|█▏        | 143/1200 [01:21<10:59,  1.60it/s]"
     ]
    },
    {
     "name": "stdout",
     "output_type": "stream",
     "text": [
      "max at end of edge summation 1\n",
      "threshold 2\n",
      "percent activated pixels 0.0153125\n",
      "left overlapping pixels 22032; percent of total 1.0\n",
      "right overlapping pixels 19424; percent of total 0.9943178909649347\n",
      "****update left mask run\n",
      "****update right mask run\n",
      "[-0.00027026132929584037, 0.33103552551405718, 360.67856516047777]\n"
     ]
    },
    {
     "name": "stderr",
     "output_type": "stream",
     "text": [
      "\u001b[A"
     ]
    },
    {
     "name": "stdout",
     "output_type": "stream",
     "text": [
      "max at end of edge summation 2\n",
      "max at end of edge summation 2\n"
     ]
    },
    {
     "name": "stderr",
     "output_type": "stream",
     "text": [
      "\n",
      "\r",
      " 12%|█▏        | 144/1200 [01:22<10:57,  1.60it/s]"
     ]
    },
    {
     "name": "stdout",
     "output_type": "stream",
     "text": [
      "max at end of edge summation 2\n",
      "threshold 2\n",
      "percent activated pixels 0.015150824652777778\n",
      "left overlapping pixels 21803; percent of total 1.0\n",
      "right overlapping pixels 19736; percent of total 0.994958661020367\n",
      "****update left mask run\n",
      "****update right mask run\n",
      "[0.0012453224148648722, -0.93316722642200678, 472.11305366945857]\n"
     ]
    },
    {
     "name": "stderr",
     "output_type": "stream",
     "text": [
      "\u001b[A"
     ]
    },
    {
     "name": "stdout",
     "output_type": "stream",
     "text": [
      "max at end of edge summation 2\n",
      "max at end of edge summation 2\n"
     ]
    },
    {
     "name": "stderr",
     "output_type": "stream",
     "text": [
      "\n",
      "\r",
      " 12%|█▏        | 145/1200 [01:22<10:31,  1.67it/s]"
     ]
    },
    {
     "name": "stdout",
     "output_type": "stream",
     "text": [
      "max at end of edge summation 1\n",
      "threshold 2\n",
      "percent activated pixels 0.014908854166666667\n",
      "left overlapping pixels 21474; percent of total 0.9980015801459311\n",
      "right overlapping pixels 18723; percent of total 0.9960632015747194\n",
      "****update left mask run\n",
      "****update right mask run\n",
      "[0.0017939846870633996, -1.3046952904751214, 498.90735990810697]\n"
     ]
    },
    {
     "name": "stderr",
     "output_type": "stream",
     "text": [
      "\u001b[A"
     ]
    },
    {
     "name": "stdout",
     "output_type": "stream",
     "text": [
      "max at end of edge summation 2\n",
      "max at end of edge summation 1\n"
     ]
    },
    {
     "name": "stderr",
     "output_type": "stream",
     "text": [
      "\n",
      "\r",
      " 12%|█▏        | 146/1200 [01:23<10:31,  1.67it/s]"
     ]
    },
    {
     "name": "stdout",
     "output_type": "stream",
     "text": [
      "max at end of edge summation 1\n",
      "threshold 2\n",
      "percent activated pixels 0.014916449652777778\n",
      "left overlapping pixels 21066; percent of total 0.9981048043210462\n",
      "right overlapping pixels 19665; percent of total 0.9943368559437731\n",
      "****update left mask run\n",
      "****update right mask run\n",
      "[0.0013595308874486858, -1.0124587301911241, 482.40554391018259]\n"
     ]
    },
    {
     "name": "stderr",
     "output_type": "stream",
     "text": [
      "\u001b[A"
     ]
    },
    {
     "name": "stdout",
     "output_type": "stream",
     "text": [
      "max at end of edge summation 2\n",
      "max at end of edge summation 2\n"
     ]
    },
    {
     "name": "stderr",
     "output_type": "stream",
     "text": [
      "\n",
      "\r",
      " 12%|█▏        | 147/1200 [01:24<10:27,  1.68it/s]"
     ]
    },
    {
     "name": "stdout",
     "output_type": "stream",
     "text": [
      "max at end of edge summation 2\n",
      "threshold 2\n",
      "percent activated pixels 0.01472439236111111\n",
      "left overlapping pixels 22292; percent of total 0.998253548878241\n",
      "right overlapping pixels 20474; percent of total 0.9950911300121507\n",
      "****update left mask run\n",
      "****update right mask run\n",
      "[-0.0012119946207770976, 0.72460981117003598, 371.54854419880638]\n"
     ]
    },
    {
     "name": "stderr",
     "output_type": "stream",
     "text": [
      "\u001b[A"
     ]
    },
    {
     "name": "stdout",
     "output_type": "stream",
     "text": [
      "max at end of edge summation 2\n",
      "max at end of edge summation 2\n"
     ]
    },
    {
     "name": "stderr",
     "output_type": "stream",
     "text": [
      "\n",
      "\r",
      " 12%|█▏        | 148/1200 [01:24<10:13,  1.71it/s]"
     ]
    },
    {
     "name": "stdout",
     "output_type": "stream",
     "text": [
      "max at end of edge summation 2\n",
      "threshold 2\n",
      "percent activated pixels 0.014735243055555555\n",
      "left overlapping pixels 23193; percent of total 0.9987081772380829\n",
      "right overlapping pixels 19168; percent of total 0.9948100477475608\n",
      "****update left mask run\n",
      "****update right mask run\n",
      "[0.00020494439212934747, -0.07383189215769155, 357.0085788336682]\n"
     ]
    },
    {
     "name": "stderr",
     "output_type": "stream",
     "text": [
      "\u001b[A"
     ]
    },
    {
     "name": "stdout",
     "output_type": "stream",
     "text": [
      "max at end of edge summation 2\n",
      "max at end of edge summation 2\n"
     ]
    },
    {
     "name": "stderr",
     "output_type": "stream",
     "text": [
      "\n",
      "\r",
      " 12%|█▏        | 149/1200 [01:25<10:16,  1.71it/s]"
     ]
    },
    {
     "name": "stdout",
     "output_type": "stream",
     "text": [
      "max at end of edge summation 2\n",
      "threshold 2\n",
      "percent activated pixels 0.0148828125\n",
      "left overlapping pixels 23150; percent of total 0.9981029576614642\n",
      "right overlapping pixels 19937; percent of total 0.9946121227238713\n",
      "****update left mask run\n",
      "****update right mask run\n",
      "[0.0014120075456833907, -1.0780050820148479, 510.48492042436453]\n"
     ]
    },
    {
     "name": "stderr",
     "output_type": "stream",
     "text": [
      "\u001b[A"
     ]
    },
    {
     "name": "stdout",
     "output_type": "stream",
     "text": [
      "max at end of edge summation 2\n",
      "max at end of edge summation 1\n"
     ]
    },
    {
     "name": "stderr",
     "output_type": "stream",
     "text": [
      "\n",
      "\r",
      " 12%|█▎        | 150/1200 [01:25<10:05,  1.73it/s]"
     ]
    },
    {
     "name": "stdout",
     "output_type": "stream",
     "text": [
      "max at end of edge summation 2\n",
      "threshold 2\n",
      "percent activated pixels 0.015141059027777778\n",
      "left overlapping pixels 24007; percent of total 0.9973411989530971\n",
      "right overlapping pixels 19723; percent of total 0.994253163280738\n",
      "****update left mask run\n",
      "****update right mask run\n",
      "[-0.0027115299396222288, 2.4807664688087057, -32.62351089044877]\n"
     ]
    },
    {
     "name": "stderr",
     "output_type": "stream",
     "text": [
      "\u001b[A"
     ]
    },
    {
     "name": "stdout",
     "output_type": "stream",
     "text": [
      "max at end of edge summation 2\n",
      "max at end of edge summation 2\n"
     ]
    },
    {
     "name": "stderr",
     "output_type": "stream",
     "text": [
      "\n",
      "\r",
      " 13%|█▎        | 151/1200 [01:26<10:08,  1.72it/s]"
     ]
    },
    {
     "name": "stdout",
     "output_type": "stream",
     "text": [
      "max at end of edge summation 2\n",
      "threshold 2\n",
      "percent activated pixels 0.01506076388888889\n",
      "left overlapping pixels 24014; percent of total 0.9975076846390296\n",
      "right overlapping pixels 19356; percent of total 0.994655704008222\n",
      "****update left mask run\n",
      "****update right mask run\n",
      "[-0.0034083593370138601, 2.6954222314219081, -19.888756206141963]\n"
     ]
    },
    {
     "name": "stderr",
     "output_type": "stream",
     "text": [
      "\u001b[A"
     ]
    },
    {
     "name": "stdout",
     "output_type": "stream",
     "text": [
      "max at end of edge summation 2\n",
      "max at end of edge summation 2\n"
     ]
    },
    {
     "name": "stderr",
     "output_type": "stream",
     "text": [
      "\n",
      "\r",
      " 13%|█▎        | 152/1200 [01:26<10:03,  1.74it/s]"
     ]
    },
    {
     "name": "stdout",
     "output_type": "stream",
     "text": [
      "max at end of edge summation 2\n",
      "threshold 2\n",
      "percent activated pixels 0.014388020833333333\n",
      "left overlapping pixels 24401; percent of total 0.9980775523560209\n",
      "right overlapping pixels 19646; percent of total 0.9940295486743574\n",
      "****update left mask run\n",
      "****update right mask run\n",
      "[-0.0014780091951476242, 1.3915350415589214, 69.261726145530474]\n"
     ]
    },
    {
     "name": "stderr",
     "output_type": "stream",
     "text": [
      "\u001b[A"
     ]
    },
    {
     "name": "stdout",
     "output_type": "stream",
     "text": [
      "max at end of edge summation 2\n",
      "max at end of edge summation 2\n"
     ]
    },
    {
     "name": "stderr",
     "output_type": "stream",
     "text": [
      "\n",
      "\r",
      " 13%|█▎        | 153/1200 [01:27<10:21,  1.68it/s]"
     ]
    },
    {
     "name": "stdout",
     "output_type": "stream",
     "text": [
      "max at end of edge summation 2\n",
      "threshold 2\n",
      "percent activated pixels 0.014159071180555555\n",
      "left overlapping pixels 25131; percent of total 0.9974202254326083\n",
      "right overlapping pixels 21784; percent of total 0.9955669302134271\n",
      "****update left mask run\n",
      "****update right mask run\n",
      "[-0.0020843642484782497, 1.8419264694306554, 23.301474605474411]\n"
     ]
    },
    {
     "name": "stderr",
     "output_type": "stream",
     "text": [
      "\u001b[A"
     ]
    },
    {
     "name": "stdout",
     "output_type": "stream",
     "text": [
      "max at end of edge summation 2\n",
      "max at end of edge summation 2\n"
     ]
    },
    {
     "name": "stderr",
     "output_type": "stream",
     "text": [
      "\n",
      "\r",
      " 13%|█▎        | 154/1200 [01:28<10:12,  1.71it/s]"
     ]
    },
    {
     "name": "stdout",
     "output_type": "stream",
     "text": [
      "max at end of edge summation 2\n",
      "threshold 2\n",
      "percent activated pixels 0.013932291666666667\n",
      "left overlapping pixels 25070; percent of total 0.9960665898525964\n",
      "right overlapping pixels 21140; percent of total 0.9960891485652358\n",
      "****update left mask run\n",
      "****update right mask run\n",
      "[-0.0012199342060722458, 1.4423438564421924, 60.66162906296374]\n"
     ]
    },
    {
     "name": "stderr",
     "output_type": "stream",
     "text": [
      "\u001b[A"
     ]
    },
    {
     "name": "stdout",
     "output_type": "stream",
     "text": [
      "max at end of edge summation 2\n",
      "max at end of edge summation 1\n"
     ]
    },
    {
     "name": "stderr",
     "output_type": "stream",
     "text": [
      "\n",
      "\r",
      " 13%|█▎        | 155/1200 [01:28<10:16,  1.69it/s]"
     ]
    },
    {
     "name": "stdout",
     "output_type": "stream",
     "text": [
      "max at end of edge summation 2\n",
      "threshold 2\n",
      "percent activated pixels 0.013473307291666667\n",
      "left overlapping pixels 25770; percent of total 0.9977930073179231\n",
      "right overlapping pixels 22673; percent of total 0.9952592072340986\n",
      "****update left mask run\n",
      "****update right mask run\n",
      "[-0.00050851812871975774, 0.50937866671331311, 272.40687391219421]\n"
     ]
    },
    {
     "name": "stderr",
     "output_type": "stream",
     "text": [
      "\u001b[A"
     ]
    },
    {
     "name": "stdout",
     "output_type": "stream",
     "text": [
      "max at end of edge summation 2\n",
      "max at end of edge summation 2\n"
     ]
    },
    {
     "name": "stderr",
     "output_type": "stream",
     "text": [
      "\n",
      "\r",
      " 13%|█▎        | 156/1200 [01:29<10:09,  1.71it/s]"
     ]
    },
    {
     "name": "stdout",
     "output_type": "stream",
     "text": [
      "max at end of edge summation 2\n",
      "threshold 2\n",
      "percent activated pixels 0.013406032986111111\n",
      "left overlapping pixels 25826; percent of total 0.9988010983486096\n",
      "right overlapping pixels 21841; percent of total 0.9980350941326996\n",
      "****update left mask run\n",
      "****update right mask run\n",
      "[-0.001149855056407985, 1.4085096757014688, -30.681109131883659]\n"
     ]
    },
    {
     "name": "stderr",
     "output_type": "stream",
     "text": [
      "\u001b[A"
     ]
    },
    {
     "name": "stdout",
     "output_type": "stream",
     "text": [
      "max at end of edge summation 2\n",
      "max at end of edge summation 1\n"
     ]
    },
    {
     "name": "stderr",
     "output_type": "stream",
     "text": [
      "\n",
      "\r",
      " 13%|█▎        | 157/1200 [01:29<10:15,  1.70it/s]"
     ]
    },
    {
     "name": "stdout",
     "output_type": "stream",
     "text": [
      "max at end of edge summation 1\n",
      "threshold 2\n",
      "percent activated pixels 0.013037109375\n",
      "left overlapping pixels 25242; percent of total 0.9972345132743363\n",
      "right overlapping pixels 20768; percent of total 0.9952556668423828\n",
      "****update left mask run\n",
      "****update right mask run\n",
      "[-5.8823710432862227e-05, 0.19165131712569528, 302.75326859218609]\n"
     ]
    },
    {
     "name": "stderr",
     "output_type": "stream",
     "text": [
      "\u001b[A"
     ]
    },
    {
     "name": "stdout",
     "output_type": "stream",
     "text": [
      "max at end of edge summation 2\n",
      "max at end of edge summation 2\n"
     ]
    },
    {
     "name": "stderr",
     "output_type": "stream",
     "text": [
      "\n",
      "\r",
      " 13%|█▎        | 158/1200 [01:30<10:07,  1.71it/s]"
     ]
    },
    {
     "name": "stdout",
     "output_type": "stream",
     "text": [
      "max at end of edge summation 1\n",
      "threshold 2\n",
      "percent activated pixels 0.01279079861111111\n",
      "left overlapping pixels 24381; percent of total 1.0\n",
      "right overlapping pixels 22133; percent of total 0.9952335986330321\n",
      "****update left mask run\n",
      "****update right mask run\n",
      "[-0.0025139250478529262, 2.3922190169102469, -109.08723028976051]\n"
     ]
    },
    {
     "name": "stderr",
     "output_type": "stream",
     "text": [
      "\u001b[A"
     ]
    },
    {
     "name": "stdout",
     "output_type": "stream",
     "text": [
      "max at end of edge summation 2\n",
      "max at end of edge summation 2\n"
     ]
    },
    {
     "name": "stderr",
     "output_type": "stream",
     "text": [
      "\n",
      "\r",
      " 13%|█▎        | 159/1200 [01:31<10:11,  1.70it/s]"
     ]
    },
    {
     "name": "stdout",
     "output_type": "stream",
     "text": [
      "max at end of edge summation 1\n",
      "threshold 2\n",
      "percent activated pixels 0.01227756076388889\n",
      "left overlapping pixels 21895; percent of total 1.0\n",
      "right overlapping pixels 23099; percent of total 0.9979262971443383\n",
      "****update left mask run\n",
      "****update right mask run\n",
      "[-0.0004425703330317532, 0.61198397311619568, 206.80500193873581]\n"
     ]
    },
    {
     "name": "stderr",
     "output_type": "stream",
     "text": [
      "\u001b[A"
     ]
    },
    {
     "name": "stdout",
     "output_type": "stream",
     "text": [
      "max at end of edge summation 2\n",
      "max at end of edge summation 1\n"
     ]
    },
    {
     "name": "stderr",
     "output_type": "stream",
     "text": [
      "\n",
      "\r",
      " 13%|█▎        | 160/1200 [01:31<10:03,  1.72it/s]"
     ]
    },
    {
     "name": "stdout",
     "output_type": "stream",
     "text": [
      "max at end of edge summation 1\n",
      "threshold 2\n",
      "percent activated pixels 0.012188585069444445\n",
      "left overlapping pixels 20477; percent of total 1.0\n",
      "right overlapping pixels 21355; percent of total 0.9995787305747987\n",
      "****update left mask run\n",
      "****update right mask run\n",
      "[-0.0006122866621121781, 0.78619727391375038, 137.31044818327322]\n"
     ]
    },
    {
     "name": "stderr",
     "output_type": "stream",
     "text": [
      "\u001b[A"
     ]
    },
    {
     "name": "stdout",
     "output_type": "stream",
     "text": [
      "max at end of edge summation 2\n",
      "max at end of edge summation 2\n"
     ]
    },
    {
     "name": "stderr",
     "output_type": "stream",
     "text": [
      "\n",
      "\r",
      " 13%|█▎        | 161/1200 [01:32<10:08,  1.71it/s]"
     ]
    },
    {
     "name": "stdout",
     "output_type": "stream",
     "text": [
      "max at end of edge summation 1\n",
      "threshold 2\n",
      "percent activated pixels 0.012701822916666666\n",
      "left overlapping pixels 18603; percent of total 1.0\n",
      "right overlapping pixels 18617; percent of total 0.9995168044668743\n",
      "****update left mask run\n",
      "****update right mask run\n",
      "[-0.00013997365781002894, 0.60999155993901, 101.25151235980613]\n"
     ]
    },
    {
     "name": "stderr",
     "output_type": "stream",
     "text": [
      "\u001b[A"
     ]
    },
    {
     "name": "stdout",
     "output_type": "stream",
     "text": [
      "max at end of edge summation 2\n",
      "max at end of edge summation 2\n"
     ]
    },
    {
     "name": "stderr",
     "output_type": "stream",
     "text": [
      "\n",
      "\r",
      " 14%|█▎        | 162/1200 [01:32<09:58,  1.73it/s]"
     ]
    },
    {
     "name": "stdout",
     "output_type": "stream",
     "text": [
      "max at end of edge summation 1\n",
      "threshold 2\n",
      "percent activated pixels 0.012497829861111111\n",
      "left overlapping pixels 17553; percent of total 1.0\n",
      "right overlapping pixels 17149; percent of total 1.0\n",
      "****update left mask run\n",
      "****update right mask run\n",
      "[0.0023097730755737753, -1.1387383687990829, 248.16117863483854]\n"
     ]
    },
    {
     "name": "stderr",
     "output_type": "stream",
     "text": [
      "\u001b[A"
     ]
    },
    {
     "name": "stdout",
     "output_type": "stream",
     "text": [
      "max at end of edge summation 2\n",
      "max at end of edge summation 1\n"
     ]
    },
    {
     "name": "stderr",
     "output_type": "stream",
     "text": [
      "\n",
      "\r",
      " 14%|█▎        | 163/1200 [01:33<10:10,  1.70it/s]"
     ]
    },
    {
     "name": "stdout",
     "output_type": "stream",
     "text": [
      "max at end of edge summation 1\n",
      "threshold 2\n",
      "percent activated pixels 0.012496744791666667\n",
      "left overlapping pixels 16038; percent of total 1.0\n",
      "right overlapping pixels 13521; percent of total 1.0\n",
      "****update left mask run\n",
      "****update right mask run\n",
      "[0.0021601518984225468, -1.1223269107238831, 350.0517852405344]\n"
     ]
    },
    {
     "name": "stderr",
     "output_type": "stream",
     "text": [
      "\u001b[A"
     ]
    },
    {
     "name": "stdout",
     "output_type": "stream",
     "text": [
      "max at end of edge summation 2\n",
      "max at end of edge summation 2\n"
     ]
    },
    {
     "name": "stderr",
     "output_type": "stream",
     "text": [
      "\n",
      "\r",
      " 14%|█▎        | 164/1200 [01:33<09:58,  1.73it/s]"
     ]
    },
    {
     "name": "stdout",
     "output_type": "stream",
     "text": [
      "max at end of edge summation 1\n",
      "threshold 2\n",
      "percent activated pixels 0.012396918402777778\n",
      "left overlapping pixels 14029; percent of total 1.0\n",
      "right overlapping pixels 12862; percent of total 1.0\n",
      "****update left mask run\n",
      "****update right mask run\n",
      "[0.0014997815075364507, -0.99414093104027956, 518.91624340028056]\n"
     ]
    },
    {
     "name": "stderr",
     "output_type": "stream",
     "text": [
      "\u001b[A"
     ]
    },
    {
     "name": "stdout",
     "output_type": "stream",
     "text": [
      "max at end of edge summation 2\n",
      "max at end of edge summation 2\n"
     ]
    },
    {
     "name": "stderr",
     "output_type": "stream",
     "text": [
      "\n",
      "\r",
      " 14%|█▍        | 165/1200 [01:34<10:02,  1.72it/s]"
     ]
    },
    {
     "name": "stdout",
     "output_type": "stream",
     "text": [
      "max at end of edge summation 2\n",
      "threshold 2\n",
      "percent activated pixels 0.012272135416666666\n",
      "left overlapping pixels 13952; percent of total 1.0\n",
      "right overlapping pixels 12175; percent of total 1.0\n",
      "****update left mask run\n",
      "****update right mask run\n",
      "[0.0015452956418446936, -1.2209461954615124, 549.60463634852943]\n"
     ]
    },
    {
     "name": "stderr",
     "output_type": "stream",
     "text": [
      "\u001b[A"
     ]
    },
    {
     "name": "stdout",
     "output_type": "stream",
     "text": [
      "max at end of edge summation 2\n",
      "max at end of edge summation 2\n"
     ]
    },
    {
     "name": "stderr",
     "output_type": "stream",
     "text": [
      "\n",
      "\r",
      " 14%|█▍        | 166/1200 [01:35<09:50,  1.75it/s]"
     ]
    },
    {
     "name": "stdout",
     "output_type": "stream",
     "text": [
      "max at end of edge summation 1\n",
      "threshold 2\n",
      "percent activated pixels 0.011646050347222223\n",
      "left overlapping pixels 12920; percent of total 1.0\n",
      "right overlapping pixels 10153; percent of total 1.0\n",
      "****update left mask run\n",
      "****update right mask run\n",
      "[-0.00059692294909433345, 0.5622845233479199, 298.62185786295913]\n"
     ]
    },
    {
     "name": "stderr",
     "output_type": "stream",
     "text": [
      "\u001b[A"
     ]
    },
    {
     "name": "stdout",
     "output_type": "stream",
     "text": [
      "max at end of edge summation 2\n",
      "max at end of edge summation 2\n"
     ]
    },
    {
     "name": "stderr",
     "output_type": "stream",
     "text": [
      "\n",
      "\r",
      " 14%|█▍        | 167/1200 [01:35<09:53,  1.74it/s]"
     ]
    },
    {
     "name": "stdout",
     "output_type": "stream",
     "text": [
      "max at end of edge summation 1\n",
      "threshold 2\n",
      "percent activated pixels 0.011898871527777778\n",
      "left overlapping pixels 13428; percent of total 1.0\n",
      "right overlapping pixels 8844; percent of total 1.0\n",
      "****update left mask run\n",
      "****update right mask run\n",
      "[0.0011869756950214504, -0.91677162322246097, 498.65621343004659]\n"
     ]
    },
    {
     "name": "stderr",
     "output_type": "stream",
     "text": [
      "\u001b[A"
     ]
    },
    {
     "name": "stdout",
     "output_type": "stream",
     "text": [
      "max at end of edge summation 2\n",
      "max at end of edge summation 2\n"
     ]
    },
    {
     "name": "stderr",
     "output_type": "stream",
     "text": [
      "\n",
      "\r",
      " 14%|█▍        | 168/1200 [01:36<09:46,  1.76it/s]"
     ]
    },
    {
     "name": "stdout",
     "output_type": "stream",
     "text": [
      "max at end of edge summation 1\n",
      "threshold 2\n",
      "percent activated pixels 0.0116015625\n",
      "left overlapping pixels 13511; percent of total 1.0\n",
      "right overlapping pixels 6831; percent of total 1.0\n",
      "****update left mask run\n",
      "****update right mask run\n",
      "[0.0013103777765468352, -0.84772638507863318, 460.56218327905844]\n"
     ]
    },
    {
     "name": "stderr",
     "output_type": "stream",
     "text": [
      "\u001b[A"
     ]
    },
    {
     "name": "stdout",
     "output_type": "stream",
     "text": [
      "max at end of edge summation 2\n",
      "max at end of edge summation 2\n"
     ]
    },
    {
     "name": "stderr",
     "output_type": "stream",
     "text": [
      "\n",
      "\r",
      " 14%|█▍        | 169/1200 [01:36<09:51,  1.74it/s]"
     ]
    },
    {
     "name": "stdout",
     "output_type": "stream",
     "text": [
      "max at end of edge summation 1\n",
      "threshold 2\n",
      "percent activated pixels 0.011063368055555555\n",
      "left overlapping pixels 13415; percent of total 1.0\n",
      "right overlapping pixels 5669; percent of total 1.0\n",
      "****update left mask run\n",
      "****update right mask run\n",
      "[0.001094685709361939, -0.76067371074059553, 424.65098875533135]\n"
     ]
    },
    {
     "name": "stderr",
     "output_type": "stream",
     "text": [
      "\u001b[A"
     ]
    },
    {
     "name": "stdout",
     "output_type": "stream",
     "text": [
      "max at end of edge summation 2\n",
      "max at end of edge summation 2\n"
     ]
    },
    {
     "name": "stderr",
     "output_type": "stream",
     "text": [
      "\n",
      "\r",
      " 14%|█▍        | 170/1200 [01:37<09:40,  1.77it/s]"
     ]
    },
    {
     "name": "stdout",
     "output_type": "stream",
     "text": [
      "max at end of edge summation 1\n",
      "threshold 2\n",
      "percent activated pixels 0.010589192708333334\n",
      "left overlapping pixels 13867; percent of total 1.0\n",
      "right overlapping pixels 5273; percent of total 1.0\n",
      "****update left mask run\n",
      "****update right mask run\n",
      "[0.00099989536980618935, -0.66466150836571936, 414.9734568099193]\n"
     ]
    },
    {
     "name": "stderr",
     "output_type": "stream",
     "text": [
      "\u001b[A"
     ]
    },
    {
     "name": "stdout",
     "output_type": "stream",
     "text": [
      "max at end of edge summation 2\n",
      "max at end of edge summation 1\n"
     ]
    },
    {
     "name": "stderr",
     "output_type": "stream",
     "text": [
      "\n",
      "\r",
      " 14%|█▍        | 171/1200 [01:37<09:50,  1.74it/s]"
     ]
    },
    {
     "name": "stdout",
     "output_type": "stream",
     "text": [
      "max at end of edge summation 1\n",
      "threshold 2\n",
      "percent activated pixels 0.010135633680555556\n",
      "left overlapping pixels 13222; percent of total 1.0\n",
      "right overlapping pixels 5952; percent of total 1.0\n",
      "****update left mask run\n",
      "****update right mask run\n",
      "[0.0021293936988004457, -1.3733389017328121, 496.12673181596875]\n"
     ]
    },
    {
     "name": "stderr",
     "output_type": "stream",
     "text": [
      "\u001b[A"
     ]
    },
    {
     "name": "stdout",
     "output_type": "stream",
     "text": [
      "max at end of edge summation 2\n",
      "max at end of edge summation 2\n"
     ]
    },
    {
     "name": "stderr",
     "output_type": "stream",
     "text": [
      "\n",
      "\r",
      " 14%|█▍        | 172/1200 [01:38<09:39,  1.78it/s]"
     ]
    },
    {
     "name": "stdout",
     "output_type": "stream",
     "text": [
      "max at end of edge summation 2\n",
      "threshold 2\n",
      "percent activated pixels 0.01025390625\n",
      "left overlapping pixels 11942; percent of total 1.0\n",
      "right overlapping pixels 4818; percent of total 1.0\n",
      "****update left mask run\n",
      "****update right mask run\n",
      "[0.00162680717886224, -0.87485380035975913, 443.79448495220208]\n"
     ]
    },
    {
     "name": "stderr",
     "output_type": "stream",
     "text": [
      "\u001b[A"
     ]
    },
    {
     "name": "stdout",
     "output_type": "stream",
     "text": [
      "max at end of edge summation 2\n",
      "max at end of edge summation 2\n"
     ]
    },
    {
     "name": "stderr",
     "output_type": "stream",
     "text": [
      "\n",
      "\r",
      " 14%|█▍        | 173/1200 [01:39<09:47,  1.75it/s]"
     ]
    },
    {
     "name": "stdout",
     "output_type": "stream",
     "text": [
      "max at end of edge summation 1\n",
      "threshold 2\n",
      "percent activated pixels 0.010166015625\n",
      "left overlapping pixels 12394; percent of total 1.0\n",
      "right overlapping pixels 3644; percent of total 1.0\n",
      "****update left mask run\n",
      "****update right mask run\n",
      "[0.00032230715732072858, -0.24118396028846867, 545.08532391467213]\n"
     ]
    },
    {
     "name": "stderr",
     "output_type": "stream",
     "text": [
      "\u001b[A"
     ]
    },
    {
     "name": "stdout",
     "output_type": "stream",
     "text": [
      "max at end of edge summation 2\n",
      "max at end of edge summation 2\n",
      "max at end of edge summation 1\n",
      "threshold 2\n",
      "percent activated pixels 0.00984375\n",
      "left overlapping pixels 11546; percent of total 1.0\n",
      "right overlapping pixels 2791; percent of total 1.0\n",
      "****update left mask run\n",
      "****update right mask run\n",
      "[-0.00045761092339223529, 0.46101495256170755, 404.73020783832374]\n"
     ]
    },
    {
     "name": "stderr",
     "output_type": "stream",
     "text": [
      "\n",
      " 14%|█▍        | 174/1200 [01:40<11:59,  1.43it/s]\u001b[A"
     ]
    },
    {
     "name": "stdout",
     "output_type": "stream",
     "text": [
      "max at end of edge summation 2\n",
      "max at end of edge summation 2\n"
     ]
    },
    {
     "name": "stderr",
     "output_type": "stream",
     "text": [
      "\n",
      "\r",
      " 15%|█▍        | 175/1200 [01:40<11:59,  1.42it/s]"
     ]
    },
    {
     "name": "stdout",
     "output_type": "stream",
     "text": [
      "max at end of edge summation 1\n",
      "threshold 2\n",
      "percent activated pixels 0.01008029513888889\n",
      "left overlapping pixels 11732; percent of total 1.0\n",
      "right overlapping pixels 2960; percent of total 1.0\n",
      "****update left mask run\n",
      "****update right mask run\n",
      "[-0.00053376016297691266, 0.25514065067671099, 481.05201351575897]\n"
     ]
    },
    {
     "name": "stderr",
     "output_type": "stream",
     "text": [
      "\u001b[A"
     ]
    },
    {
     "name": "stdout",
     "output_type": "stream",
     "text": [
      "max at end of edge summation 2\n",
      "max at end of edge summation 2\n"
     ]
    },
    {
     "name": "stderr",
     "output_type": "stream",
     "text": [
      "\n",
      "\r",
      " 15%|█▍        | 176/1200 [01:41<11:15,  1.52it/s]"
     ]
    },
    {
     "name": "stdout",
     "output_type": "stream",
     "text": [
      "max at end of edge summation 1\n",
      "threshold 2\n",
      "percent activated pixels 0.010081380208333334\n",
      "left overlapping pixels 11718; percent of total 1.0\n",
      "right overlapping pixels 2685; percent of total 1.0\n",
      "****update left mask run\n",
      "****update right mask run\n",
      "[-9.7067584950486104e-05, 0.15844129274329727, 462.95188407233672]\n"
     ]
    },
    {
     "name": "stderr",
     "output_type": "stream",
     "text": [
      "\u001b[A"
     ]
    },
    {
     "name": "stdout",
     "output_type": "stream",
     "text": [
      "max at end of edge summation 2\n",
      "max at end of edge summation 2\n"
     ]
    },
    {
     "name": "stderr",
     "output_type": "stream",
     "text": [
      "\n",
      "\r",
      " 15%|█▍        | 177/1200 [01:41<10:39,  1.60it/s]"
     ]
    },
    {
     "name": "stdout",
     "output_type": "stream",
     "text": [
      "max at end of edge summation 2\n",
      "threshold 2\n",
      "percent activated pixels 0.010346137152777778\n",
      "left overlapping pixels 11844; percent of total 1.0\n",
      "right overlapping pixels 3168; percent of total 1.0\n",
      "****update left mask run\n",
      "****update right mask run\n",
      "[-0.0012780501240175547, 0.92453819455579689, 345.64522852303304]\n"
     ]
    },
    {
     "name": "stderr",
     "output_type": "stream",
     "text": [
      "\u001b[A"
     ]
    },
    {
     "name": "stdout",
     "output_type": "stream",
     "text": [
      "max at end of edge summation 2\n",
      "max at end of edge summation 1\n"
     ]
    },
    {
     "name": "stderr",
     "output_type": "stream",
     "text": [
      "\n",
      "\r",
      " 15%|█▍        | 178/1200 [01:42<10:38,  1.60it/s]"
     ]
    },
    {
     "name": "stdout",
     "output_type": "stream",
     "text": [
      "max at end of edge summation 2\n",
      "threshold 2\n",
      "percent activated pixels 0.010209418402777778\n",
      "left overlapping pixels 11418; percent of total 1.0\n",
      "right overlapping pixels 3754; percent of total 1.0\n",
      "****update left mask run\n",
      "****update right mask run\n",
      "[-0.00067941924087717271, 0.4501467657122657, 431.42894022570965]\n"
     ]
    },
    {
     "name": "stderr",
     "output_type": "stream",
     "text": [
      "\u001b[A"
     ]
    },
    {
     "name": "stdout",
     "output_type": "stream",
     "text": [
      "max at end of edge summation 2\n",
      "max at end of edge summation 1\n"
     ]
    },
    {
     "name": "stderr",
     "output_type": "stream",
     "text": [
      "\n",
      "\r",
      " 15%|█▍        | 179/1200 [01:43<10:14,  1.66it/s]"
     ]
    },
    {
     "name": "stdout",
     "output_type": "stream",
     "text": [
      "max at end of edge summation 2\n",
      "threshold 2\n",
      "percent activated pixels 0.010509982638888889\n",
      "left overlapping pixels 11434; percent of total 1.0\n",
      "right overlapping pixels 4845; percent of total 1.0\n",
      "****update left mask run\n",
      "****update right mask run\n",
      "[-0.00017486321140838357, 0.2395418630912291, 379.6831146303137]\n"
     ]
    },
    {
     "name": "stderr",
     "output_type": "stream",
     "text": [
      "\u001b[A"
     ]
    },
    {
     "name": "stdout",
     "output_type": "stream",
     "text": [
      "max at end of edge summation 2\n",
      "max at end of edge summation 1\n"
     ]
    },
    {
     "name": "stderr",
     "output_type": "stream",
     "text": [
      "\n",
      "\r",
      " 15%|█▌        | 180/1200 [01:43<10:03,  1.69it/s]"
     ]
    },
    {
     "name": "stdout",
     "output_type": "stream",
     "text": [
      "max at end of edge summation 2\n",
      "threshold 2\n",
      "percent activated pixels 0.01049587673611111\n",
      "left overlapping pixels 11192; percent of total 1.0\n",
      "right overlapping pixels 4726; percent of total 1.0\n",
      "****update left mask run\n",
      "****update right mask run\n",
      "[0.00054684663060002568, -0.36179974947061444, 476.15197007641257]\n"
     ]
    },
    {
     "name": "stderr",
     "output_type": "stream",
     "text": [
      "\u001b[A"
     ]
    },
    {
     "name": "stdout",
     "output_type": "stream",
     "text": [
      "max at end of edge summation 2\n",
      "max at end of edge summation 1\n"
     ]
    },
    {
     "name": "stderr",
     "output_type": "stream",
     "text": [
      "\n",
      "\r",
      " 15%|█▌        | 181/1200 [01:44<10:09,  1.67it/s]"
     ]
    },
    {
     "name": "stdout",
     "output_type": "stream",
     "text": [
      "max at end of edge summation 1\n",
      "threshold 2\n",
      "percent activated pixels 0.011420355902777778\n",
      "left overlapping pixels 9132; percent of total 1.0\n",
      "right overlapping pixels 9204; percent of total 1.0\n",
      "****update left mask run\n",
      "****update right mask run\n",
      "[0.0017741588040153375, -1.235464514329639, 551.64043182792204]\n"
     ]
    },
    {
     "name": "stderr",
     "output_type": "stream",
     "text": [
      "\u001b[A"
     ]
    },
    {
     "name": "stdout",
     "output_type": "stream",
     "text": [
      "max at end of edge summation 2\n",
      "max at end of edge summation 2\n"
     ]
    },
    {
     "name": "stderr",
     "output_type": "stream",
     "text": [
      "\n",
      "\r",
      " 15%|█▌        | 182/1200 [01:44<09:59,  1.70it/s]"
     ]
    },
    {
     "name": "stdout",
     "output_type": "stream",
     "text": [
      "max at end of edge summation 1\n",
      "threshold 2\n",
      "percent activated pixels 0.010873480902777777\n",
      "left overlapping pixels 9547; percent of total 1.0\n",
      "right overlapping pixels 8023; percent of total 1.0\n",
      "****update left mask run\n",
      "****update right mask run\n",
      "[0.0018490155529705752, -1.2691859349809189, 556.45637435970684]\n"
     ]
    },
    {
     "name": "stderr",
     "output_type": "stream",
     "text": [
      "\u001b[A"
     ]
    },
    {
     "name": "stdout",
     "output_type": "stream",
     "text": [
      "max at end of edge summation 2\n",
      "max at end of edge summation 2\n"
     ]
    },
    {
     "name": "stderr",
     "output_type": "stream",
     "text": [
      "\n",
      "\r",
      " 15%|█▌        | 183/1200 [01:45<09:50,  1.72it/s]"
     ]
    },
    {
     "name": "stdout",
     "output_type": "stream",
     "text": [
      "max at end of edge summation 1\n",
      "threshold 2\n",
      "percent activated pixels 0.010542534722222222\n",
      "left overlapping pixels 9683; percent of total 1.0\n",
      "right overlapping pixels 8311; percent of total 0.9979586935638809\n",
      "****update left mask run\n",
      "****update right mask run\n",
      "[-0.0009073976624383764, 0.69687894853457855, 374.20342675222361]\n"
     ]
    },
    {
     "name": "stderr",
     "output_type": "stream",
     "text": [
      "\u001b[A"
     ]
    },
    {
     "name": "stdout",
     "output_type": "stream",
     "text": [
      "max at end of edge summation 2\n",
      "max at end of edge summation 2\n"
     ]
    },
    {
     "name": "stderr",
     "output_type": "stream",
     "text": [
      "\n",
      "\r",
      " 15%|█▌        | 184/1200 [01:46<10:07,  1.67it/s]"
     ]
    },
    {
     "name": "stdout",
     "output_type": "stream",
     "text": [
      "max at end of edge summation 1\n",
      "threshold 2\n",
      "percent activated pixels 0.009903428819444445\n",
      "left overlapping pixels 9201; percent of total 1.0\n",
      "right overlapping pixels 7416; percent of total 0.9919743178170144\n",
      "****update left mask run\n",
      "****update right mask run\n",
      "[0.0014616299537780764, -1.0873297070710923, 616.35840318127646]\n"
     ]
    },
    {
     "name": "stderr",
     "output_type": "stream",
     "text": [
      "\u001b[A"
     ]
    },
    {
     "name": "stdout",
     "output_type": "stream",
     "text": [
      "max at end of edge summation 2\n",
      "max at end of edge summation 2\n"
     ]
    },
    {
     "name": "stderr",
     "output_type": "stream",
     "text": [
      "\n",
      "\r",
      " 15%|█▌        | 185/1200 [01:46<09:54,  1.71it/s]"
     ]
    },
    {
     "name": "stdout",
     "output_type": "stream",
     "text": [
      "max at end of edge summation 1\n",
      "threshold 2\n",
      "percent activated pixels 0.01008029513888889\n",
      "left overlapping pixels 9334; percent of total 1.0\n",
      "right overlapping pixels 9247; percent of total 0.9976264969252346\n",
      "****update left mask run\n",
      "****update right mask run\n",
      "[0.0025066547880623121, -1.8072914474048631, 650.73180080872976]\n"
     ]
    },
    {
     "name": "stderr",
     "output_type": "stream",
     "text": [
      "\u001b[A"
     ]
    },
    {
     "name": "stdout",
     "output_type": "stream",
     "text": [
      "max at end of edge summation 2\n",
      "max at end of edge summation 1\n"
     ]
    },
    {
     "name": "stderr",
     "output_type": "stream",
     "text": [
      "\n",
      "\r",
      " 16%|█▌        | 186/1200 [01:47<09:51,  1.71it/s]"
     ]
    },
    {
     "name": "stdout",
     "output_type": "stream",
     "text": [
      "max at end of edge summation 1\n",
      "threshold 2\n",
      "percent activated pixels 0.009887152777777778\n",
      "left overlapping pixels 9083; percent of total 1.0\n",
      "right overlapping pixels 11599; percent of total 0.9969915764139591\n",
      "****update left mask run\n",
      "****update right mask run\n",
      "[0.001984219304886231, -1.3849536889917702, 582.30595031588291]\n"
     ]
    },
    {
     "name": "stderr",
     "output_type": "stream",
     "text": [
      "\u001b[A"
     ]
    },
    {
     "name": "stdout",
     "output_type": "stream",
     "text": [
      "max at end of edge summation 2\n",
      "max at end of edge summation 2\n"
     ]
    },
    {
     "name": "stderr",
     "output_type": "stream",
     "text": [
      "\n",
      "\r",
      " 16%|█▌        | 187/1200 [01:47<09:57,  1.70it/s]"
     ]
    },
    {
     "name": "stdout",
     "output_type": "stream",
     "text": [
      "max at end of edge summation 2\n",
      "threshold 2\n",
      "percent activated pixels 0.010272352430555555\n",
      "left overlapping pixels 8166; percent of total 1.0\n",
      "right overlapping pixels 12002; percent of total 0.9953557803947587\n",
      "****update left mask run\n",
      "****update right mask run\n",
      "[-0.00028698677351255829, 0.13790240675360332, 478.39856125385188]\n"
     ]
    },
    {
     "name": "stderr",
     "output_type": "stream",
     "text": [
      "\u001b[A"
     ]
    },
    {
     "name": "stdout",
     "output_type": "stream",
     "text": [
      "max at end of edge summation 2\n",
      "max at end of edge summation 2\n"
     ]
    },
    {
     "name": "stderr",
     "output_type": "stream",
     "text": [
      "\n",
      "\r",
      " 16%|█▌        | 188/1200 [01:48<09:49,  1.72it/s]"
     ]
    },
    {
     "name": "stdout",
     "output_type": "stream",
     "text": [
      "max at end of edge summation 1\n",
      "threshold 2\n",
      "percent activated pixels 0.010386284722222222\n",
      "left overlapping pixels 8600; percent of total 1.0\n",
      "right overlapping pixels 11186; percent of total 0.9956386292834891\n",
      "****update left mask run\n",
      "****update right mask run\n",
      "[0.0011381380133803575, -0.82397691349350688, 544.26864670400323]\n"
     ]
    },
    {
     "name": "stderr",
     "output_type": "stream",
     "text": [
      "\u001b[A"
     ]
    },
    {
     "name": "stdout",
     "output_type": "stream",
     "text": [
      "max at end of edge summation 2\n",
      "max at end of edge summation 1\n"
     ]
    },
    {
     "name": "stderr",
     "output_type": "stream",
     "text": [
      "\n",
      "\r",
      " 16%|█▌        | 189/1200 [01:48<09:55,  1.70it/s]"
     ]
    },
    {
     "name": "stdout",
     "output_type": "stream",
     "text": [
      "max at end of edge summation 1\n",
      "threshold 2\n",
      "percent activated pixels 0.01113498263888889\n",
      "left overlapping pixels 8585; percent of total 0.9969806062013703\n",
      "right overlapping pixels 13424; percent of total 0.9993300081887888\n",
      "****update left mask run\n",
      "****update right mask run\n",
      "[-0.00041895160545800413, 0.3227855068069555, 285.68017329092413]\n"
     ]
    },
    {
     "name": "stderr",
     "output_type": "stream",
     "text": [
      "\u001b[A"
     ]
    },
    {
     "name": "stdout",
     "output_type": "stream",
     "text": [
      "max at end of edge summation 2\n",
      "max at end of edge summation 2\n"
     ]
    },
    {
     "name": "stderr",
     "output_type": "stream",
     "text": [
      "\n",
      "\r",
      " 16%|█▌        | 190/1200 [01:49<09:50,  1.71it/s]"
     ]
    },
    {
     "name": "stdout",
     "output_type": "stream",
     "text": [
      "max at end of edge summation 2\n",
      "threshold 2\n",
      "percent activated pixels 0.010974392361111111\n",
      "left overlapping pixels 12150; percent of total 0.9961465934246126\n",
      "right overlapping pixels 10428; percent of total 1.0\n",
      "****update left mask run\n",
      "****update right mask run\n",
      "[-0.0015683450580697589, 1.1281558102312788, 189.38520671589782]\n"
     ]
    },
    {
     "name": "stderr",
     "output_type": "stream",
     "text": [
      "\u001b[A"
     ]
    },
    {
     "name": "stdout",
     "output_type": "stream",
     "text": [
      "max at end of edge summation 2\n",
      "max at end of edge summation 2\n"
     ]
    },
    {
     "name": "stderr",
     "output_type": "stream",
     "text": [
      "\n",
      "\r",
      " 16%|█▌        | 191/1200 [01:50<09:36,  1.75it/s]"
     ]
    },
    {
     "name": "stdout",
     "output_type": "stream",
     "text": [
      "max at end of edge summation 1\n",
      "threshold 2\n",
      "percent activated pixels 0.010855034722222223\n",
      "left overlapping pixels 13457; percent of total 0.9951930187842035\n",
      "right overlapping pixels 7781; percent of total 1.0\n",
      "****update left mask run\n",
      "****update right mask run\n",
      "[-0.0028597432251949539, 2.3071730168772078, 53.599567355768009]\n"
     ]
    },
    {
     "name": "stderr",
     "output_type": "stream",
     "text": [
      "\u001b[A"
     ]
    },
    {
     "name": "stdout",
     "output_type": "stream",
     "text": [
      "max at end of edge summation 2\n",
      "max at end of edge summation 2\n"
     ]
    },
    {
     "name": "stderr",
     "output_type": "stream",
     "text": [
      "\n",
      "\r",
      " 16%|█▌        | 192/1200 [01:50<09:53,  1.70it/s]"
     ]
    },
    {
     "name": "stdout",
     "output_type": "stream",
     "text": [
      "max at end of edge summation 2\n",
      "threshold 2\n",
      "percent activated pixels 0.011596137152777778\n",
      "left overlapping pixels 18014; percent of total 0.9953586031605702\n",
      "right overlapping pixels 5684; percent of total 1.0\n",
      "****update left mask run\n",
      "****update right mask run\n",
      "[-0.0019761027714691932, 1.51406592528238, 49.79775806324654]\n"
     ]
    },
    {
     "name": "stderr",
     "output_type": "stream",
     "text": [
      "\u001b[A"
     ]
    },
    {
     "name": "stdout",
     "output_type": "stream",
     "text": [
      "max at end of edge summation 2\n",
      "max at end of edge summation 1\n"
     ]
    },
    {
     "name": "stderr",
     "output_type": "stream",
     "text": [
      "\n",
      "\r",
      " 16%|█▌        | 193/1200 [01:51<09:34,  1.75it/s]"
     ]
    },
    {
     "name": "stdout",
     "output_type": "stream",
     "text": [
      "max at end of edge summation 2\n",
      "threshold 2\n",
      "percent activated pixels 0.012255859375\n",
      "left overlapping pixels 18995; percent of total 0.9947109342270632\n",
      "right overlapping pixels 4584; percent of total 1.0\n",
      "****update left mask run\n",
      "****update right mask run\n",
      "[-0.0020936117111960469, 1.6615670987278202, -4.8303883011134161]\n"
     ]
    },
    {
     "name": "stderr",
     "output_type": "stream",
     "text": [
      "\u001b[A"
     ]
    },
    {
     "name": "stdout",
     "output_type": "stream",
     "text": [
      "max at end of edge summation 2\n",
      "max at end of edge summation 2\n"
     ]
    },
    {
     "name": "stderr",
     "output_type": "stream",
     "text": [
      "\n",
      "\r",
      " 16%|█▌        | 194/1200 [01:51<09:37,  1.74it/s]"
     ]
    },
    {
     "name": "stdout",
     "output_type": "stream",
     "text": [
      "max at end of edge summation 2\n",
      "threshold 2\n",
      "percent activated pixels 0.012347005208333333\n",
      "left overlapping pixels 20667; percent of total 0.9950888343203813\n",
      "right overlapping pixels 3784; percent of total 1.0\n",
      "****update left mask run\n",
      "****update right mask run\n",
      "[-0.0024452537897671693, 1.9523371145972732, -55.183492756707615]\n"
     ]
    },
    {
     "name": "stderr",
     "output_type": "stream",
     "text": [
      "\u001b[A"
     ]
    },
    {
     "name": "stdout",
     "output_type": "stream",
     "text": [
      "max at end of edge summation 2\n",
      "max at end of edge summation 2\n"
     ]
    },
    {
     "name": "stderr",
     "output_type": "stream",
     "text": [
      "\n",
      "\r",
      " 16%|█▋        | 195/1200 [01:52<09:19,  1.80it/s]"
     ]
    },
    {
     "name": "stdout",
     "output_type": "stream",
     "text": [
      "max at end of edge summation 2\n",
      "threshold 2\n",
      "percent activated pixels 0.013616536458333333\n",
      "left overlapping pixels 22592; percent of total 0.995768688293371\n",
      "right overlapping pixels 1822; percent of total 1.0\n",
      "****update left mask run\n",
      "****update right mask run\n",
      "[-0.001408968654024879, 1.2569135712487896, 208.37648298722763]\n"
     ]
    },
    {
     "name": "stderr",
     "output_type": "stream",
     "text": [
      "\u001b[A"
     ]
    },
    {
     "name": "stdout",
     "output_type": "stream",
     "text": [
      "max at end of edge summation 2\n",
      "max at end of edge summation 2\n"
     ]
    },
    {
     "name": "stderr",
     "output_type": "stream",
     "text": [
      "\n",
      "\r",
      " 16%|█▋        | 196/1200 [01:52<09:31,  1.76it/s]"
     ]
    },
    {
     "name": "stdout",
     "output_type": "stream",
     "text": [
      "max at end of edge summation 2\n",
      "threshold 2\n",
      "percent activated pixels 0.01446506076388889\n",
      "left overlapping pixels 25013; percent of total 0.9979253939756633\n",
      "right overlapping pixels 7455; percent of total 0.9941325510068009\n",
      "****update left mask run\n",
      "****update right mask run\n",
      "[0.00012257888808877627, -0.020844518722164418, 233.12647176296701]\n"
     ]
    },
    {
     "name": "stderr",
     "output_type": "stream",
     "text": [
      "\u001b[A"
     ]
    },
    {
     "name": "stdout",
     "output_type": "stream",
     "text": [
      "max at end of edge summation 2\n",
      "max at end of edge summation 1\n"
     ]
    },
    {
     "name": "stderr",
     "output_type": "stream",
     "text": [
      "\n",
      "\r",
      " 16%|█▋        | 197/1200 [01:53<09:21,  1.79it/s]"
     ]
    },
    {
     "name": "stdout",
     "output_type": "stream",
     "text": [
      "max at end of edge summation 2\n",
      "threshold 2\n",
      "percent activated pixels 0.015491536458333333\n",
      "left overlapping pixels 27356; percent of total 0.9997076450811285\n",
      "right overlapping pixels 6735; percent of total 0.9942426926483614\n",
      "****update left mask run\n",
      "****update right mask run\n",
      "[-2.2003114286936508e-06, 0.083426329491817164, 181.7797380228393]\n"
     ]
    },
    {
     "name": "stderr",
     "output_type": "stream",
     "text": [
      "\u001b[A"
     ]
    },
    {
     "name": "stdout",
     "output_type": "stream",
     "text": [
      "max at end of edge summation 2\n",
      "max at end of edge summation 2\n"
     ]
    },
    {
     "name": "stderr",
     "output_type": "stream",
     "text": [
      "\n",
      "\r",
      " 16%|█▋        | 198/1200 [01:54<09:31,  1.75it/s]"
     ]
    },
    {
     "name": "stdout",
     "output_type": "stream",
     "text": [
      "max at end of edge summation 2\n",
      "threshold 2\n",
      "percent activated pixels 0.020885416666666667\n",
      "left overlapping pixels 27451; percent of total 0.9987266244633631\n",
      "right overlapping pixels 9752; percent of total 0.99723898149095\n",
      "****update left mask run\n",
      "****update right mask run\n",
      "[-0.0018123257445669231, 1.3786026062636234, 51.282189867845275]\n"
     ]
    },
    {
     "name": "stderr",
     "output_type": "stream",
     "text": [
      "\u001b[A"
     ]
    },
    {
     "name": "stdout",
     "output_type": "stream",
     "text": [
      "max at end of edge summation 2\n",
      "max at end of edge summation 2\n"
     ]
    },
    {
     "name": "stderr",
     "output_type": "stream",
     "text": [
      "\n",
      "\r",
      " 17%|█▋        | 199/1200 [01:54<09:19,  1.79it/s]"
     ]
    },
    {
     "name": "stdout",
     "output_type": "stream",
     "text": [
      "max at end of edge summation 1\n",
      "threshold 2\n",
      "percent activated pixels 0.021876085069444443\n",
      "left overlapping pixels 26301; percent of total 1.0\n",
      "right overlapping pixels 8853; percent of total 1.0\n",
      "****update left mask run\n",
      "****update right mask run\n",
      "[-0.0024617022717061529, 2.436022126856499, -57.664442708166561]\n"
     ]
    },
    {
     "name": "stderr",
     "output_type": "stream",
     "text": [
      "\u001b[A"
     ]
    },
    {
     "name": "stdout",
     "output_type": "stream",
     "text": [
      "max at end of edge summation 2\n",
      "max at end of edge summation 2\n"
     ]
    },
    {
     "name": "stderr",
     "output_type": "stream",
     "text": [
      "\n",
      "\r",
      " 17%|█▋        | 200/1200 [01:55<09:33,  1.74it/s]"
     ]
    },
    {
     "name": "stdout",
     "output_type": "stream",
     "text": [
      "max at end of edge summation 2\n",
      "threshold 2\n",
      "percent activated pixels 0.023370225694444444\n",
      "left overlapping pixels 25509; percent of total 1.0\n",
      "right overlapping pixels 5903; percent of total 0.9986465911013365\n",
      "****update left mask run\n",
      "****update right mask run\n",
      "[-0.0012922136671651991, 1.4028499807098205, 143.71568422801863]\n"
     ]
    },
    {
     "name": "stderr",
     "output_type": "stream",
     "text": [
      "\u001b[A"
     ]
    },
    {
     "name": "stdout",
     "output_type": "stream",
     "text": [
      "max at end of edge summation 2\n",
      "max at end of edge summation 2\n"
     ]
    },
    {
     "name": "stderr",
     "output_type": "stream",
     "text": [
      "\n",
      "\r",
      " 17%|█▋        | 201/1200 [01:55<09:23,  1.77it/s]"
     ]
    },
    {
     "name": "stdout",
     "output_type": "stream",
     "text": [
      "max at end of edge summation 2\n",
      "threshold 2\n",
      "percent activated pixels 0.024593098958333334\n",
      "left overlapping pixels 24354; percent of total 0.9996305873660879\n",
      "right overlapping pixels 3636; percent of total 1.0\n",
      "****update left mask run\n",
      "****update right mask run\n",
      "[-0.00085979861765049861, 1.2763357064627445, 83.510282880524443]\n"
     ]
    },
    {
     "name": "stderr",
     "output_type": "stream",
     "text": [
      "\u001b[A"
     ]
    },
    {
     "name": "stdout",
     "output_type": "stream",
     "text": [
      "max at end of edge summation 2\n",
      "max at end of edge summation 1\n"
     ]
    },
    {
     "name": "stderr",
     "output_type": "stream",
     "text": [
      "\n",
      "\r",
      " 17%|█▋        | 202/1200 [01:56<09:35,  1.73it/s]"
     ]
    },
    {
     "name": "stdout",
     "output_type": "stream",
     "text": [
      "max at end of edge summation 1\n",
      "threshold 2\n",
      "percent activated pixels 0.0259765625\n",
      "left overlapping pixels 24555; percent of total 0.9978056808484701\n",
      "right overlapping pixels 3485; percent of total 0.9954298771779492\n",
      "****update left mask run\n",
      "****update right mask run\n",
      "[0.00049335444401361482, -0.15841695407576772, 451.78834309503884]\n"
     ]
    },
    {
     "name": "stderr",
     "output_type": "stream",
     "text": [
      "\u001b[A"
     ]
    },
    {
     "name": "stdout",
     "output_type": "stream",
     "text": [
      "max at end of edge summation 2\n",
      "max at end of edge summation 2\n"
     ]
    },
    {
     "name": "stderr",
     "output_type": "stream",
     "text": [
      "\n",
      "\r",
      " 17%|█▋        | 203/1200 [01:56<09:22,  1.77it/s]"
     ]
    },
    {
     "name": "stdout",
     "output_type": "stream",
     "text": [
      "max at end of edge summation 2\n",
      "threshold 2\n",
      "percent activated pixels 0.027045355902777776\n",
      "left overlapping pixels 26619; percent of total 0.9974519428935437\n",
      "right overlapping pixels 5049; percent of total 0.9974318451205058\n",
      "****update left mask run\n",
      "****update right mask run\n",
      "[0.00022773992626648571, -0.29186748375397542, 599.62530473139032]\n"
     ]
    },
    {
     "name": "stderr",
     "output_type": "stream",
     "text": [
      "\u001b[A"
     ]
    },
    {
     "name": "stdout",
     "output_type": "stream",
     "text": [
      "max at end of edge summation 2\n",
      "max at end of edge summation 2\n"
     ]
    },
    {
     "name": "stderr",
     "output_type": "stream",
     "text": [
      "\n",
      "\r",
      " 17%|█▋        | 204/1200 [01:57<09:34,  1.73it/s]"
     ]
    },
    {
     "name": "stdout",
     "output_type": "stream",
     "text": [
      "max at end of edge summation 2\n",
      "threshold 2\n",
      "percent activated pixels 0.027944878472222223\n",
      "left overlapping pixels 24357; percent of total 0.9967670649860861\n",
      "right overlapping pixels 12947; percent of total 0.994546013212475\n",
      "****update left mask run\n",
      "****update right mask run\n",
      "[0.00018397988638391881, -0.26237779889817625, 584.34320086762079]\n"
     ]
    },
    {
     "name": "stderr",
     "output_type": "stream",
     "text": [
      "\u001b[A"
     ]
    },
    {
     "name": "stdout",
     "output_type": "stream",
     "text": [
      "max at end of edge summation 2\n",
      "max at end of edge summation 2\n"
     ]
    },
    {
     "name": "stderr",
     "output_type": "stream",
     "text": [
      "\n",
      "\r",
      " 17%|█▋        | 205/1200 [01:58<09:21,  1.77it/s]"
     ]
    },
    {
     "name": "stdout",
     "output_type": "stream",
     "text": [
      "max at end of edge summation 2\n",
      "threshold 2\n",
      "percent activated pixels 0.028552517361111113\n",
      "left overlapping pixels 22979; percent of total 0.9964010059838696\n",
      "right overlapping pixels 26253; percent of total 0.9956764136989419\n",
      "****update left mask run\n",
      "****update right mask run\n",
      "[-0.00041341235990324809, 0.2585340921127946, 474.38230502584486]\n"
     ]
    },
    {
     "name": "stderr",
     "output_type": "stream",
     "text": [
      "\u001b[A"
     ]
    },
    {
     "name": "stdout",
     "output_type": "stream",
     "text": [
      "max at end of edge summation 2\n",
      "max at end of edge summation 2\n"
     ]
    },
    {
     "name": "stderr",
     "output_type": "stream",
     "text": [
      "\n",
      "\r",
      " 17%|█▋        | 206/1200 [01:58<09:31,  1.74it/s]"
     ]
    },
    {
     "name": "stdout",
     "output_type": "stream",
     "text": [
      "max at end of edge summation 2\n",
      "threshold 2\n",
      "percent activated pixels 0.02823459201388889\n",
      "left overlapping pixels 24731; percent of total 0.9978615235635894\n",
      "right overlapping pixels 38044; percent of total 0.99782306501954\n",
      "****update left mask run\n",
      "****update right mask run\n",
      "[0.00072145595992048172, -0.44181671219537832, 474.74910861877459]\n"
     ]
    },
    {
     "name": "stderr",
     "output_type": "stream",
     "text": [
      "\u001b[A"
     ]
    },
    {
     "name": "stdout",
     "output_type": "stream",
     "text": [
      "max at end of edge summation 2\n",
      "max at end of edge summation 2\n"
     ]
    },
    {
     "name": "stderr",
     "output_type": "stream",
     "text": [
      "\n",
      "\r",
      " 17%|█▋        | 207/1200 [01:59<09:22,  1.76it/s]"
     ]
    },
    {
     "name": "stdout",
     "output_type": "stream",
     "text": [
      "max at end of edge summation 2\n",
      "threshold 2\n",
      "percent activated pixels 0.02823025173611111\n",
      "left overlapping pixels 24233; percent of total 0.9992577625664921\n",
      "right overlapping pixels 41044; percent of total 0.9974482976500036\n",
      "****update left mask run\n",
      "****update right mask run\n",
      "[-0.0011110110969552623, 0.96821746349199911, 269.31383965924891]\n"
     ]
    },
    {
     "name": "stderr",
     "output_type": "stream",
     "text": [
      "\u001b[A"
     ]
    },
    {
     "name": "stdout",
     "output_type": "stream",
     "text": [
      "max at end of edge summation 2\n",
      "max at end of edge summation 2\n",
      "max at end of edge summation 2\n",
      "threshold 2\n",
      "percent activated pixels 0.027756076388888887\n",
      "left overlapping pixels 21239; percent of total 0.997042531217726\n",
      "right overlapping pixels 44967; percent of total 0.9976261259262547\n",
      "****update left mask run\n",
      "****update right mask run\n",
      "[-0.0013175095551985834, 1.1885191604447343, 193.94770369117822]\n"
     ]
    },
    {
     "name": "stderr",
     "output_type": "stream",
     "text": [
      "\n",
      " 17%|█▋        | 208/1200 [02:00<11:43,  1.41it/s]\u001b[A"
     ]
    },
    {
     "name": "stdout",
     "output_type": "stream",
     "text": [
      "max at end of edge summation 2\n",
      "max at end of edge summation 2\n"
     ]
    },
    {
     "name": "stderr",
     "output_type": "stream",
     "text": [
      "\n",
      "\r",
      " 17%|█▋        | 209/1200 [02:00<11:51,  1.39it/s]"
     ]
    },
    {
     "name": "stdout",
     "output_type": "stream",
     "text": [
      "max at end of edge summation 1\n",
      "threshold 2\n",
      "percent activated pixels 0.028012152777777778\n",
      "left overlapping pixels 21533; percent of total 0.9960220176696425\n",
      "right overlapping pixels 44544; percent of total 0.9984086069707497\n",
      "****update left mask run\n",
      "****update right mask run\n",
      "[-0.0012989453891935484, 1.2922143644298807, 117.7282982563038]\n"
     ]
    },
    {
     "name": "stderr",
     "output_type": "stream",
     "text": [
      "\u001b[A"
     ]
    },
    {
     "name": "stdout",
     "output_type": "stream",
     "text": [
      "max at end of edge summation 2\n",
      "max at end of edge summation 2\n"
     ]
    },
    {
     "name": "stderr",
     "output_type": "stream",
     "text": [
      "\n",
      "\r",
      " 18%|█▊        | 210/1200 [02:01<11:19,  1.46it/s]"
     ]
    },
    {
     "name": "stdout",
     "output_type": "stream",
     "text": [
      "max at end of edge summation 1\n",
      "threshold 2\n",
      "percent activated pixels 0.028768446180555556\n",
      "left overlapping pixels 21714; percent of total 0.9961007385659892\n",
      "right overlapping pixels 47366; percent of total 0.9985664291436522\n",
      "****update left mask run\n",
      "****update right mask run\n",
      "[0.00053087513925047887, -0.46924764411999365, 500.67670076703973]\n"
     ]
    },
    {
     "name": "stderr",
     "output_type": "stream",
     "text": [
      "\u001b[A"
     ]
    },
    {
     "name": "stdout",
     "output_type": "stream",
     "text": [
      "max at end of edge summation 2\n",
      "max at end of edge summation 2\n"
     ]
    },
    {
     "name": "stderr",
     "output_type": "stream",
     "text": [
      "\n",
      "\r",
      " 18%|█▊        | 211/1200 [02:02<10:36,  1.55it/s]"
     ]
    },
    {
     "name": "stdout",
     "output_type": "stream",
     "text": [
      "max at end of edge summation 1\n",
      "threshold 2\n",
      "percent activated pixels 0.028748914930555557\n",
      "left overlapping pixels 19944; percent of total 0.9943164822016153\n",
      "right overlapping pixels 38318; percent of total 0.9995304674457429\n",
      "****update left mask run\n",
      "****update right mask run\n",
      "[-0.00043426915809622316, 0.82464747803980676, 103.1326410248188]\n"
     ]
    },
    {
     "name": "stderr",
     "output_type": "stream",
     "text": [
      "\u001b[A"
     ]
    },
    {
     "name": "stdout",
     "output_type": "stream",
     "text": [
      "max at end of edge summation 2\n",
      "max at end of edge summation 2\n"
     ]
    },
    {
     "name": "stderr",
     "output_type": "stream",
     "text": [
      "\n",
      "\r",
      " 18%|█▊        | 212/1200 [02:02<10:27,  1.57it/s]"
     ]
    },
    {
     "name": "stdout",
     "output_type": "stream",
     "text": [
      "max at end of edge summation 1\n",
      "threshold 2\n",
      "percent activated pixels 0.027995876736111112\n",
      "left overlapping pixels 26359; percent of total 0.9943040362127499\n",
      "right overlapping pixels 36465; percent of total 1.0\n",
      "****update left mask run\n",
      "****update right mask run\n",
      "[0.00029902693919754881, 0.29777077921636164, 150.01893780593414]\n"
     ]
    },
    {
     "name": "stderr",
     "output_type": "stream",
     "text": [
      "\u001b[A"
     ]
    },
    {
     "name": "stdout",
     "output_type": "stream",
     "text": [
      "max at end of edge summation 2\n",
      "max at end of edge summation 2\n"
     ]
    },
    {
     "name": "stderr",
     "output_type": "stream",
     "text": [
      "\n",
      "\r",
      " 18%|█▊        | 213/1200 [02:03<10:02,  1.64it/s]"
     ]
    },
    {
     "name": "stdout",
     "output_type": "stream",
     "text": [
      "max at end of edge summation 2\n",
      "threshold 2\n",
      "percent activated pixels 0.027067057291666665\n",
      "left overlapping pixels 27202; percent of total 0.996337264669255\n",
      "right overlapping pixels 37179; percent of total 0.9984424094314794\n",
      "****update left mask run\n",
      "****update right mask run\n",
      "[0.00074318211192968948, -0.24763498023849934, 262.75793759311046]\n"
     ]
    },
    {
     "name": "stderr",
     "output_type": "stream",
     "text": [
      "\u001b[A"
     ]
    },
    {
     "name": "stdout",
     "output_type": "stream",
     "text": [
      "max at end of edge summation 2\n",
      "max at end of edge summation 2\n"
     ]
    },
    {
     "name": "stderr",
     "output_type": "stream",
     "text": [
      "\n",
      "\r",
      " 18%|█▊        | 214/1200 [02:03<10:03,  1.63it/s]"
     ]
    },
    {
     "name": "stdout",
     "output_type": "stream",
     "text": [
      "max at end of edge summation 1\n",
      "threshold 2\n",
      "percent activated pixels 0.026447482638888888\n",
      "left overlapping pixels 27459; percent of total 0.9990176817288802\n",
      "right overlapping pixels 34142; percent of total 0.9983332845989649\n",
      "****update left mask run\n",
      "****update right mask run\n",
      "[0.000433769087316976, -0.14433128672787199, 291.09289752104212]\n"
     ]
    },
    {
     "name": "stderr",
     "output_type": "stream",
     "text": [
      "\u001b[A"
     ]
    },
    {
     "name": "stdout",
     "output_type": "stream",
     "text": [
      "max at end of edge summation 2\n",
      "max at end of edge summation 2\n"
     ]
    },
    {
     "name": "stderr",
     "output_type": "stream",
     "text": [
      "\n",
      "\r",
      " 18%|█▊        | 215/1200 [02:04<09:47,  1.68it/s]"
     ]
    },
    {
     "name": "stdout",
     "output_type": "stream",
     "text": [
      "max at end of edge summation 1\n",
      "threshold 2\n",
      "percent activated pixels 0.025678168402777778\n",
      "left overlapping pixels 24640; percent of total 0.999026921829387\n",
      "right overlapping pixels 33155; percent of total 0.9989755641929555\n",
      "****update left mask run\n",
      "****update right mask run\n",
      "[0.0019760873846759869, -1.2958969520544295, 422.71954595678807]\n"
     ]
    },
    {
     "name": "stderr",
     "output_type": "stream",
     "text": [
      "\u001b[A"
     ]
    },
    {
     "name": "stdout",
     "output_type": "stream",
     "text": [
      "max at end of edge summation 2\n",
      "max at end of edge summation 2\n"
     ]
    },
    {
     "name": "stderr",
     "output_type": "stream",
     "text": [
      "\n",
      "\r",
      " 18%|█▊        | 216/1200 [02:05<09:51,  1.66it/s]"
     ]
    },
    {
     "name": "stdout",
     "output_type": "stream",
     "text": [
      "max at end of edge summation 2\n",
      "threshold 2\n",
      "percent activated pixels 0.026614583333333334\n",
      "left overlapping pixels 25851; percent of total 0.9977999073645206\n",
      "right overlapping pixels 33594; percent of total 0.998602895276597\n",
      "****update left mask run\n",
      "****update right mask run\n",
      "[0.0014486896606904359, -1.1713460293813247, 521.49529455667084]\n"
     ]
    },
    {
     "name": "stderr",
     "output_type": "stream",
     "text": [
      "\u001b[A"
     ]
    },
    {
     "name": "stdout",
     "output_type": "stream",
     "text": [
      "max at end of edge summation 2\n",
      "max at end of edge summation 2\n"
     ]
    },
    {
     "name": "stderr",
     "output_type": "stream",
     "text": [
      "\n",
      "\r",
      " 18%|█▊        | 217/1200 [02:05<09:32,  1.72it/s]"
     ]
    },
    {
     "name": "stdout",
     "output_type": "stream",
     "text": [
      "max at end of edge summation 1\n",
      "threshold 2\n",
      "percent activated pixels 0.025173611111111112\n",
      "left overlapping pixels 28791; percent of total 0.9975400180167695\n",
      "right overlapping pixels 30896; percent of total 0.9990622473726758\n",
      "****update left mask run\n",
      "****update right mask run\n",
      "[0.00018790351865187026, -0.32116772641180297, 446.18330733775105]\n"
     ]
    },
    {
     "name": "stderr",
     "output_type": "stream",
     "text": [
      "\u001b[A"
     ]
    },
    {
     "name": "stdout",
     "output_type": "stream",
     "text": [
      "max at end of edge summation 2\n",
      "max at end of edge summation 2\n"
     ]
    },
    {
     "name": "stderr",
     "output_type": "stream",
     "text": [
      "\n",
      "\r",
      " 18%|█▊        | 218/1200 [02:06<09:40,  1.69it/s]"
     ]
    },
    {
     "name": "stdout",
     "output_type": "stream",
     "text": [
      "max at end of edge summation 1\n",
      "threshold 2\n",
      "percent activated pixels 0.024886067708333334\n",
      "left overlapping pixels 27215; percent of total 0.9967769109621654\n",
      "right overlapping pixels 30152; percent of total 0.9990060300841561\n",
      "****update left mask run\n",
      "****update right mask run\n",
      "[0.00016364623916000336, -0.3211147658794129, 440.56309492226097]\n"
     ]
    },
    {
     "name": "stderr",
     "output_type": "stream",
     "text": [
      "\u001b[A"
     ]
    },
    {
     "name": "stdout",
     "output_type": "stream",
     "text": [
      "max at end of edge summation 2\n",
      "max at end of edge summation 2\n"
     ]
    },
    {
     "name": "stderr",
     "output_type": "stream",
     "text": [
      "\n",
      "\r",
      " 18%|█▊        | 219/1200 [02:06<09:27,  1.73it/s]"
     ]
    },
    {
     "name": "stdout",
     "output_type": "stream",
     "text": [
      "max at end of edge summation 1\n",
      "threshold 2\n",
      "percent activated pixels 0.024915364583333332\n",
      "left overlapping pixels 24469; percent of total 0.9975132490827558\n",
      "right overlapping pixels 27956; percent of total 0.9994279994279994\n",
      "****update left mask run\n",
      "****update right mask run\n",
      "[0.00071770158237781324, -0.69578022703132381, 457.86076319142171]\n"
     ]
    },
    {
     "name": "stderr",
     "output_type": "stream",
     "text": [
      "\u001b[A"
     ]
    },
    {
     "name": "stdout",
     "output_type": "stream",
     "text": [
      "max at end of edge summation 2\n",
      "max at end of edge summation 2\n"
     ]
    },
    {
     "name": "stderr",
     "output_type": "stream",
     "text": [
      "\n",
      "\r",
      " 18%|█▊        | 220/1200 [02:07<09:37,  1.70it/s]"
     ]
    },
    {
     "name": "stdout",
     "output_type": "stream",
     "text": [
      "max at end of edge summation 1\n",
      "threshold 2\n",
      "percent activated pixels 0.024911024305555557\n",
      "left overlapping pixels 27056; percent of total 0.9972723921857722\n",
      "right overlapping pixels 27186; percent of total 0.9991914142899148\n",
      "****update left mask run\n",
      "****update right mask run\n",
      "[0.00040469574155111159, -0.49467040760101055, 439.80989600795306]\n"
     ]
    },
    {
     "name": "stderr",
     "output_type": "stream",
     "text": [
      "\u001b[A"
     ]
    },
    {
     "name": "stdout",
     "output_type": "stream",
     "text": [
      "max at end of edge summation 2\n",
      "max at end of edge summation 2\n"
     ]
    },
    {
     "name": "stderr",
     "output_type": "stream",
     "text": [
      "\n",
      "\r",
      " 18%|█▊        | 221/1200 [02:07<09:23,  1.74it/s]"
     ]
    },
    {
     "name": "stdout",
     "output_type": "stream",
     "text": [
      "max at end of edge summation 1\n",
      "threshold 2\n",
      "percent activated pixels 0.023324652777777777\n",
      "left overlapping pixels 26066; percent of total 0.9975888859122048\n",
      "right overlapping pixels 27146; percent of total 1.0\n",
      "****update left mask run\n",
      "****update right mask run\n",
      "[-0.0012121561821057773, 0.97169981953721174, 130.45655219864298]\n"
     ]
    },
    {
     "name": "stderr",
     "output_type": "stream",
     "text": [
      "\u001b[A"
     ]
    },
    {
     "name": "stdout",
     "output_type": "stream",
     "text": [
      "max at end of edge summation 2\n",
      "max at end of edge summation 2\n"
     ]
    },
    {
     "name": "stderr",
     "output_type": "stream",
     "text": [
      "\n",
      "\r",
      " 18%|█▊        | 222/1200 [02:08<09:39,  1.69it/s]"
     ]
    },
    {
     "name": "stdout",
     "output_type": "stream",
     "text": [
      "max at end of edge summation 1\n",
      "threshold 2\n",
      "percent activated pixels 0.02478515625\n",
      "left overlapping pixels 27746; percent of total 0.9984526251394437\n",
      "right overlapping pixels 28804; percent of total 0.9997223379147577\n",
      "****update left mask run\n",
      "****update right mask run\n",
      "[-0.00075373745207014118, 0.51926991285892243, 230.33367278218796]\n"
     ]
    },
    {
     "name": "stderr",
     "output_type": "stream",
     "text": [
      "\u001b[A"
     ]
    },
    {
     "name": "stdout",
     "output_type": "stream",
     "text": [
      "max at end of edge summation 2\n",
      "max at end of edge summation 2\n"
     ]
    },
    {
     "name": "stderr",
     "output_type": "stream",
     "text": [
      "\n",
      "\r",
      " 19%|█▊        | 223/1200 [02:09<09:24,  1.73it/s]"
     ]
    },
    {
     "name": "stdout",
     "output_type": "stream",
     "text": [
      "max at end of edge summation 1\n",
      "threshold 2\n",
      "percent activated pixels 0.025794270833333334\n",
      "left overlapping pixels 27185; percent of total 0.9974682615395906\n",
      "right overlapping pixels 29049; percent of total 0.9997246790790515\n",
      "****update left mask run\n",
      "****update right mask run\n",
      "[-0.00045090997495030299, 0.22877798898176177, 295.76799132379199]\n"
     ]
    },
    {
     "name": "stderr",
     "output_type": "stream",
     "text": [
      "\u001b[A"
     ]
    },
    {
     "name": "stdout",
     "output_type": "stream",
     "text": [
      "max at end of edge summation 2\n",
      "max at end of edge summation 2\n"
     ]
    },
    {
     "name": "stderr",
     "output_type": "stream",
     "text": [
      "\n",
      "\r",
      " 19%|█▊        | 224/1200 [02:09<09:34,  1.70it/s]"
     ]
    },
    {
     "name": "stdout",
     "output_type": "stream",
     "text": [
      "max at end of edge summation 1\n",
      "threshold 2\n",
      "percent activated pixels 0.025680338541666667\n",
      "left overlapping pixels 27062; percent of total 0.9973832602366123\n",
      "right overlapping pixels 27768; percent of total 0.9992083483267362\n",
      "****update left mask run\n",
      "****update right mask run\n",
      "[0.00037425297118976836, -0.52691827960751014, 453.18800490952071]\n"
     ]
    },
    {
     "name": "stderr",
     "output_type": "stream",
     "text": [
      "\u001b[A"
     ]
    },
    {
     "name": "stdout",
     "output_type": "stream",
     "text": [
      "max at end of edge summation 2\n",
      "max at end of edge summation 2\n"
     ]
    },
    {
     "name": "stderr",
     "output_type": "stream",
     "text": [
      "\n",
      "\r",
      " 19%|█▉        | 225/1200 [02:10<09:21,  1.74it/s]"
     ]
    },
    {
     "name": "stdout",
     "output_type": "stream",
     "text": [
      "max at end of edge summation 1\n",
      "threshold 2\n",
      "percent activated pixels 0.02587456597222222\n",
      "left overlapping pixels 24737; percent of total 0.9980230775437747\n",
      "right overlapping pixels 25872; percent of total 0.9996522545496697\n",
      "****update left mask run\n",
      "****update right mask run\n",
      "[0.00036818288126934764, -0.52215307802270239, 446.65654607631893]\n"
     ]
    },
    {
     "name": "stderr",
     "output_type": "stream",
     "text": [
      "\u001b[A"
     ]
    },
    {
     "name": "stdout",
     "output_type": "stream",
     "text": [
      "max at end of edge summation 2\n",
      "max at end of edge summation 2\n"
     ]
    },
    {
     "name": "stderr",
     "output_type": "stream",
     "text": [
      "\n",
      "\r",
      " 19%|█▉        | 226/1200 [02:10<09:31,  1.70it/s]"
     ]
    },
    {
     "name": "stdout",
     "output_type": "stream",
     "text": [
      "max at end of edge summation 1\n",
      "threshold 2\n",
      "percent activated pixels 0.025780164930555554\n",
      "left overlapping pixels 23508; percent of total 0.9969888460070402\n",
      "right overlapping pixels 24747; percent of total 0.9994749596122778\n",
      "****update left mask run\n",
      "****update right mask run\n",
      "[0.00070303027505431363, -0.81508530681103586, 506.99172524175901]\n"
     ]
    },
    {
     "name": "stderr",
     "output_type": "stream",
     "text": [
      "\u001b[A"
     ]
    },
    {
     "name": "stdout",
     "output_type": "stream",
     "text": [
      "max at end of edge summation 2\n",
      "max at end of edge summation 1\n"
     ]
    },
    {
     "name": "stderr",
     "output_type": "stream",
     "text": [
      "\n",
      "\r",
      " 19%|█▉        | 227/1200 [02:11<09:19,  1.74it/s]"
     ]
    },
    {
     "name": "stdout",
     "output_type": "stream",
     "text": [
      "max at end of edge summation 1\n",
      "threshold 2\n",
      "percent activated pixels 0.02622829861111111\n",
      "left overlapping pixels 26398; percent of total 0.9986003404577265\n",
      "right overlapping pixels 26736; percent of total 0.999738249261489\n",
      "****update left mask run\n",
      "****update right mask run\n",
      "[-0.00042864528517882528, -0.012340306951947433, 445.95012696533877]\n"
     ]
    },
    {
     "name": "stderr",
     "output_type": "stream",
     "text": [
      "\u001b[A"
     ]
    },
    {
     "name": "stdout",
     "output_type": "stream",
     "text": [
      "max at end of edge summation 2\n",
      "max at end of edge summation 2\n"
     ]
    },
    {
     "name": "stderr",
     "output_type": "stream",
     "text": [
      "\n",
      "\r",
      " 19%|█▉        | 228/1200 [02:12<09:35,  1.69it/s]"
     ]
    },
    {
     "name": "stdout",
     "output_type": "stream",
     "text": [
      "max at end of edge summation 1\n",
      "threshold 2\n",
      "percent activated pixels 0.02544596354166667\n",
      "left overlapping pixels 22010; percent of total 0.9992282199119262\n",
      "right overlapping pixels 29149; percent of total 0.9991088260497001\n",
      "****update left mask run\n",
      "****update right mask run\n",
      "[0.00054756980988078323, -0.64389938592118101, 451.97552324005039]\n"
     ]
    },
    {
     "name": "stderr",
     "output_type": "stream",
     "text": [
      "\u001b[A"
     ]
    },
    {
     "name": "stdout",
     "output_type": "stream",
     "text": [
      "max at end of edge summation 2\n",
      "max at end of edge summation 2\n"
     ]
    },
    {
     "name": "stderr",
     "output_type": "stream",
     "text": [
      "\n",
      "\r",
      " 19%|█▉        | 229/1200 [02:12<09:26,  1.71it/s]"
     ]
    },
    {
     "name": "stdout",
     "output_type": "stream",
     "text": [
      "max at end of edge summation 2\n",
      "threshold 2\n",
      "percent activated pixels 0.024832899305555555\n",
      "left overlapping pixels 20696; percent of total 0.9978784956605593\n",
      "right overlapping pixels 30698; percent of total 0.9985687333289962\n",
      "****update left mask run\n",
      "****update right mask run\n",
      "[-0.00081552312019547387, 0.26099243601442518, 416.50217575734621]\n"
     ]
    },
    {
     "name": "stderr",
     "output_type": "stream",
     "text": [
      "\u001b[A"
     ]
    },
    {
     "name": "stdout",
     "output_type": "stream",
     "text": [
      "max at end of edge summation 2\n",
      "max at end of edge summation 1\n"
     ]
    },
    {
     "name": "stderr",
     "output_type": "stream",
     "text": [
      "\n",
      "\r",
      " 19%|█▉        | 230/1200 [02:13<09:41,  1.67it/s]"
     ]
    },
    {
     "name": "stdout",
     "output_type": "stream",
     "text": [
      "max at end of edge summation 1\n",
      "threshold 2\n",
      "percent activated pixels 0.027038845486111112\n",
      "left overlapping pixels 21861; percent of total 0.9970354829882332\n",
      "right overlapping pixels 26794; percent of total 0.9990305741983594\n",
      "****update left mask run\n",
      "****update right mask run\n",
      "[-0.00063677474350215654, 0.26843395567242978, 340.47611185777555]\n"
     ]
    },
    {
     "name": "stderr",
     "output_type": "stream",
     "text": [
      "\u001b[A"
     ]
    },
    {
     "name": "stdout",
     "output_type": "stream",
     "text": [
      "max at end of edge summation 2\n",
      "max at end of edge summation 1\n"
     ]
    },
    {
     "name": "stderr",
     "output_type": "stream",
     "text": [
      "\n",
      "\r",
      " 19%|█▉        | 231/1200 [02:13<09:32,  1.69it/s]"
     ]
    },
    {
     "name": "stdout",
     "output_type": "stream",
     "text": [
      "max at end of edge summation 1\n",
      "threshold 2\n",
      "percent activated pixels 0.02655598958333333\n",
      "left overlapping pixels 18648; percent of total 0.9986611685321052\n",
      "right overlapping pixels 31555; percent of total 0.9985759493670886\n",
      "****update left mask run\n",
      "****update right mask run\n",
      "[0.0019781876819488287, -2.0099968853891217, 742.11017880101542]\n"
     ]
    },
    {
     "name": "stderr",
     "output_type": "stream",
     "text": [
      "\u001b[A"
     ]
    },
    {
     "name": "stdout",
     "output_type": "stream",
     "text": [
      "max at end of edge summation 2\n",
      "max at end of edge summation 1\n"
     ]
    },
    {
     "name": "stderr",
     "output_type": "stream",
     "text": [
      "\n",
      "\r",
      " 19%|█▉        | 232/1200 [02:14<09:44,  1.66it/s]"
     ]
    },
    {
     "name": "stdout",
     "output_type": "stream",
     "text": [
      "max at end of edge summation 1\n",
      "threshold 2\n",
      "percent activated pixels 0.02411349826388889\n",
      "left overlapping pixels 18541; percent of total 0.9985996660742177\n",
      "right overlapping pixels 33097; percent of total 0.9987024743512372\n",
      "****update left mask run\n",
      "****update right mask run\n",
      "[-0.00014139693618173816, 0.20035842562979886, 183.84687105510955]\n"
     ]
    },
    {
     "name": "stderr",
     "output_type": "stream",
     "text": [
      "\u001b[A"
     ]
    },
    {
     "name": "stdout",
     "output_type": "stream",
     "text": [
      "max at end of edge summation 2\n",
      "max at end of edge summation 2\n"
     ]
    },
    {
     "name": "stderr",
     "output_type": "stream",
     "text": [
      "\n",
      "\r",
      " 19%|█▉        | 233/1200 [02:15<09:30,  1.69it/s]"
     ]
    },
    {
     "name": "stdout",
     "output_type": "stream",
     "text": [
      "max at end of edge summation 1\n",
      "threshold 2\n",
      "percent activated pixels 0.023993055555555556\n",
      "left overlapping pixels 14878; percent of total 0.9970513336013939\n",
      "right overlapping pixels 31049; percent of total 0.9993241068554876\n",
      "****update left mask run\n",
      "****update right mask run\n",
      "[-0.00069996830320599344, 0.63805612567673653, 125.67003792925496]\n"
     ]
    },
    {
     "name": "stderr",
     "output_type": "stream",
     "text": [
      "\u001b[A"
     ]
    },
    {
     "name": "stdout",
     "output_type": "stream",
     "text": [
      "max at end of edge summation 2\n",
      "max at end of edge summation 2\n"
     ]
    },
    {
     "name": "stderr",
     "output_type": "stream",
     "text": [
      "\n",
      "\r",
      " 20%|█▉        | 234/1200 [02:15<09:40,  1.67it/s]"
     ]
    },
    {
     "name": "stdout",
     "output_type": "stream",
     "text": [
      "max at end of edge summation 1\n",
      "threshold 2\n",
      "percent activated pixels 0.02303927951388889\n",
      "left overlapping pixels 14210; percent of total 0.9971230089116553\n",
      "right overlapping pixels 32287; percent of total 0.9983920343857262\n",
      "****update left mask run\n",
      "****update right mask run\n",
      "[-0.00074612098943235177, 0.6468562351983107, 138.6260776019148]\n"
     ]
    },
    {
     "name": "stderr",
     "output_type": "stream",
     "text": [
      "\u001b[A"
     ]
    },
    {
     "name": "stdout",
     "output_type": "stream",
     "text": [
      "max at end of edge summation 2\n",
      "max at end of edge summation 2\n"
     ]
    },
    {
     "name": "stderr",
     "output_type": "stream",
     "text": [
      "\n",
      "\r",
      " 20%|█▉        | 235/1200 [02:16<09:24,  1.71it/s]"
     ]
    },
    {
     "name": "stdout",
     "output_type": "stream",
     "text": [
      "max at end of edge summation 1\n",
      "threshold 2\n",
      "percent activated pixels 0.020951605902777778\n",
      "left overlapping pixels 13503; percent of total 0.9961637772039837\n",
      "right overlapping pixels 35017; percent of total 0.9979765161878705\n",
      "****update left mask run\n",
      "****update right mask run\n",
      "[-0.0012443299667029822, 0.79811055848228707, 222.50767914357414]\n"
     ]
    },
    {
     "name": "stderr",
     "output_type": "stream",
     "text": [
      "\u001b[A"
     ]
    },
    {
     "name": "stdout",
     "output_type": "stream",
     "text": [
      "max at end of edge summation 2\n",
      "max at end of edge summation 2\n"
     ]
    },
    {
     "name": "stderr",
     "output_type": "stream",
     "text": [
      "\n",
      "\r",
      " 20%|█▉        | 236/1200 [02:16<09:36,  1.67it/s]"
     ]
    },
    {
     "name": "stdout",
     "output_type": "stream",
     "text": [
      "max at end of edge summation 2\n",
      "threshold 2\n",
      "percent activated pixels 0.019547526041666666\n",
      "left overlapping pixels 14316; percent of total 0.996380846325167\n",
      "right overlapping pixels 30764; percent of total 0.9978268625733839\n",
      "****update left mask run\n",
      "****update right mask run\n",
      "[-0.00028583276402198649, 0.12075573044670751, 286.71128606704804]\n"
     ]
    },
    {
     "name": "stderr",
     "output_type": "stream",
     "text": [
      "\u001b[A"
     ]
    },
    {
     "name": "stdout",
     "output_type": "stream",
     "text": [
      "max at end of edge summation 2\n",
      "max at end of edge summation 2\n"
     ]
    },
    {
     "name": "stderr",
     "output_type": "stream",
     "text": [
      "\n",
      "\r",
      " 20%|█▉        | 237/1200 [02:17<09:23,  1.71it/s]"
     ]
    },
    {
     "name": "stdout",
     "output_type": "stream",
     "text": [
      "max at end of edge summation 2\n",
      "threshold 2\n",
      "percent activated pixels 0.015805121527777778\n",
      "left overlapping pixels 13269; percent of total 0.9963955845911241\n",
      "right overlapping pixels 31422; percent of total 0.9977455307528658\n",
      "****update left mask run\n",
      "****update right mask run\n",
      "[-0.0013687091095970531, 0.80226880452391292, 259.68998825096844]\n"
     ]
    },
    {
     "name": "stderr",
     "output_type": "stream",
     "text": [
      "\u001b[A"
     ]
    },
    {
     "name": "stdout",
     "output_type": "stream",
     "text": [
      "max at end of edge summation 2\n",
      "max at end of edge summation 1\n"
     ]
    },
    {
     "name": "stderr",
     "output_type": "stream",
     "text": [
      "\n",
      "\r",
      " 20%|█▉        | 238/1200 [02:17<09:30,  1.69it/s]"
     ]
    },
    {
     "name": "stdout",
     "output_type": "stream",
     "text": [
      "max at end of edge summation 1\n",
      "threshold 2\n",
      "percent activated pixels 0.01708767361111111\n",
      "left overlapping pixels 12129; percent of total 0.9974506578947369\n",
      "right overlapping pixels 32344; percent of total 0.9976865418427465\n",
      "****update left mask run\n",
      "****update right mask run\n",
      "[-0.0017941847153751015, 1.1431726441928798, 209.49653972076356]\n"
     ]
    },
    {
     "name": "stderr",
     "output_type": "stream",
     "text": [
      "\u001b[A"
     ]
    },
    {
     "name": "stdout",
     "output_type": "stream",
     "text": [
      "max at end of edge summation 2\n",
      "max at end of edge summation 2\n"
     ]
    },
    {
     "name": "stderr",
     "output_type": "stream",
     "text": [
      "\n",
      "\r",
      " 20%|█▉        | 239/1200 [02:18<09:28,  1.69it/s]"
     ]
    },
    {
     "name": "stdout",
     "output_type": "stream",
     "text": [
      "max at end of edge summation 1\n",
      "threshold 2\n",
      "percent activated pixels 0.019637586805555555\n",
      "left overlapping pixels 11823; percent of total 0.9967121901871523\n",
      "right overlapping pixels 31390; percent of total 0.9980922098569157\n",
      "****update left mask run\n",
      "****update right mask run\n",
      "[-0.001946437034164839, 1.1762153663530694, 238.84087059447748]\n"
     ]
    },
    {
     "name": "stderr",
     "output_type": "stream",
     "text": [
      "\u001b[A"
     ]
    },
    {
     "name": "stdout",
     "output_type": "stream",
     "text": [
      "max at end of edge summation 2\n",
      "max at end of edge summation 1\n"
     ]
    },
    {
     "name": "stderr",
     "output_type": "stream",
     "text": [
      "\n",
      "\r",
      " 20%|██        | 240/1200 [02:19<09:55,  1.61it/s]"
     ]
    },
    {
     "name": "stdout",
     "output_type": "stream",
     "text": [
      "max at end of edge summation 1\n",
      "threshold 2\n",
      "percent activated pixels 0.019329427083333333\n",
      "left overlapping pixels 11712; percent of total 0.995579734784087\n",
      "right overlapping pixels 32271; percent of total 0.9976196364535674\n",
      "****update left mask run\n",
      "****update right mask run\n",
      "[-0.0019368125950134506, 1.1568734894623156, 249.19089027337617]\n"
     ]
    },
    {
     "name": "stderr",
     "output_type": "stream",
     "text": [
      "\u001b[A"
     ]
    },
    {
     "name": "stdout",
     "output_type": "stream",
     "text": [
      "max at end of edge summation 2\n",
      "max at end of edge summation 1\n"
     ]
    },
    {
     "name": "stderr",
     "output_type": "stream",
     "text": [
      "\n",
      "\r",
      " 20%|██        | 241/1200 [02:19<09:51,  1.62it/s]"
     ]
    },
    {
     "name": "stdout",
     "output_type": "stream",
     "text": [
      "max at end of edge summation 1\n",
      "threshold 2\n",
      "percent activated pixels 0.022279730902777777\n",
      "left overlapping pixels 11165; percent of total 0.996875\n",
      "right overlapping pixels 20581; percent of total 0.99893219434063\n",
      "****update left mask run\n",
      "****update right mask run\n",
      "[-0.0024189346799854804, 1.3207119169579662, 310.01271781625422]\n"
     ]
    },
    {
     "name": "stderr",
     "output_type": "stream",
     "text": [
      "\u001b[A"
     ]
    },
    {
     "name": "stdout",
     "output_type": "stream",
     "text": [
      "max at end of edge summation 2\n",
      "max at end of edge summation 1\n"
     ]
    },
    {
     "name": "stderr",
     "output_type": "stream",
     "text": [
      "\n",
      "\r",
      " 20%|██        | 242/1200 [02:20<09:38,  1.66it/s]"
     ]
    },
    {
     "name": "stdout",
     "output_type": "stream",
     "text": [
      "max at end of edge summation 1\n",
      "threshold 2\n",
      "percent activated pixels 0.022024739583333335\n",
      "left overlapping pixels 10515; percent of total 0.9967769456820552\n",
      "right overlapping pixels 18463; percent of total 0.9995127760935469\n",
      "****update left mask run\n",
      "****update right mask run\n",
      "[0.0005333831865433254, -0.66035168378487841, 460.49825076456159]\n"
     ]
    },
    {
     "name": "stderr",
     "output_type": "stream",
     "text": [
      "\u001b[A"
     ]
    },
    {
     "name": "stdout",
     "output_type": "stream",
     "text": [
      "max at end of edge summation 2\n",
      "max at end of edge summation 2\n"
     ]
    },
    {
     "name": "stderr",
     "output_type": "stream",
     "text": [
      "\n",
      "\r",
      " 20%|██        | 243/1200 [02:21<09:46,  1.63it/s]"
     ]
    },
    {
     "name": "stdout",
     "output_type": "stream",
     "text": [
      "max at end of edge summation 2\n",
      "threshold 2\n",
      "percent activated pixels 0.02188042534722222\n",
      "left overlapping pixels 9765; percent of total 0.996937212863706\n",
      "right overlapping pixels 18520; percent of total 1.0\n",
      "****update left mask run\n",
      "****update right mask run\n",
      "[-0.00069315195381500314, 0.14051677516785469, 413.53067284341125]\n"
     ]
    },
    {
     "name": "stderr",
     "output_type": "stream",
     "text": [
      "\u001b[A"
     ]
    },
    {
     "name": "stdout",
     "output_type": "stream",
     "text": [
      "max at end of edge summation 2\n",
      "max at end of edge summation 2\n"
     ]
    },
    {
     "name": "stderr",
     "output_type": "stream",
     "text": [
      "\n",
      "\r",
      " 20%|██        | 244/1200 [02:21<09:29,  1.68it/s]"
     ]
    },
    {
     "name": "stdout",
     "output_type": "stream",
     "text": [
      "max at end of edge summation 1\n",
      "threshold 2\n",
      "percent activated pixels 0.01731879340277778\n",
      "left overlapping pixels 10175; percent of total 0.9965719882468168\n",
      "right overlapping pixels 15849; percent of total 1.0\n",
      "****update left mask run\n",
      "****update right mask run\n",
      "[-0.00063635930008555306, 0.058573432903703537, 446.45627173789427]\n"
     ]
    },
    {
     "name": "stderr",
     "output_type": "stream",
     "text": [
      "\u001b[A"
     ]
    },
    {
     "name": "stdout",
     "output_type": "stream",
     "text": [
      "max at end of edge summation 2\n",
      "max at end of edge summation 2\n"
     ]
    },
    {
     "name": "stderr",
     "output_type": "stream",
     "text": [
      "\n",
      "\r",
      " 20%|██        | 245/1200 [02:22<09:33,  1.66it/s]"
     ]
    },
    {
     "name": "stdout",
     "output_type": "stream",
     "text": [
      "max at end of edge summation 1\n",
      "threshold 2\n",
      "percent activated pixels 0.016558159722222222\n",
      "left overlapping pixels 9479; percent of total 0.9959025005253205\n",
      "right overlapping pixels 16090; percent of total 1.0\n",
      "****update left mask run\n",
      "****update right mask run\n",
      "[0.00071741692670346919, -0.89956650301597163, 545.04930861469256]\n"
     ]
    },
    {
     "name": "stderr",
     "output_type": "stream",
     "text": [
      "\u001b[A"
     ]
    },
    {
     "name": "stdout",
     "output_type": "stream",
     "text": [
      "max at end of edge summation 2\n",
      "max at end of edge summation 1\n"
     ]
    },
    {
     "name": "stderr",
     "output_type": "stream",
     "text": [
      "\n",
      "\r",
      " 20%|██        | 246/1200 [02:22<09:26,  1.69it/s]"
     ]
    },
    {
     "name": "stdout",
     "output_type": "stream",
     "text": [
      "max at end of edge summation 1\n",
      "threshold 2\n",
      "percent activated pixels 0.01693576388888889\n",
      "left overlapping pixels 8288; percent of total 0.9947191550648103\n",
      "right overlapping pixels 15840; percent of total 1.0\n",
      "****update left mask run\n",
      "****update right mask run\n",
      "[-0.0020702930260898486, 0.90210220685486631, 447.72431670490664]\n"
     ]
    },
    {
     "name": "stderr",
     "output_type": "stream",
     "text": [
      "\u001b[A"
     ]
    },
    {
     "name": "stdout",
     "output_type": "stream",
     "text": [
      "max at end of edge summation 2\n",
      "max at end of edge summation 1\n"
     ]
    },
    {
     "name": "stderr",
     "output_type": "stream",
     "text": [
      "\n",
      "\r",
      " 21%|██        | 247/1200 [02:23<09:50,  1.61it/s]"
     ]
    },
    {
     "name": "stdout",
     "output_type": "stream",
     "text": [
      "max at end of edge summation 2\n",
      "threshold 2\n",
      "percent activated pixels 0.02296657986111111\n",
      "left overlapping pixels 8275; percent of total 0.9957882069795427\n",
      "right overlapping pixels 16184; percent of total 1.0\n",
      "****update left mask run\n",
      "****update right mask run\n",
      "[0.0005332754789908711, -0.91720395890851492, 607.87201048375107]\n"
     ]
    },
    {
     "name": "stderr",
     "output_type": "stream",
     "text": [
      "\u001b[A"
     ]
    },
    {
     "name": "stdout",
     "output_type": "stream",
     "text": [
      "max at end of edge summation 2\n",
      "max at end of edge summation 2\n"
     ]
    },
    {
     "name": "stderr",
     "output_type": "stream",
     "text": [
      "\n",
      "\r",
      " 21%|██        | 248/1200 [02:24<09:38,  1.65it/s]"
     ]
    },
    {
     "name": "stdout",
     "output_type": "stream",
     "text": [
      "max at end of edge summation 1\n",
      "threshold 2\n",
      "percent activated pixels 0.017288411458333333\n",
      "left overlapping pixels 8475; percent of total 0.9958871915393654\n",
      "right overlapping pixels 15049; percent of total 1.0\n",
      "****update left mask run\n",
      "****update right mask run\n",
      "[0.0015542892224745678, -1.5636057840413375, 629.73254190147736]\n"
     ]
    },
    {
     "name": "stderr",
     "output_type": "stream",
     "text": [
      "\u001b[A"
     ]
    },
    {
     "name": "stdout",
     "output_type": "stream",
     "text": [
      "max at end of edge summation 2\n",
      "max at end of edge summation 2\n"
     ]
    },
    {
     "name": "stderr",
     "output_type": "stream",
     "text": [
      "\n",
      "\r",
      " 21%|██        | 249/1200 [02:24<09:59,  1.59it/s]"
     ]
    },
    {
     "name": "stdout",
     "output_type": "stream",
     "text": [
      "max at end of edge summation 1\n",
      "threshold 2\n",
      "percent activated pixels 0.01776692708333333\n",
      "left overlapping pixels 7608; percent of total 0.9981632117554448\n",
      "right overlapping pixels 15060; percent of total 1.0\n",
      "****update left mask run\n",
      "****update right mask run\n",
      "[0.0035886540864245439, -3.0718572580151449, 812.46574355625421]\n"
     ]
    },
    {
     "name": "stderr",
     "output_type": "stream",
     "text": [
      "\u001b[A"
     ]
    },
    {
     "name": "stdout",
     "output_type": "stream",
     "text": [
      "max at end of edge summation 2\n",
      "max at end of edge summation 1\n"
     ]
    },
    {
     "name": "stderr",
     "output_type": "stream",
     "text": [
      "\n",
      "\r",
      " 21%|██        | 250/1200 [02:25<09:41,  1.63it/s]"
     ]
    },
    {
     "name": "stdout",
     "output_type": "stream",
     "text": [
      "max at end of edge summation 1\n",
      "threshold 2\n",
      "percent activated pixels 0.019192708333333332\n",
      "left overlapping pixels 6697; percent of total 0.9986579182821353\n",
      "right overlapping pixels 13133; percent of total 1.0\n",
      "****update left mask run\n",
      "****update right mask run\n",
      "[0.0021880173809216076, -2.0794953212811014, 713.35104706317952]\n"
     ]
    },
    {
     "name": "stderr",
     "output_type": "stream",
     "text": [
      "\u001b[A"
     ]
    },
    {
     "name": "stdout",
     "output_type": "stream",
     "text": [
      "max at end of edge summation 2\n",
      "max at end of edge summation 2\n"
     ]
    },
    {
     "name": "stderr",
     "output_type": "stream",
     "text": [
      "\n",
      "\r",
      " 21%|██        | 251/1200 [02:25<09:42,  1.63it/s]"
     ]
    },
    {
     "name": "stdout",
     "output_type": "stream",
     "text": [
      "max at end of edge summation 1\n",
      "threshold 2\n",
      "percent activated pixels 0.02034722222222222\n",
      "left overlapping pixels 6596; percent of total 0.9986373959121877\n",
      "right overlapping pixels 13035; percent of total 1.0\n",
      "****update left mask run\n",
      "****update right mask run\n",
      "[0.0021558897567040256, -2.0439072914935643, 712.423946158533]\n"
     ]
    },
    {
     "name": "stderr",
     "output_type": "stream",
     "text": [
      "\u001b[A"
     ]
    },
    {
     "name": "stdout",
     "output_type": "stream",
     "text": [
      "max at end of edge summation 2\n",
      "max at end of edge summation 1\n",
      "max at end of edge summation 1\n",
      "threshold 2\n",
      "percent activated pixels 0.02101779513888889\n",
      "left overlapping pixels 5742; percent of total 0.9984350547730829\n",
      "right overlapping pixels 16597; percent of total 0.9992173389524382\n",
      "****update left mask run\n",
      "****update right mask run\n",
      "[0.0025274115720994379, -2.281271419630893, 740.94130936103352]\n"
     ]
    },
    {
     "name": "stderr",
     "output_type": "stream",
     "text": [
      "\n",
      " 21%|██        | 252/1200 [02:26<10:11,  1.55it/s]\u001b[A"
     ]
    },
    {
     "name": "stdout",
     "output_type": "stream",
     "text": [
      "max at end of edge summation 2\n",
      "max at end of edge summation 1\n",
      "max at end of edge summation 1\n",
      "threshold 2\n",
      "percent activated pixels 0.021571180555555555\n",
      "left overlapping pixels 4443; percent of total 1.0\n",
      "right overlapping pixels 14142; percent of total 0.9987288135593221\n",
      "****update left mask run\n",
      "****update right mask run\n",
      "[0.0019581617705890682, -1.5729027906136024, 513.66820298128027]\n"
     ]
    },
    {
     "name": "stderr",
     "output_type": "stream",
     "text": [
      "\n",
      " 21%|██        | 253/1200 [02:27<12:14,  1.29it/s]\u001b[A"
     ]
    },
    {
     "name": "stdout",
     "output_type": "stream",
     "text": [
      "max at end of edge summation 2\n",
      "max at end of edge summation 2\n"
     ]
    },
    {
     "name": "stderr",
     "output_type": "stream",
     "text": [
      "\n",
      "\r",
      " 21%|██        | 254/1200 [02:28<12:05,  1.30it/s]"
     ]
    },
    {
     "name": "stdout",
     "output_type": "stream",
     "text": [
      "max at end of edge summation 1\n",
      "threshold 2\n",
      "percent activated pixels 0.02085177951388889\n",
      "left overlapping pixels 5551; percent of total 0.992135835567471\n",
      "right overlapping pixels 16102; percent of total 0.9986355742991814\n",
      "****update left mask run\n",
      "****update right mask run\n",
      "[0.0032848726281258286, -2.9019065378646309, 827.03059004626743]\n"
     ]
    },
    {
     "name": "stderr",
     "output_type": "stream",
     "text": [
      "\u001b[A"
     ]
    },
    {
     "name": "stdout",
     "output_type": "stream",
     "text": [
      "max at end of edge summation 2\n",
      "max at end of edge summation 2\n"
     ]
    },
    {
     "name": "stderr",
     "output_type": "stream",
     "text": [
      "\n",
      "\r",
      " 21%|██▏       | 255/1200 [02:29<11:19,  1.39it/s]"
     ]
    },
    {
     "name": "stdout",
     "output_type": "stream",
     "text": [
      "max at end of edge summation 1\n",
      "threshold 2\n",
      "percent activated pixels 0.021270616319444446\n",
      "left overlapping pixels 2961; percent of total 0.990632318501171\n",
      "right overlapping pixels 21123; percent of total 0.9977798771846953\n",
      "****update left mask run\n",
      "****update right mask run\n",
      "[0.0032961049871674157, -2.9062219065500119, 826.64602384207899]\n"
     ]
    },
    {
     "name": "stderr",
     "output_type": "stream",
     "text": [
      "\u001b[A"
     ]
    },
    {
     "name": "stdout",
     "output_type": "stream",
     "text": [
      "max at end of edge summation 2\n",
      "max at end of edge summation 2\n"
     ]
    },
    {
     "name": "stderr",
     "output_type": "stream",
     "text": [
      "\n",
      "\r",
      " 21%|██▏       | 256/1200 [02:29<10:55,  1.44it/s]"
     ]
    },
    {
     "name": "stdout",
     "output_type": "stream",
     "text": [
      "max at end of edge summation 2\n",
      "threshold 2\n",
      "percent activated pixels 0.02200412326388889\n",
      "left overlapping pixels 2915; percent of total 0.9736138944555778\n",
      "right overlapping pixels 22404; percent of total 0.9949373834265921\n",
      "****update left mask run\n",
      "****update right mask run\n",
      "[0.0024784200225262654, -1.8265238197276825, 481.33204599323051]\n"
     ]
    },
    {
     "name": "stderr",
     "output_type": "stream",
     "text": [
      "\u001b[A"
     ]
    },
    {
     "name": "stdout",
     "output_type": "stream",
     "text": [
      "max at end of edge summation 2\n",
      "max at end of edge summation 2\n"
     ]
    },
    {
     "name": "stderr",
     "output_type": "stream",
     "text": [
      "\n",
      "\r",
      " 21%|██▏       | 257/1200 [02:30<10:16,  1.53it/s]"
     ]
    },
    {
     "name": "stdout",
     "output_type": "stream",
     "text": [
      "max at end of edge summation 1\n",
      "threshold 2\n",
      "percent activated pixels 0.021911892361111112\n",
      "left overlapping pixels 4878; percent of total 0.9842615012106537\n",
      "right overlapping pixels 25711; percent of total 0.9965503875968992\n",
      "****update left mask run\n",
      "****update right mask run\n",
      "[-6.6901776866881875e-05, -0.23919914170847623, 409.87998437349654]\n"
     ]
    },
    {
     "name": "stderr",
     "output_type": "stream",
     "text": [
      "\u001b[A"
     ]
    },
    {
     "name": "stdout",
     "output_type": "stream",
     "text": [
      "max at end of edge summation 2\n",
      "max at end of edge summation 1\n"
     ]
    },
    {
     "name": "stderr",
     "output_type": "stream",
     "text": [
      "\n",
      "\r",
      " 22%|██▏       | 258/1200 [02:30<10:15,  1.53it/s]"
     ]
    },
    {
     "name": "stdout",
     "output_type": "stream",
     "text": [
      "max at end of edge summation 2\n",
      "threshold 2\n",
      "percent activated pixels 0.021854383680555554\n",
      "left overlapping pixels 6375; percent of total 0.9903681839366164\n",
      "right overlapping pixels 25477; percent of total 0.9943796104757816\n",
      "****update left mask run\n",
      "****update right mask run\n",
      "[0.0019303039814866101, -1.4694679894773763, 446.4339733591442]\n"
     ]
    },
    {
     "name": "stderr",
     "output_type": "stream",
     "text": [
      "\u001b[A"
     ]
    },
    {
     "name": "stdout",
     "output_type": "stream",
     "text": [
      "max at end of edge summation 2\n",
      "max at end of edge summation 1\n"
     ]
    },
    {
     "name": "stderr",
     "output_type": "stream",
     "text": [
      "\n",
      "\r",
      " 22%|██▏       | 259/1200 [02:31<09:51,  1.59it/s]"
     ]
    },
    {
     "name": "stdout",
     "output_type": "stream",
     "text": [
      "max at end of edge summation 2\n",
      "threshold 2\n",
      "percent activated pixels 0.023009982638888888\n",
      "left overlapping pixels 7838; percent of total 0.9944176604922609\n",
      "right overlapping pixels 28324; percent of total 0.9943479024047744\n",
      "****update left mask run\n",
      "****update right mask run\n",
      "[0.0018802430497855079, -1.5375030660210045, 484.8168130679548]\n"
     ]
    },
    {
     "name": "stderr",
     "output_type": "stream",
     "text": [
      "\u001b[A"
     ]
    },
    {
     "name": "stdout",
     "output_type": "stream",
     "text": [
      "max at end of edge summation 2\n",
      "max at end of edge summation 2\n"
     ]
    },
    {
     "name": "stderr",
     "output_type": "stream",
     "text": [
      "\n",
      "\r",
      " 22%|██▏       | 260/1200 [02:32<09:54,  1.58it/s]"
     ]
    },
    {
     "name": "stdout",
     "output_type": "stream",
     "text": [
      "max at end of edge summation 1\n",
      "threshold 2\n",
      "percent activated pixels 0.023129340277777778\n",
      "left overlapping pixels 10876; percent of total 0.9896269335759782\n",
      "right overlapping pixels 25188; percent of total 0.9945510542525468\n",
      "****update left mask run\n",
      "****update right mask run\n",
      "[0.00010931547234377913, -0.35182117517524014, 444.38990545382461]\n"
     ]
    },
    {
     "name": "stderr",
     "output_type": "stream",
     "text": [
      "\u001b[A"
     ]
    },
    {
     "name": "stdout",
     "output_type": "stream",
     "text": [
      "max at end of edge summation 2\n",
      "max at end of edge summation 1\n"
     ]
    },
    {
     "name": "stderr",
     "output_type": "stream",
     "text": [
      "\n",
      "\r",
      " 22%|██▏       | 261/1200 [02:32<09:35,  1.63it/s]"
     ]
    },
    {
     "name": "stdout",
     "output_type": "stream",
     "text": [
      "max at end of edge summation 1\n",
      "threshold 2\n",
      "percent activated pixels 0.021053602430555554\n",
      "left overlapping pixels 10320; percent of total 0.995754534928599\n",
      "right overlapping pixels 28425; percent of total 0.995342811121227\n",
      "****update left mask run\n",
      "****update right mask run\n",
      "[0.0004524871212540874, -0.67986967467136361, 542.41624135950588]\n"
     ]
    },
    {
     "name": "stderr",
     "output_type": "stream",
     "text": [
      "\u001b[A"
     ]
    },
    {
     "name": "stdout",
     "output_type": "stream",
     "text": [
      "max at end of edge summation 2\n",
      "max at end of edge summation 1\n"
     ]
    },
    {
     "name": "stderr",
     "output_type": "stream",
     "text": [
      "\n",
      "\r",
      " 22%|██▏       | 262/1200 [02:33<09:39,  1.62it/s]"
     ]
    },
    {
     "name": "stdout",
     "output_type": "stream",
     "text": [
      "max at end of edge summation 1\n",
      "threshold 2\n",
      "percent activated pixels 0.020445963541666667\n",
      "left overlapping pixels 12734; percent of total 0.9937568284688622\n",
      "right overlapping pixels 33914; percent of total 0.9962106747348941\n",
      "****update left mask run\n",
      "****update right mask run\n",
      "[-0.00072739526209863602, 0.086443886956631688, 462.12497995667729]\n"
     ]
    },
    {
     "name": "stderr",
     "output_type": "stream",
     "text": [
      "\u001b[A"
     ]
    },
    {
     "name": "stdout",
     "output_type": "stream",
     "text": [
      "max at end of edge summation 2\n",
      "max at end of edge summation 1\n"
     ]
    },
    {
     "name": "stderr",
     "output_type": "stream",
     "text": [
      "\n",
      "\r",
      " 22%|██▏       | 263/1200 [02:34<10:07,  1.54it/s]"
     ]
    },
    {
     "name": "stdout",
     "output_type": "stream",
     "text": [
      "max at end of edge summation 1\n",
      "threshold 2\n",
      "percent activated pixels 0.020343967013888888\n",
      "left overlapping pixels 13556; percent of total 0.9958859829562151\n",
      "right overlapping pixels 39637; percent of total 0.997307769726248\n",
      "****update left mask run\n",
      "****update right mask run\n",
      "[0.0018991534186377161, -1.9050659000156467, 671.69227770861812]\n"
     ]
    },
    {
     "name": "stderr",
     "output_type": "stream",
     "text": [
      "\u001b[A"
     ]
    },
    {
     "name": "stdout",
     "output_type": "stream",
     "text": [
      "max at end of edge summation 2\n",
      "max at end of edge summation 1\n"
     ]
    },
    {
     "name": "stderr",
     "output_type": "stream",
     "text": [
      "\n",
      "\r",
      " 22%|██▏       | 264/1200 [02:34<09:59,  1.56it/s]"
     ]
    },
    {
     "name": "stdout",
     "output_type": "stream",
     "text": [
      "max at end of edge summation 1\n",
      "threshold 2\n",
      "percent activated pixels 0.020064019097222222\n",
      "left overlapping pixels 13861; percent of total 0.9959761442839693\n",
      "right overlapping pixels 37767; percent of total 0.9977807719743204\n",
      "****update left mask run\n",
      "****update right mask run\n",
      "[-5.477698381924816e-06, -0.27886307470887389, 383.08654692178283]\n"
     ]
    },
    {
     "name": "stderr",
     "output_type": "stream",
     "text": [
      "\u001b[A"
     ]
    },
    {
     "name": "stdout",
     "output_type": "stream",
     "text": [
      "max at end of edge summation 2\n",
      "max at end of edge summation 1\n"
     ]
    },
    {
     "name": "stderr",
     "output_type": "stream",
     "text": [
      "\n",
      "\r",
      " 22%|██▏       | 265/1200 [02:35<09:41,  1.61it/s]"
     ]
    },
    {
     "name": "stdout",
     "output_type": "stream",
     "text": [
      "max at end of edge summation 1\n",
      "threshold 2\n",
      "percent activated pixels 0.02045681423611111\n",
      "left overlapping pixels 15712; percent of total 0.9954384186517993\n",
      "right overlapping pixels 37636; percent of total 0.9968480995894583\n",
      "****update left mask run\n",
      "****update right mask run\n",
      "[0.0007456055318598939, -0.8694237022373692, 471.69571233240134]\n"
     ]
    },
    {
     "name": "stderr",
     "output_type": "stream",
     "text": [
      "\u001b[A"
     ]
    },
    {
     "name": "stdout",
     "output_type": "stream",
     "text": [
      "max at end of edge summation 2\n",
      "max at end of edge summation 1\n"
     ]
    },
    {
     "name": "stderr",
     "output_type": "stream",
     "text": [
      "\n",
      "\r",
      " 22%|██▏       | 266/1200 [02:35<09:46,  1.59it/s]"
     ]
    },
    {
     "name": "stdout",
     "output_type": "stream",
     "text": [
      "max at end of edge summation 1\n",
      "threshold 2\n",
      "percent activated pixels 0.01908962673611111\n",
      "left overlapping pixels 14074; percent of total 0.9944181445629902\n",
      "right overlapping pixels 42575; percent of total 0.998101087771943\n",
      "****update left mask run\n",
      "****update right mask run\n",
      "[-0.0017456239960117453, 0.99145454028635116, 249.14294722848211]\n"
     ]
    },
    {
     "name": "stderr",
     "output_type": "stream",
     "text": [
      "\u001b[A"
     ]
    },
    {
     "name": "stdout",
     "output_type": "stream",
     "text": [
      "max at end of edge summation 2\n",
      "max at end of edge summation 1\n"
     ]
    },
    {
     "name": "stderr",
     "output_type": "stream",
     "text": [
      "\n",
      "\r",
      " 22%|██▏       | 267/1200 [02:36<09:29,  1.64it/s]"
     ]
    },
    {
     "name": "stdout",
     "output_type": "stream",
     "text": [
      "max at end of edge summation 1\n",
      "threshold 2\n",
      "percent activated pixels 0.0179296875\n",
      "left overlapping pixels 17278; percent of total 0.99424559788238\n",
      "right overlapping pixels 40790; percent of total 0.9973836711739248\n",
      "****update left mask run\n",
      "****update right mask run\n",
      "[-0.003302813629005954, 2.0630696725334094, 168.73537099825921]\n"
     ]
    },
    {
     "name": "stderr",
     "output_type": "stream",
     "text": [
      "\u001b[A"
     ]
    },
    {
     "name": "stdout",
     "output_type": "stream",
     "text": [
      "max at end of edge summation 2\n",
      "max at end of edge summation 2\n"
     ]
    },
    {
     "name": "stderr",
     "output_type": "stream",
     "text": [
      "\n",
      "\r",
      " 22%|██▏       | 268/1200 [02:37<09:40,  1.61it/s]"
     ]
    },
    {
     "name": "stdout",
     "output_type": "stream",
     "text": [
      "max at end of edge summation 1\n",
      "threshold 2\n",
      "percent activated pixels 0.017710503472222222\n",
      "left overlapping pixels 17818; percent of total 0.9958640733288621\n",
      "right overlapping pixels 45301; percent of total 0.9958014595972918\n",
      "****update left mask run\n",
      "****update right mask run\n",
      "[-0.0033405651261409356, 1.9431016276635784, 259.80657362677692]\n"
     ]
    },
    {
     "name": "stderr",
     "output_type": "stream",
     "text": [
      "\u001b[A"
     ]
    },
    {
     "name": "stdout",
     "output_type": "stream",
     "text": [
      "max at end of edge summation 2\n",
      "max at end of edge summation 1\n"
     ]
    },
    {
     "name": "stderr",
     "output_type": "stream",
     "text": [
      "\n",
      "\r",
      " 22%|██▏       | 269/1200 [02:37<09:22,  1.66it/s]"
     ]
    },
    {
     "name": "stdout",
     "output_type": "stream",
     "text": [
      "max at end of edge summation 1\n",
      "threshold 2\n",
      "percent activated pixels 0.01773220486111111\n",
      "left overlapping pixels 18151; percent of total 0.9987894128652396\n",
      "right overlapping pixels 45214; percent of total 0.9972649874277648\n",
      "****update left mask run\n",
      "****update right mask run\n",
      "[-0.0033321793238427614, 1.9178533236931037, 316.71272481319619]\n"
     ]
    },
    {
     "name": "stderr",
     "output_type": "stream",
     "text": [
      "\u001b[A"
     ]
    },
    {
     "name": "stdout",
     "output_type": "stream",
     "text": [
      "max at end of edge summation 2\n",
      "max at end of edge summation 1\n"
     ]
    },
    {
     "name": "stderr",
     "output_type": "stream",
     "text": [
      "\n",
      "\r",
      " 22%|██▎       | 270/1200 [02:38<09:28,  1.64it/s]"
     ]
    },
    {
     "name": "stdout",
     "output_type": "stream",
     "text": [
      "max at end of edge summation 1\n",
      "threshold 2\n",
      "percent activated pixels 0.017836371527777777\n",
      "left overlapping pixels 15862; percent of total 1.0\n",
      "right overlapping pixels 51042; percent of total 0.9984351159970267\n",
      "****update left mask run\n",
      "****update right mask run\n",
      "[-0.0031209648134812966, 1.8849016832503924, 277.56465232487938]\n"
     ]
    },
    {
     "name": "stderr",
     "output_type": "stream",
     "text": [
      "\u001b[A"
     ]
    },
    {
     "name": "stdout",
     "output_type": "stream",
     "text": [
      "max at end of edge summation 2\n",
      "max at end of edge summation 1\n"
     ]
    },
    {
     "name": "stderr",
     "output_type": "stream",
     "text": [
      "\n",
      "\r",
      " 23%|██▎       | 271/1200 [02:38<09:35,  1.61it/s]"
     ]
    },
    {
     "name": "stdout",
     "output_type": "stream",
     "text": [
      "max at end of edge summation 1\n",
      "threshold 2\n",
      "percent activated pixels 0.018701171875\n",
      "left overlapping pixels 10563; percent of total 1.0\n",
      "right overlapping pixels 46924; percent of total 0.9969617778910914\n",
      "****update left mask run\n",
      "****update right mask run\n",
      "[-0.0015414104765597606, 0.75898220978969411, 357.77346701379253]\n"
     ]
    },
    {
     "name": "stderr",
     "output_type": "stream",
     "text": [
      "\u001b[A"
     ]
    },
    {
     "name": "stdout",
     "output_type": "stream",
     "text": [
      "max at end of edge summation 2\n",
      "max at end of edge summation 1\n"
     ]
    },
    {
     "name": "stderr",
     "output_type": "stream",
     "text": [
      "\n",
      "\r",
      " 23%|██▎       | 272/1200 [02:39<09:15,  1.67it/s]"
     ]
    },
    {
     "name": "stdout",
     "output_type": "stream",
     "text": [
      "max at end of edge summation 1\n",
      "threshold 2\n",
      "percent activated pixels 0.018740234375\n",
      "left overlapping pixels 9587; percent of total 1.0\n",
      "right overlapping pixels 47115; percent of total 0.9989610720040709\n",
      "****update left mask run\n",
      "****update right mask run\n",
      "[-0.0024287899210349807, 1.3796936554258876, 295.26436370103198]\n"
     ]
    },
    {
     "name": "stderr",
     "output_type": "stream",
     "text": [
      "\u001b[A"
     ]
    },
    {
     "name": "stdout",
     "output_type": "stream",
     "text": [
      "max at end of edge summation 2\n",
      "max at end of edge summation 1\n"
     ]
    },
    {
     "name": "stderr",
     "output_type": "stream",
     "text": [
      "\n",
      "\r",
      " 23%|██▎       | 273/1200 [02:40<09:05,  1.70it/s]"
     ]
    },
    {
     "name": "stdout",
     "output_type": "stream",
     "text": [
      "max at end of edge summation 1\n",
      "threshold 2\n",
      "percent activated pixels 0.01835720486111111\n",
      "left overlapping pixels 9796; percent of total 1.0\n",
      "right overlapping pixels 47902; percent of total 0.9981870845402071\n",
      "****update left mask run\n",
      "****update right mask run\n",
      "[-0.0022151904577263266, 1.2798494102647091, 293.18679968630346]\n"
     ]
    },
    {
     "name": "stderr",
     "output_type": "stream",
     "text": [
      "\u001b[A"
     ]
    },
    {
     "name": "stdout",
     "output_type": "stream",
     "text": [
      "max at end of edge summation 2\n",
      "max at end of edge summation 1\n"
     ]
    },
    {
     "name": "stderr",
     "output_type": "stream",
     "text": [
      "\n",
      "\r",
      " 23%|██▎       | 274/1200 [02:40<09:24,  1.64it/s]"
     ]
    },
    {
     "name": "stdout",
     "output_type": "stream",
     "text": [
      "max at end of edge summation 1\n",
      "threshold 2\n",
      "percent activated pixels 0.017249348958333334\n",
      "left overlapping pixels 9479; percent of total 1.0\n",
      "right overlapping pixels 47967; percent of total 0.9978365334609224\n",
      "****update left mask run\n",
      "****update right mask run\n",
      "[-0.00027625448525022149, -0.085658174128612499, 544.08163885868203]\n"
     ]
    },
    {
     "name": "stderr",
     "output_type": "stream",
     "text": [
      "\u001b[A"
     ]
    },
    {
     "name": "stdout",
     "output_type": "stream",
     "text": [
      "max at end of edge summation 2\n",
      "max at end of edge summation 1\n"
     ]
    },
    {
     "name": "stderr",
     "output_type": "stream",
     "text": [
      "\n",
      "\r",
      " 23%|██▎       | 275/1200 [02:41<09:24,  1.64it/s]"
     ]
    },
    {
     "name": "stdout",
     "output_type": "stream",
     "text": [
      "max at end of edge summation 1\n",
      "threshold 2\n",
      "percent activated pixels 0.018283420138888888\n",
      "left overlapping pixels 7768; percent of total 1.0\n",
      "right overlapping pixels 52532; percent of total 0.9970959476131727\n",
      "****update left mask run\n",
      "****update right mask run\n",
      "[-2.5403595585839125e-05, -0.43302520065187999, 617.86893707708566]\n"
     ]
    },
    {
     "name": "stderr",
     "output_type": "stream",
     "text": [
      "\u001b[A"
     ]
    },
    {
     "name": "stdout",
     "output_type": "stream",
     "text": [
      "max at end of edge summation 2\n",
      "max at end of edge summation 1\n"
     ]
    },
    {
     "name": "stderr",
     "output_type": "stream",
     "text": [
      "\n",
      "\r",
      " 23%|██▎       | 276/1200 [02:41<09:29,  1.62it/s]"
     ]
    },
    {
     "name": "stdout",
     "output_type": "stream",
     "text": [
      "max at end of edge summation 1\n",
      "threshold 2\n",
      "percent activated pixels 0.019930555555555556\n",
      "left overlapping pixels 8720; percent of total 1.0\n",
      "right overlapping pixels 53625; percent of total 0.9991056956011403\n",
      "****update left mask run\n",
      "****update right mask run\n",
      "[-0.00067679579263526678, 0.14163507596054997, 543.33123638876168]\n"
     ]
    },
    {
     "name": "stderr",
     "output_type": "stream",
     "text": [
      "\u001b[A"
     ]
    },
    {
     "name": "stdout",
     "output_type": "stream",
     "text": [
      "max at end of edge summation 2\n",
      "max at end of edge summation 1\n"
     ]
    },
    {
     "name": "stderr",
     "output_type": "stream",
     "text": [
      "\n",
      "\r",
      " 23%|██▎       | 277/1200 [02:42<09:18,  1.65it/s]"
     ]
    },
    {
     "name": "stdout",
     "output_type": "stream",
     "text": [
      "max at end of edge summation 1\n",
      "threshold 2\n",
      "percent activated pixels 0.022644314236111112\n",
      "left overlapping pixels 7628; percent of total 1.0\n",
      "right overlapping pixels 53833; percent of total 0.9980718245360328\n",
      "****update left mask run\n",
      "****update right mask run\n",
      "[-0.00082319343660949146, 0.65199751997286848, 251.47033500774006]\n"
     ]
    },
    {
     "name": "stderr",
     "output_type": "stream",
     "text": [
      "\u001b[A"
     ]
    },
    {
     "name": "stdout",
     "output_type": "stream",
     "text": [
      "max at end of edge summation 2\n",
      "max at end of edge summation 1\n"
     ]
    },
    {
     "name": "stderr",
     "output_type": "stream",
     "text": [
      "\n",
      "\r",
      " 23%|██▎       | 278/1200 [02:43<09:38,  1.59it/s]"
     ]
    },
    {
     "name": "stdout",
     "output_type": "stream",
     "text": [
      "max at end of edge summation 1\n",
      "threshold 2\n",
      "percent activated pixels 0.024188368055555555\n",
      "left overlapping pixels 6998; percent of total 0.9988581216100485\n",
      "right overlapping pixels 52585; percent of total 0.9982345571206196\n",
      "****update left mask run\n",
      "****update right mask run\n",
      "[0.0027038519298116068, -1.8355891789380407, 544.8687432034917]\n"
     ]
    },
    {
     "name": "stderr",
     "output_type": "stream",
     "text": [
      "\u001b[A"
     ]
    },
    {
     "name": "stdout",
     "output_type": "stream",
     "text": [
      "max at end of edge summation 2\n",
      "max at end of edge summation 1\n"
     ]
    },
    {
     "name": "stderr",
     "output_type": "stream",
     "text": [
      "\n",
      "\r",
      " 23%|██▎       | 279/1200 [02:43<09:27,  1.62it/s]"
     ]
    },
    {
     "name": "stdout",
     "output_type": "stream",
     "text": [
      "max at end of edge summation 1\n",
      "threshold 2\n",
      "percent activated pixels 0.02612521701388889\n",
      "left overlapping pixels 8190; percent of total 0.995260663507109\n",
      "right overlapping pixels 54261; percent of total 0.9982889943702395\n",
      "****update left mask run\n",
      "****update right mask run\n",
      "[0.0028788536223588604, -2.2133886431860983, 675.43515555076158]\n"
     ]
    },
    {
     "name": "stderr",
     "output_type": "stream",
     "text": [
      "\u001b[A"
     ]
    },
    {
     "name": "stdout",
     "output_type": "stream",
     "text": [
      "max at end of edge summation 2\n",
      "max at end of edge summation 1\n"
     ]
    },
    {
     "name": "stderr",
     "output_type": "stream",
     "text": [
      "\n",
      "\r",
      " 23%|██▎       | 280/1200 [02:44<09:27,  1.62it/s]"
     ]
    },
    {
     "name": "stdout",
     "output_type": "stream",
     "text": [
      "max at end of edge summation 1\n",
      "threshold 2\n",
      "percent activated pixels 0.026106770833333334\n",
      "left overlapping pixels 9272; percent of total 0.9955975518092989\n",
      "right overlapping pixels 49096; percent of total 0.9995928007166708\n",
      "****update left mask run\n",
      "****update right mask run\n",
      "[0.0024303132135625382, -2.0929834085018695, 766.7646435787027]\n"
     ]
    },
    {
     "name": "stderr",
     "output_type": "stream",
     "text": [
      "\u001b[A"
     ]
    },
    {
     "name": "stdout",
     "output_type": "stream",
     "text": [
      "max at end of edge summation 2\n",
      "max at end of edge summation 1\n"
     ]
    },
    {
     "name": "stderr",
     "output_type": "stream",
     "text": [
      "\n",
      "\r",
      " 23%|██▎       | 281/1200 [02:45<09:33,  1.60it/s]"
     ]
    },
    {
     "name": "stdout",
     "output_type": "stream",
     "text": [
      "max at end of edge summation 1\n",
      "threshold 2\n",
      "percent activated pixels 0.02532009548611111\n",
      "left overlapping pixels 7856; percent of total 1.0\n",
      "right overlapping pixels 45834; percent of total 0.9974755168661589\n",
      "****update left mask run\n",
      "****update right mask run\n",
      "[0.0027458809554583106, -2.306157094947527, 796.72912826851916]\n"
     ]
    },
    {
     "name": "stderr",
     "output_type": "stream",
     "text": [
      "\u001b[A"
     ]
    },
    {
     "name": "stdout",
     "output_type": "stream",
     "text": [
      "max at end of edge summation 2\n",
      "max at end of edge summation 1\n"
     ]
    },
    {
     "name": "stderr",
     "output_type": "stream",
     "text": [
      "\n",
      "\r",
      " 24%|██▎       | 282/1200 [02:45<09:45,  1.57it/s]"
     ]
    },
    {
     "name": "stdout",
     "output_type": "stream",
     "text": [
      "max at end of edge summation 1\n",
      "threshold 2\n",
      "percent activated pixels 0.025145399305555555\n",
      "left overlapping pixels 6870; percent of total 1.0\n",
      "right overlapping pixels 48912; percent of total 0.9978578860395373\n",
      "****update left mask run\n",
      "****update right mask run\n",
      "[0.003887042473703973, -3.1944600547510715, 851.48174556204413]\n"
     ]
    },
    {
     "name": "stderr",
     "output_type": "stream",
     "text": [
      "\u001b[A"
     ]
    },
    {
     "name": "stdout",
     "output_type": "stream",
     "text": [
      "max at end of edge summation 2\n",
      "max at end of edge summation 2\n"
     ]
    },
    {
     "name": "stderr",
     "output_type": "stream",
     "text": [
      "\n",
      "\r",
      " 24%|██▎       | 283/1200 [02:46<09:22,  1.63it/s]"
     ]
    },
    {
     "name": "stdout",
     "output_type": "stream",
     "text": [
      "max at end of edge summation 1\n",
      "threshold 2\n",
      "percent activated pixels 0.025116102430555554\n",
      "left overlapping pixels 6343; percent of total 1.0\n",
      "right overlapping pixels 47766; percent of total 0.99880810488677\n",
      "****update left mask run\n",
      "****update right mask run\n",
      "[0.00061856447374089747, -0.43484010530397221, 387.48214322156673]\n"
     ]
    },
    {
     "name": "stderr",
     "output_type": "stream",
     "text": [
      "\u001b[A"
     ]
    },
    {
     "name": "stdout",
     "output_type": "stream",
     "text": [
      "max at end of edge summation 2\n",
      "max at end of edge summation 1\n"
     ]
    },
    {
     "name": "stderr",
     "output_type": "stream",
     "text": [
      "\n",
      "\r",
      " 24%|██▎       | 284/1200 [02:46<09:16,  1.65it/s]"
     ]
    },
    {
     "name": "stdout",
     "output_type": "stream",
     "text": [
      "max at end of edge summation 2\n",
      "threshold 2\n",
      "percent activated pixels 0.02339626736111111\n",
      "left overlapping pixels 7271; percent of total 0.9987637362637363\n",
      "right overlapping pixels 43733; percent of total 0.9976958525345622\n",
      "****update left mask run\n",
      "****update right mask run\n",
      "[0.0011213510219908048, -0.97311834986846713, 528.38417466698934]\n"
     ]
    },
    {
     "name": "stderr",
     "output_type": "stream",
     "text": [
      "\u001b[A"
     ]
    },
    {
     "name": "stdout",
     "output_type": "stream",
     "text": [
      "max at end of edge summation 2\n",
      "max at end of edge summation 1\n"
     ]
    },
    {
     "name": "stderr",
     "output_type": "stream",
     "text": [
      "\n",
      "\r",
      " 24%|██▍       | 285/1200 [02:47<09:07,  1.67it/s]"
     ]
    },
    {
     "name": "stdout",
     "output_type": "stream",
     "text": [
      "max at end of edge summation 1\n",
      "threshold 2\n",
      "percent activated pixels 0.02226996527777778\n",
      "left overlapping pixels 6869; percent of total 1.0\n",
      "right overlapping pixels 39314; percent of total 0.99822262847857\n",
      "****update left mask run\n",
      "****update right mask run\n",
      "[0.00038190790081057545, -0.4079122850748424, 439.17399178442417]\n"
     ]
    },
    {
     "name": "stderr",
     "output_type": "stream",
     "text": [
      "\u001b[A"
     ]
    },
    {
     "name": "stdout",
     "output_type": "stream",
     "text": [
      "max at end of edge summation 2\n",
      "max at end of edge summation 1\n"
     ]
    },
    {
     "name": "stderr",
     "output_type": "stream",
     "text": [
      "\n",
      "\r",
      " 24%|██▍       | 286/1200 [02:48<09:32,  1.60it/s]"
     ]
    },
    {
     "name": "stdout",
     "output_type": "stream",
     "text": [
      "max at end of edge summation 2\n",
      "threshold 2\n",
      "percent activated pixels 0.022860243055555556\n",
      "left overlapping pixels 7008; percent of total 1.0\n",
      "right overlapping pixels 40003; percent of total 0.9975561706690607\n",
      "****update left mask run\n",
      "****update right mask run\n",
      "[-0.00027188463597924574, 0.10102009579979385, 400.36729716886236]\n"
     ]
    },
    {
     "name": "stderr",
     "output_type": "stream",
     "text": [
      "\u001b[A"
     ]
    },
    {
     "name": "stdout",
     "output_type": "stream",
     "text": [
      "max at end of edge summation 2\n",
      "max at end of edge summation 1\n"
     ]
    },
    {
     "name": "stderr",
     "output_type": "stream",
     "text": [
      "\n",
      "\r",
      " 24%|██▍       | 287/1200 [02:48<09:20,  1.63it/s]"
     ]
    },
    {
     "name": "stdout",
     "output_type": "stream",
     "text": [
      "max at end of edge summation 2\n",
      "threshold 2\n",
      "percent activated pixels 0.02364474826388889\n",
      "left overlapping pixels 9161; percent of total 1.0\n",
      "right overlapping pixels 43097; percent of total 0.9988874724765326\n",
      "****update left mask run\n",
      "****update right mask run\n",
      "[-0.00054375388516528505, 0.37045016574005774, 362.54886926505867]\n"
     ]
    },
    {
     "name": "stderr",
     "output_type": "stream",
     "text": [
      "\u001b[A"
     ]
    },
    {
     "name": "stdout",
     "output_type": "stream",
     "text": [
      "max at end of edge summation 2\n",
      "max at end of edge summation 1\n"
     ]
    },
    {
     "name": "stderr",
     "output_type": "stream",
     "text": [
      "\n",
      "\r",
      " 24%|██▍       | 288/1200 [02:49<09:13,  1.65it/s]"
     ]
    },
    {
     "name": "stdout",
     "output_type": "stream",
     "text": [
      "max at end of edge summation 2\n",
      "threshold 2\n",
      "percent activated pixels 0.025188802083333333\n",
      "left overlapping pixels 7919; percent of total 1.0\n",
      "right overlapping pixels 41517; percent of total 0.9997832683138275\n",
      "****update left mask run\n",
      "****update right mask run\n",
      "[-0.0016693978224610266, 1.3549927479614123, 180.77146355613723]\n"
     ]
    },
    {
     "name": "stderr",
     "output_type": "stream",
     "text": [
      "\u001b[A"
     ]
    },
    {
     "name": "stdout",
     "output_type": "stream",
     "text": [
      "max at end of edge summation 2\n",
      "max at end of edge summation 1\n"
     ]
    },
    {
     "name": "stderr",
     "output_type": "stream",
     "text": [
      "\n",
      "\r",
      " 24%|██▍       | 289/1200 [02:49<09:22,  1.62it/s]"
     ]
    },
    {
     "name": "stdout",
     "output_type": "stream",
     "text": [
      "max at end of edge summation 2\n",
      "threshold 2\n",
      "percent activated pixels 0.02834201388888889\n",
      "left overlapping pixels 6709; percent of total 1.0\n",
      "right overlapping pixels 33761; percent of total 1.0\n",
      "****update left mask run\n",
      "****update right mask run\n",
      "[-0.001676506520922964, 1.555812765239972, 110.33434186474312]\n"
     ]
    },
    {
     "name": "stderr",
     "output_type": "stream",
     "text": [
      "\u001b[A"
     ]
    },
    {
     "name": "stdout",
     "output_type": "stream",
     "text": [
      "max at end of edge summation 2\n",
      "max at end of edge summation 2\n"
     ]
    },
    {
     "name": "stderr",
     "output_type": "stream",
     "text": [
      "\n",
      "\r",
      " 24%|██▍       | 290/1200 [02:50<09:19,  1.63it/s]"
     ]
    },
    {
     "name": "stdout",
     "output_type": "stream",
     "text": [
      "max at end of edge summation 2\n",
      "threshold 2\n",
      "percent activated pixels 0.029423828125\n",
      "left overlapping pixels 8795; percent of total 1.0\n",
      "right overlapping pixels 31246; percent of total 1.0\n",
      "****update left mask run\n",
      "****update right mask run\n",
      "[-0.0019892123192821153, 1.4786802383041753, 210.56709892217916]\n"
     ]
    },
    {
     "name": "stderr",
     "output_type": "stream",
     "text": [
      "\u001b[A"
     ]
    },
    {
     "name": "stdout",
     "output_type": "stream",
     "text": [
      "max at end of edge summation 2\n",
      "max at end of edge summation 2\n"
     ]
    },
    {
     "name": "stderr",
     "output_type": "stream",
     "text": [
      "\n",
      "\r",
      " 24%|██▍       | 291/1200 [02:51<09:10,  1.65it/s]"
     ]
    },
    {
     "name": "stdout",
     "output_type": "stream",
     "text": [
      "max at end of edge summation 1\n",
      "threshold 2\n",
      "percent activated pixels 0.031044921875\n",
      "left overlapping pixels 9436; percent of total 1.0\n",
      "right overlapping pixels 25938; percent of total 0.999499055913067\n",
      "****update left mask run\n",
      "****update right mask run\n",
      "[-0.0015725533460120536, 1.4947384091286784, 132.56522461640731]\n"
     ]
    },
    {
     "name": "stderr",
     "output_type": "stream",
     "text": [
      "\u001b[A"
     ]
    },
    {
     "name": "stdout",
     "output_type": "stream",
     "text": [
      "max at end of edge summation 2\n",
      "max at end of edge summation 1\n"
     ]
    },
    {
     "name": "stderr",
     "output_type": "stream",
     "text": [
      "\n",
      "\r",
      " 24%|██▍       | 292/1200 [02:51<09:02,  1.67it/s]"
     ]
    },
    {
     "name": "stdout",
     "output_type": "stream",
     "text": [
      "max at end of edge summation 1\n",
      "threshold 2\n",
      "percent activated pixels 0.03209418402777778\n",
      "left overlapping pixels 10328; percent of total 1.0\n",
      "right overlapping pixels 19886; percent of total 0.9963425021293651\n",
      "****update left mask run\n",
      "****update right mask run\n",
      "[-0.0022219144863580703, 1.9272345705286862, 36.032866967729476]\n"
     ]
    },
    {
     "name": "stderr",
     "output_type": "stream",
     "text": [
      "\u001b[A"
     ]
    },
    {
     "name": "stdout",
     "output_type": "stream",
     "text": [
      "max at end of edge summation 2\n",
      "max at end of edge summation 1\n"
     ]
    },
    {
     "name": "stderr",
     "output_type": "stream",
     "text": [
      "\n",
      "\r",
      " 24%|██▍       | 293/1200 [02:52<08:56,  1.69it/s]"
     ]
    },
    {
     "name": "stdout",
     "output_type": "stream",
     "text": [
      "max at end of edge summation 1\n",
      "threshold 2\n",
      "percent activated pixels 0.03399631076388889\n",
      "left overlapping pixels 17759; percent of total 1.0\n",
      "right overlapping pixels 13992; percent of total 0.9972204404532821\n",
      "****update left mask run\n",
      "****update right mask run\n",
      "[-0.0030969537226807498, 2.3500259785757538, 27.651202745133368]\n"
     ]
    },
    {
     "name": "stderr",
     "output_type": "stream",
     "text": [
      "\u001b[A"
     ]
    },
    {
     "name": "stdout",
     "output_type": "stream",
     "text": [
      "max at end of edge summation 2\n",
      "max at end of edge summation 2\n"
     ]
    },
    {
     "name": "stderr",
     "output_type": "stream",
     "text": [
      "\n",
      "\r",
      " 24%|██▍       | 294/1200 [02:52<08:56,  1.69it/s]"
     ]
    },
    {
     "name": "stdout",
     "output_type": "stream",
     "text": [
      "max at end of edge summation 1\n",
      "threshold 2\n",
      "percent activated pixels 0.03271484375\n",
      "left overlapping pixels 18845; percent of total 1.0\n",
      "right overlapping pixels 12112; percent of total 1.0\n",
      "****update left mask run\n",
      "****update right mask run\n",
      "[-0.0012044320119155348, 0.62061210121076338, 347.16467098339103]\n"
     ]
    },
    {
     "name": "stderr",
     "output_type": "stream",
     "text": [
      "\u001b[A"
     ]
    },
    {
     "name": "stdout",
     "output_type": "stream",
     "text": [
      "max at end of edge summation 2\n",
      "max at end of edge summation 1\n"
     ]
    },
    {
     "name": "stderr",
     "output_type": "stream",
     "text": [
      "\n",
      "\r",
      " 25%|██▍       | 295/1200 [02:53<08:56,  1.69it/s]"
     ]
    },
    {
     "name": "stdout",
     "output_type": "stream",
     "text": [
      "max at end of edge summation 1\n",
      "threshold 2\n",
      "percent activated pixels 0.03149956597222222\n",
      "left overlapping pixels 20271; percent of total 0.9989158823239541\n",
      "right overlapping pixels 12587; percent of total 1.0\n",
      "****update left mask run\n",
      "****update right mask run\n",
      "[-0.001459598897074664, 0.88893752168323115, 321.38904512152823]\n"
     ]
    },
    {
     "name": "stderr",
     "output_type": "stream",
     "text": [
      "\u001b[A"
     ]
    },
    {
     "name": "stdout",
     "output_type": "stream",
     "text": [
      "max at end of edge summation 2\n",
      "max at end of edge summation 2\n"
     ]
    },
    {
     "name": "stderr",
     "output_type": "stream",
     "text": [
      "\n",
      "\r",
      " 25%|██▍       | 296/1200 [02:54<09:06,  1.65it/s]"
     ]
    },
    {
     "name": "stdout",
     "output_type": "stream",
     "text": [
      "max at end of edge summation 1\n",
      "threshold 2\n",
      "percent activated pixels 0.029940321180555556\n",
      "left overlapping pixels 19183; percent of total 0.9991145833333334\n",
      "right overlapping pixels 10500; percent of total 1.0\n",
      "****update left mask run\n",
      "****update right mask run\n",
      "[-0.001811240975645784, 1.4624268357982975, 74.756993297512892]\n"
     ]
    },
    {
     "name": "stderr",
     "output_type": "stream",
     "text": [
      "\u001b[A"
     ]
    },
    {
     "name": "stdout",
     "output_type": "stream",
     "text": [
      "max at end of edge summation 2\n",
      "max at end of edge summation 2\n"
     ]
    },
    {
     "name": "stderr",
     "output_type": "stream",
     "text": [
      "\n",
      "\r",
      " 25%|██▍       | 297/1200 [02:54<08:53,  1.69it/s]"
     ]
    },
    {
     "name": "stdout",
     "output_type": "stream",
     "text": [
      "max at end of edge summation 1\n",
      "threshold 2\n",
      "percent activated pixels 0.028642578125\n",
      "left overlapping pixels 19731; percent of total 1.0\n",
      "right overlapping pixels 11043; percent of total 1.0\n",
      "****update left mask run\n",
      "****update right mask run\n",
      "[0.00010746136376225607, 0.070785712828017724, 221.00661881535956]\n"
     ]
    },
    {
     "name": "stderr",
     "output_type": "stream",
     "text": [
      "\u001b[A"
     ]
    },
    {
     "name": "stdout",
     "output_type": "stream",
     "text": [
      "max at end of edge summation 2\n",
      "max at end of edge summation 2\n"
     ]
    },
    {
     "name": "stderr",
     "output_type": "stream",
     "text": [
      "\n",
      "\r",
      " 25%|██▍       | 298/1200 [02:55<08:57,  1.68it/s]"
     ]
    },
    {
     "name": "stdout",
     "output_type": "stream",
     "text": [
      "max at end of edge summation 1\n",
      "threshold 2\n",
      "percent activated pixels 0.026845703125\n",
      "left overlapping pixels 19516; percent of total 1.0\n",
      "right overlapping pixels 9251; percent of total 1.0\n",
      "****update left mask run\n",
      "****update right mask run\n",
      "[-0.00065421567360303184, 0.62954405692400739, 167.62179751433649]\n"
     ]
    },
    {
     "name": "stderr",
     "output_type": "stream",
     "text": [
      "\u001b[A"
     ]
    },
    {
     "name": "stdout",
     "output_type": "stream",
     "text": [
      "max at end of edge summation 2\n",
      "max at end of edge summation 1\n"
     ]
    },
    {
     "name": "stderr",
     "output_type": "stream",
     "text": [
      "\n",
      "\r",
      " 25%|██▍       | 299/1200 [02:55<08:53,  1.69it/s]"
     ]
    },
    {
     "name": "stdout",
     "output_type": "stream",
     "text": [
      "max at end of edge summation 1\n",
      "threshold 2\n",
      "percent activated pixels 0.026821831597222224\n",
      "left overlapping pixels 20844; percent of total 0.9995684074233924\n",
      "right overlapping pixels 9551; percent of total 1.0\n",
      "****update left mask run\n",
      "****update right mask run\n",
      "[-0.00048583030213507144, 0.51431536139690026, 188.1605174238428]\n"
     ]
    },
    {
     "name": "stderr",
     "output_type": "stream",
     "text": [
      "\u001b[A"
     ]
    },
    {
     "name": "stdout",
     "output_type": "stream",
     "text": [
      "max at end of edge summation 2\n",
      "max at end of edge summation 2\n"
     ]
    },
    {
     "name": "stderr",
     "output_type": "stream",
     "text": [
      "\n",
      "\r",
      " 25%|██▌       | 300/1200 [02:56<08:57,  1.67it/s]"
     ]
    },
    {
     "name": "stdout",
     "output_type": "stream",
     "text": [
      "max at end of edge summation 1\n",
      "threshold 2\n",
      "percent activated pixels 0.027249348958333332\n",
      "left overlapping pixels 19454; percent of total 0.998870404600534\n",
      "right overlapping pixels 9078; percent of total 1.0\n",
      "****update left mask run\n",
      "****update right mask run\n",
      "[0.00017207820183779896, -0.0099927965512854183, 255.20154457489213]\n"
     ]
    },
    {
     "name": "stderr",
     "output_type": "stream",
     "text": [
      "\u001b[A"
     ]
    },
    {
     "name": "stdout",
     "output_type": "stream",
     "text": [
      "max at end of edge summation 2\n",
      "max at end of edge summation 2\n"
     ]
    },
    {
     "name": "stderr",
     "output_type": "stream",
     "text": [
      "\n",
      "\r",
      " 25%|██▌       | 301/1200 [02:57<08:57,  1.67it/s]"
     ]
    },
    {
     "name": "stdout",
     "output_type": "stream",
     "text": [
      "max at end of edge summation 1\n",
      "threshold 2\n",
      "percent activated pixels 0.026578776041666665\n",
      "left overlapping pixels 22485; percent of total 0.9968964752826425\n",
      "right overlapping pixels 12375; percent of total 1.0\n",
      "****update left mask run\n",
      "****update right mask run\n",
      "[0.00022330852982268342, -0.07148389585829705, 274.02991513292733]\n"
     ]
    },
    {
     "name": "stderr",
     "output_type": "stream",
     "text": [
      "\u001b[A"
     ]
    },
    {
     "name": "stdout",
     "output_type": "stream",
     "text": [
      "max at end of edge summation 2\n",
      "max at end of edge summation 2\n"
     ]
    },
    {
     "name": "stderr",
     "output_type": "stream",
     "text": [
      "\n",
      "\r",
      " 25%|██▌       | 302/1200 [02:57<08:49,  1.69it/s]"
     ]
    },
    {
     "name": "stdout",
     "output_type": "stream",
     "text": [
      "max at end of edge summation 1\n",
      "threshold 2\n",
      "percent activated pixels 0.025702039930555556\n",
      "left overlapping pixels 21284; percent of total 0.9975160519285747\n",
      "right overlapping pixels 11354; percent of total 1.0\n",
      "****update left mask run\n",
      "****update right mask run\n",
      "[-0.00068818201960893, 0.58790333482018375, 211.19410595119047]\n"
     ]
    },
    {
     "name": "stderr",
     "output_type": "stream",
     "text": [
      "\u001b[A"
     ]
    },
    {
     "name": "stdout",
     "output_type": "stream",
     "text": [
      "max at end of edge summation 2\n",
      "max at end of edge summation 2\n"
     ]
    },
    {
     "name": "stderr",
     "output_type": "stream",
     "text": [
      "\n",
      "\r",
      " 25%|██▌       | 303/1200 [02:58<08:50,  1.69it/s]"
     ]
    },
    {
     "name": "stdout",
     "output_type": "stream",
     "text": [
      "max at end of edge summation 1\n",
      "threshold 2\n",
      "percent activated pixels 0.020869140625\n",
      "left overlapping pixels 18157; percent of total 0.9963782033693683\n",
      "right overlapping pixels 16776; percent of total 1.0\n",
      "****update left mask run\n",
      "****update right mask run\n",
      "[0.00016940859321627018, -0.084518046764837373, 342.36694994562788]\n"
     ]
    },
    {
     "name": "stderr",
     "output_type": "stream",
     "text": [
      "\u001b[A"
     ]
    },
    {
     "name": "stdout",
     "output_type": "stream",
     "text": [
      "max at end of edge summation 2\n",
      "max at end of edge summation 2\n"
     ]
    },
    {
     "name": "stderr",
     "output_type": "stream",
     "text": [
      "\n",
      "\r",
      " 25%|██▌       | 304/1200 [02:59<10:03,  1.48it/s]"
     ]
    },
    {
     "name": "stdout",
     "output_type": "stream",
     "text": [
      "max at end of edge summation 1\n",
      "threshold 2\n",
      "percent activated pixels 0.024295789930555554\n",
      "left overlapping pixels 18151; percent of total 0.9966505600702833\n",
      "right overlapping pixels 15123; percent of total 1.0\n",
      "****update left mask run\n",
      "****update right mask run\n",
      "[-0.00011790899635025275, 0.038841845793234298, 356.00070552496021]\n"
     ]
    },
    {
     "name": "stderr",
     "output_type": "stream",
     "text": [
      "\u001b[A"
     ]
    },
    {
     "name": "stdout",
     "output_type": "stream",
     "text": [
      "max at end of edge summation 2\n",
      "max at end of edge summation 2\n",
      "max at end of edge summation 1\n",
      "threshold 2\n",
      "percent activated pixels 0.025873480902777777\n",
      "left overlapping pixels 19974; percent of total 0.9974033756117048\n",
      "right overlapping pixels 15966; percent of total 1.0\n",
      "****update left mask run\n",
      "****update right mask run\n",
      "[0.00088984902478504691, -0.67130533293295302, 441.1423344130003]\n"
     ]
    },
    {
     "name": "stderr",
     "output_type": "stream",
     "text": [
      "\n",
      " 25%|██▌       | 305/1200 [03:00<11:44,  1.27it/s]\u001b[A"
     ]
    },
    {
     "name": "stdout",
     "output_type": "stream",
     "text": [
      "max at end of edge summation 2\n",
      "max at end of edge summation 2\n"
     ]
    },
    {
     "name": "stderr",
     "output_type": "stream",
     "text": [
      "\n",
      "\r",
      " 26%|██▌       | 306/1200 [03:00<11:24,  1.31it/s]"
     ]
    },
    {
     "name": "stdout",
     "output_type": "stream",
     "text": [
      "max at end of edge summation 1\n",
      "threshold 2\n",
      "percent activated pixels 0.02634982638888889\n",
      "left overlapping pixels 21879; percent of total 0.9978564261607225\n",
      "right overlapping pixels 14234; percent of total 1.0\n",
      "****update left mask run\n",
      "****update right mask run\n",
      "[0.00091461406845276614, -0.75128528718072873, 484.61782995682313]\n"
     ]
    },
    {
     "name": "stderr",
     "output_type": "stream",
     "text": [
      "\u001b[A"
     ]
    },
    {
     "name": "stdout",
     "output_type": "stream",
     "text": [
      "max at end of edge summation 2\n",
      "max at end of edge summation 2\n"
     ]
    },
    {
     "name": "stderr",
     "output_type": "stream",
     "text": [
      "\n",
      "\r",
      " 26%|██▌       | 307/1200 [03:01<10:38,  1.40it/s]"
     ]
    },
    {
     "name": "stdout",
     "output_type": "stream",
     "text": [
      "max at end of edge summation 1\n",
      "threshold 2\n",
      "percent activated pixels 0.02650173611111111\n",
      "left overlapping pixels 19527; percent of total 0.9980067463968108\n",
      "right overlapping pixels 14006; percent of total 1.0\n",
      "****update left mask run\n",
      "****update right mask run\n",
      "[0.00031629092117653609, -0.39957156851026421, 464.8354062745077]\n"
     ]
    },
    {
     "name": "stderr",
     "output_type": "stream",
     "text": [
      "\u001b[A"
     ]
    },
    {
     "name": "stdout",
     "output_type": "stream",
     "text": [
      "max at end of edge summation 2\n",
      "max at end of edge summation 2\n"
     ]
    },
    {
     "name": "stderr",
     "output_type": "stream",
     "text": [
      "\n",
      "\r",
      " 26%|██▌       | 308/1200 [03:02<09:56,  1.50it/s]"
     ]
    },
    {
     "name": "stdout",
     "output_type": "stream",
     "text": [
      "max at end of edge summation 1\n",
      "threshold 2\n",
      "percent activated pixels 0.02631076388888889\n",
      "left overlapping pixels 19075; percent of total 0.9988479865947532\n",
      "right overlapping pixels 10492; percent of total 1.0\n",
      "****update left mask run\n",
      "****update right mask run\n",
      "[-0.00018991149516547036, -0.0010268813755983097, 399.14328832939259]\n"
     ]
    },
    {
     "name": "stderr",
     "output_type": "stream",
     "text": [
      "\u001b[A"
     ]
    },
    {
     "name": "stdout",
     "output_type": "stream",
     "text": [
      "max at end of edge summation 2\n",
      "max at end of edge summation 2\n"
     ]
    },
    {
     "name": "stderr",
     "output_type": "stream",
     "text": [
      "\n",
      "\r",
      " 26%|██▌       | 309/1200 [03:02<09:31,  1.56it/s]"
     ]
    },
    {
     "name": "stdout",
     "output_type": "stream",
     "text": [
      "max at end of edge summation 1\n",
      "threshold 2\n",
      "percent activated pixels 0.024811197916666666\n",
      "left overlapping pixels 18184; percent of total 0.9985722130697419\n",
      "right overlapping pixels 9823; percent of total 0.9977653631284916\n",
      "****update left mask run\n",
      "****update right mask run\n",
      "[0.00015816854077807974, -0.32831117392162079, 473.34964184404396]\n"
     ]
    },
    {
     "name": "stderr",
     "output_type": "stream",
     "text": [
      "\u001b[A"
     ]
    },
    {
     "name": "stdout",
     "output_type": "stream",
     "text": [
      "max at end of edge summation 2\n",
      "max at end of edge summation 2\n"
     ]
    },
    {
     "name": "stderr",
     "output_type": "stream",
     "text": [
      "\n",
      "\r",
      " 26%|██▌       | 310/1200 [03:03<09:26,  1.57it/s]"
     ]
    },
    {
     "name": "stdout",
     "output_type": "stream",
     "text": [
      "max at end of edge summation 1\n",
      "threshold 2\n",
      "percent activated pixels 0.02286566840277778\n",
      "left overlapping pixels 18343; percent of total 1.0\n",
      "right overlapping pixels 8058; percent of total 0.9956752749289509\n",
      "****update left mask run\n",
      "****update right mask run\n",
      "[4.7983714618069172e-05, -0.28345178329693971, 487.00057141690979]\n"
     ]
    },
    {
     "name": "stderr",
     "output_type": "stream",
     "text": [
      "\u001b[A"
     ]
    },
    {
     "name": "stdout",
     "output_type": "stream",
     "text": [
      "max at end of edge summation 2\n",
      "max at end of edge summation 2\n"
     ]
    },
    {
     "name": "stderr",
     "output_type": "stream",
     "text": [
      "\n",
      "\r",
      " 26%|██▌       | 311/1200 [03:03<09:06,  1.63it/s]"
     ]
    },
    {
     "name": "stdout",
     "output_type": "stream",
     "text": [
      "max at end of edge summation 1\n",
      "threshold 2\n",
      "percent activated pixels 0.022177734375\n",
      "left overlapping pixels 16649; percent of total 1.0\n",
      "right overlapping pixels 9206; percent of total 0.9952432432432432\n",
      "****update left mask run\n",
      "****update right mask run\n",
      "[0.00020199012783347884, -0.41302061133835033, 512.77831910135956]\n"
     ]
    },
    {
     "name": "stderr",
     "output_type": "stream",
     "text": [
      "\u001b[A"
     ]
    },
    {
     "name": "stdout",
     "output_type": "stream",
     "text": [
      "max at end of edge summation 2\n",
      "max at end of edge summation 2\n"
     ]
    },
    {
     "name": "stderr",
     "output_type": "stream",
     "text": [
      "\n",
      "\r",
      " 26%|██▌       | 312/1200 [03:04<08:58,  1.65it/s]"
     ]
    },
    {
     "name": "stdout",
     "output_type": "stream",
     "text": [
      "max at end of edge summation 1\n",
      "threshold 2\n",
      "percent activated pixels 0.020699869791666665\n",
      "left overlapping pixels 13361; percent of total 1.0\n",
      "right overlapping pixels 6412; percent of total 0.9939544256704387\n",
      "****update left mask run\n",
      "****update right mask run\n",
      "[-0.00016940859321627061, -0.15056967253340808, 496.76462900174045]\n"
     ]
    },
    {
     "name": "stderr",
     "output_type": "stream",
     "text": [
      "\u001b[A"
     ]
    },
    {
     "name": "stdout",
     "output_type": "stream",
     "text": [
      "max at end of edge summation 2\n",
      "max at end of edge summation 2\n"
     ]
    },
    {
     "name": "stderr",
     "output_type": "stream",
     "text": [
      "\n",
      "\r",
      " 26%|██▌       | 313/1200 [03:05<09:12,  1.61it/s]"
     ]
    },
    {
     "name": "stdout",
     "output_type": "stream",
     "text": [
      "max at end of edge summation 1\n",
      "threshold 2\n",
      "percent activated pixels 0.020568576388888888\n",
      "left overlapping pixels 12786; percent of total 1.0\n",
      "right overlapping pixels 8519; percent of total 0.9953265568407524\n",
      "****update left mask run\n",
      "****update right mask run\n",
      "[0.00013482677548206859, -0.29834720817165056, 519.25247181544387]\n"
     ]
    },
    {
     "name": "stderr",
     "output_type": "stream",
     "text": [
      "\u001b[A"
     ]
    },
    {
     "name": "stdout",
     "output_type": "stream",
     "text": [
      "max at end of edge summation 2\n",
      "max at end of edge summation 2\n"
     ]
    },
    {
     "name": "stderr",
     "output_type": "stream",
     "text": [
      "\n",
      "\r",
      " 26%|██▌       | 314/1200 [03:05<09:12,  1.60it/s]"
     ]
    },
    {
     "name": "stdout",
     "output_type": "stream",
     "text": [
      "max at end of edge summation 1\n",
      "threshold 2\n",
      "percent activated pixels 0.019403211805555556\n",
      "left overlapping pixels 11577; percent of total 1.0\n",
      "right overlapping pixels 4674; percent of total 0.991725015913431\n",
      "****update left mask run\n",
      "****update right mask run\n",
      "[0.0017689272943247365, -1.8198557220892482, 745.78695653441457]\n"
     ]
    },
    {
     "name": "stderr",
     "output_type": "stream",
     "text": [
      "\u001b[A"
     ]
    },
    {
     "name": "stdout",
     "output_type": "stream",
     "text": [
      "max at end of edge summation 2\n",
      "max at end of edge summation 2\n"
     ]
    },
    {
     "name": "stderr",
     "output_type": "stream",
     "text": [
      "\n",
      "\r",
      " 26%|██▋       | 315/1200 [03:06<08:48,  1.67it/s]"
     ]
    },
    {
     "name": "stdout",
     "output_type": "stream",
     "text": [
      "max at end of edge summation 1\n",
      "threshold 2\n",
      "percent activated pixels 0.014194878472222222\n",
      "left overlapping pixels 13085; percent of total 0.9986262687934061\n",
      "right overlapping pixels 9395; percent of total 0.997240208045855\n",
      "****update left mask run\n",
      "****update right mask run\n",
      "[-0.00068015011355453375, 0.10062913439084359, 532.26667065103618]\n"
     ]
    },
    {
     "name": "stderr",
     "output_type": "stream",
     "text": [
      "\u001b[A"
     ]
    },
    {
     "name": "stdout",
     "output_type": "stream",
     "text": [
      "max at end of edge summation 2\n",
      "max at end of edge summation 2\n"
     ]
    },
    {
     "name": "stderr",
     "output_type": "stream",
     "text": [
      "\n",
      "\r",
      " 26%|██▋       | 316/1200 [03:06<08:56,  1.65it/s]"
     ]
    },
    {
     "name": "stdout",
     "output_type": "stream",
     "text": [
      "max at end of edge summation 1\n",
      "threshold 2\n",
      "percent activated pixels 0.010870225694444444\n",
      "left overlapping pixels 10276; percent of total 1.0\n",
      "right overlapping pixels 7135; percent of total 1.0\n",
      "****update left mask run\n",
      "****update right mask run\n",
      "[-0.00061714119536919042, 0.11105218698160649, 509.9540770304979]\n"
     ]
    },
    {
     "name": "stderr",
     "output_type": "stream",
     "text": [
      "\u001b[A"
     ]
    },
    {
     "name": "stdout",
     "output_type": "stream",
     "text": [
      "max at end of edge summation 2\n",
      "max at end of edge summation 2\n"
     ]
    },
    {
     "name": "stderr",
     "output_type": "stream",
     "text": [
      "\n",
      "\r",
      " 26%|██▋       | 317/1200 [03:07<08:40,  1.70it/s]"
     ]
    },
    {
     "name": "stdout",
     "output_type": "stream",
     "text": [
      "max at end of edge summation 1\n",
      "threshold 2\n",
      "percent activated pixels 0.013607855902777778\n",
      "left overlapping pixels 17205; percent of total 1.0\n",
      "right overlapping pixels 11643; percent of total 1.0\n",
      "****update left mask run\n",
      "****update right mask run\n",
      "[-0.00036157425358666228, -0.063964783031638356, 553.62716679251446]\n"
     ]
    },
    {
     "name": "stderr",
     "output_type": "stream",
     "text": [
      "\u001b[A"
     ]
    },
    {
     "name": "stdout",
     "output_type": "stream",
     "text": [
      "max at end of edge summation 2\n",
      "max at end of edge summation 2\n"
     ]
    },
    {
     "name": "stderr",
     "output_type": "stream",
     "text": [
      "\n",
      "\r",
      " 26%|██▋       | 318/1200 [03:08<08:48,  1.67it/s]"
     ]
    },
    {
     "name": "stdout",
     "output_type": "stream",
     "text": [
      "max at end of edge summation 1\n",
      "threshold 2\n",
      "percent activated pixels 0.017225477430555556\n",
      "left overlapping pixels 15445; percent of total 1.0\n",
      "right overlapping pixels 11291; percent of total 1.0\n",
      "****update left mask run\n",
      "****update right mask run\n",
      "[-8.6189122152673092e-05, -0.2049175162606014, 560.66004717104897]\n"
     ]
    },
    {
     "name": "stderr",
     "output_type": "stream",
     "text": [
      "\u001b[A"
     ]
    },
    {
     "name": "stdout",
     "output_type": "stream",
     "text": [
      "max at end of edge summation 2\n",
      "max at end of edge summation 2\n"
     ]
    },
    {
     "name": "stderr",
     "output_type": "stream",
     "text": [
      "\n",
      "\r",
      " 27%|██▋       | 319/1200 [03:08<08:32,  1.72it/s]"
     ]
    },
    {
     "name": "stdout",
     "output_type": "stream",
     "text": [
      "max at end of edge summation 1\n",
      "threshold 2\n",
      "percent activated pixels 0.018016493055555555\n",
      "left overlapping pixels 13863; percent of total 1.0\n",
      "right overlapping pixels 11934; percent of total 1.0\n",
      "****update left mask run\n",
      "****update right mask run\n",
      "[0.00012167106728952274, -0.32913825616775483, 574.0421457871123]\n"
     ]
    },
    {
     "name": "stderr",
     "output_type": "stream",
     "text": [
      "\u001b[A"
     ]
    },
    {
     "name": "stdout",
     "output_type": "stream",
     "text": [
      "max at end of edge summation 2\n",
      "max at end of edge summation 2\n"
     ]
    },
    {
     "name": "stderr",
     "output_type": "stream",
     "text": [
      "\n",
      "\r",
      " 27%|██▋       | 320/1200 [03:09<08:41,  1.69it/s]"
     ]
    },
    {
     "name": "stdout",
     "output_type": "stream",
     "text": [
      "max at end of edge summation 1\n",
      "threshold 2\n",
      "percent activated pixels 0.01728081597222222\n",
      "left overlapping pixels 13183; percent of total 1.0\n",
      "right overlapping pixels 11310; percent of total 1.0\n",
      "****update left mask run\n",
      "****update right mask run\n",
      "[5.3807615847165048e-05, -0.2389169220064504, 562.71415772855948]\n"
     ]
    },
    {
     "name": "stderr",
     "output_type": "stream",
     "text": [
      "\u001b[A"
     ]
    },
    {
     "name": "stdout",
     "output_type": "stream",
     "text": [
      "max at end of edge summation 2\n",
      "max at end of edge summation 2\n"
     ]
    },
    {
     "name": "stderr",
     "output_type": "stream",
     "text": [
      "\n",
      "\r",
      " 27%|██▋       | 321/1200 [03:09<08:30,  1.72it/s]"
     ]
    },
    {
     "name": "stdout",
     "output_type": "stream",
     "text": [
      "max at end of edge summation 1\n",
      "threshold 2\n",
      "percent activated pixels 0.01836588541666667\n",
      "left overlapping pixels 12561; percent of total 1.0\n",
      "right overlapping pixels 11255; percent of total 1.0\n",
      "****update left mask run\n",
      "****update right mask run\n",
      "[-1.871803393710907e-05, -0.1876195067933514, 551.51349826679927]\n"
     ]
    },
    {
     "name": "stderr",
     "output_type": "stream",
     "text": [
      "\u001b[A"
     ]
    },
    {
     "name": "stdout",
     "output_type": "stream",
     "text": [
      "max at end of edge summation 2\n",
      "max at end of edge summation 2\n"
     ]
    },
    {
     "name": "stderr",
     "output_type": "stream",
     "text": [
      "\n",
      "\r",
      " 27%|██▋       | 322/1200 [03:10<08:36,  1.70it/s]"
     ]
    },
    {
     "name": "stdout",
     "output_type": "stream",
     "text": [
      "max at end of edge summation 1\n",
      "threshold 2\n",
      "percent activated pixels 0.01841037326388889\n",
      "left overlapping pixels 10481; percent of total 1.0\n",
      "right overlapping pixels 11937; percent of total 0.9989121338912134\n",
      "****update left mask run\n",
      "****update right mask run\n",
      "[-0.00029116428786843569, 0.050603199545975495, 520.85976058797633]\n"
     ]
    },
    {
     "name": "stderr",
     "output_type": "stream",
     "text": [
      "\u001b[A"
     ]
    },
    {
     "name": "stdout",
     "output_type": "stream",
     "text": [
      "max at end of edge summation 2\n",
      "max at end of edge summation 2\n"
     ]
    },
    {
     "name": "stderr",
     "output_type": "stream",
     "text": [
      "\n",
      "\r",
      " 27%|██▋       | 323/1200 [03:10<08:33,  1.71it/s]"
     ]
    },
    {
     "name": "stdout",
     "output_type": "stream",
     "text": [
      "max at end of edge summation 1\n",
      "threshold 2\n",
      "percent activated pixels 0.018374565972222222\n",
      "left overlapping pixels 11052; percent of total 1.0\n",
      "right overlapping pixels 11665; percent of total 0.9959019892427218\n",
      "****update left mask run\n",
      "****update right mask run\n",
      "[4.5475667325219851e-05, -0.24138283135135175, 587.83165299833558]\n"
     ]
    },
    {
     "name": "stderr",
     "output_type": "stream",
     "text": [
      "\u001b[A"
     ]
    },
    {
     "name": "stdout",
     "output_type": "stream",
     "text": [
      "max at end of edge summation 2\n",
      "max at end of edge summation 2\n"
     ]
    },
    {
     "name": "stderr",
     "output_type": "stream",
     "text": [
      "\n",
      "\r",
      " 27%|██▋       | 324/1200 [03:11<08:32,  1.71it/s]"
     ]
    },
    {
     "name": "stdout",
     "output_type": "stream",
     "text": [
      "max at end of edge summation 1\n",
      "threshold 2\n",
      "percent activated pixels 0.01786892361111111\n",
      "left overlapping pixels 8987; percent of total 1.0\n",
      "right overlapping pixels 12767; percent of total 0.9932316788548312\n",
      "****update left mask run\n",
      "****update right mask run\n",
      "[-0.0011267902533897117, 0.82497319296690819, 367.2485858889176]\n"
     ]
    },
    {
     "name": "stderr",
     "output_type": "stream",
     "text": [
      "\u001b[A"
     ]
    },
    {
     "name": "stdout",
     "output_type": "stream",
     "text": [
      "max at end of edge summation 2\n",
      "max at end of edge summation 2\n"
     ]
    },
    {
     "name": "stderr",
     "output_type": "stream",
     "text": [
      "\n",
      "\r",
      " 27%|██▋       | 325/1200 [03:12<08:33,  1.70it/s]"
     ]
    },
    {
     "name": "stdout",
     "output_type": "stream",
     "text": [
      "max at end of edge summation 1\n",
      "threshold 2\n",
      "percent activated pixels 0.016426866319444445\n",
      "left overlapping pixels 8535; percent of total 1.0\n",
      "right overlapping pixels 10832; percent of total 0.9968709736793668\n",
      "****update left mask run\n",
      "****update right mask run\n",
      "[-0.00016850846581362264, -0.050910746719455058, 552.73655435603348]\n"
     ]
    },
    {
     "name": "stderr",
     "output_type": "stream",
     "text": [
      "\u001b[A"
     ]
    },
    {
     "name": "stdout",
     "output_type": "stream",
     "text": [
      "max at end of edge summation 2\n",
      "max at end of edge summation 2\n"
     ]
    },
    {
     "name": "stderr",
     "output_type": "stream",
     "text": [
      "\n",
      "\r",
      " 27%|██▋       | 326/1200 [03:12<08:26,  1.73it/s]"
     ]
    },
    {
     "name": "stdout",
     "output_type": "stream",
     "text": [
      "max at end of edge summation 1\n",
      "threshold 2\n",
      "percent activated pixels 0.016239149305555554\n",
      "left overlapping pixels 7959; percent of total 1.0\n",
      "right overlapping pixels 11585; percent of total 0.9958738072724147\n",
      "****update left mask run\n",
      "****update right mask run\n",
      "[-0.0012963988749176828, 0.9429685934495029, 356.58553557216027]\n"
     ]
    },
    {
     "name": "stderr",
     "output_type": "stream",
     "text": [
      "\u001b[A"
     ]
    },
    {
     "name": "stdout",
     "output_type": "stream",
     "text": [
      "max at end of edge summation 2\n",
      "max at end of edge summation 2\n"
     ]
    },
    {
     "name": "stderr",
     "output_type": "stream",
     "text": [
      "\n",
      "\r",
      " 27%|██▋       | 327/1200 [03:13<08:24,  1.73it/s]"
     ]
    },
    {
     "name": "stdout",
     "output_type": "stream",
     "text": [
      "max at end of edge summation 1\n",
      "threshold 2\n",
      "percent activated pixels 0.01678927951388889\n",
      "left overlapping pixels 7830; percent of total 1.0\n",
      "right overlapping pixels 11874; percent of total 0.9952225295448831\n",
      "****update left mask run\n",
      "****update right mask run\n",
      "[-0.0019729484788616252, 1.6631983433768611, 166.69253921931625]\n"
     ]
    },
    {
     "name": "stderr",
     "output_type": "stream",
     "text": [
      "\u001b[A"
     ]
    },
    {
     "name": "stdout",
     "output_type": "stream",
     "text": [
      "max at end of edge summation 2\n",
      "max at end of edge summation 2\n"
     ]
    },
    {
     "name": "stderr",
     "output_type": "stream",
     "text": [
      "\n",
      "\r",
      " 27%|██▋       | 328/1200 [03:13<08:27,  1.72it/s]"
     ]
    },
    {
     "name": "stdout",
     "output_type": "stream",
     "text": [
      "max at end of edge summation 1\n",
      "threshold 2\n",
      "percent activated pixels 0.017322048611111113\n",
      "left overlapping pixels 7644; percent of total 1.0\n",
      "right overlapping pixels 13030; percent of total 0.9980085784313726\n",
      "****update left mask run\n",
      "****update right mask run\n",
      "[-0.0023108116841152916, 1.9183896757209045, 132.33842166486392]\n"
     ]
    },
    {
     "name": "stderr",
     "output_type": "stream",
     "text": [
      "\u001b[A"
     ]
    },
    {
     "name": "stdout",
     "output_type": "stream",
     "text": [
      "max at end of edge summation 2\n",
      "max at end of edge summation 2\n"
     ]
    },
    {
     "name": "stderr",
     "output_type": "stream",
     "text": [
      "\n",
      "\r",
      " 27%|██▋       | 329/1200 [03:14<08:25,  1.72it/s]"
     ]
    },
    {
     "name": "stdout",
     "output_type": "stream",
     "text": [
      "max at end of edge summation 1\n",
      "threshold 2\n",
      "percent activated pixels 0.012911241319444445\n",
      "left overlapping pixels 6520; percent of total 0.998468606431853\n",
      "right overlapping pixels 12326; percent of total 0.9987036136768757\n",
      "****update left mask run\n",
      "****update right mask run\n",
      "[-0.0006432218098561636, 0.30588286099117501, 493.85281204173668]\n"
     ]
    },
    {
     "name": "stderr",
     "output_type": "stream",
     "text": [
      "\u001b[A"
     ]
    },
    {
     "name": "stdout",
     "output_type": "stream",
     "text": [
      "max at end of edge summation 2\n",
      "max at end of edge summation 2\n"
     ]
    },
    {
     "name": "stderr",
     "output_type": "stream",
     "text": [
      "\n",
      "\r",
      " 28%|██▊       | 330/1200 [03:15<08:33,  1.70it/s]"
     ]
    },
    {
     "name": "stdout",
     "output_type": "stream",
     "text": [
      "max at end of edge summation 1\n",
      "threshold 2\n",
      "percent activated pixels 0.016110026041666666\n",
      "left overlapping pixels 6551; percent of total 0.9974116930572473\n",
      "right overlapping pixels 12268; percent of total 0.9944070681689228\n",
      "****update left mask run\n",
      "****update right mask run\n",
      "[-0.00043612326667774462, 0.15778068183253779, 507.95988070214298]\n"
     ]
    },
    {
     "name": "stderr",
     "output_type": "stream",
     "text": [
      "\u001b[A"
     ]
    },
    {
     "name": "stdout",
     "output_type": "stream",
     "text": [
      "max at end of edge summation 2\n",
      "max at end of edge summation 2\n"
     ]
    },
    {
     "name": "stderr",
     "output_type": "stream",
     "text": [
      "\n",
      "\r",
      " 28%|██▊       | 331/1200 [03:15<08:44,  1.66it/s]"
     ]
    },
    {
     "name": "stdout",
     "output_type": "stream",
     "text": [
      "max at end of edge summation 1\n",
      "threshold 2\n",
      "percent activated pixels 0.019833984375\n",
      "left overlapping pixels 7025; percent of total 1.0\n",
      "right overlapping pixels 15758; percent of total 0.9896997864589876\n",
      "****update left mask run\n",
      "****update right mask run\n",
      "[-0.00061068643561857879, 0.31443107575063989, 490.10030378388785]\n"
     ]
    },
    {
     "name": "stderr",
     "output_type": "stream",
     "text": [
      "\u001b[A"
     ]
    },
    {
     "name": "stdout",
     "output_type": "stream",
     "text": [
      "max at end of edge summation 2\n",
      "max at end of edge summation 2\n"
     ]
    },
    {
     "name": "stderr",
     "output_type": "stream",
     "text": [
      "\n",
      "\r",
      " 28%|██▊       | 332/1200 [03:16<08:42,  1.66it/s]"
     ]
    },
    {
     "name": "stdout",
     "output_type": "stream",
     "text": [
      "max at end of edge summation 1\n",
      "threshold 2\n",
      "percent activated pixels 0.019716796875\n",
      "left overlapping pixels 7609; percent of total 1.0\n",
      "right overlapping pixels 18419; percent of total 0.9929380053908355\n",
      "****update left mask run\n",
      "****update right mask run\n",
      "[0.00070832333191774867, -0.67907174634919976, 679.52861603407496]\n"
     ]
    },
    {
     "name": "stderr",
     "output_type": "stream",
     "text": [
      "\u001b[A"
     ]
    },
    {
     "name": "stdout",
     "output_type": "stream",
     "text": [
      "max at end of edge summation 2\n",
      "max at end of edge summation 2\n"
     ]
    },
    {
     "name": "stderr",
     "output_type": "stream",
     "text": [
      "\n",
      "\r",
      " 28%|██▊       | 333/1200 [03:16<08:37,  1.67it/s]"
     ]
    },
    {
     "name": "stdout",
     "output_type": "stream",
     "text": [
      "max at end of edge summation 1\n",
      "threshold 2\n",
      "percent activated pixels 0.019268663194444445\n",
      "left overlapping pixels 8497; percent of total 1.0\n",
      "right overlapping pixels 19011; percent of total 0.9952361009318396\n",
      "****update left mask run\n",
      "****update right mask run\n",
      "[-0.0012382444899893522, 1.1202641029677718, 254.29025500937306]\n"
     ]
    },
    {
     "name": "stderr",
     "output_type": "stream",
     "text": [
      "\u001b[A"
     ]
    },
    {
     "name": "stdout",
     "output_type": "stream",
     "text": [
      "max at end of edge summation 2\n",
      "max at end of edge summation 2\n"
     ]
    },
    {
     "name": "stderr",
     "output_type": "stream",
     "text": [
      "\n",
      "\r",
      " 28%|██▊       | 334/1200 [03:17<08:36,  1.68it/s]"
     ]
    },
    {
     "name": "stdout",
     "output_type": "stream",
     "text": [
      "max at end of edge summation 1\n",
      "threshold 2\n",
      "percent activated pixels 0.019610460069444443\n",
      "left overlapping pixels 9466; percent of total 1.0\n",
      "right overlapping pixels 19497; percent of total 0.9959644462607274\n",
      "****update left mask run\n",
      "****update right mask run\n",
      "[-0.0005920761092339244, 0.77090006180631976, 262.2079336573305]\n"
     ]
    },
    {
     "name": "stderr",
     "output_type": "stream",
     "text": [
      "\u001b[A"
     ]
    },
    {
     "name": "stdout",
     "output_type": "stream",
     "text": [
      "max at end of edge summation 2\n",
      "max at end of edge summation 2\n"
     ]
    },
    {
     "name": "stderr",
     "output_type": "stream",
     "text": [
      "\n",
      "\r",
      " 28%|██▊       | 335/1200 [03:18<08:35,  1.68it/s]"
     ]
    },
    {
     "name": "stdout",
     "output_type": "stream",
     "text": [
      "max at end of edge summation 1\n",
      "threshold 2\n",
      "percent activated pixels 0.019625651041666668\n",
      "left overlapping pixels 12602; percent of total 1.0\n",
      "right overlapping pixels 17783; percent of total 0.9934081894866209\n",
      "****update left mask run\n",
      "****update right mask run\n",
      "[0.0013897736294983284, -0.97111946937914739, 605.01028200590656]\n"
     ]
    },
    {
     "name": "stderr",
     "output_type": "stream",
     "text": [
      "\u001b[A"
     ]
    },
    {
     "name": "stdout",
     "output_type": "stream",
     "text": [
      "max at end of edge summation 2\n",
      "max at end of edge summation 2\n"
     ]
    },
    {
     "name": "stderr",
     "output_type": "stream",
     "text": [
      "\n",
      "\r",
      " 28%|██▊       | 336/1200 [03:18<08:36,  1.67it/s]"
     ]
    },
    {
     "name": "stdout",
     "output_type": "stream",
     "text": [
      "max at end of edge summation 1\n",
      "threshold 2\n",
      "percent activated pixels 0.019453125\n",
      "left overlapping pixels 12566; percent of total 1.0\n",
      "right overlapping pixels 17578; percent of total 0.9948497368272115\n",
      "****update left mask run\n",
      "****update right mask run\n",
      "[0.0013523837220037309, -0.93025136756198457, 575.06431384782252]\n"
     ]
    },
    {
     "name": "stderr",
     "output_type": "stream",
     "text": [
      "\u001b[A"
     ]
    },
    {
     "name": "stdout",
     "output_type": "stream",
     "text": [
      "max at end of edge summation 2\n",
      "max at end of edge summation 2\n"
     ]
    },
    {
     "name": "stderr",
     "output_type": "stream",
     "text": [
      "\n",
      "\r",
      " 28%|██▊       | 337/1200 [03:19<08:31,  1.69it/s]"
     ]
    },
    {
     "name": "stdout",
     "output_type": "stream",
     "text": [
      "max at end of edge summation 1\n",
      "threshold 2\n",
      "percent activated pixels 0.019959852430555557\n",
      "left overlapping pixels 11636; percent of total 1.0\n",
      "right overlapping pixels 16521; percent of total 0.9968022203451189\n",
      "****update left mask run\n",
      "****update right mask run\n",
      "[0.00015039821020821422, 0.26587995531675235, 296.2986982772947]\n"
     ]
    },
    {
     "name": "stderr",
     "output_type": "stream",
     "text": [
      "\u001b[A"
     ]
    },
    {
     "name": "stdout",
     "output_type": "stream",
     "text": [
      "max at end of edge summation 2\n",
      "max at end of edge summation 2\n"
     ]
    },
    {
     "name": "stderr",
     "output_type": "stream",
     "text": [
      "\n",
      "\r",
      " 28%|██▊       | 338/1200 [03:19<08:34,  1.67it/s]"
     ]
    },
    {
     "name": "stdout",
     "output_type": "stream",
     "text": [
      "max at end of edge summation 1\n",
      "threshold 2\n",
      "percent activated pixels 0.020238715277777777\n",
      "left overlapping pixels 12172; percent of total 1.0\n",
      "right overlapping pixels 18362; percent of total 1.0\n",
      "****update left mask run\n",
      "****update right mask run\n",
      "[0.00095574296669682511, -0.73642440970592471, 568.87471072018934]\n"
     ]
    },
    {
     "name": "stderr",
     "output_type": "stream",
     "text": [
      "\u001b[A"
     ]
    },
    {
     "name": "stdout",
     "output_type": "stream",
     "text": [
      "max at end of edge summation 2\n",
      "max at end of edge summation 2\n"
     ]
    },
    {
     "name": "stderr",
     "output_type": "stream",
     "text": [
      "\n",
      "\r",
      " 28%|██▊       | 339/1200 [03:20<08:29,  1.69it/s]"
     ]
    },
    {
     "name": "stdout",
     "output_type": "stream",
     "text": [
      "max at end of edge summation 1\n",
      "threshold 2\n",
      "percent activated pixels 0.020346137152777777\n",
      "left overlapping pixels 13719; percent of total 1.0\n",
      "right overlapping pixels 17297; percent of total 1.0\n",
      "****update left mask run\n",
      "****update right mask run\n",
      "[0.0020853720834333495, -1.6175205316509587, 700.35458576647147]\n"
     ]
    },
    {
     "name": "stderr",
     "output_type": "stream",
     "text": [
      "\u001b[A"
     ]
    },
    {
     "name": "stdout",
     "output_type": "stream",
     "text": [
      "max at end of edge summation 2\n",
      "max at end of edge summation 2\n"
     ]
    },
    {
     "name": "stderr",
     "output_type": "stream",
     "text": [
      "\n",
      "\r",
      " 28%|██▊       | 340/1200 [03:21<08:30,  1.69it/s]"
     ]
    },
    {
     "name": "stdout",
     "output_type": "stream",
     "text": [
      "max at end of edge summation 1\n",
      "threshold 2\n",
      "percent activated pixels 0.021060112847222222\n",
      "left overlapping pixels 12810; percent of total 1.0\n",
      "right overlapping pixels 18245; percent of total 1.0\n",
      "****update left mask run\n",
      "****update right mask run\n",
      "[0.0027309942330299083, -2.2210088302376736, 835.07076765197235]\n"
     ]
    },
    {
     "name": "stderr",
     "output_type": "stream",
     "text": [
      "\u001b[A"
     ]
    },
    {
     "name": "stdout",
     "output_type": "stream",
     "text": [
      "max at end of edge summation 2\n",
      "max at end of edge summation 2\n"
     ]
    },
    {
     "name": "stderr",
     "output_type": "stream",
     "text": [
      "\n",
      "\r",
      " 28%|██▊       | 341/1200 [03:21<08:32,  1.68it/s]"
     ]
    },
    {
     "name": "stdout",
     "output_type": "stream",
     "text": [
      "max at end of edge summation 2\n",
      "threshold 2\n",
      "percent activated pixels 0.022573784722222223\n",
      "left overlapping pixels 13752; percent of total 1.0\n",
      "right overlapping pixels 17659; percent of total 1.0\n",
      "****update left mask run\n",
      "****update right mask run\n",
      "[0.00064366033346258242, -0.45440035237376103, 561.70665496622519]\n"
     ]
    },
    {
     "name": "stderr",
     "output_type": "stream",
     "text": [
      "\u001b[A"
     ]
    },
    {
     "name": "stdout",
     "output_type": "stream",
     "text": [
      "max at end of edge summation 2\n",
      "max at end of edge summation 2\n"
     ]
    },
    {
     "name": "stderr",
     "output_type": "stream",
     "text": [
      "\n",
      "\r",
      " 28%|██▊       | 342/1200 [03:22<08:34,  1.67it/s]"
     ]
    },
    {
     "name": "stdout",
     "output_type": "stream",
     "text": [
      "max at end of edge summation 1\n",
      "threshold 2\n",
      "percent activated pixels 0.02322482638888889\n",
      "left overlapping pixels 13234; percent of total 1.0\n",
      "right overlapping pixels 16841; percent of total 1.0\n",
      "****update left mask run\n",
      "****update right mask run\n",
      "[0.0021937643481846686, -1.5275366464824345, 624.18273242237058]\n"
     ]
    },
    {
     "name": "stderr",
     "output_type": "stream",
     "text": [
      "\u001b[A"
     ]
    },
    {
     "name": "stdout",
     "output_type": "stream",
     "text": [
      "max at end of edge summation 2\n",
      "max at end of edge summation 2\n"
     ]
    },
    {
     "name": "stderr",
     "output_type": "stream",
     "text": [
      "\n",
      "\r",
      " 29%|██▊       | 343/1200 [03:22<08:43,  1.64it/s]"
     ]
    },
    {
     "name": "stdout",
     "output_type": "stream",
     "text": [
      "max at end of edge summation 1\n",
      "threshold 2\n",
      "percent activated pixels 0.025950520833333334\n",
      "left overlapping pixels 14338; percent of total 1.0\n",
      "right overlapping pixels 17235; percent of total 1.0\n",
      "****update left mask run\n",
      "****update right mask run\n",
      "[0.0023611957384737556, -1.5742714580168926, 611.16798578454677]\n"
     ]
    },
    {
     "name": "stderr",
     "output_type": "stream",
     "text": [
      "\u001b[A"
     ]
    },
    {
     "name": "stdout",
     "output_type": "stream",
     "text": [
      "max at end of edge summation 2\n",
      "max at end of edge summation 2\n"
     ]
    },
    {
     "name": "stderr",
     "output_type": "stream",
     "text": [
      "\n",
      "\r",
      " 29%|██▊       | 344/1200 [03:23<08:41,  1.64it/s]"
     ]
    },
    {
     "name": "stdout",
     "output_type": "stream",
     "text": [
      "max at end of edge summation 1\n",
      "threshold 2\n",
      "percent activated pixels 0.026156684027777776\n",
      "left overlapping pixels 13036; percent of total 1.0\n",
      "right overlapping pixels 16677; percent of total 1.0\n",
      "****update left mask run\n",
      "****update right mask run\n",
      "[-0.00072724908756316171, 0.61383864129109056, 392.96059176634878]\n"
     ]
    },
    {
     "name": "stderr",
     "output_type": "stream",
     "text": [
      "\u001b[A"
     ]
    },
    {
     "name": "stdout",
     "output_type": "stream",
     "text": [
      "max at end of edge summation 2\n",
      "max at end of edge summation 2\n"
     ]
    },
    {
     "name": "stderr",
     "output_type": "stream",
     "text": [
      "\n",
      "\r",
      " 29%|██▉       | 345/1200 [03:24<08:54,  1.60it/s]"
     ]
    },
    {
     "name": "stdout",
     "output_type": "stream",
     "text": [
      "max at end of edge summation 1\n",
      "threshold 2\n",
      "percent activated pixels 0.026826171875\n",
      "left overlapping pixels 13518; percent of total 1.0\n",
      "right overlapping pixels 15132; percent of total 1.0\n",
      "****update left mask run\n",
      "****update right mask run\n",
      "[-0.0011809209918942393, 0.84719293872525547, 393.26623363371567]\n"
     ]
    },
    {
     "name": "stderr",
     "output_type": "stream",
     "text": [
      "\u001b[A"
     ]
    },
    {
     "name": "stdout",
     "output_type": "stream",
     "text": [
      "max at end of edge summation 2\n",
      "max at end of edge summation 2\n"
     ]
    },
    {
     "name": "stderr",
     "output_type": "stream",
     "text": [
      "\n",
      "\r",
      " 29%|██▉       | 346/1200 [03:24<08:55,  1.59it/s]"
     ]
    },
    {
     "name": "stdout",
     "output_type": "stream",
     "text": [
      "max at end of edge summation 1\n",
      "threshold 2\n",
      "percent activated pixels 0.02632052951388889\n",
      "left overlapping pixels 12313; percent of total 1.0\n",
      "right overlapping pixels 14870; percent of total 1.0\n",
      "****update left mask run\n",
      "****update right mask run\n",
      "[0.0001740092443853604, -0.0038831471855294564, 442.95620585002655]\n"
     ]
    },
    {
     "name": "stderr",
     "output_type": "stream",
     "text": [
      "\u001b[A"
     ]
    },
    {
     "name": "stdout",
     "output_type": "stream",
     "text": [
      "max at end of edge summation 2\n",
      "max at end of edge summation 2\n"
     ]
    },
    {
     "name": "stderr",
     "output_type": "stream",
     "text": [
      "\n",
      "\r",
      " 29%|██▉       | 347/1200 [03:25<08:49,  1.61it/s]"
     ]
    },
    {
     "name": "stdout",
     "output_type": "stream",
     "text": [
      "max at end of edge summation 1\n",
      "threshold 2\n",
      "percent activated pixels 0.021481119791666666\n",
      "left overlapping pixels 10503; percent of total 1.0\n",
      "right overlapping pixels 14923; percent of total 1.0\n",
      "****update left mask run\n",
      "****update right mask run\n",
      "[-0.00083457966358315479, 0.65309034023601142, 409.09636246490595]\n"
     ]
    },
    {
     "name": "stderr",
     "output_type": "stream",
     "text": [
      "\u001b[A"
     ]
    },
    {
     "name": "stdout",
     "output_type": "stream",
     "text": [
      "max at end of edge summation 2\n",
      "max at end of edge summation 2\n"
     ]
    },
    {
     "name": "stderr",
     "output_type": "stream",
     "text": [
      "\n",
      "\r",
      " 29%|██▉       | 348/1200 [03:25<08:44,  1.62it/s]"
     ]
    },
    {
     "name": "stdout",
     "output_type": "stream",
     "text": [
      "max at end of edge summation 1\n",
      "threshold 2\n",
      "percent activated pixels 0.024231770833333333\n",
      "left overlapping pixels 10690; percent of total 1.0\n",
      "right overlapping pixels 15326; percent of total 1.0\n",
      "****update left mask run\n",
      "****update right mask run\n",
      "[-0.00032753097361472744, 0.2408661606517262, 463.01570667654005]\n"
     ]
    },
    {
     "name": "stderr",
     "output_type": "stream",
     "text": [
      "\u001b[A"
     ]
    },
    {
     "name": "stdout",
     "output_type": "stream",
     "text": [
      "max at end of edge summation 2\n",
      "max at end of edge summation 2\n"
     ]
    },
    {
     "name": "stderr",
     "output_type": "stream",
     "text": [
      "\n",
      "\r",
      " 29%|██▉       | 349/1200 [03:26<08:37,  1.64it/s]"
     ]
    },
    {
     "name": "stdout",
     "output_type": "stream",
     "text": [
      "max at end of edge summation 1\n",
      "threshold 2\n",
      "percent activated pixels 0.02506293402777778\n",
      "left overlapping pixels 10748; percent of total 1.0\n",
      "right overlapping pixels 14133; percent of total 1.0\n",
      "****update left mask run\n",
      "****update right mask run\n",
      "[0.00055657108390726184, -0.2927487242728779, 455.55267151982332]\n"
     ]
    },
    {
     "name": "stderr",
     "output_type": "stream",
     "text": [
      "\u001b[A"
     ]
    },
    {
     "name": "stdout",
     "output_type": "stream",
     "text": [
      "max at end of edge summation 2\n",
      "max at end of edge summation 2\n"
     ]
    },
    {
     "name": "stderr",
     "output_type": "stream",
     "text": [
      "\n",
      "\r",
      " 29%|██▉       | 350/1200 [03:27<08:42,  1.63it/s]"
     ]
    },
    {
     "name": "stdout",
     "output_type": "stream",
     "text": [
      "max at end of edge summation 1\n",
      "threshold 2\n",
      "percent activated pixels 0.02504340277777778\n",
      "left overlapping pixels 10225; percent of total 1.0\n",
      "right overlapping pixels 14092; percent of total 1.0\n",
      "****update left mask run\n",
      "****update right mask run\n",
      "[0.0016404091040578077, -1.1734191163251302, 586.88720492584707]\n"
     ]
    },
    {
     "name": "stderr",
     "output_type": "stream",
     "text": [
      "\u001b[A"
     ]
    },
    {
     "name": "stdout",
     "output_type": "stream",
     "text": [
      "max at end of edge summation 2\n",
      "max at end of edge summation 2\n"
     ]
    },
    {
     "name": "stderr",
     "output_type": "stream",
     "text": [
      "\n",
      "\r",
      " 29%|██▉       | 351/1200 [03:27<08:26,  1.68it/s]"
     ]
    },
    {
     "name": "stdout",
     "output_type": "stream",
     "text": [
      "max at end of edge summation 1\n",
      "threshold 2\n",
      "percent activated pixels 0.025040147569444445\n",
      "left overlapping pixels 8995; percent of total 1.0\n",
      "right overlapping pixels 13297; percent of total 1.0\n",
      "****update left mask run\n",
      "****update right mask run\n",
      "[0.00018973454704358258, -0.03871413702927412, 405.58202369047865]\n"
     ]
    },
    {
     "name": "stderr",
     "output_type": "stream",
     "text": [
      "\u001b[A"
     ]
    },
    {
     "name": "stdout",
     "output_type": "stream",
     "text": [
      "max at end of edge summation 2\n",
      "max at end of edge summation 2\n"
     ]
    },
    {
     "name": "stderr",
     "output_type": "stream",
     "text": [
      "\n",
      "\r",
      " 29%|██▉       | 352/1200 [03:28<08:31,  1.66it/s]"
     ]
    },
    {
     "name": "stdout",
     "output_type": "stream",
     "text": [
      "max at end of edge summation 1\n",
      "threshold 2\n",
      "percent activated pixels 0.023778211805555557\n",
      "left overlapping pixels 11564; percent of total 1.0\n",
      "right overlapping pixels 10663; percent of total 1.0\n",
      "****update left mask run\n",
      "****update right mask run\n",
      "[-0.0003985410242680512, 0.20357234449054068, 428.23165387295302]\n"
     ]
    },
    {
     "name": "stderr",
     "output_type": "stream",
     "text": [
      "\u001b[A"
     ]
    },
    {
     "name": "stdout",
     "output_type": "stream",
     "text": [
      "max at end of edge summation 2\n",
      "max at end of edge summation 2\n",
      "max at end of edge summation 1\n",
      "threshold 2\n",
      "percent activated pixels 0.025032552083333333\n",
      "left overlapping pixels 12055; percent of total 1.0\n",
      "right overlapping pixels 9481; percent of total 1.0\n",
      "****update left mask run\n",
      "****update right mask run\n",
      "[0.0012338823341149843, -1.0883952805627883, 604.46806624937676]\n"
     ]
    },
    {
     "name": "stderr",
     "output_type": "stream",
     "text": [
      "\n",
      " 29%|██▉       | 353/1200 [03:29<10:17,  1.37it/s]\u001b[A"
     ]
    },
    {
     "name": "stdout",
     "output_type": "stream",
     "text": [
      "max at end of edge summation 2\n",
      "max at end of edge summation 2\n",
      "max at end of edge summation 1\n",
      "threshold 2\n",
      "percent activated pixels 0.02365234375\n",
      "left overlapping pixels 11258; percent of total 1.0\n",
      "right overlapping pixels 8138; percent of total 1.0\n",
      "****update left mask run\n",
      "****update right mask run\n",
      "[0.00029287222191448788, -0.40937677170825576, 522.84580897765954]\n"
     ]
    },
    {
     "name": "stderr",
     "output_type": "stream",
     "text": [
      "\n",
      " 30%|██▉       | 354/1200 [03:30<11:49,  1.19it/s]\u001b[A"
     ]
    },
    {
     "name": "stdout",
     "output_type": "stream",
     "text": [
      "max at end of edge summation 2\n",
      "max at end of edge summation 2\n"
     ]
    },
    {
     "name": "stderr",
     "output_type": "stream",
     "text": [
      "\n",
      "\r",
      " 30%|██▉       | 355/1200 [03:31<11:36,  1.21it/s]"
     ]
    },
    {
     "name": "stdout",
     "output_type": "stream",
     "text": [
      "max at end of edge summation 2\n",
      "threshold 2\n",
      "percent activated pixels 0.02427517361111111\n",
      "left overlapping pixels 11720; percent of total 1.0\n",
      "right overlapping pixels 6633; percent of total 1.0\n",
      "****update left mask run\n",
      "****update right mask run\n",
      "[-0.00045461819211334547, 0.17109702814616989, 422.04352331001996]\n"
     ]
    },
    {
     "name": "stderr",
     "output_type": "stream",
     "text": [
      "\u001b[A"
     ]
    },
    {
     "name": "stdout",
     "output_type": "stream",
     "text": [
      "max at end of edge summation 2\n",
      "max at end of edge summation 2\n"
     ]
    },
    {
     "name": "stderr",
     "output_type": "stream",
     "text": [
      "\n",
      "\r",
      " 30%|██▉       | 356/1200 [03:31<10:47,  1.30it/s]"
     ]
    },
    {
     "name": "stdout",
     "output_type": "stream",
     "text": [
      "max at end of edge summation 1\n",
      "threshold 2\n",
      "percent activated pixels 0.02573459201388889\n",
      "left overlapping pixels 12795; percent of total 1.0\n",
      "right overlapping pixels 6681; percent of total 0.992866696388765\n",
      "****update left mask run\n",
      "****update right mask run\n",
      "[-0.0018431147177754405, 0.94287593013165005, 449.97069185176974]\n"
     ]
    },
    {
     "name": "stderr",
     "output_type": "stream",
     "text": [
      "\u001b[A"
     ]
    },
    {
     "name": "stdout",
     "output_type": "stream",
     "text": [
      "max at end of edge summation 2\n",
      "max at end of edge summation 2\n"
     ]
    },
    {
     "name": "stderr",
     "output_type": "stream",
     "text": [
      "\n",
      "\r",
      " 30%|██▉       | 357/1200 [03:32<10:07,  1.39it/s]"
     ]
    },
    {
     "name": "stdout",
     "output_type": "stream",
     "text": [
      "max at end of edge summation 1\n",
      "threshold 2\n",
      "percent activated pixels 0.025966796875\n",
      "left overlapping pixels 11131; percent of total 1.0\n",
      "right overlapping pixels 10878; percent of total 0.9951514042631049\n",
      "****update left mask run\n",
      "****update right mask run\n",
      "[-0.0011285135742289693, 0.8187578436202958, 414.99716244857967]\n"
     ]
    },
    {
     "name": "stderr",
     "output_type": "stream",
     "text": [
      "\u001b[A"
     ]
    },
    {
     "name": "stdout",
     "output_type": "stream",
     "text": [
      "max at end of edge summation 2\n",
      "max at end of edge summation 2\n"
     ]
    },
    {
     "name": "stderr",
     "output_type": "stream",
     "text": [
      "\n",
      "\r",
      " 30%|██▉       | 358/1200 [03:33<09:55,  1.41it/s]"
     ]
    },
    {
     "name": "stdout",
     "output_type": "stream",
     "text": [
      "max at end of edge summation 1\n",
      "threshold 2\n",
      "percent activated pixels 0.026563585069444444\n",
      "left overlapping pixels 10177; percent of total 0.9994107826770107\n",
      "right overlapping pixels 19573; percent of total 0.9895849132918753\n",
      "****update left mask run\n",
      "****update right mask run\n",
      "[-0.0006722874622254241, 0.41909083245142753, 489.91379009757804]\n"
     ]
    },
    {
     "name": "stderr",
     "output_type": "stream",
     "text": [
      "\u001b[A"
     ]
    },
    {
     "name": "stdout",
     "output_type": "stream",
     "text": [
      "max at end of edge summation 2\n",
      "max at end of edge summation 2\n"
     ]
    },
    {
     "name": "stderr",
     "output_type": "stream",
     "text": [
      "\n",
      "\r",
      " 30%|██▉       | 359/1200 [03:33<09:40,  1.45it/s]"
     ]
    },
    {
     "name": "stdout",
     "output_type": "stream",
     "text": [
      "max at end of edge summation 2\n",
      "threshold 2\n",
      "percent activated pixels 0.027284071180555557\n",
      "left overlapping pixels 12035; percent of total 1.0\n",
      "right overlapping pixels 26330; percent of total 0.9976886059641544\n",
      "****update left mask run\n",
      "****update right mask run\n",
      "[-0.00035655815900096776, 0.21154643588420508, 502.49131941913714]\n"
     ]
    },
    {
     "name": "stderr",
     "output_type": "stream",
     "text": [
      "\u001b[A"
     ]
    },
    {
     "name": "stdout",
     "output_type": "stream",
     "text": [
      "max at end of edge summation 2\n",
      "max at end of edge summation 2\n"
     ]
    },
    {
     "name": "stderr",
     "output_type": "stream",
     "text": [
      "\n",
      "\r",
      " 30%|███       | 360/1200 [03:34<09:23,  1.49it/s]"
     ]
    },
    {
     "name": "stdout",
     "output_type": "stream",
     "text": [
      "max at end of edge summation 1\n",
      "threshold 2\n",
      "percent activated pixels 0.026010199652777777\n",
      "left overlapping pixels 12486; percent of total 1.0\n",
      "right overlapping pixels 34741; percent of total 0.9956723604264588\n",
      "****update left mask run\n",
      "****update right mask run\n",
      "[0.00031205185964782741, -0.25752821613941829, 534.46582168877023]\n"
     ]
    },
    {
     "name": "stderr",
     "output_type": "stream",
     "text": [
      "\u001b[A"
     ]
    },
    {
     "name": "stdout",
     "output_type": "stream",
     "text": [
      "max at end of edge summation 2\n",
      "max at end of edge summation 2\n"
     ]
    },
    {
     "name": "stderr",
     "output_type": "stream",
     "text": [
      "\n",
      "\r",
      " 30%|███       | 361/1200 [03:35<09:02,  1.55it/s]"
     ]
    },
    {
     "name": "stdout",
     "output_type": "stream",
     "text": [
      "max at end of edge summation 1\n",
      "threshold 2\n",
      "percent activated pixels 0.025176866319444446\n",
      "left overlapping pixels 11443; percent of total 1.0\n",
      "right overlapping pixels 30912; percent of total 0.9953311652767493\n",
      "****update left mask run\n",
      "****update right mask run\n",
      "[-0.00033913261569329747, 0.20755267628163016, 485.84188515103193]\n"
     ]
    },
    {
     "name": "stderr",
     "output_type": "stream",
     "text": [
      "\u001b[A"
     ]
    },
    {
     "name": "stdout",
     "output_type": "stream",
     "text": [
      "max at end of edge summation 2\n",
      "max at end of edge summation 2\n"
     ]
    },
    {
     "name": "stderr",
     "output_type": "stream",
     "text": [
      "\n",
      "\r",
      " 30%|███       | 362/1200 [03:35<08:50,  1.58it/s]"
     ]
    },
    {
     "name": "stdout",
     "output_type": "stream",
     "text": [
      "max at end of edge summation 1\n",
      "threshold 2\n",
      "percent activated pixels 0.023322482638888888\n",
      "left overlapping pixels 13024; percent of total 1.0\n",
      "right overlapping pixels 35783; percent of total 0.9968242471515726\n",
      "****update left mask run\n",
      "****update right mask run\n",
      "[0.00072600275731334323, -0.47241496772174718, 511.8357706985571]\n"
     ]
    },
    {
     "name": "stderr",
     "output_type": "stream",
     "text": [
      "\u001b[A"
     ]
    },
    {
     "name": "stdout",
     "output_type": "stream",
     "text": [
      "max at end of edge summation 2\n",
      "max at end of edge summation 2\n"
     ]
    },
    {
     "name": "stderr",
     "output_type": "stream",
     "text": [
      "\n",
      "\r",
      " 30%|███       | 363/1200 [03:36<08:28,  1.65it/s]"
     ]
    },
    {
     "name": "stdout",
     "output_type": "stream",
     "text": [
      "max at end of edge summation 1\n",
      "threshold 2\n",
      "percent activated pixels 0.02705295138888889\n",
      "left overlapping pixels 15823; percent of total 1.0\n",
      "right overlapping pixels 37779; percent of total 0.9973336853220697\n",
      "****update left mask run\n",
      "****update right mask run\n",
      "[0.00036688269724330261, -0.44880466482219533, 609.41347261134615]\n"
     ]
    },
    {
     "name": "stderr",
     "output_type": "stream",
     "text": [
      "\u001b[A"
     ]
    },
    {
     "name": "stdout",
     "output_type": "stream",
     "text": [
      "max at end of edge summation 2\n",
      "max at end of edge summation 2\n"
     ]
    },
    {
     "name": "stderr",
     "output_type": "stream",
     "text": [
      "\n",
      "\r",
      " 30%|███       | 364/1200 [03:36<08:26,  1.65it/s]"
     ]
    },
    {
     "name": "stdout",
     "output_type": "stream",
     "text": [
      "max at end of edge summation 1\n",
      "threshold 2\n",
      "percent activated pixels 0.02365993923611111\n",
      "left overlapping pixels 17527; percent of total 1.0\n",
      "right overlapping pixels 44485; percent of total 0.99490081184443\n",
      "****update left mask run\n",
      "****update right mask run\n",
      "[0.00027551591917625247, -0.36766970742093669, 571.90684883981942]\n"
     ]
    },
    {
     "name": "stderr",
     "output_type": "stream",
     "text": [
      "\u001b[A"
     ]
    },
    {
     "name": "stdout",
     "output_type": "stream",
     "text": [
      "max at end of edge summation 2\n",
      "max at end of edge summation 2\n"
     ]
    },
    {
     "name": "stderr",
     "output_type": "stream",
     "text": [
      "\n",
      "\r",
      " 30%|███       | 365/1200 [03:37<08:10,  1.70it/s]"
     ]
    },
    {
     "name": "stdout",
     "output_type": "stream",
     "text": [
      "max at end of edge summation 1\n",
      "threshold 2\n",
      "percent activated pixels 0.023809678819444444\n",
      "left overlapping pixels 18481; percent of total 1.0\n",
      "right overlapping pixels 45108; percent of total 0.9986495162611526\n",
      "****update left mask run\n",
      "****update right mask run\n",
      "[-0.00047148211746893444, 0.55929168598114143, 274.00872926791595]\n"
     ]
    },
    {
     "name": "stderr",
     "output_type": "stream",
     "text": [
      "\u001b[A"
     ]
    },
    {
     "name": "stdout",
     "output_type": "stream",
     "text": [
      "max at end of edge summation 2\n",
      "max at end of edge summation 2\n"
     ]
    },
    {
     "name": "stderr",
     "output_type": "stream",
     "text": [
      "\n",
      "\r",
      " 30%|███       | 366/1200 [03:37<08:18,  1.67it/s]"
     ]
    },
    {
     "name": "stdout",
     "output_type": "stream",
     "text": [
      "max at end of edge summation 1\n",
      "threshold 2\n",
      "percent activated pixels 0.02260199652777778\n",
      "left overlapping pixels 18235; percent of total 1.0\n",
      "right overlapping pixels 45903; percent of total 0.9982602266054846\n",
      "****update left mask run\n",
      "****update right mask run\n",
      "[0.0034626054764674411, -2.8119794518284871, 873.64659146897873]\n"
     ]
    },
    {
     "name": "stderr",
     "output_type": "stream",
     "text": [
      "\u001b[A"
     ]
    },
    {
     "name": "stdout",
     "output_type": "stream",
     "text": [
      "max at end of edge summation 2\n",
      "max at end of edge summation 2\n"
     ]
    },
    {
     "name": "stderr",
     "output_type": "stream",
     "text": [
      "\n",
      "\r",
      " 31%|███       | 367/1200 [03:38<08:28,  1.64it/s]"
     ]
    },
    {
     "name": "stdout",
     "output_type": "stream",
     "text": [
      "max at end of edge summation 1\n",
      "threshold 2\n",
      "percent activated pixels 0.02430447048611111\n",
      "left overlapping pixels 23306; percent of total 1.0\n",
      "right overlapping pixels 48367; percent of total 0.9971138186241161\n",
      "****update left mask run\n",
      "****update right mask run\n",
      "[0.002839755780818212, -2.3319925832417434, 791.85203887967305]\n"
     ]
    },
    {
     "name": "stderr",
     "output_type": "stream",
     "text": [
      "\u001b[A"
     ]
    },
    {
     "name": "stdout",
     "output_type": "stream",
     "text": [
      "max at end of edge summation 2\n",
      "max at end of edge summation 2\n"
     ]
    },
    {
     "name": "stderr",
     "output_type": "stream",
     "text": [
      "\n",
      "\r",
      " 31%|███       | 368/1200 [03:39<08:27,  1.64it/s]"
     ]
    },
    {
     "name": "stdout",
     "output_type": "stream",
     "text": [
      "max at end of edge summation 1\n",
      "threshold 2\n",
      "percent activated pixels 0.024983723958333332\n",
      "left overlapping pixels 25938; percent of total 0.9977305073662346\n",
      "right overlapping pixels 56825; percent of total 0.9976474306079812\n",
      "****update left mask run\n",
      "****update right mask run\n",
      "[-0.0013487139718237054, 0.71703897199376931, 492.57709842656277]\n"
     ]
    },
    {
     "name": "stderr",
     "output_type": "stream",
     "text": [
      "\u001b[A"
     ]
    },
    {
     "name": "stdout",
     "output_type": "stream",
     "text": [
      "max at end of edge summation 2\n",
      "max at end of edge summation 2\n"
     ]
    },
    {
     "name": "stderr",
     "output_type": "stream",
     "text": [
      "\n",
      "\r",
      " 31%|███       | 369/1200 [03:39<08:23,  1.65it/s]"
     ]
    },
    {
     "name": "stdout",
     "output_type": "stream",
     "text": [
      "max at end of edge summation 1\n",
      "threshold 2\n",
      "percent activated pixels 0.02594509548611111\n",
      "left overlapping pixels 30271; percent of total 0.9988121556076154\n",
      "right overlapping pixels 58252; percent of total 0.9977049292638647\n",
      "****update left mask run\n",
      "****update right mask run\n",
      "[-0.00068718187805043339, 0.41893761886297864, 459.74302885946912]\n"
     ]
    },
    {
     "name": "stderr",
     "output_type": "stream",
     "text": [
      "\u001b[A"
     ]
    },
    {
     "name": "stdout",
     "output_type": "stream",
     "text": [
      "max at end of edge summation 2\n",
      "max at end of edge summation 2\n"
     ]
    },
    {
     "name": "stderr",
     "output_type": "stream",
     "text": [
      "\n",
      "\r",
      " 31%|███       | 370/1200 [03:40<08:36,  1.61it/s]"
     ]
    },
    {
     "name": "stdout",
     "output_type": "stream",
     "text": [
      "max at end of edge summation 1\n",
      "threshold 2\n",
      "percent activated pixels 0.02720486111111111\n",
      "left overlapping pixels 36042; percent of total 0.9959655134298663\n",
      "right overlapping pixels 57697; percent of total 0.9992552822999654\n",
      "****update left mask run\n",
      "****update right mask run\n",
      "[9.3297820614609683e-05, 0.38927293757853332, 307.61391662560817]\n"
     ]
    },
    {
     "name": "stderr",
     "output_type": "stream",
     "text": [
      "\u001b[A"
     ]
    },
    {
     "name": "stdout",
     "output_type": "stream",
     "text": [
      "max at end of edge summation 2\n",
      "max at end of edge summation 2\n"
     ]
    },
    {
     "name": "stderr",
     "output_type": "stream",
     "text": [
      "\n",
      "\r",
      " 31%|███       | 371/1200 [03:41<08:30,  1.62it/s]"
     ]
    },
    {
     "name": "stdout",
     "output_type": "stream",
     "text": [
      "max at end of edge summation 1\n",
      "threshold 2\n",
      "percent activated pixels 0.020965711805555554\n",
      "left overlapping pixels 32214; percent of total 0.9950884996756556\n",
      "right overlapping pixels 51152; percent of total 0.9987113905267679\n",
      "****update left mask run\n",
      "****update right mask run\n",
      "[0.00058631375517765412, -0.55907572828931484, 653.55663237193414]\n"
     ]
    },
    {
     "name": "stderr",
     "output_type": "stream",
     "text": [
      "\u001b[A"
     ]
    },
    {
     "name": "stdout",
     "output_type": "stream",
     "text": [
      "max at end of edge summation 2\n",
      "max at end of edge summation 2\n"
     ]
    },
    {
     "name": "stderr",
     "output_type": "stream",
     "text": [
      "\n",
      "\r",
      " 31%|███       | 372/1200 [03:41<08:30,  1.62it/s]"
     ]
    },
    {
     "name": "stdout",
     "output_type": "stream",
     "text": [
      "max at end of edge summation 1\n",
      "threshold 2\n",
      "percent activated pixels 0.02191948784722222\n",
      "left overlapping pixels 39174; percent of total 0.9984707141764796\n",
      "right overlapping pixels 53621; percent of total 0.9983615408963116\n",
      "****update left mask run\n",
      "****update right mask run\n",
      "[0.0015437723493171344, -1.00344591606974, 502.55983959511013]\n"
     ]
    },
    {
     "name": "stderr",
     "output_type": "stream",
     "text": [
      "\u001b[A"
     ]
    },
    {
     "name": "stdout",
     "output_type": "stream",
     "text": [
      "max at end of edge summation 2\n",
      "max at end of edge summation 2\n"
     ]
    },
    {
     "name": "stderr",
     "output_type": "stream",
     "text": [
      "\n",
      "\r",
      " 31%|███       | 373/1200 [03:42<08:29,  1.62it/s]"
     ]
    },
    {
     "name": "stdout",
     "output_type": "stream",
     "text": [
      "max at end of edge summation 1\n",
      "threshold 2\n",
      "percent activated pixels 0.023038194444444444\n",
      "left overlapping pixels 38343; percent of total 0.9968023709249727\n",
      "right overlapping pixels 49366; percent of total 0.9992915123175644\n",
      "****update left mask run\n",
      "****update right mask run\n",
      "[-0.0010083042522941725, 0.66321590375706729, 404.06740066529244]\n"
     ]
    },
    {
     "name": "stderr",
     "output_type": "stream",
     "text": [
      "\u001b[A"
     ]
    },
    {
     "name": "stdout",
     "output_type": "stream",
     "text": [
      "max at end of edge summation 2\n",
      "max at end of edge summation 2\n"
     ]
    },
    {
     "name": "stderr",
     "output_type": "stream",
     "text": [
      "\n",
      "\r",
      " 31%|███       | 374/1200 [03:42<08:21,  1.65it/s]"
     ]
    },
    {
     "name": "stdout",
     "output_type": "stream",
     "text": [
      "max at end of edge summation 1\n",
      "threshold 2\n",
      "percent activated pixels 0.022591145833333333\n",
      "left overlapping pixels 41282; percent of total 0.9981141199226305\n",
      "right overlapping pixels 50419; percent of total 0.9987916006339144\n",
      "****update left mask run\n",
      "****update right mask run\n",
      "[-0.0022314158311637971, 1.958154486157232, 98.549678286448966]\n"
     ]
    },
    {
     "name": "stderr",
     "output_type": "stream",
     "text": [
      "\u001b[A"
     ]
    },
    {
     "name": "stdout",
     "output_type": "stream",
     "text": [
      "max at end of edge summation 2\n",
      "max at end of edge summation 2\n"
     ]
    },
    {
     "name": "stderr",
     "output_type": "stream",
     "text": [
      "\n",
      "\r",
      " 31%|███▏      | 375/1200 [03:43<08:14,  1.67it/s]"
     ]
    },
    {
     "name": "stdout",
     "output_type": "stream",
     "text": [
      "max at end of edge summation 1\n",
      "threshold 2\n",
      "percent activated pixels 0.024594184027777778\n",
      "left overlapping pixels 37275; percent of total 0.9994101402257555\n",
      "right overlapping pixels 44291; percent of total 0.9988273233655819\n",
      "****update left mask run\n",
      "****update right mask run\n",
      "[-0.0011805594022538583, 1.279958909973655, 158.35432600500877]\n"
     ]
    },
    {
     "name": "stderr",
     "output_type": "stream",
     "text": [
      "\u001b[A"
     ]
    },
    {
     "name": "stdout",
     "output_type": "stream",
     "text": [
      "max at end of edge summation 2\n",
      "max at end of edge summation 2\n"
     ]
    },
    {
     "name": "stderr",
     "output_type": "stream",
     "text": [
      "\n",
      "\r",
      " 31%|███▏      | 376/1200 [03:44<08:15,  1.66it/s]"
     ]
    },
    {
     "name": "stdout",
     "output_type": "stream",
     "text": [
      "max at end of edge summation 1\n",
      "threshold 2\n",
      "percent activated pixels 0.023974609375\n",
      "left overlapping pixels 38866; percent of total 0.9990745977070588\n",
      "right overlapping pixels 43424; percent of total 0.9994016110471806\n",
      "****update left mask run\n",
      "****update right mask run\n",
      "[-0.0011320140696837097, 1.2886027617512184, 129.82856384855125]\n"
     ]
    },
    {
     "name": "stderr",
     "output_type": "stream",
     "text": [
      "\u001b[A"
     ]
    },
    {
     "name": "stdout",
     "output_type": "stream",
     "text": [
      "max at end of edge summation 2\n",
      "max at end of edge summation 2\n"
     ]
    },
    {
     "name": "stderr",
     "output_type": "stream",
     "text": [
      "\n",
      "\r",
      " 31%|███▏      | 377/1200 [03:44<08:04,  1.70it/s]"
     ]
    },
    {
     "name": "stdout",
     "output_type": "stream",
     "text": [
      "max at end of edge summation 1\n",
      "threshold 2\n",
      "percent activated pixels 0.022798394097222223\n",
      "left overlapping pixels 37096; percent of total 1.0\n",
      "right overlapping pixels 36890; percent of total 0.9986734887246541\n",
      "****update left mask run\n",
      "****update right mask run\n",
      "[0.00051451897807074163, -0.20001506771970623, 441.04982143221559]\n"
     ]
    },
    {
     "name": "stderr",
     "output_type": "stream",
     "text": [
      "\u001b[A"
     ]
    },
    {
     "name": "stdout",
     "output_type": "stream",
     "text": [
      "max at end of edge summation 2\n",
      "max at end of edge summation 2\n"
     ]
    },
    {
     "name": "stderr",
     "output_type": "stream",
     "text": [
      "\n",
      "\r",
      " 32%|███▏      | 378/1200 [03:45<08:08,  1.68it/s]"
     ]
    },
    {
     "name": "stdout",
     "output_type": "stream",
     "text": [
      "max at end of edge summation 1\n",
      "threshold 2\n",
      "percent activated pixels 0.02228949652777778\n",
      "left overlapping pixels 39081; percent of total 0.9998464962775347\n",
      "right overlapping pixels 33975; percent of total 0.9983544415385972\n",
      "****update left mask run\n",
      "****update right mask run\n",
      "[-0.00023759516731598903, 0.10391939766049452, 438.02107799549287]\n"
     ]
    },
    {
     "name": "stderr",
     "output_type": "stream",
     "text": [
      "\u001b[A"
     ]
    },
    {
     "name": "stdout",
     "output_type": "stream",
     "text": [
      "max at end of edge summation 2\n",
      "max at end of edge summation 2\n"
     ]
    },
    {
     "name": "stderr",
     "output_type": "stream",
     "text": [
      "\n",
      "\r",
      " 32%|███▏      | 379/1200 [03:45<08:10,  1.67it/s]"
     ]
    },
    {
     "name": "stdout",
     "output_type": "stream",
     "text": [
      "max at end of edge summation 1\n",
      "threshold 2\n",
      "percent activated pixels 0.022608506944444443\n",
      "left overlapping pixels 39871; percent of total 0.9997993931643221\n",
      "right overlapping pixels 31252; percent of total 0.9994243684042213\n",
      "****update left mask run\n",
      "****update right mask run\n",
      "[-0.002565478498495173, 2.0604339926007342, 91.884625678193032]\n"
     ]
    },
    {
     "name": "stderr",
     "output_type": "stream",
     "text": [
      "\u001b[A"
     ]
    },
    {
     "name": "stdout",
     "output_type": "stream",
     "text": [
      "max at end of edge summation 2\n",
      "max at end of edge summation 2\n"
     ]
    },
    {
     "name": "stderr",
     "output_type": "stream",
     "text": [
      "\n",
      "\r",
      " 32%|███▏      | 380/1200 [03:46<08:01,  1.70it/s]"
     ]
    },
    {
     "name": "stdout",
     "output_type": "stream",
     "text": [
      "max at end of edge summation 1\n",
      "threshold 2\n",
      "percent activated pixels 0.021929253472222222\n",
      "left overlapping pixels 40474; percent of total 0.9997776844601438\n",
      "right overlapping pixels 27020; percent of total 0.9984111148061929\n",
      "****update left mask run\n",
      "****update right mask run\n",
      "[-0.0013410205752198761, 1.0376400773162056, 261.59350946190602]\n"
     ]
    },
    {
     "name": "stderr",
     "output_type": "stream",
     "text": [
      "\u001b[A"
     ]
    },
    {
     "name": "stdout",
     "output_type": "stream",
     "text": [
      "max at end of edge summation 2\n",
      "max at end of edge summation 2\n"
     ]
    },
    {
     "name": "stderr",
     "output_type": "stream",
     "text": [
      "\n",
      "\r",
      " 32%|███▏      | 381/1200 [03:47<08:00,  1.71it/s]"
     ]
    },
    {
     "name": "stdout",
     "output_type": "stream",
     "text": [
      "max at end of edge summation 1\n",
      "threshold 2\n",
      "percent activated pixels 0.022655164930555555\n",
      "left overlapping pixels 40851; percent of total 1.0\n",
      "right overlapping pixels 26393; percent of total 0.9978072662659256\n",
      "****update left mask run\n",
      "****update right mask run\n",
      "[0.00012889516670051767, -0.1414887305506885, 427.94422417035213]\n"
     ]
    },
    {
     "name": "stderr",
     "output_type": "stream",
     "text": [
      "\u001b[A"
     ]
    },
    {
     "name": "stdout",
     "output_type": "stream",
     "text": [
      "max at end of edge summation 2\n",
      "max at end of edge summation 2\n"
     ]
    },
    {
     "name": "stderr",
     "output_type": "stream",
     "text": [
      "\n",
      "\r",
      " 32%|███▏      | 382/1200 [03:47<07:58,  1.71it/s]"
     ]
    },
    {
     "name": "stdout",
     "output_type": "stream",
     "text": [
      "max at end of edge summation 1\n",
      "threshold 2\n",
      "percent activated pixels 0.02272243923611111\n",
      "left overlapping pixels 43348; percent of total 1.0\n",
      "right overlapping pixels 23474; percent of total 0.9974081155725515\n",
      "****update left mask run\n",
      "****update right mask run\n",
      "[0.0013840959028047057, -1.0378209798439493, 515.47441276708651]\n"
     ]
    },
    {
     "name": "stderr",
     "output_type": "stream",
     "text": [
      "\u001b[A"
     ]
    },
    {
     "name": "stdout",
     "output_type": "stream",
     "text": [
      "max at end of edge summation 2\n",
      "max at end of edge summation 2\n"
     ]
    },
    {
     "name": "stderr",
     "output_type": "stream",
     "text": [
      "\n",
      "\r",
      " 32%|███▏      | 383/1200 [03:48<07:59,  1.70it/s]"
     ]
    },
    {
     "name": "stdout",
     "output_type": "stream",
     "text": [
      "max at end of edge summation 1\n",
      "threshold 2\n",
      "percent activated pixels 0.022074652777777776\n",
      "left overlapping pixels 42039; percent of total 0.9997621822159861\n",
      "right overlapping pixels 21736; percent of total 0.9980256210110657\n",
      "****update left mask run\n",
      "****update right mask run\n",
      "[0.0012983606910516564, -0.95749513615368387, 490.98188608395742]\n"
     ]
    },
    {
     "name": "stderr",
     "output_type": "stream",
     "text": [
      "\u001b[A"
     ]
    },
    {
     "name": "stdout",
     "output_type": "stream",
     "text": [
      "max at end of edge summation 2\n",
      "max at end of edge summation 2\n"
     ]
    },
    {
     "name": "stderr",
     "output_type": "stream",
     "text": [
      "\n",
      "\r",
      " 32%|███▏      | 384/1200 [03:48<07:54,  1.72it/s]"
     ]
    },
    {
     "name": "stdout",
     "output_type": "stream",
     "text": [
      "max at end of edge summation 1\n",
      "threshold 2\n",
      "percent activated pixels 0.021322699652777777\n",
      "left overlapping pixels 41377; percent of total 0.9998550129280139\n",
      "right overlapping pixels 18508; percent of total 0.998004853060124\n",
      "****update left mask run\n",
      "****update right mask run\n",
      "[-0.0007551145700622244, 0.80083161325181895, 156.42448783844048]\n"
     ]
    },
    {
     "name": "stderr",
     "output_type": "stream",
     "text": [
      "\u001b[A"
     ]
    },
    {
     "name": "stdout",
     "output_type": "stream",
     "text": [
      "max at end of edge summation 2\n",
      "max at end of edge summation 2\n"
     ]
    },
    {
     "name": "stderr",
     "output_type": "stream",
     "text": [
      "\n",
      "\r",
      " 32%|███▏      | 385/1200 [03:49<08:01,  1.69it/s]"
     ]
    },
    {
     "name": "stdout",
     "output_type": "stream",
     "text": [
      "max at end of edge summation 1\n",
      "threshold 2\n",
      "percent activated pixels 0.022957899305555557\n",
      "left overlapping pixels 48967; percent of total 0.9997345855451204\n",
      "right overlapping pixels 18743; percent of total 0.9981361167323464\n",
      "****update left mask run\n",
      "****update right mask run\n",
      "[-0.0018792890686066348, 1.8002372522037942, -45.505451783782789]\n"
     ]
    },
    {
     "name": "stderr",
     "output_type": "stream",
     "text": [
      "\u001b[A"
     ]
    },
    {
     "name": "stdout",
     "output_type": "stream",
     "text": [
      "max at end of edge summation 2\n",
      "max at end of edge summation 2\n"
     ]
    },
    {
     "name": "stderr",
     "output_type": "stream",
     "text": [
      "\n",
      "\r",
      " 32%|███▏      | 386/1200 [03:49<07:54,  1.72it/s]"
     ]
    },
    {
     "name": "stdout",
     "output_type": "stream",
     "text": [
      "max at end of edge summation 1\n",
      "threshold 2\n",
      "percent activated pixels 0.021510416666666667\n",
      "left overlapping pixels 42507; percent of total 0.9997883149872989\n",
      "right overlapping pixels 15579; percent of total 0.998589833985001\n",
      "****update left mask run\n",
      "****update right mask run\n",
      "[-0.00048256830197504908, 0.43047549321150896, 271.51838096598613]\n"
     ]
    },
    {
     "name": "stderr",
     "output_type": "stream",
     "text": [
      "\u001b[A"
     ]
    },
    {
     "name": "stdout",
     "output_type": "stream",
     "text": [
      "max at end of edge summation 2\n",
      "max at end of edge summation 2\n"
     ]
    },
    {
     "name": "stderr",
     "output_type": "stream",
     "text": [
      "\n",
      "\r",
      " 32%|███▏      | 387/1200 [03:50<08:00,  1.69it/s]"
     ]
    },
    {
     "name": "stdout",
     "output_type": "stream",
     "text": [
      "max at end of edge summation 1\n",
      "threshold 2\n",
      "percent activated pixels 0.0215625\n",
      "left overlapping pixels 39892; percent of total 0.9995740309203438\n",
      "right overlapping pixels 14279; percent of total 1.0\n",
      "****update left mask run\n",
      "****update right mask run\n",
      "[3.7959218843283292e-05, -0.027242918268918573, 357.38992994312082]\n"
     ]
    },
    {
     "name": "stderr",
     "output_type": "stream",
     "text": [
      "\u001b[A"
     ]
    },
    {
     "name": "stdout",
     "output_type": "stream",
     "text": [
      "max at end of edge summation 2\n",
      "max at end of edge summation 2\n"
     ]
    },
    {
     "name": "stderr",
     "output_type": "stream",
     "text": [
      "\n",
      "\r",
      " 32%|███▏      | 388/1200 [03:51<07:56,  1.70it/s]"
     ]
    },
    {
     "name": "stdout",
     "output_type": "stream",
     "text": [
      "max at end of edge summation 1\n",
      "threshold 2\n",
      "percent activated pixels 0.020581597222222223\n",
      "left overlapping pixels 34657; percent of total 1.0\n",
      "right overlapping pixels 11802; percent of total 1.0\n",
      "****update left mask run\n",
      "****update right mask run\n",
      "[0.00051140315244619251, -0.35378044519985502, 382.42756969974369]\n"
     ]
    },
    {
     "name": "stderr",
     "output_type": "stream",
     "text": [
      "\u001b[A"
     ]
    },
    {
     "name": "stdout",
     "output_type": "stream",
     "text": [
      "max at end of edge summation 2\n",
      "max at end of edge summation 2\n"
     ]
    },
    {
     "name": "stderr",
     "output_type": "stream",
     "text": [
      "\n",
      "\r",
      " 32%|███▏      | 389/1200 [03:51<08:13,  1.64it/s]"
     ]
    },
    {
     "name": "stdout",
     "output_type": "stream",
     "text": [
      "max at end of edge summation 1\n",
      "threshold 2\n",
      "percent activated pixels 0.02160915798611111\n",
      "left overlapping pixels 28764; percent of total 1.0\n",
      "right overlapping pixels 10410; percent of total 1.0\n",
      "****update left mask run\n",
      "****update right mask run\n",
      "[0.00024361909685678663, -0.095318030438640622, 313.87281921360204]\n"
     ]
    },
    {
     "name": "stderr",
     "output_type": "stream",
     "text": [
      "\u001b[A"
     ]
    },
    {
     "name": "stdout",
     "output_type": "stream",
     "text": [
      "max at end of edge summation 2\n",
      "max at end of edge summation 2\n"
     ]
    },
    {
     "name": "stderr",
     "output_type": "stream",
     "text": [
      "\n",
      "\r",
      " 32%|███▎      | 390/1200 [03:52<08:15,  1.63it/s]"
     ]
    },
    {
     "name": "stdout",
     "output_type": "stream",
     "text": [
      "max at end of edge summation 1\n",
      "threshold 2\n",
      "percent activated pixels 0.019925130208333332\n",
      "left overlapping pixels 24974; percent of total 1.0\n",
      "right overlapping pixels 10453; percent of total 1.0\n",
      "****update left mask run\n",
      "****update right mask run\n",
      "[0.0018617096573668905, -1.3792906024269678, 509.63318941012858]\n"
     ]
    },
    {
     "name": "stderr",
     "output_type": "stream",
     "text": [
      "\u001b[A"
     ]
    },
    {
     "name": "stdout",
     "output_type": "stream",
     "text": [
      "max at end of edge summation 2\n",
      "max at end of edge summation 2\n"
     ]
    },
    {
     "name": "stderr",
     "output_type": "stream",
     "text": [
      "\n",
      "\r",
      " 33%|███▎      | 391/1200 [03:53<08:18,  1.62it/s]"
     ]
    },
    {
     "name": "stdout",
     "output_type": "stream",
     "text": [
      "max at end of edge summation 1\n",
      "threshold 2\n",
      "percent activated pixels 0.023651258680555554\n",
      "left overlapping pixels 21833; percent of total 1.0\n",
      "right overlapping pixels 14498; percent of total 0.9984848484848485\n",
      "****update left mask run\n",
      "****update right mask run\n",
      "[0.00049750118478307677, -0.48004295830697319, 502.65648864308901]\n"
     ]
    },
    {
     "name": "stderr",
     "output_type": "stream",
     "text": [
      "\u001b[A"
     ]
    },
    {
     "name": "stdout",
     "output_type": "stream",
     "text": [
      "max at end of edge summation 2\n",
      "max at end of edge summation 2\n"
     ]
    },
    {
     "name": "stderr",
     "output_type": "stream",
     "text": [
      "\n",
      "\r",
      " 33%|███▎      | 392/1200 [03:53<08:06,  1.66it/s]"
     ]
    },
    {
     "name": "stdout",
     "output_type": "stream",
     "text": [
      "max at end of edge summation 1\n",
      "threshold 2\n",
      "percent activated pixels 0.022697482638888888\n",
      "left overlapping pixels 23819; percent of total 1.0\n",
      "right overlapping pixels 14431; percent of total 0.9927765547605943\n",
      "****update left mask run\n",
      "****update right mask run\n",
      "[0.0014418733112994478, -1.1667891350127952, 567.60834385304088]\n"
     ]
    },
    {
     "name": "stderr",
     "output_type": "stream",
     "text": [
      "\u001b[A"
     ]
    },
    {
     "name": "stdout",
     "output_type": "stream",
     "text": [
      "max at end of edge summation 2\n",
      "max at end of edge summation 2\n"
     ]
    },
    {
     "name": "stderr",
     "output_type": "stream",
     "text": [
      "\n",
      "\r",
      " 33%|███▎      | 393/1200 [03:54<08:06,  1.66it/s]"
     ]
    },
    {
     "name": "stdout",
     "output_type": "stream",
     "text": [
      "max at end of edge summation 1\n",
      "threshold 2\n",
      "percent activated pixels 0.022618272569444445\n",
      "left overlapping pixels 21468; percent of total 1.0\n",
      "right overlapping pixels 17700; percent of total 0.9958366152807472\n",
      "****update left mask run\n",
      "****update right mask run\n",
      "[0.0013130550785649679, -1.1168470249878293, 571.3302311614633]\n"
     ]
    },
    {
     "name": "stderr",
     "output_type": "stream",
     "text": [
      "\u001b[A"
     ]
    },
    {
     "name": "stdout",
     "output_type": "stream",
     "text": [
      "max at end of edge summation 2\n",
      "max at end of edge summation 2\n"
     ]
    },
    {
     "name": "stderr",
     "output_type": "stream",
     "text": [
      "\n",
      "\r",
      " 33%|███▎      | 394/1200 [03:54<08:12,  1.64it/s]"
     ]
    },
    {
     "name": "stdout",
     "output_type": "stream",
     "text": [
      "max at end of edge summation 1\n",
      "threshold 2\n",
      "percent activated pixels 0.023873697916666665\n",
      "left overlapping pixels 19907; percent of total 0.9996986892984483\n",
      "right overlapping pixels 17846; percent of total 0.9968718578929728\n",
      "****update left mask run\n",
      "****update right mask run\n",
      "[0.00075839195701545318, -1.0331036125598985, 711.81080852577338]\n"
     ]
    },
    {
     "name": "stderr",
     "output_type": "stream",
     "text": [
      "\u001b[A"
     ]
    },
    {
     "name": "stdout",
     "output_type": "stream",
     "text": [
      "max at end of edge summation 2\n",
      "max at end of edge summation 2\n"
     ]
    },
    {
     "name": "stderr",
     "output_type": "stream",
     "text": [
      "\n",
      "\r",
      " 33%|███▎      | 395/1200 [03:55<07:57,  1.69it/s]"
     ]
    },
    {
     "name": "stdout",
     "output_type": "stream",
     "text": [
      "max at end of edge summation 1\n",
      "threshold 2\n",
      "percent activated pixels 0.021896701388888887\n",
      "left overlapping pixels 17264; percent of total 0.9990162606330653\n",
      "right overlapping pixels 20105; percent of total 0.9976182206123158\n",
      "****update left mask run\n",
      "****update right mask run\n",
      "[0.0048229980243357593, -3.7885673494515717, 919.38311025722567]\n"
     ]
    },
    {
     "name": "stderr",
     "output_type": "stream",
     "text": [
      "\u001b[A"
     ]
    },
    {
     "name": "stdout",
     "output_type": "stream",
     "text": [
      "max at end of edge summation 2\n",
      "max at end of edge summation 2\n"
     ]
    },
    {
     "name": "stderr",
     "output_type": "stream",
     "text": [
      "\n",
      "\r",
      " 33%|███▎      | 396/1200 [03:56<08:04,  1.66it/s]"
     ]
    },
    {
     "name": "stdout",
     "output_type": "stream",
     "text": [
      "max at end of edge summation 1\n",
      "threshold 2\n",
      "percent activated pixels 0.022757161458333335\n",
      "left overlapping pixels 16436; percent of total 1.0\n",
      "right overlapping pixels 20614; percent of total 0.9987403100775194\n",
      "****update left mask run\n",
      "****update right mask run\n",
      "[0.0030848289296331183, -2.2803312153007571, 627.06857556842874]\n"
     ]
    },
    {
     "name": "stderr",
     "output_type": "stream",
     "text": [
      "\u001b[A"
     ]
    },
    {
     "name": "stdout",
     "output_type": "stream",
     "text": [
      "max at end of edge summation 2\n",
      "max at end of edge summation 2\n"
     ]
    },
    {
     "name": "stderr",
     "output_type": "stream",
     "text": [
      "\n",
      "\r",
      " 33%|███▎      | 397/1200 [03:56<08:02,  1.67it/s]"
     ]
    },
    {
     "name": "stdout",
     "output_type": "stream",
     "text": [
      "max at end of edge summation 1\n",
      "threshold 2\n",
      "percent activated pixels 0.022661675347222222\n",
      "left overlapping pixels 17543; percent of total 1.0\n",
      "right overlapping pixels 20989; percent of total 0.9979080492559311\n",
      "****update left mask run\n",
      "****update right mask run\n",
      "[-0.00010697667977621649, -0.20635398354358042, 495.21672560618276]\n"
     ]
    },
    {
     "name": "stderr",
     "output_type": "stream",
     "text": [
      "\u001b[A"
     ]
    },
    {
     "name": "stdout",
     "output_type": "stream",
     "text": [
      "max at end of edge summation 2\n",
      "max at end of edge summation 2\n"
     ]
    },
    {
     "name": "stderr",
     "output_type": "stream",
     "text": [
      "\n",
      "\r",
      " 33%|███▎      | 398/1200 [03:57<08:04,  1.66it/s]"
     ]
    },
    {
     "name": "stdout",
     "output_type": "stream",
     "text": [
      "max at end of edge summation 1\n",
      "threshold 2\n",
      "percent activated pixels 0.021223958333333334\n",
      "left overlapping pixels 19457; percent of total 1.0\n",
      "right overlapping pixels 20856; percent of total 0.9991855507114454\n",
      "****update left mask run\n",
      "****update right mask run\n",
      "[0.00023981086553789041, -0.51902347231008816, 556.54503785637019]\n"
     ]
    },
    {
     "name": "stderr",
     "output_type": "stream",
     "text": [
      "\u001b[A"
     ]
    },
    {
     "name": "stdout",
     "output_type": "stream",
     "text": [
      "max at end of edge summation 2\n",
      "max at end of edge summation 2\n"
     ]
    },
    {
     "name": "stderr",
     "output_type": "stream",
     "text": [
      "\n",
      "\r",
      " 33%|███▎      | 399/1200 [03:57<08:05,  1.65it/s]"
     ]
    },
    {
     "name": "stdout",
     "output_type": "stream",
     "text": [
      "max at end of edge summation 1\n",
      "threshold 2\n",
      "percent activated pixels 0.022994791666666667\n",
      "left overlapping pixels 16431; percent of total 1.0\n",
      "right overlapping pixels 28356; percent of total 0.9980290018302126\n",
      "****update left mask run\n",
      "****update right mask run\n",
      "[0.0018196113911507466, -1.7462605525057311, 724.79804085630906]\n"
     ]
    },
    {
     "name": "stderr",
     "output_type": "stream",
     "text": [
      "\u001b[A"
     ]
    }
   ],
   "source": [
    "import glob\n",
    "import numpy as np\n",
    "import cv2\n",
    "import pickle\n",
    "from moviepy.editor import VideoFileClip\n",
    "\n",
    "\n",
    "src_dir = './'\n",
    "out_dir = './all_together_output/'\n",
    "\n",
    "\n",
    "#comment and uncomment the line below to select different\n",
    "#movies.  Be careful because file output sizes are large\n",
    "#and can take 10 minutes to write\n",
    "\n",
    "#movies = glob.glob(src_dir+'project_video.mp4')\n",
    "#movies = glob.glob(src_dir+'challenge_video.mp4')\n",
    "movies = glob.glob(src_dir+'harder_challenge_video.mp4')\n",
    "#movies = glob.glob(src_dir+'*.mp4')\n",
    "\n",
    "kernel = np.ones((2,2),np.uint8)\n",
    "\n",
    "#make these line points holder global\n",
    "#left_start_inds,left_stop_inds,left_peak_inds,left_mean_inds = [],[],[],[]\n",
    "#right_start_inds,right_stop_inds,right_peak_inds,right_mean_inds = [],[],[],[]\n",
    "l_inds = [[],[],[],[]]\n",
    "r_inds = [[],[],[],[]]\n",
    "\n",
    "#flags to toggle depeding if refiting of the polylines is needed\n",
    "left_poly_update_status = False\n",
    "right_poly_update_status = False\n",
    "\n",
    "#used to count how many times polyline updating is skipped\n",
    "left_no_pix = 0\n",
    "right_no_pix = 0\n",
    "\n",
    "#stores the present history of lines (about 20)\n",
    "#this is used for averaging and smoothing out outlier \n",
    "left_xfits = [[],[],[],[]]\n",
    "right_xfits = [[],[],[],[]]\n",
    "center_fits = [[]]\n",
    "\n",
    "#stores present history of curvatures and offsets\n",
    "curvatures = []\n",
    "offsets = []\n",
    "#movies = glob.glob(src_dir+'harder_challenge_video.mp4')\n",
    "#yp is global; it only needs to be calculated once\n",
    "yp = np.linspace(1, 720, 100)\n",
    "overall_mask = np.zeros([720,1280], np.uint8)\n",
    "\n",
    "#ToDo: determine left and right side with histo\n",
    "left = [0,640]\n",
    "right = [640, 1280]\n",
    "\n",
    "pts = np.array([[581,477],[699,477],[896,675],[384,675]],dtype = \"float32\")\n",
    "dst = np.array([[384,0],[896,0],[896,720],[384,720]],dtype = \"float32\")\n",
    "M = cv2.getPerspectiveTransform(pts, dst)\n",
    "print(M)\n",
    "Minv = cv2.invert(M)\n",
    "print(Minv)\n",
    "\n",
    "Mt = cv2.getPerspectiveTransform(dst, pts)\n",
    "print(Mt)\n",
    "\n",
    "##Loop over movies in the src directory\n",
    "with open('camera.pickle', 'rb') as handle:\n",
    "    (dist, mtx) = pickle.load(handle)\n",
    "\n",
    "framenumber = 0\n",
    "\n",
    "for movie in movies:\n",
    "   print(movie)\n",
    "   outfile = movie.replace(src_dir,out_dir)\n",
    "   \n",
    "   input_clip = VideoFileClip(movie)\n",
    "   #start = input_clip.duration/2\n",
    "   #input_clip = input_clip.subclip(1,10)\n",
    "   \n",
    "   #print(type(process_image))\n",
    "   clip = input_clip.fl_image(process_image) \n",
    "   framenumber += 1\n",
    "    \n",
    "   clip.write_videofile(outfile, audio=False)"
   ]
  },
  {
   "cell_type": "code",
   "execution_count": null,
   "metadata": {},
   "outputs": [],
   "source": []
  },
  {
   "cell_type": "markdown",
   "metadata": {},
   "source": [
    "## "
   ]
  },
  {
   "cell_type": "code",
   "execution_count": null,
   "metadata": {},
   "outputs": [],
   "source": []
  }
 ],
 "metadata": {
  "kernelspec": {
   "display_name": "Python 3",
   "language": "python",
   "name": "python3"
  },
  "language_info": {
   "codemirror_mode": {
    "name": "ipython",
    "version": 3
   },
   "file_extension": ".py",
   "mimetype": "text/x-python",
   "name": "python",
   "nbconvert_exporter": "python",
   "pygments_lexer": "ipython3",
   "version": "3.6.3"
  }
 },
 "nbformat": 4,
 "nbformat_minor": 2
}
